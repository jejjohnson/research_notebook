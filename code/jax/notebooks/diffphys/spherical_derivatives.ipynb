{
 "cells": [
  {
   "cell_type": "code",
   "execution_count": null,
   "id": "655924ce-dcd2-4c1f-9a1c-c5a1d00db589",
   "metadata": {
    "tags": []
   },
   "outputs": [],
   "source": [
    "import numpy as np\n",
    "import os\n",
    "\n",
    "os.environ[\"KERAS_BACKEND\"] = \"jax\"\n",
    "import keras\n",
    "import xarray as xr\n",
    "import jax.numpy as jnp\n",
    "from jaxtyping import Array, Float\n",
    "import matplotlib.pyplot as plt\n",
    "from jax import config\n",
    "import metpy\n",
    "\n",
    "config.update(\"jax_enable_x64\", True)"
   ]
  },
  {
   "cell_type": "code",
   "execution_count": null,
   "id": "f1b1a5e9-2c00-4be7-bcec-4c9984249efe",
   "metadata": {
    "tags": []
   },
   "outputs": [],
   "source": [
    "import toolz\n",
    "\n",
    "\n",
    "def validate_lon(ds):\n",
    "    new_ds = ds.copy()\n",
    "\n",
    "    new_ds[\"lon\"] = (ds.lon + 180) % 360 - 180\n",
    "\n",
    "    attrs = toolz.dicttoolz.merge(\n",
    "        ds.lon.attrs,\n",
    "        dict(\n",
    "            units=\"degrees_east\",\n",
    "            standard_name=\"longitude\",\n",
    "            long_name=\"Longitude\",\n",
    "            actual_range=[new_ds.lon.values.min(), new_ds.lon.values.max()],\n",
    "        ),\n",
    "    )\n",
    "    new_ds[\"lon\"] = new_ds.lon.assign_attrs(attrs)\n",
    "\n",
    "    new_ds = new_ds.sortby(\"lon\")\n",
    "    return new_ds\n",
    "\n",
    "\n",
    "def validate_lat(ds):\n",
    "    new_ds = ds.copy()\n",
    "    new_ds[\"lat\"] = (ds.lat + 90) % 180 - 90\n",
    "\n",
    "    attrs = toolz.dicttoolz.merge(\n",
    "        ds.lat.attrs,\n",
    "        dict(\n",
    "            units=\"degrees_north\",\n",
    "            standard_name=\"latitude\",\n",
    "            long_name=\"Latitude\",\n",
    "            actual_range=[new_ds.lat.values.min(), new_ds.lat.values.max()],\n",
    "        ),\n",
    "    )\n",
    "\n",
    "    new_ds[\"lat\"] = new_ds.lat.assign_attrs(attrs)\n",
    "\n",
    "    new_ds = new_ds.sortby(\"lat\")\n",
    "\n",
    "    return new_ds\n",
    "\n",
    "\n",
    "def validate_sst(ds: xr.Dataset, variable: str = \"sst\") -> xr.Dataset:\n",
    "    \"\"\"Assign sst attributes to variable\"\"\"\n",
    "    ds = ds.copy()\n",
    "    attrs = toolz.dicttoolz.merge(\n",
    "        ds[variable].attrs,\n",
    "        dict(\n",
    "            units=\"degC\",\n",
    "            standard_name=\"sea_surface_temperature\",\n",
    "            long_name=\"Sea Surface Temperature\",\n",
    "        ),\n",
    "    )\n",
    "    ds[variable] = ds[variable].assign_attrs(attrs)\n",
    "\n",
    "    return ds"
   ]
  },
  {
   "cell_type": "markdown",
   "id": "53382128-1de3-4e67-a3c7-87993ef8ba1b",
   "metadata": {},
   "source": [
    "# Data"
   ]
  },
  {
   "cell_type": "code",
   "execution_count": null,
   "id": "8e523d04-46e8-4306-8d26-c5fde1b26142",
   "metadata": {
    "tags": []
   },
   "outputs": [],
   "source": [
    "ds = xr.tutorial.open_dataset(\"ersstv5\")\n",
    "ds = validate_sst(validate_lat(validate_lon(ds)))\n",
    "da = ds[\"sst\"]\n",
    "# da"
   ]
  },
  {
   "cell_type": "code",
   "execution_count": null,
   "id": "979053e0-77b5-4449-92aa-210ff5a18a4d",
   "metadata": {
    "tags": []
   },
   "outputs": [],
   "source": [
    "da"
   ]
  },
  {
   "cell_type": "code",
   "execution_count": null,
   "id": "798c0c6e-d0b2-43d8-87d0-2907ad3d68ab",
   "metadata": {
    "tags": []
   },
   "outputs": [],
   "source": [
    "# Mean of equitorial and polar radius\n",
    "EARTH_RADIUS_M = 1000 * (6357 + 6378) / 2\n",
    "METERS_PER_DEGREE = 2 * np.pi * EARTH_RADIUS_M / 360"
   ]
  },
  {
   "cell_type": "code",
   "execution_count": null,
   "id": "ce69b350-58cc-4091-9fda-04602dbb9984",
   "metadata": {
    "tags": []
   },
   "outputs": [],
   "source": [
    "import finitediffx as fdx"
   ]
  },
  {
   "cell_type": "code",
   "execution_count": null,
   "id": "4c3b7333-84e4-478d-9819-841bf9a6c0f3",
   "metadata": {
    "tags": []
   },
   "outputs": [],
   "source": [
    "subset: Float[Array, \"Dx Dy\"] = da.transpose(\"time\", \"lon\", \"lat\").isel(time=0)\n",
    "dx: Float[Array, \"Dx\"] = da.coords[\"lon\"]\n",
    "\n",
    "assert dx.shape[0] == subset.shape[0]"
   ]
  },
  {
   "cell_type": "code",
   "execution_count": null,
   "id": "51251318-44ce-4ed4-86c7-375153c133ca",
   "metadata": {
    "tags": []
   },
   "outputs": [],
   "source": [
    "subset.shape, dx.shape"
   ]
  },
  {
   "cell_type": "code",
   "execution_count": null,
   "id": "789cbbea-a581-4556-bf9f-3460ff93a3a6",
   "metadata": {
    "tags": []
   },
   "outputs": [],
   "source": [
    "fd_out = fdx.difference(\n",
    "    subset.values, axis=0, step_size=(dx[1] - dx[0]).values, method=\"central\"\n",
    ")\n",
    "# fd_out = fdx.difference(subset, axis=0, method=\"central\") / (dx[1]-dx[0])\n",
    "# fd_out = jnp.gradient(subset, dx[:,None], axis=0)"
   ]
  },
  {
   "cell_type": "code",
   "execution_count": null,
   "id": "18356136-0cbd-4a54-8d55-6332d0618aa7",
   "metadata": {
    "tags": []
   },
   "outputs": [],
   "source": [
    "xr_out = da.transpose(\"time\", \"lon\", \"lat\").isel(time=0).differentiate(\"lon\")"
   ]
  },
  {
   "cell_type": "code",
   "execution_count": null,
   "id": "94907486-1031-4c9c-b293-15369beacb78",
   "metadata": {
    "tags": []
   },
   "outputs": [],
   "source": [
    "# np.testing.assert_array_almost_equal(fd_out, xr_out.values, decimal=0)"
   ]
  },
  {
   "cell_type": "code",
   "execution_count": null,
   "id": "97ceea60-1783-4962-b429-b381191373db",
   "metadata": {
    "tags": []
   },
   "outputs": [],
   "source": [
    "fig, ax = plt.subplots()\n",
    "\n",
    "ax.imshow(xr_out.T, origin=\"lower\")\n",
    "\n",
    "plt.show()"
   ]
  },
  {
   "cell_type": "code",
   "execution_count": null,
   "id": "27f7ce64-0868-4213-aafe-7b50fb0a6ea4",
   "metadata": {
    "tags": []
   },
   "outputs": [],
   "source": [
    "xr_out.min(), xr_out.max(), fd_out.min(), fd_out.max()"
   ]
  },
  {
   "cell_type": "code",
   "execution_count": null,
   "id": "1c49b106-9802-4f2d-a636-fe66e294add3",
   "metadata": {
    "tags": []
   },
   "outputs": [],
   "source": [
    "fig, ax = plt.subplots()\n",
    "\n",
    "ax.imshow(fd_out.T, origin=\"lower\")\n",
    "\n",
    "plt.show()"
   ]
  },
  {
   "cell_type": "code",
   "execution_count": null,
   "id": "e5ec1ad2-c52e-42bf-aec3-42b11637e0a7",
   "metadata": {
    "tags": []
   },
   "outputs": [],
   "source": [
    "fig, ax = plt.subplots()\n",
    "\n",
    "pts = ax.imshow(np.abs(fd_out.T - xr_out.T), origin=\"lower\", cmap=\"Reds\")\n",
    "\n",
    "plt.colorbar(pts)\n",
    "\n",
    "plt.show()"
   ]
  },
  {
   "cell_type": "code",
   "execution_count": null,
   "id": "485fed92-e68b-4313-80ba-77c058a49e10",
   "metadata": {
    "tags": []
   },
   "outputs": [],
   "source": [
    "xr_out.values.shape, fd_out.shape"
   ]
  },
  {
   "cell_type": "code",
   "execution_count": null,
   "id": "6ae8b764-61f2-4ee9-a37d-c2c93d0ff435",
   "metadata": {
    "tags": []
   },
   "outputs": [],
   "source": [
    "import typing as tp\n",
    "\n",
    "\n",
    "def derivative_longitude(field: xr.DataArray) -> xr.DataArray:\n",
    "    latitude = field.coords[\"lat\"]\n",
    "    cos_theta = np.cos(np.deg2rad(latitude))\n",
    "    # TODO(shoyer): use a custom calculation with roll() instead of\n",
    "    # differentiate() to calculate rolling over 360 to 0 degrees properly.\n",
    "    return field.differentiate(\"lon\") / cos_theta / METERS_PER_DEGREE\n",
    "\n",
    "\n",
    "def derivative_latitude(field: xr.DataArray) -> xr.DataArray:\n",
    "    return field.differentiate(\"lat\") / METERS_PER_DEGREE\n",
    "\n",
    "\n",
    "def derivative_radius(field: xr.DataArray) -> xr.DataArray:\n",
    "    return field.differentiate(\"height\") / METERS_PER_DEGREE**2\n",
    "\n",
    "\n",
    "def divergence(u: xr.DataArray, v: xr.DataArray) -> xr.DataArray:\n",
    "    return derivative_longitude(u) + derivative_latitude(v)\n",
    "\n",
    "\n",
    "def curl_k(u: xr.DataArray, v: xr.DataArray) -> xr.DataArray:\n",
    "    return derivative_longitude(v) - derivative_latitude(u)\n",
    "\n",
    "\n",
    "def _geostrophic_wind(\n",
    "    geopotential: xr.DataArray,\n",
    ") -> tp.Tuple[xr.DataArray, xr.DataArray]:\n",
    "    omega = 7.292e-5  # radians / second\n",
    "    coriolis_parameter = 2 * omega * np.sin(np.deg2rad(geopotential.coords[\"latitude\"]))\n",
    "    # Geostrophic wind is inf on the equator. We don't clip it to ensure that the\n",
    "    # user makes an intentional choice about how handle these invalid values\n",
    "    # (e.g., by evaluating over a region).\n",
    "    return (\n",
    "        -derivative_latitude(geopotential) / coriolis_parameter,\n",
    "        +derivative_longitude(geopotential) / coriolis_parameter,\n",
    "    )"
   ]
  },
  {
   "cell_type": "code",
   "execution_count": null,
   "id": "d228847f-5f34-465d-afee-05dcefa7bc2e",
   "metadata": {
    "tags": []
   },
   "outputs": [],
   "source": [
    "class SphericalDomainCartesian2D(tp.NamedTuple):\n",
    "    lon_coords: Float[Array, \"Dx\"]\n",
    "    lat_coords: Float[Array, \"Dy\"]\n",
    "    dlon: Float[Array, \"\"]\n",
    "    dlat: Float[Array, \"\"]\n",
    "\n",
    "    @classmethod\n",
    "    def from_xarray(cls, ds: xr.DataArray):\n",
    "        lon_coords = ds.lon.values\n",
    "        lat_coords = ds.lat.values\n",
    "        dlon = np.mean(lon_coords[:-1] - lon_coords[1:])\n",
    "        dlat = np.mean(lat_coords[:-1] - lat_coords[1:])\n",
    "        return cls(lon_coords, lat_coords, dlon, dlat)\n",
    "\n",
    "\n",
    "class SphericalDomainRectilinear2D(tp.NamedTuple):\n",
    "    lon_coords: Float[Array, \"Dx\"]\n",
    "    lat_coords: Float[Array, \"Dy\"]\n",
    "    dlon: Float[Array, \"\"]\n",
    "    dlat: Float[Array, \"\"]\n",
    "\n",
    "    @classmethod\n",
    "    def from_xarray(cls, ds: xr.DataArray):\n",
    "        lon_coords = ds.lon.values\n",
    "        lat_coords = ds.lat.values\n",
    "        dlon = np.mean(lon_coords[:-1] - lon_coords[1:])\n",
    "        dlat = np.mean(lat_coords[:-1] - lat_coords[1:])\n",
    "        return cls(lon_coords, lat_coords, dlon, dlat)"
   ]
  },
  {
   "cell_type": "code",
   "execution_count": null,
   "id": "86b9ace2-e071-49a7-ace1-fa81963056b9",
   "metadata": {
    "tags": []
   },
   "outputs": [],
   "source": [
    "# import ee\n",
    "# import xarray\n",
    "# ee.Authenticate()\n",
    "# ee.Initialize(opt_url='https://earthengine-highvolume.googleapis.com')"
   ]
  },
  {
   "cell_type": "markdown",
   "id": "037e2e32-f6bc-43ee-a9d4-f35ad4f8e41f",
   "metadata": {},
   "source": [
    "* `ECMWF/ERA5/DAILY` | \"ee://NASA/GDDP-CMIP6\"\n",
    "* `HYCOM/sea_surface_elevation`\n",
    "* `HYCOM/sea_temp_salinity`\n",
    "* `HYCOM/sea_water_velocity`"
   ]
  },
  {
   "cell_type": "code",
   "execution_count": null,
   "id": "62f42c8a-1088-446b-a793-ec98454020ef",
   "metadata": {
    "tags": []
   },
   "outputs": [],
   "source": [
    "# ic = ee.ImageCollection('NASA/GDDP-CMIP6').filterDate('2022-01-05', '2022-03-31')\n",
    "# ds = xarray.open_dataset(ic, engine='ee', crs='EPSG:4326', scale=0.25)\n",
    "# ds"
   ]
  },
  {
   "cell_type": "code",
   "execution_count": null,
   "id": "c98f4b6f-eb5f-4c58-8517-164d0e58c313",
   "metadata": {
    "tags": []
   },
   "outputs": [],
   "source": [
    "domain = SphericalDomain2D.from_xarray(da)"
   ]
  },
  {
   "cell_type": "code",
   "execution_count": null,
   "id": "5814ff03-c540-4a44-9f91-62a31984eb84",
   "metadata": {
    "tags": []
   },
   "outputs": [],
   "source": [
    "def derivative_longitude_array_2D(\n",
    "    u: Float[Array, \"Dx Dy\"], domain: SphericalDomain2D, *args, **kwargs\n",
    "):\n",
    "    latitude = domain.lat_coords\n",
    "    cos_theta = jnp.cos(jnp.deg2rad(latitude))\n",
    "    # TODO(shoyer): use a custom calculation with roll() instead of\n",
    "    # differentiate() to calculate rolling over 360 to 0 degrees properly.\n",
    "    dlon = fdx.difference(domain.lon_coords, axis=0, *args, **kwargs)\n",
    "\n",
    "    dlon = dlon[..., None]\n",
    "    du_dlon = fdx.difference(u, axis=0, step_size=dlon, *args, **kwargs)\n",
    "    return du_dlon / cos_theta / METERS_PER_DEGREE"
   ]
  },
  {
   "cell_type": "code",
   "execution_count": null,
   "id": "b18cb3b5-f21f-41d1-aaae-17500bcbe82e",
   "metadata": {
    "tags": []
   },
   "outputs": [],
   "source": [
    "# tmp = jnp.pad(subset.values, pad_width=((1,1),(0,0)), mode=\"wrap\")\n",
    "dt_dx_jax = derivative_longitude_array_2D(subset.values, domain, method=\"central\")"
   ]
  },
  {
   "cell_type": "code",
   "execution_count": null,
   "id": "1c936f93-c6ef-44e7-bcd1-bc11815c77e9",
   "metadata": {
    "tags": []
   },
   "outputs": [],
   "source": [
    "dt_dx_xr = derivative_longitude(da.transpose(\"time\", \"lon\", \"lat\").isel(time=0))\n",
    "dt_dx_xr"
   ]
  },
  {
   "cell_type": "code",
   "execution_count": null,
   "id": "64cebe9a-3b3f-4301-bb42-aedd7e3a20b3",
   "metadata": {
    "tags": []
   },
   "outputs": [],
   "source": [
    "dt_dx_metpy = metpy.calc.geospatial_gradient(\n",
    "    subset, latitude=subset.lat, longitude=subset.lon, return_only=\"df/dx\"\n",
    ")"
   ]
  },
  {
   "cell_type": "markdown",
   "id": "ba553935-25fc-4356-b159-079638de2e1a",
   "metadata": {
    "tags": []
   },
   "source": [
    "```python\n",
    "geospatial_derivative = lambda: ...\n",
    "derivative_cartesian\n",
    "\n",
    "```"
   ]
  },
  {
   "cell_type": "code",
   "execution_count": null,
   "id": "4bbca754-6c6c-4287-8466-e9c9a00ab5da",
   "metadata": {
    "tags": []
   },
   "outputs": [],
   "source": [
    "fig, ax = plt.subplots()\n",
    "\n",
    "pts = ax.imshow(\n",
    "    np.abs(dt_dx_metpy.magnitude.T - dt_dx_jax.T), origin=\"lower\", cmap=\"Reds\"\n",
    ")\n",
    "\n",
    "plt.colorbar(pts)\n",
    "\n",
    "plt.show()"
   ]
  },
  {
   "cell_type": "code",
   "execution_count": null,
   "id": "d8794d55-2d2a-43d8-a513-51c9ec833c54",
   "metadata": {
    "tags": []
   },
   "outputs": [],
   "source": [
    "fig, ax = plt.subplots()\n",
    "\n",
    "pts = ax.imshow(\n",
    "    np.abs(dt_dx_metpy.magnitude.T - dt_dx_xr.values.T), origin=\"lower\", cmap=\"Reds\"\n",
    ")\n",
    "\n",
    "plt.colorbar(pts)\n",
    "\n",
    "plt.show()"
   ]
  },
  {
   "cell_type": "code",
   "execution_count": null,
   "id": "bd98e1fe-18c3-4317-a4ee-ec24a46b696c",
   "metadata": {
    "tags": []
   },
   "outputs": [],
   "source": [
    "dt_dx_xr.T.plot.pcolormesh()"
   ]
  },
  {
   "cell_type": "code",
   "execution_count": null,
   "id": "9e33d823-df7f-416f-9527-2ed5d96dd760",
   "metadata": {
    "tags": []
   },
   "outputs": [],
   "source": [
    "np.gradient()"
   ]
  },
  {
   "cell_type": "code",
   "execution_count": null,
   "id": "ff38eb2c-51e1-4334-a803-4d7371dc5003",
   "metadata": {
    "tags": []
   },
   "outputs": [],
   "source": [
    "da.coords[\"lat\"]"
   ]
  },
  {
   "cell_type": "code",
   "execution_count": null,
   "id": "3accc1e6-0de0-4475-9f49-e6257a85475e",
   "metadata": {
    "tags": []
   },
   "outputs": [],
   "source": [
    "out = _d_dx(da)\n",
    "out.isel(time=0).plot.imshow()"
   ]
  },
  {
   "cell_type": "code",
   "execution_count": null,
   "id": "237ee43d-641d-408e-abf8-c7fe63947f3a",
   "metadata": {},
   "outputs": [],
   "source": []
  }
 ],
 "metadata": {
  "kernelspec": {
   "display_name": "Python [conda env:jax_eo_py311]",
   "language": "python",
   "name": "conda-env-jax_eo_py311-py"
  },
  "language_info": {
   "codemirror_mode": {
    "name": "ipython",
    "version": 3
   },
   "file_extension": ".py",
   "mimetype": "text/x-python",
   "name": "python",
   "nbconvert_exporter": "python",
   "pygments_lexer": "ipython3",
   "version": "3.11.5"
  }
 },
 "nbformat": 4,
 "nbformat_minor": 5
}
