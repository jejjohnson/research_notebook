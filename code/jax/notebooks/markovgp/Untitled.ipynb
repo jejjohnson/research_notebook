{
 "cells": [
  {
   "cell_type": "markdown",
   "id": "7e32509a-c2cd-4a4c-9b88-2355d889b935",
   "metadata": {},
   "source": [
    "# Spatio-Temporal Tools"
   ]
  },
  {
   "cell_type": "code",
   "execution_count": null,
   "id": "c268d0ce-f605-4cf3-9786-382ddf3c7803",
   "metadata": {},
   "outputs": [],
   "source": [
    "import numpy as np\n",
    "from tqdm.notebook import tqdm, trange\n",
    "import matplotlib.pyplot as plt\n",
    "\n",
    "# fix randomness\n",
    "rng = np.random.RandomState(123)"
   ]
  },
  {
   "cell_type": "markdown",
   "id": "662a5b6c-1702-425f-b3ad-208823c9ae1f",
   "metadata": {},
   "source": [
    "## Demo Example"
   ]
  },
  {
   "cell_type": "code",
   "execution_count": null,
   "id": "16abbad5-0d7d-4181-ae26-1c3eaf08dcf8",
   "metadata": {},
   "outputs": [],
   "source": [
    "# spatial grid point (y-axis)\n",
    "nx = 50\n",
    "\n",
    "# temporal grid point (x-axis)\n",
    "nt = 100\n",
    "\n",
    "# binsize (delta t)\n",
    "binsize = 1000 / nt\n",
    "\n",
    "# total # of data points\n",
    "N = nx * nt"
   ]
  },
  {
   "cell_type": "markdown",
   "id": "7f31edff-821a-4542-9e83-c2784104fc5d",
   "metadata": {},
   "source": [
    "### 1 - Make Coordinates\n",
    "\n",
    "$\\mathbf{x} \\in \\mathbb{R}^{D_\\mathbf{x}}$ \n",
    "\n",
    "where $D_\\mathbf{x}=101$"
   ]
  },
  {
   "cell_type": "code",
   "execution_count": null,
   "id": "77814789-2d80-4d0d-b75e-18d290aef515",
   "metadata": {},
   "outputs": [],
   "source": [
    "# x-spatial dimension (pseudo-time)\n",
    "xmin, xmax = 0, 1_000\n",
    "\n",
    "x = np.linspace(xmin, xmax, nt + 1)\n",
    "\n",
    "# y-spatial dimension\n",
    "ymin, ymax = 0, 500\n",
    "\n",
    "y = np.linspace(ymin, ymax, nx + 1)\n",
    "\n",
    "x.shape, y.shape"
   ]
  },
  {
   "cell_type": "markdown",
   "id": "19536ea8-8995-47de-b7dd-59c67fe0ea82",
   "metadata": {},
   "source": [
    "### 0 - Make Random Data"
   ]
  },
  {
   "cell_type": "code",
   "execution_count": null,
   "id": "4503ea58-35a5-4a97-95e7-7b4673b793b6",
   "metadata": {},
   "outputs": [],
   "source": [
    "x_data = rng.randn(x.shape[0])\n",
    "y_data = rng.randn(y.shape[0])\n",
    "\n",
    "xy_data = np.stack([x, y], axis=1)"
   ]
  },
  {
   "cell_type": "code",
   "execution_count": null,
   "id": "566ca14e-7564-4a39-8c81-ca92121582af",
   "metadata": {},
   "outputs": [],
   "source": [
    "# fig, ax = plt.subplots()\n",
    "\n",
    "# ax.plot(x_data, y_data)\n",
    "\n",
    "# plt.show()"
   ]
  },
  {
   "cell_type": "markdown",
   "id": "88a4f07b-01aa-403d-8371-6d78570d2779",
   "metadata": {},
   "source": [
    "### 2 - Make Grid"
   ]
  },
  {
   "cell_type": "code",
   "execution_count": null,
   "id": "4744e1bf-0f55-446e-9f31-3b495d09b072",
   "metadata": {},
   "outputs": [],
   "source": [
    "X, Y = np.meshgrid(x, y)\n",
    "\n",
    "X.shape, Y.shape"
   ]
  },
  {
   "cell_type": "markdown",
   "id": "7d56ce39-20d3-48e4-aed3-b403d7503ece",
   "metadata": {},
   "source": [
    "#### 3 - Count Points"
   ]
  },
  {
   "cell_type": "code",
   "execution_count": null,
   "id": "e5fe7a15-d993-477f-b3a6-38ed63783b36",
   "metadata": {},
   "outputs": [],
   "source": [
    "# initialize counter\n",
    "N = np.zeros([nx, nt])"
   ]
  },
  {
   "cell_type": "code",
   "execution_count": null,
   "id": "23ef725d-1da4-45cc-ab0f-28e77c46ee0e",
   "metadata": {},
   "outputs": [],
   "source": [
    "# loop through all points in grid\n",
    "for i in range(nt):\n",
    "    for j in range(nx):\n",
    "        # count indices\n",
    "        ind = (\n",
    "            (xy[:, 0] >= x[i])\n",
    "            & (xy[:, 0] < x[i + 1])\n",
    "            & (xy[:, 1] >= y[j])\n",
    "            & (xy[:, 1] < y[j + 1])\n",
    "        )"
   ]
  },
  {
   "cell_type": "code",
   "execution_count": null,
   "id": "91258a73-d1a3-446a-a17d-897e9c58691d",
   "metadata": {},
   "outputs": [],
   "source": [
    "# temporal grid point (x-axis)\n",
    "nt = 100"
   ]
  },
  {
   "cell_type": "markdown",
   "id": "57715e72-fd2b-4054-836d-4516ea47d9f2",
   "metadata": {},
   "source": [
    "### Step 1 - Make Grid"
   ]
  },
  {
   "cell_type": "markdown",
   "id": "443affdf-7a78-471a-a156-0f437e5dd02e",
   "metadata": {},
   "source": [
    "#### X-Limits"
   ]
  },
  {
   "cell_type": "code",
   "execution_count": null,
   "id": "51739285-90b8-45b0-a8c5-611638937247",
   "metadata": {},
   "outputs": [],
   "source": [
    "# define num of grid points\n",
    "nx = 50\n",
    "\n",
    "# define limits\n",
    "xmin, xmax = 0, 1_000\n",
    "\n",
    "x = np.linspace(xmin, xmax, nt + 1)\n",
    "\n",
    "x.shape"
   ]
  },
  {
   "cell_type": "code",
   "execution_count": null,
   "id": "7f04c7bd-a4e3-4d22-895a-b0701d06ac5a",
   "metadata": {},
   "outputs": [],
   "source": []
  }
 ],
 "metadata": {
  "kernelspec": {
   "display_name": "Python [conda env:miniconda3-jax_gp]",
   "language": "python",
   "name": "conda-env-miniconda3-jax_gp-py"
  },
  "language_info": {
   "codemirror_mode": {
    "name": "ipython",
    "version": 3
   },
   "file_extension": ".py",
   "mimetype": "text/x-python",
   "name": "python",
   "nbconvert_exporter": "python",
   "pygments_lexer": "ipython3",
   "version": "3.9.7"
  }
 },
 "nbformat": 4,
 "nbformat_minor": 5
}
