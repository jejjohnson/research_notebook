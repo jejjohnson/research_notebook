{
 "cells": [
  {
   "cell_type": "code",
   "execution_count": null,
   "id": "c8a2ee9e-04cc-4c5e-a3eb-4742a7ad7cd1",
   "metadata": {
    "pycharm": {
     "name": "#%%\n"
    }
   },
   "outputs": [],
   "source": [
    "import sys, os\n",
    "from pyprojroot import here\n",
    "\n",
    "\n",
    "# spyder up to find the roo\n",
    "\n",
    "root = here(project_files=[\".local\"])\n",
    "# append to path\n",
    "sys.path.append(str(root))"
   ]
  },
  {
   "cell_type": "code",
   "execution_count": null,
   "id": "7424230d",
   "metadata": {},
   "outputs": [],
   "source": [
    "import lib"
   ]
  },
  {
   "cell_type": "code",
   "execution_count": null,
   "id": "b43eaf2f-23b0-4937-80a3-21938dc73ed2",
   "metadata": {
    "pycharm": {
     "name": "#%%\n"
    }
   },
   "outputs": [],
   "source": [
    "import jax\n",
    "import jax.numpy as jnp\n",
    "import jax.random as jrandom\n",
    "import equinox as eqx\n",
    "\n",
    "from lib.siren import Siren, SirenNet\n",
    "from lib.activations import Sine, ReLU\n",
    "\n",
    "%load_ext autoreload\n",
    "%autoreload 2"
   ]
  },
  {
   "cell_type": "markdown",
   "id": "025da5c8",
   "metadata": {
    "pycharm": {
     "name": "#%% md\n"
    }
   },
   "source": [
    "## Siren Net\n"
   ]
  },
  {
   "cell_type": "markdown",
   "id": "0ab329b0-6df1-4e22-a750-2e1fae1e93e9",
   "metadata": {
    "pycharm": {
     "name": "#%% md\n"
    }
   },
   "source": [
    "### Sine Activation Layer"
   ]
  },
  {
   "cell_type": "code",
   "execution_count": null,
   "id": "b2927b66",
   "metadata": {
    "pycharm": {
     "name": "#%%\n"
    }
   },
   "outputs": [],
   "source": [
    "key = jrandom.PRNGKey(123)\n",
    "\n",
    "# generate some fake data\n",
    "n_dims = 10\n",
    "data_key, key = jrandom.split(key, 2)\n",
    "x = jrandom.normal(key=data_key, shape=(n_dims,))\n",
    "\n",
    "# init network\n",
    "w0 = 1.0\n",
    "activation = Sine(w0=w0)\n",
    "\n",
    "out = activation(x)\n",
    "\n",
    "print(activation)"
   ]
  },
  {
   "cell_type": "markdown",
   "id": "b9a4c15b-4674-450e-a7ff-f7c8d0ebcca9",
   "metadata": {
    "pycharm": {
     "name": "#%% md\n"
    }
   },
   "source": [
    "### Siren Layer"
   ]
  },
  {
   "cell_type": "code",
   "execution_count": null,
   "id": "6262bca4-3ede-4361-888f-da93524b8400",
   "metadata": {
    "pycharm": {
     "name": "#%%\n"
    }
   },
   "outputs": [],
   "source": [
    "layer_key, key = jrandom.split(key, 2)\n",
    "\n",
    "layer = Siren(in_dim=n_dims, out_dim=2, w0=1.0, c=6.0, key=layer_key)\n",
    "\n",
    "out = layer(x)\n",
    "\n",
    "print(layer)"
   ]
  },
  {
   "cell_type": "markdown",
   "id": "6dc3d115",
   "metadata": {
    "pycharm": {
     "name": "#%% md\n"
    }
   },
   "source": [
    "### Siren Network"
   ]
  },
  {
   "cell_type": "code",
   "execution_count": null,
   "id": "467122fd-5fb6-4bde-a3a2-496a89230421",
   "metadata": {
    "pycharm": {
     "name": "#%%\n"
    }
   },
   "outputs": [],
   "source": [
    "net_key, key = jrandom.split(key, 2)\n",
    "\n",
    "model = SirenNet(\n",
    "    in_dim=n_dims,\n",
    "    hidden_dim=32,\n",
    "    n_hidden=5,\n",
    "    out_dim=2,\n",
    "    w0_initial=30,\n",
    "    w0=1.0,\n",
    "    c=6.0,\n",
    "    key=net_key,\n",
    "    final_scale=1.0,\n",
    "    final_activation=eqx.nn.Identity(),\n",
    ")\n",
    "\n",
    "out = model(x)\n",
    "\n",
    "print(model)"
   ]
  },
  {
   "cell_type": "code",
   "execution_count": null,
   "id": "6a7a8e8a-f736-498b-a8d0-24e73e95694b",
   "metadata": {
    "pycharm": {
     "name": "#%%\n"
    }
   },
   "outputs": [],
   "source": [
    "out"
   ]
  },
  {
   "cell_type": "markdown",
   "id": "3af9f22c-7b7e-45f9-8a6b-4b2e77cc8827",
   "metadata": {
    "pycharm": {
     "name": "#%% md\n"
    }
   },
   "source": [
    "### Modulated Siren"
   ]
  },
  {
   "cell_type": "code",
   "execution_count": null,
   "id": "05ba68a2-3bad-4556-bf56-2ffce49575e4",
   "metadata": {
    "pycharm": {
     "name": "#%%\n"
    }
   },
   "outputs": [],
   "source": [
    "from typing import List\n",
    "\n",
    "\n",
    "class Modulator(eqx.Module):\n",
    "    layers: List[eqx.Module]\n",
    "\n",
    "    def __init__(self, in_dim, hidden_dim, n_hidden, key):\n",
    "        super().__init__()\n",
    "        keys = jrandom.split(key, n_hidden + 1)\n",
    "\n",
    "        self.layers = [eqx.nn.Linear(in_dim, hidden_dim, key=keys[0])]\n",
    "\n",
    "        # Hidden layers\n",
    "        for ikey in keys[1:-1]:\n",
    "            self.layers.append(\n",
    "                eqx.nn.Sequential(\n",
    "                    [eqx.nn.Linear(hidden_dim, hidden_dim, key=ikey), ReLU()]\n",
    "                )\n",
    "            )\n",
    "\n",
    "    def __call__(self, z):\n",
    "        \"\"\"\n",
    "        Parameters\n",
    "        ----------\n",
    "        z : Array,\n",
    "\n",
    "        Returns\n",
    "        -------\n",
    "        out : tuple(x)\n",
    "        \"\"\"\n",
    "        x = z\n",
    "\n",
    "        hidden = []\n",
    "\n",
    "        for ilayer in self.layers:\n",
    "            x = ilayer(x)\n",
    "            print(x.shape, z.shape)\n",
    "            hidden.append(x)\n",
    "            x = jnp.concatenate([x, z])\n",
    "            print(x.shape)\n",
    "\n",
    "        return tuple(hidden)"
   ]
  },
  {
   "cell_type": "code",
   "execution_count": null,
   "id": "27583a08-f592-4fcf-8e7e-611917879296",
   "metadata": {
    "jupyter": {
     "outputs_hidden": true
    },
    "pycharm": {
     "name": "#%%\n"
    },
    "tags": []
   },
   "outputs": [],
   "source": [
    "latent_dim = 512\n",
    "n_hidden = 5\n",
    "layer = Modulator(latent_dim, model.hidden_dim, model.num_layers, key)\n",
    "\n",
    "latent = jrandom.normal(key, (latent_dim,))\n",
    "out = layer(latent)\n",
    "# out.shape"
   ]
  },
  {
   "cell_type": "code",
   "execution_count": null,
   "id": "9c488269-400a-496e-bf16-4a515e6d653d",
   "metadata": {
    "pycharm": {
     "name": "#%%\n"
    }
   },
   "outputs": [],
   "source": [
    "from typing import Callable, List\n",
    "\n",
    "Array = jnp.ndarray\n",
    "from einops import rearrange\n",
    "\n",
    "\n",
    "class ModulatedSirenNet(eqx.Module):\n",
    "    \"\"\"SirenNet\"\"\"\n",
    "\n",
    "    siren_net: eqx.Module\n",
    "    latent: jnp.ndarray\n",
    "    layers: List[eqx.Module]\n",
    "\n",
    "    def __init__(\n",
    "        self,\n",
    "        siren_net: eqx.Module,\n",
    "        latent_dim,\n",
    "        key,\n",
    "    ):\n",
    "        super().__init__()\n",
    "        \"\"\"\"\"\"\n",
    "        keys = jrandom.split(key, siren_net.num_layers + 1)\n",
    "\n",
    "        self.layers = [eqx.nn.Linear(latent_dim, siren_net.hidden_dim, key=keys[0])]\n",
    "\n",
    "        # Hidden layers\n",
    "        for ikey in keys[1:-1]:\n",
    "            self.layers.append(\n",
    "                eqx.nn.Sequential(\n",
    "                    [\n",
    "                        eqx.nn.Linear(\n",
    "                            siren_net.hidden_dim, siren_net.hidden_dim, key=ikey\n",
    "                        ),\n",
    "                        ReLU(),\n",
    "                    ]\n",
    "                )\n",
    "            )\n",
    "\n",
    "        # First layer\n",
    "        self.siren_net = siren_net\n",
    "        self.latent = jrandom.normal(key=key, shape=(latent_dim,))\n",
    "\n",
    "    def __call__(self, x: Array) -> Array:\n",
    "        mod = self.latent\n",
    "        for ilayer_siren, ilayer_mod in zip(self.siren_net.layers[:-1], self.layers):\n",
    "            # siren layer\n",
    "            x = ilayer_siren(x)\n",
    "            #\n",
    "            mod = ilayer_mod(mod)\n",
    "            print(f\"z: {self.latent.shape} | mod: {mod.shape}\")\n",
    "            print(f\"x: {x.shape} | mod: {mod.shape}\")\n",
    "            # x *= rearrange(mod, 'd -> () d')\n",
    "            # mod = jnp.concatenate([mod, self.latent], axis=0)\n",
    "            print(f\"mod: {mod.shape}\")\n",
    "            break\n",
    "        return self.siren_net.layers[-1](x)"
   ]
  },
  {
   "cell_type": "code",
   "execution_count": null,
   "id": "0cae16bb-fc57-4987-b46e-f66ff8194d3a",
   "metadata": {
    "pycharm": {
     "name": "#%%\n"
    }
   },
   "outputs": [],
   "source": [
    "model = SirenNet(\n",
    "    in_dim=n_dims,\n",
    "    hidden_dim=32,\n",
    "    n_hidden=5,\n",
    "    out_dim=2,\n",
    "    w0_initial=30,\n",
    "    w0=1.0,\n",
    "    c=6.0,\n",
    "    key=net_key,\n",
    "    final_scale=1.0,\n",
    "    final_activation=eqx.nn.Identity(),\n",
    ")\n",
    "\n",
    "model = ModulatedSirenNet(siren_net=model, latent_dim=512, key=key)\n",
    "\n",
    "# print(model)\n",
    "output = model(x)\n",
    "print(x.shape, output.shape)"
   ]
  },
  {
   "cell_type": "code",
   "execution_count": null,
   "id": "7f4a065c-7785-4175-8fc9-9d9c610ae1dc",
   "metadata": {
    "pycharm": {
     "name": "#%%\n"
    }
   },
   "outputs": [],
   "source": [
    "output"
   ]
  },
  {
   "cell_type": "code",
   "execution_count": null,
   "id": "e7bb1135-80e1-4e10-bea6-9cf64ecc4bd8",
   "metadata": {
    "pycharm": {
     "name": "#%%\n"
    }
   },
   "outputs": [],
   "source": []
  }
 ],
 "metadata": {
  "kernelspec": {
   "display_name": "Python 3.9.13 ('jax_py39')",
   "language": "python",
   "name": "python3"
  },
  "language_info": {
   "codemirror_mode": {
    "name": "ipython",
    "version": 3
   },
   "file_extension": ".py",
   "mimetype": "text/x-python",
   "name": "python",
   "nbconvert_exporter": "python",
   "pygments_lexer": "ipython3",
   "version": "3.9.13"
  },
  "vscode": {
   "interpreter": {
    "hash": "1871fb65463515066d24df0aa24099cf11da79caf11aaca17da573fefcceb3df"
   }
  }
 },
 "nbformat": 4,
 "nbformat_minor": 5
}
