{
 "cells": [
  {
   "cell_type": "code",
   "execution_count": null,
   "id": "d46e8ad3-a401-44a5-a077-cbdbe4f952ba",
   "metadata": {
    "pycharm": {
     "name": "#%%\n"
    }
   },
   "outputs": [],
   "source": [
    "import sys, os\n",
    "from pyprojroot import here\n",
    "\n",
    "# spyder up to find the root\n",
    "root = here(project_files=[\".home\"])\n",
    "\n",
    "# append to path\n",
    "sys.path.append(str(root))\n",
    "\n",
    "%load_ext autoreload\n",
    "%autoreload 2"
   ]
  },
  {
   "cell_type": "code",
   "execution_count": null,
   "id": "665d5d78-38e9-4063-b703-1b3a8029c24a",
   "metadata": {
    "pycharm": {
     "name": "#%%\n"
    }
   },
   "outputs": [],
   "source": [
    "# TYPE HINTS\n",
    "from typing import Tuple, Optional, Dict, Callable, Union\n",
    "\n",
    "# JAX SETTINGS\n",
    "import jax\n",
    "import jax.numpy as jnp\n",
    "import jax.random as random\n",
    "import treex as tx\n",
    "\n",
    "import tensorflow_probability.substrates.jax as tfp\n",
    "\n",
    "tfd = tfp.distributions\n",
    "from sklearn.datasets import make_moons\n",
    "\n",
    "# NUMPY SETTINGS\n",
    "import numpy as np\n",
    "\n",
    "np.set_printoptions(precision=3, suppress=True)\n",
    "\n",
    "# MATPLOTLIB Settings\n",
    "import matplotlib as mpl\n",
    "import matplotlib.pyplot as plt\n",
    "\n",
    "%matplotlib inline\n",
    "%config InlineBackend.figure_format = 'retina'\n",
    "\n",
    "import corner\n",
    "\n",
    "# SEABORN SETTINGS\n",
    "import seaborn as sns\n",
    "\n",
    "sns.set_context(context=\"talk\", font_scale=0.7)\n",
    "\n",
    "# PANDAS SETTINGS\n",
    "import pandas as pd\n",
    "\n",
    "pd.set_option(\"display.max_rows\", 120)\n",
    "pd.set_option(\"display.max_columns\", 120)\n",
    "\n",
    "# LOGGING SETTINGS\n",
    "import sys\n",
    "import logging\n",
    "\n",
    "logging.basicConfig(\n",
    "    level=logging.INFO,\n",
    "    stream=sys.stdout,\n",
    "    format=\"%(asctime)s:%(levelname)s:%(message)s\",\n",
    ")\n",
    "logger = logging.getLogger()\n",
    "# logger.setLevel(logging.INFO)\n",
    "\n",
    "%load_ext autoreload\n",
    "%autoreload 2"
   ]
  },
  {
   "cell_type": "markdown",
   "id": "8cb1660b-023d-4b1b-a91e-ff7e4952d656",
   "metadata": {
    "pycharm": {
     "name": "#%% md\n"
    }
   },
   "source": [
    "## Data"
   ]
  },
  {
   "cell_type": "code",
   "execution_count": null,
   "id": "c90d10aa-2a21-407f-a894-193487b58831",
   "metadata": {
    "pycharm": {
     "name": "#%%\n"
    }
   },
   "outputs": [],
   "source": [
    "def get_toy_data(dataset=\"classic\", n_samples=1000, seed=123):\n",
    "    rng = np.random.RandomState(seed=seed)\n",
    "\n",
    "    x = np.abs(2 * rng.randn(n_samples, 1))\n",
    "    y = np.sin(x) + 0.25 * rng.randn(n_samples, 1)\n",
    "    data = np.hstack((x, y))\n",
    "\n",
    "    return data\n",
    "\n",
    "\n",
    "def plot_joint(data, color: str = \"red\", title: str = \"\", logger=None, kind=\"scatter\"):\n",
    "\n",
    "    plt.figure(figsize=(5, 5))\n",
    "    g = sns.jointplot(\n",
    "        x=data[:, 0],\n",
    "        y=data[:, 1],\n",
    "        kind=kind,\n",
    "        color=color,\n",
    "    )\n",
    "    plt.xlabel(\"X\")\n",
    "    plt.ylabel(\"Y\")\n",
    "    plt.suptitle(title)\n",
    "    plt.tight_layout()\n",
    "    # if logger is not None:\n",
    "    #     wandb.log({title: [wandb.Image(plt)]})\n",
    "    #     plt.gcf()\n",
    "    #     plt.clf()\n",
    "    #     plt.close()\n",
    "    # else:\n",
    "    plt.show()"
   ]
  },
  {
   "cell_type": "code",
   "execution_count": null,
   "id": "9cf22930-fd64-4290-a4a1-b2b46f5c51a1",
   "metadata": {
    "pycharm": {
     "name": "#%%\n"
    }
   },
   "outputs": [],
   "source": [
    "ntrain = 20_000\n",
    "ntest = 5_000\n",
    "noise = 0.1\n",
    "random_state = 123\n",
    "train_data = make_moons(n_samples=ntrain, noise=noise, random_state=random_state)[0]\n",
    "test_data = make_moons(n_samples=ntest, noise=noise, random_state=random_state * 10)[0]"
   ]
  },
  {
   "cell_type": "code",
   "execution_count": null,
   "id": "84fc1faa-0799-437d-9649-64efdd31d257",
   "metadata": {
    "pycharm": {
     "name": "#%%\n"
    }
   },
   "outputs": [],
   "source": [
    "fig = corner.corner(train_data, color=\"blue\")"
   ]
  },
  {
   "cell_type": "code",
   "execution_count": null,
   "id": "b1c4ca24-6721-44e9-9b12-8eae035fd67d",
   "metadata": {
    "pycharm": {
     "name": "#%%\n"
    }
   },
   "outputs": [],
   "source": [
    "# x_2d_samples = get_toy_data(n_samples=2_000)\n",
    "\n",
    "# fig = corner.corner(x_2d_samples, color=\"blue\")"
   ]
  },
  {
   "cell_type": "markdown",
   "id": "c779f746-9f26-47ee-9292-7ffce52fbc91",
   "metadata": {
    "pycharm": {
     "name": "#%% md\n"
    }
   },
   "source": [
    "\n",
    "## Gaussianization Transforms"
   ]
  },
  {
   "cell_type": "code",
   "execution_count": null,
   "id": "893b3ed5-4874-4d8f-bc34-a61792b3338b",
   "metadata": {
    "pycharm": {
     "name": "#%%\n"
    }
   },
   "outputs": [],
   "source": [
    "from flowjax._src.transforms.bijections.elementwise.invcdf import InverseGaussCDF, Logit\n",
    "from flowjax._src.transforms.bijections.elementwise.mixturecdf import (\n",
    "    GaussianMixtureCDF,\n",
    "    LogisticMixtureCDF,\n",
    ")\n",
    "from flowjax._src.transforms.bijections.linear.orthogonal import RandomRotation\n",
    "from flowjax._src.transforms.base import Composite"
   ]
  },
  {
   "cell_type": "code",
   "execution_count": null,
   "id": "758564ae-55d7-4516-9a58-1855942d8362",
   "metadata": {
    "pycharm": {
     "name": "#%%\n"
    },
    "tags": []
   },
   "outputs": [],
   "source": [
    "# layer params\n",
    "num_mixtures = 12\n",
    "\n",
    "# create layers\n",
    "bijector_block = [\n",
    "    # marginal uniformization\n",
    "    GaussianMixtureCDF(num_mixtures=num_mixtures),\n",
    "    # LogisticMixtureCDF(num_mixtures=num_mixtures),\n",
    "    # marginal gaussianization\n",
    "    InverseGaussCDF(),\n",
    "    # Logit(),\n",
    "    # orthogonal transform\n",
    "    RandomRotation(),\n",
    "]\n",
    "\n",
    "# multiply blocks\n",
    "n_layers = 6\n",
    "bijectors = bijector_block * n_layers"
   ]
  },
  {
   "cell_type": "code",
   "execution_count": null,
   "id": "36346665-a494-41d3-8eb4-0d6acc4bb8c9",
   "metadata": {
    "pycharm": {
     "name": "#%%\n"
    }
   },
   "outputs": [],
   "source": [
    "# create composite\n",
    "model = Composite(*bijectors)\n",
    "\n",
    "# init keys and data\n",
    "x_init = jnp.array(train_data)\n",
    "key_init = jax.random.PRNGKey(123)\n",
    "\n",
    "# init layer params (data-dependent)\n",
    "model = model.init(key=123, inputs=x_init)"
   ]
  },
  {
   "cell_type": "code",
   "execution_count": null,
   "id": "e4a38362-d0e9-4ee8-9779-a16ebe8cae6d",
   "metadata": {
    "pycharm": {
     "name": "#%%\n"
    }
   },
   "outputs": [],
   "source": [
    "z_mu = model(train_data)\n",
    "z_mu, ldj = model.forward_and_log_det(x_init)\n",
    "x_approx = model.inverse(z_mu)"
   ]
  },
  {
   "cell_type": "code",
   "execution_count": null,
   "id": "1f32d649-a349-48b5-8318-08271ff225b7",
   "metadata": {
    "pycharm": {
     "name": "#%%\n"
    }
   },
   "outputs": [],
   "source": [
    "fig = corner.corner(np.array(test_data), color=\"red\")\n",
    "fig = corner.corner(np.array(z_mu), color=\"black\")\n",
    "fig = corner.corner(np.array(x_approx), color=\"blue\")"
   ]
  },
  {
   "cell_type": "markdown",
   "id": "a2d9e7c2-d706-407e-bc85-3b4516d75068",
   "metadata": {
    "pycharm": {
     "name": "#%% md\n"
    }
   },
   "source": [
    "## Training"
   ]
  },
  {
   "cell_type": "markdown",
   "id": "36b059a4-dce2-4eb3-9a2e-858ac311852e",
   "metadata": {
    "pycharm": {
     "name": "#%% md\n"
    }
   },
   "source": [
    "### Loss Function"
   ]
  },
  {
   "cell_type": "code",
   "execution_count": null,
   "id": "88c61db2-6b92-4564-9ee9-9b23f3fbc127",
   "metadata": {
    "pycharm": {
     "name": "#%%\n"
    }
   },
   "outputs": [],
   "source": [
    "from flowjax._src.utils.tensors import sum_except_batch\n",
    "\n",
    "# base_dist = tfd.Normal(jnp.zeros(2), jnp.ones(2))\n",
    "base_dist = tfd.MultivariateNormalDiag(jnp.zeros(2), jnp.ones(2))\n",
    "# base_dist = tfd.Uniform()\n",
    "\n",
    "# differentiate only w.r.t. parameters\n",
    "def loss_fn(params, model, x):\n",
    "    # merge params into model\n",
    "    model = model.merge(params)\n",
    "\n",
    "    # forward transformation\n",
    "    z, ldj = model.forward_and_log_det(x)\n",
    "\n",
    "    # latent prob\n",
    "    latent_prob = base_dist.log_prob(z)\n",
    "\n",
    "    # calculate log prob\n",
    "    log_prob = sum_except_batch(latent_prob) + sum_except_batch(ldj)\n",
    "\n",
    "    # calculate nll\n",
    "    loss = -jnp.mean(log_prob)\n",
    "\n",
    "    # the model may contain state updates\n",
    "    # so it should be returned\n",
    "    return loss, model"
   ]
  },
  {
   "cell_type": "code",
   "execution_count": null,
   "id": "33236f80-3b09-4570-917f-99b5eafdb28d",
   "metadata": {
    "pycharm": {
     "name": "#%%\n"
    }
   },
   "outputs": [],
   "source": [
    "params = model.parameters()\n",
    "loss, model_ = loss_fn(params, model, x_init)\n",
    "\n",
    "loss"
   ]
  },
  {
   "cell_type": "markdown",
   "id": "9d4e4505-6a45-4885-9fe4-d4565a0068ca",
   "metadata": {
    "pycharm": {
     "name": "#%% md\n"
    }
   },
   "source": [
    "#### Gradients"
   ]
  },
  {
   "cell_type": "code",
   "execution_count": null,
   "id": "32039b0f-e740-4f74-b622-27dffcbd5d8a",
   "metadata": {
    "pycharm": {
     "name": "#%%\n"
    }
   },
   "outputs": [],
   "source": [
    "grad_fn = jax.value_and_grad(loss_fn, has_aux=True)\n",
    "\n",
    "(loss_, m_), grads_ = grad_fn(params, model, x_init)\n",
    "\n",
    "loss_"
   ]
  },
  {
   "cell_type": "markdown",
   "id": "87af0f1a-edb4-484e-adc0-d691080257f9",
   "metadata": {
    "pycharm": {
     "name": "#%% md\n"
    }
   },
   "source": [
    "### Train Step"
   ]
  },
  {
   "cell_type": "code",
   "execution_count": null,
   "id": "7a85690b-19a0-4d95-9ecd-95cee0c54dd9",
   "metadata": {
    "pycharm": {
     "name": "#%%\n"
    }
   },
   "outputs": [],
   "source": [
    "# both model and optimizer are jit-able\n",
    "@jax.jit\n",
    "def train_step(model, x, optimizer):\n",
    "    # select only the parameters\n",
    "    params = model.parameters()\n",
    "\n",
    "    (loss, model), grads = grad_fn(params, model, x)\n",
    "\n",
    "    # update params and model\n",
    "    params = optimizer.update(grads, params)\n",
    "    model = model.merge(params)\n",
    "\n",
    "    # return new model and optimizer\n",
    "    return loss, model, optimizer"
   ]
  },
  {
   "cell_type": "markdown",
   "id": "a4030c5e-89bc-4dcb-8719-c7a5467e9c44",
   "metadata": {
    "pycharm": {
     "name": "#%% md\n"
    }
   },
   "source": [
    "#### Optimizer"
   ]
  },
  {
   "cell_type": "code",
   "execution_count": null,
   "id": "7a97525a-4234-4e4a-8360-d73f116a9735",
   "metadata": {
    "pycharm": {
     "name": "#%%\n"
    }
   },
   "outputs": [],
   "source": [
    "import optax\n",
    "\n",
    "# learning rate\n",
    "lr = 0.001\n",
    "\n",
    "# scheduler (TODO)\n",
    "optimizer = tx.Optimizer(optax.adam(lr)).init(model)"
   ]
  },
  {
   "cell_type": "markdown",
   "id": "13a10785-0f30-4465-9f32-05beb70b3e24",
   "metadata": {
    "pycharm": {
     "name": "#%% md\n"
    }
   },
   "source": [
    "### Training Loop"
   ]
  },
  {
   "cell_type": "code",
   "execution_count": null,
   "id": "1089c9d8-f3b4-4fc9-b053-7a88117bdb63",
   "metadata": {
    "pycharm": {
     "name": "#%%\n"
    }
   },
   "outputs": [],
   "source": [
    "from tqdm.notebook import trange, tqdm\n",
    "\n",
    "n_iterations = 20_000\n",
    "losses = []\n",
    "batch_size = 64\n",
    "\n",
    "with trange(n_iterations) as pbar:\n",
    "    for i in pbar:\n",
    "        # train_data = get_toy_data(n_samples=batch_size, seed=i)\n",
    "        train_data = make_moons(n_samples=batch_size, noise=noise, random_state=i)[0]\n",
    "\n",
    "        ibatch = jnp.array(train_data)\n",
    "        loss, model, optimizer = train_step(model, ibatch, optimizer)\n",
    "\n",
    "        pbar.set_description(f\"Loss: {loss:.4f}\")\n",
    "        losses.append(loss)"
   ]
  },
  {
   "cell_type": "markdown",
   "id": "b9273f30-d067-47b0-8768-f7f20e83dd6f",
   "metadata": {
    "pycharm": {
     "name": "#%% md\n"
    }
   },
   "source": [
    "## Results"
   ]
  },
  {
   "cell_type": "code",
   "execution_count": null,
   "id": "51c67b57-76f8-4400-a5c1-55052ce74061",
   "metadata": {
    "pycharm": {
     "name": "#%%\n"
    }
   },
   "outputs": [],
   "source": [
    "model = model.eval()"
   ]
  },
  {
   "cell_type": "markdown",
   "id": "7142aa4a-850d-4616-8366-524daf9dc2ba",
   "metadata": {
    "pycharm": {
     "name": "#%% md\n"
    }
   },
   "source": [
    "### Losses"
   ]
  },
  {
   "cell_type": "code",
   "execution_count": null,
   "id": "d409feb5-3312-4f62-a652-709cb94d547b",
   "metadata": {
    "pycharm": {
     "name": "#%%\n"
    }
   },
   "outputs": [],
   "source": [
    "fig, ax = plt.subplots()\n",
    "\n",
    "ax.plot(losses)\n",
    "\n",
    "plt.show()"
   ]
  },
  {
   "cell_type": "markdown",
   "id": "f5f310b2-ee6d-411e-b971-92a3d6be32d0",
   "metadata": {
    "pycharm": {
     "name": "#%% md\n"
    }
   },
   "source": [
    "### Forward Transform"
   ]
  },
  {
   "cell_type": "code",
   "execution_count": null,
   "id": "f802e133-2c80-47a9-858b-24cc2533c024",
   "metadata": {
    "pycharm": {
     "name": "#%%\n"
    }
   },
   "outputs": [],
   "source": [
    "z_mg = model(test_data)\n",
    "\n",
    "fig = corner.corner(np.array(test_data), color=\"red\")\n",
    "fig = corner.corner(np.array(z_mg), color=\"black\")"
   ]
  },
  {
   "cell_type": "markdown",
   "id": "2987a21b-08d0-4c71-97d5-18d2dc458e76",
   "metadata": {
    "pycharm": {
     "name": "#%% md\n"
    }
   },
   "source": [
    "### Inverse Transform"
   ]
  },
  {
   "cell_type": "code",
   "execution_count": null,
   "id": "6b8163af-6b23-4ea3-b15a-854fd3fcb0b6",
   "metadata": {
    "pycharm": {
     "name": "#%%\n"
    }
   },
   "outputs": [],
   "source": [
    "x_approx = model.inverse(z_mg)"
   ]
  },
  {
   "cell_type": "code",
   "execution_count": null,
   "id": "1b90a526-379b-478e-8d4d-345a1c427ccc",
   "metadata": {
    "pycharm": {
     "name": "#%%\n"
    }
   },
   "outputs": [],
   "source": [
    "fig = corner.corner(np.array(x_approx), color=\"blue\")"
   ]
  },
  {
   "cell_type": "markdown",
   "id": "a3211455-6ad6-40e7-9113-369ce9416190",
   "metadata": {
    "pycharm": {
     "name": "#%% md\n"
    }
   },
   "source": [
    "### Generated Samples"
   ]
  },
  {
   "cell_type": "code",
   "execution_count": null,
   "id": "b47aa3aa-5f80-43ed-bb11-f49399fbfe62",
   "metadata": {
    "pycharm": {
     "name": "#%%\n"
    }
   },
   "outputs": [],
   "source": [
    "z_samples = base_dist.sample(sample_shape=(100_000), seed=key_init)"
   ]
  },
  {
   "cell_type": "code",
   "execution_count": null,
   "id": "a3f98c72-61c3-4957-b497-b586f51c44dc",
   "metadata": {
    "pycharm": {
     "name": "#%%\n"
    }
   },
   "outputs": [],
   "source": [
    "%time\n",
    "x_samples = model.inverse(z_samples)"
   ]
  },
  {
   "cell_type": "code",
   "execution_count": null,
   "id": "5579a59d-d5c4-4f9e-be19-772f2eb4d264",
   "metadata": {
    "pycharm": {
     "name": "#%%\n"
    }
   },
   "outputs": [],
   "source": [
    "fig = corner.corner(np.array(test_data), color=\"red\")\n",
    "fig = corner.corner(np.array(x_samples), color=\"green\")"
   ]
  },
  {
   "cell_type": "markdown",
   "id": "0a08ee31-49fc-4d42-aaa7-6063e810493d",
   "metadata": {
    "pycharm": {
     "name": "#%% md\n"
    }
   },
   "source": [
    "### Density Estimation"
   ]
  },
  {
   "cell_type": "code",
   "execution_count": null,
   "id": "1c327c7a-c644-49f7-b5bd-ec3b3add009d",
   "metadata": {
    "pycharm": {
     "name": "#%%\n"
    }
   },
   "outputs": [],
   "source": [
    "def generate_2d_grid(\n",
    "    data: np.ndarray, n_grid: int = 1_000, buffer: float = 0.01\n",
    ") -> np.ndarray:\n",
    "\n",
    "    xline = np.linspace(data[:, 0].min() - buffer, data[:, 0].max() + buffer, n_grid)\n",
    "    yline = np.linspace(data[:, 1].min() - buffer, data[:, 1].max() + buffer, n_grid)\n",
    "    xgrid, ygrid = np.meshgrid(xline, yline)\n",
    "    xyinput = np.concatenate([xgrid.reshape(-1, 1), ygrid.reshape(-1, 1)], axis=1)\n",
    "    return xyinput"
   ]
  },
  {
   "cell_type": "code",
   "execution_count": null,
   "id": "c492df01-4cd3-4f69-9a2e-3a2ab3ad6972",
   "metadata": {
    "pycharm": {
     "name": "#%%\n"
    }
   },
   "outputs": [],
   "source": [
    "xyinput = generate_2d_grid(test_data, 500, buffer=0.1)"
   ]
  },
  {
   "cell_type": "code",
   "execution_count": null,
   "id": "5bfaeb87-0601-4ad5-9c02-67f81e71cf67",
   "metadata": {
    "pycharm": {
     "name": "#%%\n"
    }
   },
   "outputs": [],
   "source": [
    "# forward transformation\n",
    "z, ldj = model.forward_and_log_det(xyinput)\n",
    "\n",
    "# latent prob\n",
    "latent_prob = base_dist.log_prob(z)\n",
    "\n",
    "# calculate log prob\n",
    "x_log_prob = sum_except_batch(latent_prob) + sum_except_batch(ldj)"
   ]
  },
  {
   "cell_type": "code",
   "execution_count": null,
   "id": "c5b5230f-d601-49cc-bbfb-7fa3aa942b6e",
   "metadata": {
    "pycharm": {
     "name": "#%%\n"
    }
   },
   "outputs": [],
   "source": [
    "from matplotlib import cm\n",
    "\n",
    "# # Original Density\n",
    "# n_samples = 1_000_000\n",
    "# n_features = 2\n",
    "# X_plot = load_data(n_samples, 42)\n",
    "# X_plot = StandardScaler().fit_transform(X_plot)\n",
    "\n",
    "# Estimated Density\n",
    "cmap = cm.magma  # \"Reds\"\n",
    "probs = np.exp(x_log_prob)\n",
    "# probs = np.clip(probs, 0.0, 1.0)\n",
    "# probs = np.clip(probs, None, 0.0)\n",
    "\n",
    "\n",
    "cmap = cm.magma  # \"Reds\"\n",
    "# cmap = \"Reds\"\n",
    "\n",
    "fig, ax = plt.subplots(ncols=2, figsize=(12, 5))\n",
    "h = ax[0].hist2d(\n",
    "    test_data[:, 0],\n",
    "    test_data[:, 1],\n",
    "    bins=512,\n",
    "    cmap=cmap,\n",
    "    density=True,\n",
    "    vmin=0.0,\n",
    "    vmax=1.0,\n",
    ")\n",
    "ax[0].set_title(\"True Density\")\n",
    "ax[0].set(\n",
    "    xlim=[test_data[:, 0].min(), test_data[:, 0].max()],\n",
    "    ylim=[test_data[:, 1].min(), test_data[:, 1].max()],\n",
    ")\n",
    "\n",
    "\n",
    "h1 = ax[1].scatter(\n",
    "    xyinput[:, 0],\n",
    "    xyinput[:, 1],\n",
    "    s=1,\n",
    "    c=probs,\n",
    "    cmap=cmap,  # vmin=0.0, vmax=1.0\n",
    ")\n",
    "ax[1].set(\n",
    "    xlim=[xyinput[:, 0].min(), xyinput[:, 0].max()],\n",
    "    ylim=[xyinput[:, 1].min(), xyinput[:, 1].max()],\n",
    ")\n",
    "# plt.colorbar(h1)\n",
    "ax[1].set_title(\"Estimated Density\")\n",
    "\n",
    "\n",
    "plt.tight_layout()\n",
    "plt.show()"
   ]
  },
  {
   "cell_type": "code",
   "execution_count": null,
   "id": "2e688746-28b3-4bc1-a167-e9268f8e5cbf",
   "metadata": {
    "pycharm": {
     "name": "#%%\n"
    }
   },
   "outputs": [],
   "source": []
  }
 ],
 "metadata": {
  "kernelspec": {
   "display_name": "Python [conda env:miniconda3-sci_jax_py39]",
   "language": "python",
   "name": "conda-env-miniconda3-sci_jax_py39-py"
  },
  "language_info": {
   "codemirror_mode": {
    "name": "ipython",
    "version": 3
   },
   "file_extension": ".py",
   "mimetype": "text/x-python",
   "name": "python",
   "nbconvert_exporter": "python",
   "pygments_lexer": "ipython3",
   "version": "3.9.7"
  }
 },
 "nbformat": 4,
 "nbformat_minor": 5
}
