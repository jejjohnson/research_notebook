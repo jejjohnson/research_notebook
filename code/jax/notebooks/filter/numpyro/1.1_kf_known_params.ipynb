{
 "cells": [
  {
   "cell_type": "markdown",
   "id": "995f62d3-a019-4ae8-b478-99533b2f0cbb",
   "metadata": {},
   "source": [
    "# Kalman Filter (Numpyro) - Object Tracking"
   ]
  },
  {
   "cell_type": "code",
   "execution_count": null,
   "id": "635ea26b-8f35-45d2-b98e-e371bc575601",
   "metadata": {},
   "outputs": [],
   "source": [
    "import sys, os\n",
    "from pyprojroot import here\n",
    "\n",
    "# spyder up to find the root\n",
    "root = here(project_files=[\".home\"])\n",
    "\n",
    "# append to path\n",
    "sys.path.append(str(root))\n",
    "\n",
    "%load_ext autoreload\n",
    "%autoreload 2"
   ]
  },
  {
   "cell_type": "code",
   "execution_count": null,
   "id": "077b75b9-e52d-4dd6-82a0-388c4a15271d",
   "metadata": {},
   "outputs": [],
   "source": [
    "import jax\n",
    "import jax.numpy as jnp\n",
    "import numpy as np\n",
    "from typing import NamedTuple\n",
    "from jax.random import multivariate_normal, split\n",
    "from tqdm.notebook import tqdm, trange\n",
    "from jax.random import multivariate_normal\n",
    "from tensorflow_probability.substrates import jax as tfp\n",
    "\n",
    "tfd = tfp.distributions\n",
    "\n",
    "import matplotlib.pyplot as plt"
   ]
  },
  {
   "cell_type": "markdown",
   "id": "803a8c06-5d3e-4d24-bb91-9bf6ae7676bf",
   "metadata": {},
   "source": [
    "## Simulating Data"
   ]
  },
  {
   "cell_type": "markdown",
   "id": "36a7e4f8-f48e-45ca-a097-9ccf1b16233d",
   "metadata": {},
   "source": [
    "### State Transition Dynamics\n",
    "\n",
    "We assume that we can fully describe the state when we have the `(x,y)` coordinates of the position and the `(x,y)` velocity. So we can write this as:\n",
    "\n",
    "$$\n",
    "\\mathbf{z}_t = \n",
    "\\begin{bmatrix}\n",
    "z_t^1 \\\\ z_t^2 \\\\ \\dot{z}_t^1 \\\\ \\dot{z}_t^2\n",
    "\\end{bmatrix}\n",
    "$$\n",
    "\n",
    "\n",
    "where $z_t^d$ is the coordinate of the position and $\\dot{z}^d$ is the velocity. \n",
    "\n",
    "We can describe the dynamics of the system using the following system of equations:\n",
    "\n",
    "$$\n",
    "\\begin{aligned}\n",
    "z_t^1 &= z_{t-1}^1 + \\Delta_t \\dot{z}_t^1 + \\epsilon_t^1 \\\\\n",
    "z_t^2 &= z_{t-1}^2 + \\Delta_t \\dot{z}_t^2 + \\epsilon_t^2 \\\\\n",
    "\\dot{z}_t^1 &= \\dot{z}_{t-1}^1 + \\epsilon_t^3 \\\\\n",
    "\\dot{z}_t^2 &= \\dot{z}_{t-1}^2 + \\epsilon_t^4 \\\\\n",
    "\\end{aligned}\n",
    "$$\n",
    "\n",
    "This is a very simple formulation which takes a first order approximation to the change in position based on speed and we also assume constant velocity. Note, we also include some noise because we assume that some of the dynamics are noisy, i.e. there are random acceleration and position changes in the model. \n",
    "\n",
    "\n",
    "We can also put this into matrix formulation like so:\n",
    "\n",
    "$$\n",
    "\\mathbf{z}_t = \\mathbf{A}_t \\mathbf{z}_{t-1} + \\boldsymbol{\\epsilon}_t\n",
    "$$\n",
    "\n",
    "where:\n",
    "\n",
    "$$\n",
    "\\mathbf{A}_t = \n",
    "\\begin{bmatrix}\n",
    "1 & 0 & \\Delta_t & 0 \\\\\n",
    "0 & 1 & 0 & \\Delta_t \\\\\n",
    "0 & 0 & 1 & 0 \\\\\n",
    "0 & 0 & 0 & 1 \\\\\n",
    "\\end{bmatrix}, \\;\\; \\mathbf{A}_t \\in \\mathbb{R}^{4\\times 4}\n",
    "$$\n"
   ]
  },
  {
   "cell_type": "markdown",
   "id": "8f0015e0-f32f-4067-a5c9-07c439201555",
   "metadata": {},
   "source": [
    "---\n",
    "### Emissions Model\n",
    "\n",
    "We can only fully observe the locations (not the velocities). So this will be a lower dimensional vector of size 2-D. The system of equations are as follows:\n",
    "\n",
    "$$\n",
    "\\begin{aligned}\n",
    "x_t^1 &= z_t^1 + \\delta_t^1 \\\\\n",
    "x_t^2 &= z_t^2 + \\delta_t^2 \\\\\n",
    "\\end{aligned}\n",
    "$$\n",
    "\n",
    "This is a very simple model where we assume we can extract the direct positions (plus some noise) from the state.\n",
    "\n",
    "We can write this in an abbreviated matrix formulation:\n",
    "\n",
    "$$\n",
    "\\mathbf{x}_t = \\mathbf{C}_t \\mathbf{z}_t + \\delta_t\n",
    "$$\n",
    "\n",
    "where:\n",
    "\n",
    "$$\n",
    "\\mathbf{C}_t = \n",
    "\\begin{bmatrix}\n",
    "1 & 0 & 0 & 0 \\\\\n",
    "0 & 1 & 0 & 0 \\\\\n",
    "\\end{bmatrix}, \\;\\; \\mathbf{C}_t \\in \\mathbb{R}^{2 \\times 4}\n",
    "$$"
   ]
  },
  {
   "cell_type": "markdown",
   "id": "2bfc4428-027e-4d8e-8460-e5bcddcf5f09",
   "metadata": {},
   "source": [
    "## Model\n",
    "\n",
    "* [x] Modeling Noises Only\n",
    "* [x] Modeling States/Observations\n",
    "* [ ] Using Conditioning Notation\n",
    "* [ ] Using Plate Notation"
   ]
  },
  {
   "cell_type": "code",
   "execution_count": null,
   "id": "385e2f6b-6cbd-41c4-b6f3-d56b629e2ab4",
   "metadata": {},
   "outputs": [],
   "source": [
    "import numpyro\n",
    "import numpyro.distributions as dist\n",
    "from numpyro.contrib.control_flow import scan\n",
    "from numpyro import diagnostics, infer"
   ]
  },
  {
   "cell_type": "markdown",
   "id": "2af75913-5ff5-4645-86ce-1957733d59d1",
   "metadata": {},
   "source": [
    "```python\n",
    "def gaussian_hmm(obs=None, time_steps: int=10):\n",
    "    \n",
    "    if obs is not None:\n",
    "        time_steps = obs.shape[0]\n",
    "        \n",
    "    # transition model\n",
    "    trans = numpyro.sample(\"trans\", dist.Normal(0, 1))\n",
    "    # trans = numpyro.param(\"trans\", 0.1)\n",
    "    \n",
    "    # emission model\n",
    "    emit = numpyro.sample(\"emi\", dist.Normal(0, 1))\n",
    "    # emit = numpyro.param(\"emit\", 0.1 )\n",
    "    \n",
    "    def body(z_prev, x_prev):\n",
    "        # transition distribution\n",
    "        z = numpyro.sample(\"z\", dist.Normal(trans * z_prev, 1))\n",
    "        \n",
    "        # emission distribution\n",
    "        x = numpyro.sample(\"x\", dist.Normal(emit * z, 1), obs=x_prev)\n",
    "        \n",
    "        return z, (z, x)\n",
    "    \n",
    "    # prior dist\n",
    "    z0 = numpyro.sample(\"z0\", dist.Normal(0, 1))\n",
    "    \n",
    "    # scan\n",
    "    _, (z, x) = scan(body, z0, obs, length=time_steps)\n",
    "    \n",
    "    return (z, x)\n",
    "```"
   ]
  },
  {
   "cell_type": "markdown",
   "id": "4939fefb-ad69-4e3a-bf22-9abf60b3b09d",
   "metadata": {},
   "source": [
    "### Model I - Noises Only"
   ]
  },
  {
   "cell_type": "code",
   "execution_count": null,
   "id": "ae0d290e-a508-4402-b50f-6581af298fb7",
   "metadata": {},
   "outputs": [],
   "source": [
    "# init prior dist\n",
    "mu0 = jnp.array([8.0, 5.0, 1.0, 0.0])\n",
    "Sigma0 = 1e-4 * jnp.eye(4)\n",
    "\n",
    "prior_dist = dist.MultivariateNormal(mu0, Sigma0)\n",
    "\n",
    "# =================\n",
    "# transition model\n",
    "# =================\n",
    "state_dim = 4\n",
    "dt = 0.1\n",
    "step_std = 0.1\n",
    "\n",
    "trans_mat = jnp.eye(4) + dt * jnp.eye(4, k=2)\n",
    "trans_noise_mat = step_std**2 * jnp.eye(state_dim)\n",
    "trans_noise = dist.MultivariateNormal(jnp.zeros(state_dim), trans_noise_mat)\n",
    "\n",
    "# =================\n",
    "# emission model\n",
    "# =================\n",
    "noise_std = 0.1\n",
    "obs_dim = 2\n",
    "\n",
    "emiss_mat = jnp.eye(N=2, M=4)\n",
    "emiss_noise_mat = noise_std**2 * jnp.eye(obs_dim)\n",
    "emiss_noise = dist.MultivariateNormal(jnp.zeros(obs_dim), emiss_noise_mat)"
   ]
  },
  {
   "cell_type": "markdown",
   "id": "dbd29436-656c-4712-812d-66d3f53f1363",
   "metadata": {},
   "source": [
    "### Numpyro - Simplest"
   ]
  },
  {
   "cell_type": "code",
   "execution_count": null,
   "id": "1b70501f-ccb5-4c98-8993-beb4ae2d3df3",
   "metadata": {},
   "outputs": [],
   "source": [
    "def simulated_kalman_filter_simple(\n",
    "    trans_mat: jnp.ndarray,\n",
    "    trans_noise_cov: jnp.ndarray,\n",
    "    emiss_mat: jnp.ndarray,\n",
    "    emiss_noise_cov: jnp.ndarray,\n",
    "    prior_dist,\n",
    "    time_steps: int = 100,\n",
    "    x_obs: jnp.ndarray = None,\n",
    "    x_obs_mask: jnp.ndarray = None,\n",
    "):\n",
    "    if x_obs is not None:\n",
    "        time_steps, n_dims = x_obs.shape\n",
    "\n",
    "    # ==================\n",
    "    # sample from prior\n",
    "    # ==================\n",
    "    z = numpyro.sample(\"z0\", prior_dist)\n",
    "\n",
    "    xs, zs = [], []\n",
    "\n",
    "    # Model\n",
    "    for t in range(time_steps):\n",
    "\n",
    "        # transition\n",
    "        z = numpyro.sample(\n",
    "            f\"z_t{t}\",\n",
    "            dist.MultivariateNormal(\n",
    "                loc=jnp.dot(trans_mat, z), covariance_matrix=trans_noise_cov\n",
    "            ),\n",
    "        )\n",
    "\n",
    "        # sample noise\n",
    "        x = numpyro.sample(\n",
    "            f\"x_t{t}\",\n",
    "            dist.MultivariateNormal(\n",
    "                loc=jnp.dot(emiss_mat, z), covariance_matrix=emiss_noise_cov\n",
    "            ),\n",
    "        )\n",
    "\n",
    "        xs.append(x)\n",
    "        zs.append(z)\n",
    "\n",
    "    return jnp.stack(zs, axis=0), jnp.stack(xs, axis=0)"
   ]
  },
  {
   "cell_type": "markdown",
   "id": "851702d8-fe64-472e-9357-61fab59caed4",
   "metadata": {},
   "source": [
    "#### Sampling (Unconditional)"
   ]
  },
  {
   "cell_type": "code",
   "execution_count": null,
   "id": "1f3fe216-8da5-4572-8a95-0bcab388e9ab",
   "metadata": {},
   "outputs": [],
   "source": [
    "time_steps = 80\n",
    "\n",
    "with numpyro.handlers.seed(rng_seed=123):\n",
    "    z_s, x_s = simulated_kalman_filter_simple(\n",
    "        trans_mat=trans_mat,\n",
    "        trans_noise_cov=trans_noise_mat,\n",
    "        emiss_mat=emiss_mat,\n",
    "        emiss_noise_cov=emiss_noise_mat,\n",
    "        prior_dist=prior_dist,\n",
    "        time_steps=time_steps,\n",
    "        x_obs=None,\n",
    "    )\n",
    "    params = numpyro.handlers.trace(simulated_kalman_filter_simple).get_trace(\n",
    "        trans_mat=trans_mat,\n",
    "        trans_noise_cov=trans_noise_mat,\n",
    "        emiss_mat=emiss_mat,\n",
    "        emiss_noise_cov=emiss_noise_mat,\n",
    "        prior_dist=prior_dist,\n",
    "        time_steps=time_steps,\n",
    "        x_obs=None,\n",
    "    )\n",
    "    # log_joint = numpyro.infer.util.log_density(model, (data, mask), {}, {\"x\": x, \"y\": x})[0]\n",
    "print(z_s.shape, x_s.shape)"
   ]
  },
  {
   "cell_type": "code",
   "execution_count": null,
   "id": "d6b217c5-a2b5-439b-a707-7bed91c04838",
   "metadata": {},
   "outputs": [],
   "source": [
    "[params.keys()]"
   ]
  },
  {
   "cell_type": "code",
   "execution_count": null,
   "id": "c7f1c236-5209-4d92-a1eb-93252a3061f4",
   "metadata": {},
   "outputs": [],
   "source": [
    "fig, ax = plt.subplots()\n",
    "\n",
    "ax.plot(z_s[..., 0], z_s[..., 1], color=\"black\", label=\"True State\")\n",
    "# ax.plot(x_s[..., 0], x_s[..., 1], color=\"tab:red\", linestyle=\"--\", label=\"Noisy Latent\")\n",
    "ax.scatter(x_s[..., 0], x_s[..., 1], label=\"Measurements\", color=\"red\", alpha=0.5)\n",
    "\n",
    "ax.set(xlabel=\"x-position\", ylabel=\"y-position\")\n",
    "plt.legend()\n",
    "plt.show()"
   ]
  },
  {
   "cell_type": "markdown",
   "id": "5917769b-3213-4d29-b7fb-f7792d510763",
   "metadata": {},
   "source": [
    "### Numpyro - Scan Function"
   ]
  },
  {
   "cell_type": "code",
   "execution_count": null,
   "id": "53dee8eb-d05f-46ec-bb09-4f2fa5861326",
   "metadata": {},
   "outputs": [],
   "source": [
    "def simulated_kalman_filter(\n",
    "    trans_mat: jnp.ndarray,\n",
    "    trans_noise_cov: jnp.ndarray,\n",
    "    emiss_mat: jnp.ndarray,\n",
    "    emiss_noise_cov: jnp.ndarray,\n",
    "    prior_dist,\n",
    "    time_steps: int = 100,\n",
    "    x_obs: jnp.ndarray = None,\n",
    "    x_obs_mask: jnp.ndarray = None,\n",
    "):\n",
    "    if x_obs is not None:\n",
    "        time_steps, n_dims = x_obs.shape\n",
    "\n",
    "    # ==================\n",
    "    # sample from prior\n",
    "    # ==================\n",
    "    z0 = numpyro.sample(\"z0\", prior_dist)\n",
    "\n",
    "    # Model\n",
    "    def body(z_prev, x_prev):\n",
    "\n",
    "        # transition\n",
    "        z = numpyro.sample(\n",
    "            \"z\",\n",
    "            dist.MultivariateNormal(\n",
    "                loc=jnp.dot(trans_mat, z_prev), covariance_matrix=trans_noise_cov\n",
    "            ),\n",
    "        )\n",
    "\n",
    "        # sample noise\n",
    "        x = numpyro.sample(\n",
    "            \"x\",\n",
    "            dist.MultivariateNormal(\n",
    "                loc=jnp.dot(emiss_mat, z), covariance_matrix=emiss_noise_cov\n",
    "            ),\n",
    "            obs=x_prev,\n",
    "        )\n",
    "\n",
    "        return z, (z, x)\n",
    "\n",
    "    _, (z, x) = scan(f=body, init=(z0), xs=x_obs, length=time_steps)\n",
    "\n",
    "    return z, x"
   ]
  },
  {
   "cell_type": "markdown",
   "id": "a40243fd-545a-4544-a8d2-3c486be1b1eb",
   "metadata": {},
   "source": [
    "#### Faster\n",
    "\n",
    "**Especially** for longer time series."
   ]
  },
  {
   "cell_type": "code",
   "execution_count": null,
   "id": "86f90705-1314-4248-bd47-63d2f7922efd",
   "metadata": {},
   "outputs": [],
   "source": [
    "%%timeit\n",
    "time_steps = 1_000\n",
    "\n",
    "with numpyro.handlers.seed(rng_seed=123):\n",
    "    z_s, x_s = simulated_kalman_filter_simple(\n",
    "        trans_mat=trans_mat,\n",
    "        trans_noise_cov=trans_noise_mat,\n",
    "        emiss_mat=emiss_mat,\n",
    "        emiss_noise_cov=emiss_noise_mat,\n",
    "        prior_dist=prior_dist,\n",
    "        time_steps=time_steps,\n",
    "        x_obs=None,\n",
    "    )\n",
    "\n",
    "    # log_joint = numpyro.infer.util.log_density(model, (data, mask), {}, {\"x\": x, \"y\": x})[0]"
   ]
  },
  {
   "cell_type": "code",
   "execution_count": null,
   "id": "83134427-6efd-4783-8dbb-25585b25ebd9",
   "metadata": {},
   "outputs": [],
   "source": [
    "%%timeit\n",
    "time_steps = 1_000\n",
    "\n",
    "with numpyro.handlers.seed(rng_seed=123):\n",
    "    z_s_, x_s_ = simulated_kalman_filter(\n",
    "        trans_mat=trans_mat,\n",
    "        trans_noise_cov=trans_noise_mat,\n",
    "        emiss_mat=emiss_mat,\n",
    "        emiss_noise_cov=emiss_noise_mat,\n",
    "        prior_dist=prior_dist,\n",
    "        time_steps=time_steps,\n",
    "        x_obs=None,\n",
    "    )"
   ]
  },
  {
   "cell_type": "code",
   "execution_count": null,
   "id": "aa9d6c95-c997-4804-a6c2-0475750f3873",
   "metadata": {},
   "outputs": [],
   "source": [
    "fig, ax = plt.subplots()\n",
    "\n",
    "ax.plot(z_s[..., 0], z_s[..., 1], color=\"black\", label=\"True State\")\n",
    "# ax.plot(x_s[..., 0], x_s[..., 1], color=\"tab:red\", linestyle=\"--\", label=\"Noisy Latent\")\n",
    "ax.scatter(x_s[..., 0], x_s[..., 1], label=\"Measurements\", color=\"red\", alpha=0.5)\n",
    "\n",
    "ax.set(xlabel=\"x-position\", ylabel=\"y-position\")\n",
    "plt.legend()\n",
    "plt.show()"
   ]
  },
  {
   "cell_type": "markdown",
   "id": "9ec5f0e3-26fc-4c71-95a4-81618148566e",
   "metadata": {},
   "source": [
    "#### Clean Parameters"
   ]
  },
  {
   "cell_type": "code",
   "execution_count": null,
   "id": "82d5b59f-16ec-40df-b1e3-084754653cc3",
   "metadata": {},
   "outputs": [],
   "source": [
    "time_steps = 50\n",
    "\n",
    "with numpyro.handlers.seed(rng_seed=123):\n",
    "    params = numpyro.handlers.trace(simulated_kalman_filter_simple).get_trace(\n",
    "        trans_mat=trans_mat,\n",
    "        trans_noise_cov=trans_noise_mat,\n",
    "        emiss_mat=emiss_mat,\n",
    "        emiss_noise_cov=emiss_noise_mat,\n",
    "        prior_dist=prior_dist,\n",
    "        time_steps=time_steps,\n",
    "        x_obs=None,\n",
    "    )\n",
    "    # log_joint = numpyro.infer.util.log_density(model, (data, mask), {}, {\"x\": x, \"y\": x})[0]\n",
    "[params.keys()]"
   ]
  },
  {
   "cell_type": "code",
   "execution_count": null,
   "id": "8e55b9de-f3ba-4960-b537-f59b2e7464bc",
   "metadata": {},
   "outputs": [],
   "source": [
    "time_steps = 1_000\n",
    "\n",
    "with numpyro.handlers.seed(rng_seed=123):\n",
    "    params = numpyro.handlers.trace(simulated_kalman_filter).get_trace(\n",
    "        trans_mat=trans_mat,\n",
    "        trans_noise_cov=trans_noise_mat,\n",
    "        emiss_mat=emiss_mat,\n",
    "        emiss_noise_cov=emiss_noise_mat,\n",
    "        prior_dist=prior_dist,\n",
    "        time_steps=time_steps,\n",
    "        x_obs=None,\n",
    "    )\n",
    "    # log_joint = numpyro.infer.util.log_density(model, (data, mask), {}, {\"x\": x, \"y\": x})[0]\n",
    "[params.keys()]"
   ]
  },
  {
   "cell_type": "code",
   "execution_count": null,
   "id": "58f94651-ebf2-48da-822f-74503e257597",
   "metadata": {},
   "outputs": [],
   "source": [
    "params[\"z\"][\"value\"].shape"
   ]
  },
  {
   "cell_type": "markdown",
   "id": "ebb3e0fd-548e-49a0-ba83-bfbef3f3f863",
   "metadata": {},
   "source": [
    "## Sampling"
   ]
  },
  {
   "cell_type": "markdown",
   "id": "229461ae-b75b-4d21-b580-08a24e300dce",
   "metadata": {},
   "source": [
    "### Unconditional"
   ]
  },
  {
   "cell_type": "code",
   "execution_count": null,
   "id": "3c5e2c5d-b047-4b3b-9019-710e7e949814",
   "metadata": {},
   "outputs": [],
   "source": [
    "num_samples = 5\n",
    "rng_key_prior = jax.random.PRNGKey(123)\n",
    "\n",
    "# prior\n",
    "predictive = infer.Predictive(simulated_kalman_filter, num_samples=num_samples)\n",
    "prior_samples = predictive(\n",
    "    rng_key_prior,\n",
    "    trans_mat=trans_mat,\n",
    "    trans_noise_cov=trans_noise_mat,\n",
    "    emiss_mat=emiss_mat,\n",
    "    emiss_noise_cov=emiss_noise_mat,\n",
    "    prior_dist=prior_dist,\n",
    "    time_steps=time_steps,\n",
    "    x_obs=None,\n",
    ")"
   ]
  },
  {
   "cell_type": "code",
   "execution_count": null,
   "id": "7277b9ac-5174-479a-a572-848a8237f47e",
   "metadata": {},
   "outputs": [],
   "source": [
    "z_s = prior_samples[\"z\"]\n",
    "x_s = prior_samples[\"x\"]\n",
    "\n",
    "print(z_s.shape, x_s.shape)"
   ]
  },
  {
   "cell_type": "code",
   "execution_count": null,
   "id": "8ea55028-5a90-463d-b1c9-b575cb602fa1",
   "metadata": {},
   "outputs": [],
   "source": [
    "fig, ax = plt.subplots()\n",
    "\n",
    "for i in range(num_samples):\n",
    "    ax.plot(z_s[i, ..., 0], z_s[i, ..., 1], color=\"black\", label=\"True State\")\n",
    "    # ax.plot(x_s[..., 0], x_s[..., 1], color=\"tab:red\", linestyle=\"--\", label=\"Noisy Latent\")\n",
    "    ax.scatter(\n",
    "        x_s[i, ..., 0], x_s[i, ..., 1], label=\"Measurements\", color=\"red\", alpha=0.5\n",
    "    )\n",
    "\n",
    "ax.set(xlabel=\"x-position\", ylabel=\"y-position\")\n",
    "# plt.legend()\n",
    "plt.show()"
   ]
  },
  {
   "cell_type": "markdown",
   "id": "7583dfff-75f6-4e42-9640-7f52f8333bb3",
   "metadata": {},
   "source": [
    "#### Conditional"
   ]
  },
  {
   "cell_type": "code",
   "execution_count": null,
   "id": "2ec8ac90-e762-4f6e-a22b-7ba7efe6fcaa",
   "metadata": {},
   "outputs": [],
   "source": [
    "true_state = prior_samples[\"z\"][0]\n",
    "true_obs = prior_samples[\"x\"][0]"
   ]
  },
  {
   "cell_type": "code",
   "execution_count": null,
   "id": "7db71991-ea5f-48ba-bf8c-2eae9d5bda55",
   "metadata": {},
   "outputs": [],
   "source": [
    "fig, ax = plt.subplots()\n",
    "\n",
    "for i in range(num_samples):\n",
    "    ax.plot(true_state[..., 0], true_state[..., 1], color=\"black\", label=\"True State\")\n",
    "    # ax.plot(x_s[..., 0], x_s[..., 1], color=\"tab:red\", linestyle=\"--\", label=\"Noisy Latent\")\n",
    "    ax.scatter(\n",
    "        true_obs[..., 0], true_obs[..., 1], label=\"Measurements\", color=\"red\", alpha=0.5\n",
    "    )\n",
    "\n",
    "ax.set(xlabel=\"x-position\", ylabel=\"y-position\")\n",
    "# plt.legend()\n",
    "plt.show()"
   ]
  },
  {
   "cell_type": "code",
   "execution_count": null,
   "id": "5e266169-060c-4bc4-8f64-ffc1d0198c6f",
   "metadata": {},
   "outputs": [],
   "source": [
    "# create posterior samples\n",
    "posterior_samples = {\n",
    "    \"z\": true_state[None, ...],\n",
    "    \"x\": true_obs[None, ...],\n",
    "}"
   ]
  },
  {
   "cell_type": "code",
   "execution_count": null,
   "id": "246d3d58-1e58-4dea-a4a6-8d3908d07706",
   "metadata": {},
   "outputs": [],
   "source": [
    "num_samples = 100\n",
    "\n",
    "# prior\n",
    "predictive = infer.Predictive(\n",
    "    simulated_kalman_filter,\n",
    "    posterior_samples=prior_samples,\n",
    "    num_samples=num_samples,\n",
    "    return_sites=[\"z\", \"x\"],\n",
    ")\n",
    "posterior_predictive = predictive(\n",
    "    rng_key_prior,\n",
    "    trans_mat=trans_mat,\n",
    "    trans_noise_cov=trans_noise_mat,\n",
    "    emiss_mat=emiss_mat,\n",
    "    emiss_noise_cov=emiss_noise_mat,\n",
    "    prior_dist=prior_dist,\n",
    "    time_steps=time_steps,\n",
    ")"
   ]
  },
  {
   "cell_type": "code",
   "execution_count": null,
   "id": "bdf7d6ce-22e5-473c-a9cd-911bb0e8245a",
   "metadata": {},
   "outputs": [],
   "source": [
    "posterior_predictive[\"x\"].shape, posterior_samples[\"x\"].shape"
   ]
  },
  {
   "cell_type": "code",
   "execution_count": null,
   "id": "e5aa843d-6164-472a-903b-90219ae5d911",
   "metadata": {},
   "outputs": [],
   "source": [
    "z_s_ = posterior_predictive[\"z\"]\n",
    "x_s_ = posterior_predictive[\"x\"]\n",
    "\n",
    "print(z_s_.shape, x_s_.shape)"
   ]
  },
  {
   "cell_type": "code",
   "execution_count": null,
   "id": "8a8ef43c-d95c-438c-b63f-41c27aed99f1",
   "metadata": {},
   "outputs": [],
   "source": [
    "z_s_.shape"
   ]
  },
  {
   "cell_type": "code",
   "execution_count": null,
   "id": "4657bb56-3c43-4751-9686-4dc18b36306c",
   "metadata": {},
   "outputs": [],
   "source": [
    "fig, ax = plt.subplots()\n",
    "\n",
    "for i in range(num_samples):\n",
    "    ax.plot(z_s_[i, ..., 0], z_s_[i, ..., 1], color=\"black\", label=\"True State\")\n",
    "    # ax.plot(x_s[..., 0], x_s[..., 1], color=\"tab:red\", linestyle=\"--\", label=\"Noisy Latent\")\n",
    "    ax.scatter(\n",
    "        x_s_[i, ..., 0], x_s_[i, ..., 1], label=\"Measurements\", color=\"red\", alpha=0.5\n",
    "    )\n",
    "\n",
    "ax.set(xlabel=\"x-position\", ylabel=\"y-position\")\n",
    "# plt.legend()\n",
    "plt.show()"
   ]
  },
  {
   "cell_type": "code",
   "execution_count": null,
   "id": "8617ceeb-ca90-4ca7-a0e4-d31354599d82",
   "metadata": {},
   "outputs": [],
   "source": []
  }
 ],
 "metadata": {
  "kernelspec": {
   "display_name": "Python [conda env:jax_py39]",
   "language": "python",
   "name": "conda-env-jax_py39-py"
  },
  "language_info": {
   "codemirror_mode": {
    "name": "ipython",
    "version": 3
   },
   "file_extension": ".py",
   "mimetype": "text/x-python",
   "name": "python",
   "nbconvert_exporter": "python",
   "pygments_lexer": "ipython3",
   "version": "3.9.13"
  }
 },
 "nbformat": 4,
 "nbformat_minor": 5
}
