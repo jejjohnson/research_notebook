{
 "cells": [
  {
   "cell_type": "markdown",
   "metadata": {
    "colab_type": "text",
    "id": "view-in-github"
   },
   "source": [
    "<a href=\"https://colab.research.google.com/github/jejjohnson/gp_model_zoo/blob/master/code/numpyro/numpyro_sparsegp_uncertain.ipynb\" target=\"_parent\"><img src=\"https://colab.research.google.com/assets/colab-badge.svg\" alt=\"Open In Colab\"/></a>"
   ]
  },
  {
   "cell_type": "markdown",
   "metadata": {
    "id": "hecnCJD1trHy"
   },
   "source": [
    "# Sparse Gaussian Process w/ Numpyro\n",
    "\n",
    "My starting notebook where I install all of the necessary libraries and load some easy 1D/2D Regression data to play around with."
   ]
  },
  {
   "cell_type": "code",
   "execution_count": null,
   "metadata": {
    "id": "IgSMWFaNtnjB"
   },
   "outputs": [],
   "source": [
    "# #@title Install Packages\n",
    "# %%capture\n",
    "# !pip install pyprojroot jax jaxlib chex numpyro flax distrax numpy pandas seaborn matplotlib corner loguru nb_black sklearn"
   ]
  },
  {
   "cell_type": "code",
   "execution_count": null,
   "metadata": {},
   "outputs": [],
   "source": [
    "import sys, os\n",
    "from pyprojroot import here\n",
    "\n",
    "# spyder up to find the root\n",
    "root = here(project_files=[\".root\"])\n",
    "\n",
    "# append to path\n",
    "sys.path.append(str(root))"
   ]
  },
  {
   "cell_type": "code",
   "execution_count": null,
   "metadata": {
    "id": "c5TKBjGbumu6"
   },
   "outputs": [],
   "source": [
    "# @title Load Packages\n",
    "# TYPE HINTS\n",
    "from typing import Tuple, Optional, Dict, Callable, Union\n",
    "\n",
    "# JAX SETTINGS\n",
    "import jax\n",
    "import jax.numpy as jnp\n",
    "import jax.random as random\n",
    "\n",
    "\n",
    "# JAX UTILITY LIBRARIES\n",
    "import chex\n",
    "\n",
    "# NUMPYRO SETTINGS\n",
    "import numpyro\n",
    "import numpyro.distributions as dist\n",
    "from numpyro.infer.autoguide import AutoDiagonalNormal\n",
    "from numpyro.infer import SVI, Trace_ELBO\n",
    "\n",
    "# NUMPY SETTINGS\n",
    "import numpy as np\n",
    "\n",
    "np.set_printoptions(precision=3, suppress=True)\n",
    "\n",
    "# MATPLOTLIB Settings\n",
    "import matplotlib as mpl\n",
    "import matplotlib.pyplot as plt\n",
    "\n",
    "%matplotlib inline\n",
    "%config InlineBackend.figure_format = 'retina'\n",
    "\n",
    "# SEABORN SETTINGS\n",
    "import seaborn as sns\n",
    "\n",
    "sns.set_context(context=\"poster\", font_scale=0.8)\n",
    "\n",
    "# PANDAS SETTINGS\n",
    "import pandas as pd\n",
    "\n",
    "pd.set_option(\"display.max_rows\", 120)\n",
    "pd.set_option(\"display.max_columns\", 120)\n",
    "\n",
    "# LOGGING SETTINGS\n",
    "import loguru\n",
    "\n",
    "%load_ext lab_black\n",
    "%load_ext autoreload\n",
    "%autoreload 2"
   ]
  },
  {
   "cell_type": "markdown",
   "metadata": {},
   "source": [
    "## Data"
   ]
  },
  {
   "cell_type": "code",
   "execution_count": null,
   "metadata": {},
   "outputs": [],
   "source": [
    "from src.data import regression_complex, regression_simple\n",
    "\n",
    "Xtrain, ytrain, xtest, ytest = regression_complex(\n",
    "    n_train=1_000, n_test=1_000, noise=0.2, seed=123, buffer=0.1\n",
    ")\n",
    "\n",
    "fig, ax = plt.subplots(figsize=(10, 5))\n",
    "ax.scatter(Xtrain, ytrain, color=\"tab:orange\", label=\"Data\")\n",
    "ax.plot(xtest, ytest, color=\"black\", label=\"True Function\")\n",
    "ax.legend(fontsize=12)\n",
    "plt.tight_layout()\n",
    "plt.show()"
   ]
  },
  {
   "cell_type": "markdown",
   "metadata": {
    "id": "wXa_nHwb3NLL"
   },
   "source": [
    "## Gaussian Process Model"
   ]
  },
  {
   "cell_type": "markdown",
   "metadata": {},
   "source": [
    "### Kernel Function"
   ]
  },
  {
   "cell_type": "code",
   "execution_count": null,
   "metadata": {},
   "outputs": [],
   "source": [
    "from chex import Array\n",
    "from src.utils import identity_matrix, add_to_diagonal\n",
    "from src.kernels import RBF"
   ]
  },
  {
   "cell_type": "code",
   "execution_count": null,
   "metadata": {
    "id": "RmJrGlYS3TuD"
   },
   "outputs": [],
   "source": [
    "rbf_kernel = RBF(length_scale=1.0, variance=1.0)\n",
    "K = rbf_kernel.gram(Xtrain)\n",
    "\n",
    "# check shape\n",
    "chex.assert_shape(K, (Xtrain.shape[0], Xtrain.shape[0]))"
   ]
  },
  {
   "cell_type": "code",
   "execution_count": null,
   "metadata": {},
   "outputs": [],
   "source": [
    "fig, ax = plt.subplots()\n",
    "\n",
    "ax.imshow(K, interpolation=\"nearest\")\n",
    "plt.tight_layout()\n",
    "plt.show()"
   ]
  },
  {
   "cell_type": "markdown",
   "metadata": {},
   "source": [
    "### Inducing Points"
   ]
  },
  {
   "cell_type": "code",
   "execution_count": null,
   "metadata": {},
   "outputs": [],
   "source": [
    "n_inducing = 100"
   ]
  },
  {
   "cell_type": "markdown",
   "metadata": {},
   "source": [
    "#### Random Selection"
   ]
  },
  {
   "cell_type": "code",
   "execution_count": null,
   "metadata": {},
   "outputs": [],
   "source": [
    "from src.utils import init_inducing_subsample, init_inducing_kmeans\n",
    "\n",
    "X_u_init = init_inducing_subsample(Xtrain, n_inducing, seed=42)"
   ]
  },
  {
   "cell_type": "code",
   "execution_count": null,
   "metadata": {},
   "outputs": [],
   "source": [
    "fig, ax = plt.subplots(figsize=(10, 5))\n",
    "ax.scatter(Xtrain, ytrain, color=\"tab:orange\", label=\"Data\")\n",
    "ax.plot(xtest, ytest, color=\"black\", label=\"True Function\")\n",
    "ax.scatter(X_u_init, np.zeros(n_inducing), color=\"blue\", marker=\"x\", s=10)\n",
    "ax.legend()\n",
    "plt.tight_layout()\n",
    "plt.show()"
   ]
  },
  {
   "cell_type": "markdown",
   "metadata": {},
   "source": [
    "#### K-Means Clustering"
   ]
  },
  {
   "cell_type": "code",
   "execution_count": null,
   "metadata": {},
   "outputs": [],
   "source": [
    "X_u_init = init_inducing_kmeans(Xtrain, n_inducing, seed=123)"
   ]
  },
  {
   "cell_type": "code",
   "execution_count": null,
   "metadata": {},
   "outputs": [],
   "source": [
    "fig, ax = plt.subplots(figsize=(10, 5))\n",
    "ax.scatter(Xtrain, ytrain, color=\"tab:orange\", label=\"Data\")\n",
    "ax.plot(xtest, ytest, color=\"black\", label=\"True Function\")\n",
    "ax.scatter(X_u_init, np.zeros(n_inducing), color=\"blue\", marker=\"x\", s=10)\n",
    "ax.legend()\n",
    "plt.tight_layout()\n",
    "plt.show()"
   ]
  },
  {
   "cell_type": "code",
   "execution_count": null,
   "metadata": {},
   "outputs": [],
   "source": [
    "from src.sparse import SGPVFE, SGPFITC\n",
    "from src.means import zero_mean\n",
    "from chex import Array\n",
    "\n",
    "jitter = 1e-5\n",
    "\n",
    "\n",
    "def numpyro_model(X, y):\n",
    "\n",
    "    #     # Set priors on hyperparameters.\n",
    "    #     η = numpyro.sample(\"variance\", dist.HalfCauchy(scale=5.0))\n",
    "    #     ℓ = numpyro.sample(\"length_scale\", dist.Gamma(2.0, 1.0))\n",
    "    #     σ = numpyro.sample(\"obs_noise\", dist.HalfCauchy(scale=5.0))\n",
    "    #     x_u = numpyro.sample(\"x_u\", dist.Uniform(-1.0, 1.0), sample_shape=X_u_init.shape)\n",
    "\n",
    "    x_u = numpyro.param(\"x_u\", init_value=X_u_init)\n",
    "\n",
    "    # set params and constraints on hyperparams\n",
    "    η = numpyro.param(\"variance\", init_value=1.0, constraints=dist.constraints.positive)\n",
    "    ℓ = numpyro.param(\n",
    "        \"length_scale\", init_value=0.1, constraints=dist.constraints.positive\n",
    "    )\n",
    "    σ = numpyro.param(\"obs_noise\", init_value=0.1, onstraints=dist.constraints.positive)\n",
    "\n",
    "    # Kernel Function\n",
    "    rbf_kernel = RBF(variance=η, length_scale=ℓ)\n",
    "\n",
    "    # GP Model\n",
    "    gp_model = SGPVFE(\n",
    "        X=X, X_u=x_u, y=y, mean=zero_mean, kernel=rbf_kernel, obs_noise=σ, jitter=jitter\n",
    "    )\n",
    "\n",
    "    # Sample y according SGP\n",
    "    return gp_model.to_numpyro(y=y)\n",
    "\n",
    "\n",
    "def empty_guide(X, y):\n",
    "    pass"
   ]
  },
  {
   "cell_type": "code",
   "execution_count": null,
   "metadata": {
    "id": "hCkOnVvbQWIF"
   },
   "outputs": [],
   "source": [
    "with numpyro.handlers.seed(rng_seed=123):\n",
    "    t = numpyro_model(Xtrain, ytrain)\n",
    "\n",
    "assert t.shape == Xtrain.shape"
   ]
  },
  {
   "cell_type": "markdown",
   "metadata": {
    "id": "NBOZgRAk1qE3"
   },
   "source": [
    "## Exact GP - Maximum Marginal Likelihood"
   ]
  },
  {
   "cell_type": "code",
   "execution_count": null,
   "metadata": {
    "id": "MZaEHxshPGAn"
   },
   "outputs": [],
   "source": [
    "from numpyro.infer.autoguide import (\n",
    "    AutoDelta,\n",
    ")  # AutoDiagonalNormal, AutoIAFNormal, AutoLaplaceApproximation, AutoMultivariateNormal"
   ]
  },
  {
   "cell_type": "code",
   "execution_count": null,
   "metadata": {
    "colab": {
     "base_uri": "https://localhost:8080/"
    },
    "id": "Yd1suJfUKgTi",
    "outputId": "7bb6d895-427b-47c4-b782-f23ecb331cc6"
   },
   "outputs": [],
   "source": [
    "# ===================\n",
    "# Model\n",
    "# ===================\n",
    "# GP model\n",
    "\n",
    "# delta guide - basically deterministic\n",
    "delta_guide = AutoDelta(numpyro_model)\n",
    "mll_guide = empty_guide"
   ]
  },
  {
   "cell_type": "code",
   "execution_count": null,
   "metadata": {
    "colab": {
     "base_uri": "https://localhost:8080/"
    },
    "id": "MJsm0nCN69Nd",
    "outputId": "c67c9911-4ffa-43e7-b984-973dcd19dbac"
   },
   "outputs": [],
   "source": [
    "# reproducibility\n",
    "rng_key = random.PRNGKey(0)\n",
    "\n",
    "\n",
    "# Setup\n",
    "optimizer = numpyro.optim.Adam(step_size=0.005)\n",
    "# optimizer = numpyro.optim.Minimize()\n",
    "# optimizer = optax.adamw(learning_rate=0.1)\n",
    "svi = SVI(numpyro_model, mll_guide, optimizer, loss=Trace_ELBO())\n",
    "svi_results = svi.run(random.PRNGKey(1), 100, Xtrain, ytrain.T)"
   ]
  },
  {
   "cell_type": "code",
   "execution_count": null,
   "metadata": {
    "colab": {
     "base_uri": "https://localhost:8080/",
     "height": 304
    },
    "id": "76vAkN08OeLr",
    "outputId": "441d830c-0b59-4617-f876-54f04981c7a8"
   },
   "outputs": [],
   "source": [
    "fig, ax = plt.subplots()\n",
    "\n",
    "ax.plot(svi_results.losses)\n",
    "ax.set(title=\"Loss\", xlabel=\"Iterations\", ylabel=\"Negative Log-Likelihood\")\n",
    "plt.show()"
   ]
  },
  {
   "cell_type": "markdown",
   "metadata": {
    "id": "XJ8UTKuBMJx4"
   },
   "source": [
    "### Extracting the Params"
   ]
  },
  {
   "cell_type": "code",
   "execution_count": null,
   "metadata": {
    "colab": {
     "base_uri": "https://localhost:8080/"
    },
    "id": "YSOYGadfMLPf",
    "outputId": "10177286-c6dd-48a9-fedb-61062150c908"
   },
   "outputs": [],
   "source": [
    "from pprint import pprint\n",
    "\n",
    "# Take them directly\n",
    "learned_params = svi_results.params\n",
    "# x_u = learned_params[\"x_u\"]\n",
    "# learned_params = delta_guide.median(learned_params)\n",
    "# learned_params[\"x_u\"] = x_u"
   ]
  },
  {
   "cell_type": "markdown",
   "metadata": {},
   "source": [
    "## Predictions"
   ]
  },
  {
   "cell_type": "code",
   "execution_count": null,
   "metadata": {},
   "outputs": [],
   "source": [
    "from src.sparse import init_sgp_predictive\n",
    "\n",
    "sgp_pred = init_sgp_predictive(RBF, learned_params, Xtrain, ytrain, jitter=1e-5)"
   ]
  },
  {
   "cell_type": "code",
   "execution_count": null,
   "metadata": {},
   "outputs": [],
   "source": [
    "mu, var = sgp_pred.predict_y(xtest, full_covariance=False)\n",
    "\n",
    "std = jnp.sqrt(var).ravel()"
   ]
  },
  {
   "cell_type": "code",
   "execution_count": null,
   "metadata": {},
   "outputs": [],
   "source": [
    "ci = 1.96\n",
    "one_stddev = ci * std"
   ]
  },
  {
   "cell_type": "code",
   "execution_count": null,
   "metadata": {},
   "outputs": [],
   "source": [
    "fig, ax = plt.subplots(figsize=(10, 5))\n",
    "ax.plot(Xtrain, ytrain.squeeze(), \"o\", color=\"tab:orange\", label=\"Training Data\")\n",
    "ax.plot(xtest, ytest, color=\"black\", linestyle=\"-\", label=\"True Function\")\n",
    "ax.plot(\n",
    "    xtest,\n",
    "    mu.ravel(),\n",
    "    color=\"tab:blue\",\n",
    "    linewidth=3,\n",
    "    linestyle=\"--\",\n",
    "    label=\"Predictive Mean\",\n",
    ")\n",
    "ax.fill_between(\n",
    "    xtest.ravel(),\n",
    "    mu.ravel() - one_stddev,\n",
    "    mu.ravel() + one_stddev,\n",
    "    alpha=0.4,\n",
    "    color=\"tab:blue\",\n",
    "    label=f\" 95% Confidence Interval\",\n",
    ")\n",
    "plt.scatter(\n",
    "    learned_params[\"x_u\"],\n",
    "    np.zeros_like(learned_params[\"x_u\"]),\n",
    "    label=\"Learned Inducing Points\",\n",
    "    color=\"black\",\n",
    "    marker=\"x\",\n",
    "    zorder=3,\n",
    ")\n",
    "ax.plot(xtest, mu.ravel() - one_stddev, linestyle=\"--\", color=\"tab:blue\")\n",
    "ax.plot(xtest, mu.ravel() + one_stddev, linestyle=\"--\", color=\"tab:blue\")\n",
    "plt.tight_layout()\n",
    "plt.legend(fontsize=12)\n",
    "plt.show()"
   ]
  },
  {
   "cell_type": "markdown",
   "metadata": {},
   "source": [
    "### Calibration"
   ]
  },
  {
   "cell_type": "code",
   "execution_count": null,
   "metadata": {},
   "outputs": [],
   "source": [
    "from uncertainty_toolbox import viz as utviz"
   ]
  },
  {
   "cell_type": "markdown",
   "metadata": {},
   "source": [
    "#### Training Data"
   ]
  },
  {
   "cell_type": "code",
   "execution_count": null,
   "metadata": {},
   "outputs": [],
   "source": [
    "mu, var = sgp_pred.predict_y(Xtrain)\n",
    "\n",
    "std = jnp.sqrt(var)\n",
    "\n",
    "utviz.plot_calibration(y_pred=mu.ravel(), y_std=std.ravel(), y_true=ytrain.ravel())"
   ]
  },
  {
   "cell_type": "markdown",
   "metadata": {},
   "source": [
    "#### Test Data"
   ]
  },
  {
   "cell_type": "code",
   "execution_count": null,
   "metadata": {},
   "outputs": [],
   "source": [
    "mu, var = sgp_pred.predict_y(xtest)\n",
    "\n",
    "std = jnp.sqrt(var)\n",
    "\n",
    "utviz.plot_calibration(y_pred=mu.ravel(), y_std=std.ravel(), y_true=ytest.ravel())"
   ]
  },
  {
   "cell_type": "code",
   "execution_count": null,
   "metadata": {},
   "outputs": [],
   "source": []
  }
 ],
 "metadata": {
  "accelerator": "GPU",
  "colab": {
   "authorship_tag": "ABX9TyPVhyjAtkYmEsgYSbH9nQNi",
   "collapsed_sections": [],
   "include_colab_link": true,
   "name": "numpyro_sparsegp_uncertain.ipynb",
   "provenance": [],
   "toc_visible": true
  },
  "kernelspec": {
   "display_name": "Python [conda env:jax_py38]",
   "language": "python",
   "name": "conda-env-jax_py38-py"
  },
  "language_info": {
   "codemirror_mode": {
    "name": "ipython",
    "version": 3
   },
   "file_extension": ".py",
   "mimetype": "text/x-python",
   "name": "python",
   "nbconvert_exporter": "python",
   "pygments_lexer": "ipython3",
   "version": "3.7.10"
  }
 },
 "nbformat": 4,
 "nbformat_minor": 4
}
