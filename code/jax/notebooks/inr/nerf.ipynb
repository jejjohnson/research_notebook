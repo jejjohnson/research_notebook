{
 "cells": [
  {
   "cell_type": "code",
   "execution_count": null,
   "id": "35ef84e1-b534-4bfd-bf8b-e11263b0ca2e",
   "metadata": {},
   "outputs": [],
   "source": [
    "import jax\n",
    "import numpy as np\n",
    "import xarray as xr\n",
    "\n",
    "# import flax\n",
    "import imageio\n",
    "import matplotlib.pyplot as plt\n",
    "import tqdm.notebook as tqdm\n",
    "\n",
    "# import equinox as eq"
   ]
  },
  {
   "cell_type": "code",
   "execution_count": null,
   "id": "d4bbaeed-f8c8-4504-ba45-1d6fb9114d33",
   "metadata": {},
   "outputs": [],
   "source": [
    "# Load image, take a square crop from the center\n",
    "# image_url = \"https://github.com/AntonBaumannDE/fourier_features_MLP_tf2/raw/main/images/monkey.jpg\"\n",
    "image_url = \"https://live.staticflickr.com/7492/15677707699_d9d67acf9d_b.jpg\"\n",
    "img = imageio.imread(image_url)[..., :3] / 255.0\n",
    "c = [img.shape[0] // 2, img.shape[1] // 2]\n",
    "r = 256\n",
    "img = img[c[0] - r : c[0] + r, c[1] - r : c[1] + r]"
   ]
  },
  {
   "cell_type": "code",
   "execution_count": null,
   "id": "8dc7f2fb-e059-48f5-8587-50dcba5fcd3d",
   "metadata": {},
   "outputs": [],
   "source": [
    "fig = plt.figure()\n",
    "fig.suptitle(\"Ground Truth\", fontsize=14, fontweight=\"bold\")\n",
    "plt.imshow(img)\n",
    "plt.show()"
   ]
  },
  {
   "cell_type": "code",
   "execution_count": null,
   "id": "d30a7541-d5b8-40e2-aeb3-eb6e5c18f3ff",
   "metadata": {},
   "outputs": [],
   "source": [
    "# Create input pixel coordinates in the unit square\n",
    "coords = np.linspace(0, 1, img.shape[0], endpoint=False)\n",
    "x_test = np.stack(np.meshgrid(coords, coords), -1)\n",
    "test_data = [x_test, img]\n",
    "train_data = [x_test[::2, ::2], img[::2, ::2]]"
   ]
  },
  {
   "cell_type": "code",
   "execution_count": null,
   "id": "6bfb9d0d-db45-4e2f-a053-dba139f566ef",
   "metadata": {},
   "outputs": [],
   "source": [
    "train_data[0].shape, train_data[0].shape, test_data[0].shape, test_data[0].shape"
   ]
  },
  {
   "cell_type": "code",
   "execution_count": null,
   "id": "3830a69e-2eb9-4367-adf3-8ff68ef6416e",
   "metadata": {},
   "outputs": [],
   "source": [
    "from flax import linen as nn\n",
    "\n",
    "\n",
    "class MLP(nn.Module):\n",
    "    \"\"\"A simple MLP model.\"\"\"\n",
    "\n",
    "    @nn.compact\n",
    "    def __call__(self, x):\n",
    "        x = nn.Dense(features=256)(x)\n",
    "        x = nn.relu(x)\n",
    "        x = nn.Dense(features=256)(x)\n",
    "        x = nn.relu(x)\n",
    "        x = nn.Dense(features=256)(x)\n",
    "        x = nn.relu(x)\n",
    "        x = nn.Dense(features=3)(x)\n",
    "        x = nn.sigmoid(x)\n",
    "        return x"
   ]
  },
  {
   "cell_type": "code",
   "execution_count": null,
   "id": "96e66b77-afa0-4310-b5e2-e88dbf116cae",
   "metadata": {},
   "outputs": [],
   "source": [
    "# initialize model\n",
    "model = MLP()\n",
    "# get demo data\n",
    "batch = train_data[0]\n",
    "\n",
    "variables = model.init(jax.random.PRNGKey(0), batch)\n",
    "output = model.apply(variables, batch)"
   ]
  },
  {
   "cell_type": "code",
   "execution_count": null,
   "id": "88343f4d-7323-46a6-9720-be1a656e0c42",
   "metadata": {},
   "outputs": [],
   "source": [
    "# Fourier feature mapping\n",
    "def input_mapping(x, B):\n",
    "    if B is None:\n",
    "        return x\n",
    "    else:\n",
    "        x_proj = (2.0 * np.pi * x) @ B.T\n",
    "    return np.concatenate([np.sin(x_proj), np.cos(x_proj)], axis=-1)"
   ]
  },
  {
   "cell_type": "code",
   "execution_count": null,
   "id": "8eeb3baa-52c0-4090-a14d-26a9d194c14c",
   "metadata": {},
   "outputs": [],
   "source": [
    "rand_key = jax.random.PRNGKey(123)\n",
    "mapping_size = 256\n",
    "scale = 10\n",
    "\n",
    "# generate random features\n",
    "B = jax.random.normal(rand_key, (mapping_size, 2))\n",
    "B *= scale\n",
    "\n",
    "# transform to features\n",
    "features = input_mapping(batch, B)\n",
    "\n",
    "# check shape\n",
    "# assert v.shape == (batch.shape[0],batch.shape[1],mapping_size*2)"
   ]
  },
  {
   "cell_type": "code",
   "execution_count": null,
   "id": "a91b1ad2-44a3-4777-9c0f-34ce09b68225",
   "metadata": {},
   "outputs": [],
   "source": [
    "\n",
    "\n"
   ]
  },
  {
   "cell_type": "code",
   "execution_count": null,
   "id": "c7e7db24-9e29-447e-b603-2ed9d6aad143",
   "metadata": {},
   "outputs": [],
   "source": [
    "train_data[0].shape, train_data[1].shape"
   ]
  },
  {
   "cell_type": "code",
   "execution_count": null,
   "id": "6fe65622-8fc9-42c1-bb70-89e7afd8d0d2",
   "metadata": {},
   "outputs": [],
   "source": [
    "coords.shape,"
   ]
  },
  {
   "cell_type": "code",
   "execution_count": null,
   "id": "8cd81d1e-b099-4383-a390-71026ba45d30",
   "metadata": {},
   "outputs": [],
   "source": [
    "# Same as JAX version but using model.apply().\n",
    "def mse(params, x_batched, y_batched):\n",
    "    # Define the squared loss for a single pair (x,y)\n",
    "    def squared_error(x, y):\n",
    "        pred = model.apply(params, x)\n",
    "        return jnp.inner(y - pred, y - pred) / 2.0\n",
    "\n",
    "    # Vectorize the previous to compute the average of the loss on all samples.\n",
    "    return jnp.mean(jax.vmap(squared_error)(x_batched, y_batched), axis=0)"
   ]
  },
  {
   "cell_type": "code",
   "execution_count": null,
   "id": "1b8dfbb2-914f-479b-8cec-719bc2ce44f0",
   "metadata": {},
   "outputs": [],
   "source": [
    "import optax\n",
    "\n",
    "alpha = 1e-4\n",
    "tx = optax.sgd(learning_rate=alpha)\n",
    "opt_state = tx.init(params)\n",
    "loss_grad_fn = jax.value_and_grad(mse)"
   ]
  },
  {
   "cell_type": "code",
   "execution_count": null,
   "id": "63d95c36-0584-4f19-8c0b-64a4a05bbf0b",
   "metadata": {},
   "outputs": [],
   "source": [
    "for i in tqdm.trange(101):\n",
    "    loss_val, grads = loss_grad_fn(params)\n",
    "    updates, opt_state = tx.update(grads, opt_state)\n",
    "    params = optax.apply_updates(params, updates)\n",
    "    if i % 10 == 0:\n",
    "        print(\"Loss step {}: \".format(i), loss_val)"
   ]
  }
 ],
 "metadata": {
  "kernelspec": {
   "display_name": "Python [conda env:jax_py39]",
   "language": "python",
   "name": "conda-env-jax_py39-py"
  },
  "language_info": {
   "codemirror_mode": {
    "name": "ipython",
    "version": 3
   },
   "file_extension": ".py",
   "mimetype": "text/x-python",
   "name": "python",
   "nbconvert_exporter": "python",
   "pygments_lexer": "ipython3",
   "version": "3.9.13"
  }
 },
 "nbformat": 4,
 "nbformat_minor": 5
}
