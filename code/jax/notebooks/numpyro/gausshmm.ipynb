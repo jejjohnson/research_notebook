{
 "cells": [
  {
   "cell_type": "code",
   "execution_count": null,
   "id": "b4ced5a0-6f86-4a1e-bdf5-2f4687f8221e",
   "metadata": {},
   "outputs": [],
   "source": [
    "import numpy as np\n",
    "\n",
    "import numpyro\n",
    "\n",
    "import numpyro.distributions as dist\n",
    "\n",
    "from numpyro.contrib.control_flow import scan"
   ]
  },
  {
   "cell_type": "code",
   "execution_count": null,
   "id": "bfc00d92-e5be-42d6-987e-9372473b4905",
   "metadata": {},
   "outputs": [],
   "source": [
    "def gaussian_hmm(y=None, T=10):\n",
    "    def transition(x_prev, y_curr):\n",
    "\n",
    "        x_curr = numpyro.sample(\"x\", dist.Normal(x_prev, 1))\n",
    "\n",
    "        y_curr = numpyro.sample(\"y\", dist.Normal(x_curr, 1), obs=y_curr)\n",
    "\n",
    "        return x_curr, (x_curr, y_curr)\n",
    "\n",
    "    x0 = numpyro.sample(\"x_0\", dist.Normal(0, 1))\n",
    "\n",
    "    _, (x, y) = scan(transition, x0, y, length=T)\n",
    "\n",
    "    return (x, y)"
   ]
  },
  {
   "cell_type": "code",
   "execution_count": null,
   "id": "0870ca59-ddca-4981-b746-96634d92df27",
   "metadata": {},
   "outputs": [],
   "source": [
    "# here we do some quick tests\n",
    "\n",
    "with numpyro.handlers.seed(rng_seed=0):\n",
    "\n",
    "    x, y = gaussian_hmm(np.arange(10.0))\n",
    "\n",
    "assert x.shape == (10,) and y.shape == (10,)\n",
    "\n",
    "assert np.all(y == np.arange(10))\n",
    "\n",
    "with numpyro.handlers.seed(rng_seed=0):  # generative\n",
    "\n",
    "    x, y = gaussian_hmm()\n",
    "\n",
    "assert x.shape == (10,) and y.shape == (10,)"
   ]
  },
  {
   "cell_type": "code",
   "execution_count": null,
   "id": "8c681c5f-b627-43b0-b000-04d8cd8d9fc9",
   "metadata": {},
   "outputs": [],
   "source": []
  }
 ],
 "metadata": {
  "kernelspec": {
   "display_name": "Python [conda env:jax_py39]",
   "language": "python",
   "name": "conda-env-jax_py39-py"
  },
  "language_info": {
   "codemirror_mode": {
    "name": "ipython",
    "version": 3
   },
   "file_extension": ".py",
   "mimetype": "text/x-python",
   "name": "python",
   "nbconvert_exporter": "python",
   "pygments_lexer": "ipython3",
   "version": "3.9.13"
  }
 },
 "nbformat": 4,
 "nbformat_minor": 5
}
