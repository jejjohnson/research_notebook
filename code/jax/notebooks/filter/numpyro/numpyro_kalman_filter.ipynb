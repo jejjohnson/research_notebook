{
 "cells": [
  {
   "cell_type": "code",
   "execution_count": null,
   "id": "2fc3d3cb-d7d5-40a6-8e47-9a36e26ff8d9",
   "metadata": {},
   "outputs": [],
   "source": [
    "import jax\n",
    "import jax.numpy as jnp\n",
    "from jax.scipy.special import logsumexp\n",
    "import numpyro\n",
    "\n",
    "numpyro.set_platform(\"cpu\")  # \"cpu\""
   ]
  },
  {
   "cell_type": "markdown",
   "id": "f2c684b4-5524-406c-b1a6-b5701ebeeb07",
   "metadata": {},
   "source": [
    "## Discrete Hidden Markov Model"
   ]
  },
  {
   "cell_type": "markdown",
   "id": "b0408375-36d8-4596-b85a-346f4a801808",
   "metadata": {},
   "source": [
    "### Log Prob"
   ]
  },
  {
   "cell_type": "code",
   "execution_count": null,
   "id": "98efa7e8-d40e-4039-a0d4-703a19a01b55",
   "metadata": {},
   "outputs": [],
   "source": [
    "def logmatmulexp(x, y):\n",
    "    x_shift = x.max(-1, keepdims=True)\n",
    "    y_shift = y.max(-2, keepdims=True)\n",
    "    return (\n",
    "        jnp.log(jnp.exp(x - x_shift) @ jnp.exp(y - y_shift)) + x_shift + y_shift,\n",
    "        None,\n",
    "    )"
   ]
  },
  {
   "cell_type": "markdown",
   "id": "cfa05d01-80e5-4f50-86b1-f69e95400690",
   "metadata": {},
   "source": [
    "### Transition Functions"
   ]
  },
  {
   "cell_type": "markdown",
   "id": "53c4922a-c75b-47a9-8899-790bd1d347fb",
   "metadata": {},
   "source": [
    "#### Sequential"
   ]
  },
  {
   "cell_type": "code",
   "execution_count": null,
   "id": "daf861a2-10d8-4b3d-b8fc-c5dfc819d425",
   "metadata": {},
   "outputs": [],
   "source": [
    "@jax.jit\n",
    "def sequential(x_init, xs):\n",
    "    o, _ = jax.lax.scan(logmatmulexp, xs[0], xs[1:])\n",
    "    o = logmatmulexp(jnp.expand_dims(x_init, -2), o)[0]\n",
    "    return logsumexp(o.squeeze(-2), -1)"
   ]
  },
  {
   "cell_type": "markdown",
   "id": "d4ac9124-e7bf-4a00-9cbe-42151baa3f33",
   "metadata": {},
   "source": [
    "#### Forward"
   ]
  },
  {
   "cell_type": "code",
   "execution_count": null,
   "id": "29f5541a-b26d-4ed8-8a81-550814d5dffe",
   "metadata": {},
   "outputs": [],
   "source": [
    "@jax.jit\n",
    "def forward(x_init, xs):\n",
    "    o, _ = jax.lax.scan(logmatmulexp, jnp.expand_dims(x_init, -2), xs)\n",
    "    return logsumexp(o.squeeze(-2), -1)"
   ]
  },
  {
   "cell_type": "markdown",
   "id": "f90ccb76-b04d-4bc0-800f-1f30cca5b6f6",
   "metadata": {},
   "source": [
    "#### Parallel"
   ]
  },
  {
   "cell_type": "code",
   "execution_count": null,
   "id": "821b94f1-4714-4593-a8c3-bbd366354dd3",
   "metadata": {},
   "outputs": [],
   "source": [
    "@jax.jit\n",
    "def parallel(x_init, xs):\n",
    "    batch_shape = xs.shape[:-3]\n",
    "    state_dim = xs.shape[-1]\n",
    "    while xs.shape[-3] > 1:\n",
    "        time = xs.shape[-3]\n",
    "        even_time = time // 2 * 2\n",
    "        even_part = xs[..., :even_time, :, :]\n",
    "        a_b = even_part.reshape(batch_shape + (even_time // 2, 2, state_dim, state_dim))\n",
    "        a, b = a_b[..., 0, :, :], a_b[..., 1, :, :]\n",
    "        contracted = logmatmulexp(a, b)[0]\n",
    "        if time > even_time:\n",
    "            contracted = jnp.concatenate((contracted, xs[..., -1:, :, :]), axis=-3)\n",
    "        xs = contracted\n",
    "    o = logmatmulexp(jnp.expand_dims(x_init, -2), xs.squeeze(-3))[0]\n",
    "    return logsumexp(o.squeeze(-2), -1)"
   ]
  },
  {
   "cell_type": "markdown",
   "id": "38495f91-8939-4809-9aff-1e8e93fd8c44",
   "metadata": {},
   "source": [
    "### Testing"
   ]
  },
  {
   "cell_type": "code",
   "execution_count": null,
   "id": "d9a4820c-af64-4068-a366-f359d3dc0424",
   "metadata": {},
   "outputs": [],
   "source": [
    "dim = 3\n",
    "x = jax.random.normal(jax.random.PRNGKey(0), (2000, dim, dim))\n",
    "x_init = jax.random.normal(jax.random.PRNGKey(1), (dim,))\n",
    "sequential(x_init, x)\n",
    "parallel(x_init, x)\n",
    "forward(x_init, x)"
   ]
  },
  {
   "cell_type": "code",
   "execution_count": null,
   "id": "6f4da98f-4bc5-452f-ba3c-863800b226fc",
   "metadata": {},
   "outputs": [],
   "source": [
    "%timeit y = sequential(x_init, x).copy()\n",
    "%timeit y = parallel(x_init, x).copy()\n",
    "%timeit y = forward(x_init, x).copy()\n"
   ]
  },
  {
   "cell_type": "markdown",
   "id": "fed4e7c0-37c0-422d-8502-650cdf6ddf43",
   "metadata": {},
   "source": [
    "## Continuous Hidden Markov Model"
   ]
  },
  {
   "cell_type": "code",
   "execution_count": null,
   "id": "8b912f45-c2b1-4eaa-a6c0-ff6930c8db57",
   "metadata": {},
   "outputs": [],
   "source": [
    "import pathlib\n",
    "from typing import Dict, Optional, Tuple\n",
    "\n",
    "import jax.numpy as jnp\n",
    "import matplotlib.pyplot as plt\n",
    "import numpy as np\n",
    "import numpyro\n",
    "import numpyro.distributions as dist\n",
    "from jax import random\n",
    "from numpyro import diagnostics, infer\n",
    "from numpyro.contrib.control_flow import scan"
   ]
  },
  {
   "cell_type": "markdown",
   "id": "f9fc643c-8f8b-4203-9f01-e1fe7054fdd9",
   "metadata": {},
   "source": [
    "### From Scratch"
   ]
  },
  {
   "cell_type": "code",
   "execution_count": null,
   "id": "784d05eb-96e0-4d6a-9381-56281452c4d2",
   "metadata": {},
   "outputs": [],
   "source": [
    "def kf_model(\n",
    "    x_obs: Optional[jnp.ndarray] = None,\n",
    "    seq_len: int = 0,\n",
    "    batch: int = 0,\n",
    "    x_dim: int = 1,\n",
    "    future_steps: int = 0,\n",
    "    z_dim: int = 3,\n",
    ") -> None:\n",
    "    \"\"\"Simple Kalman filter model (random walk).\n",
    "    Args:\n",
    "        x: **Batch-first** data, `shape = (seq_len, batch, data_dim)`.\n",
    "        future_steps: Forecasting time steps.\n",
    "        batch: Batch size for prior sampling.\n",
    "        x_dim: Dimension of data for prior sampling.\n",
    "    \"\"\"\n",
    "\n",
    "    if x_obs is not None:\n",
    "        seq_len, batch, x_dim = x_obs.shape\n",
    "\n",
    "    # Transition Distributions\n",
    "    trans = numpyro.sample(\n",
    "        \"trans\", dist.Normal(jnp.zeros((z_dim, z_dim)), jnp.ones((z_dim, z_dim)))\n",
    "    )\n",
    "    z_std = numpyro.sample(\"z_std\", dist.Gamma(jnp.ones(z_dim), jnp.ones(z_dim)))\n",
    "\n",
    "    # Emission Distributions\n",
    "    emit = numpyro.sample(\n",
    "        \"emit\", dist.Normal(jnp.zeros((x_dim, z_dim)), jnp.ones((x_dim, z_dim)))\n",
    "    )\n",
    "    x_std = numpyro.sample(\"x_std\", dist.Gamma(jnp.ones(x_dim), jnp.ones(x_dim)))\n",
    "\n",
    "    # Prior Distribution\n",
    "    z0 = jnp.zeros((z_dim,))\n",
    "\n",
    "    # Model\n",
    "    def body(z_prev, x_prev):\n",
    "\n",
    "        # transition\n",
    "        z = numpyro.sample(f\"z\", dist.Normal(jnp.dot(trans, z_prev), z_std))\n",
    "\n",
    "        # emission\n",
    "        x = numpyro.sample(f\"x\", dist.Normal(jnp.dot(emit, z), x_std), obs=x_prev)\n",
    "\n",
    "        return z, (z, x)\n",
    "\n",
    "    # Loop through data\n",
    "    _, (z, x) = scan(body, z0, x_obs, length=seq_len + future_steps)\n",
    "\n",
    "    return z, x\n",
    "\n",
    "\n",
    "#     def transition_fn(\n",
    "#         carry: Tuple[jnp.ndarray], t: jnp.ndarray\n",
    "#     ) -> Tuple[Tuple[jnp.ndarray], jnp.ndarray]:\n",
    "\n",
    "#         z_prev, *_ = carry\n",
    "#         z = numpyro.sample(\"z\", dist.Normal(jnp.matmul(z_prev, trans), z_std))\n",
    "#         numpyro.sample(\"x\", dist.Normal(jnp.matmul(z, emit), x_std))\n",
    "#         return (z,), None\n",
    "\n",
    "#     z_init = jnp.zeros((batch, z_dim))\n",
    "#     with numpyro.handlers.condition(data={\"x\": x}):\n",
    "#         scan(transition_fn, (z_init,), jnp.arange(seq_len + future_steps))"
   ]
  },
  {
   "cell_type": "markdown",
   "id": "90bcc3a6-221e-4979-9a67-68eab281f616",
   "metadata": {},
   "source": [
    "#### Without Observations"
   ]
  },
  {
   "cell_type": "code",
   "execution_count": null,
   "id": "b94fc15b-2754-4bc1-862f-c9e5ced038d1",
   "metadata": {},
   "outputs": [],
   "source": [
    "seq_len = 40\n",
    "x_dim = 2\n",
    "z_dim = 3\n",
    "batch = 10\n",
    "\n",
    "with numpyro.handlers.seed(rng_seed=123):\n",
    "    z_s, x_s = kf_model(seq_len=seq_len, x_dim=x_dim, z_dim=z_dim, batch=batch)"
   ]
  },
  {
   "cell_type": "code",
   "execution_count": null,
   "id": "5764adaa-31f8-4bba-be82-3fdcaffb79bc",
   "metadata": {},
   "outputs": [],
   "source": [
    "plt.plot(x_s[..., 0])"
   ]
  },
  {
   "cell_type": "markdown",
   "id": "301db06a-0552-4097-8ba8-a6f0c0620123",
   "metadata": {},
   "source": [
    "#### Observations"
   ]
  },
  {
   "cell_type": "code",
   "execution_count": null,
   "id": "2463fdc1-95ea-4883-953a-14a512a911ee",
   "metadata": {},
   "outputs": [],
   "source": [
    "with numpyro.handlers.seed(rng_seed=123):\n",
    "    z_s, x_s = kf_model(x)\n",
    "\n",
    "print(z_s.shape, x_s.shape)"
   ]
  },
  {
   "cell_type": "code",
   "execution_count": null,
   "id": "8281d2e4-7848-45af-8e85-278c0518f73e",
   "metadata": {},
   "outputs": [],
   "source": [
    "plt.plot(x_s[..., 0])"
   ]
  },
  {
   "cell_type": "code",
   "execution_count": null,
   "id": "a811658b-e57b-47fd-9311-2ddc3f9c2c3d",
   "metadata": {},
   "outputs": [],
   "source": [
    "rng_key = random.PRNGKey(0)\n",
    "rng_key, rng_key_prior, rng_key_infer, rng_key_posterior = random.split(rng_key, 4)"
   ]
  },
  {
   "cell_type": "code",
   "execution_count": null,
   "id": "ef4194c0-0e26-4102-8feb-b28c01ba85db",
   "metadata": {},
   "outputs": [],
   "source": [
    "# prior\n",
    "seq_len, batch, x_dim = x.shape\n",
    "\n",
    "predictive = infer.Predictive(kf_model, num_samples=20)\n",
    "prior_samples = predictive(\n",
    "    rng_key_prior, None, seq_len=seq_len, batch=batch, x_dim=x_dim, future_steps=0\n",
    ")"
   ]
  },
  {
   "cell_type": "code",
   "execution_count": null,
   "id": "051e15e2-b7f9-41a2-9b5e-f1f9e9be3aec",
   "metadata": {},
   "outputs": [],
   "source": [
    "[prior_samples.keys()]"
   ]
  },
  {
   "cell_type": "code",
   "execution_count": null,
   "id": "33650c85-e0eb-4215-84d8-9ef6d29e4709",
   "metadata": {},
   "outputs": [],
   "source": [
    "prior_samples[\"z\"].shape"
   ]
  },
  {
   "cell_type": "code",
   "execution_count": null,
   "id": "f8ae0234-9eee-40fe-9690-75dd0078fa43",
   "metadata": {},
   "outputs": [],
   "source": [
    "jnp.stack(z, axis=0).shape"
   ]
  },
  {
   "cell_type": "code",
   "execution_count": null,
   "id": "d1af21bd-2bce-45fd-a590-17e36371ddca",
   "metadata": {},
   "outputs": [],
   "source": [
    "z.shape, x.shape"
   ]
  },
  {
   "cell_type": "markdown",
   "id": "d4761827-8459-4bfc-9c61-7d7891ea0887",
   "metadata": {},
   "source": [
    "### Sequential"
   ]
  },
  {
   "cell_type": "code",
   "execution_count": null,
   "id": "de9ff61e-b8f0-49f5-94a4-f5459afea0af",
   "metadata": {},
   "outputs": [],
   "source": [
    "def model(\n",
    "    x: Optional[jnp.ndarray] = None,\n",
    "    seq_len: int = 0,\n",
    "    batch: int = 0,\n",
    "    x_dim: int = 1,\n",
    "    future_steps: int = 0,\n",
    "    z_dim: int = 3,\n",
    ") -> None:\n",
    "    \"\"\"Simple Kalman filter model (random walk).\n",
    "    Args:\n",
    "        x: **Batch-first** data, `shape = (seq_len, batch, data_dim)`.\n",
    "        future_steps: Forecasting time steps.\n",
    "        batch: Batch size for prior sampling.\n",
    "        x_dim: Dimension of data for prior sampling.\n",
    "    \"\"\"\n",
    "\n",
    "    if x is not None:\n",
    "        seq_len, batch, x_dim = x.shape\n",
    "\n",
    "    # Transition Distributions\n",
    "    trans = numpyro.sample(\n",
    "        \"trans\", dist.Normal(jnp.zeros((z_dim, z_dim)), jnp.ones((z_dim, z_dim)))\n",
    "    )\n",
    "    z_std = numpyro.sample(\"z_std\", dist.Gamma(jnp.ones(z_dim), jnp.ones(z_dim)))\n",
    "\n",
    "    # Emission Distributions\n",
    "    emit = numpyro.sample(\n",
    "        \"emit\", dist.Normal(jnp.zeros((z_dim, x_dim)), jnp.ones((z_dim, x_dim)))\n",
    "    )\n",
    "    x_std = numpyro.sample(\"x_std\", dist.Gamma(jnp.ones(x_dim), jnp.ones(x_dim)))\n",
    "\n",
    "    # Prior Distribution\n",
    "    z_init = jnp.zeros((batch, z_dim))\n",
    "\n",
    "    def transition_fn(\n",
    "        carry: Tuple[jnp.ndarray], t: jnp.ndarray\n",
    "    ) -> Tuple[Tuple[jnp.ndarray], jnp.ndarray]:\n",
    "\n",
    "        z_prev, *_ = carry\n",
    "        z = numpyro.sample(\"z\", dist.Normal(jnp.matmul(z_prev, trans), z_std))\n",
    "        numpyro.sample(\"x\", dist.Normal(jnp.matmul(z, emit), x_std))\n",
    "        return (z,), None\n",
    "\n",
    "    z_init = jnp.zeros((batch, z_dim))\n",
    "    with numpyro.handlers.condition(data={\"x\": x}):\n",
    "        scan(transition_fn, (z_init,), jnp.arange(seq_len + future_steps))"
   ]
  },
  {
   "cell_type": "code",
   "execution_count": null,
   "id": "563669f4-cae4-4b8c-80c8-c91dde54f824",
   "metadata": {},
   "outputs": [],
   "source": [
    "\n",
    "    "
   ]
  },
  {
   "cell_type": "code",
   "execution_count": null,
   "id": "ded91aec-3751-43f8-aa4f-f8ecb85dae69",
   "metadata": {},
   "outputs": [],
   "source": [
    "def _load_dataset(n_batches: int = 10) -> jnp.ndarray:\n",
    "\n",
    "    x0 = jnp.concatenate(\n",
    "        [\n",
    "            np.random.randn(10, n_batches),\n",
    "            np.random.randn(10, n_batches) + 1,\n",
    "            np.random.randn(10, n_batches) + 1.2,\n",
    "            np.random.randn(10, n_batches) + 2,\n",
    "        ]\n",
    "    )\n",
    "\n",
    "    print(x0.shape)\n",
    "\n",
    "    x1 = jnp.concatenate(\n",
    "        [\n",
    "            np.random.randn(10, n_batches) - 0.2,\n",
    "            np.random.randn(10, n_batches) - 1,\n",
    "            np.random.randn(10, n_batches) - 2.7,\n",
    "            np.random.randn(10, n_batches) - 4.2,\n",
    "        ]\n",
    "    )\n",
    "\n",
    "    x = jnp.concatenate([x0[..., None], x1[..., None]], axis=-1)\n",
    "    assert isinstance(x, jnp.ndarray)\n",
    "\n",
    "    return x"
   ]
  },
  {
   "cell_type": "code",
   "execution_count": null,
   "id": "3d785b56-c47a-4ce5-9814-5e2de03d54f2",
   "metadata": {},
   "outputs": [],
   "source": [
    "n_batches = 2\n",
    "\n",
    "x = _load_dataset(n_batches)\n",
    "x.shape"
   ]
  },
  {
   "cell_type": "code",
   "execution_count": null,
   "id": "840952c3-dba2-4a3e-ae93-b992fed68aba",
   "metadata": {},
   "outputs": [],
   "source": [
    "with numpyro.handlers.seed(rng_seed=123):\n",
    "    y = model(x)"
   ]
  },
  {
   "cell_type": "code",
   "execution_count": null,
   "id": "e725832e-a1f6-4e1c-8431-c94391a744b3",
   "metadata": {},
   "outputs": [],
   "source": [
    "y.shape"
   ]
  },
  {
   "cell_type": "code",
   "execution_count": null,
   "id": "87a6de1b-9964-44db-9d09-e284d85f999c",
   "metadata": {},
   "outputs": [],
   "source": [
    "fig, ax = plt.subplots(nrows=2)\n",
    "\n",
    "ax[0].plot(x[..., 0, 0])\n",
    "ax[1].plot(x[..., 0, 1])\n",
    "\n",
    "plt.show()"
   ]
  },
  {
   "cell_type": "code",
   "execution_count": null,
   "id": "32c7f2c1-fef9-4962-abe6-69817119b97c",
   "metadata": {},
   "outputs": [],
   "source": [
    "rng_key = random.PRNGKey(0)\n",
    "rng_key, rng_key_prior, rng_key_infer, rng_key_posterior = random.split(rng_key, 4)"
   ]
  },
  {
   "cell_type": "code",
   "execution_count": null,
   "id": "fba26d7c-2f11-4fa2-8282-594e5fb8b5b3",
   "metadata": {},
   "outputs": [],
   "source": [
    "# prior\n",
    "predictive = infer.Predictive(model, num_samples=10)\n",
    "prior_samples = predictive(rng_key_prior, None, *x.shape, future_steps=20)"
   ]
  },
  {
   "cell_type": "code",
   "execution_count": null,
   "id": "b22fa3f2-9e0a-4250-8714-0022c3608a09",
   "metadata": {},
   "outputs": [],
   "source": [
    "x.shape"
   ]
  },
  {
   "cell_type": "code",
   "execution_count": null,
   "id": "9064e479-bcdb-4073-b5f8-9c90665f7612",
   "metadata": {},
   "outputs": [],
   "source": [
    "# Inference\n",
    "kernel = infer.NUTS(kf_model)\n",
    "mcmc = infer.MCMC(kernel, num_warmup=100, num_samples=100)\n",
    "mcmc.run(rng_key_infer, x, seq_len=seq_len, batch=batch, x_dim=x_dim, future_steps=0)\n",
    "posterior_samples = mcmc.get_samples()"
   ]
  },
  {
   "cell_type": "code",
   "execution_count": null,
   "id": "6804a7ab-f6de-4239-9a3c-48ce090dbfe7",
   "metadata": {},
   "outputs": [],
   "source": [
    "# Posterior prediction\n",
    "predictive = infer.Predictive(model, posterior_samples=posterior_samples)\n",
    "posterior_predictive = predictive(rng_key_posterior, None, *x.shape, future_steps=20)"
   ]
  },
  {
   "cell_type": "code",
   "execution_count": null,
   "id": "fbecaf73-b44e-48fb-ba77-89d5515bcfab",
   "metadata": {},
   "outputs": [],
   "source": [
    "def _save_results(\n",
    "    x: jnp.ndarray,\n",
    "    prior_samples: Dict[str, jnp.ndarray],\n",
    "    posterior_samples: Dict[str, jnp.ndarray],\n",
    "    posterior_predictive: Dict[str, jnp.ndarray],\n",
    "    num_train: int,\n",
    ") -> None:\n",
    "\n",
    "    root = pathlib.Path(\"./\")\n",
    "    root.mkdir(exist_ok=True)\n",
    "\n",
    "    jnp.savez(root / \"piror_samples.npz\", **prior_samples)\n",
    "    jnp.savez(root / \"posterior_samples.npz\", **posterior_samples)\n",
    "    jnp.savez(root / \"posterior_predictive.npz\", **posterior_predictive)\n",
    "\n",
    "    x_pred = posterior_predictive[\"x\"]\n",
    "\n",
    "    x_pred_trn = x_pred[:, :num_train]\n",
    "    x_hpdi_trn = diagnostics.hpdi(x_pred_trn)\n",
    "    t_train = np.arange(num_train)\n",
    "\n",
    "    x_pred_tst = x_pred[:, num_train:]\n",
    "    x_hpdi_tst = diagnostics.hpdi(x_pred_tst)\n",
    "    num_test = x_pred_tst.shape[1]\n",
    "    t_test = np.arange(num_train, num_train + num_test)\n",
    "\n",
    "    prop_cycle = plt.rcParams[\"axes.prop_cycle\"]\n",
    "    colors = prop_cycle.by_key()[\"color\"]\n",
    "\n",
    "    plt.figure(figsize=(12, 12))\n",
    "\n",
    "    plt.subplot(211)\n",
    "    plt.plot(x[..., 0, 0], label=\"ground truth\", color=colors[0])\n",
    "\n",
    "    plt.plot(\n",
    "        t_train, x_pred_trn[..., 0, 0].mean(0), label=\"prediction\", color=colors[1]\n",
    "    )\n",
    "    plt.fill_between(\n",
    "        t_train,\n",
    "        x_hpdi_trn[0, :, 0, 0],\n",
    "        x_hpdi_trn[1, :, 0, 0],\n",
    "        alpha=0.3,\n",
    "        color=colors[1],\n",
    "    )\n",
    "\n",
    "    plt.plot(t_test, x_pred_tst[..., 0, 0].mean(0), label=\"forecast\", color=colors[2])\n",
    "    plt.fill_between(\n",
    "        t_test,\n",
    "        x_hpdi_tst[0, :, 0, 0],\n",
    "        x_hpdi_tst[1, :, 0, 0],\n",
    "        alpha=0.3,\n",
    "        color=colors[2],\n",
    "    )\n",
    "\n",
    "    plt.legend()\n",
    "\n",
    "    plt.subplot(212)\n",
    "    plt.plot(x[..., 0, 1], label=\"ground truth\", color=colors[0])\n",
    "\n",
    "    plt.plot(\n",
    "        t_train, x_pred_trn[..., 0, 1].mean(0), label=\"prediction\", color=colors[1]\n",
    "    )\n",
    "    plt.fill_between(\n",
    "        t_train,\n",
    "        x_hpdi_trn[0, :, 0, 1],\n",
    "        x_hpdi_trn[1, :, 0, 1],\n",
    "        alpha=0.3,\n",
    "        color=colors[1],\n",
    "    )\n",
    "\n",
    "    plt.plot(t_test, x_pred_tst[..., 0, 1].mean(0), label=\"forecast\", color=colors[2])\n",
    "    plt.fill_between(\n",
    "        t_test,\n",
    "        x_hpdi_tst[0, :, 0, 1],\n",
    "        x_hpdi_tst[1, :, 0, 1],\n",
    "        alpha=0.3,\n",
    "        color=colors[2],\n",
    "    )\n",
    "\n",
    "    plt.legend()\n",
    "\n",
    "    plt.tight_layout()\n",
    "    plt.savefig(\"kalman_multi.png\")\n",
    "    plt.close()"
   ]
  },
  {
   "cell_type": "code",
   "execution_count": null,
   "id": "0e2545cd-c6f2-453f-b778-5e5e8daa46c6",
   "metadata": {},
   "outputs": [],
   "source": [
    "_save_results(x, prior_samples, posterior_samples, posterior_predictive, len(x))"
   ]
  },
  {
   "cell_type": "code",
   "execution_count": null,
   "id": "0b16db3e-baa7-486f-9d02-b99a0f1bdb78",
   "metadata": {},
   "outputs": [],
   "source": []
  }
 ],
 "metadata": {
  "kernelspec": {
   "display_name": "Python [conda env:miniconda3-sci_jax_py39]",
   "language": "python",
   "name": "conda-env-miniconda3-sci_jax_py39-py"
  },
  "language_info": {
   "codemirror_mode": {
    "name": "ipython",
    "version": 3
   },
   "file_extension": ".py",
   "mimetype": "text/x-python",
   "name": "python",
   "nbconvert_exporter": "python",
   "pygments_lexer": "ipython3",
   "version": "3.9.9"
  }
 },
 "nbformat": 4,
 "nbformat_minor": 5
}
