{
 "cells": [
  {
   "cell_type": "code",
   "execution_count": null,
   "id": "bde5a27b-d823-41ae-9344-e9ddc17e63fc",
   "metadata": {},
   "outputs": [],
   "source": [
    "import numpy as np\n",
    "import xarray as xr\n",
    "import xrft\n",
    "import einops\n",
    "from itertools import product\n",
    "\n",
    "import matplotlib.pyplot as plt\n",
    "\n",
    "%matplotlib inline"
   ]
  },
  {
   "cell_type": "code",
   "execution_count": null,
   "id": "6e1d13c5-322f-497a-9c95-5206383029ed",
   "metadata": {},
   "outputs": [],
   "source": [
    "# downloading data from GDrive\n",
    "from google_drive_downloader import GoogleDriveDownloader as gdd\n",
    "\n",
    "file_ids = [\n",
    "    \"1KVDlXdaqPCi_gomHn6QK76NYmF7RONT5\",\n",
    "    \"1MRUr0wAhVFIdrFjUg0YcDjaKaABKs09o\",\n",
    "    \"1gw7BG7wlZfU_BGNDf3QH1UARWUjwsIjz\",\n",
    "    \"1Cwl0gLUHFTwkvdSEm1KZiAsUU7jZyrAN\",\n",
    "]\n",
    "paths = [\"aviso.zip\", \"chla.zip\", \"sst.zip\", \"winds.zip\"]\n",
    "\n",
    "for f, p in zip(file_ids, paths):\n",
    "    gdd.download_file_from_google_drive(\n",
    "        file_id=f, dest_path=\"./data/\" + p, showsize=True, unzip=True\n",
    "    )"
   ]
  },
  {
   "cell_type": "code",
   "execution_count": null,
   "id": "aa777735-2ad5-4169-8fb2-428f15865c9f",
   "metadata": {},
   "outputs": [],
   "source": [
    "# n_\n",
    "# image = np.random.randn(\n",
    "\n",
    "# offsets = product(range(0, n_columns, width), range(0, n_rows, height))"
   ]
  },
  {
   "cell_type": "markdown",
   "id": "67d0dd08-3c31-4ba3-8a2a-84ed1c055c8b",
   "metadata": {},
   "source": [
    "## SST"
   ]
  },
  {
   "cell_type": "code",
   "execution_count": null,
   "id": "7f9479f8-14f3-4127-9778-27f038cfaa2f",
   "metadata": {},
   "outputs": [],
   "source": [
    "ds = xr.tutorial.open_dataset(\"ersstv5\")\n",
    "da = ds.sst"
   ]
  },
  {
   "cell_type": "markdown",
   "id": "979ce8dd-b8de-4d03-8af9-c111a1f41bbb",
   "metadata": {},
   "source": [
    "### SSH"
   ]
  },
  {
   "cell_type": "code",
   "execution_count": null,
   "id": "01242427-9f83-4f79-b494-5a966ae8b529",
   "metadata": {},
   "outputs": [],
   "source": [
    "url = \"/Users/eman/.CMVolumes/cal1_data/dc_2021/results/OSE_ssh_mapping_BASELINE.nc\"\n",
    "ds = xr.open_dataset(url)\n",
    "da = ds.ssh"
   ]
  },
  {
   "cell_type": "code",
   "execution_count": null,
   "id": "3fe7b14d-a0ea-494f-88b8-2461469f489a",
   "metadata": {},
   "outputs": [],
   "source": [
    "da"
   ]
  },
  {
   "cell_type": "code",
   "execution_count": null,
   "id": "4cf79ff1-6d61-4d8b-b04c-c4130634a303",
   "metadata": {},
   "outputs": [],
   "source": [
    "# ds = xr.tutorial.open_dataset(\"air_temperature\")\n",
    "# da = ds.air"
   ]
  },
  {
   "cell_type": "markdown",
   "id": "cfcbb2c9-a175-42c5-bd52-5dd963bbc910",
   "metadata": {},
   "source": [
    "### FFT (Flatten)"
   ]
  },
  {
   "cell_type": "code",
   "execution_count": null,
   "id": "cabdb539-4762-48a4-a244-79d590232f2c",
   "metadata": {},
   "outputs": [],
   "source": [
    "import scipy"
   ]
  },
  {
   "cell_type": "code",
   "execution_count": null,
   "id": "74f2437f-a718-4400-ba83-76d5f2f83f09",
   "metadata": {},
   "outputs": [],
   "source": [
    "# Power spectrum density reference field\n",
    "# C2 parameter\n",
    "delta_t = 0.9434  # s\n",
    "velocity = 6.77  # km/s\n",
    "delta_x = velocity * delta_t\n",
    "length_scale = 10000  # sehment length scale in km\n",
    "\n",
    "npt = int(length_scale / delta_x)\n",
    "\n",
    "wavenumber, psd_signal = scipy.signal.welch(\n",
    "    da.data.flatten(), fs=1.0 / delta_x, nperseg=npt, scaling=\"density\", noverlap=0\n",
    ")\n",
    "\n",
    "wavenumber_inv = 1.0 / wavenumber\n",
    "wavenumber_inv"
   ]
  },
  {
   "cell_type": "code",
   "execution_count": null,
   "id": "253ce0d2-7507-4554-987a-257cc3211ccc",
   "metadata": {},
   "outputs": [],
   "source": [
    "fig, ax = plt.subplots()\n",
    "\n",
    "ax.plot(1.0 / wavenumber[1:], psd_signal[1:], color=\"black\")\n",
    "\n",
    "ax.set(xlabel=\"Wavelength\", ylabel=\"PSD\", xscale=\"log\", yscale=\"log\")\n",
    "\n",
    "ax.invert_yaxis()\n",
    "\n",
    "plt.grid(which=\"both\", alpha=0.5)\n",
    "plt.tight_layout()\n",
    "plt.show()"
   ]
  },
  {
   "cell_type": "code",
   "execution_count": null,
   "id": "a59799eb-4e8c-4dcb-bc73-863fd35b605c",
   "metadata": {},
   "outputs": [],
   "source": []
  },
  {
   "cell_type": "markdown",
   "id": "41a363b6-34d4-495e-ac97-a66572e19769",
   "metadata": {},
   "source": [
    "### FFT (Average)"
   ]
  },
  {
   "cell_type": "code",
   "execution_count": null,
   "id": "8a6d31b9-d303-46a2-9070-880310e13fd8",
   "metadata": {},
   "outputs": [],
   "source": [
    "# chunk array\n",
    "signal = da.chunk({\"lat\": 1, \"time\": da[\"time\"].size, \"lon\": da[\"lon\"].size})\n",
    "\n",
    "\n",
    "# renormalize the time\n",
    "signal[\"time\"] = (signal.time - signal.time[0]) / np.timedelta64(1, \"D\")\n",
    "\n",
    "# compute power spectrum\n",
    "signal_psd = xrft.power_spectrum(\n",
    "    signal, dim=[\"time\", \"lon\"], detrend=\"linear\", window=True\n",
    ").compute()\n",
    "\n",
    "# calculate mean signal\n",
    "signal_psd_mean = signal_psd.mean(dim=[\"lat\"]).where(\n",
    "    (signal_psd.freq_time > 0) & (signal_psd.freq_lon > 0), drop=True\n",
    ")"
   ]
  },
  {
   "cell_type": "code",
   "execution_count": null,
   "id": "1f9d6964-e2d6-4059-aa63-d711aa07b8c8",
   "metadata": {},
   "outputs": [],
   "source": [
    "signal_psd_mean"
   ]
  },
  {
   "cell_type": "code",
   "execution_count": null,
   "id": "2d0fdb89-a420-4924-b3f9-996a05ad6579",
   "metadata": {},
   "outputs": [],
   "source": [
    "fig, ax = plt.subplots()\n",
    "\n",
    "pts = ax.contourf(\n",
    "    1.0 / signal_psd_mean[\"freq_lon\"] * 111,\n",
    "    1.0 / signal_psd_mean[\"freq_time\"],\n",
    "    signal_psd_mean,\n",
    "    levels=np.arange(0, 1.1, 0.1),\n",
    "    cmap=\"RdYlGn\",\n",
    "    extend=\"both\",\n",
    ")\n",
    "\n",
    "# colorbar\n",
    "cbar = plt.colorbar(pts, pad=0.01)\n",
    "\n",
    "ax.set(\n",
    "    xlabel=\"Spatial Wavelength (km)\",\n",
    "    ylabel=\"Temporal Wavelength (Days)\",\n",
    "    # xscale=\"log\", yscale=\"log\",\n",
    "    # zscale=\"log\",\n",
    "    # fontweight=\"bold\"\n",
    "    title=\"PSD-Score\",\n",
    ")\n",
    "\n",
    "plt.grid(linestyle=\"--\", lw=1, color=\"white\")\n",
    "plt.tight_layout()\n",
    "plt.show()"
   ]
  },
  {
   "cell_type": "code",
   "execution_count": null,
   "id": "fad97e81-8ada-4c01-b26b-109e9d40dbb4",
   "metadata": {},
   "outputs": [],
   "source": [
    "# take the mean with frequency\n",
    "signal_psd_mean_lon = signal_psd_mean.mean(\"freq_time\")\n",
    "\n",
    "# psd_signal_L4 = xrft.power_spectrum(signal_L4, dim=['time','lon'], detrend='linear', window=True).compute()\n",
    "# mean_psd_signal_L4 = psd_signal_L4.mean(dim=['lat']).where( (psd_signal_L4.freq_time > 0) &(psd_signal_L4.freq_lon > 0), drop=True)"
   ]
  },
  {
   "cell_type": "code",
   "execution_count": null,
   "id": "997f7bcc-8763-414c-b53c-a30a10d18828",
   "metadata": {},
   "outputs": [],
   "source": [
    "fig, ax = plt.subplots()\n",
    "\n",
    "ax.plot(\n",
    "    1.0 / signal_psd_mean.freq_lon * 111,\n",
    "    signal_psd_mean_lon,\n",
    "    label=\"Signal\",\n",
    "    color=\"black\",\n",
    ")\n",
    "\n",
    "ax.set(\n",
    "    yscale=\"log\",\n",
    "    xscale=\"log\",\n",
    "    xlabel=\"Wavelength (km)\",\n",
    "    ylabel=\"PSD (m$^{2}$/cycles/km)\",\n",
    "    xlim=(1e0, 1e4),\n",
    "    # ylim=(10e-6, 10e4)\n",
    ")\n",
    "ax.invert_xaxis()\n",
    "ax.legend()\n",
    "ax.grid(which=\"both\", alpha=0.5)\n",
    "\n",
    "plt.tight_layout()\n",
    "plt.show()"
   ]
  },
  {
   "cell_type": "markdown",
   "id": "d94235f6-bb21-4c1d-8e8d-b802f989895a",
   "metadata": {},
   "source": [
    "### FFT (Spatial-Temporal)"
   ]
  },
  {
   "cell_type": "code",
   "execution_count": null,
   "id": "f0112e8d-99b1-4fd8-a7e1-a240e39b5357",
   "metadata": {},
   "outputs": [],
   "source": []
  },
  {
   "cell_type": "markdown",
   "id": "35258a42-d83e-40c3-a799-a790eda4aceb",
   "metadata": {},
   "source": [
    "### Isotropic"
   ]
  },
  {
   "cell_type": "code",
   "execution_count": null,
   "id": "084e7d4e-2a84-47c0-b626-40d5510e5a92",
   "metadata": {},
   "outputs": [],
   "source": [
    "url = \"/Users/eman/.CMVolumes/cal1_data/dc_2021/results/OSE_ssh_mapping_BASELINE.nc\"\n",
    "ds = xr.open_dataset(url)\n",
    "signal = ds.ssh\n",
    "\n",
    "# renormalize the time\n",
    "signal[\"time\"] = (signal.time - signal.time[0]) / np.timedelta64(1, \"D\")\n",
    "\n",
    "# compute power spectrum (window=True\n",
    "signal_psd = xrft.isotropic_power_spectrum(signal, dim=[\"lat\", \"lon\"], detrend=\"linear\")\n",
    "signal_psd.coords[\"wavenumber\"] = (\"freq_r\", signal_psd[\"freq_r\"].data)\n",
    "\n",
    "# calculate mean signal\n",
    "signal_psd_mean = signal_psd.mean(dim=[\"time\"]).compute()"
   ]
  },
  {
   "cell_type": "code",
   "execution_count": null,
   "id": "37b6fe6c-8242-4c75-a955-a2890126ecfa",
   "metadata": {},
   "outputs": [],
   "source": [
    "signal_psd_mean"
   ]
  },
  {
   "cell_type": "code",
   "execution_count": null,
   "id": "54088e12-e7aa-4b7a-8b0d-14a19a6974a3",
   "metadata": {},
   "outputs": [],
   "source": [
    "fig, ax = plt.subplots()\n",
    "\n",
    "ax.plot(\n",
    "    1.0 / signal_psd_mean * 111,\n",
    "    signal_psd[\"freq_r\"].data,\n",
    "    label=\"Signal\",\n",
    "    color=\"black\",\n",
    ")\n",
    "\n",
    "ax.set(\n",
    "    yscale=\"log\",\n",
    "    xscale=\"log\",\n",
    "    xlabel=\"Wavelength (km)\",\n",
    "    ylabel=\"PSD (m$^{2}$/cycles/km)\",\n",
    "    # xlim=(1e0, 1e4),\n",
    ")\n",
    "ax.invert_xaxis()\n",
    "ax.legend()\n",
    "ax.grid(which=\"both\", alpha=0.5)\n",
    "\n",
    "plt.tight_layout()\n",
    "plt.show()"
   ]
  },
  {
   "cell_type": "code",
   "execution_count": null,
   "id": "62b9ec6e-7618-4c1e-9965-d0ee43b32db8",
   "metadata": {},
   "outputs": [],
   "source": [
    "psd_signal_eNATL[\"freq_r\"]"
   ]
  },
  {
   "cell_type": "code",
   "execution_count": null,
   "id": "e9698b1d-6177-42a4-b0b8-ca2b2d33f6ed",
   "metadata": {},
   "outputs": [],
   "source": [
    "signal_L4 = L4[\n",
    "    ssh\n",
    "]  # .chunk({\"lat\":1, 'time': eNATL['time'].size, 'lon': eNATL['lon'].size})\n",
    "signal_L4[\"time\"] = (signal_L4.time - signal_L4.time[0]) / numpy.timedelta64(1, \"D\")\n",
    "psd_signal_L4 = xrft.isotropic_power_spectrum(\n",
    "    signal_L4, dim=[\"lat\", \"lon\"], detrend=\"linear\", nfactor=4, truncate=True\n",
    ")\n",
    "psd_signal_L4.coords[\"wavenumber\"] = (\"freq_r\", psd_signal_L4[\"freq_r\"].data)\n",
    "psd_signal_L4.rename(\"Spatial spectrum\")\n",
    "mean_psd_signal_L4 = psd_signal_L4.mean(dim=\"time\").compute()"
   ]
  },
  {
   "cell_type": "code",
   "execution_count": null,
   "id": "3c91060b-3947-4d01-bca4-5f31061ab693",
   "metadata": {},
   "outputs": [],
   "source": []
  },
  {
   "cell_type": "code",
   "execution_count": null,
   "id": "76552cdc-8114-4c91-9658-b51d82554633",
   "metadata": {},
   "outputs": [],
   "source": [
    "plt.rcParams[\"figure.figsize\"] = [20.50, 10.50]\n",
    "\n",
    "\n",
    "f, (ax1) = plt.subplots(1, 1, sharey=True)\n",
    "mini1 = np.where(mean_psd_signal_L4_lon == mean_psd_signal_L4_lon.values.min())[0][0]\n",
    "ax1.plot(\n",
    "    1 / mean_psd_signal_L4_lon.freq_lon[0:mini1] * 111,\n",
    "    mean_psd_signal_L4_lon[0:mini1],\n",
    "    \"k\",\n",
    "    label=\"SSH_l4\",\n",
    ")\n",
    "mini2 = np.where(mean_psd_signal_seNATL_lon == mean_psd_signal_seNATL_lon.values.min())[\n",
    "    0\n",
    "][0]\n",
    "ax1.plot(\n",
    "    1 / mean_psd_signal_seNATL_lon.freq_lon[0:mini2] * 111,\n",
    "    mean_psd_signal_seNATL_lon[0:mini2],\n",
    "    label=\"seNATL\",\n",
    ")\n",
    "mini3 = np.where(mean_psd_signal_eNATL_lon == mean_psd_signal_eNATL_lon.values.min())[\n",
    "    0\n",
    "][0]\n",
    "ax1.plot(\n",
    "    1 / mean_psd_signal_eNATL_lon.freq_lon[0:mini3] * 111,\n",
    "    mean_psd_signal_eNATL_lon[0:mini3],\n",
    "    \"--\",\n",
    "    label=\"eNATL\",\n",
    ")\n",
    "ax1.set_ylabel(\"PSD [$m^2$/cyc/km]\")\n",
    "ax1.set_xlabel(\"Wavelength [km]\")\n",
    "ax1.grid(which=\"both\", alpha=0.5)\n",
    "ax1.legend()\n",
    "ax1.set_yscale(\"log\")\n",
    "ax1.set_xlim([0, 100])\n",
    "ax1.invert_xaxis()\n",
    "ymin, ymax = ax1.get_ylim()\n",
    "# ax1.vlines(x=[1/mean_psd_signal_L4_lon.freq_lon[mini1-1]*111,1/mean_psd_signal_eNATL_lon.freq_lon[mini2]*111, 1/mean_psd_signal_eNATL_lon.freq_lon[mini3]*111], ymin=ymin, ymax=ymax, colors=['k','k', 'k'], ls='-', lw=2, alpha=0.5)\n",
    "ax1.text(\n",
    "    1 / mean_psd_signal_L4_lon.freq_lon[mini1] * 111,\n",
    "    mean_psd_signal_L4_lon[mini1],\n",
    "    str(round(1 / mean_psd_signal_L4_lon.freq_lon[mini1].values * 111, 2)),\n",
    ")\n",
    "ax1.text(\n",
    "    1 / mean_psd_signal_eNATL_lon.freq_lon[mini3] * 111,\n",
    "    mean_psd_signal_eNATL_lon[mini3],\n",
    "    str(round(1 / mean_psd_signal_eNATL_lon.freq_lon[mini3].values * 111, 2)),\n",
    ")\n",
    "ax1.text(\n",
    "    1 / mean_psd_signal_seNATL_lon.freq_lon[mini2] * 111,\n",
    "    mean_psd_signal_seNATL_lon[mini2],\n",
    "    str(round(1 / mean_psd_signal_seNATL_lon.freq_lon[mini2].values * 111, 2)),\n",
    ")\n",
    "print(mini1, mini2, mini3)\n",
    "\n",
    "plt.show()"
   ]
  },
  {
   "cell_type": "code",
   "execution_count": null,
   "id": "081b3f11-28a8-4544-b6ee-c9e8edfb54cc",
   "metadata": {},
   "outputs": [],
   "source": [
    "signal_psd_mean"
   ]
  },
  {
   "cell_type": "markdown",
   "id": "f8813fef-1c21-4757-8451-bef8513fecf3",
   "metadata": {},
   "source": [
    "### Fourier"
   ]
  },
  {
   "cell_type": "code",
   "execution_count": null,
   "id": "8410cbcf-698a-4fd5-b1b6-a0b030a70787",
   "metadata": {},
   "outputs": [],
   "source": [
    "Fda = xrft.fft(da.isel(time=0), dim=\"lat\", true_phase=True, true_amplitude=True)\n",
    "Fda"
   ]
  },
  {
   "cell_type": "markdown",
   "id": "9b5b3a2f-8d74-42fb-b373-86079f445bfa",
   "metadata": {},
   "source": [
    "## Sea Surface Height (SSH)"
   ]
  },
  {
   "cell_type": "code",
   "execution_count": null,
   "id": "793f4bc2-0fbe-4ce7-ace9-152931415319",
   "metadata": {},
   "outputs": [],
   "source": [
    "# from intake import open_catalog\n",
    "# cat = open_catalog(\"https://raw.githubusercontent.com/pangeo-data/pangeo-datastore/master/intake-catalogs/ocean.yaml\")\n",
    "# ds  = cat[\"sea_surface_height\"].to_dask()"
   ]
  },
  {
   "cell_type": "code",
   "execution_count": null,
   "id": "de3e5067-4bd0-4dc3-aaf2-2da85823d421",
   "metadata": {},
   "outputs": [],
   "source": [
    "ds = xr.open_zarr(\"data/aviso.zarr\")\n",
    "ds"
   ]
  },
  {
   "cell_type": "code",
   "execution_count": null,
   "id": "a3e943b8-659c-47d2-837d-439c86965f11",
   "metadata": {},
   "outputs": [],
   "source": [
    "ds"
   ]
  },
  {
   "cell_type": "markdown",
   "id": "db971447-aedb-4db7-ab27-bac8f3e36047",
   "metadata": {},
   "source": [
    "## Air Temperature"
   ]
  },
  {
   "cell_type": "code",
   "execution_count": null,
   "id": "c01a9e0a-6cbf-4f33-904a-4bbb305be8a4",
   "metadata": {},
   "outputs": [],
   "source": [
    "ds = xr.tutorial.open_dataset(\"air_temperature\")\n",
    "da = ds.air"
   ]
  },
  {
   "cell_type": "code",
   "execution_count": null,
   "id": "e7634874-ec65-4797-ab28-352f46f35d37",
   "metadata": {},
   "outputs": [],
   "source": [
    "da"
   ]
  },
  {
   "cell_type": "code",
   "execution_count": null,
   "id": "88afc04f-61d2-4d97-83ff-58bf6efea105",
   "metadata": {},
   "outputs": [],
   "source": [
    "Fda = xrft.fft(da.isel(time=0), dim=\"lat\", true_phase=True, true_amplitude=True)\n",
    "Fda"
   ]
  },
  {
   "cell_type": "code",
   "execution_count": null,
   "id": "cca14b9b-cbd6-468c-a1ca-97180837b0fd",
   "metadata": {},
   "outputs": [],
   "source": []
  }
 ],
 "metadata": {
  "kernelspec": {
   "display_name": "Python [conda env:jax_eo_py39]",
   "language": "python",
   "name": "conda-env-jax_eo_py39-py"
  },
  "language_info": {
   "codemirror_mode": {
    "name": "ipython",
    "version": 3
   },
   "file_extension": ".py",
   "mimetype": "text/x-python",
   "name": "python",
   "nbconvert_exporter": "python",
   "pygments_lexer": "ipython3",
   "version": "3.9.12"
  }
 },
 "nbformat": 4,
 "nbformat_minor": 5
}
