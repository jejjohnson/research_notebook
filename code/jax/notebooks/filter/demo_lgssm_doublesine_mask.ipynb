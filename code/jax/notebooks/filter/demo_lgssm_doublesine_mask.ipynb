{
 "cells": [
  {
   "cell_type": "code",
   "execution_count": null,
   "id": "9d587439-3441-4052-8582-489ae46c730d",
   "metadata": {},
   "outputs": [],
   "source": [
    "import sys, os\n",
    "from pyprojroot import here\n",
    "\n",
    "\n",
    "# spyder up to find the root\n",
    "root = here(project_files=[\".home\"])\n",
    "\n",
    "# append to path\n",
    "sys.path.append(str(root))"
   ]
  },
  {
   "cell_type": "code",
   "execution_count": null,
   "id": "98ef9a10-ff9c-4f36-a450-645a749a8bc0",
   "metadata": {},
   "outputs": [],
   "source": [
    "import numpy as np\n",
    "import jax.numpy as jnp\n",
    "import matplotlib.pyplot as plt\n",
    "\n",
    "plt.rcParams[\"axes.spines.right\"] = False\n",
    "plt.rcParams[\"axes.spines.top\"] = False\n",
    "from jax import random\n",
    "\n",
    "\n",
    "from tensorflow_probability.substrates import jax as tfp\n",
    "\n",
    "tfd = tfp.distributions\n",
    "from filterjax._src.models.lgssm import StateSpaceModelDiag\n",
    "import jax\n",
    "\n",
    "np.random.seed(123)\n",
    "%load_ext autoreload\n",
    "%autoreload 2"
   ]
  },
  {
   "cell_type": "code",
   "execution_count": null,
   "id": "3ebef6a0-8389-47fd-925d-e8ad9b3ce76e",
   "metadata": {},
   "outputs": [],
   "source": [
    "Nt = 100\n",
    "t = np.linspace(0, 10, Nt)\n",
    "x = np.stack([np.sin(t), np.cos(t)]).T\n",
    "y = x + np.random.normal(0, 0.1, (Nt, 2))\n",
    "mask = np.random.randint(low=0, high=1, size=(Nt, 2))\n",
    "plt.scatter(t, y[:, 0])\n",
    "\n",
    "plt.scatter(t, y[:, 1])\n",
    "plt.plot(t, np.sin(t))\n",
    "plt.plot(t, np.cos(t))\n",
    "plt.show()"
   ]
  },
  {
   "cell_type": "code",
   "execution_count": null,
   "id": "b16b4777-a2bb-45fc-90cc-e4bf994b67c3",
   "metadata": {},
   "outputs": [],
   "source": [
    "y_true = x[None, ...]\n",
    "y_train = y[None, ...]\n",
    "y_mask = mask[None, ...]\n",
    "y_train.shape, y_mask.shape"
   ]
  },
  {
   "cell_type": "code",
   "execution_count": null,
   "id": "b3ae14f6-52c9-4caf-b68e-6a397ab31b69",
   "metadata": {},
   "outputs": [],
   "source": [
    "t = np.linspace(0, 10, Nt)\n",
    "y = np.stack([np.sin(t), np.cos(t)]).T + np.random.normal(0, 0.1, (Nt, 2))\n",
    "idx = np.random.choice(np.arange(0, t.shape[0]), size=(Nt - 20))\n",
    "y_masked = y.copy()\n",
    "y_masked[idx, 0] = np.nan\n",
    "y_masked[idx[::-1], 1] = np.nan\n",
    "mask = np.isnan(y_masked).astype(np.float64)\n",
    "\n",
    "plt.show()\n",
    "plt.scatter(t, y_masked[:, 0])\n",
    "plt.scatter(t, y_masked[:, 1])\n",
    "plt.plot(t, np.sin(t))\n",
    "plt.plot(t, np.cos(t))\n",
    "plt.show()"
   ]
  },
  {
   "cell_type": "code",
   "execution_count": null,
   "id": "2a5af058-7ff4-4bf7-b4cc-6dc6b4980f5a",
   "metadata": {},
   "outputs": [],
   "source": [
    "y_true = jnp.array(x[None, ...])\n",
    "y_train = jnp.array(jnp.nan_to_num(y_masked[None, ...]))\n",
    "y_mask = jnp.array(mask[None, ...])\n",
    "y_train.shape, y_mask.shape"
   ]
  },
  {
   "cell_type": "code",
   "execution_count": null,
   "id": "73dc99fa-6824-4cb4-bd61-a6196bdbbd26",
   "metadata": {},
   "outputs": [],
   "source": [
    "y_mask.min(), y_mask.max()"
   ]
  },
  {
   "cell_type": "code",
   "execution_count": null,
   "id": "cf763c66-ac10-4a18-a2ec-a60c17a6770d",
   "metadata": {},
   "outputs": [],
   "source": [
    "y_train.shape, y_mask.shape"
   ]
  },
  {
   "cell_type": "code",
   "execution_count": null,
   "id": "1361d4d8-46d3-4e28-af56-b4b592871796",
   "metadata": {},
   "outputs": [],
   "source": [
    "rng = np.random.RandomState(123)\n",
    "\n",
    "num_timesteps = y_train.shape[1]\n",
    "state_size = 6\n",
    "obs_size = 2\n",
    "mu0 = jnp.zeros(state_size)\n",
    "mu0 = jnp.asarray(mu0)\n",
    "Sigma0 = jnp.ones(state_size) * 0.01\n",
    "\n",
    "\n",
    "# transition_matrix = jnp.eye(state_size)\n",
    "noise_std = 0.2\n",
    "transition_matrix = rng.randn(state_size, state_size) / state_size\n",
    "transition_matrix = jnp.asarray(transition_matrix)\n",
    "transition_noise = noise_std * jnp.ones(state_size)\n",
    "\n",
    "# obsercation\n",
    "noise_std = 0.1\n",
    "observation_matrix = rng.randn(obs_size, state_size) / state_size\n",
    "observation_matrix = jnp.asarray(observation_matrix)\n",
    "observation_noise = noise_std * jnp.ones(obs_size)"
   ]
  },
  {
   "cell_type": "code",
   "execution_count": null,
   "id": "73fe3037-e5ac-4fd3-8cbe-f10ffe060dce",
   "metadata": {},
   "outputs": [],
   "source": [
    "observation_matrix.shape, observation_noise.shape"
   ]
  },
  {
   "cell_type": "code",
   "execution_count": null,
   "id": "00463c64-812a-4f78-90a6-ed9c2d30a12a",
   "metadata": {},
   "outputs": [],
   "source": [
    "def build_model(params):\n",
    "    # parse params\n",
    "    mu0 = params[\"prior_mu\"]\n",
    "    Sigma0 = params[\"prior_sigma\"]\n",
    "    transition_noise = params[\"trans\"]\n",
    "    observation_noise = params[\"obs\"]\n",
    "    transition_matrix = params[\"trans_mat\"]\n",
    "    observation_matrix = params[\"obs_mat\"]\n",
    "\n",
    "    # transition_noise = jax.nn.softplus(transition_noise)\n",
    "    # observation_noise = jax.nn.softplus(observation_noise)\n",
    "\n",
    "    # print(mu0.shape, transition_noise.shape, observation_noise.shape)\n",
    "\n",
    "    # build model\n",
    "    model = StateSpaceModelDiag(\n",
    "        mu0=mu0,\n",
    "        Sigma0=Sigma0,\n",
    "        transition_matrix=transition_matrix,\n",
    "        transition_noise=transition_noise,\n",
    "        observation_matrix=observation_matrix,\n",
    "        observation_noise=observation_noise,\n",
    "    )\n",
    "    return model"
   ]
  },
  {
   "cell_type": "code",
   "execution_count": null,
   "id": "e205ec7a-125e-41e2-8c67-e562fb3ab567",
   "metadata": {},
   "outputs": [],
   "source": [
    "init_params = {\n",
    "    \"prior_mu\": mu0,\n",
    "    \"prior_sigma\": Sigma0,\n",
    "    \"trans_mat\": transition_matrix,\n",
    "    \"trans\": transition_noise,\n",
    "    \"obs_mat\": observation_matrix,\n",
    "    \"obs\": observation_noise,\n",
    "}\n",
    "\n",
    "model = build_model(init_params)"
   ]
  },
  {
   "cell_type": "code",
   "execution_count": null,
   "id": "3319893a-c77a-4bd0-876e-7b7a25cd5f6c",
   "metadata": {},
   "outputs": [],
   "source": [
    "model.prior_dist.event_shape, model.prior_dist.batch_shape"
   ]
  },
  {
   "cell_type": "markdown",
   "id": "54f95adb-e8f4-4d57-a15b-cc07b45328df",
   "metadata": {},
   "source": [
    "## Draw Samples"
   ]
  },
  {
   "cell_type": "code",
   "execution_count": null,
   "id": "c48d864e-76e9-4d75-a9d5-736bacb41a46",
   "metadata": {},
   "outputs": [],
   "source": [
    "%%time\n",
    "\n",
    "n_samples = 5\n",
    "n_time_steps = 100\n",
    "sample_prior = True\n",
    "seed = 123  # 31415\n",
    "key = random.PRNGKey(seed)\n",
    "\n",
    "# noise_samples = model.transition_noise.sample(sample_shape=n_samples, seed=key)\n",
    "state_samples, obs_samples = model.sample(\n",
    "    key, n_time_steps=n_time_steps, n_samples=n_samples, sample_prior=sample_prior\n",
    ")\n",
    "\n",
    "print(state_samples.shape, obs_samples.shape)"
   ]
  },
  {
   "cell_type": "code",
   "execution_count": null,
   "id": "916be60e-8d4a-4922-bf23-49628e22c8e9",
   "metadata": {},
   "outputs": [],
   "source": [
    "for i in range(n_samples):\n",
    "    plt.figure()\n",
    "    # plt.plot(state_samples[i, ...], linestyle=\"-\", linewidth=3, marker=\"\")\n",
    "    plt.plot(obs_samples[i, ...], linestyle=\"\", marker=\".\", color=\"red\")\n",
    "    plt.show()"
   ]
  },
  {
   "cell_type": "markdown",
   "id": "b84a707b-3665-404b-a190-3152f0071558",
   "metadata": {},
   "source": [
    "### Forward Filter"
   ]
  },
  {
   "cell_type": "code",
   "execution_count": null,
   "id": "0702b0af-2e75-43e4-b779-a9a42fd51691",
   "metadata": {},
   "outputs": [],
   "source": [
    "# init_params = {\"prior\": mu0, \"trans\": transition_noise, \"obs\": observation_noise}\n",
    "\n",
    "# model = build_model(init_params)"
   ]
  },
  {
   "cell_type": "code",
   "execution_count": null,
   "id": "5accee66-4176-48ee-8716-d007b17c0ff4",
   "metadata": {},
   "outputs": [],
   "source": [
    "%%time\n",
    "\n",
    "(\n",
    "    filtered_z_means,\n",
    "    filtered_z_covs,\n",
    "    filtered_x_means,\n",
    "    filtered_x_covs,\n",
    "    log_probs,\n",
    ") = model.forward_filter(y_train, y_mask)\n",
    "assert filtered_z_means.shape == (1, y_train.shape[1], state_size)\n",
    "assert filtered_z_covs.shape == (1, y_train.shape[1], state_size, state_size)\n",
    "\n",
    "assert filtered_x_means.shape == (1, y_train.shape[1], 2)\n",
    "assert filtered_x_covs.shape == (1, y_train.shape[1], 2, 2)"
   ]
  },
  {
   "cell_type": "code",
   "execution_count": null,
   "id": "9cde4f2b-52d5-4f5d-8c77-e97d2afcd96e",
   "metadata": {},
   "outputs": [],
   "source": [
    "# marginal_log_likelihood = jnp.sum(sols[2], axis=-1)\n",
    "# nll = - jnp.mean(marginal_log_likelihood)\n",
    "# nll"
   ]
  },
  {
   "cell_type": "code",
   "execution_count": null,
   "id": "ed7e1c1b-a92b-42bd-840b-ab9306f44980",
   "metadata": {},
   "outputs": [],
   "source": [
    "i = 0\n",
    "plt.figure()\n",
    "plt.plot(y_true[i, ..., 0], linestyle=\"-\", linewidth=3, marker=\"\", label=\"True State\")\n",
    "plt.plot(y_true[i, ..., 1], linestyle=\"-\", linewidth=3, marker=\"\", label=\"True State\")\n",
    "plt.plot(\n",
    "    filtered_x_means[i, ..., 0],\n",
    "    linestyle=\"--\",\n",
    "    linewidth=3,\n",
    "    marker=\"\",\n",
    "    label=\"Filtered (x1)\",\n",
    ")\n",
    "plt.plot(\n",
    "    filtered_x_means[i, ..., 1],\n",
    "    linestyle=\"--\",\n",
    "    linewidth=3,\n",
    "    marker=\"\",\n",
    "    label=\"Filtered (x2)\",\n",
    ")\n",
    "plt.plot(\n",
    "    y_train[i, ..., 0], linestyle=\"\", marker=\".\", color=\"red\", label=\"Observations\"\n",
    ")\n",
    "plt.plot(\n",
    "    y_train[i, ..., 1],\n",
    "    linestyle=\"\",\n",
    "    marker=\".\",\n",
    "    color=\"red\",\n",
    ")\n",
    "plt.legend()\n",
    "plt.show()"
   ]
  },
  {
   "cell_type": "markdown",
   "id": "86dfd81f-a965-461d-a452-1e58aad1cdd2",
   "metadata": {},
   "source": [
    "\n",
    "\n",
    "## Backwards Smoothing"
   ]
  },
  {
   "cell_type": "code",
   "execution_count": null,
   "id": "2bef4239-4f0c-434f-bef0-d067f860b0c7",
   "metadata": {},
   "outputs": [],
   "source": [
    "%%time\n",
    "\n",
    "# smoothed_z_means, smoothed_z_covs, j = model.backward_smoothing_pass(filtered_z_means, filtered_z_covs)\n",
    "# assert smoothed_z_means.shape == (1, X_Train.shape[1], 1)\n",
    "# assert smoothed_z_covs.shape == (1, X_Train.shape[1], 1, 1)\n",
    "\n",
    "smoothed_x_means, smoothed_x_covs = model.posterior_marginals(y_train, y_mask)"
   ]
  },
  {
   "cell_type": "code",
   "execution_count": null,
   "id": "387d1b61-de3e-45bd-a8f1-8dfbfe821ea2",
   "metadata": {},
   "outputs": [],
   "source": [
    "plt.figure()\n",
    "plt.plot(y_true[i, ..., 0], linestyle=\"-\", linewidth=3, marker=\"\", label=\"True State\")\n",
    "plt.plot(y_true[i, ..., 1], linestyle=\"-\", linewidth=3, marker=\"\", label=\"True State\")\n",
    "plt.plot(\n",
    "    smoothed_x_means[i, ..., 0], linestyle=\"-\", linewidth=3, marker=\"\", label=\"filtered\"\n",
    ")\n",
    "plt.plot(\n",
    "    smoothed_x_means[i, ..., 1], linestyle=\"-\", linewidth=3, marker=\"\", label=\"smoothed\"\n",
    ")\n",
    "plt.plot(\n",
    "    y_train[i, ..., 0], linestyle=\"\", marker=\".\", color=\"red\", label=\"Observations\"\n",
    ")\n",
    "plt.plot(\n",
    "    y_train[i, ..., 1],\n",
    "    linestyle=\"\",\n",
    "    marker=\".\",\n",
    "    color=\"red\",\n",
    ")\n",
    "plt.legend()\n",
    "plt.show()"
   ]
  },
  {
   "cell_type": "markdown",
   "id": "88b2fc8b-b3cd-487d-98ae-6cad641852f7",
   "metadata": {},
   "source": [
    "## Training"
   ]
  },
  {
   "cell_type": "markdown",
   "id": "7d419768-2ecb-42c8-9e9f-001125cd2dd0",
   "metadata": {},
   "source": [
    "### Model"
   ]
  },
  {
   "cell_type": "code",
   "execution_count": null,
   "id": "0125aa91-eaaf-4d3a-8769-cc4e95e5d759",
   "metadata": {},
   "outputs": [],
   "source": [
    "def build_model(params):\n",
    "    # parse params\n",
    "    mu0 = params[\"prior_mu\"]\n",
    "    Sigma0 = params[\"prior_sigma\"]\n",
    "    transition_noise = params[\"trans\"]\n",
    "    observation_noise = params[\"obs\"]\n",
    "    transition_matrix = params[\"trans_mat\"]\n",
    "    observation_matrix = params[\"obs_mat\"]\n",
    "\n",
    "    transition_noise = jax.nn.softplus(transition_noise)\n",
    "    observation_noise = jax.nn.softplus(observation_noise)\n",
    "    # transition_matrix = jax.nn.softplus(transition_matrix)\n",
    "    # observation_matrix = jax.nn.softplus(observation_matrix)\n",
    "    Sigma0 = jax.nn.softplus(Sigma0)\n",
    "    # print(mu0.shape, transition_noise.shape, observation_noise.shape)\n",
    "\n",
    "    # build model\n",
    "    model = StateSpaceModelDiag(\n",
    "        mu0=mu0,\n",
    "        Sigma0=Sigma0,\n",
    "        transition_matrix=transition_matrix,\n",
    "        transition_noise=transition_noise,\n",
    "        observation_matrix=observation_matrix,\n",
    "        observation_noise=observation_noise,\n",
    "    )\n",
    "    return model"
   ]
  },
  {
   "cell_type": "markdown",
   "id": "f765851e-881e-42ba-9095-d09ca55c9d6f",
   "metadata": {},
   "source": [
    "### Parameters"
   ]
  },
  {
   "cell_type": "code",
   "execution_count": null,
   "id": "8af152ea-bf7b-49b0-896a-61229fac4f65",
   "metadata": {},
   "outputs": [],
   "source": [
    "rng = np.random.RandomState(123)\n",
    "\n",
    "num_timesteps = y_train.shape[1]\n",
    "state_size = 6\n",
    "obs_size = 2\n",
    "mu0 = jnp.zeros(state_size)\n",
    "mu0 = jnp.asarray(mu0)\n",
    "Sigma0 = jnp.ones(state_size)\n",
    "\n",
    "\n",
    "# transition_matrix = jnp.eye(state_size)\n",
    "noise_std = 1.0\n",
    "transition_matrix = rng.randn(state_size, state_size) / state_size\n",
    "transition_matrix = jnp.asarray(transition_matrix)\n",
    "transition_noise = noise_std * jnp.ones(state_size)\n",
    "\n",
    "# obsercation\n",
    "noise_std = 1.0\n",
    "observation_matrix = rng.randn(obs_size, state_size) / state_size\n",
    "observation_matrix = jnp.asarray(observation_matrix)\n",
    "observation_noise = noise_std * jnp.ones(obs_size)\n",
    "\n",
    "init_params = {\n",
    "    \"prior_mu\": mu0,\n",
    "    \"prior_sigma\": Sigma0,\n",
    "    \"trans_mat\": transition_matrix,\n",
    "    \"trans\": transition_noise,\n",
    "    \"obs_mat\": observation_matrix,\n",
    "    \"obs\": observation_noise,\n",
    "}"
   ]
  },
  {
   "cell_type": "markdown",
   "id": "4c557945-f52c-4d83-8d25-f6c5c030e63c",
   "metadata": {},
   "source": [
    "#### Objective Function"
   ]
  },
  {
   "cell_type": "code",
   "execution_count": null,
   "id": "82170257-22c5-42e2-9f28-0c4ef0eb4e03",
   "metadata": {},
   "outputs": [],
   "source": [
    "def objective_func(params, obs, mask):\n",
    "\n",
    "    kf_model = build_model(params)\n",
    "\n",
    "    loss = kf_model.negative_log_likelihood(obs, mask)\n",
    "    return loss"
   ]
  },
  {
   "cell_type": "code",
   "execution_count": null,
   "id": "f847c48d-cdb0-44b5-bdaf-98a6eccd03b4",
   "metadata": {},
   "outputs": [],
   "source": []
  },
  {
   "cell_type": "code",
   "execution_count": null,
   "id": "491d6fcc-14c3-46a1-ae86-b50faa0af1f9",
   "metadata": {},
   "outputs": [],
   "source": [
    "objective_func(init_params, y_train, None)"
   ]
  },
  {
   "cell_type": "code",
   "execution_count": null,
   "id": "45ff87ed-5feb-4173-a3ef-4b07cb1ae550",
   "metadata": {},
   "outputs": [],
   "source": [
    "objective_func(init_params, y_train, jnp.zeros_like(y_train))"
   ]
  },
  {
   "cell_type": "code",
   "execution_count": null,
   "id": "d9d07081-8eb7-4294-a093-c65251286fc1",
   "metadata": {},
   "outputs": [],
   "source": [
    "objective_func(init_params, y_train, jnp.ones_like(y_train))"
   ]
  },
  {
   "cell_type": "code",
   "execution_count": null,
   "id": "c156ab4c-c2da-4073-96bc-588e1aef152a",
   "metadata": {},
   "outputs": [],
   "source": [
    "objective_func(init_params, y_train, y_mask)"
   ]
  },
  {
   "cell_type": "code",
   "execution_count": null,
   "id": "543f2191-b019-464f-9cdf-aabe72ba45a7",
   "metadata": {},
   "outputs": [],
   "source": []
  },
  {
   "cell_type": "markdown",
   "id": "af45744d-74c5-4d96-b62a-276acb181b65",
   "metadata": {},
   "source": [
    "#### LBGFS"
   ]
  },
  {
   "cell_type": "code",
   "execution_count": null,
   "id": "bb452f77-4a77-4f8b-8592-3f5594bd71e4",
   "metadata": {},
   "outputs": [],
   "source": [
    "import jaxopt\n",
    "\n",
    "solver = jaxopt.ScipyMinimize(fun=objective_func, method=\"L-BFGS-B\")\n",
    "# solver = jaxopt.LBFGS(fun=objective_func, maxiter=10_000)\n",
    "soln = solver.run(init_params, obs=y_train, mask=y_mask)"
   ]
  },
  {
   "cell_type": "code",
   "execution_count": null,
   "id": "ba9247c5-f6b5-4d32-add8-77d6391b1f0e",
   "metadata": {},
   "outputs": [],
   "source": [
    "soln.state.fun_val"
   ]
  },
  {
   "cell_type": "code",
   "execution_count": null,
   "id": "7b45506a-8455-4847-a607-40131d58a479",
   "metadata": {},
   "outputs": [],
   "source": [
    "soln.params"
   ]
  },
  {
   "cell_type": "code",
   "execution_count": null,
   "id": "44fb6035-4933-46ce-8406-1199a1502caa",
   "metadata": {},
   "outputs": [],
   "source": [
    "model = build_model(soln.params)"
   ]
  },
  {
   "cell_type": "markdown",
   "id": "dd34bec1-085c-4870-aef2-b7e19a29c08d",
   "metadata": {},
   "source": [
    "### Gradient Descent"
   ]
  },
  {
   "cell_type": "code",
   "execution_count": null,
   "id": "8dd4d43a-7eb8-48ab-b4a3-928938501237",
   "metadata": {},
   "outputs": [],
   "source": [
    "import optax"
   ]
  },
  {
   "cell_type": "code",
   "execution_count": null,
   "id": "6bdfdb56-bcbb-4446-b087-e1338e6b2bea",
   "metadata": {},
   "outputs": [],
   "source": [
    "def make_adam_optimizer(\n",
    "    learning_rate,\n",
    "    lr_schedule,\n",
    "    b1=0.9,\n",
    "    b2=0.999,\n",
    "    eps=1e-8,\n",
    "):\n",
    "    \"\"\"Make Adam optimizer.\"\"\"\n",
    "    # Maximize log-prob instead of minimizing loss\n",
    "    return optax.chain(\n",
    "        optax.clip_by_global_norm(1.0),  # Clip by the gradient by the global norm.\n",
    "        optax.scale_by_adam(b1=b1, b2=b2, eps=eps),\n",
    "        optax.scale_by_schedule(lr_schedule),\n",
    "        optax.scale(-learning_rate),\n",
    "    )\n",
    "\n",
    "\n",
    "def make_cosine_lr_schedule(init_lr, total_steps):\n",
    "    \"\"\"Cosine LR schedule.\"\"\"\n",
    "\n",
    "    def schedule(step):\n",
    "        t = step / total_steps\n",
    "        return 0.5 * init_lr * (1 + jnp.cos(t * np.pi))\n",
    "\n",
    "    return schedule"
   ]
  },
  {
   "cell_type": "code",
   "execution_count": null,
   "id": "f486c700-6aa0-42a7-8c2b-39dda78be51d",
   "metadata": {},
   "outputs": [],
   "source": [
    "lr = 0.05\n",
    "decay_steps = 200\n",
    "n_iterations = 3_000\n",
    "\n",
    "cosine_decay_schedule = optax.cosine_decay_schedule(\n",
    "    init_value=lr, decay_steps=decay_steps, alpha=0.95\n",
    ")\n",
    "\n",
    "# schedule = make_cosine_lr_schedule(lr, total_steps=n_iterations)\n",
    "tx = make_adam_optimizer(lr, cosine_decay_schedule)"
   ]
  },
  {
   "cell_type": "code",
   "execution_count": null,
   "id": "ca08b5e0-2837-44f8-b561-9fc481a00fa9",
   "metadata": {},
   "outputs": [],
   "source": [
    "# tx = optax.adam(learning_rate=0.0005)\n",
    "params = init_params.copy()"
   ]
  },
  {
   "cell_type": "code",
   "execution_count": null,
   "id": "0b7982a5-c320-4d44-9491-6a1bb86c4a5a",
   "metadata": {},
   "outputs": [],
   "source": [
    "# tx = optax.adam(learning_rate=0.0005)\n",
    "# params = init_params.copy()\n",
    "opt_state = tx.init(params)\n",
    "loss_grad_fn = jax.jit(jax.value_and_grad(objective_func))"
   ]
  },
  {
   "cell_type": "code",
   "execution_count": null,
   "id": "4a3c8d10-e518-4854-9b1d-b41bd8cd58e1",
   "metadata": {},
   "outputs": [],
   "source": []
  },
  {
   "cell_type": "code",
   "execution_count": null,
   "id": "034a6b33-ce2c-4301-9002-c04e6adb466c",
   "metadata": {},
   "outputs": [],
   "source": [
    "from tqdm.notebook import trange"
   ]
  },
  {
   "cell_type": "code",
   "execution_count": null,
   "id": "194d78e1-7d32-4360-ab15-39c9d3f0958c",
   "metadata": {},
   "outputs": [],
   "source": [
    "losses = []\n",
    "\n",
    "# n_iterations = 3_001\n",
    "with trange(n_iterations) as pbar:\n",
    "    for i in pbar:\n",
    "        loss_val, grads = loss_grad_fn(params, y_train, y_mask)\n",
    "        losses.append(loss_val)\n",
    "        updates, opt_state = tx.update(grads, opt_state)\n",
    "        params = optax.apply_updates(params, updates)\n",
    "        pbar.set_description(f\"Loss: {loss_val:.4f}\")"
   ]
  },
  {
   "cell_type": "code",
   "execution_count": null,
   "id": "469b06dd-402c-4635-8724-28ff6baed417",
   "metadata": {},
   "outputs": [],
   "source": [
    "plt.plot(losses)"
   ]
  },
  {
   "cell_type": "code",
   "execution_count": null,
   "id": "22072129-ac03-4225-a6c4-11e8d529e977",
   "metadata": {},
   "outputs": [],
   "source": [
    "params"
   ]
  },
  {
   "cell_type": "code",
   "execution_count": null,
   "id": "9182d843-bd58-47d2-bfe6-d49030711f51",
   "metadata": {},
   "outputs": [],
   "source": [
    "model = build_model(params)"
   ]
  },
  {
   "cell_type": "code",
   "execution_count": null,
   "id": "3978b0f2-cd1d-4e95-a365-39a59f635e48",
   "metadata": {},
   "outputs": [],
   "source": [
    "model._transition_noise, model._observation_noise"
   ]
  },
  {
   "cell_type": "markdown",
   "id": "5e603f47-9175-4549-8810-7ea0c7b98028",
   "metadata": {},
   "source": [
    "## Results"
   ]
  },
  {
   "cell_type": "markdown",
   "id": "11013bdf-db5a-46e1-bb15-6e65b82b6c55",
   "metadata": {},
   "source": [
    "### Filtering"
   ]
  },
  {
   "cell_type": "code",
   "execution_count": null,
   "id": "88c00f92-9377-4e94-adbe-803c42a50f2c",
   "metadata": {},
   "outputs": [],
   "source": [
    "%%time\n",
    "\n",
    "*_, filtered_x_means, filtered_x_covs, _ = model.forward_filter(y_train, y_mask)"
   ]
  },
  {
   "cell_type": "code",
   "execution_count": null,
   "id": "ef17b910-03ae-4357-90df-e63b7a0d5726",
   "metadata": {},
   "outputs": [],
   "source": [
    "i = 0\n",
    "plt.figure()\n",
    "plt.plot(y_true[i, ..., 0], linestyle=\"-\", linewidth=3, marker=\"\", label=\"True State\")\n",
    "plt.plot(y_true[i, ..., 1], linestyle=\"-\", linewidth=3, marker=\"\", label=\"True State\")\n",
    "plt.plot(\n",
    "    filtered_x_means[i, ..., 0],\n",
    "    linestyle=\"--\",\n",
    "    linewidth=3,\n",
    "    marker=\"\",\n",
    "    label=\"Filtered (x1)\",\n",
    ")\n",
    "plt.plot(\n",
    "    filtered_x_means[i, ..., 1],\n",
    "    linestyle=\"--\",\n",
    "    linewidth=3,\n",
    "    marker=\"\",\n",
    "    label=\"Filtered (x2)\",\n",
    ")\n",
    "plt.plot(y_masked[..., 0], linestyle=\"\", marker=\".\", color=\"red\", label=\"Observations\")\n",
    "plt.plot(\n",
    "    y_masked[..., 1],\n",
    "    linestyle=\"\",\n",
    "    marker=\".\",\n",
    "    color=\"red\",\n",
    ")\n",
    "plt.legend()\n",
    "plt.show()"
   ]
  },
  {
   "cell_type": "markdown",
   "id": "d4d153d1-3152-48e2-8f11-90c234628ed0",
   "metadata": {},
   "source": [
    "### Smoothing"
   ]
  },
  {
   "cell_type": "code",
   "execution_count": null,
   "id": "f431db03-e59e-4cce-979b-4995a0055bad",
   "metadata": {},
   "outputs": [],
   "source": [
    "smoothed_x_means, smoothed_x_covs = model.posterior_marginals(y_train, y_mask)"
   ]
  },
  {
   "cell_type": "code",
   "execution_count": null,
   "id": "0df0ca7a-bb4a-491b-98e0-46f2865e5bad",
   "metadata": {},
   "outputs": [],
   "source": [
    "plt.figure()\n",
    "plt.plot(\n",
    "    y_true[i, ..., 0],\n",
    "    linestyle=\"-\",\n",
    "    linewidth=3,\n",
    "    marker=\"\",\n",
    "    color=\"black\",\n",
    "    label=\"True State\",\n",
    ")\n",
    "plt.plot(\n",
    "    y_true[i, ..., 1],\n",
    "    linestyle=\"-\",\n",
    "    linewidth=3,\n",
    "    marker=\"\",\n",
    "    color=\"black\",\n",
    ")\n",
    "plt.plot(\n",
    "    smoothed_x_means[i, ..., 0],\n",
    "    linestyle=\"-\",\n",
    "    linewidth=3,\n",
    "    marker=\"\",\n",
    "    color=\"blue\",\n",
    "    label=\"filtered\",\n",
    ")\n",
    "plt.plot(\n",
    "    smoothed_x_means[i, ..., 1],\n",
    "    linestyle=\"-\",\n",
    "    linewidth=3,\n",
    "    marker=\"\",\n",
    "    color=\"green\",\n",
    "    label=\"smoothed\",\n",
    ")\n",
    "plt.plot(y_masked[..., 0], linestyle=\"\", marker=\".\", color=\"red\", label=\"Observations\")\n",
    "plt.plot(\n",
    "    y_masked[..., 1],\n",
    "    linestyle=\"\",\n",
    "    marker=\".\",\n",
    "    color=\"red\",\n",
    ")\n",
    "plt.legend()\n",
    "plt.show()"
   ]
  },
  {
   "cell_type": "markdown",
   "id": "f1a49a83-102e-4c9a-9a70-5512eba9341d",
   "metadata": {},
   "source": [
    "### Samples"
   ]
  },
  {
   "cell_type": "code",
   "execution_count": null,
   "id": "17a254c2-04db-4252-83ae-e044ec61634b",
   "metadata": {},
   "outputs": [],
   "source": [
    "%%time\n",
    "\n",
    "n_samples = 10\n",
    "n_time_steps = 100\n",
    "sample_prior = True\n",
    "seed = 123  # 31415\n",
    "key = random.PRNGKey(seed)\n",
    "\n",
    "# noise_samples = model.transition_noise.sample(sample_shape=n_samples, seed=key)\n",
    "state_samples, obs_samples = model.sample(\n",
    "    key, n_time_steps=n_time_steps, n_samples=n_samples, sample_prior=sample_prior\n",
    ")\n",
    "\n",
    "print(state_samples.shape, obs_samples.shape)"
   ]
  },
  {
   "cell_type": "code",
   "execution_count": null,
   "id": "97196ad3-0e89-408a-a1b3-e47b7769804d",
   "metadata": {},
   "outputs": [],
   "source": [
    "for i in range(n_samples):\n",
    "    plt.figure()\n",
    "    # plt.plot(state_samples[i, ...], linestyle=\"-\", linewidth=3, marker=\"\")\n",
    "    plt.plot(obs_samples[i, ...], linestyle=\"\", marker=\".\", color=\"red\")\n",
    "    plt.show()"
   ]
  },
  {
   "cell_type": "code",
   "execution_count": null,
   "id": "f0a753f7-dbc3-4a84-9194-ad29517c60fe",
   "metadata": {},
   "outputs": [],
   "source": []
  },
  {
   "cell_type": "code",
   "execution_count": null,
   "id": "a5d9b2cf-f4d4-450a-9dde-4c5de4017d7b",
   "metadata": {},
   "outputs": [],
   "source": []
  },
  {
   "cell_type": "code",
   "execution_count": null,
   "id": "0a117f81-8cde-457a-a7ff-7b73b69bd96d",
   "metadata": {},
   "outputs": [],
   "source": []
  }
 ],
 "metadata": {
  "kernelspec": {
   "display_name": "Python [conda env:miniconda3-4dvarjax]",
   "language": "python",
   "name": "conda-env-miniconda3-4dvarjax-py"
  },
  "language_info": {
   "codemirror_mode": {
    "name": "ipython",
    "version": 3
   },
   "file_extension": ".py",
   "mimetype": "text/x-python",
   "name": "python",
   "nbconvert_exporter": "python",
   "pygments_lexer": "ipython3",
   "version": "3.9.9"
  }
 },
 "nbformat": 4,
 "nbformat_minor": 5
}
