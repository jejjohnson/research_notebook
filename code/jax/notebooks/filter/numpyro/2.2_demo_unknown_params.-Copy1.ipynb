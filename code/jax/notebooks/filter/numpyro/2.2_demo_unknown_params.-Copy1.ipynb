{
 "cells": [
  {
   "cell_type": "markdown",
   "id": "995f62d3-a019-4ae8-b478-99533b2f0cbb",
   "metadata": {},
   "source": [
    "# Demo - KF with Unknown Parameters"
   ]
  },
  {
   "cell_type": "code",
   "execution_count": null,
   "id": "635ea26b-8f35-45d2-b98e-e371bc575601",
   "metadata": {},
   "outputs": [],
   "source": [
    "import sys, os\n",
    "from pyprojroot import here\n",
    "\n",
    "# spyder up to find the root\n",
    "root = here(project_files=[\".home\"])\n",
    "\n",
    "# append to path\n",
    "sys.path.append(str(root))\n",
    "\n",
    "%load_ext autoreload\n",
    "%autoreload 2"
   ]
  },
  {
   "cell_type": "code",
   "execution_count": null,
   "id": "077b75b9-e52d-4dd6-82a0-388c4a15271d",
   "metadata": {},
   "outputs": [],
   "source": [
    "import jax\n",
    "import jax.numpy as jnp\n",
    "import numpy as np\n",
    "from typing import NamedTuple\n",
    "from jax.random import multivariate_normal, split\n",
    "from tqdm.notebook import tqdm, trange\n",
    "from jax.random import multivariate_normal\n",
    "from tensorflow_probability.substrates import jax as tfp\n",
    "\n",
    "tfd = tfp.distributions\n",
    "\n",
    "\n",
    "import matplotlib.pyplot as plt"
   ]
  },
  {
   "cell_type": "markdown",
   "id": "803a8c06-5d3e-4d24-bb91-9bf6ae7676bf",
   "metadata": {},
   "source": [
    "## Simulating Data"
   ]
  },
  {
   "cell_type": "markdown",
   "id": "36a7e4f8-f48e-45ca-a097-9ccf1b16233d",
   "metadata": {},
   "source": [
    "### State Transition Dynamics\n",
    "\n",
    "We assume that we can fully describe the state when we have the `(x,y)` coordinates of the position and the `(x,y)` velocity. So we can write this as:\n",
    "\n",
    "$$\n",
    "\\mathbf{z}_t = \n",
    "\\begin{bmatrix}\n",
    "z_t^1 \\\\ z_t^2 \\\\ \\dot{z}_t^1 \\\\ \\dot{z}_t^2\n",
    "\\end{bmatrix}\n",
    "$$\n",
    "\n",
    "\n",
    "where $z_t^d$ is the coordinate of the position and $\\dot{z}^d$ is the velocity. \n",
    "\n",
    "We can describe the dynamics of the system using the following system of equations:\n",
    "\n",
    "$$\n",
    "\\begin{aligned}\n",
    "z_t^1 &= z_{t-1}^1 + \\Delta_t \\dot{z}_t^1 + \\epsilon_t^1 \\\\\n",
    "z_t^2 &= z_{t-1}^2 + \\Delta_t \\dot{z}_t^2 + \\epsilon_t^2 \\\\\n",
    "\\dot{z}_t^1 &= \\dot{z}_{t-1}^1 + \\epsilon_t^3 \\\\\n",
    "\\dot{z}_t^2 &= \\dot{z}_{t-1}^2 + \\epsilon_t^4 \\\\\n",
    "\\end{aligned}\n",
    "$$\n",
    "\n",
    "This is a very simple formulation which takes a first order approximation to the change in position based on speed and we also assume constant velocity. Note, we also include some noise because we assume that some of the dynamics are noisy, i.e. there are random acceleration and position changes in the model. \n",
    "\n",
    "\n",
    "We can also put this into matrix formulation like so:\n",
    "\n",
    "$$\n",
    "\\mathbf{z}_t = \\mathbf{A}_t \\mathbf{z}_{t-1} + \\boldsymbol{\\epsilon}_t\n",
    "$$\n",
    "\n",
    "where:\n",
    "\n",
    "$$\n",
    "\\mathbf{A}_t = \n",
    "\\begin{bmatrix}\n",
    "1 & 0 & \\Delta_t & 0 \\\\\n",
    "0 & 1 & 0 & \\Delta_t \\\\\n",
    "0 & 0 & 1 & 0 \\\\\n",
    "0 & 0 & 0 & 1 \\\\\n",
    "\\end{bmatrix}, \\;\\; \\mathbf{A}_t \\in \\mathbb{R}^{4\\times 4}\n",
    "$$\n"
   ]
  },
  {
   "cell_type": "markdown",
   "id": "8f0015e0-f32f-4067-a5c9-07c439201555",
   "metadata": {},
   "source": [
    "---\n",
    "### Emissions Model\n",
    "\n",
    "We can only fully observe the locations (not the velocities). So this will be a lower dimensional vector of size 2-D. The system of equations are as follows:\n",
    "\n",
    "$$\n",
    "\\begin{aligned}\n",
    "x_t^1 &= z_t^1 + \\delta_t^1 \\\\\n",
    "x_t^2 &= z_t^2 + \\delta_t^2 \\\\\n",
    "\\end{aligned}\n",
    "$$\n",
    "\n",
    "This is a very simple model where we assume we can extract the direct positions (plus some noise) from the state.\n",
    "\n",
    "We can write this in an abbreviated matrix formulation:\n",
    "\n",
    "$$\n",
    "\\mathbf{x}_t = \\mathbf{C}_t \\mathbf{z}_t + \\delta_t\n",
    "$$\n",
    "\n",
    "where:\n",
    "\n",
    "$$\n",
    "\\mathbf{C}_t = \n",
    "\\begin{bmatrix}\n",
    "1 & 0 & 0 & 0 \\\\\n",
    "0 & 1 & 0 & 0 \\\\\n",
    "\\end{bmatrix}, \\;\\; \\mathbf{C}_t \\in \\mathbb{R}^{2 \\times 4}\n",
    "$$"
   ]
  },
  {
   "cell_type": "markdown",
   "id": "2bfc4428-027e-4d8e-8460-e5bcddcf5f09",
   "metadata": {},
   "source": [
    "## Model\n",
    "\n",
    "* [x] Modeling Noises Only\n",
    "* [x] Modeling States/Observations\n",
    "* [ ] Using Conditioning Notation\n",
    "* [ ] Using Plate Notation"
   ]
  },
  {
   "cell_type": "code",
   "execution_count": null,
   "id": "385e2f6b-6cbd-41c4-b6f3-d56b629e2ab4",
   "metadata": {},
   "outputs": [],
   "source": [
    "import numpyro\n",
    "import numpyro.distributions as dist\n",
    "from numpyro.contrib.control_flow import scan\n",
    "from numpyro import diagnostics, infer"
   ]
  },
  {
   "cell_type": "markdown",
   "id": "2af75913-5ff5-4645-86ce-1957733d59d1",
   "metadata": {},
   "source": [
    "```python\n",
    "def gaussian_hmm(obs=None, time_steps: int=10):\n",
    "    \n",
    "    if obs is not None:\n",
    "        time_steps = obs.shape[0]\n",
    "        \n",
    "    # transition model\n",
    "    trans = numpyro.sample(\"trans\", dist.Normal(0, 1))\n",
    "    # trans = numpyro.param(\"trans\", 0.1)\n",
    "    \n",
    "    # emission model\n",
    "    emit = numpyro.sample(\"emi\", dist.Normal(0, 1))\n",
    "    # emit = numpyro.param(\"emit\", 0.1 )\n",
    "    \n",
    "    def body(z_prev, x_prev):\n",
    "        # transition distribution\n",
    "        z = numpyro.sample(\"z\", dist.Normal(trans * z_prev, 1))\n",
    "        \n",
    "        # emission distribution\n",
    "        x = numpyro.sample(\"x\", dist.Normal(emit * z, 1), obs=x_prev)\n",
    "        \n",
    "        return z, (z, x)\n",
    "    \n",
    "    # prior dist\n",
    "    z0 = numpyro.sample(\"z0\", dist.Normal(0, 1))\n",
    "    \n",
    "    # scan\n",
    "    _, (z, x) = scan(body, z0, obs, length=time_steps)\n",
    "    \n",
    "    return (z, x)\n",
    "```"
   ]
  },
  {
   "cell_type": "markdown",
   "id": "4939fefb-ad69-4e3a-bf22-9abf60b3b09d",
   "metadata": {},
   "source": [
    "## Parameters"
   ]
  },
  {
   "cell_type": "code",
   "execution_count": null,
   "id": "ae0d290e-a508-4402-b50f-6581af298fb7",
   "metadata": {},
   "outputs": [],
   "source": [
    "# init prior dist\n",
    "mu0 = jnp.array([8.0, 5.0, 1.0, 0.0])\n",
    "Sigma0 = 1e-4 * jnp.eye(4)\n",
    "\n",
    "prior_dist = dist.MultivariateNormal(mu0, Sigma0)\n",
    "\n",
    "# =================\n",
    "# transition model\n",
    "# =================\n",
    "state_dim = 4\n",
    "dt = 0.1\n",
    "step_std = 0.1\n",
    "\n",
    "trans_mat = jnp.eye(4) + dt * jnp.eye(4, k=2)\n",
    "trans_noise_param = step_std**2\n",
    "trans_noise_mat = trans_noise_param * jnp.eye(state_dim)\n",
    "trans_noise = dist.MultivariateNormal(jnp.zeros(state_dim), trans_noise_mat)\n",
    "\n",
    "# =================\n",
    "# emission model\n",
    "# =================\n",
    "noise_std = 0.1\n",
    "obs_dim = 2\n",
    "\n",
    "emiss_mat = jnp.eye(N=2, M=4)\n",
    "emiss_noise_param = noise_std**2\n",
    "emiss_noise_mat = emiss_noise_param * jnp.eye(obs_dim)\n",
    "emiss_noise = dist.MultivariateNormal(jnp.zeros(obs_dim), emiss_noise_mat)"
   ]
  },
  {
   "cell_type": "code",
   "execution_count": null,
   "id": "53680671-b5c3-43ec-b682-ae31ab7b38d6",
   "metadata": {},
   "outputs": [],
   "source": []
  },
  {
   "cell_type": "code",
   "execution_count": null,
   "id": "a4433a79-9b13-45c4-a9d9-1091d30be6c6",
   "metadata": {},
   "outputs": [],
   "source": [
    "prior_dist.mean"
   ]
  },
  {
   "cell_type": "markdown",
   "id": "dbd29436-656c-4712-812d-66d3f53f1363",
   "metadata": {},
   "source": [
    "## Simulations"
   ]
  },
  {
   "cell_type": "code",
   "execution_count": null,
   "id": "1b70501f-ccb5-4c98-8993-beb4ae2d3df3",
   "metadata": {},
   "outputs": [],
   "source": [
    "def true_simulated_kalman_filter(\n",
    "    trans_mat: jnp.ndarray,\n",
    "    trans_noise_cov: jnp.ndarray,\n",
    "    emiss_mat: jnp.ndarray,\n",
    "    emiss_noise_cov: jnp.ndarray,\n",
    "    prior_dist,\n",
    "    time_steps: int = 100,\n",
    "    x_obs: jnp.ndarray = None,\n",
    "    x_obs_mask: jnp.ndarray = None,\n",
    "):\n",
    "    if x_obs is not None:\n",
    "        time_steps, n_dims = x_obs.shape\n",
    "\n",
    "    # ==================\n",
    "    # sample from prior\n",
    "    # ==================\n",
    "    z0 = numpyro.deterministic(\n",
    "        \"z0\", prior_dist.mean\n",
    "    )  # numpyro.sample(\"z0\", prior_dist)\n",
    "\n",
    "    # Model\n",
    "    def body(z_prev, x_prev):\n",
    "\n",
    "        # transition\n",
    "        z = numpyro.sample(\n",
    "            \"z\",\n",
    "            dist.MultivariateNormal(\n",
    "                loc=jnp.dot(trans_mat, z_prev), covariance_matrix=trans_noise_cov\n",
    "            ),\n",
    "        )\n",
    "\n",
    "        # sample noise\n",
    "        x = numpyro.sample(\n",
    "            \"x\",\n",
    "            dist.MultivariateNormal(\n",
    "                loc=jnp.dot(emiss_mat, z), covariance_matrix=emiss_noise_cov\n",
    "            ),\n",
    "            obs=x_prev,\n",
    "        )\n",
    "\n",
    "        return z, (z, x)\n",
    "\n",
    "    _, (z, x) = scan(f=body, init=(z0), xs=x_obs, length=time_steps)\n",
    "\n",
    "    return z, x"
   ]
  },
  {
   "cell_type": "markdown",
   "id": "851702d8-fe64-472e-9357-61fab59caed4",
   "metadata": {},
   "source": [
    "#### Sampling (Unconditional)"
   ]
  },
  {
   "cell_type": "code",
   "execution_count": null,
   "id": "1f3fe216-8da5-4572-8a95-0bcab388e9ab",
   "metadata": {},
   "outputs": [],
   "source": [
    "time_steps = 80\n",
    "\n",
    "with numpyro.handlers.seed(rng_seed=123):\n",
    "    z_true, x_true = true_simulated_kalman_filter(\n",
    "        trans_mat=trans_mat,\n",
    "        trans_noise_cov=trans_noise_mat,\n",
    "        emiss_mat=emiss_mat,\n",
    "        emiss_noise_cov=emiss_noise_mat,\n",
    "        prior_dist=prior_dist,\n",
    "        time_steps=time_steps,\n",
    "        x_obs=None,\n",
    "    )"
   ]
  },
  {
   "cell_type": "code",
   "execution_count": null,
   "id": "c7f1c236-5209-4d92-a1eb-93252a3061f4",
   "metadata": {},
   "outputs": [],
   "source": [
    "fig, ax = plt.subplots()\n",
    "\n",
    "ax.plot(z_true[..., 0], z_true[..., 1], color=\"black\", label=\"True State\")\n",
    "# ax.plot(x_s[..., 0], x_s[..., 1], color=\"tab:red\", linestyle=\"--\", label=\"Noisy Latent\")\n",
    "ax.scatter(x_true[..., 0], x_true[..., 1], label=\"Measurements\", color=\"red\", alpha=0.5)\n",
    "\n",
    "ax.set(xlabel=\"x-position\", ylabel=\"y-position\")\n",
    "plt.legend()\n",
    "plt.show()"
   ]
  },
  {
   "cell_type": "markdown",
   "id": "5917769b-3213-4d29-b7fb-f7792d510763",
   "metadata": {},
   "source": [
    "## Model (Unknown Parameters)"
   ]
  },
  {
   "cell_type": "code",
   "execution_count": null,
   "id": "ced14419-b62b-44f2-90fd-3c6a8e5a1d29",
   "metadata": {},
   "outputs": [],
   "source": [
    "# JITTER = 1e-5\n",
    "\n",
    "# def kalman_filter(\n",
    "#     trans_mat: jnp.ndarray,\n",
    "#     emiss_mat: jnp.ndarray,\n",
    "#     prior_dist,\n",
    "#     time_steps: int=100,\n",
    "#     x_obs: jnp.ndarray=None,\n",
    "# ):\n",
    "#     if x_obs is not None:\n",
    "#         time_steps, n_dims = x_obs.shape\n",
    "\n",
    "#     # noise parameters\n",
    "#     trans_noise = numpyro.param(\"trans_noise\", init_value=0.1 * jnp.ones(4), constraint=dist.constraints.positive)\n",
    "\n",
    "#     emiss_noise = numpyro.param(\"emiss_noise\", init_value=0.1 * jnp.ones(2), constraint=dist.constraints.positive)\n",
    "\n",
    "#     trans_noise_cov = jnp.diag(JITTER + trans_noise)\n",
    "#     emiss_noise_cov = jnp.diag(JITTER + emiss_noise)\n",
    "\n",
    "\n",
    "#     # ==================\n",
    "#     # sample from prior\n",
    "#     # ==================\n",
    "#     z0 = numpyro.deterministic(\"z0\", prior_dist.mean)#numpyro.sample(\"z0\", prior_dist)\n",
    "\n",
    "#     # Model\n",
    "#     def body(z_prev, x_prev):\n",
    "\n",
    "#         # transition\n",
    "#         z = numpyro.sample(\"z\", dist.MultivariateNormal(loc=jnp.dot(trans_mat, z_prev), covariance_matrix=trans_noise_cov))\n",
    "\n",
    "#         # sample noise\n",
    "#         x = numpyro.sample(\"x\", dist.MultivariateNormal(loc=jnp.dot(emiss_mat, z), covariance_matrix=emiss_noise_cov), obs=x_prev)\n",
    "\n",
    "#         return z, (z, x)\n",
    "\n",
    "#     _, (z, x) = scan(f=body, init=(z0), xs=x_obs, length=time_steps)\n",
    "\n",
    "\n",
    "#     return z, x"
   ]
  },
  {
   "cell_type": "code",
   "execution_count": null,
   "id": "55a2a317-8ba4-422a-b4b9-9367a83b6941",
   "metadata": {},
   "outputs": [],
   "source": [
    "JITTER = 1e-5\n",
    "\n",
    "\n",
    "def kalman_filter(\n",
    "    trans_mat: jnp.ndarray,\n",
    "    emiss_mat: jnp.ndarray,\n",
    "    prior_dist,\n",
    "    time_steps: int = 80,\n",
    "    x_obs: jnp.ndarray = None,\n",
    "):\n",
    "    if x_obs is not None:\n",
    "        time_steps, n_dims = x_obs.shape\n",
    "\n",
    "    # noise parameters\n",
    "    trans_noise = numpyro.param(\n",
    "        \"trans_noise\", init_value=1.0, constraint=dist.constraints.positive\n",
    "    )\n",
    "\n",
    "    emiss_noise = numpyro.param(\n",
    "        \"emiss_noise\", init_value=1.0, constraint=dist.constraints.positive\n",
    "    )\n",
    "\n",
    "    trans_noise_cov = JITTER + trans_noise**2 * jnp.eye(4)\n",
    "    emiss_noise_cov = JITTER + emiss_noise**2 * jnp.eye(2)\n",
    "\n",
    "    # ==================\n",
    "    # sample from prior\n",
    "    # ==================\n",
    "    z0 = numpyro.deterministic(\n",
    "        \"z0\", prior_dist.mean\n",
    "    )  # numpyro.sample(\"z0\", prior_dist)\n",
    "\n",
    "    # Model\n",
    "    def body(z_prev, x_pred):\n",
    "\n",
    "        # transition\n",
    "        z = numpyro.sample(\n",
    "            \"z\",\n",
    "            dist.MultivariateNormal(\n",
    "                loc=jnp.dot(trans_mat, z_prev), covariance_matrix=trans_noise_cov\n",
    "            ),\n",
    "        )\n",
    "\n",
    "        # sample noise\n",
    "        x = numpyro.sample(\n",
    "            \"x\",\n",
    "            dist.MultivariateNormal(\n",
    "                loc=jnp.dot(emiss_mat, z), covariance_matrix=emiss_noise_cov\n",
    "            ),\n",
    "        )\n",
    "\n",
    "        return z, (z, x)\n",
    "\n",
    "    with numpyro.handlers.condition(data={\"x\": x_obs}):\n",
    "        _, (z, x) = scan(f=body, init=(z0), xs=None, length=time_steps)\n",
    "\n",
    "    return z, x"
   ]
  },
  {
   "cell_type": "code",
   "execution_count": null,
   "id": "c5cfc8f1-5d29-4038-9cbd-6827d9a0b8f6",
   "metadata": {},
   "outputs": [],
   "source": [
    "time_steps = 80\n",
    "\n",
    "with numpyro.handlers.seed(rng_seed=42):\n",
    "    z_sim, x_sim = kalman_filter(\n",
    "        trans_mat=trans_mat,\n",
    "        emiss_mat=emiss_mat,\n",
    "        prior_dist=prior_dist,\n",
    "        time_steps=time_steps,\n",
    "        x_obs=x_true,\n",
    "    )\n",
    "\n",
    "print(z_sim.shape, x_sim.shape)"
   ]
  },
  {
   "cell_type": "code",
   "execution_count": null,
   "id": "df91aa67-320d-4928-9801-24e7c2cfaec8",
   "metadata": {},
   "outputs": [],
   "source": [
    "fig, ax = plt.subplots()\n",
    "\n",
    "ax.plot(z_true[..., 0], z_true[..., 1], color=\"black\", label=\"True State\")\n",
    "ax.plot(\n",
    "    z_sim[..., 0], z_sim[..., 1], color=\"blue\", label=\"Predicted State\", linestyle=\"--\"\n",
    ")\n",
    "# ax.plot(x_s[..., 0], x_s[..., 1], color=\"tab:red\", linestyle=\"--\", label=\"Noisy Latent\")\n",
    "ax.scatter(x_true[..., 0], x_true[..., 1], label=\"Measurements\", color=\"red\", alpha=0.5)\n",
    "\n",
    "ax.set(xlabel=\"x-position\", ylabel=\"y-position\")\n",
    "plt.legend()\n",
    "plt.show()"
   ]
  },
  {
   "cell_type": "markdown",
   "id": "ebb3e0fd-548e-49a0-ba83-bfbef3f3f863",
   "metadata": {},
   "source": [
    "### Samples (Prior)"
   ]
  },
  {
   "cell_type": "code",
   "execution_count": null,
   "id": "3c5e2c5d-b047-4b3b-9019-710e7e949814",
   "metadata": {},
   "outputs": [],
   "source": [
    "num_samples = 5\n",
    "rng_key_prior = jax.random.PRNGKey(123)\n",
    "\n",
    "# prior\n",
    "predictive = infer.Predictive(kalman_filter, num_samples=num_samples)\n",
    "prior_samples = predictive(\n",
    "    rng_key_prior,\n",
    "    trans_mat=trans_mat,\n",
    "    emiss_mat=emiss_mat,\n",
    "    prior_dist=prior_dist,\n",
    "    time_steps=time_steps,\n",
    "    x_obs=None,\n",
    ")"
   ]
  },
  {
   "cell_type": "code",
   "execution_count": null,
   "id": "7277b9ac-5174-479a-a572-848a8237f47e",
   "metadata": {},
   "outputs": [],
   "source": [
    "z_sim = prior_samples[\"z\"]\n",
    "x_sim = prior_samples[\"x\"]"
   ]
  },
  {
   "cell_type": "code",
   "execution_count": null,
   "id": "8ea55028-5a90-463d-b1c9-b575cb602fa1",
   "metadata": {},
   "outputs": [],
   "source": [
    "fig, ax = plt.subplots()\n",
    "\n",
    "for i in range(num_samples):\n",
    "    ax.plot(z_sim[i, ..., 0], z_sim[i, ..., 1], color=\"black\", label=\"True State\")\n",
    "    # ax.plot(x_s[..., 0], x_s[..., 1], color=\"tab:red\", linestyle=\"--\", label=\"Noisy Latent\")\n",
    "    ax.scatter(\n",
    "        x_sim[i, ..., 0], x_sim[i, ..., 1], label=\"Measurements\", color=\"red\", alpha=0.5\n",
    "    )\n",
    "\n",
    "ax.set(xlabel=\"x-position\", ylabel=\"y-position\")\n",
    "# plt.legend()\n",
    "plt.show()"
   ]
  },
  {
   "cell_type": "markdown",
   "id": "2801d1db-4ee8-44c3-8422-bb98c9fedc8a",
   "metadata": {},
   "source": [
    "### Samples (Posterior)"
   ]
  },
  {
   "cell_type": "code",
   "execution_count": null,
   "id": "b8de81fa-2ea8-4ccd-83ab-86cf2873ebbf",
   "metadata": {},
   "outputs": [],
   "source": [
    "num_samples = 5\n",
    "rng_key_prior = jax.random.PRNGKey(123)\n",
    "\n",
    "# prior\n",
    "predictive = infer.Predictive(\n",
    "    kalman_filter,\n",
    "    posterior_samples=prior_samples,\n",
    "    num_samples=num_samples,\n",
    "    return_sites=[\"z\", \"x\"],\n",
    ")\n",
    "predictive_posterior = predictive(\n",
    "    rng_key_prior,\n",
    "    trans_mat=trans_mat,\n",
    "    emiss_mat=emiss_mat,\n",
    "    prior_dist=prior_dist,\n",
    "    time_steps=time_steps,\n",
    "    x_obs=x_true,\n",
    ")"
   ]
  },
  {
   "cell_type": "code",
   "execution_count": null,
   "id": "02d57010-b56c-4b3d-91fe-97bd281427af",
   "metadata": {},
   "outputs": [],
   "source": [
    "z_pred = predictive_posterior[\"z\"]\n",
    "x_pred = predictive_posterior[\"x\"]"
   ]
  },
  {
   "cell_type": "code",
   "execution_count": null,
   "id": "4026f271-e920-47b8-bd95-75880769c9a5",
   "metadata": {},
   "outputs": [],
   "source": [
    "fig, ax = plt.subplots()\n",
    "\n",
    "for i in range(num_samples):\n",
    "    # ax.plot(z_true[i, ..., 0], z_true[i, ..., 1], color=\"black\", label=\"True State\")\n",
    "    ax.plot(\n",
    "        z_pred[i, ..., 0],\n",
    "        z_pred[i, ..., 1],\n",
    "        color=\"black\",\n",
    "        label=\"Predicted State\",\n",
    "        linestyle=\"--\",\n",
    "    )\n",
    "    # ax.plot(x_s[..., 0], x_s[..., 1], color=\"tab:red\", linestyle=\"--\", label=\"Noisy Latent\")\n",
    "    # ax.scatter(x_pred[i, ..., 0], x_pred[i, ..., 1], label=\"Measurements\", color=\"red\", alpha=0.5)\n",
    "\n",
    "ax.set(xlabel=\"x-position\", ylabel=\"y-position\")\n",
    "# plt.legend()\n",
    "plt.show()"
   ]
  },
  {
   "cell_type": "markdown",
   "id": "211eea0d-b45e-45aa-91ab-14467604d9b0",
   "metadata": {},
   "source": [
    "## Inference"
   ]
  },
  {
   "cell_type": "code",
   "execution_count": null,
   "id": "7c9021b9-0e6a-4fb2-a2ae-9f40eae38b66",
   "metadata": {},
   "outputs": [],
   "source": [
    "def init_kf_model(\n",
    "    trans_mat: jnp.ndarray,\n",
    "    emiss_mat: jnp.ndarray,\n",
    "    prior_dist,\n",
    "    time_steps: int = 80,\n",
    "):\n",
    "    def fn(x):\n",
    "        return kalman_filter(\n",
    "            trans_mat=trans_mat,\n",
    "            emiss_mat=emiss_mat,\n",
    "            prior_dist=prior_dist,\n",
    "            time_steps=time_steps,\n",
    "            x_obs=x,\n",
    "        )\n",
    "\n",
    "    return fn"
   ]
  },
  {
   "cell_type": "code",
   "execution_count": null,
   "id": "589725a2-5f13-4e3d-a0f9-1f57b116cfc6",
   "metadata": {},
   "outputs": [],
   "source": [
    "%%time\n",
    "from numpyro import diagnostics, infer, optim\n",
    "from numpyro.infer.autoguide import AutoDelta\n",
    "\n",
    "# optimizers\n",
    "rng_key_infer = jax.random.PRNGKey(666)\n",
    "lr = 1e-2\n",
    "adam = optim.Adam(lr)\n",
    "\n",
    "kf_model = init_kf_model(trans_mat, emiss_mat, prior_dist, time_steps)\n",
    "\n",
    "guide = AutoDelta(kf_model)\n",
    "# def guide(x, time_steps=30):\n",
    "#     return None\n",
    "\n",
    "n_epochs = 100\n",
    "\n",
    "# Inference\n",
    "svi = infer.SVI(kf_model, guide, adam, infer.Trace_ELBO())\n",
    "# svi_result = svi.run(rng_key_infer, n_epochs, x)\n",
    "\n",
    "# svi_result.params"
   ]
  },
  {
   "cell_type": "code",
   "execution_count": null,
   "id": "d1905d2f-800d-4616-95be-a38d08a23fbd",
   "metadata": {},
   "outputs": [],
   "source": [
    "svi_result = svi.run(rng_key_infer, n_epochs, z_true[..., :2])"
   ]
  },
  {
   "cell_type": "code",
   "execution_count": null,
   "id": "7a989b2e-a921-4d54-9788-d0ad8ecc104f",
   "metadata": {},
   "outputs": [],
   "source": [
    "fig, ax = plt.subplots()\n",
    "\n",
    "ax.plot(svi_result.losses)\n",
    "\n",
    "plt.show()"
   ]
  },
  {
   "cell_type": "code",
   "execution_count": null,
   "id": "5b0a6c9a-c432-4a58-87fd-74df081d7d29",
   "metadata": {},
   "outputs": [],
   "source": []
  },
  {
   "cell_type": "code",
   "execution_count": null,
   "id": "563b35a0-079b-4c0c-bdfb-78fdeb2ba6e6",
   "metadata": {},
   "outputs": [],
   "source": [
    "svi_result.params[\"emiss_noise\"], emiss_noise_param"
   ]
  },
  {
   "cell_type": "code",
   "execution_count": null,
   "id": "71fe1929-265a-425b-92fb-ce08dea288f5",
   "metadata": {},
   "outputs": [],
   "source": [
    "svi_result.params[\"trans_noise\"], trans_noise_param"
   ]
  },
  {
   "cell_type": "code",
   "execution_count": null,
   "id": "bbab8537-c44e-468e-9147-3696f9802135",
   "metadata": {},
   "outputs": [],
   "source": [
    "rng_key_posterior = jax.random.PRNGKey(777)\n",
    "\n",
    "# Posterior prediction\n",
    "predictive = infer.Predictive(kf_model, params=svi_result.params, num_samples=10)\n",
    "posterior_predictive = predictive(rng_key_posterior, x_true)"
   ]
  },
  {
   "cell_type": "code",
   "execution_count": null,
   "id": "b4a6e2ae-2250-4ad6-8dec-ba08a970c557",
   "metadata": {},
   "outputs": [],
   "source": [
    "z_pred = posterior_predictive[\"z\"]\n",
    "x_pred = posterior_predictive[\"x\"]"
   ]
  },
  {
   "cell_type": "code",
   "execution_count": null,
   "id": "552ae2c7-62cd-44eb-95da-735bfa302fe6",
   "metadata": {},
   "outputs": [],
   "source": [
    "x_pred.shape, z_pred.shape"
   ]
  },
  {
   "cell_type": "code",
   "execution_count": null,
   "id": "941d65d0-8072-4597-a176-32da077280d7",
   "metadata": {},
   "outputs": [],
   "source": [
    "z_pred = posterior_predictive[\"z\"]\n",
    "z_lb, z_mu, z_ub = jnp.quantile(x_pred, jnp.array([0.05, 0.5, 0.95]), axis=0)"
   ]
  },
  {
   "cell_type": "code",
   "execution_count": null,
   "id": "6c0bc268-c789-4456-bec1-e3521f117542",
   "metadata": {},
   "outputs": [],
   "source": [
    "fig, ax = plt.subplots()\n",
    "\n",
    "ax.plot(z_true[..., 0], z_true[..., 1], color=\"black\", label=\"True State\")\n",
    "ax.plot(\n",
    "    z_mu[..., 0], z_mu[..., 1], color=\"blue\", label=\"Predicted State\", linestyle=\"--\"\n",
    ")\n",
    "# ax.plot(x_s[..., 0], x_s[..., 1], color=\"tab:red\", linestyle=\"--\", label=\"Noisy Latent\")\n",
    "ax.scatter(x_true[..., 0], x_true[..., 1], label=\"Measurements\", color=\"red\", alpha=0.5)\n",
    "\n",
    "ax.set(xlabel=\"x-position\", ylabel=\"y-position\")\n",
    "# plt.legend()\n",
    "plt.show()"
   ]
  },
  {
   "cell_type": "code",
   "execution_count": null,
   "id": "7963c0c9-d095-4215-8608-313831e0f96b",
   "metadata": {},
   "outputs": [],
   "source": [
    "z_true.shape, z_mu.shape"
   ]
  },
  {
   "cell_type": "code",
   "execution_count": null,
   "id": "833b81cb-9ba1-4182-927c-68d1a325d683",
   "metadata": {},
   "outputs": [],
   "source": [
    "fig, ax = plt.subplots()\n",
    "\n",
    "ax.plot(z_true[..., 2], z_true[..., 3], color=\"black\", label=\"True Velocity\")\n",
    "ax.plot(\n",
    "    z_pred[..., 2],\n",
    "    z_pred[..., 3],\n",
    "    color=\"blue\",\n",
    "    label=\"Predicted Velocity\",\n",
    "    linestyle=\"--\",\n",
    ")\n",
    "# # ax.plot(x_s[..., 0], x_s[..., 1], color=\"tab:red\", linestyle=\"--\", label=\"Noisy Latent\")\n",
    "# ax.scatter(x_true[..., 0], x_true[..., 1], label=\"Measurements\", color=\"red\", alpha=0.5)\n",
    "\n",
    "ax.set(xlabel=\"x-velocity\", ylabel=\"y-velocity\")\n",
    "# plt.legend()\n",
    "plt.show()"
   ]
  },
  {
   "cell_type": "markdown",
   "id": "c3aa2a5b-174f-4d1e-9276-80ebb376890b",
   "metadata": {},
   "source": [
    "### Samples"
   ]
  },
  {
   "cell_type": "code",
   "execution_count": null,
   "id": "cdbca989-2384-4c8f-abb9-fd545cdcc917",
   "metadata": {},
   "outputs": [],
   "source": [
    "rng_key_posterior = jax.random.PRNGKey(777)\n",
    "\n",
    "# Posterior prediction\n",
    "predictive = infer.Predictive(kf_model, params=svi_result.params, num_samples=5)\n",
    "posterior_predictive = predictive(rng_key_posterior, None)"
   ]
  },
  {
   "cell_type": "code",
   "execution_count": null,
   "id": "593da209-4c96-4cd5-b941-a66af38cc500",
   "metadata": {},
   "outputs": [],
   "source": [
    "z_sim_post = posterior_predictive[\"z\"]\n",
    "x_sim_post = posterior_predictive[\"x\"]"
   ]
  },
  {
   "cell_type": "code",
   "execution_count": null,
   "id": "0f8afae8-26d1-42d5-a2df-baf5a8f38d61",
   "metadata": {},
   "outputs": [],
   "source": [
    "fig, ax = plt.subplots()\n",
    "\n",
    "for i in range(num_samples):\n",
    "    # ax.plot(z_true[i, ..., 0], z_true[i, ..., 1], color=\"black\", label=\"True State\")\n",
    "    ax.plot(\n",
    "        z_sim_post[i, ..., 0],\n",
    "        z_sim_post[i, ..., 1],\n",
    "        color=\"black\",\n",
    "        label=\"Predicted State\",\n",
    "        linestyle=\"--\",\n",
    "    )\n",
    "    # ax.plot(x_s[..., 0], x_s[..., 1], color=\"tab:red\", linestyle=\"--\", label=\"Noisy Latent\")\n",
    "    # ax.scatter(x_sim_post[i, ..., 0], x_sim_post[i, ..., 1], label=\"Measurements\", color=\"red\", alpha=0.5)\n",
    "\n",
    "ax.set(xlabel=\"x-position\", ylabel=\"y-position\")\n",
    "# plt.legend()\n",
    "plt.show()"
   ]
  },
  {
   "cell_type": "code",
   "execution_count": null,
   "id": "209dc862-3f50-4d2e-aa34-5eb07de5ec5c",
   "metadata": {},
   "outputs": [],
   "source": []
  }
 ],
 "metadata": {
  "kernelspec": {
   "display_name": "Python [conda env:miniconda3-sci_jax_py39]",
   "language": "python",
   "name": "conda-env-miniconda3-sci_jax_py39-py"
  },
  "language_info": {
   "codemirror_mode": {
    "name": "ipython",
    "version": 3
   },
   "file_extension": ".py",
   "mimetype": "text/x-python",
   "name": "python",
   "nbconvert_exporter": "python",
   "pygments_lexer": "ipython3",
   "version": "3.9.9"
  }
 },
 "nbformat": 4,
 "nbformat_minor": 5
}
