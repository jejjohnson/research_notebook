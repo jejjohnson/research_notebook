{
 "cells": [
  {
   "cell_type": "markdown",
   "metadata": {},
   "source": [
    "# Distances"
   ]
  },
  {
   "cell_type": "markdown",
   "metadata": {},
   "source": [
    "**Resources**\n",
    "\n",
    "* High-Performance Computation in Python | Numpy - [Blog](https://semantive.com/blog/high-performance-computation-in-python-numpy-2/)"
   ]
  },
  {
   "cell_type": "markdown",
   "metadata": {},
   "source": [
    "$$d(u,v) = \\sqrt{\\sum_{i=1}^N(u_i - v_i)^2}$$"
   ]
  },
  {
   "cell_type": "code",
   "execution_count": 1,
   "metadata": {},
   "outputs": [],
   "source": [
    "#@title Packages\n",
    "import functools\n",
    "\n",
    "import jax\n",
    "import jax.numpy as jnp\n",
    "import numpy as onp\n",
    "from sklearn.metrics.pairwise import euclidean_distances, haversine_distances\n",
    "from sklearn import datasets\n",
    "\n",
    "# Plotting libraries\n",
    "import matplotlib.pyplot as plt\n",
    "plt.style.use(['seaborn-paper'])"
   ]
  },
  {
   "cell_type": "code",
   "execution_count": 2,
   "metadata": {},
   "outputs": [],
   "source": [
    "#@title Plot Functions\n",
    "\n",
    "def plot_kernel_mat(K):\n",
    "    # plot\n",
    "    plt.figure()\n",
    "    plt.imshow(K, cmap='Reds')\n",
    "    plt.title(r'$K_{ff}$, (rbf)', fontsize=20, weight='bold')\n",
    "    plt.tight_layout()\n",
    "    plt.show()"
   ]
  },
  {
   "cell_type": "code",
   "execution_count": 3,
   "metadata": {},
   "outputs": [
    {
     "name": "stderr",
     "output_type": "stream",
     "text": [
      "/home/emmanuel/.conda/envs/jax_py38/lib/python3.8/site-packages/jax/lib/xla_bridge.py:123: UserWarning: No GPU/TPU found, falling back to CPU.\n",
      "  warnings.warn('No GPU/TPU found, falling back to CPU.')\n"
     ]
    }
   ],
   "source": [
    "#@title Data\n",
    "\n",
    "def get_1d_data(N=30, sigma_inputs=0.15, sigma_obs=0.15, N_test=400):\n",
    "    onp.random.seed(0)\n",
    "    X = jnp.linspace(-10, 10, N)\n",
    "    # Y = X + 0.2 * np.power(X, 3.0) + 0.5 * np.power(0.5 + X, 2.0) * np.sin(4.0 * X)\n",
    "    Y = jnp.sin(1.0 * jnp.pi / 1.6 * jnp.cos(5 + .5 * X))\n",
    "    Y += sigma_obs * onp.random.randn(N)\n",
    "    X += sigma_inputs * onp.random.randn(N)\n",
    "    Y -= jnp.mean(Y)\n",
    "    Y /= jnp.std(Y)\n",
    "\n",
    "\n",
    "\n",
    "    X_test = jnp.linspace(-11, 11, N_test) \n",
    "    X_test += sigma_inputs * onp.random.randn(N_test)\n",
    "\n",
    "    X = X[:, None]\n",
    "    X_test = X[:, None]\n",
    "\n",
    "    assert X.shape == (N,1)\n",
    "    assert Y.shape == (N,)\n",
    "\n",
    "    return X, Y, X_test\n",
    "\n",
    "def get_2d_data(N=30, sigma_obs=0.15, N_test=400):\n",
    "    onp.random.seed(0)\n",
    "    X1 = jnp.linspace(-10, 10, N)\n",
    "    X2 = jnp.linspace(-5, 2, N)\n",
    "    # Y = X + 0.2 * np.power(X, 3.0) + 0.5 * np.power(0.5 + X, 2.0) * np.sin(4.0 * X)\n",
    "    Y = jnp.sin(1.0 * jnp.pi / 1.6 * jnp.cos(5 + .5 * X1)) + jnp.exp(X2)\n",
    "    Y += sigma_obs * onp.random.randn(N)\n",
    "    Y -= jnp.mean(Y)\n",
    "    Y /= jnp.std(Y)\n",
    "\n",
    "\n",
    "\n",
    "    X1_test = jnp.linspace(-11, 11, N_test)\n",
    "    X2_test = jnp.linspace(-6, 4, N_test) \n",
    "\n",
    "    X = jnp.vstack((X1,X2)).T\n",
    "    X_test = jnp.vstack((X1_test,X2_test)).T\n",
    "\n",
    "    assert X.shape == (N,2)\n",
    "    assert Y.shape == (N,)\n",
    "\n",
    "    return X, Y, X_test\n",
    "\n",
    "# Get Data\n",
    "X, Y, X_test = get_1d_data(100, sigma_inputs=0.0, sigma_obs=0.1, N_test=100)"
   ]
  },
  {
   "cell_type": "markdown",
   "metadata": {},
   "source": [
    "## Squared Euclidean Distance"
   ]
  },
  {
   "cell_type": "code",
   "execution_count": 4,
   "metadata": {},
   "outputs": [],
   "source": [
    "#@title Kernel Functions\n",
    "\n",
    "# Squared Euclidean Distance Formula\n",
    "# @jax.jit\n",
    "# def sqeuclidean_distance(x, y):\n",
    "#     z = x - y\n",
    "#     return jnp.einsum(\"i,i->\", z, z)\n",
    "\n",
    "@jax.jit\n",
    "def sqeuclidean_distance(x, y):\n",
    "    return jnp.linalg.norm(x - y)**2\n",
    "#     return jnp.sum( (x - y) ** 2)\n",
    "\n",
    "\n",
    "# @jax.jit\n",
    "# def sqeuclidean_distance_vect(x, y):\n",
    "#     return jnp.linalg.norm(x - y, axis=1)**2\n",
    "#     return jnp.sum( (x - y) ** 2)\n",
    "# @jax.jit\n",
    "# def sqeuclidean_distance(x, y):\n",
    "\n",
    "#     return jnp.sum( (x - y) ** 2)\n",
    "\n",
    "# @jax.jit\n",
    "def gram(func, x, y):\n",
    "    return jax.vmap(lambda x1: jax.vmap(lambda y1: func(x1, y1))(x))(y)"
   ]
  },
  {
   "cell_type": "code",
   "execution_count": 8,
   "metadata": {},
   "outputs": [
    {
     "data": {
      "text/plain": [
       "(jax.interpreters.xla.DeviceArray, (1000, 10))"
      ]
     },
     "execution_count": 8,
     "metadata": {},
     "output_type": "execute_result"
    }
   ],
   "source": [
    "# X, Y, X_test = get_2d_data(1_000, sigma_obs=0.1)\n",
    "X, y = datasets.make_regression(1_000, 10)\n",
    "\n",
    "X_ = jnp.array(X)\n",
    "type(X_), X_.shape"
   ]
  },
  {
   "cell_type": "code",
   "execution_count": null,
   "metadata": {},
   "outputs": [],
   "source": [
    "test_X = X.copy()#[:2, :]\n",
    "test_Y = X.copy() #[:2, :]\n",
    "\n",
    "dist_x_sk = euclidean_distances(\n",
    "    onp.array(test_X), \n",
    "    onp.array(test_Y), \n",
    "    squared=True\n",
    ")\n",
    "euclidean_mat = jax.jit(functools.partial(gram, sqeuclidean_distance))\n",
    "\n",
    "dist_x = euclidean_mat(\n",
    "    test_X, \n",
    "    test_Y\n",
    ")\n",
    "\n",
    "onp.testing.assert_array_almost_equal(onp.array(dist_x), dist_x_sk, decimal=1e-5)\n",
    "\n",
    "plot_kernel_mat(dist_x)"
   ]
  },
  {
   "cell_type": "markdown",
   "metadata": {},
   "source": [
    "### Speed Test"
   ]
  },
  {
   "cell_type": "code",
   "execution_count": null,
   "metadata": {},
   "outputs": [],
   "source": [
    "%timeit _ = euclidean_distances(X, X, squared=True)\n",
    "%timeit _ = euclidean_mat(X_, X_)"
   ]
  },
  {
   "cell_type": "markdown",
   "metadata": {},
   "source": [
    "## Haversine Distance"
   ]
  },
  {
   "cell_type": "code",
   "execution_count": null,
   "metadata": {},
   "outputs": [],
   "source": []
  }
 ],
 "metadata": {
  "kernelspec": {
   "display_name": "Python [conda env:.conda-jax_py38]",
   "language": "python",
   "name": "conda-env-.conda-jax_py38-py"
  },
  "language_info": {
   "codemirror_mode": {
    "name": "ipython",
    "version": 3
   },
   "file_extension": ".py",
   "mimetype": "text/x-python",
   "name": "python",
   "nbconvert_exporter": "python",
   "pygments_lexer": "ipython3",
   "version": "3.8.2"
  }
 },
 "nbformat": 4,
 "nbformat_minor": 4
}
