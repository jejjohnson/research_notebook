{
 "cells": [
  {
   "cell_type": "code",
   "execution_count": null,
   "id": "742b4a3f-fc5b-4eea-b84c-7d70324cf653",
   "metadata": {},
   "outputs": [],
   "source": [
    "import xarray as xr\n",
    "import matplotlib.pyplot as plt\n",
    "import numpy as np\n",
    "import bayesnewton\n",
    "import matplotlib.cm as cm\n",
    "import time\n",
    "import objax\n",
    "from tqdm.notebook import trange, tqdm\n",
    "\n",
    "rng = np.random.RandomState(123)"
   ]
  },
  {
   "cell_type": "markdown",
   "id": "c7101c90-c742-400c-b5b2-21f1e33eeb78",
   "metadata": {},
   "source": [
    "## Data"
   ]
  },
  {
   "cell_type": "markdown",
   "id": "2b076df4-d228-4b44-ad01-71ddeb52f77d",
   "metadata": {},
   "source": [
    "### Temperature"
   ]
  },
  {
   "cell_type": "code",
   "execution_count": null,
   "id": "d8ff6147-3591-4a35-b679-10824573e3a7",
   "metadata": {},
   "outputs": [],
   "source": [
    "%%time\n",
    "\n",
    "ds = xr.tutorial.open_dataset(\"air_temperature\").load()"
   ]
  },
  {
   "cell_type": "code",
   "execution_count": null,
   "id": "55a3d4dd-292d-450b-86d2-66de84502877",
   "metadata": {},
   "outputs": [],
   "source": [
    "ds"
   ]
  },
  {
   "cell_type": "code",
   "execution_count": null,
   "id": "75a2852a-f11f-4bc4-9bb4-163fd6f0f354",
   "metadata": {},
   "outputs": [],
   "source": [
    "ds.air.isel(time=0).plot(cmap=\"RdBu_r\")"
   ]
  },
  {
   "cell_type": "code",
   "execution_count": null,
   "id": "ee6f19f4-d5ee-4a2e-94ed-9dad2011b819",
   "metadata": {},
   "outputs": [],
   "source": [
    "subset_ds = ds.isel(\n",
    "    time=slice(0, 50),\n",
    "    # lat=slice(-50, 10),\n",
    "    # lon=slice(-50, 20)\n",
    ")\n",
    "subset_ds"
   ]
  },
  {
   "cell_type": "code",
   "execution_count": null,
   "id": "b30fd0b1-d655-48d3-b102-78b482de6b93",
   "metadata": {},
   "outputs": [],
   "source": [
    "subset_ds.air.isel(time=0).plot()\n",
    "plt.show()\n",
    "subset_ds.air.isel(time=49).plot()\n",
    "plt.show()"
   ]
  },
  {
   "cell_type": "code",
   "execution_count": null,
   "id": "fbce03bc-8329-43cf-bdff-01398b854624",
   "metadata": {},
   "outputs": [],
   "source": [
    "# remove mean and divide by SDE\n",
    "\n",
    "mean = subset_ds.air.mean(axis=(1, 2))\n",
    "std = subset_ds.air.std(axis=(1, 2))\n",
    "\n",
    "dat = (subset_ds.air - mean) / std\n",
    "dat.isel(time=0).plot()"
   ]
  },
  {
   "cell_type": "code",
   "execution_count": null,
   "id": "7542aa7a-f9ef-4915-944d-ec811d9f1cba",
   "metadata": {},
   "outputs": [],
   "source": [
    "dat.isel(time=9).plot()"
   ]
  },
  {
   "cell_type": "markdown",
   "id": "8e0bad38-51bf-4ee7-8cd9-1ee4ba86b613",
   "metadata": {},
   "source": [
    "## Dataset Dimensions\n",
    "\n",
    "* Latitude \n",
    "* Longitude\n",
    "* Total Spatial Dims\n",
    "* Time\n",
    "* Total Dims\n",
    "* Total Variables"
   ]
  },
  {
   "cell_type": "code",
   "execution_count": null,
   "id": "e16e7a68-c055-4a07-a5ae-ece28a14c1a9",
   "metadata": {},
   "outputs": [],
   "source": [
    "# number of time\n",
    "nt = dat.time.shape[0]\n",
    "\n",
    "# spatial dimensions\n",
    "n_lat = dat.lat.shape[0]\n",
    "n_lon = dat.lon.shape[0]\n",
    "n_latlon = n_lat * n_lon\n",
    "n_coords = 2\n",
    "\n",
    "# variable dimensions\n",
    "n_vars = 1"
   ]
  },
  {
   "cell_type": "code",
   "execution_count": null,
   "id": "b22a99e4-b3fa-4a89-a64a-2e7b833caca2",
   "metadata": {},
   "outputs": [],
   "source": [
    "n_dims = n_vars * n_latlon * nt\n",
    "\n",
    "print(f\"Total Dims: {n_dims:,}\")"
   ]
  },
  {
   "cell_type": "code",
   "execution_count": null,
   "id": "fa5a6917-a7a3-4fee-b73a-38abaa45c90d",
   "metadata": {},
   "outputs": [],
   "source": [
    "# N = Y_obs.shape[0] * Y_obs.shape[1] * Y_obs.shape[2]\n",
    "\n",
    "# print(f\"Num data points: {N:,}\")"
   ]
  },
  {
   "cell_type": "code",
   "execution_count": null,
   "id": "64c6d9cc-9a1d-4d6f-95a3-263f7ae61881",
   "metadata": {},
   "outputs": [],
   "source": [
    "data = dat.to_dataframe().reset_index()\n",
    "data.head()"
   ]
  },
  {
   "cell_type": "markdown",
   "id": "1abfe6ff-a1d5-47fb-a867-ecca0778a019",
   "metadata": {},
   "source": [
    "### Train Split"
   ]
  },
  {
   "cell_type": "code",
   "execution_count": null,
   "id": "7062b82c-6074-45e5-b3bf-43be3e515295",
   "metadata": {},
   "outputs": [],
   "source": [
    "# create random test indices\n",
    "test_ind = rng.permutation(n_dims)[: n_dims // 10]\n",
    "\n",
    "\n",
    "# data_train ="
   ]
  },
  {
   "cell_type": "code",
   "execution_count": null,
   "id": "778e72b3-1540-4ab1-a6bc-ed276d712508",
   "metadata": {},
   "outputs": [],
   "source": []
  },
  {
   "cell_type": "code",
   "execution_count": null,
   "id": "fabd22f5-dd59-4d33-be92-4d87056b66d2",
   "metadata": {},
   "outputs": [],
   "source": [
    "# nd = subset_ds.shape[0]"
   ]
  },
  {
   "cell_type": "code",
   "execution_count": null,
   "id": "24817244-503a-4586-af1c-1b11abfa88f2",
   "metadata": {},
   "outputs": [],
   "source": [
    "# binsize (delta t)\n",
    "binsize = 1000 / nt"
   ]
  },
  {
   "cell_type": "code",
   "execution_count": null,
   "id": "5b920211-0924-4c7f-900c-695f4f49a941",
   "metadata": {},
   "outputs": [],
   "source": [
    "# subset_ds.air.shape, time_stamp.shape, lat.shape, lon.shape"
   ]
  },
  {
   "cell_type": "code",
   "execution_count": null,
   "id": "5723c698-ccf7-4cb8-8f98-9e6c8edf4501",
   "metadata": {},
   "outputs": [],
   "source": [
    "Y = data[\"air\"].values\n",
    "time_stamp = data[\"time\"].view(np.int64) // 10**9\n",
    "lat = data[\"lat\"].values\n",
    "lon = data[\"lon\"].values\n",
    "X = np.stack([time_stamp, lat, lon], axis=1)\n",
    "Y.shape, X.shape"
   ]
  },
  {
   "cell_type": "code",
   "execution_count": null,
   "id": "21bec9db-6f35-49b7-997d-8c2303048404",
   "metadata": {},
   "outputs": [],
   "source": [
    "X[..., 2]"
   ]
  },
  {
   "cell_type": "code",
   "execution_count": null,
   "id": "d9605b0f-3525-4bc4-94f4-6018643d79c7",
   "metadata": {},
   "outputs": [],
   "source": [
    "t, R_plot, Y_obs_plot = bayesnewton.utils.create_spatiotemporal_grid(X, Y)"
   ]
  },
  {
   "cell_type": "code",
   "execution_count": null,
   "id": "e42f60e0-920e-45c2-a1ca-8205e4fd2b00",
   "metadata": {},
   "outputs": [],
   "source": [
    "t.shape, R_plot.shape, Y_obs_plot.shape"
   ]
  },
  {
   "cell_type": "markdown",
   "id": "4aed789f-1091-4c6f-9978-5cc48b4dd189",
   "metadata": {
    "tags": []
   },
   "source": [
    "#### Sequential"
   ]
  },
  {
   "cell_type": "code",
   "execution_count": null,
   "id": "eda3b6ad-698e-4bbf-983c-2dad57fed66b",
   "metadata": {},
   "outputs": [],
   "source": [
    "t = X[:, :1]\n",
    "R = X[:, 1:]\n",
    "t.shape, R.shape, Y.shape"
   ]
  },
  {
   "cell_type": "code",
   "execution_count": null,
   "id": "92603ac7-9a63-498f-8096-b1bc5c1f962b",
   "metadata": {},
   "outputs": [],
   "source": [
    "Nt = t.shape[0]\n",
    "print(\"num time steps =\", Nt)\n",
    "N = Y_obs_plot.shape[0] * Y_obs_plot.shape[1] * Y_obs_plot.shape[2]\n",
    "print(\"num data points =\", N)"
   ]
  },
  {
   "cell_type": "code",
   "execution_count": null,
   "id": "28add4b7-a3a6-4d67-b56c-2f45e490f93b",
   "metadata": {},
   "outputs": [],
   "source": [
    "Y.shape"
   ]
  },
  {
   "cell_type": "code",
   "execution_count": null,
   "id": "fc0e15d8-6c63-4999-bcfc-b7d724023025",
   "metadata": {},
   "outputs": [],
   "source": [
    "# sort out the train/test split\n",
    "fold = 0\n",
    "np.random.seed(99)\n",
    "ind_shuffled = np.random.permutation(N)\n",
    "ind_split = np.stack(np.split(ind_shuffled, 10))  # 10 random batches of data indices\n",
    "test_ind = ind_split[fold]  # test_ind = np.random.permutation(N)[:N//10]\n",
    "X_test = X[test_ind]\n",
    "Y_test = Y[test_ind]\n",
    "Y[test_ind] = np.nan\n",
    "# Y = Y.reshape(nt, nr)"
   ]
  },
  {
   "cell_type": "markdown",
   "id": "b0bc3235-5819-4c15-9bfd-d64dda73f06d",
   "metadata": {},
   "source": [
    "#### Gridded"
   ]
  },
  {
   "cell_type": "code",
   "execution_count": null,
   "id": "eae07e42-d92b-4945-9c24-651725810e21",
   "metadata": {},
   "outputs": [],
   "source": [
    "%%time\n",
    "\n",
    "t_train, R_train, Y_obs_train = bayesnewton.utils.create_spatiotemporal_grid(X, Y)\n",
    "t_test, R_test, Y_obs_test = bayesnewton.utils.create_spatiotemporal_grid(\n",
    "    X_test, Y_test\n",
    ")"
   ]
  },
  {
   "cell_type": "code",
   "execution_count": null,
   "id": "da0b5537-2c0d-4bce-92ee-beb44e7f8e39",
   "metadata": {},
   "outputs": [],
   "source": [
    "# assert t.shape == (nt, 1)\n",
    "# assert R.shape == (nt, n_d, n_coords)\n",
    "# assert Y_obs.shape == (nt, n_d, n_vars)"
   ]
  },
  {
   "cell_type": "code",
   "execution_count": null,
   "id": "97cd0ab6-b06d-4492-a8e8-6c4e436f969c",
   "metadata": {},
   "outputs": [],
   "source": [
    "test_ind.shape, R.shape"
   ]
  },
  {
   "cell_type": "code",
   "execution_count": null,
   "id": "8c6663bc-a070-4784-86f1-bfbd60859c40",
   "metadata": {},
   "outputs": [],
   "source": []
  },
  {
   "cell_type": "markdown",
   "id": "c6442854-662d-4d0d-8f03-c1ad9546972f",
   "metadata": {},
   "source": [
    "### Sparse Points"
   ]
  },
  {
   "cell_type": "code",
   "execution_count": null,
   "id": "c07cef87-0d6f-4000-aa4d-c7b6fc392717",
   "metadata": {},
   "outputs": [],
   "source": [
    "z1 = np.linspace(np.min(X[:, 1]), np.max(X[:, 1]), num=7)\n",
    "z2 = np.linspace(np.min(X[:, 2]), np.max(X[:, 2]), num=7)\n",
    "\n",
    "zA, zB = np.meshgrid(z1, z2)\n",
    "\n",
    "z = np.hstack((zA.reshape(-1, 1), zB.reshape(-1, 1)))"
   ]
  },
  {
   "cell_type": "code",
   "execution_count": null,
   "id": "6d86e6f4-09c0-49bb-b709-5a87e255c447",
   "metadata": {},
   "outputs": [],
   "source": [
    "z.shape, R[0, ...].shape"
   ]
  },
  {
   "cell_type": "code",
   "execution_count": null,
   "id": "f0442d37-d2d6-4168-a3ca-24c354185b19",
   "metadata": {},
   "outputs": [],
   "source": [
    "var_f = 1.0  # GP variance\n",
    "len_f = 1.0  # lengthscale\n",
    "len_time = 1\n",
    "len_space = 1\n",
    "sparse = True\n",
    "opt_z = True"
   ]
  },
  {
   "cell_type": "code",
   "execution_count": null,
   "id": "f8c23b9b-4cea-4e30-b929-2cf5d04ce69b",
   "metadata": {},
   "outputs": [],
   "source": [
    "# kernel\n",
    "kern_time = bayesnewton.kernels.Matern32(variance=var_f, lengthscale=len_time)\n",
    "kern_space0 = bayesnewton.kernels.Matern32(variance=var_f, lengthscale=len_space)\n",
    "kern_space1 = bayesnewton.kernels.Matern32(variance=var_f, lengthscale=len_space)\n",
    "kern_space = bayesnewton.kernels.Separable([kern_space0, kern_space1])"
   ]
  },
  {
   "cell_type": "code",
   "execution_count": null,
   "id": "eec53241-8d9f-4ff5-96f4-f6ba7aec041f",
   "metadata": {},
   "outputs": [],
   "source": [
    "kern = bayesnewton.kernels.SpatioTemporalKernel(\n",
    "    temporal_kernel=kern_time,\n",
    "    spatial_kernel=kern_space,\n",
    "    z=z,\n",
    "    sparse=sparse,\n",
    "    opt_z=opt_z,\n",
    "    conditional=\"Full\",\n",
    ")"
   ]
  },
  {
   "cell_type": "code",
   "execution_count": null,
   "id": "75e19506-cf59-4672-80a0-71da6db85eeb",
   "metadata": {},
   "outputs": [],
   "source": [
    "%%time\n",
    "\n",
    "# likelihood\n",
    "lik = bayesnewton.likelihoods.Gaussian(variance=1)\n",
    "\n",
    "# model\n",
    "model = bayesnewton.models.MarkovVariationalGP(\n",
    "    kernel=kern, likelihood=lik, X=t_train, R=R_train, Y=Y_obs_train, parallel=False\n",
    ")\n",
    "# model = bayesnewton.models.MarkovVariationalMeanFieldGP(kernel=kern, likelihood=lik, X=t, R=R, Y=Y_obs, parallel=False)\n",
    "# model = bayesnewton.models.SparseMarkovGaussianProcess(kernel=kern, likelihood=lik, X=t, R=R, Y=Y_obs, Z=z)\n",
    "# model = bayesnewton.models.SparseMarkovMeanFieldGaussianProcess(kernel=kern, likelihood=lik, X=t, R=R, Y=Y_obs)"
   ]
  },
  {
   "cell_type": "code",
   "execution_count": null,
   "id": "8fac40f8-bce4-4727-b0c5-67f50e6e9a23",
   "metadata": {},
   "outputs": [],
   "source": [
    "lr_adam = 0.1\n",
    "lr_newton = 1.0\n",
    "iters = 1_000\n",
    "opt_hypers = objax.optimizer.Adam(model.vars())"
   ]
  },
  {
   "cell_type": "code",
   "execution_count": null,
   "id": "b7817502-09e6-4094-b720-acb053d45cbf",
   "metadata": {},
   "outputs": [],
   "source": [
    "energy = objax.GradValues(model.energy, model.vars())"
   ]
  },
  {
   "cell_type": "code",
   "execution_count": null,
   "id": "9d14b8be-2330-442f-a765-6be07b4e99be",
   "metadata": {},
   "outputs": [],
   "source": [
    "@objax.Function.with_vars(model.vars() + opt_hypers.vars())\n",
    "def train_op():\n",
    "    model.inference(lr=lr_newton)  # perform inference and update variational params\n",
    "    dE, E = energy()  # compute energy and its gradients w.r.t. hypers\n",
    "    opt_hypers(lr_adam, dE)\n",
    "    # test_nlpd_ = model.negative_log_predictive_density(X=t_test, R=r_test, Y=Y_test)\n",
    "    return E\n",
    "\n",
    "\n",
    "train_op = objax.Jit(train_op)"
   ]
  },
  {
   "cell_type": "code",
   "execution_count": null,
   "id": "41564178-dc95-4356-b8a2-78f731df9f54",
   "metadata": {},
   "outputs": [],
   "source": [
    "t0 = time.time()\n",
    "\n",
    "losses = []\n",
    "\n",
    "with trange(1, iters + 1) as pbar:\n",
    "    for i in pbar:\n",
    "        loss = train_op()\n",
    "\n",
    "        losses.append(np.array(loss[0]))\n",
    "\n",
    "        pbar.set_description(f\"iter {i:d}, energy: {loss[0]:1.4f}\")\n",
    "\n",
    "t1 = time.time()\n",
    "print(\"optimisation time: %2.2f secs\" % (t1 - t0))"
   ]
  },
  {
   "cell_type": "code",
   "execution_count": null,
   "id": "034d2964-fc88-42ca-b900-64b5500f6a70",
   "metadata": {},
   "outputs": [],
   "source": [
    "fig, ax = plt.subplots()\n",
    "\n",
    "ax.plot(losses, label=\"NLL Loss (Energy)\")\n",
    "plt.legend()\n",
    "plt.show()"
   ]
  },
  {
   "cell_type": "code",
   "execution_count": null,
   "id": "ddb8a90b-701f-4fd1-8d60-fd1c650c8e1f",
   "metadata": {},
   "outputs": [],
   "source": [
    "N_test = 50\n",
    "\n",
    "# r1 = np.unique(X[:, 1])\n",
    "# r2 = np.unique(X[:, 2])\n",
    "X1range = max(X[:, 1]) - min(X[:, 1])\n",
    "X2range = max(X[:, 2]) - min(X[:, 2])\n",
    "r1 = np.linspace(min(X[:, 1]) - 0.1 * X1range, max(X[:, 1]) + 0.1 * X1range, num=N_test)\n",
    "r2 = np.linspace(\n",
    "    min(X[:, 2]) - 0.05 * X2range, max(X[:, 2]) + 0.05 * X2range, num=N_test\n",
    ")\n",
    "rA, rB = np.meshgrid(r1, r2)\n",
    "r = np.hstack(\n",
    "    (rA.reshape(-1, 1), rB.reshape(-1, 1))\n",
    ")  # Flattening grid for use in kernel functions\n",
    "Rplot = np.tile(r, [t.shape[0], 1, 1])"
   ]
  },
  {
   "cell_type": "code",
   "execution_count": null,
   "id": "152c4404-8657-4452-a178-1673c5bfd3ae",
   "metadata": {},
   "outputs": [],
   "source": [
    "Rplot.shape, t.shape"
   ]
  },
  {
   "cell_type": "code",
   "execution_count": null,
   "id": "a465b612-c95a-43b1-b7e7-6517da75d547",
   "metadata": {},
   "outputs": [],
   "source": [
    "%%time\n",
    "\n",
    "posterior_mean, posterior_var = model.predict(X=t_train, R=R_train)"
   ]
  },
  {
   "cell_type": "code",
   "execution_count": null,
   "id": "6cb0f1ec-9a45-41c9-8742-c143b8c72130",
   "metadata": {},
   "outputs": [],
   "source": [
    "posterior_mean.shape"
   ]
  },
  {
   "cell_type": "code",
   "execution_count": null,
   "id": "e911c436-f170-415c-9b52-13f4a66ac512",
   "metadata": {},
   "outputs": [],
   "source": [
    "# mu = bayesnewton.utils.transpose(posterior_mean.reshape(-1, N_test, N_test))\n",
    "mu = bayesnewton.utils.transpose(posterior_mean.reshape(-1, n_lat, n_lon))\n",
    "mu_real = bayesnewton.utils.transpose(Y_obs_train.reshape(-1, n_lat, n_lon))"
   ]
  },
  {
   "cell_type": "code",
   "execution_count": null,
   "id": "d154c758-0da5-4917-91d1-ec64b8984bcd",
   "metadata": {},
   "outputs": [],
   "source": [
    "mu.shape, Y_obs_train.shape"
   ]
  },
  {
   "cell_type": "code",
   "execution_count": null,
   "id": "1168843b-582d-4530-a518-0df3a30c090d",
   "metadata": {},
   "outputs": [],
   "source": [
    "for i in range(len(mu)):\n",
    "\n",
    "    fig, axes = plt.subplots(ncols=3, figsize=(15, 5))\n",
    "    im = axes[0].imshow(mu_real[i].T[::-1], cmap=\"RdBu_r\", aspect=\"auto\")\n",
    "    im = axes[1].imshow(mu[i].T[::-1], cmap=\"RdBu_r\", aspect=\"auto\")\n",
    "    im2 = dat.isel(time=i).plot(\n",
    "        ax=axes[2], vmin=mu[i].min(), vmax=mu[i].max(), cmap=\"RdBu_r\"\n",
    "    )\n",
    "    # im = axes[0].imshow(mu[i].T[::-1], cmap=\"RdBu_r\", aspect=\"auto\")\n",
    "    #\n",
    "\n",
    "    plt.show()"
   ]
  },
  {
   "cell_type": "markdown",
   "id": "ca0fb68d-4398-4415-8bc6-d371800c1eca",
   "metadata": {},
   "source": [
    "### Flatten"
   ]
  },
  {
   "cell_type": "code",
   "execution_count": null,
   "id": "427f2317-153c-4d38-bc3e-e78c7af85042",
   "metadata": {},
   "outputs": [],
   "source": [
    "t_flat = np.array(t).flatten()\n",
    "R_flat = np.array(R).flatten()\n",
    "Y_flat = np.array(Y_obs).flatten()"
   ]
  },
  {
   "cell_type": "code",
   "execution_count": null,
   "id": "e62802c4-7e26-4e8a-afb0-2169655d4d07",
   "metadata": {},
   "outputs": [],
   "source": [
    "t_flat.shape, nt, nt / 10"
   ]
  },
  {
   "cell_type": "code",
   "execution_count": null,
   "id": "e6b9e61b-2820-4850-aca8-e9c626cbaa20",
   "metadata": {},
   "outputs": [],
   "source": [
    "test_ind.shape, Y_obs.shape"
   ]
  },
  {
   "cell_type": "code",
   "execution_count": null,
   "id": "23772da4-364d-4ac8-b6f7-ecbe1c5e923d",
   "metadata": {},
   "outputs": [],
   "source": [
    "Y_flat.shape, test_ind.shape"
   ]
  },
  {
   "cell_type": "code",
   "execution_count": null,
   "id": "bdafe628-dc99-492a-b378-a4e674e03285",
   "metadata": {},
   "outputs": [],
   "source": [
    "# create random test indices\n",
    "test_ind = rng.permutation(N)[: N // 10]\n",
    "\n",
    "# subset data\n",
    "t_test = t_flat[test_ind]\n",
    "r_test = R_flat[test_ind]\n",
    "Y_test = Y_flat[test_ind]\n",
    "\n",
    "Y_flat[test_ind] = np.nan\n",
    "\n",
    "Y = Y_flat.reshape(nt, n_latlon)"
   ]
  },
  {
   "cell_type": "code",
   "execution_count": null,
   "id": "5c6a4e32-054b-4a79-8d64-d04286027bfc",
   "metadata": {},
   "outputs": [],
   "source": [
    "Y_img = Y.reshape((nt, n_lat, n_lon))"
   ]
  },
  {
   "cell_type": "code",
   "execution_count": null,
   "id": "2745ce29-228c-40fe-8f51-bdbe163bf3eb",
   "metadata": {},
   "outputs": [],
   "source": [
    "fig, ax = plt.subplots()\n",
    "\n",
    "ax.imshow(Y_img[0, ::-1, :])\n",
    "\n",
    "plt.show()"
   ]
  },
  {
   "cell_type": "code",
   "execution_count": null,
   "id": "5c500cbd-ce6f-439c-8e9d-e32c6dbd0a19",
   "metadata": {},
   "outputs": [],
   "source": [
    "fig, ax = plt.subplots(figsize=(10, 5))\n",
    "im = ax.imshow(Y / binsize, extent=[0, 1_000, 0, 500], cmap=cm.viridis)\n",
    "ax.set(title=\"Temperature Data (Full)\")\n",
    "plt.colorbar(im, fraction=0.0235, pad=0.04)\n",
    "plt.show()"
   ]
  },
  {
   "cell_type": "code",
   "execution_count": null,
   "id": "68432083-5236-42a9-86bb-8ae32c842a33",
   "metadata": {},
   "outputs": [],
   "source": []
  },
  {
   "cell_type": "code",
   "execution_count": null,
   "id": "0a7d2637-add8-4363-9835-7865d690a633",
   "metadata": {},
   "outputs": [],
   "source": []
  },
  {
   "cell_type": "code",
   "execution_count": null,
   "id": "de2a816f-8ebc-4c13-84f1-cee1d3d0d224",
   "metadata": {},
   "outputs": [],
   "source": []
  },
  {
   "cell_type": "code",
   "execution_count": null,
   "id": "581c8b92-112a-44d1-8a1a-b941538f10c2",
   "metadata": {},
   "outputs": [],
   "source": [
    "T.shape, R1.shape, R2.shape"
   ]
  },
  {
   "cell_type": "code",
   "execution_count": null,
   "id": "cee64761-42e4-498c-999f-c5240ea71376",
   "metadata": {},
   "outputs": [],
   "source": [
    "Y = ds.air\n",
    "time = ds.coords[\"time\"].values\n",
    "time_steps = np.arange(time.shape[0])\n",
    "lat = ds.coords[\"lat\"].values\n",
    "lon = ds.coords[\"lon\"].values"
   ]
  },
  {
   "cell_type": "code",
   "execution_count": null,
   "id": "9ba40977-9d48-43b0-ab8b-99fb49ac78b3",
   "metadata": {},
   "outputs": [],
   "source": []
  },
  {
   "cell_type": "code",
   "execution_count": null,
   "id": "614ce4a4-3de3-4466-818e-e44bad1155ad",
   "metadata": {},
   "outputs": [],
   "source": [
    "time_steps.shape, lat.shape, lon.shape"
   ]
  },
  {
   "cell_type": "code",
   "execution_count": null,
   "id": "bd400d9c-65c2-4de2-908a-b5f76978c7fe",
   "metadata": {},
   "outputs": [],
   "source": [
    "X = np.vstack([time_steps, lat, lon])\n",
    "\n",
    "print(X.shape, Y.shape)"
   ]
  },
  {
   "cell_type": "markdown",
   "id": "3f5fd6a0-d337-4ad2-b6c9-a1e8ef74c8d7",
   "metadata": {},
   "source": [
    "#### Viz - Basemap"
   ]
  },
  {
   "cell_type": "code",
   "execution_count": null,
   "id": "c8d0b847-4250-4038-b22a-dc538f40ee98",
   "metadata": {},
   "outputs": [],
   "source": [
    "ds.air[0].plot()"
   ]
  },
  {
   "cell_type": "markdown",
   "id": "312dc09e-0b50-4988-910e-269b8ddb65fe",
   "metadata": {},
   "source": [
    "#### Viz - Time Series\n"
   ]
  },
  {
   "cell_type": "code",
   "execution_count": null,
   "id": "016cc729-22de-4245-9849-3aac11c304a7",
   "metadata": {},
   "outputs": [],
   "source": [
    "ds.air[:, 0, 0].plot()"
   ]
  },
  {
   "cell_type": "markdown",
   "id": "b60319bd-caf8-44fd-81b8-fe20d06a5921",
   "metadata": {},
   "source": [
    "### ROMS Model"
   ]
  },
  {
   "cell_type": "code",
   "execution_count": null,
   "id": "ee66feb8-bd1a-441c-b044-b6f105a40869",
   "metadata": {},
   "outputs": [],
   "source": [
    "%%time\n",
    "\n",
    "ds = xr.tutorial.open_dataset(\"ROMS_example\").load()"
   ]
  },
  {
   "cell_type": "code",
   "execution_count": null,
   "id": "ff8d482e-1fc5-4383-a379-d6213c05b848",
   "metadata": {},
   "outputs": [],
   "source": [
    "ds"
   ]
  },
  {
   "cell_type": "markdown",
   "id": "2f027f9b-e9d6-439c-a37d-990d562fa429",
   "metadata": {},
   "source": [
    "### Viz - Gridded"
   ]
  },
  {
   "cell_type": "code",
   "execution_count": null,
   "id": "f6786cc5-4924-49c0-89f8-5edb69fd7cef",
   "metadata": {},
   "outputs": [],
   "source": [
    "fig, (ax1, ax2) = plt.subplots(ncols=2, figsize=(14, 4))\n",
    "ds.xc.plot(ax=ax1)\n",
    "ds.yc.plot(ax=ax2)"
   ]
  },
  {
   "cell_type": "code",
   "execution_count": null,
   "id": "8f3425e3-7d18-4117-81aa-9c2bf03361a6",
   "metadata": {},
   "outputs": [],
   "source": [
    "ds.Tair[0].plot()"
   ]
  },
  {
   "cell_type": "code",
   "execution_count": null,
   "id": "ebbd7ad3-823e-4d72-a186-1a898d05ca7c",
   "metadata": {},
   "outputs": [],
   "source": []
  }
 ],
 "metadata": {
  "kernelspec": {
   "display_name": "Python [conda env:miniconda3-eo_mgp]",
   "language": "python",
   "name": "conda-env-miniconda3-eo_mgp-py"
  },
  "language_info": {
   "codemirror_mode": {
    "name": "ipython",
    "version": 3
   },
   "file_extension": ".py",
   "mimetype": "text/x-python",
   "name": "python",
   "nbconvert_exporter": "python",
   "pygments_lexer": "ipython3",
   "version": "3.9.7"
  }
 },
 "nbformat": 4,
 "nbformat_minor": 5
}
