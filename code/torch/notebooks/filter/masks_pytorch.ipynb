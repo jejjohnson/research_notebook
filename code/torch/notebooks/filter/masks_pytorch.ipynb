{
 "cells": [
  {
   "cell_type": "markdown",
   "id": "ac26e895-6225-41c8-96ea-5eef6a3ed0a7",
   "metadata": {},
   "source": [
    "# Masked Likelihoods"
   ]
  },
  {
   "cell_type": "code",
   "execution_count": null,
   "id": "db552253-3514-4b1c-ac75-173e5cceacb3",
   "metadata": {},
   "outputs": [],
   "source": [
    "import sys, os\n",
    "from pyprojroot import here\n",
    "\n",
    "# spyder up to find the root\n",
    "root = here(project_files=[\".local\"])\n",
    "\n",
    "# append to path\n",
    "sys.path.append(str(root))\n",
    "\n",
    "%load_ext autoreload\n",
    "%autoreload 2"
   ]
  },
  {
   "cell_type": "code",
   "execution_count": null,
   "id": "5fb68547-aaae-41c1-9d7c-a9f1a21352eb",
   "metadata": {},
   "outputs": [],
   "source": [
    "import torch\n",
    "import torch.nn as nn\n",
    "import torch.distributions as dist\n",
    "import numpy as np\n",
    "from einops import repeat, rearrange"
   ]
  },
  {
   "cell_type": "code",
   "execution_count": null,
   "id": "5cd90d6a-7a42-46c0-9628-d923b6e1aee0",
   "metadata": {},
   "outputs": [],
   "source": [
    "from torchkf.kf import transition_predict, emission_predict, update_step, predict_step\n",
    "from torchkf.kf import (\n",
    "    mask_observation_noise_diag,\n",
    "    masked_multivariate_likelihood,\n",
    "    mask_observation_operator,\n",
    ")"
   ]
  },
  {
   "cell_type": "markdown",
   "id": "b7657a77-f98e-4d08-a960-ad85065651a6",
   "metadata": {},
   "source": [
    "### Data"
   ]
  },
  {
   "cell_type": "markdown",
   "id": "5834021a-7466-423d-ae5c-9eda7011ef86",
   "metadata": {},
   "source": [
    "$$\n",
    "y = [u, v]\n",
    "$$\n",
    "\n",
    "$$\n",
    "Y = [y_1, y_2]\n",
    "$$\n",
    "\n",
    "$$\n",
    "Y = [u_1, v_1, u_2, v_2]\n",
    "$$"
   ]
  },
  {
   "cell_type": "markdown",
   "id": "cbe8de18-e0d8-4431-baf4-7395b8de8e96",
   "metadata": {},
   "source": [
    "$$\n",
    "Y = [u_1, v_1, 0, 0]\n",
    "$$"
   ]
  },
  {
   "cell_type": "markdown",
   "id": "5516809f-7318-4397-866b-066c44d7e94d",
   "metadata": {},
   "source": [
    "### Observation Mask\n",
    "\n",
    "\n",
    "$$\n",
    "\\mathbf{H}_t = \n",
    "\\begin{bmatrix}\n",
    "\\mathbf{H}_t^{\\text{obs}} \\\\\n",
    "\\mathbf{H}_t^{\\text{missing}}\n",
    "\\end{bmatrix} =\n",
    "\\begin{bmatrix}\n",
    "\\mathbf{H}_t^{\\text{obs}} \\\\\n",
    "\\mathbf{0}\n",
    "\\end{bmatrix}\n",
    "$$"
   ]
  },
  {
   "cell_type": "code",
   "execution_count": null,
   "id": "a3e69186-b2ba-4c3b-9892-0c26650a6ab2",
   "metadata": {},
   "outputs": [],
   "source": [
    "mask_observation_operator??"
   ]
  },
  {
   "cell_type": "code",
   "execution_count": null,
   "id": "4756a454-2333-44c9-ae7d-bc9815450b0b",
   "metadata": {},
   "outputs": [],
   "source": [
    "state_dim = 5\n",
    "obs_dim = 2\n",
    "\n",
    "# operator = np.ones((obs_dim, state_dim))\n",
    "operator = np.random.randn(obs_dim, state_dim)\n",
    "operator = torch.Tensor(operator)\n",
    "# no mask\n",
    "mask = np.zeros(obs_dim)\n",
    "mask = torch.Tensor(mask)\n",
    "print(mask)"
   ]
  },
  {
   "cell_type": "code",
   "execution_count": null,
   "id": "f08b0f58-bfb9-4916-80a3-c6bf9af475c9",
   "metadata": {},
   "outputs": [],
   "source": [
    "operator_masked = mask_observation_operator(operator, mask)\n",
    "\n",
    "assert operator_masked.shape == operator.shape\n",
    "# torch.testing.assert_equal(operator_masked, operator)\n",
    "\n",
    "print(operator_masked)"
   ]
  },
  {
   "cell_type": "markdown",
   "id": "0a28ec1e-75ee-4d34-941a-7f85d2e88b84",
   "metadata": {},
   "source": [
    "Nothing was masked! because we see all of the values :)."
   ]
  },
  {
   "cell_type": "code",
   "execution_count": null,
   "id": "198842f5-37f4-4dbf-8c3e-2c41428e1a09",
   "metadata": {},
   "outputs": [],
   "source": [
    "# no mask\n",
    "mask = torch.Tensor([1, 0])\n",
    "\n",
    "print(mask)"
   ]
  },
  {
   "cell_type": "code",
   "execution_count": null,
   "id": "3c14d6a7-f158-4d2b-a070-875332b4953d",
   "metadata": {},
   "outputs": [],
   "source": [
    "operator_masked = mask_observation_operator(operator, mask)\n",
    "\n",
    "assert operator_masked.shape == operator.shape\n",
    "\n",
    "print(operator_masked)"
   ]
  },
  {
   "cell_type": "markdown",
   "id": "95fd3b3e-fc52-46bd-b542-7c321cf710b7",
   "metadata": {},
   "source": [
    "As we can see, now we have the operator masked for one of the dimensions."
   ]
  },
  {
   "cell_type": "markdown",
   "id": "4092d7bd-fca1-4127-a793-f9753409a33b",
   "metadata": {},
   "source": [
    "### Noise Covariance Matrix"
   ]
  },
  {
   "cell_type": "markdown",
   "id": "874a8655-2e04-401e-b0e7-9d323626ba1b",
   "metadata": {},
   "source": [
    "mask_observation_operator??$$\n",
    "\\mathbf{R}_t = \n",
    "\\begin{bmatrix}\n",
    "\\mathbf{R}_{11t}^{\\text{obs}} & \\mathbf{R}_{12t}^{\\text{cross}}\\\\\n",
    "\\mathbf{R}_{21t}^{\\text{cross}} & \\mathbf{R}_{22t}^{\\text{missing}}\n",
    "\\end{bmatrix} =\n",
    "\\begin{bmatrix}\n",
    "\\mathbf{R}_{11t}^{\\text{obs}} & \\mathbf{0}\\\\\n",
    "\\mathbf{0} & \\mathbf{I}\n",
    "\\end{bmatrix}\n",
    "$$"
   ]
  },
  {
   "cell_type": "code",
   "execution_count": null,
   "id": "3d69f65c-12ba-43a5-8c6f-e664f8fa798f",
   "metadata": {},
   "outputs": [],
   "source": [
    "mask_observation_noise??"
   ]
  },
  {
   "cell_type": "code",
   "execution_count": null,
   "id": "10269d36-8911-4385-aa89-cf27f6475f87",
   "metadata": {},
   "outputs": [],
   "source": [
    "state_dim = 10\n",
    "obs_dim = 4\n",
    "rng = np.random.RandomState(3)\n",
    "\n",
    "# noise_mat = np.ones((obs_dim, obs_dim))\n",
    "noise_mat = np.random.randn(obs_dim, obs_dim)\n",
    "print(noise_mat)\n",
    "noise_mat = torch.Tensor(noise_mat)"
   ]
  },
  {
   "cell_type": "code",
   "execution_count": null,
   "id": "ff580045-076d-4d5d-9e82-3d13ec66aa55",
   "metadata": {},
   "outputs": [],
   "source": [
    "mask = np.zeros(obs_dim)\n",
    "\n",
    "print(mask)\n",
    "\n",
    "mask = torch.Tensor(mask)"
   ]
  },
  {
   "cell_type": "code",
   "execution_count": null,
   "id": "3af29bd4-7591-412c-b56b-98a6963c8c55",
   "metadata": {},
   "outputs": [],
   "source": [
    "noise_mat_masked = mask_observation_noise_diag(noise_mat, mask)\n",
    "\n",
    "assert noise_mat_masked.shape == noise_mat.shape\n",
    "torch.testing.assert_equal(noise_mat_masked, noise_mat)\n",
    "\n",
    "print(noise_mat_masked)"
   ]
  },
  {
   "cell_type": "markdown",
   "id": "6e49dd3c-82e9-4b06-9dbc-9e83378ab21c",
   "metadata": {},
   "source": [
    "Again, we don't see any changes because the mask was 1s everywhere."
   ]
  },
  {
   "cell_type": "code",
   "execution_count": null,
   "id": "a510f646-305b-42e5-a2b7-85292dde4643",
   "metadata": {},
   "outputs": [],
   "source": [
    "mask = np.array([0.0, 0.0, 1.0, 1.0])\n",
    "mask = torch.Tensor(mask)\n",
    "\n",
    "noise_mat_masked = mask_observation_noise_diag(noise_mat, mask)\n",
    "\n",
    "assert noise_mat_masked.shape == noise_mat.shape\n",
    "\n",
    "print(noise_mat_masked)"
   ]
  },
  {
   "cell_type": "markdown",
   "id": "3f0aef70-46f7-4e48-80d3-475a0bcbd516",
   "metadata": {},
   "source": [
    "here, we see the structure we showed above."
   ]
  },
  {
   "cell_type": "code",
   "execution_count": null,
   "id": "b07d6641-a7b1-4d80-8864-6177d9d1e9cb",
   "metadata": {},
   "outputs": [],
   "source": [
    "mask = np.array([1.0, 0.0, 0.0, 1.0])\n",
    "mask = torch.tensor(mask)\n",
    "\n",
    "noise_mat_masked = mask_observation_noise_diag(noise_mat, mask)\n",
    "\n",
    "\n",
    "assert noise_mat_masked.shape == noise_mat_masked.shape\n",
    "\n",
    "print(noise_mat_masked)"
   ]
  },
  {
   "cell_type": "markdown",
   "id": "992f10df-3e6c-4895-adb2-c1c9966a82d6",
   "metadata": {},
   "source": [
    "### Likelihood Term"
   ]
  },
  {
   "cell_type": "code",
   "execution_count": null,
   "id": "1f8c2365-8549-47cd-bd22-fbdac7a948de",
   "metadata": {},
   "outputs": [],
   "source": [
    "obs_dim = 5\n",
    "\n",
    "rng = np.random.RandomState(123)\n",
    "\n",
    "x = rng.randn(obs_dim)\n",
    "mean = rng.randn(obs_dim)\n",
    "cov = rng.randn(obs_dim, obs_dim)\n",
    "cov = cov @ cov.T"
   ]
  },
  {
   "cell_type": "code",
   "execution_count": null,
   "id": "d7311190-0aa4-49e7-b5e6-56d7b585a96d",
   "metadata": {},
   "outputs": [],
   "source": [
    "log_prob = masked_multivariate_likelihood(\n",
    "    torch.Tensor(x), torch.Tensor(mean), torch.Tensor(cov), None\n",
    ")\n",
    "assert log_prob.shape == ()\n",
    "assert np.isnan(log_prob).sum() == 0\n",
    "log_prob"
   ]
  },
  {
   "cell_type": "code",
   "execution_count": null,
   "id": "01a85ab9-9ea5-4339-9af4-f6fba048723e",
   "metadata": {},
   "outputs": [],
   "source": [
    "log_prob = masked_multivariate_likelihood(\n",
    "    torch.Tensor(x),\n",
    "    torch.Tensor(mean),\n",
    "    torch.Tensor(cov),\n",
    "    torch.zeros_like(torch.Tensor(x)),\n",
    ")\n",
    "assert log_prob.shape == ()\n",
    "assert np.isnan(log_prob).sum() == 0\n",
    "log_prob"
   ]
  },
  {
   "cell_type": "code",
   "execution_count": null,
   "id": "3cff74be-cd59-478c-89d5-ff2d2c8e42db",
   "metadata": {},
   "outputs": [],
   "source": [
    "log_prob = masked_multivariate_likelihood(\n",
    "    torch.Tensor(x),\n",
    "    torch.Tensor(mean),\n",
    "    torch.Tensor(cov),\n",
    "    torch.ones_like(torch.Tensor(x)),\n",
    ")\n",
    "assert log_prob.shape == ()\n",
    "assert np.isnan(log_prob).sum() == 0\n",
    "log_prob"
   ]
  },
  {
   "cell_type": "code",
   "execution_count": null,
   "id": "5c82ae80-df09-4cde-bf1f-cb95ef381d6f",
   "metadata": {},
   "outputs": [],
   "source": [
    "mask = rng.randint(\n",
    "    0,\n",
    "    2,\n",
    "    size=(obs_dim,),\n",
    ").astype(np.float32)"
   ]
  },
  {
   "cell_type": "code",
   "execution_count": null,
   "id": "54223d8a-c59e-466e-80e8-b53ae8e5b486",
   "metadata": {},
   "outputs": [],
   "source": [
    "mask"
   ]
  },
  {
   "cell_type": "code",
   "execution_count": null,
   "id": "d6049fb4-ba5c-4fcc-a6b7-8974cb913c65",
   "metadata": {},
   "outputs": [],
   "source": [
    "log_prob = masked_multivariate_likelihood(\n",
    "    torch.Tensor(x), torch.Tensor(mean), torch.Tensor(cov), torch.Tensor(mask)\n",
    ")\n",
    "assert log_prob.shape == ()\n",
    "assert np.isnan(log_prob).sum() == 0\n",
    "log_prob"
   ]
  },
  {
   "cell_type": "markdown",
   "id": "d9146c06-2628-4d6d-85ba-0aaed2355988",
   "metadata": {},
   "source": [
    "##### Batches"
   ]
  },
  {
   "cell_type": "code",
   "execution_count": null,
   "id": "8b3bd587-0315-4a7e-9c86-53671abdf820",
   "metadata": {},
   "outputs": [],
   "source": [
    "obs_dim = 2\n",
    "n_batch = 10\n",
    "x = rng.randn(n_batch, obs_dim)\n",
    "mean = rng.randn(n_batch, obs_dim)\n",
    "cov = rng.randn(n_batch, obs_dim, obs_dim)\n",
    "cov = jnp.matmul(cov, cov.transpose((0, 2, 1)))"
   ]
  },
  {
   "cell_type": "code",
   "execution_count": null,
   "id": "48807daf-169e-452d-b44d-d5c33a4dfc21",
   "metadata": {},
   "outputs": [],
   "source": [
    "fn = jax.vmap(mvn_logpdf, in_axes=(0, 0, 0, None))\n",
    "# fn_ = jax.vmap(mvn_logpdf_custom, in_axes=(0, 0, 0, None))\n",
    "\n",
    "log_probs = fn(x, mean, cov, None)\n",
    "# log_probs_ = fn_(x, mean, cov, None)\n",
    "# chex.assert_trees_all_close(log_probs, log_probs_)\n",
    "assert log_probs.shape == (n_batch,)\n",
    "assert np.isnan(log_probs).sum() == 0"
   ]
  },
  {
   "cell_type": "code",
   "execution_count": null,
   "id": "f5ff1e16-a3ec-4a5f-a668-24cc1926305c",
   "metadata": {},
   "outputs": [],
   "source": [
    "log_probs"
   ]
  },
  {
   "cell_type": "code",
   "execution_count": null,
   "id": "16b2d2d2-382f-4e51-881f-ebfdff754d4e",
   "metadata": {},
   "outputs": [],
   "source": []
  }
 ],
 "metadata": {
  "kernelspec": {
   "display_name": "Python [conda env:miniconda3-eo_torch_mgp]",
   "language": "python",
   "name": "conda-env-miniconda3-eo_torch_mgp-py"
  },
  "language_info": {
   "codemirror_mode": {
    "name": "ipython",
    "version": 3
   },
   "file_extension": ".py",
   "mimetype": "text/x-python",
   "name": "python",
   "nbconvert_exporter": "python",
   "pygments_lexer": "ipython3",
   "version": "3.9.7"
  }
 },
 "nbformat": 4,
 "nbformat_minor": 5
}
