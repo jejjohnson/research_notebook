{
 "cells": [
  {
   "cell_type": "markdown",
   "id": "995f62d3-a019-4ae8-b478-99533b2f0cbb",
   "metadata": {},
   "source": [
    "# Demo - KF with Unknown Parameters"
   ]
  },
  {
   "cell_type": "code",
   "execution_count": null,
   "id": "635ea26b-8f35-45d2-b98e-e371bc575601",
   "metadata": {},
   "outputs": [],
   "source": [
    "import sys, os\n",
    "from pyprojroot import here\n",
    "\n",
    "# spyder up to find the root\n",
    "root = here(project_files=[\".home\"])\n",
    "\n",
    "# append to path\n",
    "sys.path.append(str(root))\n",
    "\n",
    "%load_ext autoreload\n",
    "%autoreload 2"
   ]
  },
  {
   "cell_type": "code",
   "execution_count": null,
   "id": "077b75b9-e52d-4dd6-82a0-388c4a15271d",
   "metadata": {},
   "outputs": [],
   "source": [
    "import jax\n",
    "import jax.numpy as jnp\n",
    "import numpy as np\n",
    "from typing import NamedTuple\n",
    "from jax.random import multivariate_normal, split\n",
    "from tqdm.notebook import tqdm, trange\n",
    "from jax.random import multivariate_normal\n",
    "from tensorflow_probability.substrates import jax as tfp\n",
    "\n",
    "tfd = tfp.distributions\n",
    "\n",
    "\n",
    "import matplotlib.pyplot as plt"
   ]
  },
  {
   "cell_type": "markdown",
   "id": "803a8c06-5d3e-4d24-bb91-9bf6ae7676bf",
   "metadata": {},
   "source": [
    "## Simulating Data"
   ]
  },
  {
   "cell_type": "markdown",
   "id": "36a7e4f8-f48e-45ca-a097-9ccf1b16233d",
   "metadata": {},
   "source": [
    "### State Transition Dynamics\n",
    "\n",
    "We assume that we can fully describe the state when we have the `(x,y)` coordinates of the position and the `(x,y)` velocity. So we can write this as:\n",
    "\n",
    "$$\n",
    "\\mathbf{z}_t = \n",
    "\\begin{bmatrix}\n",
    "z_t^1 \\\\ z_t^2 \\\\ \\dot{z}_t^1 \\\\ \\dot{z}_t^2\n",
    "\\end{bmatrix}\n",
    "$$\n",
    "\n",
    "\n",
    "where $z_t^d$ is the coordinate of the position and $\\dot{z}^d$ is the velocity. \n",
    "\n",
    "We can describe the dynamics of the system using the following system of equations:\n",
    "\n",
    "$$\n",
    "\\begin{aligned}\n",
    "z_t^1 &= z_{t-1}^1 + \\Delta_t \\dot{z}_t^1 + \\epsilon_t^1 \\\\\n",
    "z_t^2 &= z_{t-1}^2 + \\Delta_t \\dot{z}_t^2 + \\epsilon_t^2 \\\\\n",
    "\\dot{z}_t^1 &= \\dot{z}_{t-1}^1 + \\epsilon_t^3 \\\\\n",
    "\\dot{z}_t^2 &= \\dot{z}_{t-1}^2 + \\epsilon_t^4 \\\\\n",
    "\\end{aligned}\n",
    "$$\n",
    "\n",
    "This is a very simple formulation which takes a first order approximation to the change in position based on speed and we also assume constant velocity. Note, we also include some noise because we assume that some of the dynamics are noisy, i.e. there are random acceleration and position changes in the model. \n",
    "\n",
    "\n",
    "We can also put this into matrix formulation like so:\n",
    "\n",
    "$$\n",
    "\\mathbf{z}_t = \\mathbf{A}_t \\mathbf{z}_{t-1} + \\boldsymbol{\\epsilon}_t\n",
    "$$\n",
    "\n",
    "where:\n",
    "\n",
    "$$\n",
    "\\mathbf{A}_t = \n",
    "\\begin{bmatrix}\n",
    "1 & 0 & \\Delta_t & 0 \\\\\n",
    "0 & 1 & 0 & \\Delta_t \\\\\n",
    "0 & 0 & 1 & 0 \\\\\n",
    "0 & 0 & 0 & 1 \\\\\n",
    "\\end{bmatrix}, \\;\\; \\mathbf{A}_t \\in \\mathbb{R}^{4\\times 4}\n",
    "$$\n"
   ]
  },
  {
   "cell_type": "markdown",
   "id": "8f0015e0-f32f-4067-a5c9-07c439201555",
   "metadata": {},
   "source": [
    "---\n",
    "### Emissions Model\n",
    "\n",
    "We can only fully observe the locations (not the velocities). So this will be a lower dimensional vector of size 2-D. The system of equations are as follows:\n",
    "\n",
    "$$\n",
    "\\begin{aligned}\n",
    "x_t^1 &= z_t^1 + \\delta_t^1 \\\\\n",
    "x_t^2 &= z_t^2 + \\delta_t^2 \\\\\n",
    "\\end{aligned}\n",
    "$$\n",
    "\n",
    "This is a very simple model where we assume we can extract the direct positions (plus some noise) from the state.\n",
    "\n",
    "We can write this in an abbreviated matrix formulation:\n",
    "\n",
    "$$\n",
    "\\mathbf{x}_t = \\mathbf{C}_t \\mathbf{z}_t + \\delta_t\n",
    "$$\n",
    "\n",
    "where:\n",
    "\n",
    "$$\n",
    "\\mathbf{C}_t = \n",
    "\\begin{bmatrix}\n",
    "1 & 0 & 0 & 0 \\\\\n",
    "0 & 1 & 0 & 0 \\\\\n",
    "\\end{bmatrix}, \\;\\; \\mathbf{C}_t \\in \\mathbb{R}^{2 \\times 4}\n",
    "$$"
   ]
  },
  {
   "cell_type": "markdown",
   "id": "2bfc4428-027e-4d8e-8460-e5bcddcf5f09",
   "metadata": {},
   "source": [
    "## Model\n",
    "\n",
    "* [x] Modeling Noises Only\n",
    "* [x] Modeling States/Observations\n",
    "* [ ] Using Conditioning Notation\n",
    "* [ ] Using Plate Notation"
   ]
  },
  {
   "cell_type": "code",
   "execution_count": null,
   "id": "385e2f6b-6cbd-41c4-b6f3-d56b629e2ab4",
   "metadata": {},
   "outputs": [],
   "source": [
    "import numpyro\n",
    "import numpyro.distributions as dist\n",
    "from numpyro.contrib.control_flow import scan\n",
    "from numpyro import diagnostics, infer"
   ]
  },
  {
   "cell_type": "markdown",
   "id": "2af75913-5ff5-4645-86ce-1957733d59d1",
   "metadata": {},
   "source": [
    "```python\n",
    "def gaussian_hmm(obs=None, time_steps: int=10):\n",
    "    \n",
    "    if obs is not None:\n",
    "        time_steps = obs.shape[0]\n",
    "        \n",
    "    # transition model\n",
    "    trans = numpyro.sample(\"trans\", dist.Normal(0, 1))\n",
    "    # trans = numpyro.param(\"trans\", 0.1)\n",
    "    \n",
    "    # emission model\n",
    "    emit = numpyro.sample(\"emi\", dist.Normal(0, 1))\n",
    "    # emit = numpyro.param(\"emit\", 0.1 )\n",
    "    \n",
    "    def body(z_prev, x_prev):\n",
    "        # transition distribution\n",
    "        z = numpyro.sample(\"z\", dist.Normal(trans * z_prev, 1))\n",
    "        \n",
    "        # emission distribution\n",
    "        x = numpyro.sample(\"x\", dist.Normal(emit * z, 1), obs=x_prev)\n",
    "        \n",
    "        return z, (z, x)\n",
    "    \n",
    "    # prior dist\n",
    "    z0 = numpyro.sample(\"z0\", dist.Normal(0, 1))\n",
    "    \n",
    "    # scan\n",
    "    _, (z, x) = scan(body, z0, obs, length=time_steps)\n",
    "    \n",
    "    return (z, x)\n",
    "```"
   ]
  },
  {
   "cell_type": "markdown",
   "id": "4939fefb-ad69-4e3a-bf22-9abf60b3b09d",
   "metadata": {},
   "source": [
    "## Parameters"
   ]
  },
  {
   "cell_type": "code",
   "execution_count": null,
   "id": "ae0d290e-a508-4402-b50f-6581af298fb7",
   "metadata": {},
   "outputs": [],
   "source": [
    "# init prior dist\n",
    "mu0 = jnp.array([8.0, 5.0, 1.0, 0.0])\n",
    "Sigma0 = 1e-4 * jnp.eye(4)\n",
    "\n",
    "prior_dist = dist.MultivariateNormal(mu0, Sigma0)\n",
    "\n",
    "# =================\n",
    "# transition model\n",
    "# =================\n",
    "state_dim = 4\n",
    "dt = 0.1\n",
    "step_std = 0.1\n",
    "\n",
    "trans_mat = jnp.eye(4) + dt * jnp.eye(4, k=2)\n",
    "trans_noise_param = step_std**2\n",
    "trans_noise_mat = trans_noise_param * jnp.eye(state_dim)\n",
    "trans_noise = dist.MultivariateNormal(jnp.zeros(state_dim), trans_noise_mat)\n",
    "\n",
    "# =================\n",
    "# emission model\n",
    "# =================\n",
    "noise_std = 0.1\n",
    "obs_dim = 2\n",
    "\n",
    "emiss_mat = jnp.eye(N=2, M=4)\n",
    "emiss_noise_param = noise_std**2\n",
    "emiss_noise_mat = emiss_noise_param * jnp.eye(obs_dim)\n",
    "emiss_noise = dist.MultivariateNormal(jnp.zeros(obs_dim), emiss_noise_mat)"
   ]
  },
  {
   "cell_type": "markdown",
   "id": "5a0ad84f-e219-4e69-94cc-f9603811cd1d",
   "metadata": {},
   "source": [
    "## Simulations"
   ]
  },
  {
   "cell_type": "code",
   "execution_count": null,
   "id": "bd63e9f9-d9bd-4159-bf8f-2cab59d008f7",
   "metadata": {},
   "outputs": [],
   "source": [
    "def true_simulated_kalman_filter(\n",
    "    trans_mat: jnp.ndarray,\n",
    "    trans_noise_cov: jnp.ndarray,\n",
    "    emiss_mat: jnp.ndarray,\n",
    "    emiss_noise_cov: jnp.ndarray,\n",
    "    prior_dist,\n",
    "    time_steps: int = 100,\n",
    "    x_obs: jnp.ndarray = None,\n",
    "    x_obs_mask: jnp.ndarray = None,\n",
    "):\n",
    "    if x_obs is not None:\n",
    "        time_steps, n_dims = x_obs.shape\n",
    "\n",
    "    # ==================\n",
    "    # sample from prior\n",
    "    # ==================\n",
    "    z0 = numpyro.deterministic(\n",
    "        \"z0\", prior_dist.mean\n",
    "    )  # numpyro.sample(\"z0\", prior_dist)\n",
    "\n",
    "    # Model\n",
    "    def body(z_prev, x_prev):\n",
    "\n",
    "        # transition\n",
    "        z = numpyro.sample(\n",
    "            \"z\",\n",
    "            dist.MultivariateNormal(\n",
    "                loc=jnp.dot(trans_mat, z_prev), covariance_matrix=trans_noise_cov\n",
    "            ),\n",
    "        )\n",
    "\n",
    "        # sample noise\n",
    "        x = numpyro.sample(\n",
    "            \"x\",\n",
    "            dist.MultivariateNormal(\n",
    "                loc=jnp.dot(emiss_mat, z), covariance_matrix=emiss_noise_cov\n",
    "            ),\n",
    "            obs=x_prev,\n",
    "        )\n",
    "\n",
    "        return z, (z, x)\n",
    "\n",
    "    _, (z, x) = scan(f=body, init=(z0), xs=x_obs, length=time_steps)\n",
    "\n",
    "    return z, x"
   ]
  },
  {
   "cell_type": "code",
   "execution_count": null,
   "id": "07bb0d6c-e4d0-46dc-9711-c0553ed3ec2b",
   "metadata": {},
   "outputs": [],
   "source": [
    "time_steps = 80\n",
    "\n",
    "with numpyro.handlers.seed(rng_seed=123):\n",
    "    z_true, x_true = true_simulated_kalman_filter(\n",
    "        trans_mat=trans_mat,\n",
    "        trans_noise_cov=trans_noise_mat,\n",
    "        emiss_mat=emiss_mat,\n",
    "        emiss_noise_cov=emiss_noise_mat,\n",
    "        prior_dist=prior_dist,\n",
    "        time_steps=time_steps,\n",
    "        x_obs=None,\n",
    "    )"
   ]
  },
  {
   "cell_type": "code",
   "execution_count": null,
   "id": "0cf06217-09a1-4cb7-96c3-45cd01531e8b",
   "metadata": {},
   "outputs": [],
   "source": [
    "fig, ax = plt.subplots()\n",
    "\n",
    "ax.plot(z_true[..., 0], z_true[..., 1], color=\"black\", label=\"True State\")\n",
    "# ax.plot(x_s[..., 0], x_s[..., 1], color=\"tab:red\", linestyle=\"--\", label=\"Noisy Latent\")\n",
    "ax.scatter(x_true[..., 0], x_true[..., 1], label=\"Measurements\", color=\"red\", alpha=0.5)\n",
    "\n",
    "ax.set(xlabel=\"x-position\", ylabel=\"y-position\")\n",
    "plt.legend()\n",
    "plt.show()"
   ]
  },
  {
   "cell_type": "markdown",
   "id": "5917769b-3213-4d29-b7fb-f7792d510763",
   "metadata": {},
   "source": [
    "## Model (Unknown Parameters)"
   ]
  },
  {
   "cell_type": "code",
   "execution_count": null,
   "id": "55a2a317-8ba4-422a-b4b9-9367a83b6941",
   "metadata": {},
   "outputs": [],
   "source": [
    "JITTER = 1e-5\n",
    "\n",
    "\n",
    "def kalman_filter(\n",
    "    trans_mat: jnp.ndarray,\n",
    "    emiss_mat: jnp.ndarray,\n",
    "    prior_dist,\n",
    "    time_steps: int = 80,\n",
    "    x_obs: jnp.ndarray = None,\n",
    "):\n",
    "    if x_obs is not None:\n",
    "        time_steps, n_dims = x_obs.shape\n",
    "\n",
    "    # noise parameters\n",
    "    trans_noise = numpyro.sample(\"trans_noise\", dist.HalfCauchy())\n",
    "\n",
    "    emiss_noise = numpyro.sample(\"emiss_noise\", dist.HalfCauchy())\n",
    "\n",
    "    trans_noise_cov = JITTER + trans_noise**2 * jnp.eye(4)\n",
    "    emiss_noise_cov = JITTER + emiss_noise**2 * jnp.eye(2)\n",
    "\n",
    "    # ==================\n",
    "    # sample from prior\n",
    "    # ==================\n",
    "    z0 = numpyro.sample(\"z0\", dist.Normal(), sample_shape=(4,))\n",
    "\n",
    "    # Model\n",
    "    def body(z_prev, x_pred):\n",
    "\n",
    "        # transition\n",
    "        z = numpyro.sample(\n",
    "            \"z\",\n",
    "            dist.MultivariateNormal(\n",
    "                loc=jnp.dot(trans_mat, z_prev), covariance_matrix=trans_noise_cov\n",
    "            ),\n",
    "        )\n",
    "\n",
    "        # sample noise\n",
    "        x = numpyro.sample(\n",
    "            \"x\",\n",
    "            dist.MultivariateNormal(\n",
    "                loc=jnp.dot(emiss_mat, z), covariance_matrix=emiss_noise_cov\n",
    "            ),\n",
    "        )\n",
    "\n",
    "        return z, (z, x)\n",
    "\n",
    "    with numpyro.handlers.condition(data={\"x\": x_obs}):\n",
    "        _, (z, x) = scan(f=body, init=(z0), xs=None, length=time_steps)\n",
    "\n",
    "    return z, x"
   ]
  },
  {
   "cell_type": "code",
   "execution_count": null,
   "id": "c5cfc8f1-5d29-4038-9cbd-6827d9a0b8f6",
   "metadata": {},
   "outputs": [],
   "source": [
    "time_steps = 80\n",
    "\n",
    "with numpyro.handlers.seed(rng_seed=42):\n",
    "    z_sim, x_sim = kalman_filter(\n",
    "        trans_mat=trans_mat,\n",
    "        emiss_mat=emiss_mat,\n",
    "        prior_dist=prior_dist,\n",
    "        time_steps=time_steps,\n",
    "        x_obs=x_true,\n",
    "    )\n",
    "\n",
    "print(z_sim.shape, x_sim.shape)"
   ]
  },
  {
   "cell_type": "code",
   "execution_count": null,
   "id": "df91aa67-320d-4928-9801-24e7c2cfaec8",
   "metadata": {},
   "outputs": [],
   "source": [
    "fig, ax = plt.subplots()\n",
    "\n",
    "ax.plot(z_true[..., 0], z_true[..., 1], color=\"black\", label=\"True State\")\n",
    "ax.plot(\n",
    "    z_sim[..., 0], z_sim[..., 1], color=\"blue\", label=\"Predicted State\", linestyle=\"--\"\n",
    ")\n",
    "# ax.plot(x_s[..., 0], x_s[..., 1], color=\"tab:red\", linestyle=\"--\", label=\"Noisy Latent\")\n",
    "ax.scatter(x_true[..., 0], x_true[..., 1], label=\"Measurements\", color=\"red\", alpha=0.5)\n",
    "\n",
    "ax.set(xlabel=\"x-position\", ylabel=\"y-position\")\n",
    "plt.legend()\n",
    "plt.show()"
   ]
  },
  {
   "cell_type": "markdown",
   "id": "ebb3e0fd-548e-49a0-ba83-bfbef3f3f863",
   "metadata": {},
   "source": [
    "### Samples (Prior)"
   ]
  },
  {
   "cell_type": "code",
   "execution_count": null,
   "id": "3c5e2c5d-b047-4b3b-9019-710e7e949814",
   "metadata": {},
   "outputs": [],
   "source": [
    "num_samples = 5\n",
    "rng_key_prior = jax.random.PRNGKey(123)\n",
    "\n",
    "# prior\n",
    "predictive = infer.Predictive(kalman_filter, num_samples=num_samples)\n",
    "prior_samples = predictive(\n",
    "    rng_key_prior,\n",
    "    trans_mat=trans_mat,\n",
    "    emiss_mat=emiss_mat,\n",
    "    prior_dist=prior_dist,\n",
    "    time_steps=time_steps,\n",
    "    x_obs=None,\n",
    ")"
   ]
  },
  {
   "cell_type": "code",
   "execution_count": null,
   "id": "7277b9ac-5174-479a-a572-848a8237f47e",
   "metadata": {},
   "outputs": [],
   "source": [
    "z_sim = prior_samples[\"z\"]\n",
    "x_sim = prior_samples[\"x\"]"
   ]
  },
  {
   "cell_type": "code",
   "execution_count": null,
   "id": "8ea55028-5a90-463d-b1c9-b575cb602fa1",
   "metadata": {},
   "outputs": [],
   "source": [
    "fig, ax = plt.subplots()\n",
    "\n",
    "for i in range(num_samples):\n",
    "    ax.plot(z_sim[i, ..., 0], z_sim[i, ..., 1], color=\"black\", label=\"True State\")\n",
    "    # ax.plot(x_s[..., 0], x_s[..., 1], color=\"tab:red\", linestyle=\"--\", label=\"Noisy Latent\")\n",
    "    ax.scatter(\n",
    "        x_sim[i, ..., 0], x_sim[i, ..., 1], label=\"Measurements\", color=\"red\", alpha=0.5\n",
    "    )\n",
    "\n",
    "ax.set(xlabel=\"x-position\", ylabel=\"y-position\")\n",
    "# plt.legend()\n",
    "plt.show()"
   ]
  },
  {
   "cell_type": "markdown",
   "id": "2801d1db-4ee8-44c3-8422-bb98c9fedc8a",
   "metadata": {},
   "source": [
    "### Samples (Posterior)"
   ]
  },
  {
   "cell_type": "code",
   "execution_count": null,
   "id": "b8de81fa-2ea8-4ccd-83ab-86cf2873ebbf",
   "metadata": {},
   "outputs": [],
   "source": [
    "num_samples = 5\n",
    "rng_key_prior = jax.random.PRNGKey(123)\n",
    "\n",
    "# prior\n",
    "predictive = infer.Predictive(\n",
    "    kalman_filter,\n",
    "    posterior_samples=prior_samples,\n",
    "    num_samples=num_samples,\n",
    "    return_sites=[\"z\", \"x\"],\n",
    ")\n",
    "predictive_posterior = predictive(\n",
    "    rng_key_prior,\n",
    "    trans_mat=trans_mat,\n",
    "    emiss_mat=emiss_mat,\n",
    "    prior_dist=prior_dist,\n",
    "    time_steps=time_steps,\n",
    "    x_obs=x_true,\n",
    ")"
   ]
  },
  {
   "cell_type": "code",
   "execution_count": null,
   "id": "02d57010-b56c-4b3d-91fe-97bd281427af",
   "metadata": {},
   "outputs": [],
   "source": [
    "z_pred = predictive_posterior[\"z\"]\n",
    "x_pred = predictive_posterior[\"x\"]"
   ]
  },
  {
   "cell_type": "code",
   "execution_count": null,
   "id": "4026f271-e920-47b8-bd95-75880769c9a5",
   "metadata": {},
   "outputs": [],
   "source": [
    "fig, ax = plt.subplots()\n",
    "\n",
    "for i in range(num_samples):\n",
    "    # ax.plot(z_true[i, ..., 0], z_true[i, ..., 1], color=\"black\", label=\"True State\")\n",
    "    ax.plot(\n",
    "        z_pred[i, ..., 0],\n",
    "        z_pred[i, ..., 1],\n",
    "        color=\"black\",\n",
    "        label=\"Predicted State\",\n",
    "        linestyle=\"--\",\n",
    "    )\n",
    "    # ax.plot(x_s[..., 0], x_s[..., 1], color=\"tab:red\", linestyle=\"--\", label=\"Noisy Latent\")\n",
    "    # ax.scatter(x_pred[i, ..., 0], x_pred[i, ..., 1], label=\"Measurements\", color=\"red\", alpha=0.5)\n",
    "\n",
    "ax.set(xlabel=\"x-position\", ylabel=\"y-position\")\n",
    "# plt.legend()\n",
    "plt.show()"
   ]
  },
  {
   "cell_type": "markdown",
   "id": "211eea0d-b45e-45aa-91ab-14467604d9b0",
   "metadata": {},
   "source": [
    "## Inference"
   ]
  },
  {
   "cell_type": "markdown",
   "id": "c72a593c-ca3f-448d-bd2b-e83985ced437",
   "metadata": {},
   "source": [
    "### MAP Estimation"
   ]
  },
  {
   "cell_type": "code",
   "execution_count": null,
   "id": "7c9021b9-0e6a-4fb2-a2ae-9f40eae38b66",
   "metadata": {},
   "outputs": [],
   "source": [
    "def init_kf_model(\n",
    "    trans_mat: jnp.ndarray,\n",
    "    emiss_mat: jnp.ndarray,\n",
    "    prior_dist,\n",
    "    time_steps: int = 80,\n",
    "):\n",
    "    def fn(x):\n",
    "        return kalman_filter(\n",
    "            trans_mat=trans_mat,\n",
    "            emiss_mat=emiss_mat,\n",
    "            prior_dist=prior_dist,\n",
    "            time_steps=time_steps,\n",
    "            x_obs=x,\n",
    "        )\n",
    "\n",
    "    return fn"
   ]
  },
  {
   "cell_type": "code",
   "execution_count": null,
   "id": "589725a2-5f13-4e3d-a0f9-1f57b116cfc6",
   "metadata": {},
   "outputs": [],
   "source": [
    "%%time\n",
    "from numpyro import diagnostics, infer, optim\n",
    "from numpyro.infer.autoguide import AutoDelta\n",
    "\n",
    "# optimizers\n",
    "rng_key_infer = jax.random.PRNGKey(666)\n",
    "lr = 1e-2\n",
    "adam = optim.Adam(lr)\n",
    "\n",
    "kf_model = init_kf_model(trans_mat, emiss_mat, prior_dist, time_steps)\n",
    "\n",
    "guide = AutoDelta(kf_model)\n",
    "# def guide(x, time_steps=30):\n",
    "#     return None\n",
    "\n",
    "n_epochs = 100\n",
    "\n",
    "# Inference\n",
    "svi = infer.SVI(kf_model, guide, adam, infer.Trace_ELBO())\n",
    "# svi_result = svi.run(rng_key_infer, n_epochs, x)\n",
    "\n",
    "# svi_result.params"
   ]
  },
  {
   "cell_type": "code",
   "execution_count": null,
   "id": "d1905d2f-800d-4616-95be-a38d08a23fbd",
   "metadata": {},
   "outputs": [],
   "source": [
    "svi_result = svi.run(rng_key_infer, n_epochs, z_true[..., :2])"
   ]
  },
  {
   "cell_type": "code",
   "execution_count": null,
   "id": "7a989b2e-a921-4d54-9788-d0ad8ecc104f",
   "metadata": {},
   "outputs": [],
   "source": [
    "fig, ax = plt.subplots()\n",
    "\n",
    "ax.plot(svi_result.losses)\n",
    "\n",
    "plt.show()"
   ]
  },
  {
   "cell_type": "code",
   "execution_count": null,
   "id": "563b35a0-079b-4c0c-bdfb-78fdeb2ba6e6",
   "metadata": {},
   "outputs": [],
   "source": [
    "# svi_result.params[\"emiss_noise\"], emiss_noise_param"
   ]
  },
  {
   "cell_type": "code",
   "execution_count": null,
   "id": "71fe1929-265a-425b-92fb-ce08dea288f5",
   "metadata": {},
   "outputs": [],
   "source": [
    "# svi_result.params[\"trans_noise\"], trans_noise_param"
   ]
  },
  {
   "cell_type": "code",
   "execution_count": null,
   "id": "c617db6a-b10c-4901-ac9b-865677ee6b61",
   "metadata": {},
   "outputs": [],
   "source": [
    "svi_result.params[\"z0_auto_loc\"]"
   ]
  },
  {
   "cell_type": "code",
   "execution_count": null,
   "id": "bbab8537-c44e-468e-9147-3696f9802135",
   "metadata": {},
   "outputs": [],
   "source": [
    "rng_key_posterior = jax.random.PRNGKey(777)\n",
    "\n",
    "# Posterior prediction\n",
    "predictive = infer.Predictive(kf_model, params=svi_result.params, num_samples=10)\n",
    "posterior_predictive = predictive(rng_key_posterior, x_true)"
   ]
  },
  {
   "cell_type": "code",
   "execution_count": null,
   "id": "b4a6e2ae-2250-4ad6-8dec-ba08a970c557",
   "metadata": {},
   "outputs": [],
   "source": [
    "z_pred = posterior_predictive[\"z\"]\n",
    "x_pred = posterior_predictive[\"x\"]"
   ]
  },
  {
   "cell_type": "code",
   "execution_count": null,
   "id": "552ae2c7-62cd-44eb-95da-735bfa302fe6",
   "metadata": {},
   "outputs": [],
   "source": [
    "x_pred.shape, z_pred.shape"
   ]
  },
  {
   "cell_type": "code",
   "execution_count": null,
   "id": "941d65d0-8072-4597-a176-32da077280d7",
   "metadata": {},
   "outputs": [],
   "source": [
    "z_pred = posterior_predictive[\"z\"]\n",
    "z_lb, z_mu, z_ub = jnp.quantile(x_pred, jnp.array([0.05, 0.5, 0.95]), axis=0)"
   ]
  },
  {
   "cell_type": "code",
   "execution_count": null,
   "id": "6c0bc268-c789-4456-bec1-e3521f117542",
   "metadata": {},
   "outputs": [],
   "source": [
    "fig, ax = plt.subplots()\n",
    "\n",
    "ax.plot(z_true[..., 0], z_true[..., 1], color=\"black\", label=\"True State\")\n",
    "ax.plot(\n",
    "    z_mu[..., 0], z_mu[..., 1], color=\"blue\", label=\"Predicted State\", linestyle=\"--\"\n",
    ")\n",
    "# ax.plot(x_s[..., 0], x_s[..., 1], color=\"tab:red\", linestyle=\"--\", label=\"Noisy Latent\")\n",
    "ax.scatter(x_true[..., 0], x_true[..., 1], label=\"Measurements\", color=\"red\", alpha=0.5)\n",
    "\n",
    "ax.set(xlabel=\"x-position\", ylabel=\"y-position\")\n",
    "# plt.legend()\n",
    "plt.show()"
   ]
  },
  {
   "cell_type": "code",
   "execution_count": null,
   "id": "7963c0c9-d095-4215-8608-313831e0f96b",
   "metadata": {},
   "outputs": [],
   "source": [
    "z_true.shape, z_mu.shape"
   ]
  },
  {
   "cell_type": "code",
   "execution_count": null,
   "id": "833b81cb-9ba1-4182-927c-68d1a325d683",
   "metadata": {},
   "outputs": [],
   "source": [
    "fig, ax = plt.subplots()\n",
    "\n",
    "ax.plot(z_true[..., 2], z_true[..., 3], color=\"black\", label=\"True Velocity\")\n",
    "ax.plot(\n",
    "    z_pred[..., 2],\n",
    "    z_pred[..., 3],\n",
    "    color=\"blue\",\n",
    "    label=\"Predicted Velocity\",\n",
    "    linestyle=\"--\",\n",
    ")\n",
    "# # ax.plot(x_s[..., 0], x_s[..., 1], color=\"tab:red\", linestyle=\"--\", label=\"Noisy Latent\")\n",
    "# ax.scatter(x_true[..., 0], x_true[..., 1], label=\"Measurements\", color=\"red\", alpha=0.5)\n",
    "\n",
    "ax.set(xlabel=\"x-velocity\", ylabel=\"y-velocity\")\n",
    "# plt.legend()\n",
    "plt.show()"
   ]
  },
  {
   "cell_type": "markdown",
   "id": "c3aa2a5b-174f-4d1e-9276-80ebb376890b",
   "metadata": {},
   "source": [
    "### Samples"
   ]
  },
  {
   "cell_type": "code",
   "execution_count": null,
   "id": "cdbca989-2384-4c8f-abb9-fd545cdcc917",
   "metadata": {},
   "outputs": [],
   "source": [
    "rng_key_posterior = jax.random.PRNGKey(777)\n",
    "\n",
    "# Posterior prediction\n",
    "predictive = infer.Predictive(kf_model, params=svi_result.params, num_samples=1)\n",
    "posterior_predictive = predictive(rng_key_posterior, None)"
   ]
  },
  {
   "cell_type": "code",
   "execution_count": null,
   "id": "593da209-4c96-4cd5-b941-a66af38cc500",
   "metadata": {},
   "outputs": [],
   "source": [
    "z_sim_post = posterior_predictive[\"z\"]\n",
    "x_sim_post = posterior_predictive[\"x\"]"
   ]
  },
  {
   "cell_type": "code",
   "execution_count": null,
   "id": "0f8afae8-26d1-42d5-a2df-baf5a8f38d61",
   "metadata": {},
   "outputs": [],
   "source": [
    "fig, ax = plt.subplots()\n",
    "\n",
    "for i in range(num_samples):\n",
    "    # ax.plot(z_true[i, ..., 0], z_true[i, ..., 1], color=\"black\", label=\"True State\")\n",
    "    ax.plot(\n",
    "        z_sim_post[i, ..., 0],\n",
    "        z_sim_post[i, ..., 1],\n",
    "        color=\"black\",\n",
    "        label=\"Predicted State\",\n",
    "        linestyle=\"--\",\n",
    "    )\n",
    "    # ax.plot(x_s[..., 0], x_s[..., 1], color=\"tab:red\", linestyle=\"--\", label=\"Noisy Latent\")\n",
    "    # ax.scatter(x_sim_post[i, ..., 0], x_sim_post[i, ..., 1], label=\"Measurements\", color=\"red\", alpha=0.5)\n",
    "\n",
    "ax.set(xlabel=\"x-position\", ylabel=\"y-position\")\n",
    "# plt.legend()\n",
    "plt.show()"
   ]
  },
  {
   "cell_type": "markdown",
   "id": "0f2a0b37-5e07-4b9f-97a1-691a388d00af",
   "metadata": {},
   "source": [
    "### MCMC"
   ]
  },
  {
   "cell_type": "code",
   "execution_count": null,
   "id": "469d34d6-216b-42e3-bc8a-799c50c8c005",
   "metadata": {},
   "outputs": [],
   "source": [
    "kf_model = init_kf_model(trans_mat, emiss_mat, prior_dist, time_steps)\n",
    "\n",
    "# Inference\n",
    "kernel = infer.NUTS(kf_model)\n",
    "num_warmup = 100\n",
    "num_mcmc_samples = 200\n",
    "mcmc = infer.MCMC(kernel, num_warmup=num_warmup, num_samples=num_mcmc_samples)"
   ]
  },
  {
   "cell_type": "code",
   "execution_count": null,
   "id": "d76ac1af-af22-444a-abe7-febe365dce6c",
   "metadata": {},
   "outputs": [],
   "source": [
    "mcmc.run(rng_key_infer, z_true[:, :2])"
   ]
  },
  {
   "cell_type": "code",
   "execution_count": null,
   "id": "a3e9113c-6666-4622-8ae2-8681abc0a3d3",
   "metadata": {},
   "outputs": [],
   "source": [
    "# mcmc.print_summary()"
   ]
  },
  {
   "cell_type": "code",
   "execution_count": null,
   "id": "2ccd0cd0-2f39-47c0-be73-14eae2da3a61",
   "metadata": {},
   "outputs": [],
   "source": [
    "posterior_samples = mcmc.get_samples()"
   ]
  },
  {
   "cell_type": "code",
   "execution_count": null,
   "id": "8ea071ca-fd30-4377-9724-e3ec1c0e2630",
   "metadata": {},
   "outputs": [],
   "source": [
    "plt.figure()\n",
    "\n",
    "plt.hist(posterior_samples[\"emiss_noise\"], bins=25)\n",
    "\n",
    "plt.show()"
   ]
  },
  {
   "cell_type": "code",
   "execution_count": null,
   "id": "b8831103-48b7-49b3-9ca1-5e5d83d227e8",
   "metadata": {},
   "outputs": [],
   "source": [
    "plt.figure()\n",
    "\n",
    "plt.hist(posterior_samples[\"trans_noise\"], bins=25)\n",
    "plt.show()"
   ]
  },
  {
   "cell_type": "code",
   "execution_count": null,
   "id": "75ccd8e6-7c0d-435c-b126-44debca9ecc5",
   "metadata": {},
   "outputs": [],
   "source": [
    "rng_key_posterior = jax.random.PRNGKey(777)\n",
    "\n",
    "# Posterior prediction\n",
    "predictive = infer.Predictive(\n",
    "    kf_model, posterior_samples=posterior_samples, return_sites=[\"x\", \"z\"]\n",
    ")\n",
    "posterior_predictive = predictive(rng_key_posterior, x_true)"
   ]
  },
  {
   "cell_type": "code",
   "execution_count": null,
   "id": "4363d5c7-8844-43b4-a334-e5bc7cf5712b",
   "metadata": {},
   "outputs": [],
   "source": [
    "z_pred = posterior_predictive[\"z\"]\n",
    "x_pred = posterior_predictive[\"x\"]"
   ]
  },
  {
   "cell_type": "code",
   "execution_count": null,
   "id": "56573b7b-5fcd-45ab-89e0-b778c077eef0",
   "metadata": {},
   "outputs": [],
   "source": [
    "z_pred = posterior_predictive[\"z\"]\n",
    "z_lb, z_mu, z_ub = jnp.quantile(x_pred, jnp.array([0.05, 0.5, 0.95]), axis=0)"
   ]
  },
  {
   "cell_type": "code",
   "execution_count": null,
   "id": "e8443a81-b35f-443a-9a73-400a8af7361d",
   "metadata": {},
   "outputs": [],
   "source": [
    "fig, ax = plt.subplots()\n",
    "\n",
    "ax.plot(z_true[..., 0], z_true[..., 1], color=\"black\", label=\"True State\")\n",
    "ax.plot(\n",
    "    z_mu[..., 0], z_mu[..., 1], color=\"blue\", label=\"Predicted State\", linestyle=\"--\"\n",
    ")\n",
    "\n",
    "# ax.plot(x_s[..., 0], x_s[..., 1], color=\"tab:red\", linestyle=\"--\", label=\"Noisy Latent\")\n",
    "ax.scatter(x_true[..., 0], x_true[..., 1], label=\"Measurements\", color=\"red\", alpha=0.5)\n",
    "\n",
    "ax.set(xlabel=\"x-position\", ylabel=\"y-position\")\n",
    "# plt.legend()\n",
    "plt.show()"
   ]
  },
  {
   "cell_type": "code",
   "execution_count": null,
   "id": "903c2bd1-785d-42ad-8d57-9f2588ca4751",
   "metadata": {},
   "outputs": [],
   "source": []
  },
  {
   "cell_type": "code",
   "execution_count": null,
   "id": "15251252-ec2c-4157-94ad-68ae9a79156d",
   "metadata": {},
   "outputs": [],
   "source": []
  },
  {
   "cell_type": "code",
   "execution_count": null,
   "id": "3ba40e82-e55b-4769-9474-7b4738edccce",
   "metadata": {},
   "outputs": [],
   "source": []
  },
  {
   "cell_type": "code",
   "execution_count": null,
   "id": "8f5241e2-b0f8-4009-bd61-d688af7b1d84",
   "metadata": {},
   "outputs": [],
   "source": [
    "%%time\n",
    "from numpyro import diagnostics, infer, optim\n",
    "from numpyro.infer.autoguide import AutoDelta\n",
    "\n",
    "# optimizers\n",
    "rng_key_infer = jax.random.PRNGKey(666)\n",
    "lr = 1e-2\n",
    "adam = optim.Adam(lr)\n",
    "\n",
    "kf_model = init_kf_model(trans_mat, emiss_mat, prior_dist, time_steps)\n",
    "\n",
    "guide = AutoDelta(kf_model)\n",
    "# def guide(x, time_steps=30):\n",
    "#     return None\n",
    "\n",
    "n_epochs = 100\n",
    "\n",
    "# Inference\n",
    "svi = infer.SVI(kf_model, guide, adam, infer.Trace_ELBO())\n",
    "# svi_result = svi.run(rng_key_infer, n_epochs, x)\n",
    "\n",
    "# svi_result.params"
   ]
  },
  {
   "cell_type": "code",
   "execution_count": null,
   "id": "62989722-31a2-4885-a321-b9fdd4c2370c",
   "metadata": {},
   "outputs": [],
   "source": []
  },
  {
   "cell_type": "code",
   "execution_count": null,
   "id": "dcb4a216-4710-40fa-b572-08bf291aae15",
   "metadata": {},
   "outputs": [],
   "source": []
  },
  {
   "cell_type": "markdown",
   "id": "7ff734b9-c476-4d80-b085-314d9ec8f9ba",
   "metadata": {},
   "source": [
    "### Numpyro - Distributions (Deterministic) Everywhere"
   ]
  },
  {
   "cell_type": "code",
   "execution_count": null,
   "id": "d8bcb433-c4e4-4358-b768-45d72b332b79",
   "metadata": {},
   "outputs": [],
   "source": [
    "def simulated_kalman_filter(\n",
    "    trans_mat: jnp.ndarray,\n",
    "    trans_noise_cov: jnp.ndarray,\n",
    "    emiss_mat: jnp.ndarray,\n",
    "    emiss_noise_cov: jnp.ndarray,\n",
    "    mu0: jnp.ndarray,\n",
    "    Sigma0: jnp.ndarray,\n",
    "    time_steps: int = 100,\n",
    "    x_obs: jnp.ndarray = None,\n",
    "    x_obs_mask: jnp.ndarray = None,\n",
    "):\n",
    "    if x_obs is not None:\n",
    "        time_steps, n_dims = x_obs.shape\n",
    "\n",
    "    # Transition Functions\n",
    "    trans_mat = numpyro.deterministic(\"trans_mat\", trans_mat)\n",
    "    trans_noise_cov = numpyro.deterministic(\"trans_noise_cov\", trans_mat)\n",
    "\n",
    "    # Emission Functions\n",
    "    emiss_mat = numpyro.deterministic(\"emiss_mat\", trans_mat)\n",
    "    emiss_noise_cov = numpyro.deterministic(\"emiss_noise_cov\", trans_mat)\n",
    "\n",
    "    # ==================\n",
    "    # sample from prior\n",
    "    # ==================\n",
    "    prior_dist = dist.MultivariateNormal(mu0, Sigma0)\n",
    "\n",
    "    z0 = numpyro.sample(\"z0\", prior_dist)\n",
    "\n",
    "    # Model\n",
    "    def body(z_prev, x_prev):\n",
    "        x_prev, x_prev_mask = x_prev\n",
    "\n",
    "        # transition\n",
    "        z = numpyro.sample(\n",
    "            \"z\",\n",
    "            dist.MultivariateNormal(\n",
    "                loc=jnp.dot(trans_mat, z_prev), covariance_matrix=trans_noise_cov\n",
    "            ),\n",
    "        )\n",
    "\n",
    "        # sample noise\n",
    "        if x_obs_mask is not None:\n",
    "            print(x_prev.shape, x_prev_mask.shape)\n",
    "            with numpyro.handlers.mask(mask=x_prev_mask):\n",
    "\n",
    "                x = numpyro.sample(\n",
    "                    \"x\",\n",
    "                    dist.MultivariateNormal(\n",
    "                        loc=jnp.dot(emiss_mat, z), covariance_matrix=emiss_noise_cov\n",
    "                    ),\n",
    "                    obs=x_prev,\n",
    "                    obs_mask=None,\n",
    "                )\n",
    "\n",
    "        else:\n",
    "            x = numpyro.sample(\n",
    "                \"x\",\n",
    "                dist.MultivariateNormal(\n",
    "                    loc=jnp.dot(emiss_mat, z), covariance_matrix=emiss_noise_cov\n",
    "                ),\n",
    "                obs=x_prev,\n",
    "                obs_mask=None,\n",
    "            )\n",
    "\n",
    "        return z, (z, x)\n",
    "\n",
    "    _, (z, x) = scan(f=body, init=(z0), xs=(x_obs, x_obs_mask), length=time_steps)\n",
    "\n",
    "    return z, x"
   ]
  },
  {
   "cell_type": "markdown",
   "id": "581e5ad2-20eb-48f6-ad55-e3e71452daef",
   "metadata": {},
   "source": [
    "#### Samples (Propagated)"
   ]
  },
  {
   "cell_type": "code",
   "execution_count": null,
   "id": "cd6c1d6c-7b86-4b03-affa-f2f0e6cce22f",
   "metadata": {},
   "outputs": [],
   "source": [
    "time_steps = 80\n",
    "\n",
    "with numpyro.handlers.seed(rng_seed=42):\n",
    "    z_s, x_s = simulated_kalman_filter(\n",
    "        trans_mat=trans_mat,\n",
    "        trans_noise_cov=trans_noise_mat,\n",
    "        emiss_mat=emiss_mat,\n",
    "        emiss_noise_cov=emiss_noise_mat,\n",
    "        mu0=mu0,\n",
    "        Sigma0=Sigma0,\n",
    "        time_steps=time_steps,\n",
    "        x_obs=None,\n",
    "    )\n",
    "\n",
    "print(z_s.shape, x_s.shape)"
   ]
  },
  {
   "cell_type": "code",
   "execution_count": null,
   "id": "f707fe15-0987-4a3d-8e4b-231c303b7494",
   "metadata": {},
   "outputs": [],
   "source": [
    "fig, ax = plt.subplots()\n",
    "\n",
    "ax.plot(z_s[..., 0], z_s[..., 1], color=\"black\", label=\"True State\")\n",
    "# ax.plot(x_s[..., 0], x_s[..., 1], color=\"tab:red\", linestyle=\"--\", label=\"Noisy Latent\")\n",
    "ax.scatter(x_s[..., 0], x_s[..., 1], label=\"Measurements\", color=\"red\", alpha=0.5)\n",
    "\n",
    "ax.set(xlabel=\"x-position\", ylabel=\"y-position\")\n",
    "plt.legend()\n",
    "plt.show()"
   ]
  },
  {
   "cell_type": "code",
   "execution_count": null,
   "id": "5f385eec-3b9e-41b1-bae7-bcdd661f6df1",
   "metadata": {},
   "outputs": [],
   "source": [
    "time_steps = 80\n",
    "x_obs_mask = np.ones_like(x_s, dtype=bool)\n",
    "x_obs_mask[::2] = False\n",
    "x_obs_mask = jnp.asarray(x_obs_mask, dtype=bool)\n",
    "\n",
    "with numpyro.handlers.seed(rng_seed=42):\n",
    "    z_s_, x_s_ = simulated_kalman_filter(\n",
    "        trans_mat=trans_mat,\n",
    "        trans_noise_cov=trans_noise_mat,\n",
    "        emiss_mat=emiss_mat,\n",
    "        emiss_noise_cov=emiss_noise_mat,\n",
    "        mu0=mu0,\n",
    "        Sigma0=Sigma0,\n",
    "        time_steps=time_steps,\n",
    "        x_obs=x_s,\n",
    "        x_obs_mask=x_obs_mask,\n",
    "    )\n",
    "\n",
    "print(z_s_.shape, x_s_.shape)"
   ]
  },
  {
   "cell_type": "code",
   "execution_count": null,
   "id": "0c00dc69-5af6-4596-84dc-a23bc3ffaa5a",
   "metadata": {},
   "outputs": [],
   "source": [
    "np.testing.assert_array_almost_equal(x_s, x_s_)"
   ]
  },
  {
   "cell_type": "code",
   "execution_count": null,
   "id": "309c02ea-4c48-4938-b4dd-280851c5ef9e",
   "metadata": {},
   "outputs": [],
   "source": [
    "fig, ax = plt.subplots()\n",
    "\n",
    "ax.plot(z_s_[..., 0], z_s_[..., 1], color=\"black\", label=\"True State\")\n",
    "# ax.plot(x_s[..., 0], x_s[..., 1], color=\"tab:red\", linestyle=\"--\", label=\"Noisy Latent\")\n",
    "ax.scatter(x_s_[..., 0], x_s_[..., 1], label=\"Measurements\", color=\"red\", alpha=0.5)\n",
    "\n",
    "ax.set(xlabel=\"x-position\", ylabel=\"y-position\")\n",
    "plt.legend()\n",
    "plt.show()"
   ]
  },
  {
   "cell_type": "code",
   "execution_count": null,
   "id": "9cfb38f1-b666-42f1-be01-453cdeea17f0",
   "metadata": {},
   "outputs": [],
   "source": []
  },
  {
   "cell_type": "code",
   "execution_count": null,
   "id": "151e6420-b748-4805-91dd-4e21f44ee508",
   "metadata": {},
   "outputs": [],
   "source": [
    "num_samples = 5\n",
    "rng_key_prior = jax.random.PRNGKey(123)\n",
    "\n",
    "# prior\n",
    "predictive = infer.Predictive(simulated_kalman_filter, num_samples=num_samples)\n",
    "prior_samples = predictive(\n",
    "    rng_key_prior,\n",
    "    trans_mat=trans_mat,\n",
    "    trans_noise_cov=trans_noise_mat,\n",
    "    emiss_mat=emiss_mat,\n",
    "    emiss_noise_cov=emiss_noise_mat,\n",
    "    mu0=mu0,\n",
    "    Sigma0=Sigma0,\n",
    "    time_steps=time_steps,\n",
    "    x_obs=None,\n",
    ")\n",
    "\n",
    "z_s = prior_samples[\"z\"]\n",
    "x_s = prior_samples[\"x\"]"
   ]
  },
  {
   "cell_type": "code",
   "execution_count": null,
   "id": "1d7ee2db-8b5c-4822-9c2a-bc241fb2347f",
   "metadata": {},
   "outputs": [],
   "source": [
    "fig, ax = plt.subplots()\n",
    "\n",
    "for i in range(num_samples):\n",
    "    ax.plot(z_s[i, ..., 0], z_s[i, ..., 1], color=\"black\", label=\"True State\")\n",
    "    # ax.plot(x_s[..., 0], x_s[..., 1], color=\"tab:red\", linestyle=\"--\", label=\"Noisy Latent\")\n",
    "    ax.scatter(\n",
    "        x_s[i, ..., 0], x_s[i, ..., 1], label=\"Measurements\", color=\"red\", alpha=0.5\n",
    "    )\n",
    "\n",
    "ax.set(xlabel=\"x-position\", ylabel=\"y-position\")\n",
    "# plt.legend()\n",
    "plt.show()"
   ]
  },
  {
   "cell_type": "markdown",
   "id": "07aa6ed1-1b21-4045-8125-5520b5967b80",
   "metadata": {},
   "source": [
    "## Multivariate"
   ]
  },
  {
   "cell_type": "code",
   "execution_count": null,
   "id": "f4fc970a-75ae-4fb3-9752-841e0a92babf",
   "metadata": {},
   "outputs": [],
   "source": [
    "fn_vdot = lambda mat, x: jax.vmap(jnp.dot, in_axes=(None, 0))(mat, x)\n",
    "\n",
    "\n",
    "def simulated_kalman_filter(\n",
    "    trans_mat: jnp.ndarray,\n",
    "    trans_noise_cov: jnp.ndarray,\n",
    "    emiss_mat: jnp.ndarray,\n",
    "    emiss_noise_cov: jnp.ndarray,\n",
    "    mu0: jnp.ndarray,\n",
    "    Sigma0: jnp.ndarray,\n",
    "    time_steps: int = 100,\n",
    "    x_obs: jnp.ndarray = None,\n",
    "    n_batch: int = 1,\n",
    "):\n",
    "    if x_obs is not None:\n",
    "        n_batch, time_steps, n_dims = x_obs.shape\n",
    "\n",
    "    # Transition Functions\n",
    "    trans_mat = numpyro.deterministic(\"trans_mat\", trans_mat)\n",
    "    trans_noise_cov = numpyro.deterministic(\"trans_noise_cov\", trans_noise_cov)\n",
    "\n",
    "    # Emission Functions\n",
    "    emiss_mat = numpyro.deterministic(\"emiss_mat\", emiss_mat)\n",
    "    emiss_noise_cov = numpyro.deterministic(\"emiss_noise_cov\", emiss_noise_cov)\n",
    "\n",
    "    # ==================\n",
    "    # sample from prior\n",
    "    # ==================\n",
    "    prior_dist = dist.MultivariateNormal(mu0, Sigma0)\n",
    "\n",
    "    with numpyro.plate(\"batch\", n_batch):\n",
    "        z0 = numpyro.sample(\"z0\", prior_dist)\n",
    "        print(z0.shape)\n",
    "\n",
    "    # Model\n",
    "    def body(z_prev, x_prev):\n",
    "        # transition\n",
    "\n",
    "        print(\"z Before:\", z_prev.shape)\n",
    "        with numpyro.plate(\"batch\", n_batch):\n",
    "            print(\"z Before (Batched):\", z_prev.shape)\n",
    "            # TRANSITION DYNAMICS\n",
    "\n",
    "            # vectorize multiplication\n",
    "            print(trans_mat.shape, z_prev.shape)\n",
    "            z = fn_vdot(trans_mat, z_prev)\n",
    "            print(\"z After Mul:\", z.shape)\n",
    "            # sample\n",
    "            z = numpyro.sample(\n",
    "                \"z\", dist.MultivariateNormal(loc=z, covariance_matrix=trans_noise_cov)\n",
    "            )\n",
    "            print(\"z After Sample:\", z.shape)\n",
    "            # EMISSION DYNAMICS\n",
    "\n",
    "            # vectorize multiplication\n",
    "            print(emiss_mat.shape, z.shape)\n",
    "            x = fn_vdot(emiss_mat, z)\n",
    "            print(\"x After Mul:\", x.shape)\n",
    "            # sample\n",
    "            x = numpyro.sample(\n",
    "                \"x\",\n",
    "                dist.MultivariateNormal(loc=x, covariance_matrix=emiss_noise_cov),\n",
    "                obs=x_prev,\n",
    "            )\n",
    "            print(\"x After Sample:\", x.shape)\n",
    "\n",
    "        return z, (z, x)\n",
    "\n",
    "    if x_obs is not None:\n",
    "        x_obs = jnp.swapaxes(x_obs, 0, 1)\n",
    "\n",
    "    # if x_obs_mask is not None:\n",
    "    #     x_obs_mask = jnp.swapaxes(x_obs_mask, 0, 1)\n",
    "\n",
    "    _, (z, x) = scan(f=body, init=(z0), xs=(x_obs), length=time_steps)\n",
    "\n",
    "    return z.squeeze(), x.squeeze()"
   ]
  },
  {
   "cell_type": "code",
   "execution_count": null,
   "id": "96a35a72-7876-4911-bfee-1ed994c19973",
   "metadata": {},
   "outputs": [],
   "source": [
    "time_steps = 80\n",
    "n_batch = 5\n",
    "\n",
    "with numpyro.handlers.seed(rng_seed=42):\n",
    "    z_s, x_s = simulated_kalman_filter(\n",
    "        trans_mat=trans_mat,\n",
    "        trans_noise_cov=trans_noise_mat,\n",
    "        emiss_mat=emiss_mat,\n",
    "        emiss_noise_cov=emiss_noise_mat,\n",
    "        mu0=mu0,\n",
    "        Sigma0=Sigma0,\n",
    "        time_steps=time_steps,\n",
    "        x_obs=None,\n",
    "        n_batch=n_batch,\n",
    "    )\n",
    "\n",
    "print(z_s.shape, x_s.shape)"
   ]
  },
  {
   "cell_type": "code",
   "execution_count": null,
   "id": "e92dcf1f-64eb-4c79-995b-362e94f0a967",
   "metadata": {},
   "outputs": [],
   "source": [
    "time_steps = 80\n",
    "n_batch = 5\n",
    "x_obs_init = jnp.swapaxes(x_s, 0, 1)\n",
    "x_obs_mask = jnp.ones(x_obs_init.shape[1:]).astype(bool)\n",
    "x_obs_mask = x_obs_mask.at[..., 1].set(False)\n",
    "print(x_obs_init.shape, x_obs_mask.shape)\n",
    "with numpyro.handlers.seed(rng_seed=42):\n",
    "    z_s, x_s_ = simulated_kalman_filter(\n",
    "        trans_mat=trans_mat,\n",
    "        trans_noise_cov=trans_noise_mat,\n",
    "        emiss_mat=emiss_mat,\n",
    "        emiss_noise_cov=emiss_noise_mat,\n",
    "        mu0=mu0,\n",
    "        Sigma0=Sigma0,\n",
    "        time_steps=time_steps,\n",
    "        x_obs=x_obs_init,\n",
    "        n_batch=n_batch,\n",
    "    )\n",
    "\n",
    "print(z_s.shape, x_s_.shape)"
   ]
  },
  {
   "cell_type": "code",
   "execution_count": null,
   "id": "75257fce-d066-49d3-91a1-d54d50e81d89",
   "metadata": {},
   "outputs": [],
   "source": [
    "np.testing.assert_array_almost_equal(x_s, x_s_)"
   ]
  },
  {
   "cell_type": "code",
   "execution_count": null,
   "id": "9e5096d6-5006-4465-8f22-901dc0319d31",
   "metadata": {},
   "outputs": [],
   "source": [
    "num_samples = 5\n",
    "rng_key_prior = jax.random.PRNGKey(123)\n",
    "n_batch = 1\n",
    "\n",
    "# prior\n",
    "predictive = infer.Predictive(simulated_kalman_filter, num_samples=num_samples)\n",
    "prior_samples = predictive(\n",
    "    rng_key_prior,\n",
    "    trans_mat=trans_mat,\n",
    "    trans_noise_cov=trans_noise_mat,\n",
    "    emiss_mat=emiss_mat,\n",
    "    emiss_noise_cov=emiss_noise_mat,\n",
    "    mu0=mu0,\n",
    "    Sigma0=Sigma0,\n",
    "    time_steps=time_steps,\n",
    "    x_obs=None,\n",
    "    n_batch=n_batch,\n",
    ")\n",
    "\n",
    "z_s = prior_samples[\"z\"]\n",
    "x_s = prior_samples[\"x\"]"
   ]
  },
  {
   "cell_type": "code",
   "execution_count": null,
   "id": "ff07df3b-2515-46c6-90b3-f40675e15d11",
   "metadata": {},
   "outputs": [],
   "source": [
    "z_s.shape"
   ]
  },
  {
   "cell_type": "markdown",
   "id": "76adc20c-574f-42cb-ada7-967d56063ac7",
   "metadata": {},
   "source": [
    "### Numpyro - Introducing Masks"
   ]
  },
  {
   "cell_type": "code",
   "execution_count": null,
   "id": "933b282c-6994-4d4c-93d0-f7bf6845cd42",
   "metadata": {},
   "outputs": [],
   "source": [
    "fn_vdot = lambda mat, x: jax.vmap(jnp.dot, in_axes=(None, 0))(mat, x)\n",
    "\n",
    "\n",
    "def simulated_kalman_filter(\n",
    "    trans_mat: jnp.ndarray,\n",
    "    trans_noise_cov: jnp.ndarray,\n",
    "    emiss_mat: jnp.ndarray,\n",
    "    emiss_noise_cov: jnp.ndarray,\n",
    "    mu0: jnp.ndarray,\n",
    "    Sigma0: jnp.ndarray,\n",
    "    time_steps: int = 100,\n",
    "    x_obs: jnp.ndarray = None,\n",
    "    x_obs_mask: jnp.ndarray = None,\n",
    "    n_batch: int = 1,\n",
    "):\n",
    "    if x_obs is not None:\n",
    "        n_batch, time_steps, n_dims = x_obs.shape\n",
    "\n",
    "    # Transition Functions\n",
    "    trans_mat = numpyro.deterministic(\"trans_mat\", trans_mat)\n",
    "    trans_noise_cov = numpyro.deterministic(\"trans_noise_cov\", trans_noise_cov)\n",
    "\n",
    "    # Emission Functions\n",
    "    emiss_mat = numpyro.deterministic(\"emiss_mat\", emiss_mat)\n",
    "    emiss_noise_cov = numpyro.deterministic(\"emiss_noise_cov\", emiss_noise_cov)\n",
    "\n",
    "    # ==================\n",
    "    # sample from prior\n",
    "    # ==================\n",
    "    prior_dist = dist.MultivariateNormal(mu0, Sigma0)\n",
    "\n",
    "    with numpyro.plate(\"batch\", n_batch):\n",
    "        z0 = numpyro.sample(\"z0\", prior_dist)\n",
    "        print(z0.shape)\n",
    "\n",
    "    # Model\n",
    "    def body(z_prev, x_prev):\n",
    "        x_prev, x_prev_mask = x_prev\n",
    "        # transition\n",
    "        try:\n",
    "            print(\"x Before:\", x_prev.shape, x_prev_mask.shape)\n",
    "\n",
    "        except AttributeError:\n",
    "            pass\n",
    "        print(\"z Before:\", z_prev.shape)\n",
    "        with numpyro.plate(\"batch\", n_batch, subsample_size=None):\n",
    "            print(\"z Before (Batched):\", z_prev.shape)\n",
    "            # TRANSITION DYNAMICS\n",
    "\n",
    "            # vectorize multiplication\n",
    "            print(trans_mat.shape, z_prev.shape)\n",
    "            z = fn_vdot(trans_mat, z_prev)\n",
    "            print(\"z After Mul (Batch x Dim):\", z.shape)\n",
    "            # sample\n",
    "            z = numpyro.sample(\n",
    "                \"z\", dist.MultivariateNormal(loc=z, covariance_matrix=trans_noise_cov)\n",
    "            )\n",
    "            print(\"z After Sample (Batch x Dim):\", z.shape)\n",
    "            # EMISSION DYNAMICS\n",
    "\n",
    "            # vectorize multiplication\n",
    "            print(emiss_mat.shape, z.shape)\n",
    "            x = fn_vdot(emiss_mat, z)\n",
    "            print(\"x After Mul:\", x.shape)\n",
    "            # print(\"masks:\", x.shape, x_prev.shape, x_prev_mask.shape)\n",
    "            if x_prev_mask is not None:\n",
    "                print(\"MASKING!\")\n",
    "                x_prev_mask = x_prev_mask\n",
    "                print(\n",
    "                    \"obs (Batch x Dim):\",\n",
    "                    x_prev.shape,\n",
    "                    \"| mask (Dim):\",\n",
    "                    x_prev_mask.shape,\n",
    "                )\n",
    "                x = numpyro.sample(\n",
    "                    \"x\",\n",
    "                    dist.MultivariateNormal(\n",
    "                        loc=x, covariance_matrix=emiss_noise_cov\n",
    "                    ).mask(x_prev_mask),\n",
    "                    obs=x_prev,\n",
    "                )\n",
    "            #     with numpyro.handlers.mask(mask=x_prev_mask.T):\n",
    "            # # sample\n",
    "            #         x = numpyro.sample(\"x\", dist.MultivariateNormal(loc=x, covariance_matrix=emiss_noise_cov), obs=x_prev)\n",
    "            else:\n",
    "                x = numpyro.sample(\n",
    "                    \"x\",\n",
    "                    dist.MultivariateNormal(loc=x, covariance_matrix=emiss_noise_cov),\n",
    "                    obs=x_prev,\n",
    "                    obs_mask=x_prev_mask,\n",
    "                )\n",
    "            print(\"x After Sample:\", x.shape)\n",
    "\n",
    "        return z, (z, x)\n",
    "\n",
    "    if x_obs is not None:\n",
    "        x_obs = jnp.swapaxes(x_obs, 0, 1)\n",
    "\n",
    "    # if x_obs_mask is not None:\n",
    "    #     x_obs_mask = jnp.swapaxes(x_obs_mask, 0, 1)\n",
    "\n",
    "    _, (z, x) = scan(f=body, init=(z0), xs=(x_obs, x_obs_mask), length=time_steps)\n",
    "\n",
    "    return z, x"
   ]
  },
  {
   "cell_type": "code",
   "execution_count": null,
   "id": "daf8b577-7b40-4cc6-94ed-9db56c31c6b0",
   "metadata": {},
   "outputs": [],
   "source": [
    "from einops import repeat"
   ]
  },
  {
   "cell_type": "code",
   "execution_count": null,
   "id": "92e754e8-8781-496e-98b8-f8b69be83874",
   "metadata": {},
   "outputs": [],
   "source": [
    "time_steps = 80\n",
    "n_batch = 5\n",
    "\n",
    "with numpyro.handlers.seed(rng_seed=42):\n",
    "    z_s, x_s = simulated_kalman_filter(\n",
    "        trans_mat=trans_mat,\n",
    "        trans_noise_cov=trans_noise_mat,\n",
    "        emiss_mat=emiss_mat,\n",
    "        emiss_noise_cov=emiss_noise_mat,\n",
    "        mu0=mu0,\n",
    "        Sigma0=Sigma0,\n",
    "        time_steps=time_steps,\n",
    "        x_obs=None,\n",
    "        n_batch=n_batch,\n",
    "    )\n",
    "\n",
    "print(z_s.shape, x_s.shape)"
   ]
  },
  {
   "cell_type": "code",
   "execution_count": null,
   "id": "9d496430-0487-4fce-8d8a-886e8ba6089a",
   "metadata": {},
   "outputs": [],
   "source": [
    "fig, ax = plt.subplots()\n",
    "\n",
    "for i in range(num_samples):\n",
    "    ax.plot(z_s[..., i, 0], z_s[..., i, 1], color=\"black\", label=\"True State\")\n",
    "    # ax.plot(x_s[..., 0], x_s[..., 1], color=\"tab:red\", linestyle=\"--\", label=\"Noisy Latent\")\n",
    "    ax.scatter(\n",
    "        x_s[..., i, 0], x_s[..., i, 1], label=\"Measurements\", color=\"red\", alpha=0.5\n",
    "    )\n",
    "\n",
    "ax.set(xlabel=\"x-position\", ylabel=\"y-position\")\n",
    "# plt.legend()\n",
    "plt.show()"
   ]
  },
  {
   "cell_type": "code",
   "execution_count": null,
   "id": "6b363100-1f10-41cc-a7b8-3731e2ca5ee5",
   "metadata": {},
   "outputs": [],
   "source": [
    "time_steps = 80\n",
    "n_batch = 5\n",
    "x_obs_init = jnp.swapaxes(x_s, 0, 1)\n",
    "x_obs_mask = jnp.ones(x_obs_init.shape, dtype=bool)\n",
    "x_obs_mask = x_obs_mask.at[..., 1].set(False)\n",
    "print(\"obs:\", x_obs_init.shape, \"| mask:\", x_obs_mask.shape)\n",
    "with numpyro.handlers.seed(rng_seed=42):\n",
    "    z_s_, x_s_ = simulated_kalman_filter(\n",
    "        trans_mat=trans_mat,\n",
    "        trans_noise_cov=trans_noise_mat,\n",
    "        emiss_mat=emiss_mat,\n",
    "        emiss_noise_cov=emiss_noise_mat,\n",
    "        mu0=mu0,\n",
    "        Sigma0=Sigma0,\n",
    "        time_steps=time_steps,\n",
    "        x_obs=x_obs_init,\n",
    "        x_obs_mask=None,\n",
    "        n_batch=n_batch,\n",
    "    )\n",
    "\n",
    "print(z_s_.shape, x_s_.shape)"
   ]
  },
  {
   "cell_type": "code",
   "execution_count": null,
   "id": "8238bf7b-5ff5-4bac-83d6-a93f081fbf8b",
   "metadata": {},
   "outputs": [],
   "source": [
    "fig, ax = plt.subplots()\n",
    "\n",
    "for i in range(num_samples):\n",
    "    ax.plot(z_s_[..., i, 0], z_s_[..., i, 1], color=\"black\", label=\"True State\")\n",
    "    # ax.plot(x_s[..., 0], x_s[..., 1], color=\"tab:red\", linestyle=\"--\", label=\"Noisy Latent\")\n",
    "    ax.scatter(\n",
    "        x_s_[..., i, 0], x_s_[..., i, 1], label=\"Measurements\", color=\"red\", alpha=0.5\n",
    "    )\n",
    "\n",
    "ax.set(xlabel=\"x-position\", ylabel=\"y-position\")\n",
    "# plt.legend()\n",
    "plt.show()"
   ]
  },
  {
   "cell_type": "code",
   "execution_count": null,
   "id": "0b3263d4-3819-45eb-88db-b0f4b158cc84",
   "metadata": {},
   "outputs": [],
   "source": [
    "time_steps = 80\n",
    "n_batch = 5\n",
    "x_obs_init = jnp.swapaxes(x_s, 0, 1)\n",
    "x_obs_mask = jnp.ones(x_obs_init.shape[1:], dtype=bool)\n",
    "x_obs_mask = x_obs_mask.at[..., 1].set(False)\n",
    "print(\"obs:\", x_obs_init.shape, \"| mask:\", x_obs_mask.shape)\n",
    "with numpyro.handlers.seed(rng_seed=42):\n",
    "    z_s_, x_s_ = simulated_kalman_filter(\n",
    "        trans_mat=trans_mat,\n",
    "        trans_noise_cov=trans_noise_mat,\n",
    "        emiss_mat=emiss_mat,\n",
    "        emiss_noise_cov=emiss_noise_mat,\n",
    "        mu0=mu0,\n",
    "        Sigma0=Sigma0,\n",
    "        time_steps=time_steps,\n",
    "        x_obs=x_obs_init,\n",
    "        x_obs_mask=x_obs_mask,\n",
    "        n_batch=n_batch,\n",
    "    )\n",
    "\n",
    "print(z_s_.shape, x_s_.shape)"
   ]
  },
  {
   "cell_type": "code",
   "execution_count": null,
   "id": "b2bf9ad3-550f-4696-9073-e89e8f71d8ff",
   "metadata": {},
   "outputs": [],
   "source": [
    "fig, ax = plt.subplots()\n",
    "\n",
    "for i in range(num_samples):\n",
    "    ax.plot(z_s_[..., i, 0], z_s_[..., i, 1], color=\"black\", label=\"True State\")\n",
    "    # ax.plot(x_s[..., 0], x_s[..., 1], color=\"tab:red\", linestyle=\"--\", label=\"Noisy Latent\")\n",
    "    ax.scatter(\n",
    "        x_s_[..., i, 0], x_s_[..., i, 1], label=\"Measurements\", color=\"red\", alpha=0.5\n",
    "    )\n",
    "\n",
    "ax.set(xlabel=\"x-position\", ylabel=\"y-position\")\n",
    "# plt.legend()\n",
    "plt.show()"
   ]
  },
  {
   "cell_type": "code",
   "execution_count": null,
   "id": "04db890b-867b-4243-a595-1e7c3d2236a8",
   "metadata": {},
   "outputs": [],
   "source": [
    "mask = np.array([False, True, True, False])\n",
    "data = np.full((4, 3), 7.0)\n",
    "\n",
    "\n",
    "def model():\n",
    "    x = numpyro.sample(\"x\", dist.MultivariateNormal(np.zeros(3), np.eye(3)))\n",
    "    print(x.shape)\n",
    "    with numpyro.plate(\"plate\", len(data)):\n",
    "        print(len(data), x.shape, data.shape, mask.shape)\n",
    "        y = numpyro.sample(\n",
    "            \"y\", dist.MultivariateNormal(x, np.eye(3)), obs=data, obs_mask=mask\n",
    "        )\n",
    "    return x, y"
   ]
  },
  {
   "cell_type": "code",
   "execution_count": null,
   "id": "346bc483-0288-41df-b9d4-d3749d669e65",
   "metadata": {},
   "outputs": [],
   "source": [
    "with numpyro.handlers.seed(rng_seed=42):\n",
    "    x, y = model()\n",
    "x.shape, y.shape"
   ]
  },
  {
   "cell_type": "code",
   "execution_count": null,
   "id": "581ce359-f56f-43f2-8ee3-56514f5e890d",
   "metadata": {},
   "outputs": [],
   "source": []
  },
  {
   "cell_type": "code",
   "execution_count": null,
   "id": "9d3cdb99-043e-46e2-aa5a-cb7677d9d993",
   "metadata": {},
   "outputs": [],
   "source": [
    "mask.shape, data.shape"
   ]
  },
  {
   "cell_type": "code",
   "execution_count": null,
   "id": "f3b72f2b-8ce3-43c9-a718-f1c675d78f43",
   "metadata": {},
   "outputs": [],
   "source": []
  },
  {
   "cell_type": "code",
   "execution_count": null,
   "id": "1423beb9-01eb-464b-87a7-e8582a2f8f02",
   "metadata": {},
   "outputs": [],
   "source": [
    "mask_last = 1  # \", [1, 5, 10]\n",
    "\n",
    "N = 10\n",
    "mask = np.ones(N, dtype=bool)\n",
    "mask[-mask_last] = 0\n",
    "\n",
    "\n",
    "def model(data, mask):\n",
    "    print(data.shape, mask.shape)\n",
    "    with numpyro.plate(\"N\", N):\n",
    "        x = numpyro.sample(\"x\", dist.Normal(0, 1))\n",
    "        print(x.shape)\n",
    "        with numpyro.handlers.mask(mask=mask):\n",
    "\n",
    "            y = numpyro.sample(\"y\", dist.Delta(x, log_density=1.0))\n",
    "            print(\"mask:\", mask.shape, x.shape, y.shape)\n",
    "            with numpyro.handlers.scale(scale=2):\n",
    "                print(\"scale:\", x.shape, data.shape)\n",
    "                obs = numpyro.sample(\"obs\", dist.Normal(x, 1), obs=data)"
   ]
  },
  {
   "cell_type": "code",
   "execution_count": null,
   "id": "487aac2b-e653-442e-ae06-3f2f70cee453",
   "metadata": {},
   "outputs": [],
   "source": [
    "data = jax.random.normal(jax.random.PRNGKey(0), (N,))\n",
    "x = jax.random.normal(jax.random.PRNGKey(1), (N,))\n",
    "\n",
    "data.shape, x.shape, mask.shape"
   ]
  },
  {
   "cell_type": "code",
   "execution_count": null,
   "id": "2d7c46f3-b0c3-488a-9da9-0c8d8abbee0d",
   "metadata": {},
   "outputs": [],
   "source": [
    "log_joint = numpyro.infer.util.log_density(model, (data, mask), {}, {\"x\": x, \"y\": x})[0]\n",
    "log_joint"
   ]
  },
  {
   "cell_type": "code",
   "execution_count": null,
   "id": "155e8343-720b-47ea-a33e-24605f7861e6",
   "metadata": {},
   "outputs": [],
   "source": [
    "time_steps = 80\n",
    "\n",
    "with numpyro.handlers.seed(rng_seed=42):\n",
    "    z_s, x_s = simulated_kalman_filter(\n",
    "        trans_mat=trans_mat,\n",
    "        trans_noise_cov=trans_noise_mat,\n",
    "        emiss_mat=emiss_mat,\n",
    "        emiss_noise_cov=emiss_noise_mat,\n",
    "        mu0=mu0,\n",
    "        Sigma0=Sigma0,\n",
    "        time_steps=time_steps,\n",
    "        x_obs=None,\n",
    "    )\n",
    "\n",
    "print(z_s.shape, x_s.shape)"
   ]
  },
  {
   "cell_type": "code",
   "execution_count": null,
   "id": "71f0fe25-8ec1-4565-a08b-0405dcbce38c",
   "metadata": {},
   "outputs": [],
   "source": [
    "def simulated_kalman_filter(\n",
    "    trans_mat: jnp.ndarray,\n",
    "    trans_noise: jnp.ndarray,\n",
    "    emiss_mat: jnp.ndarray,\n",
    "    emiss_noise: jnp.ndarray,\n",
    "    prior_dist,\n",
    "    time_steps: int = 100,\n",
    "    x_obs: jnp.ndarray = None,\n",
    "    batch: int = 1,\n",
    "    x_obs_mask: jnp.ndarray = None,\n",
    "):\n",
    "    if x_obs is not None:\n",
    "        batch, time_steps, n_dims = x_obs.shape\n",
    "\n",
    "    # ==================\n",
    "    # sample from prior\n",
    "    # ==================\n",
    "    z0 = numpyro.sample(\"z0\", prior_dist, sample_shape=(batch,))\n",
    "\n",
    "    # Model\n",
    "    def body(z_prev, x_prev):\n",
    "\n",
    "        # transition\n",
    "        noise = numpyro.sample(\"z_noise\", trans_noise)\n",
    "        print(z_prev.shape, trans_mat.shape, noise.shape)\n",
    "        z = jnp.dot(trans_mat, z_prev) + noise\n",
    "        # z = numpyro.sample(\"z\", dist.MultivariateNormal(mu, trans_noise))\n",
    "\n",
    "        # emission\n",
    "        noise = numpyro.sample(\"x_noise\", emiss_noise)\n",
    "        print(z.shape, emiss_mat.shape, noise.shape)\n",
    "        x = jnp.dot(emiss_mat, z) + noise\n",
    "        # x = numpyro.sample(\"x\", dist.MultivariateNormal(mu, emiss_noise), obs=x_prev)\n",
    "\n",
    "        return z, (z, x)\n",
    "\n",
    "    # vmap version\n",
    "    fn = lambda states, x_obs: scan(body, states, x_obs, length=time_steps)\n",
    "\n",
    "    if x_obs is None:\n",
    "        fn_scan = jax.vmap(fn, in_axes=(0, None))\n",
    "    else:\n",
    "        fn_scan = jax.vmap(fn, in_axes=(0, 0))\n",
    "\n",
    "    # Loop through data\n",
    "    _, (z, x) = fn_scan(z0, x_obs)\n",
    "\n",
    "    return z, x"
   ]
  },
  {
   "cell_type": "code",
   "execution_count": null,
   "id": "548712c4-7643-4a60-8327-97e96f51f499",
   "metadata": {},
   "outputs": [],
   "source": [
    "time_steps = 80\n",
    "batch = 5\n",
    "\n",
    "with numpyro.handlers.seed(rng_seed=123):\n",
    "    z_s, x_s = simulated_kalman_filter(\n",
    "        trans_mat=trans_mat,\n",
    "        trans_noise=trans_noise,\n",
    "        emiss_mat=emiss_mat,\n",
    "        emiss_noise=emiss_noise,\n",
    "        prior_dist=prior_dist,\n",
    "        time_steps=time_steps,\n",
    "        x_obs=None,\n",
    "        batch=batch,\n",
    "    )\n",
    "\n",
    "print(z_s.shape, x_s.shape)"
   ]
  },
  {
   "cell_type": "code",
   "execution_count": null,
   "id": "1003a32b-6a6c-42f3-a629-7438c7d29722",
   "metadata": {},
   "outputs": [],
   "source": [
    "fig, ax = plt.subplots()\n",
    "\n",
    "batch = 5\n",
    "for i in range(batch):\n",
    "    ax.plot(z_s[i, ..., 0], z_s[i, ..., 1], color=\"black\", label=\"True State\")\n",
    "    # ax.plot(x_s[..., 0], x_s[..., 1], color=\"tab:red\", linestyle=\"--\", label=\"Noisy Latent\")\n",
    "    ax.scatter(\n",
    "        x_s[i, ..., 0], x_s[i, ..., 1], label=\"Measurements\", color=\"red\", alpha=0.5\n",
    "    )\n",
    "\n",
    "ax.set(xlabel=\"x-position\", ylabel=\"y-position\")\n",
    "plt.legend()\n",
    "plt.show()"
   ]
  },
  {
   "cell_type": "markdown",
   "id": "6d2e3583-b0c4-42b2-a505-6af67adc210d",
   "metadata": {},
   "source": [
    "### Model II - States/Obs"
   ]
  },
  {
   "cell_type": "code",
   "execution_count": null,
   "id": "218b26ac-cd51-488a-a0fe-d3699ca8bda0",
   "metadata": {},
   "outputs": [],
   "source": [
    "def simulated_kalman_filter(\n",
    "    trans_mat: jnp.ndarray,\n",
    "    trans_noise_cov: jnp.ndarray,\n",
    "    emiss_mat: jnp.ndarray,\n",
    "    emiss_noise_cov: jnp.ndarray,\n",
    "    mu0: jnp.ndarray,\n",
    "    Sigma0: jnp.ndarray,\n",
    "    time_steps: int = 100,\n",
    "    x_obs: jnp.ndarray = None,\n",
    "    batch: int = 1,\n",
    "    x_obs_mask: jnp.ndarray = None,\n",
    "):\n",
    "    if x_obs is not None:\n",
    "        batch, time_steps, n_dims = x_obs.shape\n",
    "\n",
    "    # Transition Functions\n",
    "    trans_mat = numpyro.deterministic(\"trans_mat\", trans_mat)\n",
    "    trans_noise_cov = numpyro.deterministic(\"trans_noise_cov\", trans_mat)\n",
    "\n",
    "    # Emission Functions\n",
    "    emiss_mat = numpyro.deterministic(\"emiss_mat\", trans_mat)\n",
    "    emiss_noise_cov = numpyro.deterministic(\"emiss_noise_cov\", trans_mat)\n",
    "\n",
    "    # ==================\n",
    "    # sample from prior\n",
    "    # ==================\n",
    "    prior_dist = dist.MultivariateNormal(mu0, Sigma0)\n",
    "\n",
    "    z0 = numpyro.sample(\"z0\", prior_dist, sample_shape=(batch,))\n",
    "\n",
    "    # ==================\n",
    "    # Model\n",
    "    # ==================\n",
    "    def body(z_prev, x_prev):\n",
    "\n",
    "        # transition\n",
    "        z = jnp.dot(trans_mat, z_prev)\n",
    "        z = numpyro.sample(\"z\", dist.MultivariateNormal(z, trans_noise_cov))\n",
    "\n",
    "        # emission\n",
    "        x = jnp.dot(emiss_mat, z)\n",
    "        x = numpyro.sample(\"x\", dist.MultivariateNormal(x, emiss_noise_cov), obs=x_prev)\n",
    "\n",
    "        return z, (z, x)\n",
    "\n",
    "    # create function\n",
    "    fn = lambda states, x_obs: scan(body, states, x_obs, length=time_steps)\n",
    "\n",
    "    # vectorize function\n",
    "    if x_obs is None:\n",
    "        fn_scan = jax.vmap(fn, in_axes=(0, None))\n",
    "    else:\n",
    "        fn_scan = jax.vmap(fn, in_axes=(0, 0))\n",
    "\n",
    "    # loop through data\n",
    "    _, (z, x) = fn_scan(z0, x_obs)\n",
    "\n",
    "    return z, x"
   ]
  },
  {
   "cell_type": "code",
   "execution_count": null,
   "id": "80807c91-06a0-40a6-afdf-d6c84c45e92f",
   "metadata": {},
   "outputs": [],
   "source": [
    "# init prior dist\n",
    "mu0 = jnp.array([8.0, 5.0, 1.0, 0.0])\n",
    "Sigma0 = 1e-5 * jnp.eye(4)\n",
    "\n",
    "prior_dist = dist.MultivariateNormal(mu0, Sigma0)\n",
    "\n",
    "# =================\n",
    "# transition model\n",
    "# =================\n",
    "state_dim = 4\n",
    "dt = 0.1\n",
    "step_std = 0.1\n",
    "\n",
    "trans_mat = jnp.eye(4) + dt * jnp.eye(4, k=2)\n",
    "trans_noise_cov = step_std**2 * jnp.eye(state_dim)\n",
    "trans_noise = dist.MultivariateNormal(jnp.zeros(state_dim), trans_noise_cov)\n",
    "\n",
    "# =================\n",
    "# emission model\n",
    "# =================\n",
    "noise_std = 0.02\n",
    "obs_dim = 2\n",
    "\n",
    "emiss_mat = jnp.eye(N=2, M=4)\n",
    "emiss_noise_cov = noise_std**2 * jnp.eye(obs_dim)\n",
    "emiss_noise = dist.MultivariateNormal(jnp.zeros(obs_dim), emiss_noise_cov)"
   ]
  },
  {
   "cell_type": "markdown",
   "id": "7c64c9b2-6138-4940-8a07-252c9abc24ca",
   "metadata": {},
   "source": [
    "#### Sampling"
   ]
  },
  {
   "cell_type": "code",
   "execution_count": null,
   "id": "b028a611-b015-4163-8a59-4aafde335ab7",
   "metadata": {},
   "outputs": [],
   "source": [
    "time_steps = 80\n",
    "batch = 2\n",
    "\n",
    "with numpyro.handlers.seed(rng_seed=123):\n",
    "    z_s, x_s = simulated_kalman_filter(\n",
    "        trans_mat=trans_mat,\n",
    "        trans_noise_cov=trans_noise_cov,\n",
    "        emiss_mat=emiss_mat,\n",
    "        emiss_noise_cov=emiss_noise_cov,\n",
    "        mu0=mu0,\n",
    "        Sigma0=Sigma0,\n",
    "        time_steps=time_steps,\n",
    "        x_obs=None,\n",
    "        batch=batch,\n",
    "    )\n",
    "\n",
    "print(z_s.shape, x_s.shape)"
   ]
  },
  {
   "cell_type": "markdown",
   "id": "a89dc569-92f6-41f4-a7fc-66a5e13ad895",
   "metadata": {},
   "source": [
    "#### Viz"
   ]
  },
  {
   "cell_type": "code",
   "execution_count": null,
   "id": "f06a379d-b682-448c-98b8-fd59a1bd1b3c",
   "metadata": {},
   "outputs": [],
   "source": [
    "fig, ax = plt.subplots()\n",
    "\n",
    "for i in range(batch):\n",
    "    ax.plot(z_s[..., i, 0], z_s[..., i, 1], color=\"black\", label=\"True State\")\n",
    "    # ax.plot(x_s[..., 0], x_s[..., 1], color=\"tab:red\", linestyle=\"--\", label=\"Noisy Latent\")\n",
    "    ax.scatter(\n",
    "        x_s[..., i, 0], x_s[..., i, 1], label=\"Measurements\", color=\"red\", alpha=0.5\n",
    "    )\n",
    "\n",
    "ax.set(xlabel=\"x-position\", ylabel=\"y-position\")\n",
    "plt.legend()\n",
    "plt.show()"
   ]
  },
  {
   "cell_type": "markdown",
   "id": "caaacd09-a7e0-4ee1-aa57-901298cf372f",
   "metadata": {
    "tags": []
   },
   "source": [
    "#### Conditioned"
   ]
  },
  {
   "cell_type": "code",
   "execution_count": null,
   "id": "41478226-9b74-4424-872b-c4153cc66d56",
   "metadata": {},
   "outputs": [],
   "source": [
    "time_steps = 80\n",
    "batch = 5\n",
    "\n",
    "with numpyro.handlers.seed(rng_seed=123):\n",
    "    z_samples_cond, x_samples_cond = simulated_kalman_filter(\n",
    "        trans_mat=trans_mat,\n",
    "        trans_noise_cov=trans_noise_cov,\n",
    "        emiss_mat=emiss_mat,\n",
    "        emiss_noise_cov=emiss_noise_cov,\n",
    "        mu0=mu0,\n",
    "        Sigma0=Sigma0,\n",
    "        time_steps=time_steps,\n",
    "        x_obs=x_s,\n",
    "        batch=batch,\n",
    "    )\n",
    "np.testing.assert_array_almost_equal(x_s, jnp.swapaxes(x_samples_cond, 0, 1))"
   ]
  },
  {
   "cell_type": "markdown",
   "id": "1e3cb220-f8ee-481e-9b6e-1bac35ee00c5",
   "metadata": {},
   "source": [
    "### Distribution"
   ]
  },
  {
   "cell_type": "code",
   "execution_count": null,
   "id": "070f89cc-ed9b-437c-93a9-d5347a31146f",
   "metadata": {},
   "outputs": [],
   "source": [
    "def simulated_kalman_filter(\n",
    "    trans_mat: jnp.ndarray,\n",
    "    trans_noise_cov: jnp.ndarray,\n",
    "    emiss_mat: jnp.ndarray,\n",
    "    emiss_noise_cov: jnp.ndarray,\n",
    "    mu0: jnp.ndarray,\n",
    "    Sigma0: jnp.ndarray,\n",
    "    time_steps: int = 100,\n",
    "    x_obs: jnp.ndarray = None,\n",
    "    batch: int = 1,\n",
    "    x_obs_mask: jnp.ndarray = None,\n",
    "):\n",
    "    if x_obs is not None:\n",
    "        batch, time_steps, n_dims = x_obs.shape\n",
    "        x_obs = jnp.swapaxes(x_obs, 0, 1)\n",
    "\n",
    "    # Transition Functions\n",
    "    trans_mat = numpyro.deterministic(\"trans_mat\", trans_mat)\n",
    "    trans_noise_cov = numpyro.deterministic(\"trans_noise_cov\", trans_mat)\n",
    "\n",
    "    # Emission Functions\n",
    "    emiss_mat = numpyro.deterministic(\"emiss_mat\", trans_mat)\n",
    "    emiss_noise_cov = numpyro.deterministic(\"emiss_noise_cov\", trans_mat)\n",
    "\n",
    "    # ==================\n",
    "    # sample from prior\n",
    "    # ==================\n",
    "    prior_dist = dist.MultivariateNormal(mu0, Sigma0)\n",
    "\n",
    "    z0 = numpyro.sample(\"z0\", prior_dist, sample_shape=(batch,))\n",
    "\n",
    "    # print(\"Prior:\", z0.shape)\n",
    "\n",
    "    fn_vec_dot = jax.vmap(jnp.dot, in_axes=(None, 0))\n",
    "\n",
    "    # ==================\n",
    "    # Model\n",
    "    # ==================\n",
    "    def body(z_prev, x_prev):\n",
    "\n",
    "        # transition\n",
    "        with numpyro.plate(\"batches\", batch, dim=-1):\n",
    "            # print(\"Trans Mult:\", z_prev.shape, trans_mat.shape)\n",
    "            z = fn_vec_dot(trans_mat, z_prev)\n",
    "            # print(\"Z Before:\", z.shape)\n",
    "            z = numpyro.sample(\"z\", dist.MultivariateNormal(z, trans_noise_cov))\n",
    "            # print(\"Z After:\", z.shape)\n",
    "            # emission\n",
    "            # print(\"Emiss Mult:\", z.shape, emiss_mat.shape)\n",
    "            x = fn_vec_dot(emiss_mat, z)\n",
    "            # if x_prev is not None:\n",
    "            #     print(\"X Before:\", x.shape, x_prev.shape)\n",
    "            # else:\n",
    "            #     print(\"X Before:\", x.shape)\n",
    "            x = numpyro.sample(\n",
    "                \"x\", dist.MultivariateNormal(x, emiss_noise_cov), obs=x_prev\n",
    "            )\n",
    "            # print(\"X After:\", x.shape)\n",
    "        return z, (z, x)\n",
    "\n",
    "    # create function\n",
    "    fn = lambda states, x_obs: scan(body, states, x_obs, length=time_steps)\n",
    "\n",
    "    # loop through data\n",
    "    _, (z, x) = scan(body, z0, x_obs, length=time_steps)\n",
    "\n",
    "    return z, x"
   ]
  },
  {
   "cell_type": "code",
   "execution_count": null,
   "id": "65d4512e-251e-4fa7-a892-9b3336674db9",
   "metadata": {},
   "outputs": [],
   "source": [
    "# # Inference\n",
    "# kernel = infer.NUTS(simulated_kalman_filter)\n",
    "# mcmc = infer.MCMC(kernel, num_warmup=100, num_samples=100)\n",
    "# mcmc.run(rng_key_infer,\n",
    "#     trans_mat=trans_mat, trans_noise_cov=trans_noise_cov,\n",
    "#     emiss_mat=emiss_mat, emiss_noise_cov=emiss_noise_cov,\n",
    "#     mu0=mu0, Sigma0=Sigma0,\n",
    "#     time_steps=time_steps,\n",
    "#     x_obs=x_s,\n",
    "#     batch=0)\n",
    "# posterior_samples = mcmc.get_samples()"
   ]
  },
  {
   "cell_type": "markdown",
   "id": "07564527-c02a-4cb8-8b68-80ef5edb0fab",
   "metadata": {},
   "source": [
    "#### Prior Samples (Propagate)"
   ]
  },
  {
   "cell_type": "code",
   "execution_count": null,
   "id": "0e57ba2a-05e3-4556-9f64-b19d7915c18f",
   "metadata": {},
   "outputs": [],
   "source": [
    "time_steps = 80\n",
    "batch = 10\n",
    "\n",
    "with numpyro.handlers.seed(rng_seed=123):\n",
    "    z_samples_prior, x_samples_prior = simulated_kalman_filter(\n",
    "        trans_mat=trans_mat,\n",
    "        trans_noise_cov=trans_noise_cov,\n",
    "        emiss_mat=emiss_mat,\n",
    "        emiss_noise_cov=emiss_noise_cov,\n",
    "        mu0=mu0,\n",
    "        Sigma0=Sigma0,\n",
    "        time_steps=time_steps,\n",
    "        x_obs=None,\n",
    "        batch=batch,\n",
    "    )\n",
    "# np.testing.assert_array_almost_equal(x_s, x_s_)\n",
    "# np.testing.assert_array_almost_equal(z_s, z_s_)\n",
    "z_samples_prior.shape, x_samples_prior.shape"
   ]
  },
  {
   "cell_type": "code",
   "execution_count": null,
   "id": "64495811-36cd-4bcd-b85e-36f8ba414a7f",
   "metadata": {},
   "outputs": [],
   "source": [
    "fig, ax = plt.subplots()\n",
    "\n",
    "n_time_steps, n_samples, n_dims = x_samples_prior.shape\n",
    "\n",
    "for i_sample in range(n_samples):\n",
    "    ax.plot(\n",
    "        z_samples_prior[..., i_sample, 0],\n",
    "        z_samples_prior[..., i_sample, 1],\n",
    "        color=\"black\",\n",
    "        label=\"True State\",\n",
    "    )\n",
    "    # ax.plot(x_s[..., 0], x_s[..., 1], color=\"tab:red\", linestyle=\"--\", label=\"Noisy Latent\")\n",
    "    ax.scatter(\n",
    "        x_samples_prior[..., i_sample, 0],\n",
    "        x_samples_prior[..., i_sample, 1],\n",
    "        label=\"Measurements\",\n",
    "        color=\"red\",\n",
    "        alpha=0.5,\n",
    "    )\n",
    "    break\n",
    "ax.set(xlabel=\"x-position\", ylabel=\"y-position\")\n",
    "plt.legend()\n",
    "plt.show()"
   ]
  },
  {
   "cell_type": "markdown",
   "id": "38b922eb-a612-4018-aa42-1d013ee98cda",
   "metadata": {},
   "source": [
    "#### Prior Samples (Predictive)"
   ]
  },
  {
   "cell_type": "code",
   "execution_count": null,
   "id": "af18ae47-b586-4d81-8f9a-a28ef0700217",
   "metadata": {},
   "outputs": [],
   "source": [
    "time_steps = 80\n",
    "batch = 1\n",
    "\n",
    "# prior\n",
    "predictive = infer.Predictive(simulated_kalman_filter, num_samples=num_samples)\n",
    "prior_samples = predictive(\n",
    "    rng_key_prior,\n",
    "    trans_mat=trans_mat,\n",
    "    trans_noise_cov=trans_noise_cov,\n",
    "    emiss_mat=emiss_mat,\n",
    "    emiss_noise_cov=emiss_noise_cov,\n",
    "    mu0=mu0,\n",
    "    Sigma0=Sigma0,\n",
    "    time_steps=time_steps,\n",
    "    x_obs=None,\n",
    "    batch=batch,\n",
    ")"
   ]
  },
  {
   "cell_type": "code",
   "execution_count": null,
   "id": "8572e980-a6df-4f7e-835a-95f1498b44c7",
   "metadata": {},
   "outputs": [],
   "source": [
    "prior_samples[\"x\"].shape"
   ]
  },
  {
   "cell_type": "code",
   "execution_count": null,
   "id": "9e42e486-939d-4d6e-bf62-d02e928d290c",
   "metadata": {},
   "outputs": [],
   "source": [
    "fig, ax = plt.subplots()\n",
    "\n",
    "\n",
    "z_s_samples = prior_samples[\"z\"].squeeze()\n",
    "x_s_samples = prior_samples[\"x\"].squeeze()\n",
    "\n",
    "n_time_steps, n_samples, n_dims = z_s_samples.shape\n",
    "\n",
    "for i_sample in range(num_samples):\n",
    "    ax.plot(\n",
    "        z_s_samples[i_sample, ..., 0],\n",
    "        z_s_samples[i_sample, ..., 1],\n",
    "        color=\"black\",\n",
    "        label=\"True State\",\n",
    "    )\n",
    "    # ax.plot(x_s[..., 0], x_s[..., 1], color=\"tab:red\", linestyle=\"--\", label=\"Noisy Latent\")\n",
    "    ax.scatter(\n",
    "        x_s_samples[i_sample, ..., 0],\n",
    "        x_s_samples[i_sample, ..., 1],\n",
    "        label=\"Measurements\",\n",
    "        color=\"red\",\n",
    "        alpha=0.5,\n",
    "    )\n",
    "    break\n",
    "ax.set(xlabel=\"x-position\", ylabel=\"y-position\")\n",
    "plt.legend()\n",
    "plt.show()"
   ]
  },
  {
   "cell_type": "markdown",
   "id": "442c03a9-06e7-4885-8c5f-316544ca0495",
   "metadata": {},
   "source": [
    "### MCMC"
   ]
  },
  {
   "cell_type": "code",
   "execution_count": null,
   "id": "5a60176b-31c5-419c-9d73-07d994c7f04b",
   "metadata": {},
   "outputs": [],
   "source": [
    "from einops import rearrange\n",
    "\n",
    "x_obs = rearrange(x_s, \"T B D -> B T D\")\n",
    "x_obs.shape"
   ]
  },
  {
   "cell_type": "code",
   "execution_count": null,
   "id": "beb3e14b-4379-47eb-9c70-d7e2469c2126",
   "metadata": {},
   "outputs": [],
   "source": [
    "# Inference\n",
    "kernel = infer.NUTS(simulated_kalman_filter)\n",
    "mcmc = infer.MCMC(kernel, num_warmup=100, num_samples=100)\n",
    "mcmc.run(\n",
    "    rng_key_infer,\n",
    "    x_obs=x_obs,\n",
    "    trans_mat=trans_mat,\n",
    "    trans_noise_cov=trans_noise_cov,\n",
    "    emiss_mat=emiss_mat,\n",
    "    emiss_noise_cov=emiss_noise_cov,\n",
    "    mu0=mu0,\n",
    "    Sigma0=Sigma0,\n",
    ")\n",
    "posterior_samples = mcmc.get_samples()"
   ]
  },
  {
   "cell_type": "code",
   "execution_count": null,
   "id": "14465a7d-f979-428d-b49e-c1074f559a4b",
   "metadata": {},
   "outputs": [],
   "source": [
    "[posterior_samples.keys()], posterior_samples[\"z\"].shape"
   ]
  },
  {
   "cell_type": "code",
   "execution_count": null,
   "id": "baff221a-b689-4968-9d48-e879b217ba0a",
   "metadata": {},
   "outputs": [],
   "source": [
    "time_steps = 80\n",
    "num_samples = 5\n",
    "\n",
    "# prior\n",
    "predictive = infer.Predictive(\n",
    "    simulated_kalman_filter,\n",
    "    posterior_samples=posterior_samples,\n",
    "    return_sites=[\"x\", \"z\", \"z0\"],\n",
    ")\n",
    "posterior_predictive = predictive(\n",
    "    rng_key_prior,\n",
    "    trans_mat=trans_mat,\n",
    "    trans_noise_cov=trans_noise_cov,\n",
    "    emiss_mat=emiss_mat,\n",
    "    emiss_noise_cov=emiss_noise_cov,\n",
    "    mu0=mu0,\n",
    "    Sigma0=Sigma0,\n",
    "    x_obs=x_obs,\n",
    ")"
   ]
  },
  {
   "cell_type": "code",
   "execution_count": null,
   "id": "58390623-4423-46f9-be4b-7ec54a96fc7e",
   "metadata": {},
   "outputs": [],
   "source": [
    "[posterior_predictive.keys()]"
   ]
  },
  {
   "cell_type": "code",
   "execution_count": null,
   "id": "10f13258-2cf9-41b9-a53d-8089b833708f",
   "metadata": {},
   "outputs": [],
   "source": [
    "fig, ax = plt.subplots()\n",
    "\n",
    "\n",
    "z_s_samples = posterior_predictive[\"z\"]\n",
    "x_s_samples = posterior_predictive[\"x\"]\n",
    "\n",
    "n_time_steps, n_samples, _, n_dims = z_s_samples.shape\n",
    "\n",
    "i_sample = 1\n",
    "for i in range(num_samples):\n",
    "    ax.plot(\n",
    "        z_s_samples[i_sample, ..., 0, 0],\n",
    "        z_s_samples[i_sample, ..., 0, 1],\n",
    "        color=\"black\",\n",
    "        label=\"True State\",\n",
    "    )\n",
    "    # ax.plot(x_s[..., 0], x_s[..., 1], color=\"tab:red\", linestyle=\"--\", label=\"Noisy Latent\")\n",
    "    ax.scatter(\n",
    "        x_s_samples[i_sample, ..., 0, 0],\n",
    "        x_s_samples[i_sample, ..., 0, 1],\n",
    "        label=\"Measurements\",\n",
    "        color=\"red\",\n",
    "        alpha=0.5,\n",
    "    )\n",
    "\n",
    "ax.set(xlabel=\"x-position\", ylabel=\"y-position\")\n",
    "plt.legend()\n",
    "plt.show()"
   ]
  },
  {
   "cell_type": "code",
   "execution_count": null,
   "id": "59b88fb1-3fd5-45ad-9f9c-540b73d399c6",
   "metadata": {},
   "outputs": [],
   "source": [
    "fig, ax = plt.subplots()\n",
    "\n",
    "\n",
    "i_sample = 5\n",
    "for i in range(num_samples):\n",
    "    ax.plot(z_s[i_sample, ..., 0], z_s[i, ..., 1], color=\"black\", label=\"True State\")\n",
    "    # ax.plot(x_s[..., 0], x_s[..., 1], color=\"tab:red\", linestyle=\"--\", label=\"Noisy Latent\")\n",
    "    ax.scatter(\n",
    "        x_s[i_sample, ..., 0],\n",
    "        x_s[i, ..., 1],\n",
    "        label=\"Measurements\",\n",
    "        color=\"red\",\n",
    "        alpha=0.5,\n",
    "    )\n",
    "\n",
    "ax.set(xlabel=\"x-position\", ylabel=\"y-position\")\n",
    "plt.legend()\n",
    "plt.show()"
   ]
  },
  {
   "cell_type": "markdown",
   "id": "b109b0f2-97e2-4db1-8c62-a60b8df4cdfb",
   "metadata": {},
   "source": [
    "## Observed Samples"
   ]
  },
  {
   "cell_type": "code",
   "execution_count": null,
   "id": "527fc6e0-ac1b-4114-850f-d6040cc44f2c",
   "metadata": {},
   "outputs": [],
   "source": [
    "def simulated_kalman_filter(\n",
    "    trans_mat: jnp.ndarray,\n",
    "    trans_noise_cov: jnp.ndarray,\n",
    "    emiss_mat: jnp.ndarray,\n",
    "    emiss_noise_cov: jnp.ndarray,\n",
    "    mu0: jnp.ndarray,\n",
    "    Sigma0: jnp.ndarray,\n",
    "    time_steps: int = 100,\n",
    "    x_obs: jnp.ndarray = None,\n",
    "    batch: int = 1,\n",
    "    x_obs_mask: jnp.ndarray = None,\n",
    "):\n",
    "    if x_obs is not None:\n",
    "        batch, time_steps, n_dims = x_obs.shape\n",
    "        x_obs = jnp.swapaxes(x_obs, 0, 1)\n",
    "\n",
    "    # Transition Functions\n",
    "    trans_mat = numpyro.deterministic(\"trans_mat\", trans_mat)\n",
    "    trans_noise_cov = numpyro.deterministic(\"trans_noise_cov\", trans_mat)\n",
    "\n",
    "    # Emission Functions\n",
    "    emiss_mat = numpyro.deterministic(\"emiss_mat\", trans_mat)\n",
    "    emiss_noise_cov = numpyro.deterministic(\"emiss_noise_cov\", trans_mat)\n",
    "\n",
    "    # ==================\n",
    "    # sample from prior\n",
    "    # ==================\n",
    "    prior_dist = dist.MultivariateNormal(mu0, Sigma0)\n",
    "\n",
    "    z0 = numpyro.sample(\"z0\", prior_dist)\n",
    "\n",
    "    # ==================\n",
    "    # Model\n",
    "    # ==================\n",
    "    def body(z_prev, x_prev):\n",
    "\n",
    "        with numpyro.plate(\"batches\", batch, dim=-1):\n",
    "            # transition\n",
    "            z = jnp.dot(trans_mat, z_prev)\n",
    "            z = numpyro.sample(\"z\", dist.MultivariateNormal(z, trans_noise_cov))\n",
    "\n",
    "            # emission\n",
    "            x = jnp.dot(emiss_mat, z)\n",
    "            x = numpyro.sample(\n",
    "                \"x\", dist.MultivariateNormal(x, emiss_noise_cov), obs=x_prev\n",
    "            )\n",
    "\n",
    "        return z, (z, x)\n",
    "\n",
    "    # create function\n",
    "    fn = lambda states, x_obs: scan(body, states, x_obs, length=time_steps)\n",
    "\n",
    "    # loop through data\n",
    "    _, (z, x) = scan(body, z0, x_obs, length=time_steps)\n",
    "\n",
    "    return z, x"
   ]
  },
  {
   "cell_type": "code",
   "execution_count": null,
   "id": "f5760f56-3ba6-4f48-8761-1d7b4e66750d",
   "metadata": {},
   "outputs": [],
   "source": [
    "time_steps = 80\n",
    "batch = None\n",
    "\n",
    "with numpyro.handlers.seed(rng_seed=123):\n",
    "    z_s_, x_s_ = simulated_kalman_filter(\n",
    "        trans_mat=trans_mat,\n",
    "        trans_noise_cov=trans_noise_cov,\n",
    "        emiss_mat=emiss_mat,\n",
    "        emiss_noise_cov=emiss_noise_cov,\n",
    "        mu0=mu0,\n",
    "        Sigma0=Sigma0,\n",
    "        time_steps=time_steps,\n",
    "        x_obs=None,\n",
    "        batch=1,\n",
    "    )\n",
    "# np.testing.assert_array_almost_equal(x_s, x_s_)\n",
    "# np.testing.assert_array_almost_equal(z_s, z_s_)\n",
    "z_s_.shape, x_s_.shape"
   ]
  },
  {
   "cell_type": "code",
   "execution_count": null,
   "id": "799359e6-5175-4317-b657-5f82cc2b1989",
   "metadata": {},
   "outputs": [],
   "source": [
    "# # init prior dist\n",
    "# mu0 = jnp.array([0., 0., 1., -1.])\n",
    "# Sigma0 = jnp.eye(4)\n",
    "\n",
    "# # =================\n",
    "# # transition model\n",
    "# # =================\n",
    "# dt = 0.01\n",
    "# trans_mat = jnp.eye(4) + dt * jnp.eye(4, k=2)\n",
    "\n",
    "# a = jnp.array([[dt**3/3, dt**2/2], [dt**2/2, dt]])\n",
    "# b = jnp.eye(2)\n",
    "# trans_noise = jnp.kron(a,b)\n",
    "\n",
    "# # =================\n",
    "# # emission model\n",
    "# # =================\n",
    "# r = 0.5\n",
    "\n",
    "# emiss_mat = jnp.eye(N=2, M=4)\n",
    "# emiss_noise = r**2 * jnp.eye(2)"
   ]
  },
  {
   "cell_type": "markdown",
   "id": "ece80fed-eb11-412a-a509-65c9915f6989",
   "metadata": {},
   "source": [
    "## Plate Notation"
   ]
  },
  {
   "cell_type": "code",
   "execution_count": null,
   "id": "b372fd9f-d77d-4057-804e-44f3277104a8",
   "metadata": {},
   "outputs": [],
   "source": [
    "def simulated_kalman_filter(\n",
    "    trans_mat: jnp.ndarray,\n",
    "    trans_noise_cov: jnp.ndarray,\n",
    "    emiss_mat: jnp.ndarray,\n",
    "    emiss_noise_cov: jnp.ndarray,\n",
    "    mu0: jnp.ndarray,\n",
    "    Sigma0: jnp.ndarray,\n",
    "    time_steps: int = 100,\n",
    "    x_obs: jnp.ndarray = None,\n",
    "    batch: int = 1,\n",
    "    x_obs_mask: jnp.ndarray = None,\n",
    "):\n",
    "    if x_obs is not None:\n",
    "        batch, time_steps, n_dims = x_obs.shape\n",
    "\n",
    "    # Transition Functions\n",
    "    trans_mat = numpyro.deterministic(\"trans_mat\", trans_mat)\n",
    "    trans_noise_cov = numpyro.deterministic(\"trans_noise_cov\", trans_mat)\n",
    "\n",
    "    # Emission Functions\n",
    "    emiss_mat = numpyro.deterministic(\"emiss_mat\", trans_mat)\n",
    "    emiss_noise_cov = numpyro.deterministic(\"emiss_noise_cov\", trans_mat)\n",
    "\n",
    "    # ==================\n",
    "    # sample from prior\n",
    "    # ==================\n",
    "    prior_dist = dist.MultivariateNormal(mu0, Sigma0)\n",
    "\n",
    "    z0 = numpyro.sample(\"z0\", prior_dist)\n",
    "    print(\"Prior:\", z0.shape)\n",
    "\n",
    "    # ==================\n",
    "    # Model\n",
    "    # ==================\n",
    "    def body(carry, x_prev):\n",
    "        z_prev, t = carry\n",
    "        # transition\n",
    "        print(\"Before shape:\", z_prev.shape)\n",
    "        with numpyro.plate(\"batch\", batch, dim=-2):\n",
    "            print(\"After Shape:\", z_prev.shape)\n",
    "            print(\"Trans:\", trans_mat.shape, z_prev.shape)\n",
    "            z = jnp.dot(trans_mat, z_prev)\n",
    "            print(\"Trans Dist:\", z.shape, trans_noise_cov.shape)\n",
    "            z = numpyro.sample(\"z\", dist.MultivariateNormal(z, trans_noise_cov))\n",
    "\n",
    "            # emission\n",
    "            print(\"Obs Trans:\", emiss_mat.shape, z.shape)\n",
    "            x = jnp.dot(emiss_mat, z)\n",
    "            print(\"Obs Dist:\", z.shape, x.shape, x_prev.shape)\n",
    "            x = numpyro.sample(\n",
    "                \"x\", dist.MultivariateNormal(x, emiss_noise_cov), obs=x_prev\n",
    "            )\n",
    "\n",
    "        return (z, t + 1), (z, x)\n",
    "\n",
    "    # create function\n",
    "    fn = lambda states, x_obs: scan(body, states, x_obs, length=time_steps)\n",
    "\n",
    "    # loop through data\n",
    "    _, (z, x) = scan(body, (z0, 0), jnp.swapaxes(x_obs, 0, 1), length=time_steps)\n",
    "\n",
    "    return z, x"
   ]
  },
  {
   "cell_type": "code",
   "execution_count": null,
   "id": "46587e53-050f-4430-9d55-c01d950c0591",
   "metadata": {},
   "outputs": [],
   "source": [
    "time_steps = 80\n",
    "batch = 5\n",
    "\n",
    "with numpyro.handlers.seed(rng_seed=123):\n",
    "    z_s_, x_s_ = simulated_kalman_filter(\n",
    "        trans_mat=trans_mat,\n",
    "        trans_noise_cov=trans_noise_cov,\n",
    "        emiss_mat=emiss_mat,\n",
    "        emiss_noise_cov=emiss_noise_cov,\n",
    "        mu0=mu0,\n",
    "        Sigma0=Sigma0,\n",
    "        time_steps=time_steps,\n",
    "        x_obs=None,\n",
    "        batch=batch,\n",
    "    )\n",
    "# np.testing.assert_array_almost_equal(x_s, x_s_)\n",
    "# np.testing.assert_array_almost_equal(z_s, z_s_)"
   ]
  },
  {
   "cell_type": "code",
   "execution_count": null,
   "id": "7fb64e77-a46e-4628-8c69-2931cd9c6c46",
   "metadata": {},
   "outputs": [],
   "source": []
  },
  {
   "cell_type": "code",
   "execution_count": null,
   "id": "2bfebc67-cf57-4ded-8ba1-f3fbfbd92905",
   "metadata": {},
   "outputs": [],
   "source": []
  },
  {
   "cell_type": "code",
   "execution_count": null,
   "id": "f9f9d772-f91c-4500-aed0-f2b260e081ba",
   "metadata": {},
   "outputs": [],
   "source": []
  },
  {
   "cell_type": "code",
   "execution_count": null,
   "id": "4766536c-733e-4ee2-99da-f7345793da84",
   "metadata": {},
   "outputs": [],
   "source": []
  },
  {
   "cell_type": "code",
   "execution_count": null,
   "id": "393e62b5-f83c-45b6-ad6c-155dfc159fb5",
   "metadata": {},
   "outputs": [],
   "source": [
    "def simulate_data(num_samples: int = 1, time_steps: int = 10, dt=0.1, r=0.5, seed=123):\n",
    "\n",
    "    key = jax.random.PRNGKey(seed)\n",
    "\n",
    "    # init prior dist\n",
    "    mu0 = jnp.array([0.0, 0.0, 1.0, -1.0])\n",
    "    Sigma0 = jnp.eye(4)\n",
    "    prior_dist = dist.MultivariateNormal(loc=mu0, covariance_matrix=Sigma0)\n",
    "\n",
    "    # =================\n",
    "    # transition model\n",
    "    # =================\n",
    "    trans_mat = jnp.eye(4) + dt * jnp.eye(4, k=2)\n",
    "    a = jnp.array([[dt**3 / 3, dt**2 / 2], [dt**2 / 2, dt]])\n",
    "    b = jnp.eye(2)\n",
    "    transition_noise = jnp.kron(a, b)\n",
    "\n",
    "    # =================\n",
    "    # emission model\n",
    "    # =================\n",
    "    obs_mat = jnp.eye(2, M=4)\n",
    "\n",
    "    obs_noise = r**2 * jnp.eye(2)\n",
    "\n",
    "    # ==================\n",
    "    # sample from prior\n",
    "    # ==================\n",
    "    key, key_prior = jax.random.split(key, 2)\n",
    "\n",
    "    z_prev = prior_dist.sample(key=key_prior, sample_shape=(num_samples,))\n",
    "\n",
    "    assert z_prev.shape == (num_samples, 4)\n",
    "\n",
    "    # results\n",
    "    states = {\"state_true\": [], \"state_noise\": [], \"meas_noise\": []}\n",
    "\n",
    "    # loop through time steps\n",
    "    for i_z_init in tqdm(z_prev):\n",
    "        z_prev = i_z_init\n",
    "        state_true, state_noise, meas_noise = [], [], []\n",
    "        for t in trange(time_steps):\n",
    "\n",
    "            key, key_trans, key_obs = jax.random.split(key, 3)\n",
    "\n",
    "            # true state z = F z\n",
    "            z_true = trans_mat @ z_prev\n",
    "\n",
    "            assert z_true.shape == (4,)\n",
    "            state_true.append(z_true[None, :])\n",
    "\n",
    "            # simulate transition model\n",
    "            # z = F z + eps\n",
    "            temp_dist = dist.MultivariateNormal(covariance_matrix=transition_noise)\n",
    "            noise = temp_dist.sample(key=key_trans, sample_shape=(1,))\n",
    "\n",
    "            z_prev = z_true.squeeze() + noise.squeeze()\n",
    "            assert z_prev.shape == (4,)\n",
    "            state_noise.append(z_prev)\n",
    "\n",
    "            # simulate transition model\n",
    "            # x = H z + eps\n",
    "            temp_dist = dist.MultivariateNormal(\n",
    "                loc=jnp.zeros(2), covariance_matrix=obs_noise\n",
    "            )\n",
    "            noise = temp_dist.sample(key=key_trans)\n",
    "\n",
    "            x_prev = obs_mat @ z_prev.squeeze() + noise.squeeze()\n",
    "            assert x_prev.shape == (2,)\n",
    "            meas_noise.append(x_prev)\n",
    "\n",
    "        states[\"state_true\"].append(jnp.vstack(state_true))\n",
    "        states[\"state_noise\"].append(jnp.vstack(state_noise))\n",
    "        states[\"meas_noise\"].append(jnp.vstack(meas_noise))\n",
    "\n",
    "        break\n",
    "\n",
    "    states[\"state_true\"] = jnp.vstack(states[\"state_true\"])\n",
    "    states[\"state_noise\"] = jnp.vstack(states[\"state_noise\"])\n",
    "    states[\"meas_noise\"] = jnp.vstack(states[\"meas_noise\"])\n",
    "\n",
    "    return states"
   ]
  },
  {
   "cell_type": "code",
   "execution_count": null,
   "id": "6653cb7a-50ef-41b5-a388-c4664cde2da0",
   "metadata": {},
   "outputs": [],
   "source": [
    "states = simulate_data(10, time_steps=50)"
   ]
  },
  {
   "cell_type": "code",
   "execution_count": null,
   "id": "2c34b839-6c97-46ea-89dc-c0bec2ad6b1d",
   "metadata": {},
   "outputs": [],
   "source": [
    "states[\"state_true\"].shape, states[\"state_noise\"].shape"
   ]
  },
  {
   "cell_type": "code",
   "execution_count": null,
   "id": "d87949fd-bf28-4568-85e3-36b054b4147c",
   "metadata": {},
   "outputs": [],
   "source": [
    "fig, ax = plt.subplots()\n",
    "\n",
    "ax.plot(\n",
    "    states[\"state_true\"][..., 0],\n",
    "    states[\"state_true\"][..., 1],\n",
    "    color=\"black\",\n",
    "    label=\"True State\",\n",
    ")\n",
    "ax.plot(\n",
    "    states[\"state_noise\"][..., 0],\n",
    "    states[\"state_noise\"][..., 1],\n",
    "    color=\"tab:red\",\n",
    "    linestyle=\"--\",\n",
    "    label=\"Noisy Latent\",\n",
    ")\n",
    "ax.scatter(\n",
    "    states[\"meas_noise\"][..., 0],\n",
    "    states[\"meas_noise\"][..., 1],\n",
    "    label=\"Measurements\",\n",
    "    color=\"red\",\n",
    "    alpha=0.5,\n",
    ")\n",
    "\n",
    "ax.set(xlabel=\"x-position\", ylabel=\"y-position\")\n",
    "plt.legend()\n",
    "plt.show()"
   ]
  },
  {
   "cell_type": "code",
   "execution_count": null,
   "id": "32ab976d-8b99-4700-b917-5927a68fedc5",
   "metadata": {},
   "outputs": [],
   "source": []
  },
  {
   "cell_type": "code",
   "execution_count": null,
   "id": "c0502261-c74a-44c6-9ccc-831fb38ebf39",
   "metadata": {},
   "outputs": [],
   "source": []
  },
  {
   "cell_type": "markdown",
   "id": "b66bd22b-44ab-480d-9bea-2ce03efc910d",
   "metadata": {},
   "source": [
    "## Numpyro Model"
   ]
  },
  {
   "cell_type": "code",
   "execution_count": null,
   "id": "e7b1aa1c-03e5-4843-8351-1dd38da4aeb4",
   "metadata": {},
   "outputs": [],
   "source": [
    "dt = 0.1\n",
    "r = 0.5\n",
    "\n",
    "\n",
    "def gaussian_hmm(obs=None, time_steps: int = 15):\n",
    "\n",
    "    # extract shapes from observations\n",
    "    if obs is not None:\n",
    "        time_steps, obs_dim = obs.shape\n",
    "\n",
    "    # =================\n",
    "    # transition model\n",
    "    # =================\n",
    "    trans_mat = jnp.eye(4) + dt * jnp.eye(4, k=2)\n",
    "    trans_mat = numpyro.deterministic(\"trans_mat\", trans_mat)\n",
    "\n",
    "    a = jnp.array([[dt**3 / 3, dt**2 / 2], [dt**2 / 2, dt]])\n",
    "    b = jnp.eye(2)\n",
    "    transition_noise = jnp.kron(a, b)\n",
    "\n",
    "    # =================\n",
    "    # emission model\n",
    "    # =================\n",
    "    obs_mat = jnp.eye(2, M=4)\n",
    "    emission_mat = numpyro.deterministic(\"obs_mat\", obs_mat)\n",
    "\n",
    "    emission_noise = r**2 * jnp.eye(2)\n",
    "\n",
    "    def body(z_prev, x_prev):\n",
    "\n",
    "        # transition distribution\n",
    "        z = trans_mat @ z_prev\n",
    "        noise_z = numpyro.sample(\n",
    "            \"trans_noise\", dist.MultivariateNormal(covariance_matrix=transition_noise)\n",
    "        )\n",
    "\n",
    "        z += noise_z\n",
    "\n",
    "        z = numpyro.deterministic(\"z\", z)\n",
    "\n",
    "        # emission distribution\n",
    "        x = emission_mat @ z\n",
    "\n",
    "        noise_x = numpyro.sample(\n",
    "            \"emiss_noise\",\n",
    "            dist.MultivariateNormal(covariance_matrix=emission_noise),\n",
    "            obs=x_prev,\n",
    "        )\n",
    "\n",
    "        x += noise_x\n",
    "\n",
    "        x = numpyro.deterministic(\"x\", x)\n",
    "\n",
    "        return z, (z, x)\n",
    "\n",
    "    # prior dist\n",
    "    mu0 = jnp.array([0.0, 0.0, 1.0, -1.0])\n",
    "    Sigma0 = jnp.eye(4)\n",
    "    z0 = numpyro.sample(\n",
    "        \"z0\", dist.MultivariateNormal(loc=mu0, covariance_matrix=Sigma0)\n",
    "    )\n",
    "\n",
    "    # scan\n",
    "    # with numpyro.handlers.condition(data={\"x\": x}):\n",
    "    _, (z, x) = scan(body, z0, obs, length=time_steps)\n",
    "\n",
    "    return (z, x)"
   ]
  },
  {
   "cell_type": "markdown",
   "id": "8c339f76-2b2d-4de9-8f19-65808e6a45c4",
   "metadata": {},
   "source": [
    "### Observations"
   ]
  },
  {
   "cell_type": "code",
   "execution_count": null,
   "id": "dd0f8b55-f672-4927-b179-a5f905253517",
   "metadata": {},
   "outputs": [],
   "source": [
    "# obs = states[\"meas_noise\"]\n",
    "# T = obs.shape[0]\n",
    "# D_obs = obs.shape[1]"
   ]
  },
  {
   "cell_type": "code",
   "execution_count": null,
   "id": "7ad88d17-7535-422e-8985-b932f61fc0d8",
   "metadata": {},
   "outputs": [],
   "source": [
    "# obs.shape"
   ]
  },
  {
   "cell_type": "markdown",
   "id": "a992c99c-0e04-482b-8b6f-f346902b9b12",
   "metadata": {},
   "source": [
    "### Generative"
   ]
  },
  {
   "cell_type": "code",
   "execution_count": null,
   "id": "ceaf0f81-bbf4-45cb-9741-55635d4ba0eb",
   "metadata": {},
   "outputs": [],
   "source": [
    "with numpyro.handlers.seed(rng_seed=314):\n",
    "    x, y = gaussian_hmm(None, time_steps=50)"
   ]
  },
  {
   "cell_type": "code",
   "execution_count": null,
   "id": "703b3512-e121-4f51-99cb-418daeea3a2a",
   "metadata": {},
   "outputs": [],
   "source": [
    "t_axes = jnp.arange(x.shape[0])\n",
    "\n",
    "fig, ax = plt.subplots()\n",
    "\n",
    "ax.plot(x[..., 0], x[..., 1], label=\"Gen. State\", color=\"black\", linestyle=\"--\")\n",
    "ax.scatter(y[..., 0], y[..., 1], label=\"Gen. Observation\", color=\"tab:red\", alpha=0.5)\n",
    "\n",
    "ax.set(\n",
    "    xlabel=\"x-Position\",\n",
    "    ylabel=\"y-position\",\n",
    ")\n",
    "\n",
    "plt.legend()\n",
    "plt.show()"
   ]
  },
  {
   "cell_type": "markdown",
   "id": "c8bf69f1-4ddc-45f1-b13f-751817b1f2d3",
   "metadata": {
    "tags": []
   },
   "source": [
    "### Prior"
   ]
  },
  {
   "cell_type": "code",
   "execution_count": null,
   "id": "c5b11305-4cfb-4dff-bb6e-39a52337fbb2",
   "metadata": {},
   "outputs": [],
   "source": [
    "%%time\n",
    "\n",
    "\n",
    "# Prior prediction\n",
    "predictive = infer.Predictive(gaussian_hmm, num_samples=100)\n",
    "\n",
    "# without x\n",
    "prior_predictive = predictive(rng_key_prior, time_steps=50)\n",
    "\n",
    "# extract samples\n",
    "x_samples = prior_predictive[\"x\"]\n",
    "z_samples = prior_predictive[\"z\"]"
   ]
  },
  {
   "cell_type": "code",
   "execution_count": null,
   "id": "a3fed318-35f2-4553-be07-1c5c27f47b78",
   "metadata": {},
   "outputs": [],
   "source": [
    "fig, ax = plt.subplots()\n",
    "\n",
    "ax.plot(\n",
    "    z_samples[:10, ..., 0].T,\n",
    "    z_samples[:10, ..., 1].T,\n",
    "    label=\"Gen. State\",\n",
    "    color=\"black\",\n",
    "    linestyle=\"-\",\n",
    ")\n",
    "ax.set(title=\"Generated States\")\n",
    "plt.show()"
   ]
  },
  {
   "cell_type": "code",
   "execution_count": null,
   "id": "b5c97307-67af-4520-b396-1d76d0379fed",
   "metadata": {},
   "outputs": [],
   "source": [
    "fig, ax = plt.subplots()\n",
    "\n",
    "ax.plot(\n",
    "    x_samples[:10, ..., 0].T,\n",
    "    x_samples[:10, ..., 1].T,\n",
    "    label=\"Gen. State\",\n",
    "    color=\"black\",\n",
    "    linestyle=\"-\",\n",
    ")\n",
    "ax.set(title=\"Generated Obs\")\n",
    "plt.show()"
   ]
  },
  {
   "cell_type": "code",
   "execution_count": null,
   "id": "93a62ab9-363d-4bad-bff5-e4c080fdbfba",
   "metadata": {},
   "outputs": [],
   "source": [
    "n_plots = 3\n",
    "rand_int = 1\n",
    "\n",
    "fig, axes = plt.subplots(nrows=3, figsize=(7, 10))\n",
    "\n",
    "for i, iax in enumerate(axes):\n",
    "\n",
    "    i += rand_int\n",
    "\n",
    "    iax.plot(\n",
    "        z_samples[i, ..., 0],\n",
    "        z_samples[i, ..., 1],\n",
    "        label=\"Gen. State\",\n",
    "        color=\"black\",\n",
    "        linestyle=\"-\",\n",
    "    )\n",
    "    iax.scatter(\n",
    "        x_samples[i, ..., 0],\n",
    "        x_samples[i, ..., 1],\n",
    "        label=\"Gen. Obs\",\n",
    "        color=\"red\",\n",
    "        linestyle=\"--\",\n",
    "    )\n",
    "\n",
    "iax.set(\n",
    "    xlabel=\"x-Position\",\n",
    "    ylabel=\"y-position\",\n",
    ")\n",
    "\n",
    "plt.legend()\n",
    "plt.show()"
   ]
  },
  {
   "cell_type": "markdown",
   "id": "d1d8f42f-a534-47a2-9928-5e45212e5976",
   "metadata": {},
   "source": [
    "## Unknown Model"
   ]
  },
  {
   "cell_type": "code",
   "execution_count": null,
   "id": "7c1ad4d6-a10d-41f1-ac58-1865bb982762",
   "metadata": {},
   "outputs": [],
   "source": [
    "def gaussian_hmm_unknown(obs=None, time_steps: int = 15):\n",
    "\n",
    "    # extract shapes from observations\n",
    "    if obs is not None:\n",
    "        time_steps, *_ = obs.shape\n",
    "\n",
    "    # =================\n",
    "    # transition model\n",
    "    # =================\n",
    "    trans_mat = jnp.eye(4) + dt * jnp.eye(4, k=2)\n",
    "    trans_mat = numpyro.deterministic(\"trans_mat\", trans_mat)\n",
    "\n",
    "    transition_noise = jnp.ones(4)\n",
    "\n",
    "    # =================\n",
    "    # emission model\n",
    "    # =================\n",
    "    obs_mat = jnp.eye(2, M=4)\n",
    "    emission_mat = numpyro.deterministic(\"obs_mat\", obs_mat)\n",
    "\n",
    "    emission_noise = r**2 * jnp.ones(2)\n",
    "\n",
    "    def body(z_prev, x_prev):\n",
    "\n",
    "        # transition distribution\n",
    "        z = trans_mat @ z_prev\n",
    "        noise_z = numpyro.sample(\"trans_noise\", dist.Normal(scale=transition_noise))\n",
    "        z += noise_z\n",
    "\n",
    "        z = numpyro.deterministic(\"z\", z)\n",
    "\n",
    "        # emission distribution\n",
    "        x = emission_mat @ z_prev\n",
    "\n",
    "        noise_x = numpyro.sample(\"emiss_noise\", dist.Normal(scale=emission_noise))\n",
    "\n",
    "        x += noise_x\n",
    "\n",
    "        x = numpyro.deterministic(\"x\", x)\n",
    "\n",
    "        return z, (z, x)\n",
    "\n",
    "    # prior dist\n",
    "    mu0 = jnp.array([0.0, 0.0, 0.0, 0.0])\n",
    "    Sigma0 = jnp.ones(4)\n",
    "    z0 = numpyro.sample(\"z0\", dist.Normal(loc=mu0, scale=Sigma0))\n",
    "\n",
    "    # scan\n",
    "    # with numpyro.handlers.condition(data={\"x\": x}):\n",
    "    _, (z, x) = scan(body, z0, obs, length=time_steps)\n",
    "\n",
    "    return (z, x)"
   ]
  },
  {
   "cell_type": "markdown",
   "id": "6163436d-4106-4665-8f23-fa37e7a30162",
   "metadata": {},
   "source": [
    "### Prior"
   ]
  },
  {
   "cell_type": "code",
   "execution_count": null,
   "id": "0f31e7a8-416f-45c1-a1f2-271e1e67eb4e",
   "metadata": {},
   "outputs": [],
   "source": [
    "with numpyro.handlers.seed(rng_seed=314):\n",
    "    x, y = gaussian_hmm_unknown(x_samples, time_steps=50)"
   ]
  },
  {
   "cell_type": "code",
   "execution_count": null,
   "id": "a4e3f7d7-c145-42a5-b976-ded8fa248b16",
   "metadata": {},
   "outputs": [],
   "source": [
    "x.shape,"
   ]
  },
  {
   "cell_type": "code",
   "execution_count": null,
   "id": "352e7a86-7356-4630-8011-724d6a1e78aa",
   "metadata": {},
   "outputs": [],
   "source": [
    "# Prior prediction\n",
    "predictive = infer.Predictive(\n",
    "    gaussian_hmm_unknown, num_samples=100, return_sites=[\"x\", \"z\"]\n",
    ")\n",
    "\n",
    "# without x\n",
    "prior_predictive = predictive(rng_key_prior, time_steps=50)\n",
    "\n",
    "# extract samples\n",
    "x_samples_prior = prior_predictive[\"x\"]\n",
    "z_samples_prior = prior_predictive[\"z\"]"
   ]
  },
  {
   "cell_type": "code",
   "execution_count": null,
   "id": "97b9319b-a6b2-4a4e-83a3-775f1fd588b5",
   "metadata": {},
   "outputs": [],
   "source": [
    "fig, ax = plt.subplots()\n",
    "\n",
    "ax.plot(\n",
    "    z_samples_prior[:10, ..., 0].T,\n",
    "    z_samples_prior[:10, ..., 1].T,\n",
    "    label=\"Gen. State\",\n",
    "    color=\"black\",\n",
    "    linestyle=\"-\",\n",
    ")\n",
    "ax.set(title=\"Generated States\")\n",
    "plt.show()"
   ]
  },
  {
   "cell_type": "code",
   "execution_count": null,
   "id": "5b7398a5-12d7-49f0-a9bd-f71c2c452bc9",
   "metadata": {},
   "outputs": [],
   "source": [
    "fig, ax = plt.subplots()\n",
    "\n",
    "ax.plot(\n",
    "    x_samples_prior[:10, ..., 0].T,\n",
    "    x_samples_prior[:10, ..., 1].T,\n",
    "    label=\"Gen. State\",\n",
    "    color=\"black\",\n",
    "    linestyle=\"-\",\n",
    ")\n",
    "ax.set(title=\"Generated Observations\")\n",
    "plt.show()"
   ]
  },
  {
   "cell_type": "code",
   "execution_count": null,
   "id": "7d2b257c-0ac7-4987-b8b7-658618fe91c6",
   "metadata": {},
   "outputs": [],
   "source": [
    "n_plots = 3\n",
    "rand_int = 1\n",
    "\n",
    "fig, axes = plt.subplots(nrows=3, figsize=(7, 10))\n",
    "\n",
    "for i, iax in enumerate(axes):\n",
    "\n",
    "    i += rand_int\n",
    "\n",
    "    iax.plot(\n",
    "        z_samples_prior[i, ..., 0],\n",
    "        z_samples_prior[i, ..., 1],\n",
    "        label=\"Gen. State\",\n",
    "        color=\"black\",\n",
    "        linestyle=\"-\",\n",
    "    )\n",
    "    iax.scatter(\n",
    "        x_samples_prior[i, ..., 0],\n",
    "        x_samples_prior[i, ..., 1],\n",
    "        label=\"Gen. Obs\",\n",
    "        color=\"red\",\n",
    "        linestyle=\"--\",\n",
    "    )\n",
    "\n",
    "iax.set(\n",
    "    xlabel=\"x-Position\",\n",
    "    ylabel=\"y-position\",\n",
    ")\n",
    "\n",
    "plt.legend()\n",
    "plt.show()"
   ]
  },
  {
   "cell_type": "markdown",
   "id": "9a57215c-b048-4bd9-bdd6-6e1fb2c8adaa",
   "metadata": {},
   "source": [
    "## Training"
   ]
  },
  {
   "cell_type": "code",
   "execution_count": null,
   "id": "ee2adae0-cadb-461b-b936-2efd5269a9f3",
   "metadata": {},
   "outputs": [],
   "source": [
    "from numpyro import diagnostics, infer, optim"
   ]
  },
  {
   "cell_type": "code",
   "execution_count": null,
   "id": "d738b23c-2db4-4405-9013-6214c1a34627",
   "metadata": {},
   "outputs": [],
   "source": [
    "# Inference\n",
    "kernel = infer.NUTS(gaussian_hmm_unknown)\n",
    "mcmc = infer.MCMC(kernel, num_warmup=200, num_samples=100)\n",
    "mcmc.run(rng_key_infer, x_samples_proi)\n",
    "posterior_samples = mcmc.get_samples()"
   ]
  },
  {
   "cell_type": "markdown",
   "id": "b321f720-4efb-4467-a175-8e9bea8fccc6",
   "metadata": {},
   "source": [
    "### Posterior"
   ]
  },
  {
   "cell_type": "code",
   "execution_count": null,
   "id": "ce957a6e-0a26-4eee-b78d-e15dfd05f9cd",
   "metadata": {},
   "outputs": [],
   "source": [
    "%%time\n",
    "# Posterior prediction\n",
    "predictive = infer.Predictive(\n",
    "    gaussian_hmm_unknown,\n",
    "    posterior_samples=posterior_samples,\n",
    "    return_sites=[\"x\", \"z\"],\n",
    "    num_samples=100,\n",
    ")\n",
    "posterior_predictive = predictive(rng_key_posterior, time_steps=50)"
   ]
  },
  {
   "cell_type": "code",
   "execution_count": null,
   "id": "0f6215fb-310a-4d8d-94a7-2a558a412483",
   "metadata": {},
   "outputs": [],
   "source": [
    "# extract samples\n",
    "x_samples_learned = posterior_predictive[\"x\"]\n",
    "z_samples_learned = posterior_predictive[\"z\"]"
   ]
  },
  {
   "cell_type": "code",
   "execution_count": null,
   "id": "3ff7ce20-e336-45ee-8bbd-5c238e4a6790",
   "metadata": {},
   "outputs": [],
   "source": [
    "fig, ax = plt.subplots()\n",
    "\n",
    "ax.plot(\n",
    "    z_samples_learned[:10, ..., 2].T,\n",
    "    z_samples_learned[:10, ..., 3].T,\n",
    "    label=\"Gen. State\",\n",
    "    color=\"black\",\n",
    "    linestyle=\"-\",\n",
    ")\n",
    "ax.set(title=\"Generated States\")\n",
    "plt.show()"
   ]
  },
  {
   "cell_type": "code",
   "execution_count": null,
   "id": "54808413-27b1-4369-a4d3-0864d282db2c",
   "metadata": {},
   "outputs": [],
   "source": [
    "fig, ax = plt.subplots()\n",
    "\n",
    "ax.plot(\n",
    "    x_samples_learned[:10, ..., 0].T,\n",
    "    x_samples_learned[:10, ..., 1].T,\n",
    "    label=\"Gen. State\",\n",
    "    color=\"black\",\n",
    "    linestyle=\"-\",\n",
    ")\n",
    "ax.set(title=\"Generated Observations\")\n",
    "plt.show()"
   ]
  },
  {
   "cell_type": "code",
   "execution_count": null,
   "id": "9adac130-3a01-413c-8631-319c9210d463",
   "metadata": {},
   "outputs": [],
   "source": [
    "n_plots = 3\n",
    "rand_int = 1\n",
    "\n",
    "fig, axes = plt.subplots(nrows=3, figsize=(7, 10))\n",
    "\n",
    "for i, iax in enumerate(axes):\n",
    "\n",
    "    i += rand_int\n",
    "\n",
    "    iax.plot(\n",
    "        z_samples_learned[i, ..., 0],\n",
    "        z_samples_learned[i, ..., 1],\n",
    "        label=\"Gen. State\",\n",
    "        color=\"black\",\n",
    "        linestyle=\"-\",\n",
    "    )\n",
    "    iax.scatter(\n",
    "        x_samples_learned[i, ..., 0],\n",
    "        x_samples_learned[i, ..., 1],\n",
    "        label=\"Gen. Obs\",\n",
    "        color=\"red\",\n",
    "        linestyle=\"--\",\n",
    "    )\n",
    "\n",
    "iax.set(\n",
    "    xlabel=\"x-Position\",\n",
    "    ylabel=\"y-position\",\n",
    ")\n",
    "\n",
    "plt.legend()\n",
    "plt.show()"
   ]
  },
  {
   "cell_type": "code",
   "execution_count": null,
   "id": "c2440830-6f62-4a81-b107-1259a60b8828",
   "metadata": {},
   "outputs": [],
   "source": [
    "x_lb, x_mu, x_ub = jnp.quantile(x_pred, jnp.array([0.05, 0.5, 0.95]), axis=0)"
   ]
  },
  {
   "cell_type": "code",
   "execution_count": null,
   "id": "f03cdfca-d9d1-433f-8e6d-a0cc52c60982",
   "metadata": {},
   "outputs": [],
   "source": [
    "fig, ax = plt.subplots()\n",
    "\n",
    "ax.plot(t_axes, x_lb, label=\"State\")\n",
    "ax.plot(t_axes, x_mu, label=\"State\")\n",
    "ax.plot(t_axes, x_ub, label=\"State\")\n",
    "ax.scatter(t_axes, obs, label=\"Observations\", color=\"Red\")\n",
    "\n",
    "ax.set(\n",
    "    xlabel=\"Time\",\n",
    "    ylabel=\"Signal\",\n",
    ")\n",
    "\n",
    "plt.legend()"
   ]
  },
  {
   "cell_type": "code",
   "execution_count": null,
   "id": "3a70383a-9a96-40f6-aab8-dc9752fc3836",
   "metadata": {},
   "outputs": [],
   "source": [
    "%%time\n",
    "# Posterior prediction\n",
    "predictive = infer.Predictive(gaussian_hmm, posterior_samples=posterior_samples)\n",
    "posterior_predictive = predictive(rng_key_posterior, time_steps=T)"
   ]
  },
  {
   "cell_type": "code",
   "execution_count": null,
   "id": "ae62c5b8-87b5-42db-bc40-d3327e7eadc8",
   "metadata": {},
   "outputs": [],
   "source": [
    "posterior_predictive"
   ]
  },
  {
   "cell_type": "code",
   "execution_count": null,
   "id": "69bcd920-61f5-4742-9e75-3e09503bc240",
   "metadata": {},
   "outputs": [],
   "source": [
    "with numpyro.handlers.seed(rng_seed=rng_key_prior):\n",
    "    x, temp = gaussian_hmm(x_pred[0])"
   ]
  },
  {
   "cell_type": "code",
   "execution_count": null,
   "id": "5e65c235-85bd-4a16-8214-c799d424faca",
   "metadata": {},
   "outputs": [],
   "source": [
    "fig, ax = plt.subplots()\n",
    "\n",
    "ax.plot(t_axes, temp, label=\"State\")\n",
    "ax.scatter(t_axes, obs, label=\"Observations\", color=\"Red\")\n",
    "\n",
    "ax.set(\n",
    "    xlabel=\"Time\",\n",
    "    ylabel=\"Signal\",\n",
    ")\n",
    "\n",
    "plt.legend()"
   ]
  },
  {
   "cell_type": "markdown",
   "id": "5f47052c-df1a-4c8a-9b4e-88c81b86ccbf",
   "metadata": {},
   "source": [
    "## Training - SVI"
   ]
  },
  {
   "cell_type": "code",
   "execution_count": null,
   "id": "bb68679b-aa51-49ce-bddf-70964f5f62fa",
   "metadata": {},
   "outputs": [],
   "source": [
    "from typing import Optional\n",
    "from numpyro.distributions import constraints\n",
    "\n",
    "\n",
    "def guide(x: Optional[jnp.ndarray] = None, time_steps: int = 30) -> None:\n",
    "\n",
    "    if x is not None:\n",
    "        time_steps = x.shape[0]\n",
    "\n",
    "    phi = numpyro.param(\"phi\", jnp.ones(1))\n",
    "    sigma = numpyro.param(\"sigma\", 0.05 * jnp.ones(1), constraint=constraints.positive)\n",
    "    numpyro.sample(\"z\", dist.Normal(x * phi, sigma))"
   ]
  },
  {
   "cell_type": "code",
   "execution_count": null,
   "id": "f4a3af19-dda1-490c-911c-e71cdaa803b4",
   "metadata": {},
   "outputs": [],
   "source": [
    "from numpyro.infer.autoguide import AutoNormal, AutoDelta"
   ]
  },
  {
   "cell_type": "code",
   "execution_count": null,
   "id": "719990e2-7da3-4951-8086-10f0febc71bc",
   "metadata": {},
   "outputs": [],
   "source": [
    "%%time\n",
    "# optimizers\n",
    "lr = 1e-3\n",
    "adam = optim.Adam(lr)\n",
    "\n",
    "\n",
    "guide = AutoDelta(gaussian_hmm)\n",
    "# def guide(x, time_steps=30):\n",
    "#     return None\n",
    "\n",
    "n_epochs = 100\n",
    "\n",
    "# Inference\n",
    "svi = infer.SVI(gaussian_hmm, guide, adam, infer.Trace_ELBO())\n",
    "svi_result = svi.run(rng_key_infer, n_epochs, x)"
   ]
  },
  {
   "cell_type": "code",
   "execution_count": null,
   "id": "5a3add45-fcf1-410c-9b32-809504abad6a",
   "metadata": {},
   "outputs": [],
   "source": []
  },
  {
   "cell_type": "code",
   "execution_count": null,
   "id": "761d1ccc-4159-40cf-9747-5de920c9d413",
   "metadata": {},
   "outputs": [],
   "source": [
    "svi_result.params"
   ]
  },
  {
   "cell_type": "code",
   "execution_count": null,
   "id": "ce6fad57-1892-44cd-9468-065362757ff0",
   "metadata": {},
   "outputs": [],
   "source": [
    "fig, ax = plt.subplots()\n",
    "\n",
    "ax.plot(svi_result.losses)\n",
    "\n",
    "plt.show()"
   ]
  },
  {
   "cell_type": "code",
   "execution_count": null,
   "id": "695fd726-7f64-48ee-ac16-ff8d9952aa0e",
   "metadata": {},
   "outputs": [],
   "source": [
    "# Posterior prediction\n",
    "predictive = infer.Predictive(gaussian_hmm, params=svi_result.params, num_samples=10)\n",
    "posterior_predictive = predictive(rng_key_posterior, time_steps=T)"
   ]
  },
  {
   "cell_type": "markdown",
   "id": "09aefa98-ea26-4d3c-b699-3d502e55d007",
   "metadata": {},
   "source": [
    "#### Results - X"
   ]
  },
  {
   "cell_type": "code",
   "execution_count": null,
   "id": "7b5dc2d2-f7ff-41f9-8bfb-7cb765d6b414",
   "metadata": {},
   "outputs": [],
   "source": [
    "x_pred = posterior_predictive[\"x\"]\n",
    "x_lb, x_mu, x_ub = jnp.quantile(x_pred, jnp.array([0.05, 0.5, 0.95]), axis=0)"
   ]
  },
  {
   "cell_type": "code",
   "execution_count": null,
   "id": "1b2a0c86-22cc-4dde-a80e-0d4d2bce9e96",
   "metadata": {},
   "outputs": [],
   "source": [
    "fig, ax = plt.subplots()\n",
    "\n",
    "ax.plot(t_axes, x_lb, label=\"State\")\n",
    "ax.plot(t_axes, x_mu, label=\"State\")\n",
    "ax.plot(t_axes, x_ub, label=\"State\")\n",
    "ax.scatter(t_axes, obs, label=\"Observations\", color=\"Red\")\n",
    "\n",
    "ax.set(\n",
    "    xlabel=\"Time\",\n",
    "    ylabel=\"Signal\",\n",
    ")\n",
    "\n",
    "plt.legend()"
   ]
  },
  {
   "cell_type": "code",
   "execution_count": null,
   "id": "4809b9f9-8a50-433b-8043-83af00bd634e",
   "metadata": {},
   "outputs": [],
   "source": []
  },
  {
   "cell_type": "code",
   "execution_count": null,
   "id": "7d02f5bb-694e-4079-8dc8-fe4d445280e0",
   "metadata": {},
   "outputs": [],
   "source": []
  },
  {
   "cell_type": "code",
   "execution_count": null,
   "id": "a6279fa8-85e7-4541-9cf8-e70d493fc13e",
   "metadata": {},
   "outputs": [],
   "source": [
    "%%time\n",
    "# optimizers\n",
    "lr = 1e-2\n",
    "adam = optim.Adam(lr)\n",
    "\n",
    "# def guide(x=None, seq_len: int=0, batch:int=0, x_dim: int=1, future_steps=0, z_dim: int=2, ):\n",
    "#     return None\n",
    "\n",
    "\n",
    "n_epochs = 50_000\n",
    "\n",
    "# Inference\n",
    "svi = infer.SVI(kf_model, guide, adam, infer.Trace_ELBO())\n",
    "svi_result = svi.run(rng_key_infer, n_epochs, x)"
   ]
  },
  {
   "cell_type": "code",
   "execution_count": null,
   "id": "189d6a0b-c7b3-46d9-b84b-13a50e1fe255",
   "metadata": {},
   "outputs": [],
   "source": [
    "plt.plot(svi_result.losses)"
   ]
  },
  {
   "cell_type": "code",
   "execution_count": null,
   "id": "52167578-46ed-4c70-9267-39f6b8ebaec4",
   "metadata": {},
   "outputs": [],
   "source": [
    "svi_result.params"
   ]
  },
  {
   "cell_type": "code",
   "execution_count": null,
   "id": "45b20016-f2e9-4bc6-b367-ff06ebb7e328",
   "metadata": {},
   "outputs": [],
   "source": [
    "# Posterior prediction\n",
    "predictive = infer.Predictive(kf_model, params=svi_result.params, num_samples=20)\n",
    "posterior_predictive = predictive(rng_key_posterior, None, *x.shape, future_steps=10)"
   ]
  },
  {
   "cell_type": "code",
   "execution_count": null,
   "id": "66e4e3a2-e083-4367-b9cc-6af573f9c844",
   "metadata": {},
   "outputs": [],
   "source": [
    "x_pred.shape, x.shape"
   ]
  },
  {
   "cell_type": "code",
   "execution_count": null,
   "id": "dee7843c-9bf2-4643-9846-786d31918c76",
   "metadata": {},
   "outputs": [],
   "source": [
    "x_pred = posterior_predictive[\"x\"]\n",
    "\n",
    "lb, pred, ub = jnp.percentile(x_pred, jnp.array([0.1, 0.5, 0.95]), axis=0)"
   ]
  },
  {
   "cell_type": "code",
   "execution_count": null,
   "id": "d7daabe4-1600-4bc7-bdc6-2aae48a9c2dc",
   "metadata": {},
   "outputs": [],
   "source": [
    "fig, ax = plt.subplots()\n",
    "\n",
    "ax.plot(x[:, 0, :], label=\"samples\")\n",
    "ax.plot(pred[:, 0, :], label=\"Preds\")\n",
    "\n",
    "plt.legend()\n",
    "plt.show()"
   ]
  },
  {
   "cell_type": "code",
   "execution_count": null,
   "id": "36018e19-7e43-4087-baa0-30b3ac2e4c9f",
   "metadata": {},
   "outputs": [],
   "source": [
    "x_pred.shape"
   ]
  },
  {
   "cell_type": "code",
   "execution_count": null,
   "id": "05b7ec88-84e5-4009-9c94-b86bd46abe56",
   "metadata": {},
   "outputs": [],
   "source": [
    "d = jnp.ones(2)\n",
    "d = jnp.diag(d)\n",
    "d"
   ]
  },
  {
   "cell_type": "code",
   "execution_count": null,
   "id": "4944c462-1e5d-4032-8f8d-5b205c72d481",
   "metadata": {},
   "outputs": [],
   "source": []
  },
  {
   "cell_type": "code",
   "execution_count": null,
   "id": "42419dbf-28e4-4d16-89f4-8e02414aca6d",
   "metadata": {},
   "outputs": [],
   "source": [
    "# initialize Kalman Filter\n",
    "state_dim = 2\n",
    "observation_dim = 1\n",
    "\n",
    "# init transition model\n",
    "transition_matrix = jnp.array([[1.0, 1.0], [0.0, 1.0]])  # state transition matrix\n",
    "transition_noise = 1e-4 * jnp.eye((state_dim))  # state uncertainty\n",
    "\n",
    "# check sizes\n",
    "assert transition_matrix.shape == (state_dim, state_dim)\n",
    "assert transition_noise.shape == (state_dim, state_dim)\n",
    "\n",
    "# init emission model\n",
    "observation_matrix = jnp.array([[1.0, 0.0]])  # emission matrix\n",
    "observation_noise = 50.0 * jnp.eye((1))  # emission uncertainty\n",
    "\n",
    "assert observation_matrix.shape == (observation_dim, state_dim)\n",
    "assert observation_noise.shape == (observation_dim, observation_dim)\n",
    "\n",
    "\n",
    "# Prior parameter distribution\n",
    "mu0 = jnp.array([2.0, 0.0]).astype(float)\n",
    "Sigma0 = jnp.eye(state_dim) * 1.0\n",
    "\n",
    "assert mu0.shape == (state_dim,)\n",
    "assert Sigma0.shape == (state_dim, state_dim)"
   ]
  },
  {
   "cell_type": "markdown",
   "id": "4c9a4b34-23db-462b-9239-26d375874c59",
   "metadata": {},
   "source": [
    "##"
   ]
  },
  {
   "cell_type": "code",
   "execution_count": null,
   "id": "524bc614-b953-45dd-ab79-46d53ee38f99",
   "metadata": {},
   "outputs": [],
   "source": [
    "# initia\n",
    "transition_noise_dist = lgssm.MultivariateNormal(jnp.zeros(state_dim), transition_noise)\n",
    "\n",
    "observation_noise_dist = lgssm.MultivariateNormal(\n",
    "    jnp.zeros(observation_dim), observation_noise\n",
    ")\n",
    "\n",
    "initial_state_prior_dist = lgssm.MultivariateNormal(mu0, Sigma0)\n",
    "\n",
    "kf_model = lgssm.LinearGaussianStateSpaceModel(\n",
    "    transition_matrix,\n",
    "    transition_noise_dist,\n",
    "    observation_matrix,\n",
    "    observation_noise_dist,\n",
    "    initial_state_prior_dist,\n",
    ")"
   ]
  },
  {
   "cell_type": "code",
   "execution_count": null,
   "id": "7502ca2a-d134-478a-a7fb-41e5d7712606",
   "metadata": {},
   "outputs": [],
   "source": [
    "%%time\n",
    "\n",
    "log_probs, mus, sigmas, mus_cond, sigmas_cond = kf_model.forward_filter(obs_samples[0])\n",
    "\n",
    "\n",
    "mus.shape, sigmas.shape"
   ]
  },
  {
   "cell_type": "code",
   "execution_count": null,
   "id": "e2275c65-df8e-4a19-afab-3726bc3d049b",
   "metadata": {},
   "outputs": [],
   "source": [
    "fig, ax = plt.subplots()\n",
    "\n",
    "\n",
    "ax.scatter(ts[0], obs_samples[0], color=\"red\", label=\"Observations\")\n",
    "ax.plot(ts[0], mus[:, 0], label=\"State (Filtered)\", linestyle=\"--\")\n",
    "\n",
    "ax.set(xlabel=\"Time\", ylabel=\"Signal\")\n",
    "\n",
    "plt.legend()\n",
    "plt.show()"
   ]
  },
  {
   "cell_type": "code",
   "execution_count": null,
   "id": "2b10fb1b-df6d-4f4d-93db-18e6831d5732",
   "metadata": {},
   "outputs": [],
   "source": [
    "fig, ax = plt.subplots()\n",
    "\n",
    "\n",
    "ax.scatter(ts[0], obs_samples[0], color=\"red\", label=\"Observations\")\n",
    "ax.plot(ts[0], mus_cond[:, 0], label=\"State (Filtered)\", linestyle=\"--\")\n",
    "\n",
    "ax.set(xlabel=\"Time\", ylabel=\"Signal\")\n",
    "\n",
    "plt.legend()\n",
    "plt.show()"
   ]
  },
  {
   "cell_type": "code",
   "execution_count": null,
   "id": "ae636607-9bf0-496a-a164-dc41dbe715be",
   "metadata": {},
   "outputs": [],
   "source": [
    "state.shape, obs.shape"
   ]
  },
  {
   "cell_type": "code",
   "execution_count": null,
   "id": "9ad2729c-45d8-44c8-8e32-e8ef60fe0788",
   "metadata": {},
   "outputs": [],
   "source": [
    "# initialize states\n",
    "all_states, all_obs = [], []\n",
    "\n",
    "state = state_init\n",
    "\n",
    "for i_step in tqdm(sample_keys):\n",
    "\n",
    "    # kalman step\n",
    "    state, (state, obs) = kf_model.sample_step(state, i_step)\n",
    "\n",
    "    # append\n",
    "    all_states.append(state)\n",
    "    all_obs.append(obs)\n",
    "\n",
    "\n",
    "all_states = jnp.vstack(all_states)\n",
    "all_obs = jnp.vstack(all_obs)"
   ]
  },
  {
   "cell_type": "code",
   "execution_count": null,
   "id": "1d821403-e9eb-4fe2-b3a9-e2f0b62cf0c1",
   "metadata": {},
   "outputs": [],
   "source": [
    "fig, ax = plt.subplots()\n",
    "\n",
    "ax.plot(time_steps, all_states[:, 0], label=\"True State\", color=\"green\")\n",
    "ax.scatter(time_steps, all_obs, label=\"Observations\", color=\"red\", alpha=0.4)\n",
    "\n",
    "plt.legend()\n",
    "plt.show()"
   ]
  },
  {
   "cell_type": "code",
   "execution_count": null,
   "id": "e9fc9092-ec26-4acf-84ff-2c25cc02ed57",
   "metadata": {},
   "outputs": [],
   "source": []
  },
  {
   "cell_type": "code",
   "execution_count": null,
   "id": "71b56d5b-7a39-444d-b1d5-94f77316c257",
   "metadata": {},
   "outputs": [],
   "source": [
    "num_time_steps = 100\n",
    "\n",
    "all_states, all_obs = kf_model.sample(\n",
    "    seed=123, sample_shape=10, num_timesteps=num_time_steps\n",
    ")\n",
    "states.shape, all_obs.shape"
   ]
  },
  {
   "cell_type": "code",
   "execution_count": null,
   "id": "a9ab92de-f9ec-4264-9a17-ed829b6ea3c3",
   "metadata": {},
   "outputs": [],
   "source": [
    "fig, ax = plt.subplots()\n",
    "\n",
    "ax.plot(time_steps, all_states[3, :, 0], label=\"True State\")\n",
    "ax.scatter(time_steps, all_obs[3, :, 0], label=\"Observations\")\n",
    "\n",
    "plt.legend()\n",
    "plt.show()"
   ]
  },
  {
   "cell_type": "code",
   "execution_count": null,
   "id": "197839b8-0433-4322-bf9a-b1af468e980e",
   "metadata": {},
   "outputs": [],
   "source": [
    "mu0.shape"
   ]
  },
  {
   "cell_type": "code",
   "execution_count": null,
   "id": "5512748d-6eec-4e7b-b526-e266ca666a73",
   "metadata": {},
   "outputs": [],
   "source": [
    "kf_model.sample_step(mu0, key)"
   ]
  },
  {
   "cell_type": "markdown",
   "id": "24e227ad-84a4-4a88-aabc-e0db3dd19127",
   "metadata": {},
   "source": [
    "---"
   ]
  },
  {
   "cell_type": "markdown",
   "id": "0fb9cc76-26ff-4758-88d5-5d5f0d0ae26d",
   "metadata": {},
   "source": [
    "## Filtering\n",
    "\n",
    "1. Do Forward Filter for a batch of inputs\n",
    "2. Init prior mean, cov\n",
    "3. Loop Through Kalman Step (mu0, cov0)"
   ]
  },
  {
   "cell_type": "code",
   "execution_count": null,
   "id": "f75328e6-a868-4e17-b300-c392d439dd56",
   "metadata": {},
   "outputs": [],
   "source": [
    "from jaxkf._src.functional.ops import kalman_step"
   ]
  },
  {
   "cell_type": "code",
   "execution_count": null,
   "id": "eebc7ab9-a376-4b6d-aec9-1e538c933e0c",
   "metadata": {},
   "outputs": [],
   "source": [
    "num_time_steps = 15\n",
    "\n",
    "states_preds, states_corrs = [], []\n",
    "\n",
    "for i_t_step in trange(num_time_steps):\n",
    "    \n",
    "    # kalman step\n",
    "    state_pred, state_corrected = kalman_step(\n",
    "    \n",
    "    pass"
   ]
  },
  {
   "cell_type": "markdown",
   "id": "d30938fa-482a-4f3e-acb3-220e66c5653e",
   "metadata": {},
   "source": [
    "### Kalman Filter Step"
   ]
  },
  {
   "cell_type": "code",
   "execution_count": null,
   "id": "c8244243-eeb1-4ba7-a4a4-fb9405e25e08",
   "metadata": {},
   "outputs": [],
   "source": []
  },
  {
   "cell_type": "code",
   "execution_count": null,
   "id": "74a9d7a7-92d9-44ff-9bde-0c4e8e6062ab",
   "metadata": {},
   "outputs": [],
   "source": []
  },
  {
   "cell_type": "markdown",
   "id": "5c32f662-76de-4790-a9b7-17d4050941ed",
   "metadata": {},
   "source": [
    "### Predict Step"
   ]
  },
  {
   "cell_type": "code",
   "execution_count": null,
   "id": "71b976d9-c4c4-4a92-a20f-0ac1ac67a7aa",
   "metadata": {},
   "outputs": [],
   "source": []
  },
  {
   "cell_type": "markdown",
   "id": "93723372-8c99-4ae6-957a-033ef4cf7434",
   "metadata": {},
   "source": [
    "## Smoothing"
   ]
  },
  {
   "cell_type": "code",
   "execution_count": null,
   "id": "a9f84a55-29e5-4e5a-b8f3-7edfc8bee07d",
   "metadata": {},
   "outputs": [],
   "source": []
  },
  {
   "cell_type": "markdown",
   "id": "72402d67-e64c-4b23-933a-8ae3ff645187",
   "metadata": {},
   "source": [
    "### Posterior Marginals (Alternative)"
   ]
  },
  {
   "cell_type": "code",
   "execution_count": null,
   "id": "2d01c6b9-ca49-4b2c-b95c-7565e2b69083",
   "metadata": {},
   "outputs": [],
   "source": []
  },
  {
   "cell_type": "markdown",
   "id": "9a2cb65e-d236-49ba-9479-198fd828f699",
   "metadata": {},
   "source": [
    "## Log Probability"
   ]
  },
  {
   "cell_type": "code",
   "execution_count": null,
   "id": "f939f6be-03e3-45c9-a829-e93fec839903",
   "metadata": {},
   "outputs": [],
   "source": []
  },
  {
   "cell_type": "code",
   "execution_count": null,
   "id": "3858bd2d-654b-4542-a0b3-bd84d4497c89",
   "metadata": {},
   "outputs": [],
   "source": []
  },
  {
   "cell_type": "code",
   "execution_count": null,
   "id": "02912496-8e61-4b0d-bb23-9600c3a43915",
   "metadata": {},
   "outputs": [],
   "source": []
  },
  {
   "cell_type": "markdown",
   "id": "19dc5bf3-3756-4039-b571-91923092e5cf",
   "metadata": {},
   "source": [
    "## Model"
   ]
  },
  {
   "cell_type": "code",
   "execution_count": null,
   "id": "04e05afe-767f-4b81-9762-51cda747d016",
   "metadata": {},
   "outputs": [],
   "source": []
  },
  {
   "cell_type": "code",
   "execution_count": null,
   "id": "d824d633-5379-479c-82a3-ebf364376e68",
   "metadata": {},
   "outputs": [],
   "source": []
  },
  {
   "cell_type": "code",
   "execution_count": null,
   "id": "4d87f045-7a73-4309-8999-c0626046a0be",
   "metadata": {},
   "outputs": [],
   "source": []
  },
  {
   "cell_type": "markdown",
   "id": "5c374292-5016-4478-9c3b-ea1f904651f6",
   "metadata": {},
   "source": [
    "##### Initialize Parameters"
   ]
  },
  {
   "cell_type": "code",
   "execution_count": null,
   "id": "259f40c6-6795-4225-93c5-de77ae9ffea9",
   "metadata": {},
   "outputs": [],
   "source": [
    "kf_params = KFParams(F=F, R=R, H=H, Q=Q)"
   ]
  }
 ],
 "metadata": {
  "kernelspec": {
   "display_name": "Python [conda env:miniconda3-sci_jax_py39]",
   "language": "python",
   "name": "conda-env-miniconda3-sci_jax_py39-py"
  },
  "language_info": {
   "codemirror_mode": {
    "name": "ipython",
    "version": 3
   },
   "file_extension": ".py",
   "mimetype": "text/x-python",
   "name": "python",
   "nbconvert_exporter": "python",
   "pygments_lexer": "ipython3",
   "version": "3.9.9"
  }
 },
 "nbformat": 4,
 "nbformat_minor": 5
}
