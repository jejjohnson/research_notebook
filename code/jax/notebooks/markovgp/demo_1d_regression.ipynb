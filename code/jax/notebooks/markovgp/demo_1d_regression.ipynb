{
 "cells": [
  {
   "cell_type": "markdown",
   "id": "c71e0bab-7b4d-488d-b343-dc831849eed4",
   "metadata": {},
   "source": [
    "# Demo - Regression"
   ]
  },
  {
   "cell_type": "code",
   "execution_count": null,
   "id": "cf043f21-cf19-4816-988f-b4e95d5f5164",
   "metadata": {},
   "outputs": [],
   "source": [
    "import bayesnewton\n",
    "import objax\n",
    "import numpy as np\n",
    "import matplotlib.pyplot as plt\n",
    "import time\n",
    "from tqdm.notebook import tqdm, trange"
   ]
  },
  {
   "cell_type": "markdown",
   "id": "a091fe7e-0caa-424b-80ba-ab5cde024acc",
   "metadata": {},
   "source": [
    "## Data"
   ]
  },
  {
   "cell_type": "code",
   "execution_count": null,
   "id": "d7ea153c-3722-4ee1-bf70-4a170a93db9a",
   "metadata": {},
   "outputs": [],
   "source": [
    "def wiggly_time_series(x_, noise_var: float = 0.2):\n",
    "    # return 0.25 * (np.cos(0.04*x_+0.33*np.pi) * np.sin(0.2*x_) +\n",
    "    return (\n",
    "        np.cos(0.04 * x_ + 0.33 * np.pi) * np.sin(0.2 * x_)\n",
    "        + np.math.sqrt(noise_var) * np.random.normal(0, 1, x_.shape)\n",
    "        +\n",
    "        # np.math.sqrt(noise_var) * np.random.uniform(-4, 4, x_.shape) +\n",
    "        0.0 * x_\n",
    "    )  # 0.02 * x_)\n",
    "    # 0.0 * x_) + 2.5  # 0.02 * x_)"
   ]
  },
  {
   "cell_type": "markdown",
   "id": "1d4eb9f7-5067-4630-906c-5d2f96f8e928",
   "metadata": {},
   "source": [
    "### Train Data"
   ]
  },
  {
   "cell_type": "code",
   "execution_count": null,
   "id": "d49b8492-0c23-4a5c-999a-d95c1e4a67d6",
   "metadata": {},
   "outputs": [],
   "source": [
    "np.random.seed(12345)\n",
    "N = 100\n",
    "x = np.linspace(-17, 147, num=N)\n",
    "\n",
    "# observations\n",
    "noise_var = 0.2\n",
    "y = wiggly_time_series(x, noise_var)"
   ]
  },
  {
   "cell_type": "markdown",
   "id": "5220546d-22d5-44d7-a5e8-a17895eef21f",
   "metadata": {},
   "source": [
    "### Test Data"
   ]
  },
  {
   "cell_type": "code",
   "execution_count": null,
   "id": "49fb1e80-c6c8-4e10-abc6-283677da8571",
   "metadata": {},
   "outputs": [],
   "source": [
    "x_test = np.linspace(np.min(x), np.max(x), num=500)\n",
    "# x_test = np.linspace(-32.5, 157.5, num=250)\n",
    "y_test = wiggly_time_series(x_test)\n",
    "x_plot = np.linspace(np.min(x) - 20.0, np.max(x) + 100.0, 200)"
   ]
  },
  {
   "cell_type": "code",
   "execution_count": null,
   "id": "82c1a8d1-6daf-4f04-983b-3f5b1a01de75",
   "metadata": {},
   "outputs": [],
   "source": [
    "x_forecast = np.linspace(np.max(x), np.max(x) + 100.0, num=50)\n",
    "y_forecast = wiggly_time_series(x_forecast)"
   ]
  },
  {
   "cell_type": "markdown",
   "id": "8a2b75e9-b608-48c4-9977-e52173a11561",
   "metadata": {},
   "source": [
    "### Viz - Time Series"
   ]
  },
  {
   "cell_type": "code",
   "execution_count": null,
   "id": "6ce1aee5-ba05-443b-b408-54db50ad6e7a",
   "metadata": {},
   "outputs": [],
   "source": [
    "fig, ax = plt.subplots()\n",
    "\n",
    "ax.plot(x, y, label=\"Train Data\")\n",
    "ax.plot(x_test, y_test, label=\"Test Data\")\n",
    "plt.legend()\n",
    "plt.show()"
   ]
  },
  {
   "cell_type": "markdown",
   "id": "791360cb-7093-4d8b-962e-60267e08172b",
   "metadata": {},
   "source": [
    "## Model"
   ]
  },
  {
   "cell_type": "markdown",
   "id": "589ed3b5-1c06-41e7-8ede-b48acc1c57e4",
   "metadata": {},
   "source": [
    "### Inducing Points"
   ]
  },
  {
   "cell_type": "code",
   "execution_count": null,
   "id": "b0458a54-39c0-4e29-8add-b479e4dbd53c",
   "metadata": {},
   "outputs": [],
   "source": [
    "# inducing points\n",
    "M = 20\n",
    "z = np.linspace(-30, 155, num=M)"
   ]
  },
  {
   "cell_type": "markdown",
   "id": "48987369-9076-4a02-9fdd-8b3970d12623",
   "metadata": {},
   "source": [
    "### Batches"
   ]
  },
  {
   "cell_type": "code",
   "execution_count": null,
   "id": "ecde9005-e00b-47ed-9124-7a17029fb042",
   "metadata": {},
   "outputs": [],
   "source": [
    "batch_size = N"
   ]
  },
  {
   "cell_type": "markdown",
   "id": "7d3b6fe7-78a7-4aaa-827b-3014fd03e362",
   "metadata": {},
   "source": [
    "### GP Model Params"
   ]
  },
  {
   "cell_type": "code",
   "execution_count": null,
   "id": "c81edeea-cf26-4071-960a-4f8d9fc34896",
   "metadata": {},
   "outputs": [],
   "source": [
    "var_f = 1.0  # GP variance\n",
    "len_f = 5.0  # GP lengthscale\n",
    "var_y = 0.2  # observation noise"
   ]
  },
  {
   "cell_type": "code",
   "execution_count": null,
   "id": "1f0d4fd8-56a8-459d-a59b-a2a2bc3fbf2b",
   "metadata": {},
   "outputs": [],
   "source": [
    "x.shape, y.shape"
   ]
  },
  {
   "cell_type": "code",
   "execution_count": null,
   "id": "fa15de7b-2e88-42fc-984d-da801daa87cb",
   "metadata": {},
   "outputs": [],
   "source": [
    "# Kernel function\n",
    "kern1 = bayesnewton.kernels.Matern52(variance=var_f, lengthscale=len_f)\n",
    "kern2 = bayesnewton.kernels.Periodic()\n",
    "kern = bayesnewton.kernels.Sum([kern1, kern2])\n",
    "# kern = kern1 + kern2\n",
    "\n",
    "# likelihood function\n",
    "lik = bayesnewton.likelihoods.Gaussian(variance=var_y)\n",
    "\n",
    "# model = bayesnewton.models.MarkovVariationalGP(kernel=kern, likelihood=lik, X=x, Y=y)\n",
    "model = bayesnewton.models.InfiniteHorizonVariationalGP(\n",
    "    kernel=kern, likelihood=lik, X=x, Y=y\n",
    ")"
   ]
  },
  {
   "cell_type": "markdown",
   "id": "74b31507-6049-454b-9e47-45fe123f5adb",
   "metadata": {},
   "source": [
    "### Optimization"
   ]
  },
  {
   "cell_type": "code",
   "execution_count": null,
   "id": "47a07449-e761-4d39-8b4d-b3d0b9e2454c",
   "metadata": {},
   "outputs": [],
   "source": [
    "lr_adam = 0.1\n",
    "lr_newton = 1\n",
    "opt_hypers = objax.optimizer.Adam(model.vars())"
   ]
  },
  {
   "cell_type": "markdown",
   "id": "95fa395a-6013-4d41-b71d-bc0e3b25ec66",
   "metadata": {},
   "source": [
    "### Loss Function"
   ]
  },
  {
   "cell_type": "code",
   "execution_count": null,
   "id": "4ebbb4d2-e690-4837-8fb5-c33243a7234e",
   "metadata": {},
   "outputs": [],
   "source": [
    "energy = objax.GradValues(model.energy, model.vars())"
   ]
  },
  {
   "cell_type": "code",
   "execution_count": null,
   "id": "8621b394-c745-4cf1-b0ed-c9171b0a6838",
   "metadata": {},
   "outputs": [],
   "source": [
    "@objax.Function.with_vars(model.vars() + opt_hypers.vars())\n",
    "def train_op():\n",
    "    # batch = np.random.permutation(N)[:batch_size]\n",
    "    # model.inference(lr=lr_newton, batch_ind=batch, **inf_args)  # perform inference and update variational params\n",
    "    # dE, E = energy(batch_ind=batch, **inf_args)  # compute energy and its gradients w.r.t. hypers\n",
    "    model.inference(lr=lr_newton)  # perform inference and update variational params\n",
    "    dE, E = energy()  # compute energy and its gradients w.r.t. hypers\n",
    "    opt_hypers(lr_adam, dE)\n",
    "    return E"
   ]
  },
  {
   "cell_type": "code",
   "execution_count": null,
   "id": "e352bfc8-569f-4dc3-b1e7-b2fe8b5a7128",
   "metadata": {},
   "outputs": [],
   "source": [
    "train_op = objax.Jit(train_op)"
   ]
  },
  {
   "cell_type": "markdown",
   "id": "1279317c-a21a-4b27-8ef2-e4f3e58c6239",
   "metadata": {},
   "source": [
    "### Training"
   ]
  },
  {
   "cell_type": "code",
   "execution_count": null,
   "id": "a9b9e338-4f89-4698-99ec-0f0947a70ed1",
   "metadata": {},
   "outputs": [],
   "source": [
    "iters = 500\n",
    "\n",
    "losses = []\n",
    "# t0 = time.time()\n",
    "with trange(1, iters + 1) as pbar:\n",
    "    for i in pbar:\n",
    "        loss = train_op()\n",
    "        pbar.set_description(f\"iter {i:2d}, energy: {loss[0]:1.4f}\")\n",
    "\n",
    "        losses.append(loss[0])\n",
    "\n",
    "# print('optimisation time: %2.2f secs' % (t1-t0))"
   ]
  },
  {
   "cell_type": "markdown",
   "id": "9e18d0f3-61d9-457b-b82b-b2413ad47aca",
   "metadata": {},
   "source": [
    "## Results"
   ]
  },
  {
   "cell_type": "code",
   "execution_count": null,
   "id": "cfef6cf0-3d3c-4cd3-aff4-833db763d5a2",
   "metadata": {},
   "outputs": [],
   "source": [
    "nlpd = model.negative_log_predictive_density(X=x_test, Y=y_test)\n",
    "\n",
    "print(\"nlpd: %2.3f\" % nlpd)"
   ]
  },
  {
   "cell_type": "markdown",
   "id": "c8b96fb9-6fec-4162-aa52-45b7169dfc43",
   "metadata": {},
   "source": [
    "### Loss Curve"
   ]
  },
  {
   "cell_type": "code",
   "execution_count": null,
   "id": "4320847b-9456-4f50-9e6e-382ab631ee44",
   "metadata": {},
   "outputs": [],
   "source": [
    "fig, ax = plt.subplots()\n",
    "\n",
    "ax.plot(losses, label=f\"Training Loss ({nlpd:2.3f})\")\n",
    "ax.set(xlabel=\"Iterations\", ylabel=\"NLL\")\n",
    "plt.legend()\n",
    "plt.show()"
   ]
  },
  {
   "cell_type": "markdown",
   "id": "580e8a68-eeae-4402-86cc-7b6017f4c274",
   "metadata": {},
   "source": [
    "### Posterior Predictions"
   ]
  },
  {
   "cell_type": "code",
   "execution_count": null,
   "id": "ecdc17a5-7ae3-4720-92f4-2c75a1cc4cd5",
   "metadata": {},
   "outputs": [],
   "source": [
    "%%time\n",
    "\n",
    "posterior_mean, posterior_var = model.predict_y(X=x_plot)"
   ]
  },
  {
   "cell_type": "code",
   "execution_count": null,
   "id": "d1bb2cff-3760-4e0a-891b-1f74b1d2e898",
   "metadata": {},
   "outputs": [],
   "source": [
    "# confidence intervals\n",
    "lb = posterior_mean - 1.96 * posterior_var**0.5\n",
    "ub = posterior_mean + 1.96 * posterior_var**0.5"
   ]
  },
  {
   "cell_type": "markdown",
   "id": "e0ab4747-cb67-42de-816b-fd7f70103aa1",
   "metadata": {},
   "source": [
    "#### Viz - Predictions"
   ]
  },
  {
   "cell_type": "code",
   "execution_count": null,
   "id": "acd20742-39b9-44db-ad09-fe10d77c94ff",
   "metadata": {},
   "outputs": [],
   "source": [
    "print(\"plotting ...\")\n",
    "plt.figure(1, figsize=(12, 5))\n",
    "plt.clf()\n",
    "plt.plot(x, y, \"k.\", label=\"training observations\")\n",
    "plt.plot(x_test, y_test, \"r.\", alpha=0.4, label=\"test observations\")\n",
    "plt.plot(x_plot, posterior_mean, \"b\", label=\"posterior mean\")\n",
    "# plt.plot(x_plot, posterior_samples.T, 'b', alpha=0.2)\n",
    "plt.fill_between(x_plot, lb, ub, color=\"b\", alpha=0.05, label=\"95% confidence\")\n",
    "plt.xlim([x_plot[0], x_plot[-1]])\n",
    "if hasattr(model, \"Z\"):\n",
    "    plt.plot(\n",
    "        model.Z.value[:, 0], -2 * np.ones_like(model.Z.value[:, 0]), \"b^\", markersize=5\n",
    "    )\n",
    "# plt.xlim([x_test[0], x_test[-1]])\n",
    "# plt.ylim([-2, 5])\n",
    "plt.legend()\n",
    "plt.title(\"GP regression\")\n",
    "plt.xlabel(\"$X$\")\n",
    "plt.show()"
   ]
  },
  {
   "cell_type": "code",
   "execution_count": null,
   "id": "6802f7dd-fd1a-4daa-a510-52e3a5ea8763",
   "metadata": {},
   "outputs": [],
   "source": []
  },
  {
   "cell_type": "code",
   "execution_count": null,
   "id": "5cd79010-fc7f-400d-bc2a-484fc615b707",
   "metadata": {},
   "outputs": [],
   "source": []
  },
  {
   "cell_type": "code",
   "execution_count": null,
   "id": "e6076b83-98b7-42e3-b977-4e2b7e184c91",
   "metadata": {},
   "outputs": [],
   "source": []
  },
  {
   "cell_type": "markdown",
   "id": "3dcefa29-a6ed-44ce-b1f3-6704b12e2194",
   "metadata": {},
   "source": [
    "### Posterior Samples"
   ]
  },
  {
   "cell_type": "code",
   "execution_count": null,
   "id": "d3d0d327-cf54-419f-a01d-73794896c9d6",
   "metadata": {},
   "outputs": [],
   "source": [
    "%%time\n",
    "\n",
    "posterior_samples = model.posterior_sample(X=x_plot, num_samps=20)\n",
    "posterior_mean = posterior_samples.mean(axis=0)"
   ]
  },
  {
   "cell_type": "code",
   "execution_count": null,
   "id": "f9280603-6edb-44ed-a3ab-25e2b00e4add",
   "metadata": {},
   "outputs": [],
   "source": [
    "fig, ax = plt.subplots(figsize=(12, 5))\n",
    "\n",
    "\n",
    "ax.plot(x_plot, posterior_samples.T, color=\"red\", alpha=0.3)\n",
    "ax.plot(x_plot, posterior_mean, \"b\", label=\"posterior mean\")\n",
    "\n",
    "plt.legend()\n",
    "plt.title(\"Posterior Samples\")\n",
    "plt.xlabel(\"$X$\")\n",
    "plt.show()"
   ]
  },
  {
   "cell_type": "markdown",
   "id": "7dcd580b-37d4-43b4-99f5-6a06388ef061",
   "metadata": {},
   "source": [
    "### Forecast"
   ]
  },
  {
   "cell_type": "code",
   "execution_count": null,
   "id": "2dc268fd-ae34-405e-8fec-3c636084fcff",
   "metadata": {},
   "outputs": [],
   "source": [
    "%%time\n",
    "\n",
    "x_forecast = np.linspace(np.max(x), np.max(x) + 100.0, num=50)\n",
    "y_forecast = wiggly_time_series(x_forecast)\n",
    "\n",
    "posterior_mean, posterior_var = model.predict_y(X=x_forecast)"
   ]
  },
  {
   "cell_type": "code",
   "execution_count": null,
   "id": "ac0b0ff8-bafc-4109-9f03-3c260d6047fd",
   "metadata": {},
   "outputs": [],
   "source": [
    "# confidence intervals\n",
    "lb = posterior_mean - 1.96 * posterior_var**0.5\n",
    "ub = posterior_mean + 1.96 * posterior_var**0.5"
   ]
  },
  {
   "cell_type": "code",
   "execution_count": null,
   "id": "17aef27d-16dc-40b6-a7ae-1288c04a0447",
   "metadata": {},
   "outputs": [],
   "source": [
    "print(\"plotting ...\")\n",
    "plt.figure(1, figsize=(12, 5))\n",
    "plt.clf()\n",
    "# plt.plot(x, y, 'k.', label='training observations')\n",
    "plt.plot(x_test, y_test, \"r.\", alpha=0.4, label=\"test observations\")\n",
    "plt.plot(x_forecast, y_forecast, \"r\", alpha=0.4, label=\"test observations (Forecast)\")\n",
    "plt.plot(x_forecast, posterior_mean, \"b\", label=\"posterior mean (Forecast)\")\n",
    "# plt.plot(x_plot, posterior_samples.T, 'b', alpha=0.2)\n",
    "plt.fill_between(\n",
    "    x_forecast, lb, ub, color=\"b\", alpha=0.05, label=\"95% confidence (Forecast)\"\n",
    ")\n",
    "plt.xlim([x_plot[120], x_forecast[-1]])\n",
    "# if hasattr(model, 'Z'):\n",
    "#     plt.plot(model.Z.value[:, 0], -2 * np.ones_like(model.Z.value[:, 0]), 'b^', markersize=5)\n",
    "# plt.xlim([x_test[0], x_test[-1]])\n",
    "# plt.ylim([-2, 5])\n",
    "plt.legend()\n",
    "plt.title(\"GP regression\")\n",
    "plt.xlabel(\"$X$\")\n",
    "plt.show()"
   ]
  },
  {
   "cell_type": "code",
   "execution_count": null,
   "id": "ca2496b6-7455-42fa-b289-cb5d57f13d88",
   "metadata": {},
   "outputs": [],
   "source": []
  }
 ],
 "metadata": {
  "kernelspec": {
   "display_name": "Python [conda env:miniconda3-sci_jax_py39]",
   "language": "python",
   "name": "conda-env-miniconda3-sci_jax_py39-py"
  },
  "language_info": {
   "codemirror_mode": {
    "name": "ipython",
    "version": 3
   },
   "file_extension": ".py",
   "mimetype": "text/x-python",
   "name": "python",
   "nbconvert_exporter": "python",
   "pygments_lexer": "ipython3",
   "version": "3.9.7"
  }
 },
 "nbformat": 4,
 "nbformat_minor": 5
}
