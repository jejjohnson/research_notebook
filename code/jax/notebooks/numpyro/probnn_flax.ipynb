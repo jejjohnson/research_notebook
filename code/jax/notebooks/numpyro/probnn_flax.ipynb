{
 "cells": [
  {
   "cell_type": "code",
   "execution_count": null,
   "id": "1f8ace2f-9c7a-4ee5-82b9-9c1aa842223e",
   "metadata": {},
   "outputs": [],
   "source": [
    "import numpy as np\n",
    "\n",
    "np.random.seed(0)\n",
    "\n",
    "import tqdm\n",
    "\n",
    "from flax import linen as nn\n",
    "\n",
    "from jax import jit, random\n",
    "\n",
    "import numpyro\n",
    "\n",
    "import numpyro.distributions as dist\n",
    "\n",
    "from numpyro.contrib.module import random_flax_module, flax_module\n",
    "\n",
    "from numpyro.infer import (\n",
    "    Predictive,\n",
    "    SVI,\n",
    "    TraceMeanField_ELBO,\n",
    "    autoguide,\n",
    "    init_to_feasible,\n",
    ")\n",
    "\n",
    "import matplotlib.pyplot as plt\n",
    "\n",
    "%matplotlib inline"
   ]
  },
  {
   "cell_type": "code",
   "execution_count": null,
   "id": "290946aa-eb62-4a0d-b88c-5201e273a174",
   "metadata": {},
   "outputs": [],
   "source": [
    "# def generate_data(n_samples, plot: bool=False):\n",
    "\n",
    "#     x = np.random.normal(size=n_samples)\n",
    "\n",
    "\n",
    "#     if not plot:\n",
    "#         x = np.random.normal(size=n_samples)\n",
    "#         y = np.cos(x * 3) + np.random.normal(size=n_samples) * np.abs(x) / 2\n",
    "\n",
    "#     else:\n",
    "#         x = 1.5 * np.random.normal(size=n_samples)\n",
    "#         x = np.sort(x)\n",
    "#         y = np.cos(x * 3) #= np.random.normal(size=n_samples) * np.abs(x) / 2\n",
    "\n",
    "#     return x, y"
   ]
  },
  {
   "cell_type": "code",
   "execution_count": null,
   "id": "7da4c263-2683-45e9-aafc-aff79ebd9a05",
   "metadata": {},
   "outputs": [],
   "source": [
    "def generate_data(n_samples: int = 100, latent: bool = False, sigma: float = 0.01):\n",
    "\n",
    "    if not latent:\n",
    "        x = 2.5 * np.random.normal(size=n_samples)\n",
    "        y = np.sin(x) / x + sigma * np.random.normal(size=n_samples)\n",
    "    else:\n",
    "        x = 5.5 * np.random.normal(size=n_samples)\n",
    "        x = np.sort(x)\n",
    "        y = np.sin(x) / x\n",
    "\n",
    "    return x, y"
   ]
  },
  {
   "cell_type": "code",
   "execution_count": null,
   "id": "e119a62f-46d1-4760-a936-30f55780b071",
   "metadata": {},
   "outputs": [],
   "source": []
  },
  {
   "cell_type": "code",
   "execution_count": null,
   "id": "4ff21900-a579-4c42-a233-47fbf36bc293",
   "metadata": {},
   "outputs": [],
   "source": [
    "n_train_data = 1_000\n",
    "n_test_data = 50\n",
    "n_plot_data = 5_000\n",
    "\n",
    "x_train, y_train = generate_data(n_train_data)\n",
    "x_test, y_test = generate_data(n_test_data)\n",
    "x_plot, y_plot = generate_data(n_plot_data, latent=True)"
   ]
  },
  {
   "cell_type": "code",
   "execution_count": null,
   "id": "16111093-9d8b-421f-bc2b-bbad2924dd31",
   "metadata": {},
   "outputs": [],
   "source": [
    "fig, ax = plt.subplots()\n",
    "\n",
    "ax.scatter(x_train, y_train, color=\"tab:blue\", label=\"Train\")\n",
    "ax.scatter(x_test, y_test, color=\"red\", label=\"Test\")\n",
    "ax.plot(x_plot, y_plot, color=\"black\", label=\"True\")\n",
    "\n",
    "plt.legend()\n",
    "plt.show()"
   ]
  },
  {
   "cell_type": "markdown",
   "id": "f10451f6-d08a-4889-8ddf-fada39e584bc",
   "metadata": {},
   "source": [
    "## Determinstic NN"
   ]
  },
  {
   "cell_type": "code",
   "execution_count": null,
   "id": "f7963a2a-8c96-4627-8462-9a990e33a5c1",
   "metadata": {},
   "outputs": [],
   "source": [
    "class Net(nn.Module):\n",
    "\n",
    "    n_units: int\n",
    "\n",
    "    @nn.compact\n",
    "    def __call__(self, x):\n",
    "\n",
    "        x = nn.Dense(self.n_units)(x[..., None])\n",
    "\n",
    "        x = nn.swish(x)\n",
    "\n",
    "        x = nn.Dense(self.n_units)(x)\n",
    "\n",
    "        x = nn.swish(x)\n",
    "\n",
    "        mean = nn.Dense(1)(x)\n",
    "\n",
    "        return mean.squeeze()"
   ]
  },
  {
   "cell_type": "code",
   "execution_count": null,
   "id": "30ebf2ac-fa1f-4899-a4cb-abe0b88d3561",
   "metadata": {},
   "outputs": [],
   "source": [
    "def nn_model(x, y=None, batch_size=None):\n",
    "\n",
    "    module = Net(n_units=32)\n",
    "\n",
    "    # net = random_flax_module(\"nn\", module, dist.Normal(0, 0.1), input_shape=())\n",
    "    net = flax_module(\"nn\", module, input_shape=())\n",
    "\n",
    "    with numpyro.plate(\"batch\", x.shape[0], subsample_size=batch_size):\n",
    "\n",
    "        batch_x = numpyro.subsample(x, event_dim=0)\n",
    "\n",
    "        batch_y = numpyro.subsample(y, event_dim=0) if y is not None else None\n",
    "\n",
    "        mean = net(batch_x)\n",
    "\n",
    "        numpyro.sample(\"obs\", dist.Normal(loc=mean, scale=0.01), obs=batch_y)"
   ]
  },
  {
   "cell_type": "code",
   "execution_count": null,
   "id": "e50a2876-9721-47df-8765-b9c90ebf2d5d",
   "metadata": {},
   "outputs": [],
   "source": [
    "# guide = autoguide.AutoNormal(model, init_loc_fn=init_to_feasible)\n",
    "guide = autoguide.AutoDelta(nn_model, init_loc_fn=init_to_feasible)\n",
    "\n",
    "svi = SVI(nn_model, guide, numpyro.optim.Adam(5e-3), TraceMeanField_ELBO())\n",
    "\n",
    "n_iterations = 10_000\n",
    "\n",
    "svi_result = svi.run(random.PRNGKey(0), n_iterations, x_train, y_train, batch_size=32)\n",
    "\n",
    "params, losses = svi_result.params, svi_result.losses\n",
    "\n",
    "\n",
    "# predictive = Predictive(model, guide=guide, params=params, num_samples=1000)\n",
    "\n",
    "# y_pred = predictive(random.PRNGKey(1), x_plt)[\"obs\"].copy()\n",
    "\n",
    "# assert losses[-1] < 3000\n",
    "\n",
    "# assert np.sqrt(np.mean(np.square(y_test - y_pred))) < 1"
   ]
  },
  {
   "cell_type": "code",
   "execution_count": null,
   "id": "25704a5a-42a4-4f48-a751-1d2e65030ba0",
   "metadata": {},
   "outputs": [],
   "source": [
    "predictive = Predictive(nn_model, guide=guide, params=params, num_samples=1000)"
   ]
  },
  {
   "cell_type": "code",
   "execution_count": null,
   "id": "ba57fa33-13b3-4014-92c8-9ae14a20f36a",
   "metadata": {},
   "outputs": [],
   "source": [
    "y_pred = predictive(random.PRNGKey(1), x_plot)[\"obs\"].copy()"
   ]
  },
  {
   "cell_type": "code",
   "execution_count": null,
   "id": "ae95a01e-da67-4fa1-831c-ce828e368e6d",
   "metadata": {},
   "outputs": [],
   "source": [
    "y_upper, y_mu, y_lower = np.quantile(y_pred, [0.05, 0.5, 0.95], axis=0)"
   ]
  },
  {
   "cell_type": "code",
   "execution_count": null,
   "id": "06358bdc-c637-4afb-8be7-5784e8dcc940",
   "metadata": {},
   "outputs": [],
   "source": [
    "fig, ax = plt.subplots()\n",
    "\n",
    "ax.scatter(x_train, y_train, color=\"tab:blue\", label=\"Train\")\n",
    "ax.scatter(x_test, y_test, color=\"red\", label=\"Test\")\n",
    "plt.plot(x_plot, y_mu, color=\"black\", label=\"Predictions\")\n",
    "plt.plot(x_plot, y_upper, color=\"tab:orange\", label=\"upper bound\")\n",
    "plt.plot(x_plot, y_lower, color=\"tab:orange\", label=\"lower bound\")\n",
    "# ax.plot(x_plot, y_plot, color='black', label='True')\n",
    "\n",
    "plt.legend()\n",
    "plt.show()"
   ]
  },
  {
   "cell_type": "markdown",
   "id": "a4efcd67-70de-4ee2-a542-3fdb5f990a30",
   "metadata": {},
   "source": [
    "## Probabilistic NN"
   ]
  },
  {
   "cell_type": "code",
   "execution_count": null,
   "id": "c129dc62-4c2a-40a3-9b19-8359447d2516",
   "metadata": {},
   "outputs": [],
   "source": [
    "class Net(nn.Module):\n",
    "\n",
    "    n_units: int\n",
    "\n",
    "    @nn.compact\n",
    "    def __call__(self, x):\n",
    "\n",
    "        x = nn.Dense(self.n_units)(x[..., None])\n",
    "\n",
    "        x = nn.swish(x)\n",
    "\n",
    "        x = nn.Dense(self.n_units)(x)\n",
    "\n",
    "        x = nn.swish(x)\n",
    "\n",
    "        mean = nn.Dense(1)(x)\n",
    "\n",
    "        rho = nn.Dense(1)(x)\n",
    "\n",
    "        return mean.squeeze(), rho.squeeze()"
   ]
  },
  {
   "cell_type": "code",
   "execution_count": null,
   "id": "25e2591b-402e-4f3c-a051-b2e0eb8b6266",
   "metadata": {},
   "outputs": [],
   "source": [
    "def probnn_model(x, y=None, batch_size=None):\n",
    "\n",
    "    module = Net(n_units=32)\n",
    "\n",
    "    # net = random_flax_module(\"nn\", module, dist.Normal(0, 0.1), input_shape=())\n",
    "    net = flax_module(\"nn\", module, input_shape=())\n",
    "\n",
    "    with numpyro.plate(\"batch\", x.shape[0], subsample_size=batch_size):\n",
    "\n",
    "        batch_x = numpyro.subsample(x, event_dim=0)\n",
    "\n",
    "        batch_y = numpyro.subsample(y, event_dim=0) if y is not None else None\n",
    "\n",
    "        mean, rho = net(batch_x)\n",
    "\n",
    "        sigma = nn.softplus(rho + 1e-10)\n",
    "\n",
    "        numpyro.sample(\"obs\", dist.Normal(mean, sigma), obs=batch_y)"
   ]
  },
  {
   "cell_type": "code",
   "execution_count": null,
   "id": "e67451c3-4a86-4e41-9eab-4f61f4c61247",
   "metadata": {},
   "outputs": [],
   "source": [
    "guide = autoguide.AutoNormal(probnn_model, init_loc_fn=init_to_feasible)\n",
    "\n",
    "svi = SVI(probnn_model, guide, numpyro.optim.Adam(5e-3), TraceMeanField_ELBO())\n",
    "\n",
    "n_iterations = 10_000\n",
    "\n",
    "svi_result = svi.run(random.PRNGKey(0), n_iterations, x_train, y_train, batch_size=32)\n",
    "\n",
    "params, losses = svi_result.params, svi_result.losses\n",
    "\n",
    "\n",
    "# predictive = Predictive(model, guide=guide, params=params, num_samples=1000)\n",
    "\n",
    "# y_pred = predictive(random.PRNGKey(1), x_plt)[\"obs\"].copy()\n",
    "\n",
    "assert losses[-1] < 10_000\n",
    "\n",
    "# assert np.sqrt(np.mean(np.square(y_test - y_pred))) < 1"
   ]
  },
  {
   "cell_type": "code",
   "execution_count": null,
   "id": "8851a997-c7e4-4fea-b949-eede505564d2",
   "metadata": {},
   "outputs": [],
   "source": [
    "predictive = Predictive(probnn_model, guide=guide, params=params, num_samples=1000)"
   ]
  },
  {
   "cell_type": "code",
   "execution_count": null,
   "id": "8e4678c2-ed0c-46ba-8cda-8eb64f5cf257",
   "metadata": {},
   "outputs": [],
   "source": [
    "y_pred = predictive(random.PRNGKey(1), x_plot)[\"obs\"].copy()"
   ]
  },
  {
   "cell_type": "code",
   "execution_count": null,
   "id": "730e7511-07ee-43ac-b204-9eb96c775245",
   "metadata": {},
   "outputs": [],
   "source": [
    "y_upper, y_mu, y_lower = np.quantile(y_pred, [0.05, 0.5, 0.95], axis=0)"
   ]
  },
  {
   "cell_type": "code",
   "execution_count": null,
   "id": "230c5667-17a8-480a-b001-24421d25aca5",
   "metadata": {},
   "outputs": [],
   "source": [
    "fig, ax = plt.subplots()\n",
    "\n",
    "ax.scatter(x_train, y_train, color=\"tab:blue\", label=\"Train\")\n",
    "ax.scatter(x_test, y_test, color=\"red\", label=\"Test\")\n",
    "plt.plot(x_plot, y_mu, color=\"black\", label=\"Predictions\")\n",
    "plt.plot(x_plot, y_upper, color=\"tab:orange\", label=\"upper bound\")\n",
    "plt.plot(x_plot, y_lower, color=\"tab:orange\", label=\"lower bound\")\n",
    "# ax.plot(x_plot, y_plot, color='black', label='True')\n",
    "\n",
    "plt.legend()\n",
    "plt.show()"
   ]
  },
  {
   "cell_type": "markdown",
   "id": "c246bb35-8f04-4c03-9d3c-266eb6a1011a",
   "metadata": {},
   "source": [
    "## Bayesian NN"
   ]
  },
  {
   "cell_type": "code",
   "execution_count": null,
   "id": "c03f12bf-c007-4dfe-9a42-d227a3bf6967",
   "metadata": {},
   "outputs": [],
   "source": [
    "def bnn_model(x, y=None, batch_size=None):\n",
    "\n",
    "    module = Net(n_units=32)\n",
    "\n",
    "    net = random_flax_module(\"nn\", module, dist.Normal(0, 0.1), input_shape=())\n",
    "    # net = flax_module(\"nn\", module, input_shape=())\n",
    "\n",
    "    with numpyro.plate(\"batch\", x.shape[0], subsample_size=batch_size):\n",
    "\n",
    "        batch_x = numpyro.subsample(x, event_dim=0)\n",
    "\n",
    "        batch_y = numpyro.subsample(y, event_dim=0) if y is not None else None\n",
    "\n",
    "        mean, rho = net(batch_x)\n",
    "\n",
    "        sigma = nn.softplus(rho + 1e-5)\n",
    "\n",
    "        numpyro.sample(\"obs\", dist.Normal(mean, sigma), obs=batch_y)"
   ]
  },
  {
   "cell_type": "code",
   "execution_count": null,
   "id": "d16d1932-76c7-407f-8ace-fdf85b39491f",
   "metadata": {},
   "outputs": [],
   "source": [
    "guide = autoguide.AutoNormal(bnn_model, init_loc_fn=init_to_feasible)\n",
    "\n",
    "svi = SVI(bnn_model, guide, numpyro.optim.Adam(5e-3), TraceMeanField_ELBO())\n",
    "\n",
    "n_iterations = 3000\n",
    "\n",
    "svi_result = svi.run(random.PRNGKey(0), n_iterations, x_train, y_train, batch_size=32)\n",
    "\n",
    "params, losses = svi_result.params, svi_result.losses"
   ]
  },
  {
   "cell_type": "code",
   "execution_count": null,
   "id": "5c3872cc-26ea-4beb-9f5b-277ed1e9f1ff",
   "metadata": {},
   "outputs": [],
   "source": [
    "predictive = Predictive(bnn_model, guide=guide, params=params, num_samples=1000)\n",
    "\n",
    "y_pred = predictive(random.PRNGKey(1), x_plot)[\"obs\"].copy()"
   ]
  },
  {
   "cell_type": "code",
   "execution_count": null,
   "id": "407fe3cf-8ecc-4b2f-84fa-9e8da65bb493",
   "metadata": {},
   "outputs": [],
   "source": [
    "y_upper, y_mu, y_lower = np.quantile(y_pred, [0.05, 0.5, 0.95], axis=0)"
   ]
  },
  {
   "cell_type": "code",
   "execution_count": null,
   "id": "8337557f-9b35-4977-9c48-c1007a82a794",
   "metadata": {},
   "outputs": [],
   "source": [
    "fig, ax = plt.subplots()\n",
    "\n",
    "ax.scatter(x_train, y_train, color=\"tab:blue\", label=\"Train\")\n",
    "ax.scatter(x_test, y_test, color=\"red\", label=\"Test\")\n",
    "plt.plot(x_plot, y_mu, color=\"black\", label=\"Predictions\")\n",
    "plt.plot(x_plot, y_upper, color=\"tab:orange\", label=\"upper bound\")\n",
    "plt.plot(x_plot, y_lower, color=\"tab:orange\", label=\"lower bound\")\n",
    "# ax.plot(x_plot, y_plot, color='black', label='True')\n",
    "\n",
    "plt.legend()\n",
    "plt.show()"
   ]
  },
  {
   "cell_type": "code",
   "execution_count": null,
   "id": "9613ad33-204d-41d3-8e6d-4afe0c769cc4",
   "metadata": {},
   "outputs": [],
   "source": []
  },
  {
   "cell_type": "code",
   "execution_count": null,
   "id": "66636993-d0f6-40b5-8bd5-5db0cad8d818",
   "metadata": {},
   "outputs": [],
   "source": []
  }
 ],
 "metadata": {
  "kernelspec": {
   "display_name": "Python [conda env:jax_py39]",
   "language": "python",
   "name": "conda-env-jax_py39-py"
  },
  "language_info": {
   "codemirror_mode": {
    "name": "ipython",
    "version": 3
   },
   "file_extension": ".py",
   "mimetype": "text/x-python",
   "name": "python",
   "nbconvert_exporter": "python",
   "pygments_lexer": "ipython3",
   "version": "3.9.13"
  }
 },
 "nbformat": 4,
 "nbformat_minor": 5
}
