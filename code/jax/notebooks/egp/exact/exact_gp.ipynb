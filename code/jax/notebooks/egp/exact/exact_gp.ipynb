{
 "cells": [
  {
   "cell_type": "markdown",
   "metadata": {
    "colab_type": "text",
    "id": "view-in-github"
   },
   "source": [
    "<a href=\"https://colab.research.google.com/github/jejjohnson/gp_model_zoo/blob/master/code/numpyro/exact_gp.ipynb\" target=\"_parent\"><img src=\"https://colab.research.google.com/assets/colab-badge.svg\" alt=\"Open In Colab\"/></a>"
   ]
  },
  {
   "cell_type": "markdown",
   "metadata": {
    "id": "hecnCJD1trHy"
   },
   "source": [
    "# Exact GP (MLE)\n",
    "\n",
    "A demo notebook showing how solve a simple regression problem using an exact Gaussian Process (GP). This GP is trained with MLE and we will use the numpyro library as the backend for the inference."
   ]
  },
  {
   "cell_type": "code",
   "execution_count": null,
   "metadata": {
    "id": "IgSMWFaNtnjB"
   },
   "outputs": [],
   "source": [
    "# #@title Install Packages\n",
    "# %%capture\n",
    "# !pip install pyprojroot jax jaxlib chex numpyro flax distrax numpy pandas seaborn matplotlib corner loguru nb_black sklearn"
   ]
  },
  {
   "cell_type": "code",
   "execution_count": null,
   "metadata": {},
   "outputs": [],
   "source": [
    "import sys, os\n",
    "from pyprojroot import here\n",
    "\n",
    "# spyder up to find the root\n",
    "root = here(project_files=[\".root\"])\n",
    "\n",
    "# append to path\n",
    "sys.path.append(str(root))"
   ]
  },
  {
   "cell_type": "code",
   "execution_count": null,
   "metadata": {
    "id": "c5TKBjGbumu6"
   },
   "outputs": [],
   "source": [
    "# @title Load Packages\n",
    "# TYPE HINTS\n",
    "from typing import Tuple, Optional, Dict, Callable, Union\n",
    "\n",
    "# JAX SETTINGS\n",
    "import jax\n",
    "import jax.numpy as jnp\n",
    "import jax.random as random\n",
    "from jax.config import config\n",
    "\n",
    "config.update(\"jax_enable_x64\", True)\n",
    "\n",
    "\n",
    "# JAX UTILITY LIBRARIES\n",
    "import chex\n",
    "\n",
    "# NUMPYRO SETTINGS\n",
    "import numpyro\n",
    "import numpyro.distributions as dist\n",
    "from numpyro.infer.autoguide import AutoDiagonalNormal\n",
    "from numpyro.infer import SVI, Trace_ELBO\n",
    "\n",
    "# NUMPY SETTINGS\n",
    "import numpy as np\n",
    "\n",
    "np.set_printoptions(precision=3, suppress=True)\n",
    "\n",
    "# MATPLOTLIB Settings\n",
    "import matplotlib as mpl\n",
    "import matplotlib.pyplot as plt\n",
    "\n",
    "%matplotlib inline\n",
    "%config InlineBackend.figure_format = 'retina'\n",
    "\n",
    "# SEABORN SETTINGS\n",
    "import seaborn as sns\n",
    "\n",
    "sns.set_context(context=\"poster\", font_scale=0.8)\n",
    "\n",
    "# PANDAS SETTINGS\n",
    "import pandas as pd\n",
    "\n",
    "pd.set_option(\"display.max_rows\", 120)\n",
    "pd.set_option(\"display.max_columns\", 120)\n",
    "\n",
    "# LOGGING SETTINGS\n",
    "import loguru\n",
    "\n",
    "%load_ext lab_black\n",
    "%load_ext autoreload\n",
    "%autoreload 2"
   ]
  },
  {
   "cell_type": "code",
   "execution_count": null,
   "metadata": {
    "id": "RSMP8Vr6x51L"
   },
   "outputs": [],
   "source": [
    "from src.data import regression_complex, regression_simple\n",
    "\n",
    "Xtrain, ytrain, xtest, ytest = regression_simple(\n",
    "    n_train=250, n_test=1_000, noise=0.3, seed=123, buffer=0.3\n",
    ")\n",
    "\n",
    "fig, ax = plt.subplots(figsize=(10, 5))\n",
    "ax.scatter(Xtrain, ytrain, color=\"tab:orange\", label=\"Data\")\n",
    "ax.plot(xtest, ytest, color=\"black\", label=\"True Function\")\n",
    "ax.legend()\n",
    "plt.tight_layout()\n",
    "plt.show()"
   ]
  },
  {
   "cell_type": "markdown",
   "metadata": {
    "id": "wXa_nHwb3NLL"
   },
   "source": [
    "## Gaussian Process Model"
   ]
  },
  {
   "cell_type": "markdown",
   "metadata": {},
   "source": [
    "#### Kernel"
   ]
  },
  {
   "cell_type": "code",
   "execution_count": null,
   "metadata": {},
   "outputs": [],
   "source": [
    "from chex import Array\n",
    "from src.utils import identity_matrix, add_to_diagonal\n",
    "from src.kernels import RBF"
   ]
  },
  {
   "cell_type": "code",
   "execution_count": null,
   "metadata": {},
   "outputs": [],
   "source": [
    "rbf_kernel = RBF(length_scale=1.0, variance=1.0)\n",
    "K = rbf_kernel.gram(Xtrain)\n",
    "\n",
    "# check shape\n",
    "chex.assert_shape(K, (Xtrain.shape[0], Xtrain.shape[0]))"
   ]
  },
  {
   "cell_type": "code",
   "execution_count": null,
   "metadata": {},
   "outputs": [],
   "source": [
    "fig, ax = plt.subplots()\n",
    "\n",
    "ax.imshow(K, interpolation=\"nearest\")\n",
    "plt.tight_layout()\n",
    "plt.show()"
   ]
  },
  {
   "cell_type": "markdown",
   "metadata": {},
   "source": [
    "### Model"
   ]
  },
  {
   "cell_type": "code",
   "execution_count": null,
   "metadata": {
    "id": "j8BV-rAL3PKG"
   },
   "outputs": [],
   "source": [
    "from src.exact import GPRModel\n",
    "from src.means import zero_mean\n",
    "\n",
    "jitter = 1e-5\n",
    "\n",
    "\n",
    "def numpyro_model(X, y):\n",
    "\n",
    "    #     # Set priors on hyperparameters.\n",
    "    #     η = numpyro.sample(\"variance\", dist.HalfCauchy(scale=5.0))\n",
    "    #     ℓ = numpyro.sample(\"length_scale\", dist.Gamma(2.0, 1.0))\n",
    "    #     σ = numpyro.sample(\"obs_noise\", dist.HalfCauchy(scale=5.0))\n",
    "\n",
    "    # set params and constraints on hyperparams\n",
    "    η = numpyro.param(\"variance\", init_value=1.0, constraints=dist.constraints.positive)\n",
    "    ℓ = numpyro.param(\n",
    "        \"length_scale\", init_value=0.1, constraints=dist.constraints.positive\n",
    "    )\n",
    "    σ = numpyro.param(\"obs_noise\", init_value=0.1, onstraints=dist.constraints.positive)\n",
    "\n",
    "    # Kernel Function\n",
    "    rbf_kernel = RBF(variance=η, length_scale=ℓ)\n",
    "\n",
    "    # GP Model\n",
    "    gp_model = GPRModel(\n",
    "        X=X, y=y, mean=zero_mean, kernel=rbf_kernel, obs_noise=σ, jitter=jitter\n",
    "    )\n",
    "\n",
    "    # Sample y according SGP\n",
    "    return gp_model.to_numpyro(y=y)\n",
    "\n",
    "\n",
    "def empty_guide(X, y):\n",
    "    pass"
   ]
  },
  {
   "cell_type": "code",
   "execution_count": null,
   "metadata": {
    "id": "RmJrGlYS3TuD"
   },
   "outputs": [],
   "source": [
    "with numpyro.handlers.seed(rng_seed=123):\n",
    "    t = numpyro_model(Xtrain, ytrain)\n",
    "\n",
    "assert t.shape == Xtrain.shape"
   ]
  },
  {
   "cell_type": "markdown",
   "metadata": {
    "id": "NBOZgRAk1qE3"
   },
   "source": [
    "## Training (Maximum Likelihood)"
   ]
  },
  {
   "cell_type": "code",
   "execution_count": null,
   "metadata": {
    "id": "MZaEHxshPGAn"
   },
   "outputs": [],
   "source": [
    "from numpyro.infer.autoguide import (\n",
    "    AutoDelta,\n",
    ")  # AutoDiagonalNormal, AutoIAFNormal, AutoLaplaceApproximation, AutoMultivariateNormal"
   ]
  },
  {
   "cell_type": "code",
   "execution_count": null,
   "metadata": {
    "colab": {
     "base_uri": "https://localhost:8080/"
    },
    "id": "w35zj0GL5bv8",
    "outputId": "acb6b2a0-46cd-4cc2-89d2-ef10664629c9"
   },
   "outputs": [],
   "source": [
    "# ===================\n",
    "# Model\n",
    "# ===================\n",
    "# GP model\n",
    "\n",
    "# delta guide - basically deterministic\n",
    "delta_guide = AutoDelta(numpyro_model)\n",
    "mll_guide = empty_guide"
   ]
  },
  {
   "cell_type": "code",
   "execution_count": null,
   "metadata": {
    "colab": {
     "base_uri": "https://localhost:8080/"
    },
    "id": "MJsm0nCN69Nd",
    "outputId": "cb309c22-85d3-4d18-b883-45efecf243e8"
   },
   "outputs": [],
   "source": [
    "# reproducibility\n",
    "rng_key = random.PRNGKey(0)\n",
    "\n",
    "\n",
    "# Setup\n",
    "optimizer = numpyro.optim.Adam(step_size=0.01)\n",
    "# optimizer = numpyro.optim.Minimize()\n",
    "# optimizer = optax.adamw(learning_rate=0.1)\n",
    "svi = SVI(numpyro_model, mll_guide, optimizer, loss=Trace_ELBO())\n",
    "svi_results = svi.run(random.PRNGKey(1), 100, Xtrain, ytrain.T)"
   ]
  },
  {
   "cell_type": "code",
   "execution_count": null,
   "metadata": {
    "colab": {
     "base_uri": "https://localhost:8080/",
     "height": 304
    },
    "id": "76vAkN08OeLr",
    "outputId": "d28b6206-015e-49fe-d071-34803026e31d"
   },
   "outputs": [],
   "source": [
    "fig, ax = plt.subplots(figsize=(10, 5))\n",
    "\n",
    "ax.plot(svi_results.losses)\n",
    "ax.set(title=\"Loss\", xlabel=\"Iterations\", ylabel=\"Negative Log-Likelihood\")\n",
    "plt.show()"
   ]
  },
  {
   "cell_type": "markdown",
   "metadata": {},
   "source": [
    "### Extracting the Params"
   ]
  },
  {
   "cell_type": "code",
   "execution_count": null,
   "metadata": {
    "colab": {
     "base_uri": "https://localhost:8080/"
    },
    "id": "IXBOY9o3FL8A",
    "outputId": "687693db-9d74-4fbb-b915-76120307624c"
   },
   "outputs": [],
   "source": [
    "from pprint import pprint\n",
    "\n",
    "# Take them directly\n",
    "learned_params = svi_results.params\n",
    "# x_u = learned_params[\"x_u\"]\n",
    "# learned_params = delta_guide.median(learned_params)\n",
    "# learned_params[\"x_u\"] = x_u"
   ]
  },
  {
   "cell_type": "markdown",
   "metadata": {},
   "source": [
    "### Predictions"
   ]
  },
  {
   "cell_type": "code",
   "execution_count": null,
   "metadata": {},
   "outputs": [],
   "source": [
    "from src.exact import init_gp_predictive, get_cond_params\n",
    "\n",
    "gp_pred = init_gp_predictive(RBF, learned_params, Xtrain, ytrain, jitter=1e-5)"
   ]
  },
  {
   "cell_type": "code",
   "execution_count": null,
   "metadata": {},
   "outputs": [],
   "source": [
    "gp_pred_jitted = jax.jit(jax.partial(gp_pred.predict_y, full_covariance=False))\n",
    "\n",
    "mu, var = gp_pred_jitted(xtest)\n",
    "\n",
    "std = jnp.sqrt(var.squeeze())"
   ]
  },
  {
   "cell_type": "code",
   "execution_count": null,
   "metadata": {},
   "outputs": [],
   "source": [
    "%timeit gp_pred_jitted(jnp.array(xtest).block_until_ready())\n",
    "%timeit gp_pred.predict_y(jnp.array(xtest).block_until_ready())"
   ]
  },
  {
   "cell_type": "code",
   "execution_count": null,
   "metadata": {},
   "outputs": [],
   "source": [
    "ci = 1.96\n",
    "one_stddev = ci * std"
   ]
  },
  {
   "cell_type": "code",
   "execution_count": null,
   "metadata": {
    "colab": {
     "base_uri": "https://localhost:8080/",
     "height": 289
    },
    "id": "bHhVFQBoFJow",
    "outputId": "53c0da36-06dd-47bb-8359-ca04d566a228"
   },
   "outputs": [],
   "source": [
    "fig, ax = plt.subplots(figsize=(10, 5))\n",
    "ax.plot(Xtrain, ytrain.squeeze(), \"o\", color=\"tab:orange\", label=\"Training Data\")\n",
    "ax.plot(xtest, ytest, color=\"black\", linestyle=\"-\", label=\"True Function\")\n",
    "ax.plot(\n",
    "    xtest,\n",
    "    mu.ravel(),\n",
    "    color=\"Blue\",\n",
    "    linestyle=\"--\",\n",
    "    linewidth=3,\n",
    "    label=\"Predictive Mean\",\n",
    ")\n",
    "ax.fill_between(\n",
    "    xtest.ravel(),\n",
    "    mu.ravel() - one_stddev,\n",
    "    mu.ravel() + one_stddev,\n",
    "    alpha=0.4,\n",
    "    color=\"tab:blue\",\n",
    "    label=f\" 95% Confidence Interval\",\n",
    ")\n",
    "ax.plot(xtest, mu.ravel() - one_stddev, linestyle=\"--\", color=\"tab:blue\")\n",
    "ax.plot(xtest, mu.ravel() + one_stddev, linestyle=\"--\", color=\"tab:blue\")\n",
    "plt.tight_layout()\n",
    "plt.legend(fontsize=12)\n",
    "plt.show()"
   ]
  },
  {
   "cell_type": "markdown",
   "metadata": {},
   "source": [
    "## Calibration"
   ]
  },
  {
   "cell_type": "code",
   "execution_count": null,
   "metadata": {},
   "outputs": [],
   "source": [
    "from uncertainty_toolbox import viz as utviz"
   ]
  },
  {
   "cell_type": "markdown",
   "metadata": {},
   "source": [
    "#### Training Data"
   ]
  },
  {
   "cell_type": "code",
   "execution_count": null,
   "metadata": {},
   "outputs": [],
   "source": [
    "mu, var = gp_pred.predict_y(Xtrain)\n",
    "\n",
    "std = jnp.sqrt(var.squeeze())\n",
    "\n",
    "utviz.plot_calibration(y_pred=mu.ravel(), y_std=std.ravel(), y_true=ytrain.ravel())"
   ]
  },
  {
   "cell_type": "markdown",
   "metadata": {},
   "source": [
    "#### Test Data"
   ]
  },
  {
   "cell_type": "code",
   "execution_count": null,
   "metadata": {},
   "outputs": [],
   "source": [
    "mu, var = gp_pred.predict_y(xtest)\n",
    "\n",
    "std = jnp.sqrt(var.squeeze())\n",
    "\n",
    "utviz.plot_calibration(y_pred=mu.ravel(), y_std=std.ravel(), y_true=ytest.ravel())"
   ]
  }
 ],
 "metadata": {
  "accelerator": "GPU",
  "colab": {
   "authorship_tag": "ABX9TyODMjiq/1iikmElk2uIWfN2",
   "collapsed_sections": [],
   "include_colab_link": true,
   "name": "numpyro_gp_playground.ipynb",
   "provenance": []
  },
  "kernelspec": {
   "display_name": "Python [conda env:jax_py38]",
   "language": "python",
   "name": "conda-env-jax_py38-py"
  },
  "language_info": {
   "codemirror_mode": {
    "name": "ipython",
    "version": 3
   },
   "file_extension": ".py",
   "mimetype": "text/x-python",
   "name": "python",
   "nbconvert_exporter": "python",
   "pygments_lexer": "ipython3",
   "version": "3.7.10"
  }
 },
 "nbformat": 4,
 "nbformat_minor": 4
}
