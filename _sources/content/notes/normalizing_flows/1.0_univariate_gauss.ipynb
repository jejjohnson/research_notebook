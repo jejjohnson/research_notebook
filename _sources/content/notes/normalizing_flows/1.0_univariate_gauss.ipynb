{
 "cells": [
  {
   "cell_type": "markdown",
   "id": "ae891723-a73b-413a-8d4b-03ed5974a57c",
   "metadata": {},
   "source": [
    "# 1.1 - Univariate Gaussianization"
   ]
  },
  {
   "cell_type": "code",
   "execution_count": null,
   "id": "fb8167c5-9a45-4517-8586-c1a85af74ae1",
   "metadata": {},
   "outputs": [],
   "source": [
    "!pip install \"git+https://github.com/IPL-UV/rbig.git\""
   ]
  },
  {
   "cell_type": "code",
   "execution_count": null,
   "id": "7e2e9bd2-c611-4de6-893b-33a479ae6114",
   "metadata": {},
   "outputs": [],
   "source": [
    "import sys, os\n",
    "from pyprojroot import here\n",
    "\n",
    "# spyder up to find the root\n",
    "root = here(project_files=[\".here\"])\n",
    "\n",
    "# append to path\n",
    "sys.path.append(str(root))\n",
    "\n",
    "%load_ext autoreload\n",
    "%autoreload 2"
   ]
  },
  {
   "cell_type": "markdown",
   "id": "daac679d-adc0-4123-b046-49b1c2202413",
   "metadata": {},
   "source": [
    "## Import Packages"
   ]
  },
  {
   "cell_type": "code",
   "execution_count": null,
   "id": "64f9546d-1ab5-4bf1-99bc-94868d1138f8",
   "metadata": {},
   "outputs": [],
   "source": [
    "import numpy as np\n",
    "\n",
    "from sklearn.datasets import make_moons\n",
    "\n",
    "# Packages\n",
    "import numpy as np\n",
    "import pytorch_lightning as pl\n",
    "\n",
    "\n",
    "# Plot\n",
    "import matplotlib.pyplot as plt\n",
    "import corner\n",
    "\n",
    "import wandb\n",
    "\n",
    "pl.seed_everything(1234)\n",
    "\n",
    "%load_ext autoreload\n",
    "%autoreload 2"
   ]
  },
  {
   "cell_type": "markdown",
   "id": "a61cc440-8812-428d-8ea5-bce446e1427c",
   "metadata": {},
   "source": [
    "## Logging"
   ]
  },
  {
   "cell_type": "code",
   "execution_count": null,
   "id": "cbee7c3c-478e-4a9d-a0dc-ed01dddbe97d",
   "metadata": {},
   "outputs": [],
   "source": [
    "# TODO"
   ]
  },
  {
   "cell_type": "markdown",
   "id": "0c9fbd14-170c-46b8-a616-c17548d0febf",
   "metadata": {},
   "source": [
    "## Data"
   ]
  },
  {
   "cell_type": "code",
   "execution_count": null,
   "id": "8e090d66-4826-4172-bc42-9be84c4ee3f4",
   "metadata": {},
   "outputs": [],
   "source": [
    "ntrain = 10_000\n",
    "ntest = 10_000\n",
    "noise = 0.1\n",
    "random_state = 123\n",
    "train_data = make_moons(n_samples=ntrain, noise=noise, random_state=random_state)[0]\n",
    "test_data = make_moons(n_samples=ntest, noise=noise, random_state=random_state * 10)[0]"
   ]
  },
  {
   "cell_type": "markdown",
   "id": "e3d610a9-49de-44aa-8273-f6d0285ce2fc",
   "metadata": {},
   "source": [
    "### Plot Data"
   ]
  },
  {
   "cell_type": "code",
   "execution_count": null,
   "id": "686cc1f6-3951-495b-97e2-340ac86950a7",
   "metadata": {},
   "outputs": [],
   "source": [
    "fig = plt.figure(figsize=(7, 7))\n",
    "\n",
    "corner.corner(train_data, color=\"blue\", fig=fig)\n",
    "\n",
    "plt.show()"
   ]
  },
  {
   "cell_type": "markdown",
   "id": "ca826ab9-2517-4791-bf4c-1ac2cd7ce38b",
   "metadata": {},
   "source": [
    "## Flow Transformation"
   ]
  },
  {
   "cell_type": "markdown",
   "id": "0cfed3d9-e518-42df-86fd-4725b0882204",
   "metadata": {},
   "source": [
    "## Univariate Gaussianization"
   ]
  },
  {
   "cell_type": "code",
   "execution_count": null,
   "id": "9dba8763-8a40-4266-af4c-2b75229d28ff",
   "metadata": {},
   "outputs": [],
   "source": []
  },
  {
   "cell_type": "markdown",
   "id": "8fb31f8f-7a76-4cc0-ab6b-24ac39816445",
   "metadata": {},
   "source": [
    "### Uniformization"
   ]
  },
  {
   "cell_type": "code",
   "execution_count": null,
   "id": "cc8e8272-6dd8-4bb3-9464-e53ebfc31e9a",
   "metadata": {},
   "outputs": [],
   "source": [
    "X_1 = train_data[:, 0][:, None]\n",
    "X_2 = train_data[:, 1][:, None]\n",
    "\n",
    "fig = corner.corner(X_1)"
   ]
  },
  {
   "cell_type": "code",
   "execution_count": null,
   "id": "0245c46a-e628-456e-b8c3-6eadb66b1de5",
   "metadata": {},
   "outputs": [],
   "source": [
    "from rbig._src.uniform import MarginalHistogramUniformization"
   ]
  },
  {
   "cell_type": "code",
   "execution_count": null,
   "id": "723a4598-cfef-4f68-ba30-68ddf8425f81",
   "metadata": {},
   "outputs": [],
   "source": [
    "hist_uni_bijector = MarginalHistogramUniformization(X_1)"
   ]
  },
  {
   "cell_type": "code",
   "execution_count": null,
   "id": "871b9148-1bf5-403d-a367-4b96f9d1fd0c",
   "metadata": {},
   "outputs": [],
   "source": []
  },
  {
   "cell_type": "code",
   "execution_count": null,
   "id": "c280840b-6424-4a5d-a5dc-c5c3fb2ff179",
   "metadata": {},
   "outputs": [],
   "source": [
    "from typing import NamedTuple, Callable, Union\n",
    "from scipy import stats\n",
    "\n",
    "\n",
    "class UnivariateHistogram:\n",
    "    def __init__(\n",
    "        self,\n",
    "        X: np.ndarray,\n",
    "        bins: Union[int, str] = 10,\n",
    "        alpha: float = 1e-10,\n",
    "        bound_ext: float = 0.1,\n",
    "    ):\n",
    "\n",
    "        diff = X.max() - X.min()\n",
    "        lower_bound = X.min() - bound_ext * diff\n",
    "        upper_bound = X.max() + bound_ext * diff\n",
    "\n",
    "        # create histogram\n",
    "        hist = np.histogram(X, bins=bins, range=(lower_bound, upper_bound))\n",
    "\n",
    "        # create histogram object\n",
    "        estimator = stats.rv_histogram(hist)\n",
    "\n",
    "        # add some regularization\n",
    "        estimator._hpdf += alpha\n",
    "\n",
    "        self.estimator = estimator\n",
    "\n",
    "    def forward(self, X):\n",
    "\n",
    "        return self.estimator.cdf(X)\n",
    "\n",
    "    def inverse(self, X):\n",
    "\n",
    "        return self.estimator.ppf(X)\n",
    "\n",
    "    def gradient(self, X):\n",
    "\n",
    "        return self.estimator.pdf(X)"
   ]
  },
  {
   "cell_type": "code",
   "execution_count": null,
   "id": "6bd12177-9b7a-476a-a316-d897330cd305",
   "metadata": {},
   "outputs": [],
   "source": [
    "hist_uni_bijector = UnivariateHistogram(X_1, bins=\"scott\")"
   ]
  },
  {
   "cell_type": "markdown",
   "id": "62d97e19-e011-4be3-b7cd-2b4fc478f5c4",
   "metadata": {},
   "source": [
    "#### Forward Transformation"
   ]
  },
  {
   "cell_type": "code",
   "execution_count": null,
   "id": "7e9cd05f-4175-4142-af6e-b36c4de23e10",
   "metadata": {},
   "outputs": [],
   "source": [
    "Xu_1 = hist_uni_bijector.forward(X_1)"
   ]
  },
  {
   "cell_type": "code",
   "execution_count": null,
   "id": "0e035747-3658-4fbb-953d-6cd525aec58d",
   "metadata": {},
   "outputs": [],
   "source": [
    "fig = corner.corner(Xu_1, color=\"red\")"
   ]
  },
  {
   "cell_type": "markdown",
   "id": "0c2aa078-fc3e-4161-9523-37386e83f8d5",
   "metadata": {},
   "source": [
    "#### Inverse Transformation"
   ]
  },
  {
   "cell_type": "code",
   "execution_count": null,
   "id": "9c703c40-3074-4c0f-8878-fcf12e9ceb71",
   "metadata": {},
   "outputs": [],
   "source": [
    "X_1_approx = hist_uni_bijector.inverse(Xu_1)"
   ]
  },
  {
   "cell_type": "code",
   "execution_count": null,
   "id": "3e51c096-a354-4ea4-8e07-326c8a3d7f9a",
   "metadata": {},
   "outputs": [],
   "source": [
    "fig = corner.corner(X_1_approx, color=\"green\")"
   ]
  },
  {
   "cell_type": "markdown",
   "id": "457b90ac-3497-4a21-aa0a-758f094fa80c",
   "metadata": {},
   "source": [
    "#### Det Jacobian"
   ]
  },
  {
   "cell_type": "code",
   "execution_count": null,
   "id": "737d1273-e6de-4aa6-84f3-88f2b3cdb0bd",
   "metadata": {},
   "outputs": [],
   "source": [
    "Xldj_1 = hist_uni_bijector.gradient(X_1)"
   ]
  },
  {
   "cell_type": "code",
   "execution_count": null,
   "id": "88f210f0-4fc6-49cf-b58f-c32e68ef3e79",
   "metadata": {},
   "outputs": [],
   "source": [
    "fig = corner.corner(Xldj_1)"
   ]
  },
  {
   "cell_type": "markdown",
   "id": "129fda18-67ab-445f-bf2a-eb77b2feb1ec",
   "metadata": {},
   "source": [
    "### Density Estimation"
   ]
  },
  {
   "cell_type": "code",
   "execution_count": null,
   "id": "393f7895-61e8-4c78-82b7-da4212f92969",
   "metadata": {},
   "outputs": [],
   "source": [
    "from scipy import stats\n",
    "\n",
    "base_dist = stats.uniform()"
   ]
  },
  {
   "cell_type": "code",
   "execution_count": null,
   "id": "d2d35418-4b38-4769-bceb-ac6543b94213",
   "metadata": {},
   "outputs": [],
   "source": []
  },
  {
   "cell_type": "code",
   "execution_count": null,
   "id": "606369ae-45fe-488e-ac91-3d9512c9d986",
   "metadata": {},
   "outputs": [],
   "source": [
    "# latent probability\n",
    "pz = base_dist.pdf(Xu_1)\n",
    "\n",
    "# det jacobian\n",
    "det_jacobian = hist_uni_bijector.gradient(X_1)\n",
    "\n",
    "# total prob\n",
    "p_x = pz.sum(axis=1) * det_jacobian"
   ]
  },
  {
   "cell_type": "code",
   "execution_count": null,
   "id": "3dc94d88-a4e7-4278-9225-fa6d7fadbcf3",
   "metadata": {},
   "outputs": [],
   "source": [
    "fig, ax = plt.subplots()\n",
    "ax.hist(p_x, bins=25)\n",
    "plt.show()"
   ]
  },
  {
   "cell_type": "markdown",
   "id": "8e3691d7-6ea8-4302-8491-9fff7368da99",
   "metadata": {},
   "source": [
    "### Sampling"
   ]
  },
  {
   "cell_type": "code",
   "execution_count": null,
   "id": "fbba4671-eba9-45b0-8f5e-ba47505d23f4",
   "metadata": {},
   "outputs": [],
   "source": [
    "# generate samples in uniform domain\n",
    "pz_samples = base_dist.rvs(size=10_000)[:, None]\n",
    "\n",
    "# propagate them through\n",
    "X_1_samples = hist_uni_bijector.inverse(pz_samples)"
   ]
  },
  {
   "cell_type": "code",
   "execution_count": null,
   "id": "dc25ca91-f97c-4030-9f60-915f8ca3a009",
   "metadata": {},
   "outputs": [],
   "source": [
    "fig, ax = plt.subplots()\n",
    "ax.hist(X_1, bins=25, color=\"blue\", density=True, label=\"True\")\n",
    "ax.hist(X_1_samples, bins=25, color=\"green\", density=True, label=\"Generated\")\n",
    "plt.legend()\n",
    "plt.tight_layout()\n",
    "plt.show()"
   ]
  },
  {
   "cell_type": "markdown",
   "id": "b2fc0475-1f71-4314-a404-87c4d77d3764",
   "metadata": {},
   "source": [
    "### Inverse CDF"
   ]
  },
  {
   "cell_type": "code",
   "execution_count": null,
   "id": "a74682f9-2362-427f-9b87-2e7a9e3c4c27",
   "metadata": {},
   "outputs": [],
   "source": [
    "class InverseGaussCDF:\n",
    "    def __init__(self, eps: float = 1e-5):\n",
    "        self.eps = eps\n",
    "\n",
    "        # create histogram object\n",
    "        self.estimator = stats.norm(loc=0, scale=1)\n",
    "\n",
    "    def forward(self, X):\n",
    "\n",
    "        X = np.clip(X, self.eps, 1 - self.eps)\n",
    "\n",
    "        Z = self.estimator.ppf(X)\n",
    "\n",
    "        return Z\n",
    "\n",
    "    def inverse(self, Z):\n",
    "        X = self.estimator.cdf(Z)\n",
    "\n",
    "        return X\n",
    "\n",
    "    def gradient(self, X):\n",
    "        X = self.inverse(X)\n",
    "\n",
    "        det_jacobian = -self.estimator.pdf(X)\n",
    "\n",
    "        return det_jacobian\n",
    "\n",
    "\n",
    "def inverse_cdf(eps: float = 1e-5):\n",
    "    def forward(X):\n",
    "\n",
    "        return X\n",
    "\n",
    "    def inverse(X):\n",
    "\n",
    "        return X\n",
    "\n",
    "    def gradient(X):\n",
    "\n",
    "        return X\n",
    "\n",
    "    return Bijector(forward=forward, inverse=inverse, gradient=gradient)"
   ]
  },
  {
   "cell_type": "code",
   "execution_count": null,
   "id": "6e31538d-bc9b-4688-a6c2-c4b43ea8c0ed",
   "metadata": {},
   "outputs": [],
   "source": [
    "from rbig._src.invcdf import InverseGaussCDF"
   ]
  },
  {
   "cell_type": "code",
   "execution_count": null,
   "id": "9fc7b725-e9f4-4951-ab5f-8d57393fce0c",
   "metadata": {},
   "outputs": [],
   "source": [
    "invcdf_bijector = InverseGaussCDF(eps=1e-7)"
   ]
  },
  {
   "cell_type": "markdown",
   "id": "a8a23100-5909-4916-b521-eaa060a013aa",
   "metadata": {},
   "source": [
    "#### Forward"
   ]
  },
  {
   "cell_type": "code",
   "execution_count": null,
   "id": "baf79369-90d1-40e9-a1d9-98731a07b9e4",
   "metadata": {},
   "outputs": [],
   "source": [
    "Xg_1 = invcdf_bijector.forward(Xu_1)"
   ]
  },
  {
   "cell_type": "markdown",
   "id": "828a7b0e-ca9b-4da3-8ae6-356b63bb8ffa",
   "metadata": {},
   "source": [
    "#### Inverse"
   ]
  },
  {
   "cell_type": "code",
   "execution_count": null,
   "id": "f1220af2-623d-4efe-8328-18f015166feb",
   "metadata": {},
   "outputs": [],
   "source": [
    "Xu_1_approx = invcdf_bijector.inverse(Xg_1)"
   ]
  },
  {
   "cell_type": "code",
   "execution_count": null,
   "id": "8a6e80d7-8f66-455d-8fc8-dbddfc38f88c",
   "metadata": {},
   "outputs": [],
   "source": [
    "fig = corner.corner(Xu_1_approx)"
   ]
  },
  {
   "cell_type": "code",
   "execution_count": null,
   "id": "f98cc759-d20a-49c1-b74a-13979b2d6112",
   "metadata": {},
   "outputs": [],
   "source": [
    "fig, ax = plt.subplots()\n",
    "ax.hist(Xu_1, bins=25, color=\"blue\", density=True, label=\"True\")\n",
    "ax.hist(Xu_1_approx, bins=25, color=\"green\", density=True, label=\"Inverse\")\n",
    "plt.legend()\n",
    "plt.tight_layout()\n",
    "plt.show()"
   ]
  },
  {
   "cell_type": "markdown",
   "id": "f5aecfa8-b7b9-4820-84d2-09fcc2dae48d",
   "metadata": {},
   "source": [
    "#### Gradient"
   ]
  },
  {
   "cell_type": "code",
   "execution_count": null,
   "id": "d6170e4c-ab56-4027-8d75-4877a5adaa4c",
   "metadata": {},
   "outputs": [],
   "source": [
    "Xg_1_gradient = invcdf_bijector.gradient(Xu_1)"
   ]
  },
  {
   "cell_type": "code",
   "execution_count": null,
   "id": "c0105704-31f9-4068-9e85-fc9ab295518d",
   "metadata": {},
   "outputs": [],
   "source": [
    "fig = corner.corner(Xg_1_gradient)"
   ]
  },
  {
   "cell_type": "markdown",
   "id": "e3ed00e1-dd3b-4e5c-a220-fca9b5af85ba",
   "metadata": {},
   "source": [
    "#### Density Estimation"
   ]
  },
  {
   "cell_type": "code",
   "execution_count": null,
   "id": "b59ea58f-e7f9-44d8-825d-437179910e38",
   "metadata": {},
   "outputs": [],
   "source": [
    "# 1) uniformization\n",
    "Xu_1 = hist_uni_bijector.forward(X_1)\n",
    "det_jacobian_u = hist_uni_bijector.gradient(X_1)\n",
    "\n",
    "# 2) gaussianization\n",
    "Xg_1 = hist_uni_bijector.forward(Xu_1)\n",
    "det_jacobian_g = hist_uni_bijector.gradient(Xu_1)\n",
    "\n",
    "# latent probability\n",
    "base_dist = stats.norm(loc=0, scale=1)\n",
    "\n",
    "pz = base_dist.pdf(Xg_1).sum(axis=1)\n",
    "\n",
    "\n",
    "# total prob\n",
    "p_x = pz * det_jacobian_g * det_jacobian_u"
   ]
  },
  {
   "cell_type": "code",
   "execution_count": null,
   "id": "bf52b9f2-3b08-45bc-890b-91cada5fe962",
   "metadata": {},
   "outputs": [],
   "source": [
    "fig = corner.corner(p_x)"
   ]
  },
  {
   "cell_type": "markdown",
   "id": "a56748a7-e3d7-4a96-aabd-19e9502979d4",
   "metadata": {},
   "source": [
    "#### Sampling"
   ]
  },
  {
   "cell_type": "code",
   "execution_count": null,
   "id": "3fb1d3cb-3056-4f9f-b135-8b954ca22838",
   "metadata": {},
   "outputs": [],
   "source": [
    "# 1) samples from latent probability\n",
    "base_dist = stats.norm(loc=0, scale=1)\n",
    "pz_samples = base_dist.rvs(size=10_000)[:, None]\n",
    "\n",
    "# 2) inverse gaussianization\n",
    "Xu_1_samples = hist_uni_bijector.inverse(pz_samples)\n",
    "\n",
    "# 3) inverse uniformization\n",
    "X_1_samples = hist_uni_bijector.inverse(Xu_1_samples)"
   ]
  },
  {
   "cell_type": "code",
   "execution_count": null,
   "id": "639999f9-490c-4a3c-b17e-59e6742e7c56",
   "metadata": {},
   "outputs": [],
   "source": [
    "fig, ax = plt.subplots()\n",
    "ax.hist(X_1, bins=25, color=\"blue\", density=True, label=\"True\")\n",
    "ax.hist(X_1_samples, bins=25, color=\"green\", density=True, label=\"Samples\")\n",
    "plt.legend()\n",
    "plt.tight_layout()\n",
    "plt.show()"
   ]
  },
  {
   "cell_type": "markdown",
   "id": "b62bca41-bd4f-48fa-ab71-8f84d8bfa31d",
   "metadata": {},
   "source": [
    "## "
   ]
  }
 ],
 "metadata": {
  "kernelspec": {
   "display_name": "Python 3.8.9 64-bit",
   "language": "python",
   "name": "python3"
  },
  "language_info": {
   "codemirror_mode": {
    "name": "ipython",
    "version": 3
   },
   "file_extension": ".py",
   "mimetype": "text/x-python",
   "name": "python",
   "nbconvert_exporter": "python",
   "pygments_lexer": "ipython3",
   "version": "3.8.9"
  },
  "vscode": {
   "interpreter": {
    "hash": "31f2aee4e71d21fbe5cf8b01ff0e069b9275f58929596ceb00d14d90e3e16cd6"
   }
  }
 },
 "nbformat": 4,
 "nbformat_minor": 5
}
