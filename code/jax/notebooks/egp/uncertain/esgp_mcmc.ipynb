{
 "cells": [
  {
   "cell_type": "markdown",
   "metadata": {
    "colab_type": "text",
    "id": "view-in-github"
   },
   "source": [
    "<a href=\"https://colab.research.google.com/github/jejjohnson/gp_model_zoo/blob/master/code/numpyro/exact_gp.ipynb\" target=\"_parent\"><img src=\"https://colab.research.google.com/assets/colab-badge.svg\" alt=\"Open In Colab\"/></a>"
   ]
  },
  {
   "cell_type": "markdown",
   "metadata": {
    "id": "hecnCJD1trHy"
   },
   "source": [
    "# EGP (MCMC Schemes)\n",
    "\n",
    "A demo notebook showing how solve a simple regression problem using an exact Gaussian Process (GP). This GP is trained with MLE and we will use the numpyro library as the backend for the inference."
   ]
  },
  {
   "cell_type": "code",
   "execution_count": null,
   "metadata": {
    "id": "IgSMWFaNtnjB"
   },
   "outputs": [],
   "source": [
    "# #@title Install Packages\n",
    "# %%capture\n",
    "# !pip install pyprojroot jax jaxlib chex numpyro flax distrax numpy pandas seaborn matplotlib corner loguru nb_black sklearn"
   ]
  },
  {
   "cell_type": "code",
   "execution_count": null,
   "metadata": {},
   "outputs": [],
   "source": [
    "import sys, os\n",
    "from pyprojroot import here\n",
    "\n",
    "# spyder up to find the root\n",
    "root = here(project_files=[\".root\"])\n",
    "\n",
    "# append to path\n",
    "sys.path.append(str(root))"
   ]
  },
  {
   "cell_type": "code",
   "execution_count": null,
   "metadata": {
    "id": "c5TKBjGbumu6"
   },
   "outputs": [],
   "source": [
    "# @title Load Packages\n",
    "# TYPE HINTS\n",
    "from typing import Tuple, Optional, Dict, Callable, Union\n",
    "\n",
    "# JAX SETTINGS\n",
    "import jax\n",
    "import jax.numpy as jnp\n",
    "import jax.random as random\n",
    "from jax.config import config\n",
    "\n",
    "config.update(\"jax_enable_x64\", True)\n",
    "\n",
    "\n",
    "# JAX UTILITY LIBRARIES\n",
    "import chex\n",
    "\n",
    "# NUMPYRO SETTINGS\n",
    "import numpyro\n",
    "import numpyro.distributions as dist\n",
    "from numpyro.infer.autoguide import AutoDiagonalNormal\n",
    "from numpyro.infer import SVI, Trace_ELBO\n",
    "\n",
    "# NUMPY SETTINGS\n",
    "import numpy as np\n",
    "\n",
    "np.set_printoptions(precision=3, suppress=True)\n",
    "\n",
    "# MATPLOTLIB Settings\n",
    "import matplotlib as mpl\n",
    "import matplotlib.pyplot as plt\n",
    "\n",
    "%matplotlib inline\n",
    "%config InlineBackend.figure_format = 'retina'\n",
    "\n",
    "# SEABORN SETTINGS\n",
    "import seaborn as sns\n",
    "\n",
    "sns.set_context(context=\"poster\", font_scale=0.8)\n",
    "\n",
    "# PANDAS SETTINGS\n",
    "import pandas as pd\n",
    "\n",
    "pd.set_option(\"display.max_rows\", 120)\n",
    "pd.set_option(\"display.max_columns\", 120)\n",
    "\n",
    "# LOGGING SETTINGS\n",
    "import loguru\n",
    "\n",
    "%load_ext lab_black\n",
    "%load_ext autoreload\n",
    "%autoreload 2"
   ]
  },
  {
   "cell_type": "code",
   "execution_count": null,
   "metadata": {},
   "outputs": [],
   "source": [
    "# ==========================\n",
    "# INITIALIZE LOGGER\n",
    "# ==========================\n",
    "import wandb\n",
    "\n",
    "wandb_logger = wandb.init(project=\"egp_1_1\", entity=\"ipl_uv\")"
   ]
  },
  {
   "cell_type": "code",
   "execution_count": null,
   "metadata": {},
   "outputs": [],
   "source": [
    "wandb.config.model = \"sparse\"\n",
    "wandb.config.exp = \"demo_1d\"\n",
    "wandb.config.n_train = 1_000\n",
    "wandb.config.n_test = 1_000\n",
    "wandb.config.x_noise = 0.3\n",
    "wandb.config.y_noise = 0.01\n",
    "wandb.config.seed = 123"
   ]
  },
  {
   "cell_type": "code",
   "execution_count": null,
   "metadata": {
    "id": "RSMP8Vr6x51L"
   },
   "outputs": [],
   "source": [
    "from src.data import regression_near_square\n",
    "\n",
    "(\n",
    "    Xtrain,\n",
    "    Xtrain_noise,\n",
    "    ytrain,\n",
    "    xtest,\n",
    "    xtest_noise,\n",
    "    ytest,\n",
    "    ytest_noise,\n",
    ") = regression_near_square(\n",
    "    n_train=1_000, n_test=1_000, x_noise=0.3, y_noise=0.01, seed=123, buffer=0.0\n",
    ")\n",
    "\n",
    "fig, ax = plt.subplots(figsize=(10, 5))\n",
    "ax.scatter(Xtrain, ytrain, color=\"tab:orange\", label=\"Data\")\n",
    "ax.plot(xtest, ytest, color=\"black\", label=\"True Function\")\n",
    "ax.legend()\n",
    "plt.tight_layout()\n",
    "plt.gcf()\n",
    "wandb.log({\"train_data_clean\": wandb.Image(plt)})"
   ]
  },
  {
   "cell_type": "code",
   "execution_count": null,
   "metadata": {},
   "outputs": [],
   "source": [
    "fig, ax = plt.subplots(figsize=(10, 5))\n",
    "ax.scatter(xtest_noise, ytest_noise, color=\"tab:orange\", label=\"Test Data\")\n",
    "ax.plot(xtest, ytest, color=\"black\", label=\"True Function\")\n",
    "ax.legend()\n",
    "plt.tight_layout()\n",
    "plt.gcf()\n",
    "wandb.log({\"test_data_noisy\": wandb.Image(plt)})"
   ]
  },
  {
   "cell_type": "markdown",
   "metadata": {
    "id": "wXa_nHwb3NLL"
   },
   "source": [
    "## Gaussian Process Model"
   ]
  },
  {
   "cell_type": "markdown",
   "metadata": {},
   "source": [
    "#### Kernel"
   ]
  },
  {
   "cell_type": "code",
   "execution_count": null,
   "metadata": {},
   "outputs": [],
   "source": [
    "from chex import Array\n",
    "from src.utils import identity_matrix, add_to_diagonal\n",
    "from src.kernels import RBF\n",
    "\n",
    "rbf_kernel = RBF(length_scale=1.0, variance=1.0)\n",
    "K = rbf_kernel.gram(Xtrain)\n",
    "\n",
    "# check shape\n",
    "chex.assert_shape(K, (Xtrain.shape[0], Xtrain.shape[0]))"
   ]
  },
  {
   "cell_type": "markdown",
   "metadata": {},
   "source": [
    "#### Inducing Points"
   ]
  },
  {
   "cell_type": "code",
   "execution_count": null,
   "metadata": {},
   "outputs": [],
   "source": [
    "from src.utils import init_inducing_subsample, init_inducing_kmeans\n",
    "\n",
    "n_inducing = 60\n",
    "\n",
    "X_u_init = init_inducing_kmeans(Xtrain, n_inducing, seed=123)"
   ]
  },
  {
   "cell_type": "markdown",
   "metadata": {},
   "source": [
    "### Model"
   ]
  },
  {
   "cell_type": "code",
   "execution_count": null,
   "metadata": {
    "id": "j8BV-rAL3PKG"
   },
   "outputs": [],
   "source": [
    "from src.sparse import SGPVFE\n",
    "from src.means import zero_mean\n",
    "from chex import Array\n",
    "\n",
    "jitter = 1e-5\n",
    "\n",
    "inference = \"map\"\n",
    "wandb.config.inference = inference\n",
    "\n",
    "\n",
    "def numpyro_model(X, y):\n",
    "\n",
    "    if inference == \"map\" or \"vi_mf\" or \"vi_full\":\n",
    "        # Set priors on hyperparameters.\n",
    "        η = numpyro.sample(\"variance\", dist.HalfCauchy(scale=5.0))\n",
    "        ℓ = numpyro.sample(\"length_scale\", dist.Gamma(2.0, 1.0))\n",
    "        σ = numpyro.sample(\"obs_noise\", dist.HalfCauchy(scale=5.0))\n",
    "    elif inference == \"mll\":\n",
    "\n",
    "        # set params and constraints on hyperparams\n",
    "        η = numpyro.param(\n",
    "            \"variance\", init_value=1.0, constraints=dist.constraints.positive\n",
    "        )\n",
    "        ℓ = numpyro.param(\n",
    "            \"length_scale\", init_value=1.0, constraints=dist.constraints.positive\n",
    "        )\n",
    "        σ = numpyro.param(\n",
    "            \"obs_noise\", init_value=0.01, onstraints=dist.constraints.positive\n",
    "        )\n",
    "    else:\n",
    "        raise ValueError(f\"Unrecognized inference scheme: {inference}\")\n",
    "\n",
    "    x_u = numpyro.param(\"x_u\", init_value=X_u_init)\n",
    "\n",
    "    # Kernel Function\n",
    "    rbf_kernel = RBF(variance=η, length_scale=ℓ)\n",
    "\n",
    "    # GP Model\n",
    "    gp_model = SGPVFE(\n",
    "        X=X, X_u=x_u, y=y, mean=zero_mean, kernel=rbf_kernel, obs_noise=σ, jitter=jitter\n",
    "    )\n",
    "\n",
    "    # Sample y according SGP\n",
    "    return gp_model.to_numpyro(y=y)\n",
    "\n",
    "\n",
    "def empty_guide(X, y):\n",
    "    pass"
   ]
  },
  {
   "cell_type": "code",
   "execution_count": null,
   "metadata": {
    "id": "RmJrGlYS3TuD"
   },
   "outputs": [],
   "source": [
    "with numpyro.handlers.seed(rng_seed=123):\n",
    "    t = numpyro_model(Xtrain, ytrain)\n",
    "\n",
    "assert t.shape == Xtrain.shape"
   ]
  },
  {
   "cell_type": "markdown",
   "metadata": {
    "id": "NBOZgRAk1qE3"
   },
   "source": [
    "## Training (Maximum Likelihood)"
   ]
  },
  {
   "cell_type": "code",
   "execution_count": null,
   "metadata": {
    "colab": {
     "base_uri": "https://localhost:8080/"
    },
    "id": "w35zj0GL5bv8",
    "outputId": "acb6b2a0-46cd-4cc2-89d2-ef10664629c9"
   },
   "outputs": [],
   "source": [
    "from numpyro.infer.autoguide import (\n",
    "    AutoDelta,\n",
    "    AutoMultivariateNormal,\n",
    "    AutoDiagonalNormal,\n",
    ")\n",
    "\n",
    "# ===================\n",
    "# Model\n",
    "# ===================\n",
    "# GP model\n",
    "\n",
    "# delta guide - basically deterministic\n",
    "\n",
    "\n",
    "if inference == \"map\":\n",
    "    guide = AutoDelta(numpyro_model)\n",
    "elif inference == \"vi_mf\":\n",
    "    guide = AutoDiagonalNormal(numpyro_model)\n",
    "elif inference == \"vi_full\":\n",
    "    guide = AutoMultivariateNormal(numpyro_model)\n",
    "elif inference == \"mll\":\n",
    "\n",
    "    def empty_guide(X, y):\n",
    "        pass\n",
    "\n",
    "    guide = empty_guide\n",
    "else:\n",
    "    raise ValueError(f\"Unrecognized inference scheme: {inference}\")"
   ]
  },
  {
   "cell_type": "code",
   "execution_count": null,
   "metadata": {
    "colab": {
     "base_uri": "https://localhost:8080/"
    },
    "id": "MJsm0nCN69Nd",
    "outputId": "cb309c22-85d3-4d18-b883-45efecf243e8"
   },
   "outputs": [],
   "source": [
    "# reproducibility\n",
    "rng_key = random.PRNGKey(0)\n",
    "\n",
    "\n",
    "# Setup\n",
    "wandb.config.step_size = 0.01\n",
    "wandb.config.train_seed = 42\n",
    "wandb.config.iterations = 2_500\n",
    "\n",
    "optimizer = numpyro.optim.Adam(step_size=0.01)\n",
    "# optimizer = numpyro.optim.Minimize()\n",
    "# optimizer = optax.adamw(learning_rate=0.1)\n",
    "svi = SVI(numpyro_model, guide, optimizer, loss=Trace_ELBO())\n",
    "svi_results = svi.run(random.PRNGKey(1), 2_500, Xtrain, ytrain.T)"
   ]
  },
  {
   "cell_type": "code",
   "execution_count": null,
   "metadata": {
    "colab": {
     "base_uri": "https://localhost:8080/",
     "height": 304
    },
    "id": "76vAkN08OeLr",
    "outputId": "d28b6206-015e-49fe-d071-34803026e31d"
   },
   "outputs": [],
   "source": [
    "fig, ax = plt.subplots(figsize=(10, 5))\n",
    "\n",
    "ax.plot(svi_results.losses)\n",
    "ax.set(title=\"Loss\", xlabel=\"Iterations\", ylabel=\"Negative Log-Likelihood\")\n",
    "plt.gcf()\n",
    "wandb.log({\"loss\": wandb.Image(plt)})"
   ]
  },
  {
   "cell_type": "markdown",
   "metadata": {},
   "source": [
    "### Extracting the Params"
   ]
  },
  {
   "cell_type": "code",
   "execution_count": null,
   "metadata": {},
   "outputs": [],
   "source": [
    "import numpy as np"
   ]
  },
  {
   "cell_type": "code",
   "execution_count": null,
   "metadata": {
    "colab": {
     "base_uri": "https://localhost:8080/"
    },
    "id": "IXBOY9o3FL8A",
    "outputId": "687693db-9d74-4fbb-b915-76120307624c"
   },
   "outputs": [],
   "source": [
    "from pprint import pprint\n",
    "\n",
    "# Take them directly\n",
    "learned_params = svi_results.params\n",
    "# pprint(learned_params)\n",
    "\n",
    "if inference != \"mll\":\n",
    "    x_u = learned_params[\"x_u\"]\n",
    "    learned_params = guide.median(learned_params)\n",
    "    learned_params[\"x_u\"] = x_u\n",
    "\n",
    "\n",
    "# wandb.log({\"x_u\": np.array(x_u)})\n",
    "# pprint(learned_params)"
   ]
  },
  {
   "cell_type": "markdown",
   "metadata": {},
   "source": [
    "### Predictions"
   ]
  },
  {
   "cell_type": "code",
   "execution_count": null,
   "metadata": {},
   "outputs": [],
   "source": [
    "from src.sparse import init_sgp_predictive\n",
    "\n",
    "sgp_pred = init_sgp_predictive(RBF, learned_params, Xtrain, ytrain, jitter=1e-5)\n",
    "\n",
    "mu, var = sgp_pred.predict_y(xtest)\n",
    "\n",
    "std = jnp.sqrt(var.squeeze())"
   ]
  },
  {
   "cell_type": "code",
   "execution_count": null,
   "metadata": {},
   "outputs": [],
   "source": [
    "ci = 1.96\n",
    "one_stddev = ci * std"
   ]
  },
  {
   "cell_type": "code",
   "execution_count": null,
   "metadata": {
    "colab": {
     "base_uri": "https://localhost:8080/",
     "height": 289
    },
    "id": "bHhVFQBoFJow",
    "outputId": "53c0da36-06dd-47bb-8359-ca04d566a228"
   },
   "outputs": [],
   "source": [
    "fig, ax = plt.subplots(figsize=(10, 5))\n",
    "ax.scatter(Xtrain, ytrain, marker=\"o\", s=100, color=\"tab:orange\", label=\"Testing Data\")\n",
    "ax.plot(xtest, ytest, color=\"black\", linestyle=\"-\", label=\"True Function\")\n",
    "ax.plot(\n",
    "    xtest,\n",
    "    mu.ravel(),\n",
    "    color=\"Blue\",\n",
    "    linestyle=\"--\",\n",
    "    linewidth=3,\n",
    "    label=\"Predictive Mean\",\n",
    ")\n",
    "ax.fill_between(\n",
    "    xtest.ravel(),\n",
    "    mu.ravel() - one_stddev,\n",
    "    mu.ravel() + one_stddev,\n",
    "    alpha=0.4,\n",
    "    color=\"tab:blue\",\n",
    "    label=f\" 95% Confidence Interval\",\n",
    ")\n",
    "ax.plot(xtest, mu.ravel() - one_stddev, linestyle=\"--\", color=\"tab:blue\")\n",
    "ax.plot(xtest, mu.ravel() + one_stddev, linestyle=\"--\", color=\"tab:blue\")\n",
    "plt.tight_layout()\n",
    "plt.legend(fontsize=12)\n",
    "plt.gcf()\n",
    "wandb.log({\"esgp_pred_standard_clean\": wandb.Image(plt)})"
   ]
  },
  {
   "cell_type": "markdown",
   "metadata": {},
   "source": [
    "## Calibration"
   ]
  },
  {
   "cell_type": "code",
   "execution_count": null,
   "metadata": {},
   "outputs": [],
   "source": [
    "from uncertainty_toolbox import viz as utviz"
   ]
  },
  {
   "cell_type": "markdown",
   "metadata": {},
   "source": [
    "#### Test Data"
   ]
  },
  {
   "cell_type": "code",
   "execution_count": null,
   "metadata": {},
   "outputs": [],
   "source": [
    "mu, var = sgp_pred.predict_y(xtest)\n",
    "\n",
    "std = jnp.sqrt(var.squeeze())\n",
    "\n",
    "utviz.plot_calibration(y_pred=mu.ravel(), y_std=std.ravel(), y_true=ytest.ravel())\n",
    "plt.gcf()\n",
    "wandb.log({\"esgp_calib_standard_clean\": wandb.Image(plt)})"
   ]
  },
  {
   "cell_type": "markdown",
   "metadata": {},
   "source": [
    "## Noisy Test Data"
   ]
  },
  {
   "cell_type": "code",
   "execution_count": null,
   "metadata": {},
   "outputs": [],
   "source": [
    "mu, var = sgp_pred.predict_y(xtest_noise)\n",
    "\n",
    "std = jnp.sqrt(var.squeeze())\n",
    "\n",
    "ci = 1.96\n",
    "one_stddev = ci * std"
   ]
  },
  {
   "cell_type": "code",
   "execution_count": null,
   "metadata": {},
   "outputs": [],
   "source": [
    "idx_samples = np.random.choice(np.arange(xtest_noise.shape[0]), 50)"
   ]
  },
  {
   "cell_type": "code",
   "execution_count": null,
   "metadata": {},
   "outputs": [],
   "source": [
    "def plot_noisy_predictions(mu, var, method):\n",
    "    std = jnp.sqrt(var.squeeze())\n",
    "    ci = 1.96\n",
    "    one_stddev = ci * std\n",
    "    fig, ax = plt.subplots(figsize=(10, 5))\n",
    "    ax.scatter(\n",
    "        xtest_noise,\n",
    "        ytest_noise,\n",
    "        marker=\"o\",\n",
    "        s=30,\n",
    "        color=\"tab:orange\",\n",
    "        label=\"Testing Data\",\n",
    "    )\n",
    "    ax.plot(xtest, ytest, color=\"black\", linestyle=\"-\", label=\"True Function\")\n",
    "    ax.plot(\n",
    "        xtest_noise,\n",
    "        mu.ravel(),\n",
    "        color=\"Blue\",\n",
    "        linestyle=\"--\",\n",
    "        linewidth=3,\n",
    "        label=\"Predictive Mean\",\n",
    "    )\n",
    "    ax.fill_between(\n",
    "        xtest_noise.ravel(),\n",
    "        mu.ravel() - one_stddev,\n",
    "        mu.ravel() + one_stddev,\n",
    "        alpha=0.4,\n",
    "        color=\"tab:blue\",\n",
    "        label=f\" 95% Confidence Interval\",\n",
    "    )\n",
    "    ax.plot(xtest_noise, mu.ravel() - one_stddev, linestyle=\"--\", color=\"tab:blue\")\n",
    "    ax.plot(xtest_noise, mu.ravel() + one_stddev, linestyle=\"--\", color=\"tab:blue\")\n",
    "    plt.tight_layout()\n",
    "    plt.legend(fontsize=12)\n",
    "    plt.gcf()\n",
    "    wandb.log({f\"esgp_pred_{method}_noisy\": wandb.Image(plt)})"
   ]
  },
  {
   "cell_type": "code",
   "execution_count": null,
   "metadata": {},
   "outputs": [],
   "source": [
    "plot_noisy_predictions(mu, var, \"standard\")"
   ]
  },
  {
   "cell_type": "code",
   "execution_count": null,
   "metadata": {},
   "outputs": [],
   "source": [
    "def plot_calibrations(mu, var, method):\n",
    "    std = jnp.sqrt(var.squeeze())\n",
    "    ci = 1.96\n",
    "    one_stddev = ci * std\n",
    "    utviz.plot_calibration(\n",
    "        y_pred=mu.ravel(), y_std=std.ravel(), y_true=ytest_noise.ravel()\n",
    "    )\n",
    "    plt.gcf()\n",
    "    wandb.log({f\"esgp_calib_{method}_noisy\": wandb.Image(plt)})"
   ]
  },
  {
   "cell_type": "code",
   "execution_count": null,
   "metadata": {},
   "outputs": [],
   "source": [
    "plot_calibrations(mu, var, \"standard\")"
   ]
  },
  {
   "cell_type": "markdown",
   "metadata": {},
   "source": [
    "## Input Distribution"
   ]
  },
  {
   "cell_type": "code",
   "execution_count": null,
   "metadata": {},
   "outputs": [],
   "source": [
    "x_scale = jnp.array([0.3])\n",
    "x_cov = x_scale.reshape(-1, 1) ** 2"
   ]
  },
  {
   "cell_type": "markdown",
   "metadata": {},
   "source": [
    "## Monte Carlo Samples"
   ]
  },
  {
   "cell_type": "markdown",
   "metadata": {},
   "source": [
    "In this first example, we will approximate the actual posterior using Monte Carlo sampling. Using the following formula:\n",
    "\n",
    "$$\n",
    "p(f_*|\\mu_\\mathbf{x}, \\Sigma_\\mathbf{x}, \\mathcal{D}) \\approx \\frac{1}{T}\\sum_{t=1}^T \\mathcal{N}\\left(f_*|\\mu_\\mathcal{GP}(\\mathbf{x}_*^t),\\sigma^2_\\mathcal{GP}(\\mathbf{x}_*^t) \\right) \n",
    "$$\n",
    "\n",
    "This will approach the real posterior as $T$ grows. What we want to demonstrate is that this posterior is non-Gaussian when our inputs are non-Gaussian."
   ]
  },
  {
   "cell_type": "markdown",
   "metadata": {},
   "source": [
    "In this example, we assume that $\\mathbf{x}_* \\sim \\mathcal{N}(\\mathbf{\\mu_x}, \\mathbf{\\Sigma_x})$. We're assuming our data points come We can reparameterize this as f\n",
    "\n",
    "\n",
    "we will be using the following form to do the sampling:\n",
    "\n",
    "$$\n",
    "\\mathbf{x}_T = \\mu_\\mathbf{x} + \\mathbf{L}\\mathbf{z}\n",
    "$$\n",
    "\n",
    "where $\\mathbf{z}\\sim \\mathcal{N}(\\mathbf{0}, \\mathbf{I})$. So we will draw 10,000 samples and then propagate all of these through the non-linear function."
   ]
  },
  {
   "cell_type": "code",
   "execution_count": null,
   "metadata": {},
   "outputs": [],
   "source": [
    "from src.uncertain.monte_carlo import MCTransform"
   ]
  },
  {
   "cell_type": "code",
   "execution_count": null,
   "metadata": {},
   "outputs": [],
   "source": [
    "from src.uncertain.monte_carlo import init_mc_transform\n",
    "\n",
    "egp_pred_mc = MCTransform(sgp_pred, n_samples=1_000, cov_type=\"diag\")\n",
    "key = jax.random.PRNGKey(123)\n",
    "\n",
    "mu_mc, var_mc = egp_pred_mc.predict_f(key, xtest_noise, x_scale, False)\n",
    "std_mc = jnp.sqrt(var_mc).ravel()\n",
    "assert mu_mc.shape == var_mc.shape"
   ]
  },
  {
   "cell_type": "code",
   "execution_count": null,
   "metadata": {},
   "outputs": [],
   "source": [
    "plot_noisy_predictions(mu_mc, var_mc, \"mc\")\n",
    "plot_calibrations(mu_mc, var_mc, \"mc\")"
   ]
  },
  {
   "cell_type": "code",
   "execution_count": null,
   "metadata": {},
   "outputs": [],
   "source": [
    "mu_mc, cov_mc = egp_pred_mc.predict_f(key, xtest_noise, x_scale, True)"
   ]
  },
  {
   "cell_type": "code",
   "execution_count": null,
   "metadata": {},
   "outputs": [],
   "source": [
    "import tensorflow_probability.substrates.jax as tfp\n",
    "\n",
    "dist = tfp.distributions\n",
    "pred_dist = dist.MultivariateNormalFullCovariance(\n",
    "    loc=mu_mc.squeeze(),\n",
    "    covariance_matrix=cov_mc.squeeze() + 1e-9 * jnp.eye(cov_mc.shape[0]),\n",
    ")"
   ]
  },
  {
   "cell_type": "code",
   "execution_count": null,
   "metadata": {},
   "outputs": [],
   "source": [
    "samples = pred_dist.sample(sample_shape=(100,), seed=key)"
   ]
  },
  {
   "cell_type": "code",
   "execution_count": null,
   "metadata": {},
   "outputs": [],
   "source": [
    "plt.figure()\n",
    "plt.plot(xtest_noise.ravel(), samples.T, alpha=0.05, color=\"red\")\n",
    "plt.plot(xtest_noise.ravel(), mu_mc.ravel(), color=\"black\", linewidth=2)\n",
    "plt.show()"
   ]
  },
  {
   "cell_type": "markdown",
   "metadata": {},
   "source": [
    "## Sigma Points"
   ]
  },
  {
   "cell_type": "markdown",
   "metadata": {},
   "source": [
    "### Unscented Transformation"
   ]
  },
  {
   "cell_type": "code",
   "execution_count": null,
   "metadata": {},
   "outputs": [],
   "source": [
    "from src.uncertain.unscented import UnscentedTransform"
   ]
  },
  {
   "cell_type": "code",
   "execution_count": null,
   "metadata": {},
   "outputs": [],
   "source": [
    "egp_pred_unc = UnscentedTransform(sgp_pred, n_features=1)\n",
    "\n",
    "mu_unc, var_unc = egp_pred_unc.predict_f(xtest_noise, x_cov, False)\n",
    "std_unc = jnp.sqrt(var_unc.squeeze())"
   ]
  },
  {
   "cell_type": "code",
   "execution_count": null,
   "metadata": {},
   "outputs": [],
   "source": [
    "plot_noisy_predictions(mu_unc, var_unc, \"unscented\")\n",
    "plot_calibrations(mu_unc, var_unc, \"unscented\")"
   ]
  },
  {
   "cell_type": "code",
   "execution_count": null,
   "metadata": {},
   "outputs": [],
   "source": [
    "mu_mc, cov_var = egp_pred_unc.predict_f(xtest_noise, x_cov, True)"
   ]
  },
  {
   "cell_type": "code",
   "execution_count": null,
   "metadata": {},
   "outputs": [],
   "source": [
    "pred_dist = dist.MultivariateNormalFullCovariance(\n",
    "    loc=mu_mc.squeeze(),\n",
    "    covariance_matrix=cov_var.squeeze() + 1e-8 * jnp.eye(cov_var.shape[0]),\n",
    ")"
   ]
  },
  {
   "cell_type": "code",
   "execution_count": null,
   "metadata": {},
   "outputs": [],
   "source": [
    "samples = pred_dist.sample(sample_shape=(100,), seed=key)"
   ]
  },
  {
   "cell_type": "code",
   "execution_count": null,
   "metadata": {},
   "outputs": [],
   "source": [
    "plt.figure()\n",
    "plt.plot(xtest_noise.ravel(), samples.T, alpha=0.05, color=\"red\")\n",
    "plt.show()"
   ]
  },
  {
   "cell_type": "markdown",
   "metadata": {},
   "source": [
    "### Unscented Transform (Spherical Radial)"
   ]
  },
  {
   "cell_type": "code",
   "execution_count": null,
   "metadata": {},
   "outputs": [],
   "source": [
    "from src.uncertain.unscented import SphericalTransform"
   ]
  },
  {
   "cell_type": "code",
   "execution_count": null,
   "metadata": {},
   "outputs": [],
   "source": [
    "egp_pred_unc_sph = UnscentedTransform(sgp_pred, n_features=1)\n",
    "\n",
    "mu_unc_sph, var_unc_sph = egp_pred_unc_sph.predict_f(xtest_noise, x_cov, False)\n",
    "std_unc_sph = jnp.sqrt(var_unc_sph.squeeze())"
   ]
  },
  {
   "cell_type": "code",
   "execution_count": null,
   "metadata": {},
   "outputs": [],
   "source": [
    "plot_noisy_predictions(mu_unc_sph, var_unc_sph, \"unc_sph\")\n",
    "plot_calibrations(mu_unc_sph, var_unc_sph, \"unc_sph\")"
   ]
  },
  {
   "cell_type": "markdown",
   "metadata": {},
   "source": [
    "### Gauss-Hermite"
   ]
  },
  {
   "cell_type": "code",
   "execution_count": null,
   "metadata": {},
   "outputs": [],
   "source": [
    "from src.uncertain.quadrature import GaussHermiteTransform\n",
    "\n",
    "\n",
    "egp_pred_gh = GaussHermiteTransform(sgp_pred, n_features=1, degree=3)\n",
    "\n",
    "mu_gh, var_gh = egp_pred_gh.predict_f(xtest_noise, x_cov, False)\n",
    "std_gh = jnp.sqrt(var_gh.squeeze())"
   ]
  },
  {
   "cell_type": "code",
   "execution_count": null,
   "metadata": {},
   "outputs": [],
   "source": [
    "plot_noisy_predictions(mu_gh, var_gh, \"gh\")\n",
    "plot_calibrations(mu_gh, var_gh, \"gh\")"
   ]
  },
  {
   "cell_type": "code",
   "execution_count": null,
   "metadata": {},
   "outputs": [],
   "source": []
  }
 ],
 "metadata": {
  "accelerator": "GPU",
  "colab": {
   "authorship_tag": "ABX9TyODMjiq/1iikmElk2uIWfN2",
   "collapsed_sections": [],
   "include_colab_link": true,
   "name": "numpyro_gp_playground.ipynb",
   "provenance": []
  },
  "kernelspec": {
   "display_name": "Python [conda env:.conda-jax_py38]",
   "language": "python",
   "name": "conda-env-.conda-jax_py38-py"
  },
  "language_info": {
   "codemirror_mode": {
    "name": "ipython",
    "version": 3
   },
   "file_extension": ".py",
   "mimetype": "text/x-python",
   "name": "python",
   "nbconvert_exporter": "python",
   "pygments_lexer": "ipython3",
   "version": "3.8.5"
  }
 },
 "nbformat": 4,
 "nbformat_minor": 4
}
