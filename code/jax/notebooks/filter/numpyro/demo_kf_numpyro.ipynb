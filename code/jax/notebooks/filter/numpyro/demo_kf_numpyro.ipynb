{
 "cells": [
  {
   "cell_type": "markdown",
   "id": "57dc7590-f8c9-4a24-941f-3bdcae763619",
   "metadata": {},
   "source": [
    "# Demo - Numpyro"
   ]
  },
  {
   "cell_type": "code",
   "execution_count": null,
   "id": "57cca63a-27a6-49f0-ae78-64a5205cc908",
   "metadata": {},
   "outputs": [],
   "source": [
    "import jax.numpy as jnp\n",
    "import numpy as np\n",
    "\n",
    "import matplotlib.pyplot as plt\n",
    "\n",
    "import pathlib\n",
    "from typing import Dict, Optional, Tuple\n",
    "\n",
    "import jax.numpy as jnp\n",
    "import matplotlib.pyplot as plt\n",
    "import numpy as np\n",
    "import numpyro\n",
    "import numpyro.distributions as dist\n",
    "from jax import random\n",
    "from numpyro import diagnostics, infer, optim\n",
    "from numpyro.contrib.control_flow import scan\n",
    "from numpyro.distributions import constraints\n",
    "from numpyro.infer.svi import SVIRunResult"
   ]
  },
  {
   "cell_type": "markdown",
   "id": "d3bf97a4-a36b-4e16-8fae-903abc8ab566",
   "metadata": {},
   "source": [
    "## Data"
   ]
  },
  {
   "cell_type": "code",
   "execution_count": null,
   "id": "9a7c5425-46da-4d64-912f-432edf9b68bd",
   "metadata": {},
   "outputs": [],
   "source": [
    "def _load_data(batch: int = 100) -> jnp.ndarray:\n",
    "\n",
    "    x = jnp.concatenate(\n",
    "        [\n",
    "            np.random.randn(10, batch),\n",
    "            np.random.randn(10, batch) + 2,\n",
    "            np.random.randn(10, batch) - 1,\n",
    "            np.random.randn(10, batch) + 1,\n",
    "        ]\n",
    "    )\n",
    "    x = x + jnp.arange(len(x))[:, None] * 0.3\n",
    "    x = x[..., None]\n",
    "\n",
    "    return x"
   ]
  },
  {
   "cell_type": "code",
   "execution_count": null,
   "id": "a22d8270-d37a-4e41-839a-c49cd8e07f5a",
   "metadata": {},
   "outputs": [],
   "source": [
    "x = _load_data()\n",
    "x.shape"
   ]
  },
  {
   "cell_type": "code",
   "execution_count": null,
   "id": "cfbc9a2f-7865-458b-abac-934e7572845a",
   "metadata": {},
   "outputs": [],
   "source": [
    "fig, ax = plt.subplots()\n",
    "\n",
    "ax.plot(x[:, 0, :])\n",
    "ax.plot(x[:, 1, :])\n",
    "ax.plot(x[:, 2, :])\n",
    "plt.show()"
   ]
  },
  {
   "cell_type": "markdown",
   "id": "096c58f5-a30b-4cf2-93d0-33d3336a7353",
   "metadata": {},
   "source": [
    "## Model"
   ]
  },
  {
   "cell_type": "code",
   "execution_count": null,
   "id": "6ad04624-6429-4de9-aab4-09ebb69af1ed",
   "metadata": {},
   "outputs": [],
   "source": [
    "def model(\n",
    "    x: Optional[jnp.ndarray] = None,\n",
    "    seq_len: int = 0,\n",
    "    batch: int = 0,\n",
    "    x_dim: int = 1,\n",
    "    future_steps: int = 0,\n",
    ") -> None:\n",
    "    \"\"\"Simple Kalman filter model (random walk).\n",
    "    Args:\n",
    "        x: **Batch-second** data, `shape = (seq_len, batch, data_dim)`.\n",
    "        seq_len: Length of sequence.\n",
    "        batch: Batch size for prior sampling.\n",
    "        x_dim: Dimension of data for prior sampling.\n",
    "        future_steps: Forecasting time steps.\n",
    "    \"\"\"\n",
    "\n",
    "    if x is not None:\n",
    "        print(\"Input:\", x.shape)\n",
    "        z_init = x[0]\n",
    "        seq_len, batch, x_dim = x.shape\n",
    "    else:\n",
    "        z_init = jnp.zeros((batch, x_dim))\n",
    "    numpyro.deterministic(\"z_init\", z_init)\n",
    "\n",
    "    print(\"Init:\", z_init.shape)\n",
    "\n",
    "    trans_var = numpyro.param(\"trans_var\", 0.01, constraint=constraints.positive)\n",
    "    emit_mu = numpyro.param(\"emit_mu\", 1.0)\n",
    "    emit_var = numpyro.param(\"emit_var\", 0.01, constraint=constraints.positive)\n",
    "    coef = numpyro.param(\"coef\", 1.0)\n",
    "\n",
    "    def transition_fn(\n",
    "        carry: Tuple[jnp.ndarray], t: jnp.ndarray\n",
    "    ) -> Tuple[Tuple[jnp.ndarray], jnp.ndarray]:\n",
    "\n",
    "        z_prev, *_ = carry\n",
    "        print(\"z_prev:\", z_prev.shape)\n",
    "        z = numpyro.sample(\"z\", dist.Normal(z_prev + coef * t, trans_var))\n",
    "        x = numpyro.sample(\"x\", dist.Normal(emit_mu * z, emit_var))\n",
    "        print(\"Loop:\", z_prev.shape, z.shape, x.shape)\n",
    "        return (z,), None\n",
    "\n",
    "    with numpyro.handlers.condition(data={\"x\": x}):\n",
    "        scan(transition_fn, (z_init,), jnp.arange(seq_len + future_steps))"
   ]
  },
  {
   "cell_type": "markdown",
   "id": "4b4d41dc-84fe-4690-8766-f451ed895579",
   "metadata": {},
   "source": [
    "### Prior"
   ]
  },
  {
   "cell_type": "code",
   "execution_count": null,
   "id": "2045794e-9b45-4ef3-98ac-7aca14ec0b16",
   "metadata": {},
   "outputs": [],
   "source": [
    "%%time\n",
    "\n",
    "rng_key = random.PRNGKey(0)\n",
    "rng_key, rng_key_prior, rng_key_infer, rng_key_posterior = random.split(rng_key, 4)\n",
    "\n",
    "print(\"Data:\", x.shape)\n",
    "# Prior prediction\n",
    "\n",
    "predictive = infer.Predictive(model, num_samples=10)\n",
    "print(\"No Input\")\n",
    "prior_predictive = predictive(rng_key_prior, None, *x.shape, future_steps=10)\n",
    "print(\"Input\")\n",
    "prior_predictive = predictive(rng_key_prior, x, future_steps=10)"
   ]
  },
  {
   "cell_type": "markdown",
   "id": "d399cde4-53a6-4819-8f59-eb7a5a69cba5",
   "metadata": {},
   "source": [
    "### Viz - "
   ]
  },
  {
   "cell_type": "code",
   "execution_count": null,
   "id": "1b0779a4-e80b-4d15-9672-b915c03e48d0",
   "metadata": {},
   "outputs": [],
   "source": []
  },
  {
   "cell_type": "markdown",
   "id": "eaa30bc7-e87b-452e-995b-71f3a32ff47f",
   "metadata": {},
   "source": [
    "### Guide (Approx Posterior)"
   ]
  },
  {
   "cell_type": "code",
   "execution_count": null,
   "id": "a39f72db-3c06-4155-8117-65508fa18103",
   "metadata": {},
   "outputs": [],
   "source": [
    "def guide(\n",
    "    x: Optional[jnp.ndarray] = None,\n",
    "    seq_len: int = 0,\n",
    "    batch: int = 0,\n",
    "    x_dim: int = 1,\n",
    "    future_steps: int = 0,\n",
    ") -> None:\n",
    "\n",
    "    if x is not None:\n",
    "        *_, x_dim = x.shape\n",
    "\n",
    "    phi = numpyro.param(\"phi\", jnp.ones(x_dim))\n",
    "    sigma = numpyro.param(\n",
    "        \"sigma\", jnp.ones(x_dim) * 0.05, constraint=constraints.positive\n",
    "    )\n",
    "    numpyro.sample(\"z\", dist.Normal(x * phi, sigma))"
   ]
  },
  {
   "cell_type": "markdown",
   "id": "6047e6af-2717-4129-8bbb-b1e67c068185",
   "metadata": {},
   "source": [
    "## Training Loop"
   ]
  },
  {
   "cell_type": "markdown",
   "id": "d73828cc-017d-4c80-bfbe-bc46acd3ea33",
   "metadata": {},
   "source": [
    "### Prior"
   ]
  },
  {
   "cell_type": "code",
   "execution_count": null,
   "id": "2df73e69-f4da-499c-8ea4-567a113ddaef",
   "metadata": {},
   "outputs": [],
   "source": [
    "x.shape"
   ]
  },
  {
   "cell_type": "code",
   "execution_count": null,
   "id": "56e66ae4-e341-4e33-9755-cb78e33c1d9f",
   "metadata": {},
   "outputs": [],
   "source": [
    "\n"
   ]
  },
  {
   "cell_type": "markdown",
   "id": "b5afa5d3-803d-46be-abb6-9032ecb11df5",
   "metadata": {},
   "source": [
    "#### Viz - "
   ]
  },
  {
   "cell_type": "code",
   "execution_count": null,
   "id": "1f3ade98-044b-4d12-92aa-21646cb5a312",
   "metadata": {},
   "outputs": [],
   "source": [
    "len_train = x.shape[0]\n",
    "x_pred_trn = prior_predictive[\"x\"][:, :len_train, 0]\n",
    "x_hpdi_trn = diagnostics.hpdi(x_pred_trn)[:, :, 0]\n",
    "x_pred_tst = prior_predictive[\"x\"][:, len_train:, 0]\n",
    "x_hpdi_tst = diagnostics.hpdi(x_pred_tst)[:, :, 0]\n",
    "len_test = x_pred_tst.shape[1]"
   ]
  },
  {
   "cell_type": "code",
   "execution_count": null,
   "id": "13e0a024-546f-42be-ac8f-523983993161",
   "metadata": {},
   "outputs": [],
   "source": [
    "prop_cycle = plt.rcParams[\"axes.prop_cycle\"]\n",
    "colors = prop_cycle.by_key()[\"color\"]\n",
    "\n",
    "plt.figure(figsize=(12, 6))\n",
    "plt.plot(x[:, 0].ravel(), label=\"ground truth\", color=colors[0])\n",
    "\n",
    "t_train = np.arange(len_train)\n",
    "plt.plot(t_train, x_pred_trn.mean(0).ravel(), label=\"prediction\", color=colors[1])\n",
    "plt.fill_between(\n",
    "    t_train, x_hpdi_trn[0].ravel(), x_hpdi_trn[1].ravel(), alpha=0.3, color=colors[1]\n",
    ")\n",
    "\n",
    "t_test = np.arange(len_train, len_train + len_test)\n",
    "plt.plot(t_test, x_pred_tst.mean(0).ravel(), label=\"forecast\", color=colors[2])\n",
    "plt.fill_between(\n",
    "    t_test, x_hpdi_tst[0].ravel(), x_hpdi_tst[1].ravel(), alpha=0.3, color=colors[2]\n",
    ")\n",
    "\n",
    "plt.legend()\n",
    "plt.tight_layout()\n",
    "# plt.savefig(root / \"kalman.png\")\n",
    "plt.show()"
   ]
  },
  {
   "cell_type": "markdown",
   "id": "98121c0a-e7f4-4462-a291-99664872d8b1",
   "metadata": {},
   "source": [
    "### Inference"
   ]
  },
  {
   "cell_type": "code",
   "execution_count": null,
   "id": "5bda5b8c-4085-43c2-8718-5c69ac63f55c",
   "metadata": {},
   "outputs": [],
   "source": [
    "%%time\n",
    "# optimizers\n",
    "lr = 1e-4\n",
    "adam = optim.Adam(lr)\n",
    "\n",
    "\n",
    "n_epochs = 50_000\n",
    "\n",
    "# Inference\n",
    "svi = infer.SVI(model, guide, adam, infer.TraceMeanField_ELBO())\n",
    "svi_result = svi.run(rng_key_infer, n_epochs, x)"
   ]
  },
  {
   "cell_type": "markdown",
   "id": "0a49ae19-a610-4ac8-9871-cafa6d3f48c3",
   "metadata": {},
   "source": [
    "### Viz - Loss"
   ]
  },
  {
   "cell_type": "code",
   "execution_count": null,
   "id": "6592a2b5-6829-4e7b-85f9-065d95dd8496",
   "metadata": {},
   "outputs": [],
   "source": [
    "plt.figure(figsize=(12, 6))\n",
    "plt.plot(svi_result.losses[::100])\n",
    "plt.xlabel(\"Steps\")\n",
    "plt.ylabel(\"Loss\")\n",
    "plt.tight_layout()\n",
    "# plt.savefig(root / \"losses.png\")\n",
    "plt.show()"
   ]
  },
  {
   "cell_type": "markdown",
   "id": "29ca01fd-ad6c-4e82-91b6-03ba421ae9c2",
   "metadata": {},
   "source": [
    "### Posterior Prediction"
   ]
  },
  {
   "cell_type": "code",
   "execution_count": null,
   "id": "12f7360c-1650-4664-a6e2-d365384b92db",
   "metadata": {},
   "outputs": [],
   "source": [
    "svi_result.params"
   ]
  },
  {
   "cell_type": "code",
   "execution_count": null,
   "id": "e1577966-848d-4ad3-9412-40cccf5c1f0a",
   "metadata": {},
   "outputs": [],
   "source": [
    "%%time\n",
    "# Posterior prediction\n",
    "predictive = infer.Predictive(model, params=≈, num_samples=10)\n",
    "posterior_predictive = predictive(rng_key_posterior, None, *x.shape, future_steps=10)"
   ]
  },
  {
   "cell_type": "markdown",
   "id": "49918c01-67bf-45c8-ab82-c72d24864649",
   "metadata": {},
   "source": [
    "## Results"
   ]
  },
  {
   "cell_type": "code",
   "execution_count": null,
   "id": "73273d09-5a38-4057-ad34-e167bdcc3084",
   "metadata": {},
   "outputs": [],
   "source": [
    "len_train = x.shape[0]\n",
    "x_pred_trn = posterior_predictive[\"x\"][:, :len_train, 0]\n",
    "x_hpdi_trn = diagnostics.hpdi(x_pred_trn)[:, :, 0]\n",
    "x_pred_tst = posterior_predictive[\"x\"][:, len_train:, 0]\n",
    "x_hpdi_tst = diagnostics.hpdi(x_pred_tst)[:, :, 0]\n",
    "len_test = x_pred_tst.shape[1]"
   ]
  },
  {
   "cell_type": "code",
   "execution_count": null,
   "id": "feb53408-ae59-4139-94aa-c9c1e36bcae8",
   "metadata": {},
   "outputs": [],
   "source": [
    "prop_cycle = plt.rcParams[\"axes.prop_cycle\"]\n",
    "colors = prop_cycle.by_key()[\"color\"]\n",
    "\n",
    "plt.figure(figsize=(12, 6))\n",
    "plt.plot(x[:, 0].ravel(), label=\"ground truth\", color=colors[0])\n",
    "\n",
    "t_train = np.arange(len_train)\n",
    "plt.plot(t_train, x_pred_trn.mean(0).ravel(), label=\"prediction\", color=colors[1])\n",
    "plt.fill_between(\n",
    "    t_train, x_hpdi_trn[0].ravel(), x_hpdi_trn[1].ravel(), alpha=0.3, color=colors[1]\n",
    ")\n",
    "\n",
    "t_test = np.arange(len_train, len_train + len_test)\n",
    "plt.plot(t_test, x_pred_tst.mean(0).ravel(), label=\"forecast\", color=colors[2])\n",
    "plt.fill_between(\n",
    "    t_test, x_hpdi_tst[0].ravel(), x_hpdi_tst[1].ravel(), alpha=0.3, color=colors[2]\n",
    ")\n",
    "\n",
    "plt.legend()\n",
    "plt.tight_layout()\n",
    "# plt.savefig(root / \"kalman.png\")\n",
    "plt.show()"
   ]
  },
  {
   "cell_type": "code",
   "execution_count": null,
   "id": "4ad0dc7a-e3e1-4f2b-aa37-e1daa447b99d",
   "metadata": {},
   "outputs": [],
   "source": []
  }
 ],
 "metadata": {
  "kernelspec": {
   "display_name": "Python [conda env:miniconda3-jax_gf]",
   "language": "python",
   "name": "conda-env-miniconda3-jax_gf-py"
  },
  "language_info": {
   "codemirror_mode": {
    "name": "ipython",
    "version": 3
   },
   "file_extension": ".py",
   "mimetype": "text/x-python",
   "name": "python",
   "nbconvert_exporter": "python",
   "pygments_lexer": "ipython3",
   "version": "3.9.7"
  }
 },
 "nbformat": 4,
 "nbformat_minor": 5
}
