{
 "cells": [
  {
   "cell_type": "code",
   "execution_count": null,
   "id": "f3363288-6edc-4e11-9018-2025e391b46a",
   "metadata": {},
   "outputs": [],
   "source": [
    "import bayesnewton\n",
    "import objax\n",
    "from jax import vmap\n",
    "import numpy as np\n",
    "import matplotlib.pyplot as plt\n",
    "import time"
   ]
  },
  {
   "cell_type": "code",
   "execution_count": null,
   "id": "2252e2a8-8d40-416b-a311-3b1243dd5ef1",
   "metadata": {},
   "outputs": [],
   "source": [
    "def wiggly_time_series_1(x_):\n",
    "    return np.cos(0.04 * x_ + 0.33 * np.pi) * np.sin(0.2 * x_)\n",
    "\n",
    "\n",
    "def wiggly_time_series_2(x_):\n",
    "    # return np.cos(0.05*x_+0.4*np.pi) * np.sin(0.1*x_)\n",
    "    # return 2 * wiggly_time_series_1(x_)\n",
    "    return wiggly_time_series_1(x_)"
   ]
  },
  {
   "cell_type": "code",
   "execution_count": null,
   "id": "cbdf6c17-2f53-4dd2-a049-2b7ca63e0a64",
   "metadata": {},
   "outputs": [],
   "source": [
    "np.random.seed(123)\n",
    "N = 1000\n",
    "# x = np.linspace(-17, 147, num=N)\n",
    "x = np.concatenate([np.linspace(-17, 55, num=N), np.linspace(75, 147, num=N)], axis=0)\n",
    "f1 = wiggly_time_series_1(x)[:, None]\n",
    "f2 = wiggly_time_series_2(x)[:, None]\n",
    "f = np.concatenate([f1, f2], axis=1)[..., None]"
   ]
  },
  {
   "cell_type": "code",
   "execution_count": null,
   "id": "1cecf342-45e5-416d-80e8-e097606e6640",
   "metadata": {},
   "outputs": [],
   "source": []
  },
  {
   "cell_type": "code",
   "execution_count": null,
   "id": "164cace9-a67f-41ae-a26d-20346a0513f5",
   "metadata": {},
   "outputs": [],
   "source": [
    "noise_cov = np.array([[0.2, 0.1], [0.1, 0.3]])\n",
    "# noise_cov = np.array([[0.1, 0.05], [0.05, 0.2]])\n",
    "\n",
    "noise = (\n",
    "    np.linalg.cholesky(noise_cov)[None]\n",
    "    @ np.random.multivariate_normal(np.zeros(2), np.eye(2), f.shape[0])[..., None]\n",
    ")\n",
    "y = f + noise"
   ]
  },
  {
   "cell_type": "code",
   "execution_count": null,
   "id": "bf6775e4-f2d2-418e-a042-4fa0469f3d57",
   "metadata": {},
   "outputs": [],
   "source": [
    "y.shape, np.linalg.cholesky(noise_cov)[None].shape, f.shape, np.random.standard_t(\n",
    "    3.0, f.shape\n",
    ").shape"
   ]
  },
  {
   "cell_type": "code",
   "execution_count": null,
   "id": "040249ea-2101-4046-9d2d-792eef048873",
   "metadata": {},
   "outputs": [],
   "source": [
    "plt.figure(1)\n",
    "plt.plot(x, f1, \"b-\")\n",
    "plt.plot(x, f2, \"r-\")\n",
    "plt.plot(x, y[:, 0], \"b.\")\n",
    "plt.plot(x, y[:, 1], \"r.\")\n",
    "\n",
    "plt.figure(2)\n",
    "plt.plot(x, noise[:, 0], \"b\")\n",
    "plt.plot(x, noise[:, 1], \"r\")\n",
    "plt.show()"
   ]
  },
  {
   "cell_type": "code",
   "execution_count": null,
   "id": "1965c798-bae7-4ced-ba9f-59a491126bb5",
   "metadata": {},
   "outputs": [],
   "source": [
    "x_test = np.linspace(np.min(x) - 10.0, np.max(x) + 10.0, num=500)\n",
    "f1_test = wiggly_time_series_1(x_test)[:, None]\n",
    "f2_test = wiggly_time_series_2(x_test)[:, None]\n",
    "f_test = np.concatenate([f1_test, f2_test], axis=1)[..., None]\n",
    "noise_test = (\n",
    "    np.linalg.cholesky(noise_cov)[None]\n",
    "    @ np.random.multivariate_normal(np.zeros(2), np.eye(2), f_test.shape[0])[..., None]\n",
    ")\n",
    "y_test = f_test + noise_test\n",
    "x_plot = np.linspace(np.min(x) - 20.0, np.max(x) + 20.0, 500)\n",
    "f1_plot = wiggly_time_series_1(x_plot)\n",
    "f2_plot = wiggly_time_series_2(x_plot)"
   ]
  },
  {
   "cell_type": "code",
   "execution_count": null,
   "id": "a55194ea-785a-42c9-9479-55ac8c392fe1",
   "metadata": {},
   "outputs": [],
   "source": [
    "x.shape, y.shape, x_plot.shape, noise_cov.shape"
   ]
  },
  {
   "cell_type": "code",
   "execution_count": null,
   "id": "fa62eeaa-d70f-41be-af7e-4ab4fc25b88e",
   "metadata": {},
   "outputs": [],
   "source": []
  },
  {
   "cell_type": "code",
   "execution_count": null,
   "id": "d146f005-093f-4da0-8b25-3a3dd1d5a018",
   "metadata": {},
   "outputs": [],
   "source": [
    "var_f = 1.0  # GP variance\n",
    "len_f = 15.0  # GP lengthscale\n",
    "\n",
    "kern1 = bayesnewton.kernels.Matern52(variance=var_f, lengthscale=len_f)\n",
    "kern2 = bayesnewton.kernels.Matern52(variance=var_f, lengthscale=len_f)\n",
    "kern = bayesnewton.kernels.Independent(kernels=[kern1, kern2])\n",
    "lik = bayesnewton.likelihoods.GaussianMultivariate(covariance=noise_cov)\n",
    "\n",
    "# model = bayesnewton.models.MarkovNewtonGP(kernel=kern, likelihood=lik, X=x, Y=y)\n",
    "model = bayesnewton.models.MarkovVariationalGP(kernel=kern, likelihood=lik, X=x, Y=y)\n",
    "# model = bayesnewton.models.MarkovExpectationPropagationGP(kernel=kern, likelihood=lik, X=x, Y=y, power=0.5)\n",
    "# -- Gauss-Newton ---\n",
    "# model = bayesnewton.models.MarkovGaussNewtonGP(kernel=kern, likelihood=lik, X=x, Y=y)\n",
    "# model = bayesnewton.models.MarkovVariationalGaussNewtonGP(kernel=kern, likelihood=lik, X=x, Y=y)\n",
    "# -- quasi-Newton ---\n",
    "# model = bayesnewton.models.MarkovQuasiNewtonGP(kernel=kern, likelihood=lik, X=x, Y=y)\n",
    "# model = bayesnewton.models.MarkovVariationalQuasiNewtonGP(kernel=kern, likelihood=lik, X=x, Y=y)\n",
    "# model = bayesnewton.models.MarkovExpectationPropagationQuasiNewtonGP(kernel=kern, likelihood=lik, X=x, Y=y, power=0.5)\n",
    "# --- Riemannian grads ---\n",
    "# model = bayesnewton.models.MarkovVariationalRiemannGP(kernel=kern, likelihood=lik, X=x, Y=y)"
   ]
  },
  {
   "cell_type": "code",
   "execution_count": null,
   "id": "2a49c37e-1e2d-477a-9099-3370e3da9a86",
   "metadata": {},
   "outputs": [],
   "source": [
    "lr_adam = 0.1\n",
    "lr_newton = 1.0\n",
    "iters = 10\n",
    "opt_hypers = objax.optimizer.Adam(model.vars())\n",
    "energy = objax.GradValues(model.energy, model.vars())\n",
    "\n",
    "\n",
    "@objax.Function.with_vars(model.vars() + opt_hypers.vars())\n",
    "def train_op():\n",
    "    model.inference(lr=lr_newton)  # perform inference and update variational params\n",
    "    dE, E = energy()  # compute energy and its gradients w.r.t. hypers\n",
    "    # opt_hypers(lr_adam, dE)\n",
    "    return E\n",
    "\n",
    "\n",
    "train_op = objax.Jit(train_op)\n",
    "\n",
    "t0 = time.time()\n",
    "for i in range(1, iters + 1):\n",
    "    loss = train_op()\n",
    "    print(\"iter %2d, energy: %1.4f\" % (i, loss[0]))\n",
    "t1 = time.time()\n",
    "print(\"optimisation time: %2.2f secs\" % (t1 - t0))"
   ]
  },
  {
   "cell_type": "code",
   "execution_count": null,
   "id": "5e48b119-a732-4138-bb4d-c2a68de9479f",
   "metadata": {},
   "outputs": [],
   "source": [
    "t0 = time.time()\n",
    "posterior_mean, posterior_cov = model.predict_y(X=x_plot)\n",
    "nlpd = model.negative_log_predictive_density(X=x_test, Y=y_test)\n",
    "t1 = time.time()"
   ]
  },
  {
   "cell_type": "code",
   "execution_count": null,
   "id": "59f14551-4f69-428c-833d-c5bf9bb21c3f",
   "metadata": {},
   "outputs": [],
   "source": [
    "x_plot.shape, x_test.shape, y_test.shape"
   ]
  },
  {
   "cell_type": "code",
   "execution_count": null,
   "id": "a8aaba3e-d493-4ba1-9a53-c20f15de4398",
   "metadata": {},
   "outputs": [],
   "source": [
    "print(\"prediction time: %2.2f secs\" % (t1 - t0))\n",
    "print(\"nlpd: %2.3f\" % nlpd)\n",
    "posterior_var = bayesnewton.utils.diag(posterior_cov)\n",
    "lb = posterior_mean - 1.96 * posterior_var**0.5\n",
    "ub = posterior_mean + 1.96 * posterior_var**0.5"
   ]
  },
  {
   "cell_type": "code",
   "execution_count": null,
   "id": "79af0db3-d004-4114-a9ee-8edf049f924b",
   "metadata": {},
   "outputs": [],
   "source": [
    "print(\"plotting ...\")\n",
    "plt.figure(1, figsize=(12, 5))\n",
    "plt.clf()\n",
    "plt.plot(x, y[:, 0], \"b.\")\n",
    "plt.plot(x, y[:, 1], \"r.\")\n",
    "# plt.plot(x_test, y_test, 'r.', alpha=0.4, label='test observations')\n",
    "plt.plot(x_plot, posterior_mean[:, 0], \"b\")\n",
    "plt.plot(x_plot, posterior_mean[:, 1], \"r\")\n",
    "plt.plot(x_plot, f1_plot, \"b--\")\n",
    "plt.plot(x_plot, f2_plot, \"r--\")\n",
    "plt.fill_between(x_plot, lb[:, 0], ub[:, 0], color=\"b\", alpha=0.05)\n",
    "plt.fill_between(x_plot, lb[:, 1], ub[:, 1], color=\"r\", alpha=0.05)\n",
    "plt.xlim([x_plot[0], x_plot[-1]])\n",
    "plt.legend()\n",
    "plt.title(\"Multivariate GP regression\")\n",
    "plt.xlabel(\"$X$\")\n",
    "plt.show()"
   ]
  },
  {
   "cell_type": "code",
   "execution_count": null,
   "id": "f1a632f4-08d5-4cef-8c3b-7be76e3c8d39",
   "metadata": {},
   "outputs": [],
   "source": []
  }
 ],
 "metadata": {
  "kernelspec": {
   "display_name": "Python [conda env:miniconda3-eo_mgp]",
   "language": "python",
   "name": "conda-env-miniconda3-eo_mgp-py"
  },
  "language_info": {
   "codemirror_mode": {
    "name": "ipython",
    "version": 3
   },
   "file_extension": ".py",
   "mimetype": "text/x-python",
   "name": "python",
   "nbconvert_exporter": "python",
   "pygments_lexer": "ipython3",
   "version": "3.9.7"
  }
 },
 "nbformat": 4,
 "nbformat_minor": 5
}
