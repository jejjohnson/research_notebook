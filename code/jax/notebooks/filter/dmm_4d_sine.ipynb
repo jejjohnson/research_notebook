{
 "cells": [
  {
   "cell_type": "markdown",
   "id": "7282102d-4fe1-4fe5-856e-54e66ae43eb5",
   "metadata": {},
   "source": [
    "# Deep Kalman Filter "
   ]
  },
  {
   "cell_type": "code",
   "execution_count": null,
   "id": "7866b7cf-6bd5-440f-b913-9d8b2c6e64ed",
   "metadata": {},
   "outputs": [],
   "source": [
    "import treex as tx\n",
    "import jax\n",
    "import jax.numpy as jnp\n",
    "import matplotlib.pyplot as plt\n",
    "import numpy as np\n",
    "from sklearn.preprocessing import scale"
   ]
  },
  {
   "cell_type": "code",
   "execution_count": null,
   "id": "d2c756da-9a06-457f-8d38-9b46aae4f784",
   "metadata": {},
   "outputs": [],
   "source": [
    "jax.__version__"
   ]
  },
  {
   "cell_type": "markdown",
   "id": "7d2c2558-3519-4017-8395-cbcc9a9e71b7",
   "metadata": {},
   "source": [
    "## Data"
   ]
  },
  {
   "cell_type": "code",
   "execution_count": null,
   "id": "2e95e33a-5c0b-40a3-b496-6cfa46a2536d",
   "metadata": {},
   "outputs": [],
   "source": [
    "# import warnings\n",
    "# warnings.filterwarnings('ignore')\n",
    "\n",
    "T = 500  # sequence length\n",
    "observations = 2 * np.sin(np.linspace(0, 20 * np.pi, T))\n",
    "interventions = 2 * np.sin(np.linspace(0, 2 * np.pi, T))\n",
    "data = np.vstack(\n",
    "    [observations, observations * 1.2, interventions, interventions * 0.85]\n",
    ").T\n",
    "data += np.random.randn(*data.shape)\n",
    "# data[:, 2:] = preprocessing.minmax_scale(data[:, 2:])\n",
    "data = scale(data)\n",
    "\n",
    "data.shape"
   ]
  },
  {
   "cell_type": "code",
   "execution_count": null,
   "id": "3570cf25-3f09-4345-a1ca-6bd9df29aad7",
   "metadata": {},
   "outputs": [],
   "source": [
    "plt.figure(figsize=(10, 2))\n",
    "plt.plot(data)\n",
    "plt.xlabel(\"Time\")\n",
    "plt.ylabel(\"Value\")\n",
    "plt.show()"
   ]
  },
  {
   "cell_type": "markdown",
   "id": "057dce48-2970-468a-9d82-32d54df2d900",
   "metadata": {},
   "source": [
    "## Model"
   ]
  },
  {
   "cell_type": "code",
   "execution_count": null,
   "id": "937ca5be-3165-4613-a098-f383e03d7d58",
   "metadata": {},
   "outputs": [],
   "source": []
  },
  {
   "cell_type": "markdown",
   "id": "a369bb8c-c5b4-420f-9a0e-25aab01a2a8d",
   "metadata": {},
   "source": [
    "### Components"
   ]
  },
  {
   "cell_type": "markdown",
   "id": "fec4cb76-d81c-4f96-adaa-1aab07034b63",
   "metadata": {},
   "source": [
    "#### Transition Function"
   ]
  },
  {
   "cell_type": "code",
   "execution_count": null,
   "id": "e60fed0d-de56-4b23-bc4d-134efcbf8e9a",
   "metadata": {},
   "outputs": [],
   "source": [
    "class GatedTransition(tx.Module):\n",
    "    gate: tx.Module\n",
    "    prop_mean: tx.Module\n",
    "    mean_fn: tx.Module\n",
    "    logvar_fn: tx.Module\n",
    "\n",
    "    def __init__(self, latent_dim, hidden_dim) -> None:\n",
    "        self.latent_dim = latent_dim\n",
    "        self.hidden_dim = hidden_dim\n",
    "\n",
    "        self.gate = tx.Sequential(\n",
    "            tx.Linear(features_out=hidden_dim),\n",
    "            jax.nn.relu,\n",
    "            tx.Linear(features_out=latent_dim),\n",
    "        )\n",
    "        self.prop_mean = tx.Sequential(\n",
    "            tx.Linear(features_out=hidden_dim),\n",
    "            jax.nn.relu,\n",
    "            tx.Linear(features_out=latent_dim),\n",
    "        )\n",
    "        self.mean_fn = tx.Linear(\n",
    "            latent_dim,\n",
    "            kernel_init=tx.initializers.ones,\n",
    "            bias_init=tx.initializers.zeros,\n",
    "        )\n",
    "        self.logvar_fn = tx.Linear(latent_dim)\n",
    "\n",
    "    def __call__(self, inputs):\n",
    "\n",
    "        # if self.initializing():\n",
    "        #     self.mean_fn.kernel = jnp.eye(self.latent_dim)\n",
    "        #     self.mean_fn.bias = jnp.zeros(self.latent_dim)\n",
    "\n",
    "        # mean\n",
    "        mean = self.mean_fn(inputs)\n",
    "\n",
    "        # gated operation\n",
    "        gate = self.gate(inputs)\n",
    "        prop_mean = self.prop_mean(inputs)\n",
    "\n",
    "        mean = (1 - gate) * mean + gate * prop_mean\n",
    "\n",
    "        # log variance\n",
    "        logvar = self.logvar_fn(prop_mean)\n",
    "\n",
    "        return mean, logvar"
   ]
  },
  {
   "cell_type": "code",
   "execution_count": null,
   "id": "107146c1-e2fd-4d20-98cb-bb396183edd4",
   "metadata": {},
   "outputs": [],
   "source": [
    "data_sample = data[0][None, :]"
   ]
  },
  {
   "cell_type": "code",
   "execution_count": null,
   "id": "d142290a-5a1e-469a-ba4e-ff8c1fc74fd4",
   "metadata": {},
   "outputs": [],
   "source": [
    "hidden_dim = 20\n",
    "latent_dim = 20\n",
    "\n",
    "# init module\n",
    "gated_fn = GatedTransition(latent_dim, hidden_dim)\n",
    "\n",
    "# init params\n",
    "key = jax.random.PRNGKey(123)\n",
    "\n",
    "gated_fn = gated_fn.init(key=key, inputs=data_sample)\n",
    "\n",
    "# forward operation\n",
    "z_mu, z_logvar = gated_fn(data_sample)\n",
    "\n",
    "# check shapes\n",
    "assert z_mu.shape == data_sample.shape\n",
    "assert z_logvar.shape == data_sample.shape"
   ]
  },
  {
   "cell_type": "code",
   "execution_count": null,
   "id": "e0f1a022-d902-4a2c-bcb3-7ac342c96937",
   "metadata": {},
   "outputs": [],
   "source": [
    "z_mu.shape, z_logvar.shape, data_sample.shape"
   ]
  },
  {
   "cell_type": "markdown",
   "id": "4a21d73a-59a6-41d8-9f57-e66dcf276c3f",
   "metadata": {},
   "source": [
    "#### Emission"
   ]
  },
  {
   "cell_type": "code",
   "execution_count": null,
   "id": "c89fd610-7848-46d9-9b0e-e9f126e233e0",
   "metadata": {},
   "outputs": [],
   "source": [
    "class Emitter(tx.Module):\n",
    "    logvar: tx.Parameter()\n",
    "    mean_fn: tx.Module\n",
    "\n",
    "    def __init__(self, latent_dim, hidden_dim, input_dim):\n",
    "        self.latent_dim = latent_dim\n",
    "        self.hidden_dim = hidden_dim\n",
    "        self.input_dim = input_dim\n",
    "\n",
    "        self.mean_fn = tx.Sequential(\n",
    "            tx.Linear(hidden_dim),\n",
    "            jax.nn.relu,\n",
    "            tx.Linear(hidden_dim),\n",
    "            jax.nn.relu,\n",
    "            tx.Linear(input_dim),\n",
    "        )\n",
    "        self.logvar = jnp.ones(self.input_dim)\n",
    "\n",
    "    def __call__(self, inputs):\n",
    "\n",
    "        mean = self.mean_fn(inputs)\n",
    "\n",
    "        return mean, self.logvar"
   ]
  },
  {
   "cell_type": "code",
   "execution_count": null,
   "id": "cf1eff5a-e962-498c-8c42-af284093e853",
   "metadata": {},
   "outputs": [],
   "source": [
    "hidden_dim = 10\n",
    "latent_dim = 4\n",
    "input_dim = 4\n",
    "\n",
    "# init module\n",
    "emitt_fn = Emitter(latent_dim, hidden_dim, input_dim)\n",
    "\n",
    "# init params\n",
    "key = jax.random.PRNGKey(42)\n",
    "\n",
    "emitt_fn = emitt_fn.init(key=key, inputs=jnp.asarray(data))\n",
    "\n",
    "# forward operation\n",
    "x_mu, x_logvar = emitt_fn(data)\n",
    "\n",
    "# check shapes\n",
    "assert x_mu.shape == data.shape\n",
    "assert x_logvar.shape == data.shape[1:]"
   ]
  },
  {
   "cell_type": "markdown",
   "id": "814164af-b4b4-4844-a8d2-35bb4d65bda6",
   "metadata": {},
   "source": [
    "### Posterior"
   ]
  },
  {
   "cell_type": "markdown",
   "id": "a45e5848-cbbb-4d6a-adf9-0e33604fe20b",
   "metadata": {},
   "source": [
    "#### Combiner"
   ]
  },
  {
   "cell_type": "code",
   "execution_count": null,
   "id": "90599575-5df4-4a75-ac73-141b00e38748",
   "metadata": {},
   "outputs": [],
   "source": [
    "class Combiner(tx.Module):\n",
    "    hidden_fn: tx.Linear\n",
    "    hidden_to_mu: tx.Linear\n",
    "    hidden_to_logvar: tx.Linear\n",
    "\n",
    "    def __init__(self, latent_dim, hidden_dim):\n",
    "        super().__init__()\n",
    "\n",
    "        self.latent_dim = latent_dim\n",
    "        self.hidden_dim = hidden_dim\n",
    "        self.hidden_fn = tx.Linear(hidden_dim)\n",
    "        self.hidden_to_mu = tx.Linear(latent_dim)\n",
    "        self.hidden_to_logvar = tx.Linear(latent_dim)\n",
    "\n",
    "    def __call__(self, inputs, hidden_state=None):\n",
    "        # combine rnn hidden state with transformed version\n",
    "        h = 0.5 * jax.nn.tanh(self.hidden_fn(inputs))\n",
    "\n",
    "        if hidden_state is not None:\n",
    "            h += 0.5 * hidden_state\n",
    "\n",
    "        mean = self.hidden_to_mu(h)\n",
    "        logvar = self.hidden_to_logvar(h)\n",
    "\n",
    "        return mean, logvar"
   ]
  },
  {
   "cell_type": "code",
   "execution_count": null,
   "id": "f570da8a-431b-4372-b75e-1ca363018bbe",
   "metadata": {},
   "outputs": [],
   "source": [
    "data.shape[0]"
   ]
  },
  {
   "cell_type": "code",
   "execution_count": null,
   "id": "026e9c73-1738-42d3-bd84-1b6a6c2a9def",
   "metadata": {},
   "outputs": [],
   "source": [
    "rnn_hidden_dim = 10\n",
    "latent_dim = 4\n",
    "input_dim = 4\n",
    "\n",
    "# init module\n",
    "combiner_fn = Combiner(latent_dim, rnn_hidden_dim)\n",
    "\n",
    "# init params\n",
    "key = jax.random.PRNGKey(42)\n",
    "hidden_state_init = jnp.ones((1, rnn_hidden_dim))\n",
    "combiner_fn = combiner_fn.init(key=key, inputs=jnp.asarray(data))\n",
    "\n",
    "# forward operation\n",
    "\n",
    "x_mu, x_logvar = combiner_fn(data, rnn_hidden_dim)\n",
    "\n",
    "# check shapes\n",
    "assert x_mu.shape == data.shape\n",
    "assert x_logvar.shape == data.shape"
   ]
  },
  {
   "cell_type": "markdown",
   "id": "43dd7788-543c-4c64-b846-4ff42d173c0a",
   "metadata": {},
   "source": [
    "#### RNN"
   ]
  },
  {
   "cell_type": "code",
   "execution_count": null,
   "id": "eeb9bb72-8847-4618-b07c-97fb073e45a1",
   "metadata": {},
   "outputs": [],
   "source": [
    "key = tx.Key(8)\n",
    "hidden_dim = 5\n",
    "features = 10\n",
    "batch_size = 32\n",
    "time = 10\n",
    "return_state = True\n",
    "return_sequences = True\n",
    "\n",
    "gru = recurrent.GRU(\n",
    "    hidden_dim,\n",
    "    time_axis=1,\n",
    "    return_state=return_state,\n",
    "    return_sequences=return_sequences,\n",
    ")\n",
    "\n",
    "# init layer\n",
    "x_init = jnp.ones((1, 1, features))\n",
    "hidden_init = jnp.zeros((1, hidden_dim))\n",
    "gru = gru.init(key, (x_init, hidden_init))\n",
    "\n",
    "# forward\n",
    "x_demo = jnp.ones((batch_size, time, features))\n",
    "hidden_demo = jnp.zeros((batch_size, hidden_dim))\n",
    "\n",
    "rnn_out, h_n = gru(x_demo, hidden_demo)"
   ]
  },
  {
   "cell_type": "code",
   "execution_count": null,
   "id": "7b64e54f-438a-4757-a05a-06190e189ad2",
   "metadata": {},
   "outputs": [],
   "source": [
    "rnn_out.shape, h_n.shape"
   ]
  },
  {
   "cell_type": "code",
   "execution_count": null,
   "id": "74a7c2ac-9245-4fa9-b743-f447f52c3e7c",
   "metadata": {},
   "outputs": [],
   "source": [
    "rnn_hidden_dim = 5\n",
    "hidden_state_init = jnp.zeros((1, rnn_hidden_dim))\n",
    "rnn_module = tx.nn.recurrent.GRU(\n",
    "    units=rnn_hidden_dim, return_sequences=True, return_state=False, time_axis=1\n",
    ")\n",
    "rnn_module = rnn_module.init(key, data[None, :])"
   ]
  },
  {
   "cell_type": "code",
   "execution_count": null,
   "id": "e63fd565-f8d8-4bdd-b2bf-ada902690500",
   "metadata": {},
   "outputs": [],
   "source": [
    "outputs = rnn_module(data[None, :])\n",
    "outputs.shape"
   ]
  },
  {
   "cell_type": "code",
   "execution_count": null,
   "id": "913f70c7-1a87-495c-bdf8-87c40885f975",
   "metadata": {},
   "outputs": [],
   "source": [
    "hidden_state = jnp.zeros((1, rnn_hidden_dim))\n",
    "outputs = rnn_module(data[None, :], hidden_state)\n",
    "outputs.shape"
   ]
  },
  {
   "cell_type": "code",
   "execution_count": null,
   "id": "b0c15bab-027c-4d65-b055-ea65b1ebb676",
   "metadata": {},
   "outputs": [],
   "source": [
    "rnn_hidden_dim = 5\n",
    "hidden_state_init = jnp.zeros((1, rnn_hidden_dim))\n",
    "rnn_module = tx.nn.recurrent.GRU(\n",
    "    units=rnn_hidden_dim, return_sequences=True, return_state=False, time_axis=1\n",
    ")\n",
    "rnn_module = rnn_module.init(key, (data[None, :], hidden_state_init))"
   ]
  },
  {
   "cell_type": "code",
   "execution_count": null,
   "id": "058645c5-73c8-4d2e-9386-7110d50f5989",
   "metadata": {},
   "outputs": [],
   "source": [
    "data[None, :].shape"
   ]
  },
  {
   "cell_type": "code",
   "execution_count": null,
   "id": "ae811607-8b26-4aa6-ad2b-3456e788662e",
   "metadata": {},
   "outputs": [],
   "source": [
    "rnn_out = rnn_module(data[None, :], hidden_state_init)"
   ]
  },
  {
   "cell_type": "code",
   "execution_count": null,
   "id": "56133fb6-c783-4ea9-bf93-c148d44da890",
   "metadata": {},
   "outputs": [],
   "source": [
    "carry.shape"
   ]
  },
  {
   "cell_type": "code",
   "execution_count": null,
   "id": "59220163-76f6-4948-93af-992187831397",
   "metadata": {},
   "outputs": [],
   "source": [
    "carry.shape, hidden_state_init.shape"
   ]
  },
  {
   "cell_type": "code",
   "execution_count": null,
   "id": "997d37be-41bb-4357-9213-cb56fa6dafeb",
   "metadata": {},
   "outputs": [],
   "source": [
    "class RNN(tx.Module):\n",
    "    h_init: tx.Parameter.node()\n",
    "\n",
    "    def __init__(self, latent_dim: int = 100):\n",
    "        self.latent_dim = latent_dim\n",
    "        self.rnn = tx.nn.recurrent.GRU(\n",
    "            units=rnn_hidden_dim, return_sequences=True, return_state=False, time_axis=1\n",
    "        )\n",
    "        self.h_init = jnp.zeros((rnn_hidden_dim))\n",
    "\n",
    "    def __call__(self, inputs):\n",
    "\n",
    "        n_batch = inputs.shape[0]\n",
    "\n",
    "        if self.initializing():\n",
    "\n",
    "            h_init = repeat(self.h_init, \"... -> batch ...\", batch=n_batch)\n",
    "            self.rnn = self.rnn.init(key, (inputs, h_init))\n",
    "\n",
    "        hidden_state = repeat(self.h_init, \"... -> batch ...\", batch=n_batch)\n",
    "        outputs = self.rnn(inputs, hidden_state)\n",
    "        return outputs"
   ]
  },
  {
   "cell_type": "code",
   "execution_count": null,
   "id": "aedd2dfb-ebe0-45fc-973a-a563f9bcd361",
   "metadata": {},
   "outputs": [],
   "source": [
    "rnn_hidden_dim = 100\n",
    "\n",
    "# init module\n",
    "rnn_fn = RNN(latent_dim=rnn_hidden_dim)\n",
    "\n",
    "# init params\n",
    "data_all = data[None, ...]\n",
    "\n",
    "rnn_fn = rnn_fn.init(key=123, inputs=data_all)\n",
    "\n",
    "# # forward operation\n",
    "\n",
    "x_mu, x_logvar = rnn_fn(data_all)\n",
    "\n",
    "# # check shapes\n",
    "# assert x_mu.shape == data.shape\n",
    "# assert x_logvar.shape == data.shape"
   ]
  },
  {
   "cell_type": "code",
   "execution_count": null,
   "id": "0c013140-1091-4111-bdbe-748555f8a1df",
   "metadata": {},
   "outputs": [],
   "source": [
    "x_mu.shape, x_logvar.shape"
   ]
  },
  {
   "cell_type": "markdown",
   "id": "638697e1-87b4-44cd-a4ee-54f727d13c98",
   "metadata": {},
   "source": [
    "### Model"
   ]
  },
  {
   "cell_type": "code",
   "execution_count": null,
   "id": "a61b7e6b-2708-4311-9bd8-1ac661c879ab",
   "metadata": {},
   "outputs": [],
   "source": [
    "import flax\n",
    "from flax import linen\n",
    "from treex.nn import recurrent\n",
    "from einops import repeat, rearrange\n",
    "\n",
    "from treex.module import next_key"
   ]
  },
  {
   "cell_type": "code",
   "execution_count": null,
   "id": "2ef7b437-e01d-44c4-83b7-92c8a71a8951",
   "metadata": {},
   "outputs": [],
   "source": [
    "def kl_div(mu, logvar, mu_prior, logvar_prior):\n",
    "    loss = (\n",
    "        logvar_prior\n",
    "        - logvar\n",
    "        + jnp.exp(logvar)\n",
    "        + jnp.power(mu - mu_prior, 2) / jnp.exp(logvar_prior)\n",
    "        - 1.0\n",
    "    )\n",
    "    return jnp.sum(0.5 * loss, axis=1)"
   ]
  },
  {
   "cell_type": "code",
   "execution_count": null,
   "id": "5879e93a-6c59-4203-a041-ac3dbaa160d5",
   "metadata": {},
   "outputs": [],
   "source": [
    "class DeepKalmanFilter(tx.Module):\n",
    "    transition: tx.Module\n",
    "    emission: tx.Module\n",
    "    combiner: tx.Module\n",
    "    h_0: tx.Parameter.node()\n",
    "    z_0: tx.Parameter.node()\n",
    "    z_q0: tx.Parameter.node()\n",
    "    kl_loss: jnp.ndarray = tx.LossLog.node()\n",
    "\n",
    "    def __init__(\n",
    "        self,\n",
    "        transition,\n",
    "        emission,\n",
    "        combiner,\n",
    "    ):\n",
    "        self.transition = transition\n",
    "        self.emission = emission\n",
    "        self.combiner = combiner\n",
    "        self.rnn = tx.nn.recurrent.GRU(units=rnn_hidden_dim, return_sequences=True)\n",
    "        self.h_0 = jnp.zeros((self.combiner.hidden_dim,))\n",
    "        self.z_0 = jnp.zeros((transition.latent_dim))\n",
    "        self.z_q0 = jnp.zeros((transition.latent_dim))\n",
    "        self.next_key = tx.KeySeq()\n",
    "\n",
    "    def __call__(self, x, hidden_state=None):\n",
    "\n",
    "        if self.initializing():\n",
    "            h_0 = repeat(self.h_0, \"... -> batch ...\", batch=x.shape[0])\n",
    "            self.rnn = self.rnn.init(self.next_key(), inputs=(x, h_0))\n",
    "\n",
    "        return x\n",
    "\n",
    "    def infer(self, x):\n",
    "\n",
    "        n_batch, n_time, n_dim = x.shape\n",
    "\n",
    "        # initialize hidden_dim\n",
    "        h_0 = repeat(self.h_0, \"... -> batch ...\", batch=n_batch)\n",
    "        print(\"hidden state:\", h_0.shape)\n",
    "        rnn_out = self.rnn(x, h_0)\n",
    "        print(\"rnn:\", rnn_out.shape)\n",
    "\n",
    "        # init state\n",
    "        z_prev = repeat(self.z_q0, \"... -> batch ...\", batch=n_batch)\n",
    "        print(\"z0:\", z_prev.shape)\n",
    "        x = rearrange(x, \"B T D -> T B D\")\n",
    "        rnn_out = rearrange(rnn_out, \"B T D -> T B D\")\n",
    "\n",
    "        kl_losses = []\n",
    "        mse_losses = []\n",
    "\n",
    "        for t, (x_obs, rnn_t) in enumerate(zip(x, rnn_out)):\n",
    "\n",
    "            # transition probabilitiy p(z_t|z_t-1)\n",
    "            z_prior_mu, z_prior_logvar = self.transition(z_prev)\n",
    "\n",
    "            # sample\n",
    "            key = self.next_key()\n",
    "            z_prior = z_prior_mu + z_prior_logvar * jax.random.normal(\n",
    "                key, z_prior_mu.shape\n",
    "            )\n",
    "            print(\"z_prior:\", z_prior.shape)\n",
    "\n",
    "            # # Combiner\n",
    "            print(\"z_prev:\", z_prev.shape)\n",
    "            print(\"rnn_t:\", rnn_t.shape)\n",
    "            z_mu, z_logvar = self.combiner(z_prev, rnn_t)\n",
    "\n",
    "            key = self.next_key()\n",
    "            z_t = z_mu + z_logvar * jax.random.normal(key, z_mu.shape)\n",
    "\n",
    "            # emission probability\n",
    "            x_mu, x_logvar = self.emission(z_prev)\n",
    "\n",
    "            # sample\n",
    "            key = self.next_key()\n",
    "            x = x_mu + x_logvar * jax.random.normal(key, x_mu.shape)\n",
    "            print(\"x:\", x.shape)\n",
    "\n",
    "            # COMPUTE LOSSES\n",
    "\n",
    "            # KLD Loss\n",
    "            kl_losses.append(kl_div(z_mu, z_logvar, z_prior_mu, z_prior_logvar))\n",
    "\n",
    "            # Reconstruction Loss\n",
    "            nll_loss = dist.MultivariateNormal().log_prob()\n",
    "\n",
    "            z_prev = z_t\n",
    "\n",
    "            break\n",
    "\n",
    "        self.kl_loss = kl_losses\n",
    "\n",
    "        return None\n",
    "\n",
    "    def filter(self, x):\n",
    "        return None\n",
    "\n",
    "    def predict(self, x):\n",
    "        return None"
   ]
  },
  {
   "cell_type": "code",
   "execution_count": null,
   "id": "13ad5756-6f25-49e5-8a58-36e3aec6fc8c",
   "metadata": {},
   "outputs": [],
   "source": [
    "# TRANSITION FUNCTION\n",
    "hidden_dim = 30\n",
    "latent_dim = 20\n",
    "\n",
    "# init module\n",
    "latent_sample = jnp.zeros((1, latent_dim))\n",
    "gated_fn = GatedTransition(latent_dim, hidden_dim).init(123, latent_sample)\n",
    "\n",
    "# EMISSION FUNCTION\n",
    "hidden_dim = 20\n",
    "input_dim = 4\n",
    "\n",
    "# init module\n",
    "emitt_fn = Emitter(latent_dim, hidden_dim, input_dim).init(123, latent_sample)\n",
    "\n",
    "# COMBINER FUNCTION\n",
    "rnn_hidden_dim = 100\n",
    "\n",
    "# init module\n",
    "latent_seq_sample = latent_sample[None, :]\n",
    "combiner_fn = Combiner(latent_dim, rnn_hidden_dim).init(123, latent_seq_sample)\n",
    "\n",
    "\n",
    "data_seq_sample = data[None, ...]\n",
    "dkf_model = DeepKalmanFilter(\n",
    "    transition=gated_fn, emission=emitt_fn, combiner=combiner_fn\n",
    ")\n",
    "dkf_model = dkf_model.init(key=42, inputs=jnp.asarray(data_seq_sample))"
   ]
  },
  {
   "cell_type": "code",
   "execution_count": null,
   "id": "5a9a100c-5cff-49b4-aa18-1ff6e88cd4f7",
   "metadata": {},
   "outputs": [],
   "source": [
    "# combiner_fn."
   ]
  },
  {
   "cell_type": "code",
   "execution_count": null,
   "id": "b14438a4-ef6f-4aab-a183-74ffd946ab47",
   "metadata": {},
   "outputs": [],
   "source": [
    "# dkf_model"
   ]
  },
  {
   "cell_type": "code",
   "execution_count": null,
   "id": "84785247-10bc-4e47-822b-3151dece08d4",
   "metadata": {},
   "outputs": [],
   "source": [
    "output = dkf_model.infer(data[None, :])"
   ]
  },
  {
   "cell_type": "code",
   "execution_count": null,
   "id": "694aa397-b50c-49d9-904d-c1037720cda8",
   "metadata": {},
   "outputs": [],
   "source": [
    "dkf_model"
   ]
  },
  {
   "cell_type": "code",
   "execution_count": null,
   "id": "50b91982-0925-436b-87f3-f350efe61e05",
   "metadata": {},
   "outputs": [],
   "source": []
  },
  {
   "cell_type": "code",
   "execution_count": null,
   "id": "a0d2641a-5486-442e-9681-6a40c52325b6",
   "metadata": {},
   "outputs": [],
   "source": []
  }
 ],
 "metadata": {
  "kernelspec": {
   "display_name": "Python [conda env:miniconda3-4dvarjax]",
   "language": "python",
   "name": "conda-env-miniconda3-4dvarjax-py"
  },
  "language_info": {
   "codemirror_mode": {
    "name": "ipython",
    "version": 3
   },
   "file_extension": ".py",
   "mimetype": "text/x-python",
   "name": "python",
   "nbconvert_exporter": "python",
   "pygments_lexer": "ipython3",
   "version": "3.9.9"
  }
 },
 "nbformat": 4,
 "nbformat_minor": 5
}
