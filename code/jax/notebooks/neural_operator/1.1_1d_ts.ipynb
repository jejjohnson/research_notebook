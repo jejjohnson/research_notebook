{
 "cells": [
  {
   "cell_type": "markdown",
   "metadata": {},
   "source": [
    "# Neural Operators: Part I\n",
    "\n",
    "In this example, we are looking at functional data to see what kinds of things we can model. Some components we will cover are:\n",
    "\n",
    "* Interpolation\n",
    "* Forecasting\n",
    "* Mapping"
   ]
  },
  {
   "cell_type": "code",
   "execution_count": null,
   "metadata": {},
   "outputs": [],
   "source": [
    "import sys, os\n",
    "from pyprojroot import here\n",
    "\n",
    "\n",
    "# spyder up to find the roo\n",
    "\n",
    "root = here(project_files=[\".local\"])\n",
    "# append to path\n",
    "sys.path.append(str(root))\n",
    "\n",
    "%load_ext autoreload\n",
    "%autoreload 2"
   ]
  },
  {
   "cell_type": "code",
   "execution_count": null,
   "metadata": {},
   "outputs": [],
   "source": [
    "import jax\n",
    "import jax.numpy as jnp\n",
    "import jax.random as jrandom\n",
    "\n",
    "import matplotlib.pyplot as plt\n",
    "import seaborn as sns\n",
    "\n",
    "sns.set_context(context=\"poster\", font_scale=0.8)\n",
    "\n",
    "%matplotlib inline"
   ]
  },
  {
   "cell_type": "markdown",
   "metadata": {},
   "source": [
    "Let's assume we have a function $s:\\mathbb{R}^t\\rightarrow \\mathbb{R}$ which maps some scaler value for time, $t$, to some scalar value. A more concrete example is temperature. The \"real\" function is a continuous representation of temperature.\n",
    "\n",
    "As a simple example, let's define the function as:\n",
    "\n",
    "$$\n",
    "s(t):=\\sin(\\pi t)\n",
    "$$\n",
    "\n",
    "We can define a time vector, $\\boldsymbol{t}\\in\\mathbb{R}^{D_t}$, as a set of discrete time inputs that range from $-\\pi/2$ to $\\pi/2$."
   ]
  },
  {
   "cell_type": "code",
   "execution_count": null,
   "metadata": {},
   "outputs": [],
   "source": [
    "# define the function\n",
    "s_fn = lambda t: jnp.sin(jnp.pi * t)\n",
    "\n",
    "# define the time vector\n",
    "t_vector = jnp.linspace(-jnp.pi / 2.0, jnp.pi / 2.0, 100)\n",
    "\n",
    "# get s vector.\n",
    "s_vector = jax.vmap(s_fn)(t_vector)"
   ]
  },
  {
   "cell_type": "markdown",
   "metadata": {},
   "source": [
    "Let's do a demo plot of this."
   ]
  },
  {
   "cell_type": "code",
   "execution_count": null,
   "metadata": {},
   "outputs": [],
   "source": [
    "# demo plot of function\n",
    "fig, ax = plt.subplots(figsize=(8, 5))\n",
    "ax.plot(t_vector, s_vector, color=\"red\", label=\"True Temperatures\", zorder=1)\n",
    "ax.set(xlabel=\"$t$\", ylabel=\"$s(t)$\")\n",
    "\n",
    "plt.tight_layout()\n",
    "plt.legend(fontsize=14)\n",
    "plt.show()"
   ]
  },
  {
   "cell_type": "markdown",
   "metadata": {},
   "source": [
    "## Discrete Observations\n",
    "\n",
    "In actuality, this plot shows a nice continuous curve but life doesn't really work like that. We typically measure some discrete signals which represent the continuous form of the true function. So in this case, let's plot some 10 temperature values."
   ]
  },
  {
   "cell_type": "code",
   "execution_count": null,
   "metadata": {},
   "outputs": [],
   "source": [
    "num_obs = 25\n",
    "num_query = 15\n",
    "\n",
    "t_data, s_data = {}, {}\n",
    "\n",
    "t_data[\"obs\"] = jnp.linspace(-0.95 * jnp.pi / 2.0, 0.95 * jnp.pi / 2.0, num_obs)\n",
    "t_data[\"query\"] = jnp.linspace(-0.95 * jnp.pi / 2.0, 0.95 * jnp.pi / 2.0, num_query)\n",
    "\n",
    "# get s vector.\n",
    "s_data[\"obs\"] = jax.vmap(s_fn)(t_data[\"obs\"])\n",
    "s_data[\"query\"] = jax.vmap(s_fn)(t_data[\"query\"])"
   ]
  },
  {
   "cell_type": "code",
   "execution_count": null,
   "metadata": {},
   "outputs": [],
   "source": [
    "# demo plot of function\n",
    "fig, ax = plt.subplots(figsize=(8, 5))\n",
    "ax.plot(t_vector, s_vector, color=\"red\", label=\"Continuous Signal\", zorder=1)\n",
    "# ax.stem(t_obs, s_obs, label=\"Discrete Signal\", linefmt=\"black\", markerfmt=\".k\", basefmt=\"black\")\n",
    "ax.stem(\n",
    "    t_data[\"query\"],\n",
    "    s_data[\"query\"],\n",
    "    label=\"Query Signal\",\n",
    "    linefmt=\"c\",\n",
    "    markerfmt=\".c\",\n",
    "    basefmt=\"c\",\n",
    ")\n",
    "\n",
    "ax.set(xlabel=\"$t$\", ylabel=\"$s(t)$\")\n",
    "\n",
    "plt.tight_layout()\n",
    "plt.legend(fontsize=14)\n",
    "plt.show()"
   ]
  },
  {
   "cell_type": "markdown",
   "metadata": {},
   "source": [
    "We immediately see that the \"true\" signal we measure actually is discrete but we can say that it lives on a continuous domain. In other words, if we are given a vector of temperature observations, $\\boldsymbol{s}\\in\\mathbb{R}^{D_t}$, it is actually a functional dataset where the temperature value corresponds to a point in time.\n",
    "\n",
    "A more concise way to write this is to say that the time component, $t$, lives in a continuous space $\\mathcal{A}$ and the temperature values also live in a continuous space, $\\mathcal{B}$. However, there exists a space which contains a map from space $\\mathcal{A}$ to space $\\mathcal{B}$. We can write this as:\n",
    "\n",
    "$$\n",
    "\\boldsymbol{C}(\\mathcal{A},\\mathcal{B})\n",
    "$$"
   ]
  },
  {
   "cell_type": "markdown",
   "metadata": {},
   "source": [
    "So, in our case, we can say that we don't really observe temperature in a vacuum. What we really observe, is the mapping of the space of time, $\\mathcal{T}$, to the space of temperature through the function, $\\mathcal{S}$.\n",
    "\n",
    "$$\n",
    "C(\\mathcal{T},\\mathcal{S})\n",
    "$$\n",
    "\n",
    "where $t\\in\\mathcal{T}$ and $s\\in\\mathcal{S}$. So in practical terms, we have temperature and we also have some meta-data attached to it which is time."
   ]
  },
  {
   "cell_type": "markdown",
   "metadata": {},
   "source": [
    "## Real World Data\n",
    "\n",
    "So in the real world, the temperature values that we observe are never \"completely\" continuous. It would be very expensive to capture and record all of this information. Instead we interact with the world by getting observations in the form of signals. We will discuss 3 key aspects that can cause serious problems with real world data:\n",
    "\n",
    "* [ ] Representation - Discrete, Continuous, Precision\n",
    "* [x] Discretization - Coarse, Fine, Adaptive\n",
    "* [x] Sparsity, Irregularity - Interpolation, Graphs\n",
    "* [x] Noise - Filtering, Smoothing, Modeling"
   ]
  },
  {
   "cell_type": "markdown",
   "metadata": {},
   "source": [
    "### Discretized Signals\n",
    "\n",
    "Because we have There is an adequate amount of discretization that is sufficient to capture the essence of the signal. A discretization that is too low will miss some high frequency signals. A discretization that is too high will be wasteful for computation and storage because there is redundant information. \n",
    "\n",
    "Note: the proper term for this is the Nyquist frequency which basically describes the correct amount of discretization necessary to capture all of the frequencies embedded within this signal.\n",
    "\n",
    "Here, we have an example of how we can create some fake data using different discretizations."
   ]
  },
  {
   "cell_type": "code",
   "execution_count": null,
   "metadata": {},
   "outputs": [],
   "source": [
    "t_discrete, s_discrete = {}, {}\n",
    "\n",
    "t_discrete[\"sparse\"] = jnp.linspace(-0.95 * jnp.pi / 2.0, 0.95 * jnp.pi / 2.0, 5)\n",
    "t_discrete[\"medium\"] = jnp.linspace(-0.95 * jnp.pi / 2.0, 0.95 * jnp.pi / 2.0, 25)\n",
    "t_discrete[\"dense\"] = jnp.linspace(-0.95 * jnp.pi / 2.0, 0.95 * jnp.pi / 2.0, 100)\n",
    "\n",
    "# get s vector.\n",
    "s_discrete[\"sparse\"] = jax.vmap(s_fn)(t_discrete[\"sparse\"])\n",
    "s_discrete[\"medium\"] = jax.vmap(s_fn)(t_discrete[\"medium\"])\n",
    "s_discrete[\"dense\"] = jax.vmap(s_fn)(t_discrete[\"dense\"])"
   ]
  },
  {
   "cell_type": "markdown",
   "metadata": {},
   "source": [
    "When we plot it, we see that we can intuitively see which of these discretizations is adequate enough given the true continuous signal."
   ]
  },
  {
   "cell_type": "code",
   "execution_count": null,
   "metadata": {},
   "outputs": [],
   "source": [
    "for (iname, i_time), (iname, i_s) in zip(t_discrete.items(), s_discrete.items()):\n",
    "    # demo plot of function\n",
    "    fig, ax = plt.subplots(figsize=(8, 5))\n",
    "    ax.plot(t_vector, s_vector, color=\"red\", label=\"Continuous Signal\", zorder=1)\n",
    "    ax.stem(\n",
    "        i_time,\n",
    "        i_s,\n",
    "        label=\"Discrete Signal\",\n",
    "        linefmt=\"black\",\n",
    "        markerfmt=\".k\",\n",
    "        basefmt=\"black\",\n",
    "    )\n",
    "\n",
    "    ax.set(xlabel=\"$t$\", ylabel=\"$s(t)$\")\n",
    "\n",
    "    plt.tight_layout()\n",
    "    plt.legend(fontsize=14)\n",
    "    plt.show()"
   ]
  },
  {
   "cell_type": "code",
   "execution_count": null,
   "metadata": {},
   "outputs": [],
   "source": []
  },
  {
   "cell_type": "markdown",
   "metadata": {},
   "source": [
    "### Sparse, Irregular Sampling"
   ]
  },
  {
   "cell_type": "code",
   "execution_count": null,
   "metadata": {},
   "outputs": [],
   "source": [
    "t_irregular, s_irregular = {}, {}\n",
    "\n",
    "keys = jrandom.PRNGKey(123)\n",
    "\n",
    "keys, *uniform = jrandom.split(keys, 4)\n",
    "\n",
    "t_irregular[\"sparse\"] = jrandom.uniform(\n",
    "    key=uniform[0], shape=(10,), minval=-0.95 * jnp.pi / 2.0, maxval=0.95 * jnp.pi / 2.0\n",
    ")\n",
    "t_irregular[\"medium\"] = jrandom.uniform(\n",
    "    key=uniform[1], shape=(25,), minval=-0.95 * jnp.pi / 2.0, maxval=0.95 * jnp.pi / 2.0\n",
    ")\n",
    "t_irregular[\"dense\"] = jrandom.uniform(\n",
    "    key=uniform[2],\n",
    "    shape=(100,),\n",
    "    minval=-0.95 * jnp.pi / 2.0,\n",
    "    maxval=0.95 * jnp.pi / 2.0,\n",
    ")\n",
    "\n",
    "# get s vector.\n",
    "s_irregular[\"sparse\"] = jax.vmap(s_fn)(t_irregular[\"sparse\"])\n",
    "s_irregular[\"medium\"] = jax.vmap(s_fn)(t_irregular[\"medium\"])\n",
    "s_irregular[\"dense\"] = jax.vmap(s_fn)(t_irregular[\"dense\"])"
   ]
  },
  {
   "cell_type": "code",
   "execution_count": null,
   "metadata": {},
   "outputs": [],
   "source": [
    "for (iname, i_time), (iname, i_s) in zip(t_irregular.items(), s_irregular.items()):\n",
    "    # demo plot of function\n",
    "    fig, ax = plt.subplots(figsize=(8, 5))\n",
    "    ax.plot(t_vector, s_vector, color=\"red\", label=\"Continuous Signal\", zorder=1)\n",
    "    ax.stem(\n",
    "        i_time,\n",
    "        i_s,\n",
    "        label=\"Irregular Signal\",\n",
    "        linefmt=\"black\",\n",
    "        markerfmt=\".k\",\n",
    "        basefmt=\"black\",\n",
    "    )\n",
    "\n",
    "    ax.set(xlabel=\"$t$\", ylabel=\"$s(t)$\")\n",
    "\n",
    "    plt.tight_layout()\n",
    "    plt.legend(fontsize=14)\n",
    "    plt.show()"
   ]
  },
  {
   "cell_type": "markdown",
   "metadata": {},
   "source": [
    "### Noisy Signal"
   ]
  },
  {
   "cell_type": "code",
   "execution_count": null,
   "metadata": {},
   "outputs": [],
   "source": [
    "t_noisy, s_noisy = {}, {}\n",
    "\n",
    "\n",
    "keys, *normal = jrandom.split(keys, 4)\n",
    "\n",
    "t_noisy[\"sparse\"] = jnp.linspace(-0.95 * jnp.pi / 2.0, 0.95 * jnp.pi / 2.0, 25)\n",
    "t_noisy[\"medium\"] = jnp.linspace(-0.95 * jnp.pi / 2.0, 0.95 * jnp.pi / 2.0, 25)\n",
    "t_noisy[\"dense\"] = jnp.linspace(-0.95 * jnp.pi / 2.0, 0.95 * jnp.pi / 2.0, 25)\n",
    "\n",
    "\n",
    "# get s vector.\n",
    "s_noisy[\"sparse\"] = jax.vmap(s_fn)(t_noisy[\"sparse\"])\n",
    "s_noisy[\"medium\"] = jax.vmap(s_fn)(t_noisy[\"medium\"])\n",
    "s_noisy[\"dense\"] = jax.vmap(s_fn)(t_noisy[\"dense\"])\n",
    "\n",
    "s_noisy[\"sparse\"] += 0.01 * jrandom.normal(key=normal[0], shape=(25,))\n",
    "s_noisy[\"medium\"] += 0.1 * jrandom.normal(key=normal[1], shape=(25,))\n",
    "s_noisy[\"dense\"] += 0.5 * jrandom.normal(key=normal[2], shape=(25,))"
   ]
  },
  {
   "cell_type": "code",
   "execution_count": null,
   "metadata": {},
   "outputs": [],
   "source": [
    "for (iname, i_time), (iname, i_s) in zip(t_noisy.items(), s_noisy.items()):\n",
    "    # demo plot of function\n",
    "    fig, ax = plt.subplots(figsize=(8, 5))\n",
    "    ax.plot(t_vector, s_vector, color=\"red\", label=\"Continuous Signal\", zorder=1)\n",
    "    ax.scatter(i_time, i_s, label=\"Noisy Observations\", zorder=2, color=\"black\")\n",
    "\n",
    "    ax.set(xlabel=\"$t$\", ylabel=\"$s(t)$\")\n",
    "\n",
    "    plt.tight_layout()\n",
    "    plt.legend(fontsize=14)\n",
    "    plt.show()"
   ]
  },
  {
   "cell_type": "code",
   "execution_count": null,
   "metadata": {},
   "outputs": [],
   "source": []
  },
  {
   "cell_type": "code",
   "execution_count": null,
   "metadata": {},
   "outputs": [],
   "source": []
  }
 ],
 "metadata": {
  "kernelspec": {
   "display_name": "Python 3.9.13 ('jax_py39')",
   "language": "python",
   "name": "python3"
  },
  "language_info": {
   "codemirror_mode": {
    "name": "ipython",
    "version": 3
   },
   "file_extension": ".py",
   "mimetype": "text/x-python",
   "name": "python",
   "nbconvert_exporter": "python",
   "pygments_lexer": "ipython3",
   "version": "3.9.13"
  },
  "vscode": {
   "interpreter": {
    "hash": "1871fb65463515066d24df0aa24099cf11da79caf11aaca17da573fefcceb3df"
   }
  }
 },
 "nbformat": 4,
 "nbformat_minor": 2
}
