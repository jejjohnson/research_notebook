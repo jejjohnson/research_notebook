{
 "cells": [
  {
   "cell_type": "markdown",
   "id": "e8566f8d-87f1-4a4e-91a9-b852d11aa389",
   "metadata": {},
   "source": [
    "# Finite Difference"
   ]
  },
  {
   "cell_type": "code",
   "execution_count": null,
   "id": "e4335036-050e-43bd-88a8-433f98542933",
   "metadata": {},
   "outputs": [],
   "source": [
    "import sys, os\n",
    "from pyprojroot import here\n",
    "\n",
    "# spyder up to find the root\n",
    "root = here(project_files=[\".local\"])\n",
    "\n",
    "# append to path\n",
    "sys.path.append(str(root))"
   ]
  },
  {
   "cell_type": "code",
   "execution_count": null,
   "id": "686728c7-a3d7-478e-84f6-75bd7c4300dc",
   "metadata": {},
   "outputs": [],
   "source": [
    "import numpy as np\n",
    "import matplotlib.pyplot as plt\n",
    "import seaborn as sns\n",
    "import wandb\n",
    "\n",
    "sns.reset_defaults()\n",
    "sns.set_context(context=\"talk\", font_scale=0.7)\n",
    "\n",
    "%load_ext autoreload\n",
    "%autoreload 2"
   ]
  },
  {
   "cell_type": "markdown",
   "id": "d81540c4-fd07-4bcf-8960-e73294b2024e",
   "metadata": {},
   "source": [
    "## Data"
   ]
  },
  {
   "cell_type": "code",
   "execution_count": null,
   "id": "8a560fbf-fad9-4b2d-81ac-e26cf09942b0",
   "metadata": {},
   "outputs": [],
   "source": [
    "import xarray as xr\n",
    "import pandas as pd\n",
    "\n",
    "path_data = \"/Volumes/EMANS_HDD/data/osse_oceanix/raw/sim/NATL60-CJM165_GULFSTREAM_ssh_y2013.1y.nc\"\n",
    "path_data = \"/Volumes/EMANS_HDD/data/dc22b_osse/raw/dc_qg_train/dc_qg_train_y2013*.nc\"\n",
    "\n",
    "ds = xr.open_mfdataset(path_data)\n",
    "# ds = xr.open_dataset(path_data, engine=\"netcdf4\", decode_times=False).assign_coords(time=lambda ds: pd.to_datetime(ds.time))"
   ]
  },
  {
   "cell_type": "code",
   "execution_count": null,
   "id": "344a8745-2bfb-4772-b6c9-7276e399f6b1",
   "metadata": {},
   "outputs": [],
   "source": [
    "ds"
   ]
  },
  {
   "cell_type": "code",
   "execution_count": null,
   "id": "1a02849b-91b6-42ea-a091-f61060f70223",
   "metadata": {},
   "outputs": [],
   "source": [
    "ds.lon"
   ]
  },
  {
   "cell_type": "code",
   "execution_count": null,
   "id": "4e86c789-b568-4c84-ad2e-0333d679f075",
   "metadata": {},
   "outputs": [],
   "source": [
    "da = xr.DataArray(\n",
    "    ds.ssh.values,\n",
    "    coords={\"time\": ds.time.values, \"lat\": ds.nav_lat.values, \"lon\": ds.nav_lon.values},\n",
    ")"
   ]
  },
  {
   "cell_type": "code",
   "execution_count": null,
   "id": "7f0ef73a-6544-4988-8b3a-7741b49fef59",
   "metadata": {},
   "outputs": [],
   "source": [
    "da"
   ]
  },
  {
   "cell_type": "code",
   "execution_count": null,
   "id": "4730ea9b-6ae6-43c6-a8a0-7f590742b955",
   "metadata": {},
   "outputs": [],
   "source": [
    "ds"
   ]
  },
  {
   "cell_type": "code",
   "execution_count": null,
   "id": "7bc44c3c-baad-4ed3-b3cf-7580a3f83e4f",
   "metadata": {},
   "outputs": [],
   "source": [
    "ds.isel(time=200).ssh"
   ]
  },
  {
   "cell_type": "code",
   "execution_count": null,
   "id": "0d1d6631-bf85-4683-b661-c181d8f50743",
   "metadata": {},
   "outputs": [],
   "source": [
    "fig, ax = plt.subplots()\n",
    "da.isel(time=200).plot(ax=ax, cmap=\"viridis\")\n",
    "plt.show()"
   ]
  },
  {
   "cell_type": "code",
   "execution_count": null,
   "id": "37ded160-b241-46ff-9df4-ef5603b06df1",
   "metadata": {},
   "outputs": [],
   "source": [
    "import imageio\n",
    "\n",
    "\n",
    "def load_fox():\n",
    "    # FOX\n",
    "    image_url = \"https://live.staticflickr.com/7492/15677707699_d9d67acf9d_b.jpg\"\n",
    "    img = imageio.imread(image_url)[..., :3] / 255.0\n",
    "    c = [img.shape[0] // 2, img.shape[1] // 2]\n",
    "    r = 256\n",
    "    img = img[c[0] - r : c[0] + r, c[1] - r : c[1] + r]\n",
    "    return img\n",
    "\n",
    "\n",
    "def load_earth():\n",
    "    # EARTH\n",
    "    image_url = \"https://i0.wp.com/thepythoncodingbook.com/wp-content/uploads/2021/08/Earth.png?w=301&ssl=1\"\n",
    "    img = imageio.imread(image_url)[..., :3] / 255.0\n",
    "    # TODO: crop the image slightly\n",
    "    return img\n",
    "\n",
    "\n",
    "import skimage\n",
    "\n",
    "\n",
    "def load_cameraman():\n",
    "    img = skimage.data.camera() / 255.0\n",
    "    return img[..., None]"
   ]
  },
  {
   "cell_type": "code",
   "execution_count": null,
   "id": "09f45c42-439b-47e2-b3db-a74181d6ac28",
   "metadata": {},
   "outputs": [],
   "source": [
    "img = load_fox()\n",
    "img.shape"
   ]
  },
  {
   "cell_type": "markdown",
   "id": "e5b18d0a-2ceb-4cba-82de-a3e502d06c00",
   "metadata": {},
   "source": [
    "$$\n",
    "\\mathbf{x} \\in \\mathbb{R}\n",
    "$$"
   ]
  },
  {
   "cell_type": "code",
   "execution_count": null,
   "id": "c79a96ed-d02c-402a-8995-1726d0102689",
   "metadata": {},
   "outputs": [],
   "source": [
    "x, y = [jnp.linspace(-1, 1, 50)] * 2\n",
    "dx, dy = [x[1] - x[0]] * 2\n",
    "\n",
    "X, Y = jnp.meshgrid(x, y, indexing=\"ij\")\n",
    "\n",
    "F1 = X**2 + Y**3  # -Y\n",
    "F2 = X**4 + Y**3  # +X\n",
    "F = jnp.stack([F1, F2], axis=0)"
   ]
  },
  {
   "cell_type": "code",
   "execution_count": null,
   "id": "d12a42e7-a3e1-499e-80ea-ac436e74e6f3",
   "metadata": {},
   "outputs": [],
   "source": [
    "fig, ax = plt.subplots(figsize=(10, 10))\n",
    "\n",
    "ax.quiver(X, Y, F1, F2, color=\"k\", alpha=0.5)\n",
    "\n",
    "ax.set_aspect(\"equal\", \"box\")\n",
    "plt.show()"
   ]
  },
  {
   "cell_type": "code",
   "execution_count": null,
   "id": "26985e81-d10f-4755-9778-be1b1c5c5c40",
   "metadata": {},
   "outputs": [],
   "source": [
    "# x, y, z = [jnp.linspace(0,1,100)] * 3\n",
    "# dx, dy, dz = x[1]-x[0], y[1]-y[0], z[1]-z[0]\n",
    "# X, Y, Z = jnp.meshgrid(x,y,z,indexing=\"ij\")\n",
    "# F1 = X**2 + Y**3\n",
    "# F2 = X**4"
   ]
  },
  {
   "cell_type": "code",
   "execution_count": null,
   "id": "c4fe5e73-ba79-408c-952a-5be89c39a25a",
   "metadata": {},
   "outputs": [],
   "source": []
  },
  {
   "cell_type": "code",
   "execution_count": null,
   "id": "d7cc629c-3974-4cfa-93e5-26aed2340b79",
   "metadata": {},
   "outputs": [],
   "source": [
    "import jax.numpy as jnp"
   ]
  },
  {
   "cell_type": "markdown",
   "id": "5fbda4ff-dbd0-46c3-8f1b-8a8aa9b55b28",
   "metadata": {},
   "source": [
    "For a 2D function, $\\boldsymbol{f}(x,y)$, the partial derivative is:\n",
    "\n",
    "$$\n",
    "\\partial_x \\boldsymbol{f}(\\mathbf{x},\\mathbf{y}) =\n",
    "\\lim_{\\epsilon\\rightarrow 0} \\frac{\\boldsymbol{f}(\\mathbf{x}+\\epsilon,\\mathbf{y})-\n",
    "\\boldsymbol{f}(\\mathbf{x},\\mathbf{y})}{\\epsilon}\n",
    "$$\n",
    "\n",
    "For discrete data, we can approximate this using finite differences:\n",
    "\n",
    "$$\n",
    "\\partial_x f(x,y) \\approx \\frac{f(x+1,y)-f(x,y)}{1}\n",
    "$$"
   ]
  },
  {
   "cell_type": "code",
   "execution_count": null,
   "id": "521db0bd-f0b1-4db3-9152-d5bbdfcfb458",
   "metadata": {},
   "outputs": [],
   "source": []
  },
  {
   "cell_type": "markdown",
   "id": "bd45113f-fbb1-417c-bc83-2ce81a747979",
   "metadata": {},
   "source": [
    "## Laplacian"
   ]
  },
  {
   "cell_type": "markdown",
   "id": "ca3b6b77-724a-4c84-bbce-a79ab25afe4f",
   "metadata": {},
   "source": [
    "### Finite Difference"
   ]
  },
  {
   "cell_type": "code",
   "execution_count": null,
   "id": "58e09f7a-edf1-48aa-8651-9fa2bbfc09c6",
   "metadata": {},
   "outputs": [],
   "source": [
    "import serket as sk\n",
    "\n",
    "# F1/dx: differentiate F1 wrt x\n",
    "dF1dx = sk.fd.difference(F1, axis=0, step_size=dx, accuracy=10)\n",
    "# np.testing.assert_allclose(dF1dx, 2*X.squeeze(), atol=1e-7)\n",
    "\n",
    "dF2dy = sk.fd.difference(F2, axis=1, step_size=dy, accuracy=6)\n",
    "\n",
    "dF1dx.shape, dF2dy.shape"
   ]
  },
  {
   "cell_type": "code",
   "execution_count": null,
   "id": "bbdfaa59-dab4-46b2-ab4e-6efd84440ebd",
   "metadata": {},
   "outputs": [],
   "source": [
    "fig, ax = plt.subplots(figsize=(10, 10))\n",
    "\n",
    "ax.quiver(X, Y, dF1dx, dF2dy, color=\"k\", alpha=0.5, label=\"FD\")\n",
    "ax.quiver(X, Y, 2 * X, 3 * Y**2, color=\"red\", alpha=0.5, label=\"True\")\n",
    "\n",
    "plt.legend()\n",
    "ax.set_aspect(\"equal\", \"box\")\n",
    "plt.show()"
   ]
  },
  {
   "cell_type": "code",
   "execution_count": null,
   "id": "a60dd888-ac6c-4ca6-ac55-0710243abe44",
   "metadata": {},
   "outputs": [],
   "source": [
    "F.shape"
   ]
  },
  {
   "cell_type": "code",
   "execution_count": null,
   "id": "636887e9-8802-4e46-962d-323bb5f2aa9e",
   "metadata": {},
   "outputs": [],
   "source": [
    "dF = sk.fd.gradient(F1, step_size=(dx, dy), accuracy=6)\n",
    "\n",
    "\n",
    "d2F = sk.fd.laplacian(F1, step_size=(dx, dy), accuracy=6)\n",
    "dF.shape, d2F.shape"
   ]
  },
  {
   "cell_type": "code",
   "execution_count": null,
   "id": "50a1fed4-7174-4905-bc44-10291ef85125",
   "metadata": {},
   "outputs": [],
   "source": [
    "fig, ax = plt.subplots(figsize=(10, 10))\n",
    "\n",
    "ax.quiver(X, Y, dF[0], dF[1], color=\"k\", alpha=0.5, label=\"FD\")\n",
    "ax.quiver(X, Y, 2 * X, 3 * Y**2, color=\"red\", alpha=0.5, label=\"True\")\n",
    "\n",
    "plt.legend()\n",
    "ax.set_aspect(\"equal\", \"box\")\n",
    "plt.show()"
   ]
  },
  {
   "cell_type": "code",
   "execution_count": null,
   "id": "411e7ba2-ebe7-4b6f-a123-1467f5ee75ca",
   "metadata": {},
   "outputs": [],
   "source": [
    "dF1dx.shape, F1.shape"
   ]
  },
  {
   "cell_type": "markdown",
   "id": "ed1026d2-2856-4875-a9c7-b2acfc444808",
   "metadata": {},
   "source": [
    "### Convolution"
   ]
  },
  {
   "cell_type": "code",
   "execution_count": null,
   "id": "88040999-ae1c-4e99-b9d2-0d38eb8fd84f",
   "metadata": {},
   "outputs": [],
   "source": []
  },
  {
   "cell_type": "code",
   "execution_count": null,
   "id": "553122e4-17a8-463e-9ea6-90a3780c8521",
   "metadata": {},
   "outputs": [],
   "source": [
    "import jax\n",
    "\n",
    "\n",
    "def gradient_1D(array, step=1.0):\n",
    "    kernel = jnp.array([0.5, 0, 0.5])\n",
    "\n",
    "    lhs = array[np.newaxis, np.newaxis, Ellipsis]\n",
    "    rhs = kernel[np.newaxis, np.newaxis, Ellipsis] / step**2\n",
    "\n",
    "    result = jax.lax.conv(lhs, rhs, window_strides=(1,) * array.ndim, padding=\"SAME\")\n",
    "    squeezed = np.squeeze(result, axis=(0, 1))\n",
    "\n",
    "    return squeezed\n",
    "\n",
    "\n",
    "def gradient_2D(array, step=1.0):\n",
    "\n",
    "    kernel = jnp.array([[0, 0, 0], [0, -1, 0], [0, 1, 0]])\n",
    "\n",
    "    lhs = array[np.newaxis, np.newaxis, Ellipsis]\n",
    "    rhs = kernel[np.newaxis, np.newaxis, Ellipsis] / step**2\n",
    "\n",
    "    result = jax.lax.conv(lhs, rhs, window_strides=(1,) * array.ndim, padding=\"SAME\")\n",
    "    squeezed = np.squeeze(result, axis=(0, 1))\n",
    "\n",
    "    return squeezed\n",
    "\n",
    "\n",
    "def laplacian_1D(array, step=1.0):\n",
    "    kernel = jnp.array([1, -2, 1])\n",
    "\n",
    "    lhs = array[np.newaxis, np.newaxis, Ellipsis]\n",
    "    rhs = kernel[np.newaxis, np.newaxis, Ellipsis] / step**2\n",
    "\n",
    "    result = jax.lax.conv(lhs, rhs, window_strides=(1,) * array.ndim, padding=\"SAME\")\n",
    "    squeezed = np.squeeze(result, axis=(0, 1))\n",
    "\n",
    "    return squeezed\n",
    "\n",
    "\n",
    "def laplacian_2D(array, step=1.0):\n",
    "\n",
    "    kernel = jnp.array([[0, 1, 0], [1, -4, 1], [0, 1, 0]])\n",
    "\n",
    "    lhs = array[np.newaxis, np.newaxis, Ellipsis]\n",
    "    rhs = kernel[np.newaxis, np.newaxis, Ellipsis] / step**2\n",
    "\n",
    "    result = jax.lax.conv(lhs, rhs, window_strides=(1,) * array.ndim, padding=\"SAME\")\n",
    "    squeezed = np.squeeze(result, axis=(0, 1))\n",
    "\n",
    "    return squeezed"
   ]
  },
  {
   "cell_type": "code",
   "execution_count": null,
   "id": "3ef2f5f1-72a1-4fac-a8d7-a751d4ab5980",
   "metadata": {},
   "outputs": [],
   "source": [
    "img.shape"
   ]
  },
  {
   "cell_type": "code",
   "execution_count": null,
   "id": "1ccf442a-948c-4b64-be00-08adaa2ff7de",
   "metadata": {},
   "outputs": [],
   "source": [
    "d2F1dx2 = gradient_2D(F1)\n",
    "d2F2dy2 = gradient_2D(F2)\n",
    "\n",
    "d2F1dx2.shape, d2F2dy2.shape"
   ]
  },
  {
   "cell_type": "code",
   "execution_count": null,
   "id": "41be2a61-a270-4c99-81a6-ec2a3a26a2fb",
   "metadata": {},
   "outputs": [],
   "source": [
    "fig, ax = plt.subplots(figsize=(10, 10))\n",
    "\n",
    "ax.quiver(X, Y, d2F1dx2, d2F2dy2, color=\"k\", alpha=0.5, label=\"FD\")\n",
    "# ax.quiver(X, Y, 2*X, 3*Y**2, color=\"red\", alpha=0.5, label=\"True\")\n",
    "\n",
    "plt.legend()\n",
    "ax.set_aspect(\"equal\", \"box\")\n",
    "plt.show()"
   ]
  },
  {
   "cell_type": "markdown",
   "id": "b250c82c-20d1-4927-bdc9-f74891459e12",
   "metadata": {},
   "source": [
    "### Kernex"
   ]
  },
  {
   "cell_type": "markdown",
   "id": "3fa4e23e-b479-4fec-844c-51d65852adcb",
   "metadata": {},
   "source": [
    "First Order (One-Side, Backwards), 2-Point Stencil:\n",
    "\n",
    "$$\n",
    "f'=\\frac{f_i-f_{i-1}}{\\Delta x}\n",
    "$$\n",
    "\n",
    "---\n",
    "\n",
    "First Order (One-Side, Forward), 2-Point Stencil:\n",
    "\n",
    "$$\n",
    "f' = \\frac{f_{i+1}-f_i}{\\Delta x}\n",
    "$$\n",
    "\n",
    "---\n",
    "\n",
    "Second Order (Two-Sided, Cenetered), 3-Point Stencil:\n",
    "\n",
    "$$\n",
    "f' = \\frac{f_{i+1}-f_{i-1}}{2\\Delta x}\n",
    "$$\n",
    "\n",
    "---\n",
    "\n",
    "\n",
    "Fourth-Order (2-Sided,Centered), 5-Point Stencil:\n",
    "\n",
    "$$\n",
    "f' = \\frac{-f_{i+2}+8f_{i+1}-8f_{i-1}+f_{i-2}}{12\\Delta x}\n",
    "$$"
   ]
  },
  {
   "cell_type": "markdown",
   "id": "8932f768-f096-44dc-85b3-7f7ad442d1a3",
   "metadata": {},
   "source": [
    "5-Point Stencil\n",
    "\n",
    "$$\n",
    "(x-2h,x-h,x,x+h,x+2h)\n",
    "$$"
   ]
  },
  {
   "cell_type": "code",
   "execution_count": null,
   "id": "295ae655-b996-40e2-8012-f628968479bc",
   "metadata": {},
   "outputs": [],
   "source": [
    "@kex.kmap(kernel_size=(3, 3), padding=\"valid\", relative=True)\n",
    "def fd_forward(x):\n",
    "    return x[0, 0] - x[0, 1]\n",
    "\n",
    "\n",
    "@kex.kmap(kernel_size=(3, 3), padding=\"valid\", relative=True)\n",
    "def stencil(x):\n",
    "    return 0.25 * (x[0, 1] + x[1, 0] + x[0, -1] + x[-1, 0])\n",
    "\n",
    "\n",
    "@kex.kmap(kernel_size=(3, 3), padding=\"valid\", relative=True)\n",
    "def sobel_x(x):\n",
    "    return (\n",
    "        1 * x[1, -1]\n",
    "        + 0 * x[1, 0]\n",
    "        + -1 * x[1, 1]\n",
    "        + 2 * x[0, -1]\n",
    "        + 0 * x[0, 0]\n",
    "        + -2 * x[0, 1]\n",
    "        + 1 * x[-1, 1]\n",
    "        + 0 * x[-1, 0]\n",
    "        + -1 * x[-1, 1]\n",
    "    )\n",
    "\n",
    "\n",
    "@kex.kmap(kernel_size=(3, 3), padding=\"valid\", relative=True)\n",
    "def sobel_y(x):\n",
    "    return (\n",
    "        1 * x[1, -1]\n",
    "        + 2 * x[1, 0]\n",
    "        + 1 * x[1, 1]\n",
    "        + 0 * x[0, -1]\n",
    "        + 0 * x[0, 0]\n",
    "        + 0 * x[0, 1]\n",
    "        + -1 * x[-1, 1]\n",
    "        + -2 * x[-1, 0]\n",
    "        + -1 * x[-1, 1]\n",
    "    )"
   ]
  },
  {
   "cell_type": "markdown",
   "id": "4dc11eb9-edf7-40a4-9e7e-b0bbaae7380c",
   "metadata": {},
   "source": [
    "5-Point Stencil, laplacian\n",
    "\n",
    "$$\n",
    "\\frac{f(x-h,y)+f(x+h,y)+f(x,y-h)+f(x,y+h)-4f(x,y)}{h^2}\n",
    "$$"
   ]
  },
  {
   "cell_type": "code",
   "execution_count": null,
   "id": "1a6099d9-3ec9-4633-9175-9ab14aabfbc2",
   "metadata": {},
   "outputs": [],
   "source": [
    "def laplacian_1d(window_size):\n",
    "    filter_1d = jnp.ones(window_size)\n",
    "    filter_1d = filter_1d.at[window_size // 2].set(1 - window_size)\n",
    "    return filter_1d"
   ]
  },
  {
   "cell_type": "code",
   "execution_count": null,
   "id": "3cfc8cf9-7eae-429a-aa83-db511ea804ed",
   "metadata": {},
   "outputs": [],
   "source": [
    "lap_filter = laplacian_1d(3)\n",
    "lap_filter"
   ]
  },
  {
   "cell_type": "code",
   "execution_count": null,
   "id": "3269ddab-20a6-49e7-95d4-b7e5e70dcc80",
   "metadata": {},
   "outputs": [],
   "source": [
    "import kernex as kex\n",
    "\n",
    "\n",
    "@kex.kmap(kernel_size=(3, 3), padding=\"valid\", relative=True)\n",
    "def laplacian(x):\n",
    "    return (\n",
    "        0 * x[1, -1]\n",
    "        + 1 * x[1, 0]\n",
    "        + 0 * x[1, 1]\n",
    "        + 1 * x[0, -1]\n",
    "        + -4 * x[0, 0]\n",
    "        + 1 * x[0, 1]\n",
    "        + 0 * x[-1, 1]\n",
    "        + 1 * x[-1, 0]\n",
    "        + 0 * x[-1, 1]\n",
    "    )\n",
    "\n",
    "\n",
    "array_ones = jnp.ones([10, 10])\n",
    "\n",
    "laplacian(array_ones)"
   ]
  },
  {
   "cell_type": "code",
   "execution_count": null,
   "id": "f6a96e49-12e8-4cbb-9729-128010b6820c",
   "metadata": {},
   "outputs": [],
   "source": []
  }
 ],
 "metadata": {
  "kernelspec": {
   "display_name": "Python [conda env:jax_eo_py39]",
   "language": "python",
   "name": "conda-env-jax_eo_py39-py"
  },
  "language_info": {
   "codemirror_mode": {
    "name": "ipython",
    "version": 3
   },
   "file_extension": ".py",
   "mimetype": "text/x-python",
   "name": "python",
   "nbconvert_exporter": "python",
   "pygments_lexer": "ipython3",
   "version": "3.9.13"
  }
 },
 "nbformat": 4,
 "nbformat_minor": 5
}
