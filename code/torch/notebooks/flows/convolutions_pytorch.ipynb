{
 "cells": [
  {
   "cell_type": "code",
   "execution_count": null,
   "id": "5b73bb17-f73f-4749-84b0-24340366abf9",
   "metadata": {},
   "outputs": [],
   "source": [
    "import torch\n",
    "import torch.nn.functional as F\n",
    "import numpy as np\n",
    "from skimage import data\n",
    "import matplotlib.pyplot as plt\n",
    "from einops import repeat, rearrange"
   ]
  },
  {
   "cell_type": "markdown",
   "id": "1ed40019-883a-4406-96b7-ebe9a713aa30",
   "metadata": {},
   "source": [
    "## Data"
   ]
  },
  {
   "cell_type": "code",
   "execution_count": null,
   "id": "fe5dd6f3-a51c-4e1b-9f80-b3a62c9e5891",
   "metadata": {},
   "outputs": [],
   "source": [
    "img = data.astronaut()"
   ]
  },
  {
   "cell_type": "code",
   "execution_count": null,
   "id": "d4992e39-251e-4711-8f99-657d7de6e556",
   "metadata": {},
   "outputs": [],
   "source": [
    "fig, ax = plt.subplots()\n",
    "\n",
    "ax.imshow(img)\n",
    "\n",
    "plt.show()"
   ]
  },
  {
   "cell_type": "code",
   "execution_count": null,
   "id": "65112e1a",
   "metadata": {},
   "outputs": [],
   "source": [
    "img = rearrange(img, \"h w c -> 1 c h w\")"
   ]
  },
  {
   "cell_type": "markdown",
   "id": "ca3c9a13-d81a-40b2-b69f-e4cbe8921036",
   "metadata": {},
   "source": [
    "### Reshape"
   ]
  },
  {
   "cell_type": "code",
   "execution_count": null,
   "id": "b85a2f78",
   "metadata": {},
   "outputs": [],
   "source": [
    "img.shape"
   ]
  },
  {
   "cell_type": "code",
   "execution_count": null,
   "id": "9b3f8bb6-f688-485f-9f31-751489008c36",
   "metadata": {},
   "outputs": [],
   "source": [
    "# def squeeze_v2(x, factor=2):\n",
    "#     assert x.ndim == 4\n",
    "#     b, c, h, w = x.shape\n",
    "\n",
    "#     assert h % factor == 0\n",
    "#     assert w % factor == 0\n",
    "\n",
    "#     x = x.view(b, c, h // factor, factor, w // factor, factor)\n",
    "#     # x = rearrange(\n",
    "#     #     x,\n",
    "#     #     \"b c (h fh) (w fw) -> b (fh fw c) h w\",\n",
    "#     #     b=b, c=c, h=h//factor, w=w//factor, fh=factor, fw=factor\n",
    "#     # )\n",
    "\n",
    "#     # x = rearrange(x, \"b c h fh w fw -> b (fh fw c) h w\")\n",
    "\n",
    "#     x = x.permute(0, 3, 5, 1, 2, 4).contiguous()\n",
    "#     x = x.view(b, c * factor ** 2, h // factor, w // factor)\n",
    "\n",
    "#     return x\n",
    "\n",
    "\n",
    "def squeeze(x, factor=2):\n",
    "\n",
    "    assert x.ndim == 4\n",
    "    b, c, h, w = x.shape\n",
    "\n",
    "    assert h % factor == 0\n",
    "    assert w % factor == 0\n",
    "\n",
    "    x = rearrange(\n",
    "        x,\n",
    "        \"b c (h fh) (w fw) -> b (fh fw c) h w\",\n",
    "        b=b,\n",
    "        c=c,\n",
    "        h=h // factor,\n",
    "        w=w // factor,\n",
    "        fh=factor,\n",
    "        fw=factor,\n",
    "    )\n",
    "\n",
    "    return x\n",
    "\n",
    "\n",
    "def unsqueeze(x, factor=2):\n",
    "    assert x.ndim == 4\n",
    "    b, c, h, w = x.shape\n",
    "\n",
    "    x = rearrange(\n",
    "        x,\n",
    "        \"b (fh fw c) h w -> b c (h fh) (w fw)\",\n",
    "        b=b,\n",
    "        c=(c // factor**2),\n",
    "        h=h,\n",
    "        w=w,\n",
    "        fh=factor,\n",
    "        fw=factor,\n",
    "    )\n",
    "\n",
    "    return x\n",
    "\n",
    "\n",
    "# def unsqueeze_v2(x, factor=2):\n",
    "#     assert x.ndim == 4\n",
    "#     b, c, h, w = x.shape\n",
    "\n",
    "#     x = x.view(b, c // factor ** 2, factor, factor, h, w)\n",
    "#     x = x.view(b, factor, factor, c // factor ** 2, h, w)\n",
    "#     x = x.permute(0, 3, 4, 1, 5, 2).contiguous()\n",
    "#     x = x.view(b, c // factor ** 2, h * factor, w * factor)\n",
    "\n",
    "#     return x"
   ]
  },
  {
   "cell_type": "code",
   "execution_count": null,
   "id": "536caab9-d099-49dc-a7d0-2404c656348d",
   "metadata": {},
   "outputs": [],
   "source": [
    "img.dtype"
   ]
  },
  {
   "cell_type": "code",
   "execution_count": null,
   "id": "c240e243-9ab5-4ab3-988f-42cdea136481",
   "metadata": {},
   "outputs": [],
   "source": [
    "x = repeat(img, \"... -> 1 ...\")\n",
    "x = rearrange(x, \"B H W C -> B C H W\")\n",
    "x = torch.Tensor(x)\n",
    "img_squeeze = squeeze(x)\n",
    "print(x.shape, img_squeeze.shape)\n",
    "\n",
    "\n",
    "x_orig = unsqueeze(img_squeeze)\n",
    "\n",
    "img_squeeze = rearrange(img_squeeze, \"B C H W -> B H W C\").numpy().astype(np.uint8)\n",
    "print(x_orig.shape, img_squeeze.shape)\n",
    "\n",
    "\n",
    "np.testing.assert_array_equal(x, x_orig)"
   ]
  },
  {
   "cell_type": "code",
   "execution_count": null,
   "id": "99178faf-410e-409e-ac74-d7537c0d74a7",
   "metadata": {},
   "outputs": [],
   "source": [
    "img_squeeze.min(), img_squeeze.max(), img_squeeze.dtype, img_squeeze.shape, type(\n",
    "    img_squeeze\n",
    ")"
   ]
  },
  {
   "cell_type": "code",
   "execution_count": null,
   "id": "aea2bb65-e5fb-41c1-81ac-cda20a4e645f",
   "metadata": {},
   "outputs": [],
   "source": [
    "fig, axs = plt.subplots(nrows=2, ncols=2, figsize=(10, 10))\n",
    "\n",
    "axs[0, 0].imshow(img_squeeze[0, ..., :3])\n",
    "axs[0, 1].imshow(img_squeeze[0, ..., 3:6])\n",
    "axs[1, 0].imshow(img_squeeze[0, ..., 6:9])\n",
    "axs[1, 1].imshow(img_squeeze[0, ..., 9:12])\n",
    "plt.show()"
   ]
  },
  {
   "cell_type": "markdown",
   "id": "22339cc3-be6b-4dfb-9244-c688169bf746",
   "metadata": {},
   "source": [
    "## Squeeze (Orthogonal)"
   ]
  },
  {
   "cell_type": "code",
   "execution_count": null,
   "id": "70c4c8a9-f20b-4aeb-98a7-61e1f0a75317",
   "metadata": {},
   "outputs": [],
   "source": [
    "from scipy.stats import ortho_group\n",
    "\n",
    "kernel = []\n",
    "for _ in range(3):\n",
    "    ikernel = ortho_group.rvs(4)\n",
    "    ikernel = np.reshape(ikernel, (4, 1, 2, 2))\n",
    "    kernel.append(ikernel)\n",
    "\n",
    "kernel = np.concatenate(kernel, axis=0)\n",
    "# kernel = torch.Tensor(kernel)"
   ]
  },
  {
   "cell_type": "code",
   "execution_count": null,
   "id": "c611e8f6-db4a-4f4a-ba33-a92df4d77725",
   "metadata": {},
   "outputs": [],
   "source": [
    "kernels = []\n",
    "for _ in range(3):\n",
    "    w = torch.empty(4, 4)\n",
    "    torch.nn.init.orthogonal_(w)\n",
    "    kernels.append(w.reshape(4, 1, 2, 2))\n",
    "kernel = torch.cat(kernels, dim=0)"
   ]
  },
  {
   "cell_type": "code",
   "execution_count": null,
   "id": "e97f47c8-ecfb-40e9-94ec-22f2c9f06116",
   "metadata": {},
   "outputs": [],
   "source": [
    "img_squeeze = F.conv2d(x, kernel, bias=None, stride=2, groups=3)\n",
    "x_ori = F.conv_transpose2d(img_squeeze, kernel, bias=None, stride=2, groups=3)\n",
    "\n",
    "img_squeeze = rearrange(img_squeeze, \"B C H W -> B H W C\").numpy().astype(np.uint8)\n",
    "\n",
    "np.testing.assert_array_equal(x, x_orig)"
   ]
  },
  {
   "cell_type": "code",
   "execution_count": null,
   "id": "7a7c86ba-45f0-4812-9200-3ee90a430dda",
   "metadata": {},
   "outputs": [],
   "source": [
    "fig, axs = plt.subplots(nrows=2, ncols=2, figsize=(10, 10))\n",
    "\n",
    "axs[0, 0].imshow(img_squeeze[0, ..., :3])\n",
    "axs[0, 1].imshow(img_squeeze[0, ..., 3:6])\n",
    "axs[1, 0].imshow(img_squeeze[0, ..., 6:9])\n",
    "axs[1, 1].imshow(img_squeeze[0, ..., 9:12])\n",
    "plt.show()"
   ]
  },
  {
   "cell_type": "markdown",
   "id": "303396aa-ef6d-4979-ad85-85229fcc0255",
   "metadata": {},
   "source": [
    "## iRev"
   ]
  },
  {
   "cell_type": "code",
   "execution_count": null,
   "id": "c1194cc9-3f54-442a-a38e-27bb8f3fe0f7",
   "metadata": {},
   "outputs": [],
   "source": [
    "kernel = torch.zeros(4, 1, 2, 2)\n",
    "\n",
    "kernel[0, 0, 0, 0] = 1\n",
    "kernel[1, 0, 0, 1] = 1\n",
    "kernel[2, 0, 1, 0] = 1\n",
    "kernel[3, 0, 1, 1] = 1\n",
    "\n",
    "kernel = torch.cat([kernel] * 3, 0)"
   ]
  },
  {
   "cell_type": "code",
   "execution_count": null,
   "id": "78d14647",
   "metadata": {},
   "outputs": [],
   "source": [
    "kernel.shape"
   ]
  },
  {
   "cell_type": "code",
   "execution_count": null,
   "id": "940ec5b7-4abb-42a2-87a3-861faba0bb18",
   "metadata": {},
   "outputs": [],
   "source": [
    "img_squeeze = F.conv2d(x, kernel, bias=None, stride=2, groups=3)\n",
    "x_ori = F.conv_transpose2d(img_squeeze, kernel, bias=None, stride=2, groups=3)\n",
    "\n",
    "img_squeeze = rearrange(img_squeeze, \"B C H W -> B H W C\").numpy().astype(np.uint8)\n",
    "\n",
    "np.testing.assert_array_equal(x, x_orig)"
   ]
  },
  {
   "cell_type": "code",
   "execution_count": null,
   "id": "4c3c8137",
   "metadata": {},
   "outputs": [],
   "source": [
    "img_squeeze"
   ]
  },
  {
   "cell_type": "code",
   "execution_count": null,
   "id": "3c88c9c9-f3f3-48c3-8cd2-33f630ad4a93",
   "metadata": {},
   "outputs": [],
   "source": [
    "fig, axs = plt.subplots(nrows=2, ncols=2, figsize=(10, 10))\n",
    "\n",
    "axs[0, 0].imshow(img_squeeze[0, ..., :3])\n",
    "axs[0, 1].imshow(img_squeeze[0, ..., 3:6])\n",
    "axs[1, 0].imshow(img_squeeze[0, ..., 6:9])\n",
    "axs[1, 1].imshow(img_squeeze[0, ..., 9:12])\n",
    "plt.show()"
   ]
  },
  {
   "cell_type": "code",
   "execution_count": null,
   "id": "d5877a69-dcbb-4a5b-96a7-af6dae490c7b",
   "metadata": {},
   "outputs": [],
   "source": []
  },
  {
   "cell_type": "markdown",
   "id": "7941aefc-6adf-4d17-b1a7-fae7f69f362e",
   "metadata": {},
   "source": [
    "## Wavelet (Ortho)"
   ]
  },
  {
   "cell_type": "code",
   "execution_count": null,
   "id": "4b41ccfa-9489-45c1-ac33-2772b2b8f032",
   "metadata": {},
   "outputs": [],
   "source": [
    "import pywt"
   ]
  },
  {
   "cell_type": "code",
   "execution_count": null,
   "id": "27f64575-38d3-42f8-b196-d77f90d79c67",
   "metadata": {},
   "outputs": [],
   "source": [
    "original = pywt.data.camera()"
   ]
  },
  {
   "cell_type": "code",
   "execution_count": null,
   "id": "34400de4-e2b7-435d-88e0-92a6af769804",
   "metadata": {},
   "outputs": [],
   "source": [
    "pywt.data.nino().shape"
   ]
  },
  {
   "cell_type": "markdown",
   "id": "547fcd07-e49e-454e-8331-825676951e28",
   "metadata": {},
   "source": [
    "* pwt - [python package]https://pywavelets.readthedocs.io/en/latest/index.html#main-features()\n",
    "* Wavelet Families - [Webpage](http://wavelets.pybytes.com/wavelet/haar/)"
   ]
  },
  {
   "cell_type": "code",
   "execution_count": null,
   "id": "b0d05a2e-c75d-40ec-8680-9d7444781ca2",
   "metadata": {},
   "outputs": [],
   "source": [
    "# Load image\n",
    "original = pywt.data.camera()\n",
    "\n",
    "# Wavelet transform of image, and plot approximation and details\n",
    "titles = [\"Approximation\", \" Horizontal detail\", \"Vertical detail\", \"Diagonal detail\"]\n",
    "coeffs2 = pywt.dwt2(original, \"haar\")\n",
    "LL, (LH, HL, HH) = coeffs2\n",
    "fig = plt.figure(figsize=(12, 3))\n",
    "for i, a in enumerate([LL, LH, HL, HH]):\n",
    "    ax = fig.add_subplot(1, 4, i + 1)\n",
    "    ax.imshow(a, interpolation=\"nearest\", cmap=plt.cm.gray)\n",
    "    ax.set_title(titles[i], fontsize=10)\n",
    "    ax.set_xticks([])\n",
    "    ax.set_yticks([])\n",
    "\n",
    "fig.tight_layout()\n",
    "plt.show()"
   ]
  },
  {
   "cell_type": "code",
   "execution_count": null,
   "id": "c92c6a2f-0489-4d17-8c50-3d5a70089437",
   "metadata": {},
   "outputs": [],
   "source": [
    "original_inv = pywt.idwt2(coeffs2, \"haar\")"
   ]
  },
  {
   "cell_type": "code",
   "execution_count": null,
   "id": "b17f4c61-64f2-4f86-9d75-9053d35fc524",
   "metadata": {},
   "outputs": [],
   "source": [
    "data.grass().shape"
   ]
  },
  {
   "cell_type": "code",
   "execution_count": null,
   "id": "a73d2eae-5efb-4cc6-b237-bf02759e1f09",
   "metadata": {},
   "outputs": [],
   "source": [
    "fig, ax = plt.subplots(ncols=2)\n",
    "ax[0].imshow(original)\n",
    "ax[1].imshow(original_inv)\n",
    "\n",
    "plt.show()"
   ]
  },
  {
   "cell_type": "code",
   "execution_count": null,
   "id": "bbe092eb-fe4a-4648-a111-33a5c88afd19",
   "metadata": {},
   "outputs": [],
   "source": [
    "b, h, w, c = x.shape\n",
    "\n",
    "kernel = torch.ones((4, 1, 2, 2))\n",
    "kernel[1, 0, 0, 1] = -1\n",
    "kernel[1, 0, 1, 1] = -1\n",
    "\n",
    "kernel[2, 0, 1, 0] = -1\n",
    "kernel[2, 0, 1, 1] = -1\n",
    "\n",
    "kernel[3, 0, 1, 0] = -1\n",
    "kernel[3, 0, 0, 1] = -1\n",
    "kernel *= 0.5\n",
    "\n",
    "print(kernel.shape)"
   ]
  },
  {
   "cell_type": "code",
   "execution_count": null,
   "id": "3150349b-565a-4553-a8dc-c9296adc521d",
   "metadata": {},
   "outputs": [],
   "source": [
    "kernel = torch.cat([kernel] * 3, 0)\n",
    "# kernel = repeat(kernel, \"B C H W -> B (\"\n",
    "kernel.shape"
   ]
  },
  {
   "cell_type": "code",
   "execution_count": null,
   "id": "ee97d72b-bd67-4afe-8dd1-c15561cd1b8c",
   "metadata": {},
   "outputs": [],
   "source": [
    "import torch.nn as nn"
   ]
  },
  {
   "cell_type": "code",
   "execution_count": null,
   "id": "0e484d71-cfa2-461a-b872-038ad4a9938f",
   "metadata": {},
   "outputs": [],
   "source": [
    "from einops import repeat"
   ]
  },
  {
   "cell_type": "code",
   "execution_count": null,
   "id": "92fda744-c416-431e-89af-91959c4910cb",
   "metadata": {},
   "outputs": [],
   "source": [
    "img_squeeze = F.conv2d(x, kernel, bias=None, stride=2, groups=3)\n",
    "# img_squeeze = conv_layer(x)\n",
    "x_ori = F.conv_transpose2d(img_squeeze, kernel, bias=None, stride=2, groups=3)\n",
    "\n",
    "img_squeeze = (\n",
    "    rearrange(img_squeeze, \"B C H W -> B H W C\").detach().numpy().astype(np.uint8)\n",
    ")\n",
    "\n",
    "np.testing.assert_array_equal(x, x_orig)"
   ]
  },
  {
   "cell_type": "code",
   "execution_count": null,
   "id": "12f3566f-f6d6-403e-b962-3a27fcc18d74",
   "metadata": {},
   "outputs": [],
   "source": [
    "img_squeeze.min(), img_squeeze.max(), img_squeeze.shape"
   ]
  },
  {
   "cell_type": "code",
   "execution_count": null,
   "id": "1183147e",
   "metadata": {},
   "outputs": [],
   "source": [
    "img_squeeze"
   ]
  },
  {
   "cell_type": "code",
   "execution_count": null,
   "id": "13fd8272-186b-4f92-a02c-8fd535fae4c3",
   "metadata": {},
   "outputs": [],
   "source": [
    "from sklearn.preprocessing import MinMaxScaler\n",
    "\n",
    "img_squeeze = (\n",
    "    MinMaxScaler((0.0, 255.0)).fit_transform(img_squeeze.ravel()[:, None]).ravel()\n",
    ")\n",
    "img_squeeze = img_squeeze.reshape((1, 256, 256, 12))"
   ]
  },
  {
   "cell_type": "code",
   "execution_count": null,
   "id": "781ccc7d-46e1-4729-a878-2962f8860be9",
   "metadata": {},
   "outputs": [],
   "source": [
    "fig, axs = plt.subplots(nrows=2, ncols=2, figsize=(10, 10))\n",
    "\n",
    "axs[0, 0].imshow(img_squeeze[0, ..., 0::4].astype(np.uint8))\n",
    "axs[0, 1].imshow(img_squeeze[0, ..., 1::4].astype(np.uint8))\n",
    "axs[1, 0].imshow(img_squeeze[0, ..., 2::4].astype(np.uint8))\n",
    "axs[1, 1].imshow(img_squeeze[0, ..., 3::4].astype(np.uint8))\n",
    "plt.show()"
   ]
  },
  {
   "cell_type": "markdown",
   "id": "661c8c29-8893-43eb-bd50-0b83c5682fba",
   "metadata": {},
   "source": [
    "### Wavelet (Signals)"
   ]
  },
  {
   "cell_type": "code",
   "execution_count": null,
   "id": "66b7ca77-a679-4ca2-ad3d-5e528f93679a",
   "metadata": {},
   "outputs": [],
   "source": [
    "b, h, w, c = x.shape\n",
    "\n",
    "kernel = torch.ones((4, 1, 2, 2))\n",
    "kernel[1, 0, 0, 1] = -1\n",
    "kernel[1, 0, 1, 1] = -1\n",
    "\n",
    "kernel[2, 0, 1, 0] = -1\n",
    "kernel[2, 0, 1, 1] = -1\n",
    "\n",
    "kernel[3, 0, 1, 0] = -1\n",
    "kernel[3, 0, 0, 1] = -1\n",
    "# kernel *= 0.5\n",
    "\n",
    "kernel = torch.cat([kernel] * 3, 0)\n",
    "kernel.shape"
   ]
  },
  {
   "cell_type": "code",
   "execution_count": null,
   "id": "83a313a4-045b-4eb4-8f7f-0b634c100161",
   "metadata": {},
   "outputs": [],
   "source": [
    "# kernel *= 0.5\n",
    "\n",
    "rebalance = 1.0\n",
    "fac_fwd = 0.5 * rebalance\n",
    "jac_fwd = (np.log(16.0) + 4 * np.log(fac_fwd)) / 4.0\n",
    "\n",
    "fac_rev = 0.5 / rebalance\n",
    "jac_rev = (np.log(16.0) + 4 * np.log(fac_rev)) / 4.0"
   ]
  },
  {
   "cell_type": "code",
   "execution_count": null,
   "id": "473007f3-41e8-4c06-9f52-a7a3931ab4fc",
   "metadata": {},
   "outputs": [],
   "source": [
    "jac_fwd, jac_rev, x.shape"
   ]
  },
  {
   "cell_type": "code",
   "execution_count": null,
   "id": "2a372483-bc71-4c41-9eeb-11e41eaa7dc0",
   "metadata": {},
   "outputs": [],
   "source": [
    "img_squeeze = F.conv2d(x, kernel, bias=None, stride=2, groups=3)\n",
    "x_ori = F.conv_transpose2d(img_squeeze, kernel, bias=None, stride=2, groups=3)\n",
    "x_ori *= fac_fwd\n",
    "\n",
    "img_squeeze = rearrange(img_squeeze, \"B C H W -> B H W C\").numpy()\n",
    "img_squeeze *= fac_rev\n",
    "img_squeeze = img_squeeze.astype(np.uint8)\n",
    "\n",
    "np.testing.assert_array_equal(x, x_orig)"
   ]
  },
  {
   "cell_type": "code",
   "execution_count": null,
   "id": "28ee1476",
   "metadata": {},
   "outputs": [],
   "source": [
    "img_squeeze"
   ]
  },
  {
   "cell_type": "code",
   "execution_count": null,
   "id": "5ecf70a9-5779-47d2-8d9d-7055e350bd54",
   "metadata": {},
   "outputs": [],
   "source": [
    "fig, axs = plt.subplots(nrows=2, ncols=2, figsize=(10, 10))\n",
    "\n",
    "axs[0, 0].imshow(img_squeeze[0, ..., 0::4])\n",
    "axs[0, 1].imshow(img_squeeze[0, ..., 1::4])\n",
    "axs[1, 0].imshow(img_squeeze[0, ..., 2::4])\n",
    "axs[1, 1].imshow(img_squeeze[0, ..., 3::4])\n",
    "plt.show()"
   ]
  },
  {
   "cell_type": "code",
   "execution_count": null,
   "id": "2c2dfbaf-3f7e-4535-94c9-be1b6ec58bdc",
   "metadata": {},
   "outputs": [],
   "source": []
  },
  {
   "cell_type": "markdown",
   "id": "e8872056-f726-488a-8086-90af4b107673",
   "metadata": {},
   "source": [
    "## Kernels\n",
    "\n",
    "* HouseHolder Matrix\n",
    "* Cayley Matrix\n",
    "* Matrix Exponential\n",
    "* Bjork\n",
    "* Givens\n",
    "* Random Rotations\n",
    "* Haar"
   ]
  }
 ],
 "metadata": {
  "kernelspec": {
   "display_name": "Python 3.9.13 ('torch_py39')",
   "language": "python",
   "name": "python3"
  },
  "language_info": {
   "codemirror_mode": {
    "name": "ipython",
    "version": 3
   },
   "file_extension": ".py",
   "mimetype": "text/x-python",
   "name": "python",
   "nbconvert_exporter": "python",
   "pygments_lexer": "ipython3",
   "version": "3.9.13"
  },
  "vscode": {
   "interpreter": {
    "hash": "ba845ae818c285ca2fe9389acfa2d2da9f6f964e42b65478d402ad448a072775"
   }
  }
 },
 "nbformat": 4,
 "nbformat_minor": 5
}
