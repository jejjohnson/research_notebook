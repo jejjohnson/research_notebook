{
 "cells": [
  {
   "cell_type": "markdown",
   "id": "995f62d3-a019-4ae8-b478-99533b2f0cbb",
   "metadata": {},
   "source": [
    "# Kalman Filter (Numpyro) - Object Tracking"
   ]
  },
  {
   "cell_type": "code",
   "execution_count": null,
   "id": "635ea26b-8f35-45d2-b98e-e371bc575601",
   "metadata": {},
   "outputs": [],
   "source": [
    "import sys, os\n",
    "from pyprojroot import here\n",
    "\n",
    "# spyder up to find the root\n",
    "root = here(project_files=[\".here\"])\n",
    "\n",
    "# append to path\n",
    "sys.path.append(str(root))\n",
    "\n",
    "%load_ext autoreload\n",
    "%autoreload 2"
   ]
  },
  {
   "cell_type": "code",
   "execution_count": null,
   "id": "077b75b9-e52d-4dd6-82a0-388c4a15271d",
   "metadata": {},
   "outputs": [],
   "source": [
    "import jax\n",
    "import jax.numpy as jnp\n",
    "import numpy as np\n",
    "from typing import NamedTuple\n",
    "from jax.random import multivariate_normal, split\n",
    "from tqdm.notebook import tqdm, trange\n",
    "from jax.random import multivariate_normal\n",
    "from tensorflow_probability.substrates import jax as tfp\n",
    "\n",
    "tfd = tfp.distributions\n",
    "import jaxkf._src.lgssm as lgssm\n",
    "\n",
    "\n",
    "import matplotlib.pyplot as plt"
   ]
  },
  {
   "cell_type": "markdown",
   "id": "803a8c06-5d3e-4d24-bb91-9bf6ae7676bf",
   "metadata": {},
   "source": [
    "## Simulating Data"
   ]
  },
  {
   "cell_type": "markdown",
   "id": "36a7e4f8-f48e-45ca-a097-9ccf1b16233d",
   "metadata": {},
   "source": [
    "### State Transition Dynamics\n",
    "\n",
    "We assume that we can fully describe the state when we have the `(x,y)` coordinates of the position and the `(x,y)` velocity. So we can write this as:\n",
    "\n",
    "$$\n",
    "\\mathbf{z}_t = \n",
    "\\begin{bmatrix}\n",
    "z_t^1 \\\\ z_t^2 \\\\ \\dot{z}_t^1 \\\\ \\dot{z}_t^2\n",
    "\\end{bmatrix}\n",
    "$$\n",
    "\n",
    "\n",
    "where $z_t^d$ is the coordinate of the position and $\\dot{z}^d$ is the velocity. \n",
    "\n",
    "We can describe the dynamics of the system using the following system of equations:\n",
    "\n",
    "$$\n",
    "\\begin{aligned}\n",
    "z_t^1 &= z_{t-1}^1 + \\Delta_t \\dot{z}_t^1 + \\epsilon_t^1 \\\\\n",
    "z_t^2 &= z_{t-1}^2 + \\Delta_t \\dot{z}_t^2 + \\epsilon_t^2 \\\\\n",
    "\\dot{z}_t^1 &= \\dot{z}_{t-1}^1 + \\epsilon_t^3 \\\\\n",
    "\\dot{z}_t^2 &= \\dot{z}_{t-1}^2 + \\epsilon_t^4 \\\\\n",
    "\\end{aligned}\n",
    "$$\n",
    "\n",
    "This is a very simple formulation which takes a first order approximation to the change in position based on speed and we also assume constant velocity. Note, we also include some noise because we assume that some of the dynamics are noisy, i.e. there are random acceleration and position changes in the model. \n",
    "\n",
    "\n",
    "We can also put this into matrix formulation like so:\n",
    "\n",
    "$$\n",
    "\\mathbf{z}_t = \\mathbf{A}_t \\mathbf{z}_{t-1} + \\boldsymbol{\\epsilon}_t\n",
    "$$\n",
    "\n",
    "where:\n",
    "\n",
    "$$\n",
    "\\mathbf{A}_t = \n",
    "\\begin{bmatrix}\n",
    "1 & 0 & \\Delta_t & 0 \\\\\n",
    "0 & 1 & 0 & \\Delta_t \\\\\n",
    "0 & 0 & 1 & 0 \\\\\n",
    "0 & 0 & 0 & 1 \\\\\n",
    "\\end{bmatrix}, \\;\\; \\mathbf{A}_t \\in \\mathbb{R}^{4\\times 4}\n",
    "$$\n"
   ]
  },
  {
   "cell_type": "markdown",
   "id": "8f0015e0-f32f-4067-a5c9-07c439201555",
   "metadata": {},
   "source": [
    "---\n",
    "### Emissions Model\n",
    "\n",
    "We can only fully observe the locations (not the velocities). So this will be a lower dimensional vector of size 2-D. The system of equations are as follows:\n",
    "\n",
    "$$\n",
    "\\begin{aligned}\n",
    "x_t^1 &= z_t^1 + \\delta_t^1 \\\\\n",
    "x_t^2 &= z_t^2 + \\delta_t^2 \\\\\n",
    "\\end{aligned}\n",
    "$$\n",
    "\n",
    "This is a very simple model where we assume we can extract the direct positions (plus some noise) from the state.\n",
    "\n",
    "We can write this in an abbreviated matrix formulation:\n",
    "\n",
    "$$\n",
    "\\mathbf{x}_t = \\mathbf{C}_t \\mathbf{z}_t + \\delta_t\n",
    "$$\n",
    "\n",
    "where:\n",
    "\n",
    "$$\n",
    "\\mathbf{C}_t = \n",
    "\\begin{bmatrix}\n",
    "1 & 0 & 0 & 0 \\\\\n",
    "0 & 1 & 0 & 0 \\\\\n",
    "\\end{bmatrix}, \\;\\; \\mathbf{C}_t \\in \\mathbb{R}^{2 \\times 4}\n",
    "$$"
   ]
  },
  {
   "cell_type": "markdown",
   "id": "2bfc4428-027e-4d8e-8460-e5bcddcf5f09",
   "metadata": {},
   "source": [
    "## Model\n",
    "\n",
    "* [x] Modeling Noises Only\n",
    "* [x] Modeling States/Observations\n",
    "* [ ] Using Conditioning Notation\n",
    "* [x] Using Plate Notation"
   ]
  },
  {
   "cell_type": "code",
   "execution_count": null,
   "id": "385e2f6b-6cbd-41c4-b6f3-d56b629e2ab4",
   "metadata": {},
   "outputs": [],
   "source": [
    "import numpyro\n",
    "import numpyro.distributions as dist\n",
    "from numpyro.contrib.control_flow import scan\n",
    "from numpyro import diagnostics, infer"
   ]
  },
  {
   "cell_type": "code",
   "execution_count": null,
   "id": "070f89cc-ed9b-437c-93a9-d5347a31146f",
   "metadata": {},
   "outputs": [],
   "source": [
    "def simulated_kalman_filter(\n",
    "    trans_mat: jnp.ndarray,\n",
    "    trans_noise_cov: jnp.ndarray,\n",
    "    emiss_mat: jnp.ndarray,\n",
    "    emiss_noise_cov: jnp.ndarray,\n",
    "    mu0: jnp.ndarray,\n",
    "    Sigma0: jnp.ndarray,\n",
    "    time_steps: int = 100,\n",
    "    x_obs: jnp.ndarray = None,\n",
    "    batch: int = 1,\n",
    "    x_obs_mask: jnp.ndarray = None,\n",
    "):\n",
    "    if x_obs is not None:\n",
    "        batch, time_steps, n_dims = x_obs.shape\n",
    "        x_obs = jnp.swapaxes(x_obs, 0, 1)\n",
    "\n",
    "    # Transition Functions\n",
    "    trans_mat = numpyro.deterministic(\"trans_mat\", trans_mat)\n",
    "    trans_noise_cov = numpyro.deterministic(\"trans_noise_cov\", trans_mat)\n",
    "\n",
    "    # Emission Functions\n",
    "    emiss_mat = numpyro.deterministic(\"emiss_mat\", trans_mat)\n",
    "    emiss_noise_cov = numpyro.deterministic(\"emiss_noise_cov\", trans_mat)\n",
    "\n",
    "    # ==================\n",
    "    # sample from prior\n",
    "    # ==================\n",
    "    prior_dist = dist.MultivariateNormal(mu0, Sigma0)\n",
    "\n",
    "    z0 = numpyro.sample(\"z0\", prior_dist, sample_shape=(batch,))\n",
    "\n",
    "    # print(\"Prior:\", z0.shape)\n",
    "\n",
    "    fn_vec_dot = jax.vmap(jnp.dot, in_axes=(None, 0))\n",
    "\n",
    "    # ==================\n",
    "    # Model\n",
    "    # ==================\n",
    "    def body(z_prev, x_prev):\n",
    "\n",
    "        # transition\n",
    "        with numpyro.plate(\"batches\", batch, dim=-1):\n",
    "            # print(\"Trans Mult:\", z_prev.shape, trans_mat.shape)\n",
    "            z = fn_vec_dot(trans_mat, z_prev)\n",
    "            # print(\"Z Before:\", z.shape)\n",
    "            z = numpyro.sample(\"z\", dist.MultivariateNormal(z, trans_noise_cov))\n",
    "            # print(\"Z After:\", z.shape)\n",
    "            # emission\n",
    "            # print(\"Emiss Mult:\", z.shape, emiss_mat.shape)\n",
    "            x = fn_vec_dot(emiss_mat, z)\n",
    "            # if x_prev is not None:\n",
    "            #     print(\"X Before:\", x.shape, x_prev.shape)\n",
    "            # else:\n",
    "            #     print(\"X Before:\", x.shape)\n",
    "            x = numpyro.sample(\n",
    "                \"x\", dist.MultivariateNormal(x, emiss_noise_cov), obs=x_prev\n",
    "            )\n",
    "            # print(\"X After:\", x.shape)\n",
    "        return z, (z, x)\n",
    "\n",
    "    # create function\n",
    "    fn = lambda states, x_obs: scan(body, states, x_obs, length=time_steps)\n",
    "\n",
    "    # loop through data\n",
    "    _, (z, x) = scan(body, z0, x_obs, length=time_steps)\n",
    "\n",
    "    return z, x"
   ]
  },
  {
   "cell_type": "code",
   "execution_count": null,
   "id": "a453ca3b-a966-4dac-87af-927b534ffaf3",
   "metadata": {},
   "outputs": [],
   "source": [
    "# init prior dist\n",
    "mu0 = jnp.array([8.0, 5.0, 1.0, 0.0])\n",
    "Sigma0 = 1e-5 * jnp.eye(4)\n",
    "\n",
    "prior_dist = dist.MultivariateNormal(mu0, Sigma0)\n",
    "\n",
    "# =================\n",
    "# transition model\n",
    "# =================\n",
    "state_dim = 4\n",
    "dt = 0.1\n",
    "step_std = 0.1\n",
    "\n",
    "trans_mat = jnp.eye(4) + dt * jnp.eye(4, k=2)\n",
    "trans_noise_cov = step_std**2 * jnp.eye(state_dim)\n",
    "trans_noise = dist.MultivariateNormal(jnp.zeros(state_dim), trans_noise_cov)\n",
    "\n",
    "# =================\n",
    "# emission model\n",
    "# =================\n",
    "noise_std = 0.02\n",
    "obs_dim = 2\n",
    "\n",
    "emiss_mat = jnp.eye(N=2, M=4)\n",
    "emiss_noise_cov = noise_std**2 * jnp.eye(obs_dim)\n",
    "emiss_noise = dist.MultivariateNormal(jnp.zeros(obs_dim), emiss_noise_cov)"
   ]
  },
  {
   "cell_type": "code",
   "execution_count": null,
   "id": "65d4512e-251e-4fa7-a892-9b3336674db9",
   "metadata": {},
   "outputs": [],
   "source": [
    "# # Inference\n",
    "# kernel = infer.NUTS(simulated_kalman_filter)\n",
    "# mcmc = infer.MCMC(kernel, num_warmup=100, num_samples=100)\n",
    "# mcmc.run(rng_key_infer,\n",
    "#     trans_mat=trans_mat, trans_noise_cov=trans_noise_cov,\n",
    "#     emiss_mat=emiss_mat, emiss_noise_cov=emiss_noise_cov,\n",
    "#     mu0=mu0, Sigma0=Sigma0,\n",
    "#     time_steps=time_steps,\n",
    "#     x_obs=x_s,\n",
    "#     batch=0)\n",
    "# posterior_samples = mcmc.get_samples()"
   ]
  },
  {
   "cell_type": "markdown",
   "id": "07564527-c02a-4cb8-8b68-80ef5edb0fab",
   "metadata": {},
   "source": [
    "#### Prior Samples (Propagate)"
   ]
  },
  {
   "cell_type": "code",
   "execution_count": null,
   "id": "0e57ba2a-05e3-4556-9f64-b19d7915c18f",
   "metadata": {},
   "outputs": [],
   "source": [
    "time_steps = 80\n",
    "batch = 5\n",
    "\n",
    "with numpyro.handlers.seed(rng_seed=123):\n",
    "    z_samples_prior, x_samples_prior = simulated_kalman_filter(\n",
    "        trans_mat=trans_mat,\n",
    "        trans_noise_cov=trans_noise_cov,\n",
    "        emiss_mat=emiss_mat,\n",
    "        emiss_noise_cov=emiss_noise_cov,\n",
    "        mu0=mu0,\n",
    "        Sigma0=Sigma0,\n",
    "        time_steps=time_steps,\n",
    "        x_obs=None,\n",
    "        batch=batch,\n",
    "    )\n",
    "# np.testing.assert_array_almost_equal(x_s, x_s_)\n",
    "# np.testing.assert_array_almost_equal(z_s, z_s_)\n",
    "z_samples_prior.shape, x_samples_prior.shape"
   ]
  },
  {
   "cell_type": "code",
   "execution_count": null,
   "id": "64495811-36cd-4bcd-b85e-36f8ba414a7f",
   "metadata": {},
   "outputs": [],
   "source": [
    "fig, ax = plt.subplots()\n",
    "\n",
    "n_time_steps, n_samples, n_dims = x_samples_prior.shape\n",
    "\n",
    "for i_sample in range(n_samples):\n",
    "    ax.plot(\n",
    "        z_samples_prior[..., i_sample, 0],\n",
    "        z_samples_prior[..., i_sample, 1],\n",
    "        color=\"black\",\n",
    "        label=\"True State\",\n",
    "    )\n",
    "    # ax.plot(x_s[..., 0], x_s[..., 1], color=\"tab:red\", linestyle=\"--\", label=\"Noisy Latent\")\n",
    "    ax.scatter(\n",
    "        x_samples_prior[..., i_sample, 0],\n",
    "        x_samples_prior[..., i_sample, 1],\n",
    "        label=\"Measurements\",\n",
    "        color=\"red\",\n",
    "        alpha=0.5,\n",
    "    )\n",
    "    break\n",
    "ax.set(xlabel=\"x-position\", ylabel=\"y-position\")\n",
    "plt.legend()\n",
    "plt.show()"
   ]
  },
  {
   "cell_type": "markdown",
   "id": "38b922eb-a612-4018-aa42-1d013ee98cda",
   "metadata": {},
   "source": [
    "#### Prior Samples (Predictive)"
   ]
  },
  {
   "cell_type": "code",
   "execution_count": null,
   "id": "af18ae47-b586-4d81-8f9a-a28ef0700217",
   "metadata": {},
   "outputs": [],
   "source": [
    "time_steps = 80\n",
    "batch = 1\n",
    "num_samples = 5\n",
    "rng_key_prior = jax.random.PRNGKey(42)\n",
    "# prior\n",
    "predictive = infer.Predictive(simulated_kalman_filter, num_samples=num_samples)\n",
    "prior_samples = predictive(\n",
    "    rng_key_prior,\n",
    "    trans_mat=trans_mat,\n",
    "    trans_noise_cov=trans_noise_cov,\n",
    "    emiss_mat=emiss_mat,\n",
    "    emiss_noise_cov=emiss_noise_cov,\n",
    "    mu0=mu0,\n",
    "    Sigma0=Sigma0,\n",
    "    time_steps=time_steps,\n",
    "    x_obs=None,\n",
    "    batch=batch,\n",
    ")"
   ]
  },
  {
   "cell_type": "code",
   "execution_count": null,
   "id": "f9ef0fbf-a8a2-4b65-9931-a935182d67e9",
   "metadata": {},
   "outputs": [],
   "source": [
    "[posterior_samples.keys()]"
   ]
  },
  {
   "cell_type": "code",
   "execution_count": null,
   "id": "5261f732-a1ef-4171-8b31-a953b2817b4f",
   "metadata": {},
   "outputs": [],
   "source": [
    "fn = lambda: simulated_kalman_filter(\n",
    "    trans_mat=trans_mat,\n",
    "    trans_noise_cov=trans_noise_cov,\n",
    "    emiss_mat=emiss_mat,\n",
    "    emiss_noise_cov=emiss_noise_cov,\n",
    "    mu0=mu0,\n",
    "    Sigma0=Sigma0,\n",
    "    x_obs=x_obs,\n",
    ")\n",
    "\n",
    "ll = numpyro.infer.util.log_likelihood(fn, posterior_samples)"
   ]
  },
  {
   "cell_type": "code",
   "execution_count": null,
   "id": "d56142c7-08ae-42ca-880b-5818996abb23",
   "metadata": {},
   "outputs": [],
   "source": [
    "[ll.keys()]"
   ]
  },
  {
   "cell_type": "code",
   "execution_count": null,
   "id": "c3e679db-270f-49c9-add9-cc8a081f6103",
   "metadata": {},
   "outputs": [],
   "source": [
    "ll[\"x\"].shape"
   ]
  },
  {
   "cell_type": "code",
   "execution_count": null,
   "id": "9e42e486-939d-4d6e-bf62-d02e928d290c",
   "metadata": {},
   "outputs": [],
   "source": [
    "fig, ax = plt.subplots()\n",
    "\n",
    "\n",
    "z_s_samples = prior_samples[\"z\"].squeeze()\n",
    "x_s_samples = prior_samples[\"x\"].squeeze()\n",
    "\n",
    "n_time_steps, n_samples, n_dims = z_s_samples.shape\n",
    "\n",
    "for i_sample in range(num_samples):\n",
    "    ax.plot(\n",
    "        z_s_samples[i_sample, ..., 0],\n",
    "        z_s_samples[i_sample, ..., 1],\n",
    "        color=\"black\",\n",
    "        label=\"True State\",\n",
    "    )\n",
    "    # ax.plot(x_s[..., 0], x_s[..., 1], color=\"tab:red\", linestyle=\"--\", label=\"Noisy Latent\")\n",
    "    ax.scatter(\n",
    "        x_s_samples[i_sample, ..., 0],\n",
    "        x_s_samples[i_sample, ..., 1],\n",
    "        label=\"Measurements\",\n",
    "        color=\"red\",\n",
    "        alpha=0.5,\n",
    "    )\n",
    "    break\n",
    "ax.set(xlabel=\"x-position\", ylabel=\"y-position\")\n",
    "plt.legend()\n",
    "plt.show()"
   ]
  },
  {
   "cell_type": "markdown",
   "id": "01cefa59-6a12-43ea-86ec-6401e70c35aa",
   "metadata": {},
   "source": [
    "## Inference"
   ]
  },
  {
   "cell_type": "markdown",
   "id": "442c03a9-06e7-4885-8c5f-316544ca0495",
   "metadata": {},
   "source": [
    "### MCMC"
   ]
  },
  {
   "cell_type": "code",
   "execution_count": null,
   "id": "5a60176b-31c5-419c-9d73-07d994c7f04b",
   "metadata": {},
   "outputs": [],
   "source": [
    "from einops import rearrange\n",
    "\n",
    "x_obs = rearrange(x_samples_prior, \"T B D -> B T D\")\n",
    "x_obs.shape"
   ]
  },
  {
   "cell_type": "code",
   "execution_count": null,
   "id": "beb3e14b-4379-47eb-9c70-d7e2469c2126",
   "metadata": {},
   "outputs": [],
   "source": [
    "rng_key_infer = jax.random.PRNGKey(123)\n",
    "\n",
    "# Inference\n",
    "kernel = infer.NUTS(simulated_kalman_filter)\n",
    "mcmc = infer.MCMC(kernel, num_warmup=100, num_samples=100)\n",
    "mcmc.run(\n",
    "    rng_key_infer,\n",
    "    x_obs=x_obs,\n",
    "    trans_mat=trans_mat,\n",
    "    trans_noise_cov=trans_noise_cov,\n",
    "    emiss_mat=emiss_mat,\n",
    "    emiss_noise_cov=emiss_noise_cov,\n",
    "    mu0=mu0,\n",
    "    Sigma0=Sigma0,\n",
    ")\n",
    "posterior_samples = mcmc.get_samples()"
   ]
  },
  {
   "cell_type": "code",
   "execution_count": null,
   "id": "14465a7d-f979-428d-b49e-c1074f559a4b",
   "metadata": {},
   "outputs": [],
   "source": [
    "[posterior_samples.keys()], posterior_samples[\"z\"].shape"
   ]
  },
  {
   "cell_type": "code",
   "execution_count": null,
   "id": "baff221a-b689-4968-9d48-e879b217ba0a",
   "metadata": {},
   "outputs": [],
   "source": [
    "time_steps = 80\n",
    "num_samples = 5\n",
    "\n",
    "# prior\n",
    "predictive = infer.Predictive(\n",
    "    simulated_kalman_filter,\n",
    "    posterior_samples=posterior_samples,\n",
    "    return_sites=[\"x\", \"z\", \"z0\"],\n",
    ")\n",
    "posterior_predictive = predictive(\n",
    "    rng_key_prior,\n",
    "    trans_mat=trans_mat,\n",
    "    trans_noise_cov=trans_noise_cov,\n",
    "    emiss_mat=emiss_mat,\n",
    "    emiss_noise_cov=emiss_noise_cov,\n",
    "    mu0=mu0,\n",
    "    Sigma0=Sigma0,\n",
    "    # x_obs=x_obs\n",
    ")"
   ]
  },
  {
   "cell_type": "code",
   "execution_count": null,
   "id": "58390623-4423-46f9-be4b-7ec54a96fc7e",
   "metadata": {},
   "outputs": [],
   "source": [
    "[posterior_predictive.keys()]"
   ]
  },
  {
   "cell_type": "code",
   "execution_count": null,
   "id": "10f13258-2cf9-41b9-a53d-8089b833708f",
   "metadata": {},
   "outputs": [],
   "source": [
    "fig, ax = plt.subplots()\n",
    "\n",
    "\n",
    "z_s_samples = posterior_predictive[\"z\"]\n",
    "x_s_samples = posterior_predictive[\"x\"]\n",
    "\n",
    "n_time_steps, n_samples, _, n_dims = z_s_samples.shape\n",
    "\n",
    "i_sample = 1\n",
    "for i_sample in range(num_samples):\n",
    "    # ax.plot(z_s_samples[i_sample, ..., 0, 0], z_s_samples[i_sample, ..., 0, 1], color=\"black\", label=\"True State\")\n",
    "    ax.plot(\n",
    "        z_s_samples[i_sample, ..., 0, 0],\n",
    "        z_s_samples[i_sample, ..., 0, 1],\n",
    "        color=\"black\",\n",
    "        label=\"True State\",\n",
    "    )\n",
    "    # ax.plot(x_s[..., 0], x_s[..., 1], color=\"tab:red\", linestyle=\"--\", label=\"Noisy Latent\")\n",
    "    ax.scatter(\n",
    "        x_s_samples[i_sample, ..., 0, 0],\n",
    "        x_s_samples[i_sample, ..., 0, 1],\n",
    "        label=\"Measurements\",\n",
    "        color=\"red\",\n",
    "        alpha=0.5,\n",
    "    )\n",
    "\n",
    "    break\n",
    "ax.set(xlabel=\"x-position\", ylabel=\"y-position\")\n",
    "plt.legend()\n",
    "plt.show()"
   ]
  },
  {
   "cell_type": "markdown",
   "id": "2a8ebcd2-eb94-409f-a6a8-f08b5ad0cbdf",
   "metadata": {},
   "source": [
    "### SVI"
   ]
  },
  {
   "cell_type": "code",
   "execution_count": null,
   "id": "fec61d4b-b119-4d76-81cc-5c14bcd1e967",
   "metadata": {},
   "outputs": [],
   "source": []
  }
 ],
 "metadata": {
  "kernelspec": {
   "display_name": "Python [conda env:miniconda3-jax_gf]",
   "language": "python",
   "name": "conda-env-miniconda3-jax_gf-py"
  },
  "language_info": {
   "codemirror_mode": {
    "name": "ipython",
    "version": 3
   },
   "file_extension": ".py",
   "mimetype": "text/x-python",
   "name": "python",
   "nbconvert_exporter": "python",
   "pygments_lexer": "ipython3",
   "version": "3.9.7"
  }
 },
 "nbformat": 4,
 "nbformat_minor": 5
}
