{
 "cells": [
  {
   "attachments": {},
   "cell_type": "markdown",
   "metadata": {},
   "source": [
    "# 1D Linear Convection"
   ]
  },
  {
   "cell_type": "code",
   "execution_count": null,
   "metadata": {},
   "outputs": [],
   "source": [
    "# !pip install --upgrade jax jaxlib\n",
    "# !pip install jaxtyping diffrax xarray FiniteDiffX jaxdf"
   ]
  },
  {
   "cell_type": "code",
   "execution_count": null,
   "metadata": {},
   "outputs": [],
   "source": [
    "import typing as tp\n",
    "import numpy as np\n",
    "import xarray as xr\n",
    "import jax\n",
    "import jax.numpy as jnp\n",
    "import diffrax as dfx\n",
    "import finitediffx as fdx\n",
    "import matplotlib.pyplot as plt\n",
    "import seaborn as sns\n",
    "from jaxtyping import Float, Array\n",
    "\n",
    "sns.reset_defaults()\n",
    "sns.set_context(context=\"talk\", font_scale=0.7)\n",
    "jax.config.update(\"jax_enable_x64\", True)\n",
    "\n",
    "%matplotlib inline"
   ]
  },
  {
   "attachments": {},
   "cell_type": "markdown",
   "metadata": {},
   "source": [
    "## Problem"
   ]
  },
  {
   "attachments": {},
   "cell_type": "markdown",
   "metadata": {},
   "source": [
    "Let's continue from the previous tutorial. Recall, we are working with a 1D Linear Convection scheme:\n",
    "\n",
    "$$\n",
    "\\frac{\\partial u}{\\partial t} + c \\frac{\\partial u}{\\partial x} = 0\n",
    "$$ (pde)\n",
    "\n",
    "For the PDE {eq}`pde`, we are going to do a backwards difference discretization in space and a forwards in time."
   ]
  },
  {
   "attachments": {},
   "cell_type": "markdown",
   "metadata": {},
   "source": [
    "## Geometry"
   ]
  },
  {
   "attachments": {},
   "cell_type": "markdown",
   "metadata": {},
   "source": [
    "#### JaxDF - API "
   ]
  },
  {
   "cell_type": "code",
   "execution_count": null,
   "metadata": {},
   "outputs": [],
   "source": [
    "from jaxdf.geometry import Domain\n",
    "\n",
    "nx = 51\n",
    "dx = 0.04\n",
    "\n",
    "# initialize domain\n",
    "domain = Domain(N=(nx,), dx=(dx,))\n",
    "\n",
    "print(f\"Size: {domain.size}\")\n",
    "print(f\"nDims: {domain.ndim}\")\n",
    "print(f\"Grid Size: {domain.grid.shape}\")\n",
    "print(f\"Cell Volume: {domain.cell_volume}\")\n",
    "print(f\"dx: {domain.dx}\")\n",
    "print(f\"Type: {type(domain)}\")"
   ]
  },
  {
   "attachments": {},
   "cell_type": "markdown",
   "metadata": {},
   "source": [
    "## Initial Condition"
   ]
  },
  {
   "cell_type": "code",
   "execution_count": null,
   "metadata": {},
   "outputs": [],
   "source": [
    "def init_u0(domain):\n",
    "    \"\"\"Initial condition from grid\"\"\"\n",
    "    u = jnp.ones_like(domain.grid, dtype=jnp.float64)\n",
    "\n",
    "    u = u.at[int(0.5 / domain.dx[0]) : int(1 / domain.dx[0] + 1)].set(2.0)\n",
    "\n",
    "    return u"
   ]
  },
  {
   "cell_type": "code",
   "execution_count": null,
   "metadata": {},
   "outputs": [],
   "source": [
    "u_init = init_u0(domain)\n",
    "\n",
    "print(type(u_init))"
   ]
  },
  {
   "attachments": {},
   "cell_type": "markdown",
   "metadata": {},
   "source": [
    "## Equation of Motion"
   ]
  },
  {
   "attachments": {},
   "cell_type": "markdown",
   "metadata": {},
   "source": [
    "#### `jaxdf` - API"
   ]
  },
  {
   "cell_type": "code",
   "execution_count": null,
   "metadata": {},
   "outputs": [],
   "source": [
    "from jaxdf.discretization import FiniteDifferences, OnGrid\n",
    "from jaxdf.operators import gradient\n",
    "\n",
    "\n",
    "def equation_of_motion(t: Array, u: Array, args: tuple):\n",
    "    c = args\n",
    "    # initialize spatial discretization\n",
    "\n",
    "    u = FiniteDifferences.from_grid(u, domain)\n",
    "\n",
    "    u.accuracy = 2\n",
    "\n",
    "    u_rhs = -c * gradient(u, stagger=[1])\n",
    "\n",
    "    return u_rhs.on_grid"
   ]
  },
  {
   "cell_type": "code",
   "execution_count": null,
   "metadata": {},
   "outputs": [],
   "source": [
    "c = 1.0\n",
    "\n",
    "# initialize grid\n",
    "u_init = init_u0(domain)\n",
    "\n",
    "# RHS of equation of motion\n",
    "out = equation_of_motion(0, u_init, c)"
   ]
  },
  {
   "attachments": {},
   "cell_type": "markdown",
   "metadata": {},
   "source": [
    "#### From Scratch"
   ]
  },
  {
   "cell_type": "code",
   "execution_count": null,
   "metadata": {},
   "outputs": [],
   "source": [
    "from jaxdf.discretization import FiniteDifferences, FourierSeries\n",
    "from jaxdf.operators import gradient\n",
    "\n",
    "\n",
    "def equation_of_motion_scratch(t: Array, u: Array, args: tuple):\n",
    "    c = args\n",
    "\n",
    "    u_rhs = fdx.difference(\n",
    "        u, axis=0, accuracy=1, method=\"backward\", step_size=domain.dx[0]\n",
    "    )\n",
    "\n",
    "    return -c * u_rhs"
   ]
  },
  {
   "cell_type": "code",
   "execution_count": null,
   "metadata": {},
   "outputs": [],
   "source": [
    "# RHS of equation of motion\n",
    "out_scratch = equation_of_motion_scratch(0, u_init, c)"
   ]
  },
  {
   "attachments": {},
   "cell_type": "markdown",
   "metadata": {},
   "source": [
    "#### Custom Difference Operator"
   ]
  },
  {
   "cell_type": "code",
   "execution_count": null,
   "metadata": {},
   "outputs": [],
   "source": [
    "from jaxdf import operator\n",
    "import equinox as eqx\n",
    "from jaxtyping import Float, Array\n",
    "\n",
    "\n",
    "class FDParams(eqx.Module):\n",
    "    axis: int = eqx.static_field()\n",
    "    accuracy: int = eqx.static_field()\n",
    "    method: str = eqx.static_field()\n",
    "\n",
    "    def __init__(self, axis=0, accuracy=1, method=\"backward\"):\n",
    "        self.axis = axis\n",
    "        self.accuracy = accuracy\n",
    "        self.method = method\n",
    "\n",
    "\n",
    "class Field(eqx.Module):\n",
    "    u: Array\n",
    "    domain: Domain\n",
    "\n",
    "\n",
    "@operator\n",
    "def difference(u: OnGrid, *, params: tp.Optional[FDParams] = None):\n",
    "    if params is None:\n",
    "        params = FDParams()\n",
    "\n",
    "    # extract params from grid object\n",
    "    u_values = u.on_grid\n",
    "\n",
    "    # apply custom FD method\n",
    "    u_values = fdx.difference(\n",
    "        u_values,\n",
    "        axis=params.axis,\n",
    "        accuracy=params.accuracy,\n",
    "        method=params.method,\n",
    "        step_size=u.domain.dx[params.axis],\n",
    "    )\n",
    "\n",
    "    # update grid\n",
    "    u = u.replace_params(u_values)\n",
    "\n",
    "    return u, params"
   ]
  },
  {
   "cell_type": "code",
   "execution_count": null,
   "metadata": {},
   "outputs": [],
   "source": [
    "from jaxdf import operator\n",
    "import equinox as eqx\n",
    "from jaxtyping import Float, Array\n",
    "\n",
    "\n",
    "class FDParams(eqx.Module):\n",
    "    axis: int = eqx.static_field()\n",
    "    accuracy: int = eqx.static_field()\n",
    "    method: str = eqx.static_field()\n",
    "\n",
    "    def __init__(self, axis=0, accuracy=1, method=\"backward\"):\n",
    "        self.axis = axis\n",
    "        self.accuracy = accuracy\n",
    "        self.method = method\n",
    "\n",
    "\n",
    "class Field(eqx.Module):\n",
    "    u: Array\n",
    "    domain: Domain\n",
    "\n",
    "    def __init__(self, domain, init_fn: tp.Callable):\n",
    "        self.u = init_fn(domain)\n",
    "        self.domain = domain\n",
    "\n",
    "    @property\n",
    "    def values(self):\n",
    "        return self.u\n",
    "\n",
    "\n",
    "@operator\n",
    "def difference(u: Field, *, params: tp.Optional[FDParams] = None):\n",
    "    if params is None:\n",
    "        params = FDParams()\n",
    "\n",
    "    # apply custom FD method\n",
    "    u_diff = fdx.difference(\n",
    "        u.values,\n",
    "        axis=params.axis,\n",
    "        accuracy=params.accuracy,\n",
    "        method=params.method,\n",
    "        step_size=u.domain.dx[params.axis],\n",
    "    )\n",
    "\n",
    "    # update grid\n",
    "    u = eqx.tree_at(lambda x: x.u, u, u_diff)\n",
    "\n",
    "    return u, params"
   ]
  },
  {
   "cell_type": "code",
   "execution_count": null,
   "metadata": {},
   "outputs": [],
   "source": [
    "# initialize Field\n",
    "u_field = Field(domain, init_u0)\n",
    "\n",
    "# RHS of equation of motion\n",
    "u_rhs = difference(u_field)\n",
    "\n",
    "u_rhs"
   ]
  },
  {
   "cell_type": "code",
   "execution_count": null,
   "metadata": {},
   "outputs": [],
   "source": [
    "params = FDParams(axis=0, accuracy=1, method=\"backward\")\n",
    "\n",
    "u_rhs = difference(u_field, params=params)\n",
    "u_rhs"
   ]
  },
  {
   "cell_type": "code",
   "execution_count": null,
   "metadata": {},
   "outputs": [],
   "source": [
    "def equation_of_motion_custom(t: Array, u: FiniteDifferences, args: tuple):\n",
    "    c = args\n",
    "\n",
    "    # initialize grid\n",
    "    u = OnGrid.from_grid(u, domain)\n",
    "    # u = FourierSeries.from_grid(u, domain)\n",
    "\n",
    "    print(u)\n",
    "\n",
    "    # initialize parameters (OPTIONAL)\n",
    "    params = None  # FDParams()\n",
    "\n",
    "    u_rhs = -c * difference(u, params=params)\n",
    "\n",
    "    return u_rhs.on_grid\n",
    "\n",
    "\n",
    "out_custom = equation_of_motion_custom(0, u_init, c)"
   ]
  },
  {
   "cell_type": "code",
   "execution_count": null,
   "metadata": {},
   "outputs": [],
   "source": [
    "fig, ax = plt.subplots()\n",
    "\n",
    "ax.plot(domain.spatial_axis[0], u_init[..., 0], label=\"Initial Condition\")\n",
    "ax.plot(domain.spatial_axis[0], out[..., 0], label=\"JaxDF\")\n",
    "ax.plot(domain.spatial_axis[0], out_scratch[..., 0], label=\"Scratch\")\n",
    "ax.plot(domain.spatial_axis[0], out_custom[..., 0], label=\"Custom\")\n",
    "\n",
    "plt.legend()\n",
    "plt.show()"
   ]
  },
  {
   "attachments": {},
   "cell_type": "markdown",
   "metadata": {},
   "source": [
    "## Time Stepping"
   ]
  },
  {
   "cell_type": "code",
   "execution_count": null,
   "metadata": {},
   "outputs": [],
   "source": [
    "# temporal parameters\n",
    "c = 1.0\n",
    "sigma = 0.2\n",
    "\n",
    "\n",
    "# CFL condition\n",
    "def cfl_cond(dx, c, sigma):\n",
    "    assert sigma <= 1.0\n",
    "    return (sigma * dx) / c\n",
    "\n",
    "\n",
    "dt = cfl_cond(dx=domain.dx[0], c=c, sigma=sigma)\n",
    "\n",
    "t0 = 0.0\n",
    "t1 = 0.5\n",
    "ts = jnp.arange(t0, t1, dt)\n",
    "saveat = dfx.SaveAt(ts=ts)"
   ]
  },
  {
   "cell_type": "code",
   "execution_count": null,
   "metadata": {},
   "outputs": [],
   "source": [
    "# Euler, Constant StepSize\n",
    "solver = dfx.Euler()\n",
    "stepsize_controller = dfx.ConstantStepSize()\n",
    "\n",
    "integration_fn = lambda u, f: dfx.diffeqsolve(\n",
    "    terms=dfx.ODETerm(f),\n",
    "    solver=solver,\n",
    "    t0=ts.min(),\n",
    "    t1=ts.max(),\n",
    "    dt0=dt,\n",
    "    y0=u,\n",
    "    saveat=saveat,\n",
    "    args=c,\n",
    "    stepsize_controller=stepsize_controller,\n",
    ")\n",
    "\n",
    "sol = integration_fn(u_init, equation_of_motion)\n",
    "sol_scratch = integration_fn(u_init, equation_of_motion_scratch)\n",
    "sol_custom = integration_fn(u_init, equation_of_motion_custom)"
   ]
  },
  {
   "attachments": {},
   "cell_type": "markdown",
   "metadata": {},
   "source": [
    "## Analysis"
   ]
  },
  {
   "cell_type": "code",
   "execution_count": null,
   "metadata": {},
   "outputs": [],
   "source": [
    "da_sol = xr.Dataset(\n",
    "    {\n",
    "        \"jaxdf\": ((\"time\", \"x\"), np.asarray(sol.ys).squeeze()),\n",
    "        \"scratch\": ((\"time\", \"x\"), np.asarray(sol_scratch.ys).squeeze()),\n",
    "        \"custom\": ((\"time\", \"x\"), np.asarray(sol_custom.ys).squeeze()),\n",
    "    },\n",
    "    coords={\n",
    "        \"x\": ([\"x\"], np.asarray(domain.spatial_axis[0])),\n",
    "        \"time\": ([\"time\"], np.asarray(sol.ts)),\n",
    "    },\n",
    "    attrs={\"pde\": \"linear_convection\", \"c\": c, \"sigma\": sigma},\n",
    ")\n",
    "da_sol"
   ]
  },
  {
   "cell_type": "code",
   "execution_count": null,
   "metadata": {},
   "outputs": [],
   "source": [
    "fig, ax = plt.subplots(nrows=3, figsize=(5, 7))\n",
    "\n",
    "da_sol.jaxdf.T.plot.pcolormesh(ax=ax[0], cmap=\"gray_r\")\n",
    "da_sol.scratch.T.plot.pcolormesh(ax=ax[1], cmap=\"gray_r\")\n",
    "da_sol.custom.T.plot.pcolormesh(ax=ax[2], cmap=\"gray_r\")\n",
    "\n",
    "ax[0].set_title(\"JaxDF\")\n",
    "ax[1].set_title(\"Scratch\")\n",
    "ax[2].set_title(\"Custom\")\n",
    "\n",
    "plt.legend()\n",
    "plt.tight_layout()\n",
    "plt.show()"
   ]
  },
  {
   "cell_type": "code",
   "execution_count": null,
   "metadata": {},
   "outputs": [],
   "source": [
    "fig, ax = plt.subplots(nrows=3, figsize=(5, 7))\n",
    "\n",
    "for i in range(0, len(da_sol.time), 5):\n",
    "    da_sol.jaxdf.isel(time=i).plot.line(ax=ax[0], color=\"gray\")\n",
    "    da_sol.scratch.isel(time=i).plot.line(ax=ax[1], color=\"gray\")\n",
    "    da_sol.custom.isel(time=i).plot.line(ax=ax[2], color=\"gray\")\n",
    "\n",
    "plt.show()"
   ]
  }
 ],
 "metadata": {
  "kernelspec": {
   "display_name": "jaxsw",
   "language": "python",
   "name": "python3"
  },
  "language_info": {
   "codemirror_mode": {
    "name": "ipython",
    "version": 3
   },
   "file_extension": ".py",
   "mimetype": "text/x-python",
   "name": "python",
   "nbconvert_exporter": "python",
   "pygments_lexer": "ipython3",
   "version": "3.11.3"
  }
 },
 "nbformat": 4,
 "nbformat_minor": 2
}
