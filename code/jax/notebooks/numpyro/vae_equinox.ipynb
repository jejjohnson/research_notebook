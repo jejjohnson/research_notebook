{
 "cells": [
  {
   "cell_type": "code",
   "execution_count": null,
   "id": "38e7a96f-a43d-40a0-afc9-8f721cb54857",
   "metadata": {},
   "outputs": [],
   "source": [
    "import argparse\n",
    "import inspect\n",
    "import os\n",
    "import time\n",
    "\n",
    "import matplotlib.pyplot as plt\n",
    "\n",
    "import jax.random as jrandom\n",
    "from jax import jit, lax, random\n",
    "from jax.example_libraries import stax\n",
    "import jax.numpy as jnp\n",
    "from jax.random import PRNGKey\n",
    "\n",
    "import numpyro\n",
    "from numpyro import optim\n",
    "import numpyro.distributions as dist\n",
    "from numpyro.examples.datasets import MNIST, load_dataset\n",
    "from numpyro.infer import SVI, Trace_ELBO\n",
    "import equinox as eq"
   ]
  },
  {
   "cell_type": "code",
   "execution_count": null,
   "id": "18bcef71-9ae9-42bb-823d-866c1f5d451b",
   "metadata": {},
   "outputs": [],
   "source": [
    "RESULTS_DIR = \"./results\""
   ]
  },
  {
   "cell_type": "markdown",
   "id": "f115afdf-a415-4f6f-957c-a32d957065c0",
   "metadata": {
    "tags": []
   },
   "source": [
    "## Params"
   ]
  },
  {
   "cell_type": "code",
   "execution_count": null,
   "id": "508d33e3-7653-4bb2-9881-3aaa29148fae",
   "metadata": {},
   "outputs": [],
   "source": [
    "class Args:\n",
    "    hidden_dim: int = 400\n",
    "    num_epochs: int = 15\n",
    "    learning_rate: float = 1e-3\n",
    "    batch_size: int = 128\n",
    "    z_dim: int = 50\n",
    "\n",
    "\n",
    "args = Args()"
   ]
  },
  {
   "cell_type": "markdown",
   "id": "c0114a74-5c61-44c6-869c-78312c4fd7a6",
   "metadata": {},
   "source": [
    "## Data"
   ]
  },
  {
   "cell_type": "code",
   "execution_count": null,
   "id": "bc860975-d4e1-4696-b847-fbcb17c55259",
   "metadata": {},
   "outputs": [],
   "source": [
    "rng_key = PRNGKey(0)\n",
    "train_init, train_fetch = load_dataset(MNIST, batch_size=args.batch_size, split=\"train\")\n",
    "test_init, test_fetch = load_dataset(MNIST, batch_size=args.batch_size, split=\"test\")"
   ]
  },
  {
   "cell_type": "code",
   "execution_count": null,
   "id": "b9c54f0e-2c1a-41f9-b63f-59cc555c11f0",
   "metadata": {},
   "outputs": [],
   "source": [
    "@jit\n",
    "def binarize(rng_key, batch):\n",
    "    return random.bernoulli(rng_key, batch).astype(batch.dtype)"
   ]
  },
  {
   "cell_type": "code",
   "execution_count": null,
   "id": "25672cae-46aa-4858-9b69-fdf7a69d91bd",
   "metadata": {},
   "outputs": [],
   "source": [
    "num_train, train_idx = train_init()\n",
    "rng_key, rng_key_binarize, rng_key_init, rng_key_latent = random.split(rng_key, 4)\n",
    "sample_batch = binarize(rng_key_binarize, train_fetch(0, train_idx)[0])"
   ]
  },
  {
   "cell_type": "markdown",
   "id": "3f8ef71f-804e-4ad0-b82e-8198ab0d3d35",
   "metadata": {},
   "source": [
    "## Background - Stax"
   ]
  },
  {
   "cell_type": "markdown",
   "id": "efbcd93f-a36b-4005-9e17-fa9b77ae6ca0",
   "metadata": {},
   "source": [
    "### Encoder"
   ]
  },
  {
   "cell_type": "code",
   "execution_count": null,
   "id": "712340c9-985d-47cb-8efa-a50ab1e96187",
   "metadata": {},
   "outputs": [],
   "source": [
    "class Encoder(eq.Module):\n",
    "    hidden_dim = eq.static_field()\n",
    "    \n",
    "    def __init__(self, hidden_dim):\n",
    "        "
   ]
  },
  {
   "cell_type": "code",
   "execution_count": null,
   "id": "f0067116-6ac0-44d2-8ded-6852ab7652d6",
   "metadata": {},
   "outputs": [],
   "source": [
    "def encoder(hidden_dim, z_dim):\n",
    "    return stax.serial(\n",
    "        stax.Dense(hidden_dim, W_init=stax.randn()),\n",
    "        stax.Softplus,\n",
    "        stax.FanOut(2),\n",
    "        stax.parallel(\n",
    "            stax.Dense(z_dim, W_init=stax.randn()),\n",
    "            stax.serial(stax.Dense(z_dim, W_init=stax.randn()), stax.Exp),\n",
    "        ),\n",
    "    )"
   ]
  },
  {
   "cell_type": "code",
   "execution_count": null,
   "id": "03c9cbd4-dcb5-42d6-afc9-d74d4bb3d194",
   "metadata": {},
   "outputs": [],
   "source": [
    "encoder_nn = encoder(args.hidden_dim, args.z_dim)"
   ]
  },
  {
   "cell_type": "code",
   "execution_count": null,
   "id": "001542ed-3a58-4750-a35a-09cf8ffa430d",
   "metadata": {},
   "outputs": [],
   "source": [
    "sample_batch.shape"
   ]
  },
  {
   "cell_type": "code",
   "execution_count": null,
   "id": "13cf7edb-6afd-411b-9af7-3fa3bc987d84",
   "metadata": {},
   "outputs": [],
   "source": [
    "jax.random.normal()"
   ]
  },
  {
   "cell_type": "code",
   "execution_count": null,
   "id": "28c4105a-74fb-488d-878d-f73d1cecb422",
   "metadata": {},
   "outputs": [],
   "source": [
    "sample_latent = jrandom.normal(rng_key_latent, shape=(args.batch_size, args.z_dim))\n",
    "in_shape = sample_latent.shape\n",
    "\n",
    "# init functions\n",
    "out_shape, params = encoder_nn[0](rng_key_init, in_shape)\n",
    "\n",
    "# apply function\n",
    "x_out = encoder_nn[1](params, sample_latent)"
   ]
  },
  {
   "cell_type": "code",
   "execution_count": null,
   "id": "f9366e18-a86d-45de-9047-35d40151c2a1",
   "metadata": {},
   "outputs": [],
   "source": [
    "x_out"
   ]
  },
  {
   "cell_type": "code",
   "execution_count": null,
   "id": "ff8f5a50-43a7-4230-b32e-f697eca6e029",
   "metadata": {},
   "outputs": [],
   "source": [
    "out_shape"
   ]
  },
  {
   "cell_type": "markdown",
   "id": "d5ae774e-b7eb-497d-9baf-ab69f29b1185",
   "metadata": {},
   "source": [
    "### Decoder"
   ]
  },
  {
   "cell_type": "code",
   "execution_count": null,
   "id": "b835f06b-b9f7-4f12-a1dc-2939a6a34baa",
   "metadata": {},
   "outputs": [],
   "source": [
    "def decoder(hidden_dim, out_dim):\n",
    "    return stax.serial(\n",
    "        stax.Dense(hidden_dim, W_init=stax.randn()),\n",
    "        stax.Softplus,\n",
    "        stax.Dense(out_dim, W_init=stax.randn()),\n",
    "        stax.Sigmoid,\n",
    "    )"
   ]
  },
  {
   "cell_type": "code",
   "execution_count": null,
   "id": "aca890fb-a1e3-44d9-8fab-428d34fe6186",
   "metadata": {},
   "outputs": [],
   "source": [
    "batch = jnp.reshape(sample_batch, (sample_batch.shape[0], -1))\n",
    "batch.shape"
   ]
  },
  {
   "cell_type": "markdown",
   "id": "9714e90a-d0e7-4db5-8421-ce62f6fc539e",
   "metadata": {},
   "source": [
    "## Numpyro Model"
   ]
  },
  {
   "cell_type": "code",
   "execution_count": null,
   "id": "aeb1fb72-7fbb-4b33-84ab-8d7c1d6dc700",
   "metadata": {},
   "outputs": [],
   "source": [
    "def model(batch, hidden_dim=400, z_dim=100):\n",
    "    batch = jnp.reshape(batch, (batch.shape[0], -1))\n",
    "    batch_dim, out_dim = jnp.shape(batch)\n",
    "    decode = numpyro.module(\"decoder\", decoder(hidden_dim, out_dim), (batch_dim, z_dim))\n",
    "    with numpyro.plate(\"batch\", batch_dim):\n",
    "        z = numpyro.sample(\"z\", dist.Normal(0, 1).expand([z_dim]).to_event(1))\n",
    "        img_loc = decode(z)\n",
    "        return numpyro.sample(\"obs\", dist.Bernoulli(img_loc).to_event(1), obs=batch)"
   ]
  },
  {
   "cell_type": "markdown",
   "id": "951b8b7a-a5fd-4bb7-b1f0-ecc4fe1e6285",
   "metadata": {},
   "source": [
    "### Numpyro Guide"
   ]
  },
  {
   "cell_type": "code",
   "execution_count": null,
   "id": "a9d1d5ce-3d3a-4c73-9360-ac50f3a42476",
   "metadata": {},
   "outputs": [],
   "source": [
    "def guide(batch, hidden_dim=400, z_dim=100):\n",
    "    batch = jnp.reshape(batch, (batch.shape[0], -1))\n",
    "    batch_dim, out_dim = jnp.shape(batch)\n",
    "    encode = numpyro.module(\"encoder\", encoder(hidden_dim, z_dim), (batch_dim, out_dim))\n",
    "    z_loc, z_std = encode(batch)\n",
    "    with numpyro.plate(\"batch\", batch_dim):\n",
    "        return numpyro.sample(\"z\", dist.Normal(z_loc, z_std).to_event(1))"
   ]
  },
  {
   "cell_type": "code",
   "execution_count": null,
   "id": "3137d76b-9798-42cf-988a-40384ad8179c",
   "metadata": {},
   "outputs": [],
   "source": []
  },
  {
   "cell_type": "markdown",
   "id": "023beb6b-4dc3-4aaf-b8d8-e337c7dc4ca6",
   "metadata": {},
   "source": [
    "## Training"
   ]
  },
  {
   "cell_type": "markdown",
   "id": "c87f13fb-b0e4-4800-ba57-4fdc3796740d",
   "metadata": {},
   "source": [
    "### Data"
   ]
  },
  {
   "cell_type": "code",
   "execution_count": null,
   "id": "1eb49702-399e-48e9-8d8b-e06cfb508af4",
   "metadata": {},
   "outputs": [],
   "source": [
    "encoder_nn = encoder(args.hidden_dim, args.z_dim)\n",
    "decoder_nn = decoder(args.hidden_dim, 28 * 28)"
   ]
  },
  {
   "cell_type": "code",
   "execution_count": null,
   "id": "d2275c4e-3555-4a42-8f19-ba34cb50f460",
   "metadata": {},
   "outputs": [],
   "source": [
    "adam = optim.Adam(args.learning_rate)\n",
    "svi = SVI(\n",
    "    model, guide, adam, Trace_ELBO(), hidden_dim=args.hidden_dim, z_dim=args.z_dim\n",
    ")"
   ]
  },
  {
   "cell_type": "code",
   "execution_count": null,
   "id": "7ea14791-7c06-4c9e-aaad-79bbaa933c68",
   "metadata": {},
   "outputs": [],
   "source": [
    "svi_state = svi.init(rng_key_init, sample_batch)"
   ]
  },
  {
   "cell_type": "code",
   "execution_count": null,
   "id": "53e67e8c-1931-4fe6-8a4b-1118f65c10fe",
   "metadata": {},
   "outputs": [],
   "source": [
    "@jit\n",
    "def epoch_train(svi_state, rng_key, train_idx):\n",
    "    def body_fn(i, val):\n",
    "        loss_sum, svi_state = val\n",
    "        rng_key_binarize = random.fold_in(rng_key, i)\n",
    "        batch = binarize(rng_key_binarize, train_fetch(i, train_idx)[0])\n",
    "        svi_state, loss = svi.update(svi_state, batch)\n",
    "        loss_sum += loss\n",
    "        return loss_sum, svi_state\n",
    "\n",
    "    return lax.fori_loop(0, num_train, body_fn, (0.0, svi_state))"
   ]
  },
  {
   "cell_type": "code",
   "execution_count": null,
   "id": "128f312f-bcd1-418a-ac8c-5f966270d481",
   "metadata": {},
   "outputs": [],
   "source": [
    "@jit\n",
    "def eval_test(svi_state, rng_key, test_idx):\n",
    "    def body_fun(i, loss_sum):\n",
    "        rng_key_binarize = random.fold_in(rng_key, i)\n",
    "        batch = binarize(rng_key_binarize, test_fetch(i, test_idx)[0])\n",
    "        # FIXME: does this lead to a requirement for an rng_key arg in svi_eval?\n",
    "        loss = svi.evaluate(svi_state, batch) / len(batch)\n",
    "        loss_sum += loss\n",
    "        return loss_sum\n",
    "\n",
    "    loss = lax.fori_loop(0, num_test, body_fun, 0.0)\n",
    "    loss = loss / num_test\n",
    "    return loss"
   ]
  },
  {
   "cell_type": "code",
   "execution_count": null,
   "id": "b4f20840-7525-4458-839b-96f007970e9e",
   "metadata": {},
   "outputs": [],
   "source": [
    "def reconstruct_img(epoch, rng_key):\n",
    "    img = test_fetch(0, test_idx)[0][0]\n",
    "    plt.imsave(\n",
    "        os.path.join(RESULTS_DIR, \"original_epoch={}.png\".format(epoch)),\n",
    "        img,\n",
    "        cmap=\"gray\",\n",
    "    )\n",
    "    rng_key_binarize, rng_key_sample = random.split(rng_key)\n",
    "    test_sample = binarize(rng_key_binarize, img)\n",
    "    params = svi.get_params(svi_state)\n",
    "    z_mean, z_var = encoder_nn[1](\n",
    "        params[\"encoder$params\"], test_sample.reshape([1, -1])\n",
    "    )\n",
    "    z = dist.Normal(z_mean, z_var).sample(rng_key_sample)\n",
    "    img_loc = decoder_nn[1](params[\"decoder$params\"], z).reshape([28, 28])\n",
    "    plt.imsave(\n",
    "        os.path.join(RESULTS_DIR, \"recons_epoch={}.png\".format(epoch)),\n",
    "        img_loc,\n",
    "        cmap=\"gray\",\n",
    "    )"
   ]
  },
  {
   "cell_type": "code",
   "execution_count": null,
   "id": "724ebbc9-4aac-442e-a468-12fe4cecdd01",
   "metadata": {},
   "outputs": [],
   "source": [
    "for i in range(args.num_epochs):\n",
    "    rng_key, rng_key_train, rng_key_test, rng_key_reconstruct = random.split(rng_key, 4)\n",
    "    t_start = time.time()\n",
    "    num_train, train_idx = train_init()\n",
    "    _, svi_state = epoch_train(svi_state, rng_key_train, train_idx)\n",
    "    rng_key, rng_key_test, rng_key_reconstruct = random.split(rng_key, 3)\n",
    "    num_test, test_idx = test_init()\n",
    "    test_loss = eval_test(svi_state, rng_key_test, test_idx)\n",
    "    reconstruct_img(i, rng_key_reconstruct)\n",
    "    print(\"Epoch {}: loss = {} ({:.2f} s.)\".format(i, test_loss, time.time() - t_start))"
   ]
  },
  {
   "cell_type": "code",
   "execution_count": null,
   "id": "c02f0e3a-14d2-4c6f-9191-08635f27d406",
   "metadata": {},
   "outputs": [],
   "source": []
  }
 ],
 "metadata": {
  "kernelspec": {
   "display_name": "Python [conda env:jax_py39]",
   "language": "python",
   "name": "conda-env-jax_py39-py"
  },
  "language_info": {
   "codemirror_mode": {
    "name": "ipython",
    "version": 3
   },
   "file_extension": ".py",
   "mimetype": "text/x-python",
   "name": "python",
   "nbconvert_exporter": "python",
   "pygments_lexer": "ipython3",
   "version": "3.9.13"
  }
 },
 "nbformat": 4,
 "nbformat_minor": 5
}
