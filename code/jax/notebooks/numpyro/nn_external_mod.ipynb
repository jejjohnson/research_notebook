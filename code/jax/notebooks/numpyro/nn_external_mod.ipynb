{
 "cells": [
  {
   "cell_type": "markdown",
   "id": "5043d01d-6e2c-4365-a9ca-41f464d3decb",
   "metadata": {},
   "source": [
    "# NN with Numpyro\n",
    "\n",
    "* `stax`\n",
    "* `flax`\n",
    "* `haiku`\n",
    "* `equinox`"
   ]
  },
  {
   "cell_type": "code",
   "execution_count": null,
   "id": "1f8ace2f-9c7a-4ee5-82b9-9c1aa842223e",
   "metadata": {},
   "outputs": [],
   "source": [
    "import numpy as np\n",
    "\n",
    "np.random.seed(0)\n",
    "\n",
    "import tqdm\n",
    "\n",
    "from flax import linen as nn\n",
    "\n",
    "from jax import jit, random\n",
    "\n",
    "import numpyro\n",
    "\n",
    "import numpyro.distributions as dist\n",
    "\n",
    "from numpyro.contrib.module import random_flax_module, flax_module\n",
    "\n",
    "from numpyro.infer import (\n",
    "    Predictive,\n",
    "    SVI,\n",
    "    TraceMeanField_ELBO,\n",
    "    autoguide,\n",
    "    init_to_feasible,\n",
    ")\n",
    "\n",
    "import matplotlib.pyplot as plt\n",
    "\n",
    "%matplotlib inline"
   ]
  },
  {
   "cell_type": "code",
   "execution_count": null,
   "id": "7da4c263-2683-45e9-aafc-aff79ebd9a05",
   "metadata": {},
   "outputs": [],
   "source": [
    "def generate_data(n_samples: int = 100, latent: bool = False, sigma: float = 0.01):\n",
    "\n",
    "    if not latent:\n",
    "        x = 2.5 * np.random.normal(size=n_samples)\n",
    "        y = np.sin(x) / x + sigma * np.random.normal(size=n_samples)\n",
    "    else:\n",
    "        x = 5.5 * np.random.normal(size=n_samples)\n",
    "        x = np.sort(x)\n",
    "        y = np.sin(x) / x\n",
    "\n",
    "    return x[:, None], y[:, None]"
   ]
  },
  {
   "cell_type": "code",
   "execution_count": null,
   "id": "4ff21900-a579-4c42-a233-47fbf36bc293",
   "metadata": {},
   "outputs": [],
   "source": [
    "n_train_data = 1_000\n",
    "n_test_data = 50\n",
    "n_plot_data = 5_000\n",
    "\n",
    "x_train, y_train = generate_data(n_train_data)\n",
    "x_test, y_test = generate_data(n_test_data)\n",
    "x_plot, y_plot = generate_data(n_plot_data, latent=True)"
   ]
  },
  {
   "cell_type": "code",
   "execution_count": null,
   "id": "16111093-9d8b-421f-bc2b-bbad2924dd31",
   "metadata": {},
   "outputs": [],
   "source": [
    "fig, ax = plt.subplots()\n",
    "\n",
    "ax.scatter(x_train, y_train, color=\"tab:blue\", label=\"Train\")\n",
    "ax.scatter(x_test, y_test, color=\"red\", label=\"Test\")\n",
    "ax.plot(x_plot, y_plot, color=\"black\", label=\"True\")\n",
    "\n",
    "plt.legend()\n",
    "plt.show()"
   ]
  },
  {
   "cell_type": "markdown",
   "id": "d2fe439e-2bdc-4c21-a7be-5096f69abb76",
   "metadata": {},
   "source": [
    "## Model\n",
    "\n",
    "`[32, 32, 1]`\n",
    "\n",
    "In `keras`-like syntax:\n",
    "\n",
    "```python\n",
    "x = Dense(1, 32)(x)\n",
    "x = Tanh(x)\n",
    "x = Dense(32, 32)(x)\n",
    "x = Tanh(x)\n",
    "x = Dense(32, 1)(x)\n",
    "```"
   ]
  },
  {
   "cell_type": "markdown",
   "id": "b8e7e1b7-639c-4b08-8056-78a89d2ba40c",
   "metadata": {},
   "source": [
    "## Stax"
   ]
  },
  {
   "cell_type": "code",
   "execution_count": null,
   "id": "48f3642d-18c3-4c03-b3f0-681efca5bf35",
   "metadata": {},
   "outputs": [],
   "source": [
    "from jax.example_libraries import stax"
   ]
  },
  {
   "cell_type": "code",
   "execution_count": null,
   "id": "61fff067-d662-4a21-a8ef-9f9528ce8808",
   "metadata": {},
   "outputs": [],
   "source": [
    "def stax_net(hidden_dim, out_dim):\n",
    "    return stax.serial(\n",
    "        stax.Dense(hidden_dim),\n",
    "        stax.Tanh,\n",
    "        stax.Dense(hidden_dim),\n",
    "        stax.Tanh,\n",
    "        stax.Dense(out_dim),\n",
    "    )"
   ]
  },
  {
   "cell_type": "code",
   "execution_count": null,
   "id": "4296336f-8595-431c-988b-0f1aac3ba3f7",
   "metadata": {},
   "outputs": [],
   "source": [
    "def stax_model(x, y=None, batch_size=None):\n",
    "\n",
    "    if batch_size is None:\n",
    "        batch_size, *n_dims = x.shape\n",
    "    else:\n",
    "        n_dims = x.shape[1:]\n",
    "\n",
    "    # net = random_flax_module(\"nn\", module, dist.Normal(0, 0.1), input_shape=(batch_size, *n_dims))\n",
    "    net = numpyro.module(\"nn\", stax_net(64, 1), input_shape=(batch_size, *n_dims))\n",
    "    # net = flax_module(\"nn\", module, input_shape=())\n",
    "\n",
    "    with numpyro.plate(\"batch\", x.shape[0], subsample_size=batch_size):\n",
    "\n",
    "        batch_x = numpyro.subsample(x, event_dim=1)\n",
    "\n",
    "        batch_y = numpyro.subsample(y, event_dim=1) if y is not None else None\n",
    "\n",
    "        mean = net(batch_x)\n",
    "\n",
    "        return numpyro.sample(\n",
    "            \"obs\", dist.Normal(loc=mean, scale=0.01).to_event(1), obs=batch_y\n",
    "        )"
   ]
  },
  {
   "cell_type": "code",
   "execution_count": null,
   "id": "b80bc292-957d-49e9-8f7c-dc9480cc7990",
   "metadata": {},
   "outputs": [],
   "source": [
    "with numpyro.handlers.seed(rng_seed=0):\n",
    "\n",
    "    y_pred = stax_model(x_train, batch_size=None)\n",
    "\n",
    "assert y_pred.shape == x_train.shape\n",
    "\n",
    "# BATCH SIZE\n",
    "batch_size = 32\n",
    "with numpyro.handlers.seed(rng_seed=0):\n",
    "\n",
    "    y_pred = stax_model(x_train, batch_size=batch_size)\n",
    "\n",
    "assert y_pred.shape == x_train[:batch_size].shape\n",
    "\n",
    "# Conditional\n",
    "with numpyro.handlers.seed(rng_seed=0):\n",
    "\n",
    "    y_pred = stax_model(x_train, y_train)\n",
    "\n",
    "np.testing.assert_array_almost_equal(y_pred, y_train)\n",
    "\n",
    "\n",
    "# Conditional + BATCH SIZE\n",
    "with numpyro.handlers.seed(rng_seed=0):\n",
    "\n",
    "    y_pred = stax_model(x_train, y_train, batch_size=batch_size)\n",
    "\n",
    "np.testing.assert_equal(y_pred.shape, y_train[:batch_size].shape)"
   ]
  },
  {
   "cell_type": "code",
   "execution_count": null,
   "id": "8e0b3f44-6b01-4327-914d-c3f9571803c6",
   "metadata": {},
   "outputs": [],
   "source": [
    "guide = autoguide.AutoDelta(stax_model, init_loc_fn=init_to_feasible)\n",
    "\n",
    "svi = SVI(stax_model, guide, numpyro.optim.Adam(5e-3), TraceMeanField_ELBO())\n",
    "\n",
    "n_iterations = 10_000\n",
    "\n",
    "svi_result = svi.run(\n",
    "    random.PRNGKey(0), n_iterations, x=x_train, y=y_train, batch_size=256\n",
    ")\n",
    "\n",
    "params, losses = svi_result.params, svi_result.losses"
   ]
  },
  {
   "cell_type": "code",
   "execution_count": null,
   "id": "9e8a2db9-320e-40b7-b1a6-4b1a433a6149",
   "metadata": {},
   "outputs": [],
   "source": [
    "predictive = Predictive(stax_model, guide=guide, params=params, num_samples=1000)"
   ]
  },
  {
   "cell_type": "code",
   "execution_count": null,
   "id": "ddf6aefd-ef5c-443e-9c1b-ae25cf22a6a7",
   "metadata": {},
   "outputs": [],
   "source": [
    "y_pred = predictive(random.PRNGKey(1), x_plot)[\"obs\"].copy()\n",
    "\n",
    "y_upper, y_mu, y_lower = np.quantile(y_pred, [0.05, 0.5, 0.95], axis=0)"
   ]
  },
  {
   "cell_type": "code",
   "execution_count": null,
   "id": "b23c44ec-b5ca-4785-97eb-7f47b4b30919",
   "metadata": {},
   "outputs": [],
   "source": [
    "fig, ax = plt.subplots()\n",
    "\n",
    "ax.scatter(x_train, y_train, color=\"tab:blue\", label=\"Train\")\n",
    "ax.scatter(x_test, y_test, color=\"red\", label=\"Test\")\n",
    "plt.plot(x_plot, y_mu, color=\"black\", label=\"Predictions\")\n",
    "plt.plot(x_plot, y_upper, color=\"tab:orange\", label=\"upper bound\")\n",
    "plt.plot(x_plot, y_lower, color=\"tab:orange\", label=\"lower bound\")\n",
    "# ax.plot(x_plot, y_plot, color='black', label='True')\n",
    "\n",
    "plt.legend()\n",
    "plt.show()"
   ]
  },
  {
   "cell_type": "markdown",
   "id": "f10451f6-d08a-4889-8ddf-fada39e584bc",
   "metadata": {},
   "source": [
    "## Flax"
   ]
  },
  {
   "cell_type": "code",
   "execution_count": null,
   "id": "f7963a2a-8c96-4627-8462-9a990e33a5c1",
   "metadata": {},
   "outputs": [],
   "source": [
    "class Net(nn.Module):\n",
    "\n",
    "    n_units: int\n",
    "\n",
    "    @nn.compact\n",
    "    def __call__(self, x):\n",
    "\n",
    "        x = nn.Dense(self.n_units)(x)\n",
    "\n",
    "        x = nn.tanh(x)\n",
    "\n",
    "        x = nn.Dense(self.n_units)(x)\n",
    "\n",
    "        x = nn.tanh(x)\n",
    "\n",
    "        mean = nn.Dense(1)(x)\n",
    "\n",
    "        return mean"
   ]
  },
  {
   "cell_type": "code",
   "execution_count": null,
   "id": "30ebf2ac-fa1f-4899-a4cb-abe0b88d3561",
   "metadata": {},
   "outputs": [],
   "source": [
    "def flax_model(x, y=None, batch_size=None):\n",
    "\n",
    "    module = Net(n_units=32)\n",
    "    if batch_size is None:\n",
    "        batch_size, *n_dims = x.shape\n",
    "    else:\n",
    "        n_dims = x.shape[1:]\n",
    "\n",
    "    # net = random_flax_module(\"nn\", module, dist.Normal(0, 0.1), input_shape=(batch_size, *n_dims))\n",
    "    net = flax_module(\"nn\", module, input_shape=(batch_size, *n_dims))\n",
    "    # net = flax_module(\"nn\", module, input_shape=())\n",
    "\n",
    "    with numpyro.plate(\"batch\", x.shape[0], subsample_size=batch_size):\n",
    "\n",
    "        batch_x = numpyro.subsample(x, event_dim=1)\n",
    "\n",
    "        batch_y = numpyro.subsample(y, event_dim=1) if y is not None else None\n",
    "\n",
    "        mean = net(batch_x)\n",
    "\n",
    "        return numpyro.sample(\n",
    "            \"obs\", dist.Normal(loc=mean, scale=0.01).to_event(1), obs=batch_y\n",
    "        )"
   ]
  },
  {
   "cell_type": "code",
   "execution_count": null,
   "id": "da7da19b-6f8c-4bc9-978b-b405591c6c62",
   "metadata": {},
   "outputs": [],
   "source": [
    "with numpyro.handlers.seed(rng_seed=0):\n",
    "\n",
    "    y_pred = flax_model(x_train, batch_size=x_train.shape[0])\n",
    "\n",
    "assert y_pred.shape == x_train.shape\n",
    "\n",
    "with numpyro.handlers.seed(rng_seed=0):\n",
    "\n",
    "    y_pred = flax_model(x_train, y_train)\n",
    "\n",
    "np.testing.assert_array_almost_equal(y_pred, y_train)"
   ]
  },
  {
   "cell_type": "code",
   "execution_count": null,
   "id": "e50a2876-9721-47df-8765-b9c90ebf2d5d",
   "metadata": {},
   "outputs": [],
   "source": [
    "guide = autoguide.AutoDelta(flax_model, init_loc_fn=init_to_feasible)\n",
    "\n",
    "svi = SVI(flax_model, guide, numpyro.optim.Adam(5e-3), TraceMeanField_ELBO())\n",
    "\n",
    "n_iterations = 10_000\n",
    "\n",
    "svi_result = svi.run(random.PRNGKey(0), n_iterations, x_train, y_train, batch_size=256)\n",
    "\n",
    "params, losses = svi_result.params, svi_result.losses\n",
    "\n",
    "\n",
    "# predictive = Predictive(model, guide=guide, params=params, num_samples=1000)\n",
    "\n",
    "# y_pred = predictive(random.PRNGKey(1), x_plt)[\"obs\"].copy()\n",
    "\n",
    "# assert losses[-1] < 3000\n",
    "\n",
    "# assert np.sqrt(np.mean(np.square(y_test - y_pred))) < 1"
   ]
  },
  {
   "cell_type": "code",
   "execution_count": null,
   "id": "25704a5a-42a4-4f48-a751-1d2e65030ba0",
   "metadata": {},
   "outputs": [],
   "source": [
    "predictive = Predictive(flax_model, guide=guide, params=params, num_samples=1000)"
   ]
  },
  {
   "cell_type": "code",
   "execution_count": null,
   "id": "ba57fa33-13b3-4014-92c8-9ae14a20f36a",
   "metadata": {},
   "outputs": [],
   "source": [
    "y_pred = predictive(random.PRNGKey(1), x_plot)[\"obs\"].copy()"
   ]
  },
  {
   "cell_type": "code",
   "execution_count": null,
   "id": "ae95a01e-da67-4fa1-831c-ce828e368e6d",
   "metadata": {},
   "outputs": [],
   "source": [
    "y_upper, y_mu, y_lower = np.quantile(y_pred, [0.05, 0.5, 0.95], axis=0)"
   ]
  },
  {
   "cell_type": "code",
   "execution_count": null,
   "id": "06358bdc-c637-4afb-8be7-5784e8dcc940",
   "metadata": {},
   "outputs": [],
   "source": [
    "fig, ax = plt.subplots()\n",
    "\n",
    "ax.scatter(x_train, y_train, color=\"tab:blue\", label=\"Train\")\n",
    "ax.scatter(x_test, y_test, color=\"red\", label=\"Test\")\n",
    "plt.plot(x_plot, y_mu, color=\"black\", label=\"Predictions\")\n",
    "plt.plot(x_plot, y_upper, color=\"tab:orange\", label=\"upper bound\")\n",
    "plt.plot(x_plot, y_lower, color=\"tab:orange\", label=\"lower bound\")\n",
    "# ax.plot(x_plot, y_plot, color='black', label='True')\n",
    "\n",
    "plt.legend()\n",
    "plt.show()"
   ]
  },
  {
   "cell_type": "markdown",
   "id": "a40265ec-74d8-4c14-8aeb-2d6829799c9f",
   "metadata": {},
   "source": [
    "## Equinox"
   ]
  },
  {
   "cell_type": "code",
   "execution_count": null,
   "id": "5bbc183a-6aa3-4e17-a731-e8c6fa044124",
   "metadata": {},
   "outputs": [],
   "source": [
    "import equinox as eqx\n",
    "import jax\n",
    "from typing import Optional"
   ]
  },
  {
   "cell_type": "code",
   "execution_count": null,
   "id": "2670b5ce-8192-44d0-b66b-a072fa6925dd",
   "metadata": {},
   "outputs": [],
   "source": [
    "class Tanh(eqx.Module):\n",
    "    def __call__(self, x, *, key: Optional[\"jax.random.PRNGKey\"] = None):\n",
    "\n",
    "        return jax.nn.tanh(x)"
   ]
  },
  {
   "cell_type": "code",
   "execution_count": null,
   "id": "203b5142-2a37-4d11-8f2f-2c9600296dfb",
   "metadata": {},
   "outputs": [],
   "source": [
    "mlp = eqx.nn.MLP(\n",
    "    in_size=1,\n",
    "    out_size=1,\n",
    "    width_size=32,\n",
    "    depth=2,\n",
    "    activation=Tanh(),\n",
    "    final_activation=eqx.nn.Identity(),\n",
    "    key=jax.random.PRNGKey(42),\n",
    ")"
   ]
  },
  {
   "cell_type": "code",
   "execution_count": null,
   "id": "7be9eabd-5707-4640-bd22-88558161f584",
   "metadata": {},
   "outputs": [],
   "source": [
    "out = jax.vmap(mlp)(x_train)\n",
    "out.shape"
   ]
  },
  {
   "cell_type": "code",
   "execution_count": null,
   "id": "9e5ba9ee-516d-4bc7-9d40-f13bb7849161",
   "metadata": {},
   "outputs": [],
   "source": [
    "def make_eq_net(in_size=1, out_size=1, hidden_dim=32, depth=2, activation=Tanh()):\n",
    "\n",
    "    mlp = eqx.nn.MLP(\n",
    "        in_size=in_size,\n",
    "        out_size=out_size,\n",
    "        width_size=hidden_dim,\n",
    "        depth=depth,\n",
    "        activation=activation,\n",
    "        final_activation=eqx.nn.Identity(),\n",
    "        key=jax.random.PRNGKey(42),\n",
    "    )\n",
    "    params, static = eqx.partition(mlp, eqx.is_inexact_array)\n",
    "\n",
    "    print(\"here!\")\n",
    "\n",
    "    # init function for compatibility\n",
    "    def init_fn(rng=None, input_shape=None):\n",
    "        print(\"init!\")\n",
    "        return None, params\n",
    "\n",
    "    def apply_fn(_params, x):\n",
    "        print(\"apply\")\n",
    "        print(x.shape)\n",
    "        model = eqx.combine(_params, static)\n",
    "        # return jax.vmap(model)(x)\n",
    "        return model(x)\n",
    "\n",
    "    return init_fn, apply_fn"
   ]
  },
  {
   "cell_type": "code",
   "execution_count": null,
   "id": "dade9713-a0be-49ab-a4ee-c993fe3f993a",
   "metadata": {},
   "outputs": [],
   "source": [
    "init_fn, apply_fn = stax_net(1, 1)"
   ]
  },
  {
   "cell_type": "code",
   "execution_count": null,
   "id": "ea25d8d0-33cb-4350-b77c-7c443b1aa2a6",
   "metadata": {},
   "outputs": [],
   "source": [
    "out = init_fn(jax.random.PRNGKey(45), x_train.shape)\n",
    "out"
   ]
  },
  {
   "cell_type": "code",
   "execution_count": null,
   "id": "1f1a7ace-dbc1-4b39-a877-056d43ea2243",
   "metadata": {},
   "outputs": [],
   "source": [
    "init_fn, apply_fn = make_eq_net()"
   ]
  },
  {
   "cell_type": "code",
   "execution_count": null,
   "id": "df108433-70c7-4971-bd4d-cddd04eff7f1",
   "metadata": {},
   "outputs": [],
   "source": [
    "_, params = init_fn()\n",
    "\n",
    "out = apply_fn(params, x_train[:32])\n",
    "out.shape"
   ]
  },
  {
   "cell_type": "code",
   "execution_count": null,
   "id": "11a75454-b3a5-4a79-b973-40310b522700",
   "metadata": {},
   "outputs": [],
   "source": [
    "import functools\n",
    "\n",
    "\n",
    "def my_module(name, nn, input_shape=None):\n",
    "    \"\"\"\n",
    "    Declare a :mod:`~jax.example_libraries.stax` style neural network inside a\n",
    "    model so that its parameters are registered for optimization via\n",
    "    :func:`~numpyro.primitives.param` statements.\n",
    "\n",
    "    :param str name: name of the module to be registered.\n",
    "    :param tuple nn: a tuple of `(init_fn, apply_fn)` obtained by a :mod:`~jax.example_libraries.stax`\n",
    "        constructor function.\n",
    "    :param tuple input_shape: shape of the input taken by the\n",
    "        neural network.\n",
    "    :return: a `apply_fn` with bound parameters that takes an array\n",
    "        as an input and returns the neural network transformed output\n",
    "        array.\n",
    "    \"\"\"\n",
    "    print(\"here!\")\n",
    "    module_key = name + \"$params\"\n",
    "    nn_init, nn_apply = nn\n",
    "    nn_params = numpyro.param(module_key)\n",
    "    if nn_params is None:\n",
    "        if input_shape is None:\n",
    "            raise ValueError(\"Valid value for `input_shape` needed to initialize.\")\n",
    "        rng_key = numpyro.prng_key()\n",
    "        _, nn_params = nn_init(rng_key, input_shape)\n",
    "        print(nn_params)\n",
    "        numpyro.param(module_key, nn_params)\n",
    "    return functools.partial(nn_apply, nn_params)"
   ]
  },
  {
   "cell_type": "code",
   "execution_count": null,
   "id": "f318675a-188e-44ae-a100-1439ef30dc38",
   "metadata": {},
   "outputs": [],
   "source": [
    "def eqx_model(x, y=None, batch_size=None):\n",
    "\n",
    "    if batch_size is None:\n",
    "        batch_size, *n_dims = x.shape\n",
    "    else:\n",
    "        n_dims = x.shape[1:]\n",
    "\n",
    "    eqx_net = make_eq_net(1, 1, 32, 2, Tanh())\n",
    "    # net = random_flax_module(\"nn\", module, dist.Normal(0, 0.1), input_shape=(batch_size, *n_dims))\n",
    "    input_shape = (batch_size, *n_dims)\n",
    "    print(input_shape)\n",
    "    net = my_module(\"nn\", eqx_net, input_shape=input_shape)\n",
    "    # net = flax_module(\"nn\", module, input_shape=())\n",
    "\n",
    "    with numpyro.plate(\"batch\", x.shape[0], subsample_size=batch_size):\n",
    "\n",
    "        batch_x = numpyro.subsample(x, event_dim=1)\n",
    "\n",
    "        batch_y = numpyro.subsample(y, event_dim=1) if y is not None else None\n",
    "\n",
    "        print(\"heyyy:\")\n",
    "\n",
    "        mean = net(batch_x)\n",
    "\n",
    "        return numpyro.sample(\n",
    "            \"obs\", dist.Normal(loc=mean, scale=0.01).to_event(1), obs=batch_y\n",
    "        )"
   ]
  },
  {
   "cell_type": "code",
   "execution_count": null,
   "id": "0e8e8497-c1fd-4756-a5af-98fa6c99fb3b",
   "metadata": {},
   "outputs": [],
   "source": [
    "with numpyro.handlers.seed(rng_seed=0):\n",
    "\n",
    "    y_pred = eqx_model(x_train, batch_size=x_train.shape[0])\n",
    "\n",
    "assert y_pred.shape == x_train.shape\n",
    "\n",
    "with numpyro.handlers.seed(rng_seed=0):\n",
    "\n",
    "    y_pred = eqx_model(x_train, y_train)\n",
    "\n",
    "np.testing.assert_array_almost_equal(y_pred, y_train)"
   ]
  },
  {
   "cell_type": "code",
   "execution_count": null,
   "id": "911a941d-0e7c-41fb-9bdb-fcc878c4c1f2",
   "metadata": {},
   "outputs": [],
   "source": [
    "guide = autoguide.AutoDelta(flax_model, init_loc_fn=init_to_feasible)\n",
    "\n",
    "svi = SVI(flax_model, guide, numpyro.optim.Adam(5e-3), TraceMeanField_ELBO())\n",
    "\n",
    "n_iterations = 10_000\n",
    "\n",
    "svi_result = svi.run(random.PRNGKey(0), n_iterations, x_train, y_train, batch_size=256)\n",
    "\n",
    "params, losses = svi_result.params, svi_result.losses\n",
    "\n",
    "\n",
    "# predictive = Predictive(model, guide=guide, params=params, num_samples=1000)\n",
    "\n",
    "# y_pred = predictive(random.PRNGKey(1), x_plt)[\"obs\"].copy()\n",
    "\n",
    "# assert losses[-1] < 3000\n",
    "\n",
    "# assert np.sqrt(np.mean(np.square(y_test - y_pred))) < 1"
   ]
  },
  {
   "cell_type": "code",
   "execution_count": null,
   "id": "c9fede84-b42d-45c0-af55-62a3b055f24a",
   "metadata": {},
   "outputs": [],
   "source": [
    "predictive = Predictive(flax_model, guide=guide, params=params, num_samples=1000)"
   ]
  },
  {
   "cell_type": "code",
   "execution_count": null,
   "id": "4923b31c-6311-40f6-bbb7-99951334dc2a",
   "metadata": {},
   "outputs": [],
   "source": [
    "y_pred = predictive(random.PRNGKey(1), x_plot)[\"obs\"].copy()"
   ]
  },
  {
   "cell_type": "code",
   "execution_count": null,
   "id": "02565233-9763-4847-abcb-5411bd47f31a",
   "metadata": {},
   "outputs": [],
   "source": [
    "y_upper, y_mu, y_lower = np.quantile(y_pred, [0.05, 0.5, 0.95], axis=0)"
   ]
  },
  {
   "cell_type": "code",
   "execution_count": null,
   "id": "c6181909-f71e-4c8e-b0f8-5f84c5bc5a79",
   "metadata": {},
   "outputs": [],
   "source": [
    "fig, ax = plt.subplots()\n",
    "\n",
    "ax.scatter(x_train, y_train, color=\"tab:blue\", label=\"Train\")\n",
    "ax.scatter(x_test, y_test, color=\"red\", label=\"Test\")\n",
    "plt.plot(x_plot, y_mu, color=\"black\", label=\"Predictions\")\n",
    "plt.plot(x_plot, y_upper, color=\"tab:orange\", label=\"upper bound\")\n",
    "plt.plot(x_plot, y_lower, color=\"tab:orange\", label=\"lower bound\")\n",
    "# ax.plot(x_plot, y_plot, color='black', label='True')\n",
    "\n",
    "plt.legend()\n",
    "plt.show()"
   ]
  },
  {
   "cell_type": "code",
   "execution_count": null,
   "id": "66636993-d0f6-40b5-8bd5-5db0cad8d818",
   "metadata": {},
   "outputs": [],
   "source": []
  }
 ],
 "metadata": {
  "kernelspec": {
   "display_name": "Python [conda env:jax_py39]",
   "language": "python",
   "name": "conda-env-jax_py39-py"
  },
  "language_info": {
   "codemirror_mode": {
    "name": "ipython",
    "version": 3
   },
   "file_extension": ".py",
   "mimetype": "text/x-python",
   "name": "python",
   "nbconvert_exporter": "python",
   "pygments_lexer": "ipython3",
   "version": "3.9.13"
  }
 },
 "nbformat": 4,
 "nbformat_minor": 5
}
