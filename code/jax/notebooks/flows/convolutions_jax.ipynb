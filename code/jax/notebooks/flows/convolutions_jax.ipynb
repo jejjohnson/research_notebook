{
 "cells": [
  {
   "cell_type": "code",
   "execution_count": null,
   "id": "5b73bb17-f73f-4749-84b0-24340366abf9",
   "metadata": {},
   "outputs": [],
   "source": [
    "import equinox as eq\n",
    "import jax\n",
    "from jax import lax\n",
    "from jax._src.api import linear_transpose, ShapeDtypeStruct\n",
    "import jax.numpy as jnp\n",
    "import numpy as np\n",
    "from skimage import data\n",
    "import matplotlib.pyplot as plt\n",
    "from einops import repeat, rearrange"
   ]
  },
  {
   "cell_type": "code",
   "execution_count": null,
   "id": "fe5dd6f3-a51c-4e1b-9f80-b3a62c9e5891",
   "metadata": {},
   "outputs": [],
   "source": [
    "img = data.astronaut()"
   ]
  },
  {
   "cell_type": "code",
   "execution_count": null,
   "id": "c495f787",
   "metadata": {},
   "outputs": [],
   "source": [
    "img.min(), img.max(), img.dtype"
   ]
  },
  {
   "cell_type": "code",
   "execution_count": null,
   "id": "d4992e39-251e-4711-8f99-657d7de6e556",
   "metadata": {},
   "outputs": [],
   "source": [
    "fig, ax = plt.subplots()\n",
    "\n",
    "ax.imshow(img)\n",
    "\n",
    "plt.show()"
   ]
  },
  {
   "cell_type": "code",
   "execution_count": null,
   "id": "130a306c",
   "metadata": {},
   "outputs": [],
   "source": [
    "img.shape"
   ]
  },
  {
   "cell_type": "markdown",
   "id": "ca3c9a13-d81a-40b2-b69f-e4cbe8921036",
   "metadata": {},
   "source": [
    "### Reshape"
   ]
  },
  {
   "cell_type": "code",
   "execution_count": null,
   "id": "b5160f7b",
   "metadata": {},
   "outputs": [],
   "source": [
    "def squeeze(x, factor=2):\n",
    "\n",
    "    assert x.ndim == 4\n",
    "    b, h, w, c = x.shape\n",
    "\n",
    "    assert h % factor == 0\n",
    "    assert w % factor == 0\n",
    "\n",
    "    x = rearrange(\n",
    "        x,\n",
    "        \"b (h fh) (w fw) c -> b h w (fh fw c)\",\n",
    "        b=b,\n",
    "        c=c,\n",
    "        h=h // factor,\n",
    "        w=w // factor,\n",
    "        fh=factor,\n",
    "        fw=factor,\n",
    "    )\n",
    "\n",
    "    return x\n",
    "\n",
    "\n",
    "def unsqueeze(x, factor=2):\n",
    "    assert x.ndim == 4\n",
    "    b, h, w, c = x.shape\n",
    "\n",
    "    x = rearrange(\n",
    "        x,\n",
    "        \"b h w (fh fw c) -> b (h fh) (w fw) c\",\n",
    "        b=b,\n",
    "        c=(c // factor**2),\n",
    "        h=h,\n",
    "        w=w,\n",
    "        fh=factor,\n",
    "        fw=factor,\n",
    "    )\n",
    "\n",
    "    return x\n",
    "\n",
    "\n",
    "class Squeeze2D(eq.Module):\n",
    "    factor: eq.static_field()\n",
    "\n",
    "    def __init__(self, factor: int):\n",
    "        self.factor = factor\n",
    "\n",
    "    def __call__(self, x, *, key):\n",
    "        return self.transform(x)\n",
    "\n",
    "    def transform(self, x):\n",
    "        return squeeze(x, self.factor)\n",
    "\n",
    "    def inverse(self, x):\n",
    "        return unsqueeze(x, self.factor)"
   ]
  },
  {
   "cell_type": "code",
   "execution_count": null,
   "id": "9b3f8bb6-f688-485f-9f31-751489008c36",
   "metadata": {},
   "outputs": [],
   "source": [
    "# def squeeze(x, factor=2):\n",
    "\n",
    "#     assert x.ndim == 4\n",
    "#     b, h, w, c = x.shape\n",
    "\n",
    "#     assert h % factor == 0\n",
    "#     assert w % factor == 0\n",
    "\n",
    "#     x = rearrange(\n",
    "#         x,\n",
    "#         \"b (h fh) (w fw) c -> b h w (fh fw c)\",\n",
    "#         b=b, c=c, h=h//factor, w=w//factor, fh=factor, fw=factor\n",
    "#     )\n",
    "\n",
    "#     return x\n",
    "\n",
    "# def unsqueeze(x, factor=2):\n",
    "#     assert x.ndim == 4\n",
    "#     b, h, w, c = x.shape\n",
    "\n",
    "#     x = rearrange(\n",
    "#         x,\n",
    "#         \"b h w (fh fw c) -> b (h fh) (w fw) c\",\n",
    "#         b=b, c=(c//factor**2), h=h, w=w, fh=factor, fw=factor\n",
    "#     )\n",
    "\n",
    "#     return x\n",
    "\n",
    "# def squeeze(x, factor=2):\n",
    "#     assert x.ndim == 4\n",
    "#     b, h, w, c = x.shape\n",
    "\n",
    "#     assert h % factor == 0\n",
    "#     assert w % factor == 0\n",
    "\n",
    "#     x = jnp.reshape(x, (b, h//factor, factor, w//factor, factor, c))\n",
    "#     x = jnp.transpose(x, axes=(0, 1, 3, 5, 2, 4))\n",
    "#     x = jnp.reshape(x, (b, h//factor, w//factor, c * factor **2))\n",
    "\n",
    "#     return x\n",
    "\n",
    "# def unsqueeze(x, factor=2):\n",
    "#     assert x.ndim == 4\n",
    "#     b, h, w, c = x.shape\n",
    "\n",
    "#     x = jnp.reshape(x, (b, h, w, c // factor ** 2, factor, factor))\n",
    "#     x = jnp.transpose(x, axes=(0, 1, 4, 2, 5, 3))\n",
    "#     x = jnp.reshape(x, (b, h*factor, w*factor, c // factor ** 2))\n",
    "#     return x"
   ]
  },
  {
   "cell_type": "code",
   "execution_count": null,
   "id": "7b5e50e9",
   "metadata": {},
   "outputs": [],
   "source": [
    "reshape_layer = Squeeze2D(factor=2)\n",
    "\n",
    "z = reshape_layer.transform(x)\n",
    "\n",
    "x_ = reshape_layer.inverse(z)\n",
    "\n",
    "np.testing.assert_array_equal(x, x_)\n",
    "\n",
    "print(x.shape, z.shape, x_.shape)"
   ]
  },
  {
   "cell_type": "code",
   "execution_count": null,
   "id": "20589b66",
   "metadata": {},
   "outputs": [],
   "source": [
    "img_squeeze = z.astype(np.uint8)"
   ]
  },
  {
   "cell_type": "code",
   "execution_count": null,
   "id": "a7defff8",
   "metadata": {},
   "outputs": [],
   "source": [
    "img_squeeze.min(), img_squeeze.max(), img_squeeze.dtype, img_squeeze.shape, type(\n",
    "    img_squeeze\n",
    ")"
   ]
  },
  {
   "cell_type": "code",
   "execution_count": null,
   "id": "aea2bb65-e5fb-41c1-81ac-cda20a4e645f",
   "metadata": {},
   "outputs": [],
   "source": [
    "fig, axs = plt.subplots(nrows=2, ncols=2, figsize=(10, 10))\n",
    "\n",
    "axs[0, 0].imshow(img_squeeze[0, ..., :3])\n",
    "axs[0, 1].imshow(img_squeeze[0, ..., 3:6])\n",
    "axs[1, 0].imshow(img_squeeze[0, ..., 6:9])\n",
    "axs[1, 1].imshow(img_squeeze[0, ..., 9:12])\n",
    "plt.show()"
   ]
  },
  {
   "cell_type": "markdown",
   "id": "7941aefc-6adf-4d17-b1a7-fae7f69f362e",
   "metadata": {},
   "source": [
    "## DownSample"
   ]
  },
  {
   "cell_type": "code",
   "execution_count": null,
   "id": "81ab3c47",
   "metadata": {},
   "outputs": [],
   "source": [
    "class IRev(eq.Module):\n",
    "    kernel: jnp.ndarray\n",
    "    input_shape: eq.static_field()\n",
    "\n",
    "    def __init__(self, input_shape, key, n_channels: int = 3):\n",
    "\n",
    "        b, c, h, w = input_shape\n",
    "        kernel = np.ones((4, 1, 2, 2))\n",
    "        kernel[1, 0, 0, 1] = -1\n",
    "        kernel[1, 0, 1, 1] = -1\n",
    "\n",
    "        kernel[2, 0, 1, 0] = -1\n",
    "        kernel[2, 0, 1, 1] = -1\n",
    "\n",
    "        kernel[3, 0, 1, 0] = -1\n",
    "        kernel[3, 0, 0, 1] = -1\n",
    "        kernel *= 0.5\n",
    "        # kernel[0, 0, 0, 0] = 1\n",
    "        # kernel[1, 0, 0, 1] = 1\n",
    "        # kernel[2, 0, 1, 0] = 1\n",
    "        # kernel[3, 0, 1, 1] = 1\n",
    "\n",
    "        kernel = np.concatenate([kernel] * c, 0)\n",
    "        self.kernel = jnp.asarray(kernel, dtype=jnp.float32)\n",
    "        self.input_shape = input_shape\n",
    "\n",
    "    def __call__(self, x, *, key=None):\n",
    "        return x\n",
    "\n",
    "    def forward(self, x):\n",
    "        print(\"hi!:\", self.input_shape, x.shape, self.kernel.shape)\n",
    "\n",
    "        def fwd(x):\n",
    "            dn = lax.conv_dimension_numbers(\n",
    "                self.input_shape,  # only ndim matters, not shape\n",
    "                self.kernel.shape,  # only ndim matters, not shape\n",
    "                (\"NCHW\", \"OIHW\", \"NCHW\"),\n",
    "            )  # the important bit\n",
    "\n",
    "            return lax.conv_general_dilated(\n",
    "                lhs=x,  # lhs = image tensor\n",
    "                rhs=self.kernel,  # rhs = conv kernel tensor\n",
    "                window_strides=(2, 2),  # window strides\n",
    "                padding=\"VALID\",  # padding mode\n",
    "                lhs_dilation=(1, 1),  # lhs/image dilation\n",
    "                rhs_dilation=(1, 1),  # rhs/kernel dilation\n",
    "                dimension_numbers=dn,\n",
    "                feature_group_count=3,\n",
    "            )\n",
    "\n",
    "        return fwd(x)\n",
    "\n",
    "    def inverse(self, x):\n",
    "\n",
    "        print(\"hi!:\", self.input_shape, x.shape, self.kernel.shape)\n",
    "\n",
    "        def fwd(x):\n",
    "            dn = lax.conv_dimension_numbers(\n",
    "                self.input_shape,  # only ndim matters, not shape\n",
    "                self.kernel.shape,  # only ndim matters, not shape\n",
    "                (\"NCHW\", \"OIHW\", \"NCHW\"),\n",
    "            )  # the important bit\n",
    "\n",
    "            return lax.conv_general_dilated(\n",
    "                lhs=x,  # lhs = image tensor\n",
    "                rhs=self.kernel,  # rhs = conv kernel tensor\n",
    "                window_strides=(2, 2),  # window strides\n",
    "                padding=\"VALID\",  # padding mode\n",
    "                lhs_dilation=(1, 1),  # lhs/image dilation\n",
    "                rhs_dilation=(1, 1),  # rhs/kernel dilation\n",
    "                dimension_numbers=dn,\n",
    "                feature_group_count=3,\n",
    "            )\n",
    "\n",
    "        dummy_primal = ShapeDtypeStruct(self.input_shape, x.dtype)\n",
    "        transpose = linear_transpose(fwd, dummy_primal)\n",
    "        (z,) = transpose(x)\n",
    "        return z"
   ]
  },
  {
   "cell_type": "code",
   "execution_count": null,
   "id": "3a096dbe",
   "metadata": {},
   "outputs": [],
   "source": [
    "x_batch = rearrange(x, \"b h w c -> b c h w\")\n",
    "\n",
    "layer = IRev(x_batch.shape, None)\n",
    "\n",
    "z = layer.forward(x_batch.astype(jnp.float32))\n",
    "# z = jax.vmap(layer.forward)(x.astype(jnp.float32))\n",
    "x_batch_ = layer.inverse(z)\n",
    "\n",
    "img_squeeze = rearrange(z, \"b c h w ->b h w c\").astype(np.uint8)\n",
    "\n",
    "np.testing.assert_array_almost_equal(x_batch, x_batch_)\n",
    "\n",
    "print(x_batch.shape, z.shape, x_batch_.shape, img_squeeze.shape)"
   ]
  },
  {
   "cell_type": "code",
   "execution_count": null,
   "id": "339416d5",
   "metadata": {},
   "outputs": [],
   "source": [
    "img_squeeze.min(), img_squeeze.max()"
   ]
  },
  {
   "cell_type": "code",
   "execution_count": null,
   "id": "2b60e106",
   "metadata": {},
   "outputs": [],
   "source": [
    "img_squeeze"
   ]
  },
  {
   "cell_type": "code",
   "execution_count": null,
   "id": "af08da6f",
   "metadata": {},
   "outputs": [],
   "source": [
    "fig, axs = plt.subplots(nrows=2, ncols=2, figsize=(10, 10))\n",
    "\n",
    "axs[0, 0].imshow(img_squeeze[0, ..., :3])\n",
    "axs[0, 1].imshow(img_squeeze[0, ..., 3:6])\n",
    "axs[1, 0].imshow(img_squeeze[0, ..., 6:9])\n",
    "axs[1, 1].imshow(img_squeeze[0, ..., 9:12])\n",
    "plt.show()"
   ]
  },
  {
   "cell_type": "code",
   "execution_count": null,
   "id": "b35a6470",
   "metadata": {},
   "outputs": [],
   "source": [
    "b, h, w, c = x.shape\n",
    "\n",
    "kernel = np.ones((4, 1, 2, 2))\n",
    "kernel[1, 0, 0, 1] = 1\n",
    "kernel[1, 0, 0, 1] = 1\n",
    "\n",
    "kernel[2, 0, 1, 0] = 1\n",
    "kernel[2, 0, 1, 1] = 1\n",
    "\n",
    "kernel = np.concatenate([kernel] * 3, 0).astype(np.float32)\n",
    "\n",
    "# kernel[3, 0, 1, 0] = -1\n",
    "# kernel[3, 0, 0, 1] = -1"
   ]
  },
  {
   "cell_type": "code",
   "execution_count": null,
   "id": "bbe092eb-fe4a-4648-a111-33a5c88afd19",
   "metadata": {},
   "outputs": [],
   "source": [
    "b, h, w, c = x.shape\n",
    "\n",
    "kernel = np.ones((4, 1, 2, 2))\n",
    "kernel[1, 0, 0, 1] = -1\n",
    "kernel[1, 0, 1, 1] = -1\n",
    "\n",
    "kernel[2, 0, 1, 0] = -1\n",
    "kernel[2, 0, 1, 1] = -1\n",
    "\n",
    "kernel[3, 0, 1, 0] = -1\n",
    "kernel[3, 0, 0, 1] = -1\n",
    "\n",
    "\n",
    "kernel = np.concatenate([kernel] * 3, 0).astype(np.float32)\n",
    "# kernel = jnp.asarray(kernel).transpose([1, 2, 3, 0])\n",
    "# kernel = jnp.asarray(kernel).transpose([1,0,2,3])\n",
    "\n",
    "kernel.shape"
   ]
  },
  {
   "cell_type": "code",
   "execution_count": null,
   "id": "cd3accff",
   "metadata": {},
   "outputs": [],
   "source": [
    "type(jnp.transpose(x[0], axes=(2, 0, 1))), jnp.transpose(x[0], axes=(2, 0, 1)).dtype"
   ]
  },
  {
   "cell_type": "code",
   "execution_count": null,
   "id": "1454c5f6",
   "metadata": {},
   "outputs": [],
   "source": [
    "layer_forward = eq.nn.Conv2d(\n",
    "    in_channels=3,\n",
    "    out_channels=12,\n",
    "    kernel_size=(2, 2),\n",
    "    use_bias=False,\n",
    "    stride=(2, 2),\n",
    "    padding=0,\n",
    "    groups=3,\n",
    "    key=jax.random.PRNGKey(123),\n",
    ")\n",
    "\n",
    "# layer_forward.weight = kernel\n",
    "img_squeeze = layer_forward(jnp.transpose(x[0], axes=(2, 0, 1)).astype(jnp.float32))\n",
    "\n",
    "img_squeeze = rearrange(img_squeeze, \"c h w -> 1 h w c\").astype(np.uint8)\n",
    "img_squeeze.shape, layer_forward.weight.shape"
   ]
  },
  {
   "cell_type": "code",
   "execution_count": null,
   "id": "62a7cc09",
   "metadata": {},
   "outputs": [],
   "source": [
    "fig, axs = plt.subplots(nrows=2, ncols=2, figsize=(10, 10))\n",
    "\n",
    "axs[0, 0].imshow(img_squeeze[0, ..., :3])\n",
    "axs[0, 1].imshow(img_squeeze[0, ..., 3:6])\n",
    "axs[1, 0].imshow(img_squeeze[0, ..., 6:9])\n",
    "axs[1, 1].imshow(img_squeeze[0, ..., 9:12])\n",
    "plt.show()"
   ]
  },
  {
   "cell_type": "code",
   "execution_count": null,
   "id": "12fd172c",
   "metadata": {},
   "outputs": [],
   "source": [
    "layer_forward.weight.shape"
   ]
  },
  {
   "cell_type": "code",
   "execution_count": null,
   "id": "96a9d5fa-8984-4d15-99a5-3b14c8d3fe77",
   "metadata": {},
   "outputs": [],
   "source": [
    "print(img.shape)\n",
    "x_torch = x.transpose([0, 3, 1, 2]).astype(jnp.float32)\n",
    "x_torch.shape"
   ]
  },
  {
   "cell_type": "code",
   "execution_count": null,
   "id": "a065306f-d6b1-4a6e-800f-4009412ef021",
   "metadata": {},
   "outputs": [],
   "source": [
    "# NHWC layout\n",
    "img = jnp.zeros((1, 200, 200, 3), dtype=jnp.float32)\n",
    "for k in range(3):\n",
    "    x = 30 + 60 * k\n",
    "    y = 20 + 60 * k\n",
    "    img = img.at[0, x : x + 10, y : y + 10, k].set(1.0)\n",
    "\n",
    "print(\"out shape: \", img.shape, \" <-- original shape\")\n",
    "print(\"Original Image:\")\n",
    "plt.imshow(img[0]);"
   ]
  },
  {
   "cell_type": "code",
   "execution_count": null,
   "id": "ea1634d8-4aff-443e-9324-484b86ce5861",
   "metadata": {},
   "outputs": [],
   "source": [
    "img[0].min(), img[1].max()"
   ]
  },
  {
   "cell_type": "code",
   "execution_count": null,
   "id": "8e97aa01-fd00-4554-947c-2269863ed1c6",
   "metadata": {},
   "outputs": [],
   "source": [
    "# 2D kernel - HWIO layout\n",
    "kernel = jnp.zeros((3, 3, 3, 3), dtype=jnp.float32)\n",
    "kernel += jnp.array([[1, 1, 0], [1, 0, -1], [0, -1, -1]])[\n",
    "    :, :, jnp.newaxis, jnp.newaxis\n",
    "]\n",
    "\n",
    "print(\"Edge Conv kernel:\")\n",
    "plt.imshow(kernel[:, :, 0, 0]);"
   ]
  },
  {
   "cell_type": "code",
   "execution_count": null,
   "id": "bc53c5fd-5a62-41cc-b33e-9297f79f4336",
   "metadata": {},
   "outputs": [],
   "source": [
    "dn = lax.conv_dimension_numbers(\n",
    "    img.shape,  # only ndim matters, not shape\n",
    "    kernel.shape,  # only ndim matters, not shape\n",
    "    (\"NHWC\", \"HWIO\", \"NHWC\"),\n",
    ")  # the important bit\n",
    "print(dn)"
   ]
  },
  {
   "cell_type": "code",
   "execution_count": null,
   "id": "f16442ab-5644-4317-905a-0444f4553320",
   "metadata": {},
   "outputs": [],
   "source": [
    "out = lax.conv_general_dilated(\n",
    "    img,  # lhs = image tensor\n",
    "    kernel,  # rhs = conv kernel tensor\n",
    "    (2, 2),  # window strides\n",
    "    \"SAME\",  # padding mode\n",
    "    (1, 1),  # lhs/image dilation\n",
    "    (1, 1),  # rhs/kernel dilation\n",
    "    dn,\n",
    ")  # dimension_numbers = lhs, rhs, out dimension permutation\n",
    "print(\"out shape: \", out.shape, \" <-- half the size of above\")\n",
    "plt.figure(figsize=(5, 5))\n",
    "print(\"First output channel:\")\n",
    "plt.imshow(np.array(out)[0, :, :, 0]);"
   ]
  },
  {
   "cell_type": "code",
   "execution_count": null,
   "id": "def72c97-d5fe-40f6-858c-041d91ee2281",
   "metadata": {},
   "outputs": [],
   "source": [
    "out.min(), out.max()"
   ]
  },
  {
   "cell_type": "markdown",
   "id": "a8b644ed-96a5-4404-ba1d-9b9a8e1c8990",
   "metadata": {},
   "source": [
    "### Transpose"
   ]
  },
  {
   "cell_type": "code",
   "execution_count": null,
   "id": "830dc846-b423-484f-8f75-e529defdcdbd",
   "metadata": {},
   "outputs": [],
   "source": [
    "kernel.shape"
   ]
  },
  {
   "cell_type": "code",
   "execution_count": null,
   "id": "56ce4c69-8037-4b11-97ac-f946880b3cbb",
   "metadata": {},
   "outputs": [],
   "source": [
    "# The following is equivalent to tensorflow:\n",
    "# N,H,W,C = img.shape\n",
    "# out = tf.nn.conv2d_transpose(img, kernel, (N,2*H,2*W,C), (1,2,2,1))\n",
    "\n",
    "# transposed conv = 180deg kernel roation plus LHS dilation\n",
    "# rotate kernel 180deg:\n",
    "kernel_rot = kernel  # jnp.rot90(jnp.rot90(kernel, axes=(0,1)), axes=(0,1))\n",
    "# need a custom output padding:\n",
    "padding = ((2, 1), (2, 1))\n",
    "\n",
    "img_ori = lax.conv_general_dilated(\n",
    "    out,  # lhs = image tensor\n",
    "    kernel,  # rhs = conv kernel tensor\n",
    "    (1, 1),  # window strides\n",
    "    padding,  # padding mode\n",
    "    (2, 2),  # lhs/image dilation\n",
    "    (1, 1),  # rhs/kernel dilation\n",
    "    dn,\n",
    ")  # dimension_numbers = lhs, rhs, out dimension permutation\n",
    "print(\"out shape: \", img_ori.shape, \"<-- larger than original!\")\n",
    "plt.figure(figsize=(5, 5))\n",
    "print(\"First output channel:\")\n",
    "print(\"Original Image:\")\n",
    "plt.imshow(img_ori[0].astype(np.uint8));"
   ]
  },
  {
   "cell_type": "code",
   "execution_count": null,
   "id": "308d8b8b-426d-4002-848e-d23499b544c5",
   "metadata": {},
   "outputs": [],
   "source": [
    "img_ori.min(), img_ori.max()"
   ]
  },
  {
   "cell_type": "code",
   "execution_count": null,
   "id": "c3b1017c-4e80-4039-bf8c-036be59ab136",
   "metadata": {},
   "outputs": [],
   "source": []
  },
  {
   "cell_type": "code",
   "execution_count": null,
   "id": "6604ff8d-b90f-46d9-bec0-6f449a72420f",
   "metadata": {},
   "outputs": [],
   "source": [
    "img_ori[0].min(), img_ori[0].max(), img[0].min(), img[0].max()"
   ]
  },
  {
   "cell_type": "code",
   "execution_count": null,
   "id": "42319994-5a70-4296-859f-dc9d3fdac96a",
   "metadata": {},
   "outputs": [],
   "source": [
    "img_ori.shape\n",
    "from einops import rearrange"
   ]
  },
  {
   "cell_type": "code",
   "execution_count": null,
   "id": "99c0f982-f692-42aa-885a-3f1751878dbb",
   "metadata": {},
   "outputs": [],
   "source": [
    "b, h, w, c = x.shape\n",
    "\n",
    "kernel = np.ones((4, 1, 2, 2))\n",
    "kernel[1, 0, 0, 1] = -1\n",
    "kernel[1, 0, 1, 1] = -1\n",
    "\n",
    "kernel[2, 0, 1, 0] = -1\n",
    "kernel[2, 0, 1, 1] = -1\n",
    "\n",
    "kernel[3, 0, 1, 0] = -1\n",
    "kernel[3, 0, 0, 1] = -1\n",
    "kernel *= 0.5\n",
    "\n",
    "kernel = np.concatenate([kernel] * 3, 0)\n",
    "# kernel = jnp.asarray(kernel).transpose([1, 2, 3, 0])\n",
    "# kernel = jnp.asarray(kernel).transpose([1,0,2,3])\n",
    "# kernel = repeat(kernel, \"A 1 B C -> A 3 B C\")\n",
    "kernel = kernel.astype(np.float32)\n",
    "kernel.shape"
   ]
  },
  {
   "cell_type": "code",
   "execution_count": null,
   "id": "e7e8014e-a038-49ff-b522-46ffd1adb01e",
   "metadata": {},
   "outputs": [],
   "source": [
    "print(img.shape)\n",
    "x_torch = x.transpose([0, 3, 1, 2]).astype(jnp.float32)\n",
    "x_torch.shape"
   ]
  },
  {
   "cell_type": "code",
   "execution_count": null,
   "id": "275a262b-4d35-4970-9c84-c7543690eb65",
   "metadata": {},
   "outputs": [],
   "source": [
    "from jax import lax\n",
    "\n",
    "dn = lax.conv_dimension_numbers(\n",
    "    x.shape,  # only ndim matters, not shape\n",
    "    kernel.shape,  # only ndim matters, not shape\n",
    "    (\"NCHW\", \"OIHW\", \"NCHW\"),\n",
    ")  # the important bit\n",
    "print(dn)"
   ]
  },
  {
   "cell_type": "code",
   "execution_count": null,
   "id": "5a7c2d08-6004-4692-aaf0-f80fb04a7752",
   "metadata": {},
   "outputs": [],
   "source": [
    "x_torch.shape, kernel.shape"
   ]
  },
  {
   "cell_type": "code",
   "execution_count": null,
   "id": "10230917-54b9-47db-8d5f-f7c35a6f2eac",
   "metadata": {},
   "outputs": [],
   "source": [
    "x_squeezed = lax.conv(\n",
    "    lhs=x_torch,  # lhs = image tensor\n",
    "    rhs=kernel,  # rhs = conv kernel tensor\n",
    "    window_strides=(2, 2),  # window strides\n",
    "    padding=\"SAME\",  # padding mode\n",
    ")  # dimension_numbers = lhs, rhs, out dimension permutation"
   ]
  },
  {
   "cell_type": "code",
   "execution_count": null,
   "id": "75a05fd0-80b0-4df2-bffe-dc9b85f5fd89",
   "metadata": {},
   "outputs": [],
   "source": [
    "x_squeezed.shape"
   ]
  },
  {
   "cell_type": "code",
   "execution_count": null,
   "id": "be54a229-dd60-421c-8cb2-d07bc1180295",
   "metadata": {},
   "outputs": [],
   "source": [
    "x_squeezed = lax.conv_general_dilated(\n",
    "    lhs=x_torch,  # lhs = image tensor\n",
    "    rhs=kernel,  # rhs = conv kernel tensor\n",
    "    window_strides=(2, 2),  # window strides\n",
    "    padding=\"SAME\",  # padding mode\n",
    "    lhs_dilation=(1, 1),  # lhs/image dilation\n",
    "    rhs_dilation=(1, 1),  # rhs/kernel dilation\n",
    "    dimension_numbers=dn,\n",
    "    feature_group_count=3,\n",
    ")  # dimension_numbers = lhs, rhs, out dimension permutation"
   ]
  },
  {
   "cell_type": "code",
   "execution_count": null,
   "id": "b2c31593-9254-4493-9ce0-69ff158db700",
   "metadata": {},
   "outputs": [],
   "source": [
    "x_squeezed.min(), x_squeezed.max()"
   ]
  },
  {
   "cell_type": "code",
   "execution_count": null,
   "id": "06e431ce-d6ef-4aad-a44c-1c9625458754",
   "metadata": {},
   "outputs": [],
   "source": [
    "from sklearn.preprocessing import MinMaxScaler"
   ]
  },
  {
   "cell_type": "code",
   "execution_count": null,
   "id": "d9d07eb6-d615-42f5-9796-8a6a50e03630",
   "metadata": {},
   "outputs": [],
   "source": [
    "x_squeezed = (\n",
    "    MinMaxScaler((0.0, 255.0)).fit_transform(x_squeezed.ravel()[:, None]).ravel()\n",
    ")\n",
    "x_squeezed = x_squeezed.reshape((1, 12, 256, 256))"
   ]
  },
  {
   "cell_type": "code",
   "execution_count": null,
   "id": "8f41beb0-55a3-4894-9e07-6ef8468e62ac",
   "metadata": {},
   "outputs": [],
   "source": [
    "fig, axs = plt.subplots(nrows=2, ncols=2, figsize=(10, 10))\n",
    "\n",
    "axs[0, 0].imshow(x_squeezed[0, 0::4, ...].transpose([1, 2, 0]).astype(np.uint8))\n",
    "axs[0, 1].imshow(x_squeezed[0, 1::4, ...].transpose([1, 2, 0]).astype(np.uint8))\n",
    "axs[1, 0].imshow(x_squeezed[0, 2::4, ...].transpose([1, 2, 0]).astype(np.uint8))\n",
    "axs[1, 1].imshow(x_squeezed[0, 3::4, ...].transpose([1, 2, 0]).astype(np.uint8))\n",
    "plt.show()"
   ]
  },
  {
   "cell_type": "code",
   "execution_count": null,
   "id": "51daf6ae-0fbd-452f-b6ae-9e2cff38ede8",
   "metadata": {},
   "outputs": [],
   "source": [
    "x_torch.shape, x_squeezed.shape,"
   ]
  },
  {
   "cell_type": "code",
   "execution_count": null,
   "id": "21dd8e34-1a59-45c2-9d11-1a2596f35ad4",
   "metadata": {},
   "outputs": [],
   "source": [
    "kernel.shape, kernel.transpose([1, 0, 2, 3]).shape"
   ]
  },
  {
   "cell_type": "code",
   "execution_count": null,
   "id": "cd194616-73e0-43e8-b22e-2699a0f0d13a",
   "metadata": {},
   "outputs": [],
   "source": [
    "# np.testing.assert_array_equal(kernel_rot, kernel.transpose([1, 0, 2, 3]))"
   ]
  },
  {
   "cell_type": "code",
   "execution_count": null,
   "id": "ab457bd0-d832-49e7-a1c1-35d82b591337",
   "metadata": {},
   "outputs": [],
   "source": [
    "dn = lax.conv_dimension_numbers(\n",
    "    x.shape,  # only ndim matters, not shape\n",
    "    kernel.shape,  # only ndim matters, not shape\n",
    "    (\"NCHW\", \"OIHW\", \"NCHW\"),\n",
    ")  # the important bit\n",
    "print(dn)\n",
    "\n",
    "# kernel_rot = jnp.rot90(jnp.rot90(kernel, axes=(2,3)), axes=(2,3))\n",
    "padding = ((1, 1), (1, 1))\n",
    "# padding = \"SAME\"\n",
    "x_torch_ori = lax.conv_general_dilated(\n",
    "    lhs=x_squeezed,  # lhs = image tensor\n",
    "    rhs=kernel,  # rhs = conv kernel tensor\n",
    "    window_strides=(1, 1),  # window strides\n",
    "    padding=padding,  # padding mode\n",
    "    lhs_dilation=(2, 2),  # lhs/image dilation\n",
    "    rhs_dilation=(1, 1),  # rhs/kernel dilation\n",
    "    dimension_numbers=dn,\n",
    "    feature_group_count=3,\n",
    ")  # dimension_numbers = lhs, rhs, out dimension permutation\n",
    "\n",
    "# x_torch_ori = lax.conv_general_dilated(\n",
    "#     lhs=x_squeezed,    # lhs = image tensor\n",
    "#     rhs=kernel, # rhs = conv kernel tensor\n",
    "#     window_strides=(1,1),  # window strides\n",
    "#     padding=((0, 0), (0, 0)), # padding mode\n",
    "#     lhs_dilation=(2,2),  # lhs/image dilation\n",
    "#     rhs_dilation=(1,1),  # rhs/kernel dilation\n",
    "#     dimension_numbers=dn,\n",
    "#     feature_group_count=3\n",
    "# )     # dimension_numbers = lhs, rhs, out dimension permutation"
   ]
  },
  {
   "cell_type": "code",
   "execution_count": null,
   "id": "7a32aac8-3505-4b55-819a-59dee5ad359b",
   "metadata": {},
   "outputs": [],
   "source": [
    "x_torch_ori.shape,"
   ]
  },
  {
   "cell_type": "code",
   "execution_count": null,
   "id": "ebb6eeac-c94c-4067-a7c8-1f4cbe2b5cd0",
   "metadata": {},
   "outputs": [],
   "source": [
    "x_torch.min(), x_torch.max(), x_torch_ori.min(), x_torch_ori.max()"
   ]
  },
  {
   "cell_type": "code",
   "execution_count": null,
   "id": "c90eb5fe-7281-49b2-a7b9-6fdfb5e3cb92",
   "metadata": {},
   "outputs": [],
   "source": [
    "fig, ax = plt.subplots()\n",
    "\n",
    "ax.imshow(x_torch_ori.squeeze().transpose([1, 2, 0]))\n",
    "\n",
    "plt.show()"
   ]
  },
  {
   "cell_type": "code",
   "execution_count": null,
   "id": "d3962b75-21ca-4cde-a53b-3bc0a6e826fd",
   "metadata": {},
   "outputs": [],
   "source": [
    "x_torch_ori.shape"
   ]
  },
  {
   "cell_type": "code",
   "execution_count": null,
   "id": "66ce0645-dd3c-47f0-a82a-3bac8b1f3762",
   "metadata": {},
   "outputs": [],
   "source": []
  },
  {
   "cell_type": "code",
   "execution_count": null,
   "id": "f37ffdfd-5fb7-49cc-9e4d-db30b5118e72",
   "metadata": {},
   "outputs": [],
   "source": [
    "out_inv = lax.conv_transpose(\n",
    "    out,  # lhs = image tensor\n",
    "    kernel,  # rhs = conv kernel tensor\n",
    "    strides=(2, 2),  # window strides\n",
    "    padding=\"SAME\",  # padding mode\n",
    "    rhs_dilation=(1, 1),  # lhs/image dilation\n",
    "    dimension_numbers=dn,\n",
    ")  # dimension_numbers = lhs, rhs, out dimension permutation\n",
    "out_inv.shape"
   ]
  },
  {
   "cell_type": "code",
   "execution_count": null,
   "id": "cdf861e5-04fc-45a6-b132-64039bc4fb48",
   "metadata": {},
   "outputs": [],
   "source": [
    "out = lax.conv(\n",
    "    lhs=x_torch,  # lhs = NCHW image tensor\n",
    "    rhs=kernel,  # rhs = OIHW conv kernel tensor\n",
    "    window_strides=(1, 1),  # window strides\n",
    "    padding=\"SAME\",\n",
    "    # dn\n",
    ")  # padding mode"
   ]
  },
  {
   "cell_type": "code",
   "execution_count": null,
   "id": "7c70aa9f-bb30-4ce7-b542-f5c04488a838",
   "metadata": {},
   "outputs": [],
   "source": []
  }
 ],
 "metadata": {
  "kernelspec": {
   "display_name": "Python 3.9.13 ('jax_py39')",
   "language": "python",
   "name": "python3"
  },
  "language_info": {
   "codemirror_mode": {
    "name": "ipython",
    "version": 3
   },
   "file_extension": ".py",
   "mimetype": "text/x-python",
   "name": "python",
   "nbconvert_exporter": "python",
   "pygments_lexer": "ipython3",
   "version": "3.9.13"
  },
  "vscode": {
   "interpreter": {
    "hash": "1871fb65463515066d24df0aa24099cf11da79caf11aaca17da573fefcceb3df"
   }
  }
 },
 "nbformat": 4,
 "nbformat_minor": 5
}
