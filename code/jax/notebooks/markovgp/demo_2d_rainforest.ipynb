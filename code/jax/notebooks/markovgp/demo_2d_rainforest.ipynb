{
 "cells": [
  {
   "cell_type": "markdown",
   "id": "b52e3dfe-c471-4299-8ed5-32604de9aafb",
   "metadata": {},
   "source": [
    "# Demo - 2D Data"
   ]
  },
  {
   "cell_type": "code",
   "execution_count": null,
   "id": "a1649918-81e6-45e5-9702-0cb6f27852d3",
   "metadata": {},
   "outputs": [],
   "source": [
    "import pandas as pd\n",
    "import numpy as np\n",
    "from bayesnewton.utils import discretegrid\n",
    "import bayesnewton\n",
    "import objax\n",
    "import numpy as np\n",
    "import matplotlib.pyplot as plt\n",
    "import matplotlib.cm as cm\n",
    "import time\n",
    "from tqdm.notebook import trange, tqdm\n",
    "\n",
    "# import tikzplotlib\n",
    "\n",
    "rng = np.random.RandomState(123)"
   ]
  },
  {
   "cell_type": "code",
   "execution_count": null,
   "id": "9ac66980-d448-4200-a5fe-f08a5f6baa92",
   "metadata": {},
   "outputs": [],
   "source": [
    "url = \"https://raw.githubusercontent.com/AaltoML/BayesNewton/main/data/TRI2TU-data.csv\"\n",
    "\n",
    "# data = np.loadtxt(url, delimiter=\",\")\n",
    "data = pd.read_csv(url, header=None)\n",
    "\n",
    "print(data.head(10))\n",
    "print(data.describe())\n",
    "\n",
    "data = data.values"
   ]
  },
  {
   "cell_type": "code",
   "execution_count": null,
   "id": "98c8ef86-736f-46b6-84dc-9b0c1fe1bc22",
   "metadata": {},
   "outputs": [],
   "source": [
    "num_data, num_dim = data.shape\n",
    "print(f\"Num Data: {num_data:,}\")\n",
    "print(f\"Num Dims: {num_dim}\")"
   ]
  },
  {
   "cell_type": "code",
   "execution_count": null,
   "id": "f86dc05b-9402-4ba5-a37a-ef15082d36b9",
   "metadata": {},
   "outputs": [],
   "source": [
    "data[:10]"
   ]
  },
  {
   "cell_type": "code",
   "execution_count": null,
   "id": "d87804f8-bf7c-4efc-9c00-57868d577858",
   "metadata": {},
   "outputs": [],
   "source": [
    "# spatial grid point (y-axis)\n",
    "nx = 50\n",
    "ny = 30\n",
    "print(f\"Grid Points (x): {nx}\")\n",
    "\n",
    "# temporal grid point (x-axis)\n",
    "nt = 100\n",
    "print(f\"Grid Points (t): {nt}\")\n",
    "\n",
    "# binsize (delta t)\n",
    "binsize = 1000 / nt\n",
    "\n",
    "print(f\"Delta t: {int(binsize)}\")\n",
    "\n",
    "# total # of data points\n",
    "N = nx * nt\n",
    "\n",
    "print(f\"Data Points (Grid): {N:,}\")"
   ]
  },
  {
   "cell_type": "code",
   "execution_count": null,
   "id": "f39ea8cc-43d8-4d6a-a935-65cc3d0bc71a",
   "metadata": {},
   "outputs": [],
   "source": [
    "t, r, Y_ = bayesnewton.utils.discretegrid(data, [0, 1000, 0, 500], [nt, nx, ny])\n",
    "t.shape, r.shape, Y_.shape"
   ]
  },
  {
   "cell_type": "code",
   "execution_count": null,
   "id": "2e375a10-83df-4ae7-b8ae-5a2cb5dad94d",
   "metadata": {},
   "outputs": [],
   "source": [
    "r"
   ]
  },
  {
   "cell_type": "markdown",
   "id": "f0249ca1-3c10-41c7-80d3-f3757dc163b7",
   "metadata": {},
   "source": [
    "### Grids"
   ]
  },
  {
   "cell_type": "code",
   "execution_count": null,
   "id": "b8384a06-6306-483a-8a67-200556a3e1d9",
   "metadata": {},
   "outputs": [],
   "source": [
    "# spatial grid point (y-axis)\n",
    "nr = 50\n",
    "\n",
    "# temporal grid point (x-axis)\n",
    "nt = 100\n",
    "\n",
    "# binsize (delta t)\n",
    "binsize = 1000 / nt\n",
    "\n",
    "# total # of data points\n",
    "N = nr * nt"
   ]
  },
  {
   "cell_type": "code",
   "execution_count": null,
   "id": "511469e2-02ce-401b-9173-147442f13bf5",
   "metadata": {},
   "outputs": [],
   "source": []
  },
  {
   "cell_type": "code",
   "execution_count": null,
   "id": "0548bea7-db3f-424e-828b-a839e7d544cf",
   "metadata": {},
   "outputs": [],
   "source": [
    "t, r, Y_ = bayesnewton.utils.discretegrid(data, [0, 1000, 0, 500], [nt, nr])"
   ]
  },
  {
   "cell_type": "code",
   "execution_count": null,
   "id": "c21b5349-1df5-403b-88de-8b53d8e275ca",
   "metadata": {},
   "outputs": [],
   "source": [
    "t.shape, r.shape, Y_.shape"
   ]
  },
  {
   "cell_type": "code",
   "execution_count": null,
   "id": "aa61bbb2-2159-4c98-b6d2-cf0a930f97b3",
   "metadata": {},
   "outputs": [],
   "source": [
    "t_flat, r_flat, Y_flat = t.flatten(), r.flatten(), Y_.flatten()\n",
    "\n",
    "t_flat.shape, r_flat.shape, Y_flat.shape"
   ]
  },
  {
   "cell_type": "markdown",
   "id": "3292b241-7d5e-493d-b18c-da9d865e7fa8",
   "metadata": {},
   "source": [
    "### Viz - Tree Locations"
   ]
  },
  {
   "cell_type": "code",
   "execution_count": null,
   "id": "11d3b9a0-6808-4ed8-be39-7675bacc649b",
   "metadata": {},
   "outputs": [],
   "source": [
    "fig, ax = plt.subplots(figsize=(10, 5))\n",
    "\n",
    "ax.plot(data[:, 0], data[:, 1], \"k.\", markersize=2)\n",
    "\n",
    "ax.set(title=\"Tree Locations (Observations)\", xlim=[0, 1_000], ylim=[0, 500])\n",
    "\n",
    "plt.show()"
   ]
  },
  {
   "cell_type": "markdown",
   "id": "649211be-0671-469a-b632-a24cafe2cb00",
   "metadata": {},
   "source": [
    "### Viz - Training Grid"
   ]
  },
  {
   "cell_type": "code",
   "execution_count": null,
   "id": "33134e56-ef4f-4410-846f-448df776252c",
   "metadata": {},
   "outputs": [],
   "source": [
    "fig, ax = plt.subplots(figsize=(10, 5))\n",
    "im = ax.imshow(Y_.T / binsize, extent=[0, 1_000, 0, 500], cmap=cm.viridis)\n",
    "ax.set(title=\"Tree Count Data (Full)\")\n",
    "plt.colorbar(im, fraction=0.0235, pad=0.04)\n",
    "plt.show()"
   ]
  },
  {
   "cell_type": "markdown",
   "id": "b97a04d7-c300-4185-b4ee-865662fc0edd",
   "metadata": {},
   "source": [
    "## Train-Test Split"
   ]
  },
  {
   "cell_type": "code",
   "execution_count": null,
   "id": "fac5d42a-2866-4668-bd0d-b422a6befe84",
   "metadata": {},
   "outputs": [],
   "source": [
    "# create random test indices\n",
    "test_ind = rng.permutation(N)[: N // 10]\n",
    "\n",
    "# subset data\n",
    "t_test = t_flat[test_ind]\n",
    "r_test = r_flat[test_ind]\n",
    "Y_test = Y_flat[test_ind]\n",
    "\n",
    "Y_flat[test_ind] = np.nan\n",
    "\n",
    "Y = Y_flat.reshape(nt, nr)"
   ]
  },
  {
   "cell_type": "code",
   "execution_count": null,
   "id": "ae4fd603-915a-4c6f-9356-c0dd1b3f94d8",
   "metadata": {},
   "outputs": [],
   "source": [
    "fig, ax = plt.subplots(figsize=(10, 5))\n",
    "im = ax.imshow(Y / binsize, extent=[0, 1_000, 0, 500], cmap=cm.viridis)\n",
    "ax.set(title=\"Tree Count Data (Full)\")\n",
    "plt.colorbar(im, fraction=0.0235, pad=0.04)\n",
    "plt.show()"
   ]
  },
  {
   "cell_type": "code",
   "execution_count": null,
   "id": "84e39b73-e958-4f15-8967-43f4ce9d78b9",
   "metadata": {},
   "outputs": [],
   "source": [
    "# put test points on a grid to speed up prediction\n",
    "X_test = np.concatenate([t_test[:, None], r_test[:, None]], axis=1)\n",
    "print(X_test.shape, Y_test.shape)"
   ]
  },
  {
   "cell_type": "code",
   "execution_count": null,
   "id": "869094eb-bf62-434c-a0a9-84e0493b4cea",
   "metadata": {},
   "outputs": [],
   "source": [
    "# X_test"
   ]
  },
  {
   "cell_type": "code",
   "execution_count": null,
   "id": "865ced67-ef20-487c-9690-84189a3343f9",
   "metadata": {},
   "outputs": [],
   "source": [
    "t_test, r_test, Y_test = bayesnewton.utils.create_spatiotemporal_grid(X_test, Y_test)\n",
    "t_test.shape, r_test.shape, Y_test.shape"
   ]
  },
  {
   "cell_type": "code",
   "execution_count": null,
   "id": "6fd73e29-f5f5-43dd-8c45-56b63cc081d9",
   "metadata": {},
   "outputs": [],
   "source": [
    "t.shape, t_test.shape"
   ]
  },
  {
   "cell_type": "code",
   "execution_count": null,
   "id": "fa7ac26b-447f-428e-a39c-3e4e12bcdf35",
   "metadata": {},
   "outputs": [],
   "source": [
    "t.shape, r.shape, Y.shape"
   ]
  },
  {
   "cell_type": "markdown",
   "id": "9eb6749f-0d83-45d0-8b01-89d355b2bc7c",
   "metadata": {},
   "source": [
    "## Model"
   ]
  },
  {
   "cell_type": "code",
   "execution_count": null,
   "id": "e8445e26-38da-46dc-92a3-cdf27ef4ae93",
   "metadata": {},
   "outputs": [],
   "source": [
    "var_f = 1.0  # GP variance\n",
    "len_f = 20.0  # lengthscale\n",
    "\n",
    "# kern = bayesnewton.kernels.SpatialMatern32(variance=var_f, lengthscale=len_f, z=r[0, ...], sparse=False)\n",
    "kern = bayesnewton.kernels.SpatialMatern32(\n",
    "    variance=var_f, lengthscale=len_f, z=r[0, ...], sparse=True\n",
    ")\n",
    "lik = bayesnewton.likelihoods.Poisson(binsize=binsize)\n",
    "# lik = bayesnewton.likelihoods.Gaussian(variance=1)\n",
    "# model = bayesnewton.models.VariationalGP(kernel=kern, likelihood=lik, X=x, Y=Y)\n",
    "model = bayesnewton.models.MarkovVariationalGP(\n",
    "    kernel=kern, likelihood=lik, X=t, R=r, Y=Y\n",
    ")\n",
    "# model = bayesnewton.models.MarkovVariationalGP(kernel=kern, likelihood=lik, X=t_flat, R=r_flat, Y=Y_flat)\n",
    "# model = bayesnewton.models.InfiniteHorizonVariationalGP(kernel=kern, likelihood=lik, X=t, R=r, Y=Y)\n",
    "# model = bayesnewton.models.MarkovVariationalGPMeanField(kernel=kern, likelihood=lik, X=t, R=r, Y=Y)"
   ]
  },
  {
   "cell_type": "markdown",
   "id": "7630dffc-d0a4-4936-900c-e5632ffc3341",
   "metadata": {},
   "source": [
    "## Training"
   ]
  },
  {
   "cell_type": "markdown",
   "id": "58a758cf-2c52-4100-94b6-70d1373f9d36",
   "metadata": {},
   "source": [
    "### Optimizer"
   ]
  },
  {
   "cell_type": "code",
   "execution_count": null,
   "id": "a5822b7f-1980-4655-a452-6874ca8d8e17",
   "metadata": {},
   "outputs": [],
   "source": [
    "lr_adam = 0.2\n",
    "lr_newton = 0.2\n",
    "iters = 10\n",
    "opt_hypers = objax.optimizer.Adam(model.vars())"
   ]
  },
  {
   "cell_type": "markdown",
   "id": "4d50e8d0-916b-4161-929a-f12796f26442",
   "metadata": {},
   "source": [
    "### Loss Function"
   ]
  },
  {
   "cell_type": "code",
   "execution_count": null,
   "id": "34993e11-f7fc-409d-b2d1-01a72d78da3e",
   "metadata": {},
   "outputs": [],
   "source": [
    "energy = objax.GradValues(model.energy, model.vars())"
   ]
  },
  {
   "cell_type": "markdown",
   "id": "3b94fe95-bb84-428b-a7bd-3dc9873dcabb",
   "metadata": {},
   "source": [
    "### Training Loop"
   ]
  },
  {
   "cell_type": "code",
   "execution_count": null,
   "id": "63aaf2f1-ca88-4912-89eb-4bc0416fe1e7",
   "metadata": {},
   "outputs": [],
   "source": [
    "@objax.Function.with_vars(model.vars() + opt_hypers.vars())\n",
    "def train_op():\n",
    "    model.inference(lr=lr_newton)  # perform inference and update variational params\n",
    "    dE, E = energy()  # compute energy and its gradients w.r.t. hypers\n",
    "    opt_hypers(lr_adam, dE)\n",
    "    test_nlpd_ = model.negative_log_predictive_density(X=t_test, R=r_test, Y=Y_test)\n",
    "    return E, test_nlpd_\n",
    "\n",
    "\n",
    "train_op = objax.Jit(train_op)"
   ]
  },
  {
   "cell_type": "markdown",
   "id": "b7ec9c09-0ebf-4477-ae09-d47910aad715",
   "metadata": {},
   "source": [
    "### Training"
   ]
  },
  {
   "cell_type": "code",
   "execution_count": null,
   "id": "5d244b1d-b741-4b6f-a097-c24032621370",
   "metadata": {},
   "outputs": [],
   "source": [
    "t0 = time.time()\n",
    "for i in trange(1, iters + 1):\n",
    "    loss, test_nlpd = train_op()\n",
    "    print(\"iter %2d, energy: %1.4f, nlpd: %1.4f\" % (i, loss[0], test_nlpd))\n",
    "t1 = time.time()\n",
    "print(\"optimisation time: %2.2f secs\" % (t1 - t0))"
   ]
  },
  {
   "cell_type": "markdown",
   "id": "05f7cbe9-e5e8-4dd7-bf6a-2dd3ae8841cb",
   "metadata": {},
   "source": [
    "## Results"
   ]
  },
  {
   "cell_type": "markdown",
   "id": "060d49f6-a0a9-480f-a071-b0473d7d7db1",
   "metadata": {},
   "source": [
    "### Loss Function"
   ]
  },
  {
   "cell_type": "code",
   "execution_count": null,
   "id": "820ba3c4-2a8c-44f7-b17a-bfcb60c656b2",
   "metadata": {},
   "outputs": [],
   "source": []
  },
  {
   "cell_type": "markdown",
   "id": "8173a6e5-fb3c-434e-b943-516d4148c6d5",
   "metadata": {},
   "source": [
    "### NLPD"
   ]
  },
  {
   "cell_type": "code",
   "execution_count": null,
   "id": "2486fe6b-3530-4fc1-bbee-6e726827e3ac",
   "metadata": {},
   "outputs": [],
   "source": [
    "%%time\n",
    "\n",
    "# calculate posterior predictive distribution via filtering and smoothing at train & test locations:\n",
    "print(\"calculating the posterior predictive distribution ...\")\n",
    "t0 = time.time()\n",
    "posterior_mean, posterior_var = model.predict(X=t, R=r)\n",
    "# posterior_mean_y, posterior_var_y = model.predict_y(X=t, R=r)\n",
    "nlpd = model.negative_log_predictive_density(X=t_test, R=r_test, Y=Y_test)\n",
    "t1 = time.time()\n",
    "print(\"prediction time: %2.2f secs\" % (t1 - t0))\n",
    "print(\"nlpd: %2.3f\" % nlpd)\n",
    "\n",
    "link_fn = lik.link_fn"
   ]
  },
  {
   "cell_type": "markdown",
   "id": "2005d613-b260-4398-944d-6f17d6f0eb05",
   "metadata": {},
   "source": [
    "### Viz - Results"
   ]
  },
  {
   "cell_type": "code",
   "execution_count": null,
   "id": "927a01e0-7114-42b2-996b-e555efe5be5b",
   "metadata": {},
   "outputs": [],
   "source": [
    "fig, ax = plt.subplots(figsize=(10, 5))\n",
    "im = ax.imshow(Y_.T / binsize, extent=[0, 1000, 0, 500], cmap=cm.viridis)\n",
    "ax.set(title=\"Tree Count Data (Full)\")\n",
    "plt.colorbar(im, fraction=0.0235, pad=0.04)\n",
    "plt.show()"
   ]
  },
  {
   "cell_type": "code",
   "execution_count": null,
   "id": "46b88c9d-a967-4d06-896c-c5c19ec63d97",
   "metadata": {},
   "outputs": [],
   "source": [
    "fig, ax = plt.subplots(figsize=(10, 5))\n",
    "im = plt.imshow(\n",
    "    link_fn(posterior_mean).T[::-1, :],\n",
    "    cmap=cm.viridis,\n",
    "    extent=[0, 1000, 0, 500],\n",
    "    origin=\"lower\",\n",
    ")\n",
    "# im = plt.imshow(posterior_mean_y.T, cmap=cmap, extent=[0, 1000, 0, 500], origin='lower')\n",
    "plt.colorbar(im, fraction=0.0235, pad=0.04)\n",
    "plt.xlim(0, 1000)\n",
    "plt.ylim(0, 500)\n",
    "# plt.title('2D log-Gaussian Cox process (rainforest tree data). Log-intensity shown.')\n",
    "plt.title(\n",
    "    \"2D log-Gaussian Cox process (rainforest tree data). Tree intensity per $m^2$.\"\n",
    ")\n",
    "plt.xlabel(\"first spatial dimension, $t$ (metres)\")\n",
    "plt.ylabel(\"second spatial dimension, $r$ (metres)\")"
   ]
  },
  {
   "cell_type": "code",
   "execution_count": null,
   "id": "75dea370-8222-4342-8d19-d5af421deab7",
   "metadata": {},
   "outputs": [],
   "source": []
  }
 ],
 "metadata": {
  "kernelspec": {
   "display_name": "Python [conda env:miniconda3-sci_jax_py39]",
   "language": "python",
   "name": "conda-env-miniconda3-sci_jax_py39-py"
  },
  "language_info": {
   "codemirror_mode": {
    "name": "ipython",
    "version": 3
   },
   "file_extension": ".py",
   "mimetype": "text/x-python",
   "name": "python",
   "nbconvert_exporter": "python",
   "pygments_lexer": "ipython3",
   "version": "3.9.7"
  }
 },
 "nbformat": 4,
 "nbformat_minor": 5
}
